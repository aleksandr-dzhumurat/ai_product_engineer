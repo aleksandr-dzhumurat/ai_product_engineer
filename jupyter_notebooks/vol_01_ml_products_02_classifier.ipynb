{
  "cells": [
    {
      "cell_type": "code",
      "execution_count": 1,
      "id": "17f22bfc-53d4-4254-a319-5791228c406b",
      "metadata": {
        "colab": {
          "base_uri": "https://localhost:8080/"
        },
        "id": "17f22bfc-53d4-4254-a319-5791228c406b",
        "outputId": "23c45eee-ea02-4eb5-e5ca-c8086a270c1e"
      },
      "outputs": [
        {
          "output_type": "stream",
          "name": "stdout",
          "text": [
            "Mounted at /content/drive\n",
            "Google drive connected\n",
            "Содержимое директории %s: %s /content/drive/MyDrive/ml_course_data ['nyt-ingredients-snapshot-2015.csv', 'insurance.csv', 'non_linear.csv', 'client_segmentation.csv', 'eigen.pkl', 'clustering.pkl', 'boosting_toy_dataset.csv', 'politic_meme.jpg', 'gray_goose.jpg', 'memes', 'optimal_push_time', 'sklearn_data', 'my_little_recsys', 'corpora', 'logs', 'nltk_data', 'recsys_data', 'MNIST', 'hymenoptera_data', 'pet_projects', 'ocr_dataset_sample.csv', 'geo_points.csv.gzip', 'scored_corpus.csv', 'labeled_data_corpus.csv', 'memes_stat_dataset.zip', 'als_model.pkl', 'raw_data.zip', 'json_views.tar.gz', 'sales_timeseries_dataset.csv.gz', 'brand_tweets_valid.csv', 'brand_tweets.csv', 'Health_and_Personal_Care.jsonl.gz', 'models', 'corpus_embeds_0.npy', 'final_dataset.zip', 'ocr_dataset.zip']\n"
          ]
        }
      ],
      "source": [
        "%load_ext autoreload\n",
        "%autoreload 2\n",
        "import os\n",
        "\n",
        "import numpy as np\n",
        "from google.colab import drive\n",
        "\n",
        "RANDOM_SEED = 42\n",
        "np.random.seed(RANDOM_SEED)  # гарантируем воспроизводимость\n",
        "\n",
        "run_env = os.getenv('RUN_ENV', 'COLLAB')\n",
        "if run_env == 'COLLAB':\n",
        "  from google.colab import drive\n",
        "  ROOT_DIR = '/content/drive'\n",
        "  drive.mount(ROOT_DIR)\n",
        "  print('Google drive connected')\n",
        "  DRIVE_DATA_DIR = 'ml_course_data'\n",
        "  root_data_dir = os.path.join(ROOT_DIR, 'MyDrive', DRIVE_DATA_DIR)\n",
        "else:\n",
        "  root_data_dir = os.getenv('DATA_DIR', '/srv/data')\n",
        "\n",
        "if not os.path.exists(root_data_dir):\n",
        "  raise RuntimeError('Отсутствует директория с данными')\n",
        "else:\n",
        "  print('Содержимое директории %s: %s', root_data_dir, os.listdir(root_data_dir))"
      ]
    },
    {
      "cell_type": "code",
      "execution_count": 5,
      "id": "6d91717a-c722-40ad-a61f-ef7b50d74721",
      "metadata": {
        "id": "6d91717a-c722-40ad-a61f-ef7b50d74721"
      },
      "outputs": [],
      "source": [
        "train_data_dir = root_data_dir"
      ]
    },
    {
      "cell_type": "code",
      "execution_count": 6,
      "id": "3478ac98-438f-409e-97db-913322a68566",
      "metadata": {
        "colab": {
          "base_uri": "https://localhost:8080/",
          "height": 412
        },
        "id": "3478ac98-438f-409e-97db-913322a68566",
        "outputId": "04227658-e8c6-48a5-c7c1-01e30a6db723"
      },
      "outputs": [
        {
          "output_type": "execute_result",
          "data": {
            "text/plain": [
              "   target       flr  sellerClearPrice  hour  ssp  dsp auctionBidFloorSource  \\\n",
              "0       0  5.455349         14.010879     0  157   76                    ml   \n",
              "1       0  4.250000          6.810017     0  157   80                    ml   \n",
              "2       0  0.691500          2.499842     8  157   76              rollouts   \n",
              "3       0  4.479847          3.356943    15  157   80              rollouts   \n",
              "4       0  0.691500          1.487904     9  157  122                    ml   \n",
              "\n",
              "          sdk   sdkver                                             bundle  \\\n",
              "0  BidMachine    2.1.5  gAAAAABmcEFTqdQlw0hfUdTmDmhGvCDApGMhNBnU3nIMJm...   \n",
              "1  BidMachine  2.4.0.2  gAAAAABmcEFTEPcMMU786QLAISLs22JucTR9XWAoRq7NAM...   \n",
              "2  BidMachine    2.5.0  gAAAAABmcEFTqdQlw0hfUdTmDmhGvCDApGMhNBnU3nIMJm...   \n",
              "3  BidMachine  2.4.0.2  gAAAAABmcEFTEPcMMU786QLAISLs22JucTR9XWAoRq7NAM...   \n",
              "4  BidMachine   1.9.10  gAAAAABmcEFTqdQlw0hfUdTmDmhGvCDApGMhNBnU3nIMJm...   \n",
              "\n",
              "   ... region request_context_device_w request_context_device_h  \\\n",
              "0  ...     ct                     1200                     2000   \n",
              "1  ...     mi                      393                      852   \n",
              "2  ...    bop                     1080                     2400   \n",
              "3  ...     ks                      810                     1080   \n",
              "4  ...    nsw                      900                     1440   \n",
              "\n",
              "     bidderFlrPolicy           adt  dc contype request_context_device_type  \\\n",
              "0  ascending auction  interstitial  US       2                           5   \n",
              "1           original  interstitial  US       2                           4   \n",
              "2  ascending auction  interstitial  US       2                           4   \n",
              "3  ascending auction  interstitial  US       2                           5   \n",
              "4  ascending auction  interstitial  US       2                           5   \n",
              "\n",
              "                                    ifa      price  \n",
              "0  765a66c9-229f-4356-9616-98992563fdac  18.859710  \n",
              "1                                   NaN   9.166801  \n",
              "2  cb62d11c-bcaf-4ac7-8503-11f7c58b57d5   3.453299  \n",
              "3  A472C257-099C-492A-9024-8BF0ABCFD46C   4.518700  \n",
              "4  63e3479f-55db-4ccd-8fa4-95afe8665357   2.055399  \n",
              "\n",
              "[5 rows x 23 columns]"
            ],
            "text/html": [
              "\n",
              "  <div id=\"df-b79c1d79-de20-4f02-9d81-e0852e0c8e39\" class=\"colab-df-container\">\n",
              "    <div>\n",
              "<style scoped>\n",
              "    .dataframe tbody tr th:only-of-type {\n",
              "        vertical-align: middle;\n",
              "    }\n",
              "\n",
              "    .dataframe tbody tr th {\n",
              "        vertical-align: top;\n",
              "    }\n",
              "\n",
              "    .dataframe thead th {\n",
              "        text-align: right;\n",
              "    }\n",
              "</style>\n",
              "<table border=\"1\" class=\"dataframe\">\n",
              "  <thead>\n",
              "    <tr style=\"text-align: right;\">\n",
              "      <th></th>\n",
              "      <th>target</th>\n",
              "      <th>flr</th>\n",
              "      <th>sellerClearPrice</th>\n",
              "      <th>hour</th>\n",
              "      <th>ssp</th>\n",
              "      <th>dsp</th>\n",
              "      <th>auctionBidFloorSource</th>\n",
              "      <th>sdk</th>\n",
              "      <th>sdkver</th>\n",
              "      <th>bundle</th>\n",
              "      <th>...</th>\n",
              "      <th>region</th>\n",
              "      <th>request_context_device_w</th>\n",
              "      <th>request_context_device_h</th>\n",
              "      <th>bidderFlrPolicy</th>\n",
              "      <th>adt</th>\n",
              "      <th>dc</th>\n",
              "      <th>contype</th>\n",
              "      <th>request_context_device_type</th>\n",
              "      <th>ifa</th>\n",
              "      <th>price</th>\n",
              "    </tr>\n",
              "  </thead>\n",
              "  <tbody>\n",
              "    <tr>\n",
              "      <th>0</th>\n",
              "      <td>0</td>\n",
              "      <td>5.455349</td>\n",
              "      <td>14.010879</td>\n",
              "      <td>0</td>\n",
              "      <td>157</td>\n",
              "      <td>76</td>\n",
              "      <td>ml</td>\n",
              "      <td>BidMachine</td>\n",
              "      <td>2.1.5</td>\n",
              "      <td>gAAAAABmcEFTqdQlw0hfUdTmDmhGvCDApGMhNBnU3nIMJm...</td>\n",
              "      <td>...</td>\n",
              "      <td>ct</td>\n",
              "      <td>1200</td>\n",
              "      <td>2000</td>\n",
              "      <td>ascending auction</td>\n",
              "      <td>interstitial</td>\n",
              "      <td>US</td>\n",
              "      <td>2</td>\n",
              "      <td>5</td>\n",
              "      <td>765a66c9-229f-4356-9616-98992563fdac</td>\n",
              "      <td>18.859710</td>\n",
              "    </tr>\n",
              "    <tr>\n",
              "      <th>1</th>\n",
              "      <td>0</td>\n",
              "      <td>4.250000</td>\n",
              "      <td>6.810017</td>\n",
              "      <td>0</td>\n",
              "      <td>157</td>\n",
              "      <td>80</td>\n",
              "      <td>ml</td>\n",
              "      <td>BidMachine</td>\n",
              "      <td>2.4.0.2</td>\n",
              "      <td>gAAAAABmcEFTEPcMMU786QLAISLs22JucTR9XWAoRq7NAM...</td>\n",
              "      <td>...</td>\n",
              "      <td>mi</td>\n",
              "      <td>393</td>\n",
              "      <td>852</td>\n",
              "      <td>original</td>\n",
              "      <td>interstitial</td>\n",
              "      <td>US</td>\n",
              "      <td>2</td>\n",
              "      <td>4</td>\n",
              "      <td>NaN</td>\n",
              "      <td>9.166801</td>\n",
              "    </tr>\n",
              "    <tr>\n",
              "      <th>2</th>\n",
              "      <td>0</td>\n",
              "      <td>0.691500</td>\n",
              "      <td>2.499842</td>\n",
              "      <td>8</td>\n",
              "      <td>157</td>\n",
              "      <td>76</td>\n",
              "      <td>rollouts</td>\n",
              "      <td>BidMachine</td>\n",
              "      <td>2.5.0</td>\n",
              "      <td>gAAAAABmcEFTqdQlw0hfUdTmDmhGvCDApGMhNBnU3nIMJm...</td>\n",
              "      <td>...</td>\n",
              "      <td>bop</td>\n",
              "      <td>1080</td>\n",
              "      <td>2400</td>\n",
              "      <td>ascending auction</td>\n",
              "      <td>interstitial</td>\n",
              "      <td>US</td>\n",
              "      <td>2</td>\n",
              "      <td>4</td>\n",
              "      <td>cb62d11c-bcaf-4ac7-8503-11f7c58b57d5</td>\n",
              "      <td>3.453299</td>\n",
              "    </tr>\n",
              "    <tr>\n",
              "      <th>3</th>\n",
              "      <td>0</td>\n",
              "      <td>4.479847</td>\n",
              "      <td>3.356943</td>\n",
              "      <td>15</td>\n",
              "      <td>157</td>\n",
              "      <td>80</td>\n",
              "      <td>rollouts</td>\n",
              "      <td>BidMachine</td>\n",
              "      <td>2.4.0.2</td>\n",
              "      <td>gAAAAABmcEFTEPcMMU786QLAISLs22JucTR9XWAoRq7NAM...</td>\n",
              "      <td>...</td>\n",
              "      <td>ks</td>\n",
              "      <td>810</td>\n",
              "      <td>1080</td>\n",
              "      <td>ascending auction</td>\n",
              "      <td>interstitial</td>\n",
              "      <td>US</td>\n",
              "      <td>2</td>\n",
              "      <td>5</td>\n",
              "      <td>A472C257-099C-492A-9024-8BF0ABCFD46C</td>\n",
              "      <td>4.518700</td>\n",
              "    </tr>\n",
              "    <tr>\n",
              "      <th>4</th>\n",
              "      <td>0</td>\n",
              "      <td>0.691500</td>\n",
              "      <td>1.487904</td>\n",
              "      <td>9</td>\n",
              "      <td>157</td>\n",
              "      <td>122</td>\n",
              "      <td>ml</td>\n",
              "      <td>BidMachine</td>\n",
              "      <td>1.9.10</td>\n",
              "      <td>gAAAAABmcEFTqdQlw0hfUdTmDmhGvCDApGMhNBnU3nIMJm...</td>\n",
              "      <td>...</td>\n",
              "      <td>nsw</td>\n",
              "      <td>900</td>\n",
              "      <td>1440</td>\n",
              "      <td>ascending auction</td>\n",
              "      <td>interstitial</td>\n",
              "      <td>US</td>\n",
              "      <td>2</td>\n",
              "      <td>5</td>\n",
              "      <td>63e3479f-55db-4ccd-8fa4-95afe8665357</td>\n",
              "      <td>2.055399</td>\n",
              "    </tr>\n",
              "  </tbody>\n",
              "</table>\n",
              "<p>5 rows × 23 columns</p>\n",
              "</div>\n",
              "    <div class=\"colab-df-buttons\">\n",
              "\n",
              "  <div class=\"colab-df-container\">\n",
              "    <button class=\"colab-df-convert\" onclick=\"convertToInteractive('df-b79c1d79-de20-4f02-9d81-e0852e0c8e39')\"\n",
              "            title=\"Convert this dataframe to an interactive table.\"\n",
              "            style=\"display:none;\">\n",
              "\n",
              "  <svg xmlns=\"http://www.w3.org/2000/svg\" height=\"24px\" viewBox=\"0 -960 960 960\">\n",
              "    <path d=\"M120-120v-720h720v720H120Zm60-500h600v-160H180v160Zm220 220h160v-160H400v160Zm0 220h160v-160H400v160ZM180-400h160v-160H180v160Zm440 0h160v-160H620v160ZM180-180h160v-160H180v160Zm440 0h160v-160H620v160Z\"/>\n",
              "  </svg>\n",
              "    </button>\n",
              "\n",
              "  <style>\n",
              "    .colab-df-container {\n",
              "      display:flex;\n",
              "      gap: 12px;\n",
              "    }\n",
              "\n",
              "    .colab-df-convert {\n",
              "      background-color: #E8F0FE;\n",
              "      border: none;\n",
              "      border-radius: 50%;\n",
              "      cursor: pointer;\n",
              "      display: none;\n",
              "      fill: #1967D2;\n",
              "      height: 32px;\n",
              "      padding: 0 0 0 0;\n",
              "      width: 32px;\n",
              "    }\n",
              "\n",
              "    .colab-df-convert:hover {\n",
              "      background-color: #E2EBFA;\n",
              "      box-shadow: 0px 1px 2px rgba(60, 64, 67, 0.3), 0px 1px 3px 1px rgba(60, 64, 67, 0.15);\n",
              "      fill: #174EA6;\n",
              "    }\n",
              "\n",
              "    .colab-df-buttons div {\n",
              "      margin-bottom: 4px;\n",
              "    }\n",
              "\n",
              "    [theme=dark] .colab-df-convert {\n",
              "      background-color: #3B4455;\n",
              "      fill: #D2E3FC;\n",
              "    }\n",
              "\n",
              "    [theme=dark] .colab-df-convert:hover {\n",
              "      background-color: #434B5C;\n",
              "      box-shadow: 0px 1px 3px 1px rgba(0, 0, 0, 0.15);\n",
              "      filter: drop-shadow(0px 1px 2px rgba(0, 0, 0, 0.3));\n",
              "      fill: #FFFFFF;\n",
              "    }\n",
              "  </style>\n",
              "\n",
              "    <script>\n",
              "      const buttonEl =\n",
              "        document.querySelector('#df-b79c1d79-de20-4f02-9d81-e0852e0c8e39 button.colab-df-convert');\n",
              "      buttonEl.style.display =\n",
              "        google.colab.kernel.accessAllowed ? 'block' : 'none';\n",
              "\n",
              "      async function convertToInteractive(key) {\n",
              "        const element = document.querySelector('#df-b79c1d79-de20-4f02-9d81-e0852e0c8e39');\n",
              "        const dataTable =\n",
              "          await google.colab.kernel.invokeFunction('convertToInteractive',\n",
              "                                                    [key], {});\n",
              "        if (!dataTable) return;\n",
              "\n",
              "        const docLinkHtml = 'Like what you see? Visit the ' +\n",
              "          '<a target=\"_blank\" href=https://colab.research.google.com/notebooks/data_table.ipynb>data table notebook</a>'\n",
              "          + ' to learn more about interactive tables.';\n",
              "        element.innerHTML = '';\n",
              "        dataTable['output_type'] = 'display_data';\n",
              "        await google.colab.output.renderOutput(dataTable, element);\n",
              "        const docLink = document.createElement('div');\n",
              "        docLink.innerHTML = docLinkHtml;\n",
              "        element.appendChild(docLink);\n",
              "      }\n",
              "    </script>\n",
              "  </div>\n",
              "\n",
              "\n",
              "<div id=\"df-723d10e6-074d-400a-ae7e-c3d2ad6a71fe\">\n",
              "  <button class=\"colab-df-quickchart\" onclick=\"quickchart('df-723d10e6-074d-400a-ae7e-c3d2ad6a71fe')\"\n",
              "            title=\"Suggest charts\"\n",
              "            style=\"display:none;\">\n",
              "\n",
              "<svg xmlns=\"http://www.w3.org/2000/svg\" height=\"24px\"viewBox=\"0 0 24 24\"\n",
              "     width=\"24px\">\n",
              "    <g>\n",
              "        <path d=\"M19 3H5c-1.1 0-2 .9-2 2v14c0 1.1.9 2 2 2h14c1.1 0 2-.9 2-2V5c0-1.1-.9-2-2-2zM9 17H7v-7h2v7zm4 0h-2V7h2v10zm4 0h-2v-4h2v4z\"/>\n",
              "    </g>\n",
              "</svg>\n",
              "  </button>\n",
              "\n",
              "<style>\n",
              "  .colab-df-quickchart {\n",
              "      --bg-color: #E8F0FE;\n",
              "      --fill-color: #1967D2;\n",
              "      --hover-bg-color: #E2EBFA;\n",
              "      --hover-fill-color: #174EA6;\n",
              "      --disabled-fill-color: #AAA;\n",
              "      --disabled-bg-color: #DDD;\n",
              "  }\n",
              "\n",
              "  [theme=dark] .colab-df-quickchart {\n",
              "      --bg-color: #3B4455;\n",
              "      --fill-color: #D2E3FC;\n",
              "      --hover-bg-color: #434B5C;\n",
              "      --hover-fill-color: #FFFFFF;\n",
              "      --disabled-bg-color: #3B4455;\n",
              "      --disabled-fill-color: #666;\n",
              "  }\n",
              "\n",
              "  .colab-df-quickchart {\n",
              "    background-color: var(--bg-color);\n",
              "    border: none;\n",
              "    border-radius: 50%;\n",
              "    cursor: pointer;\n",
              "    display: none;\n",
              "    fill: var(--fill-color);\n",
              "    height: 32px;\n",
              "    padding: 0;\n",
              "    width: 32px;\n",
              "  }\n",
              "\n",
              "  .colab-df-quickchart:hover {\n",
              "    background-color: var(--hover-bg-color);\n",
              "    box-shadow: 0 1px 2px rgba(60, 64, 67, 0.3), 0 1px 3px 1px rgba(60, 64, 67, 0.15);\n",
              "    fill: var(--button-hover-fill-color);\n",
              "  }\n",
              "\n",
              "  .colab-df-quickchart-complete:disabled,\n",
              "  .colab-df-quickchart-complete:disabled:hover {\n",
              "    background-color: var(--disabled-bg-color);\n",
              "    fill: var(--disabled-fill-color);\n",
              "    box-shadow: none;\n",
              "  }\n",
              "\n",
              "  .colab-df-spinner {\n",
              "    border: 2px solid var(--fill-color);\n",
              "    border-color: transparent;\n",
              "    border-bottom-color: var(--fill-color);\n",
              "    animation:\n",
              "      spin 1s steps(1) infinite;\n",
              "  }\n",
              "\n",
              "  @keyframes spin {\n",
              "    0% {\n",
              "      border-color: transparent;\n",
              "      border-bottom-color: var(--fill-color);\n",
              "      border-left-color: var(--fill-color);\n",
              "    }\n",
              "    20% {\n",
              "      border-color: transparent;\n",
              "      border-left-color: var(--fill-color);\n",
              "      border-top-color: var(--fill-color);\n",
              "    }\n",
              "    30% {\n",
              "      border-color: transparent;\n",
              "      border-left-color: var(--fill-color);\n",
              "      border-top-color: var(--fill-color);\n",
              "      border-right-color: var(--fill-color);\n",
              "    }\n",
              "    40% {\n",
              "      border-color: transparent;\n",
              "      border-right-color: var(--fill-color);\n",
              "      border-top-color: var(--fill-color);\n",
              "    }\n",
              "    60% {\n",
              "      border-color: transparent;\n",
              "      border-right-color: var(--fill-color);\n",
              "    }\n",
              "    80% {\n",
              "      border-color: transparent;\n",
              "      border-right-color: var(--fill-color);\n",
              "      border-bottom-color: var(--fill-color);\n",
              "    }\n",
              "    90% {\n",
              "      border-color: transparent;\n",
              "      border-bottom-color: var(--fill-color);\n",
              "    }\n",
              "  }\n",
              "</style>\n",
              "\n",
              "  <script>\n",
              "    async function quickchart(key) {\n",
              "      const quickchartButtonEl =\n",
              "        document.querySelector('#' + key + ' button');\n",
              "      quickchartButtonEl.disabled = true;  // To prevent multiple clicks.\n",
              "      quickchartButtonEl.classList.add('colab-df-spinner');\n",
              "      try {\n",
              "        const charts = await google.colab.kernel.invokeFunction(\n",
              "            'suggestCharts', [key], {});\n",
              "      } catch (error) {\n",
              "        console.error('Error during call to suggestCharts:', error);\n",
              "      }\n",
              "      quickchartButtonEl.classList.remove('colab-df-spinner');\n",
              "      quickchartButtonEl.classList.add('colab-df-quickchart-complete');\n",
              "    }\n",
              "    (() => {\n",
              "      let quickchartButtonEl =\n",
              "        document.querySelector('#df-723d10e6-074d-400a-ae7e-c3d2ad6a71fe button');\n",
              "      quickchartButtonEl.style.display =\n",
              "        google.colab.kernel.accessAllowed ? 'block' : 'none';\n",
              "    })();\n",
              "  </script>\n",
              "</div>\n",
              "    </div>\n",
              "  </div>\n"
            ],
            "application/vnd.google.colaboratory.intrinsic+json": {
              "type": "dataframe",
              "variable_name": "train_df"
            }
          },
          "metadata": {},
          "execution_count": 6
        }
      ],
      "source": [
        "import pandas as pd\n",
        "\n",
        "train_df = pd.read_csv(os.path.join(train_data_dir, 'test_data.csv'), nrows=1000)\n",
        "\n",
        "train_df.head()"
      ]
    },
    {
      "cell_type": "code",
      "execution_count": 7,
      "id": "7e01e7fd-81b6-419d-b2de-22a46823039b",
      "metadata": {
        "colab": {
          "base_uri": "https://localhost:8080/",
          "height": 178
        },
        "id": "7e01e7fd-81b6-419d-b2de-22a46823039b",
        "outputId": "9bb62e09-d102-4946-9967-232e554de694"
      },
      "outputs": [
        {
          "output_type": "execute_result",
          "data": {
            "text/plain": [
              "target\n",
              "0    0.883\n",
              "1    0.117\n",
              "Name: proportion, dtype: float64"
            ],
            "text/html": [
              "<div>\n",
              "<style scoped>\n",
              "    .dataframe tbody tr th:only-of-type {\n",
              "        vertical-align: middle;\n",
              "    }\n",
              "\n",
              "    .dataframe tbody tr th {\n",
              "        vertical-align: top;\n",
              "    }\n",
              "\n",
              "    .dataframe thead th {\n",
              "        text-align: right;\n",
              "    }\n",
              "</style>\n",
              "<table border=\"1\" class=\"dataframe\">\n",
              "  <thead>\n",
              "    <tr style=\"text-align: right;\">\n",
              "      <th></th>\n",
              "      <th>proportion</th>\n",
              "    </tr>\n",
              "    <tr>\n",
              "      <th>target</th>\n",
              "      <th></th>\n",
              "    </tr>\n",
              "  </thead>\n",
              "  <tbody>\n",
              "    <tr>\n",
              "      <th>0</th>\n",
              "      <td>0.883</td>\n",
              "    </tr>\n",
              "    <tr>\n",
              "      <th>1</th>\n",
              "      <td>0.117</td>\n",
              "    </tr>\n",
              "  </tbody>\n",
              "</table>\n",
              "</div><br><label><b>dtype:</b> float64</label>"
            ]
          },
          "metadata": {},
          "execution_count": 7
        }
      ],
      "source": [
        "train_df['target'].value_counts(normalize=True)"
      ]
    },
    {
      "cell_type": "code",
      "execution_count": null,
      "id": "e97931de-b9fe-4806-a9b7-9fb099e2f07d",
      "metadata": {
        "id": "e97931de-b9fe-4806-a9b7-9fb099e2f07d",
        "outputId": "ff42df72-745b-48cd-e9bf-4867fa967bae"
      },
      "outputs": [
        {
          "data": {
            "text/plain": [
              "Index(['target', 'flr', 'sellerClearPrice', 'hour', 'ssp', 'dsp',\n",
              "       'auctionBidFloorSource', 'sdk', 'sdkver', 'bundle', 'os', 'lang',\n",
              "       'country', 'region', 'request_context_device_w',\n",
              "       'request_context_device_h', 'bidderFlrPolicy', 'adt', 'dc', 'contype',\n",
              "       'request_context_device_type', 'ifa', 'price'],\n",
              "      dtype='object')"
            ]
          },
          "execution_count": 6,
          "metadata": {},
          "output_type": "execute_result"
        }
      ],
      "source": [
        "train_df.columns"
      ]
    },
    {
      "cell_type": "code",
      "execution_count": null,
      "id": "67fd4393-23c4-45ec-8677-1442f8002bf3",
      "metadata": {
        "id": "67fd4393-23c4-45ec-8677-1442f8002bf3",
        "outputId": "42706304-f717-4da3-c069-3c79839c5416"
      },
      "outputs": [
        {
          "data": {
            "text/html": [
              "<div>\n",
              "<style scoped>\n",
              "    .dataframe tbody tr th:only-of-type {\n",
              "        vertical-align: middle;\n",
              "    }\n",
              "\n",
              "    .dataframe tbody tr th {\n",
              "        vertical-align: top;\n",
              "    }\n",
              "\n",
              "    .dataframe thead th {\n",
              "        text-align: right;\n",
              "    }\n",
              "</style>\n",
              "<table border=\"1\" class=\"dataframe\">\n",
              "  <thead>\n",
              "    <tr style=\"text-align: right;\">\n",
              "      <th></th>\n",
              "      <th>target</th>\n",
              "      <th>flr</th>\n",
              "      <th>sellerClearPrice</th>\n",
              "      <th>hour</th>\n",
              "      <th>ssp</th>\n",
              "      <th>dsp</th>\n",
              "      <th>request_context_device_w</th>\n",
              "      <th>request_context_device_h</th>\n",
              "      <th>contype</th>\n",
              "      <th>request_context_device_type</th>\n",
              "      <th>price</th>\n",
              "    </tr>\n",
              "  </thead>\n",
              "  <tbody>\n",
              "    <tr>\n",
              "      <th>count</th>\n",
              "      <td>1000.000000</td>\n",
              "      <td>1000.000000</td>\n",
              "      <td>1000.000000</td>\n",
              "      <td>1000.000000</td>\n",
              "      <td>1000.0</td>\n",
              "      <td>1000.000000</td>\n",
              "      <td>1000.000000</td>\n",
              "      <td>1000.000000</td>\n",
              "      <td>1000.00000</td>\n",
              "      <td>1000.000000</td>\n",
              "      <td>1000.000000</td>\n",
              "    </tr>\n",
              "    <tr>\n",
              "      <th>mean</th>\n",
              "      <td>0.117000</td>\n",
              "      <td>3.306324</td>\n",
              "      <td>4.012244</td>\n",
              "      <td>10.314000</td>\n",
              "      <td>157.0</td>\n",
              "      <td>80.321000</td>\n",
              "      <td>727.290000</td>\n",
              "      <td>1416.755000</td>\n",
              "      <td>2.46500</td>\n",
              "      <td>4.241000</td>\n",
              "      <td>5.424562</td>\n",
              "    </tr>\n",
              "    <tr>\n",
              "      <th>std</th>\n",
              "      <td>0.321581</td>\n",
              "      <td>3.429440</td>\n",
              "      <td>4.480664</td>\n",
              "      <td>7.769541</td>\n",
              "      <td>0.0</td>\n",
              "      <td>16.023193</td>\n",
              "      <td>295.340556</td>\n",
              "      <td>603.044051</td>\n",
              "      <td>1.16539</td>\n",
              "      <td>0.427904</td>\n",
              "      <td>6.042104</td>\n",
              "    </tr>\n",
              "    <tr>\n",
              "      <th>min</th>\n",
              "      <td>0.000000</td>\n",
              "      <td>0.010000</td>\n",
              "      <td>0.019668</td>\n",
              "      <td>0.000000</td>\n",
              "      <td>157.0</td>\n",
              "      <td>41.000000</td>\n",
              "      <td>320.000000</td>\n",
              "      <td>568.000000</td>\n",
              "      <td>2.00000</td>\n",
              "      <td>4.000000</td>\n",
              "      <td>0.020703</td>\n",
              "    </tr>\n",
              "    <tr>\n",
              "      <th>25%</th>\n",
              "      <td>0.000000</td>\n",
              "      <td>0.729624</td>\n",
              "      <td>0.969693</td>\n",
              "      <td>2.000000</td>\n",
              "      <td>157.0</td>\n",
              "      <td>76.000000</td>\n",
              "      <td>414.000000</td>\n",
              "      <td>896.000000</td>\n",
              "      <td>2.00000</td>\n",
              "      <td>4.000000</td>\n",
              "      <td>1.338387</td>\n",
              "    </tr>\n",
              "    <tr>\n",
              "      <th>50%</th>\n",
              "      <td>0.000000</td>\n",
              "      <td>2.095425</td>\n",
              "      <td>2.317421</td>\n",
              "      <td>11.000000</td>\n",
              "      <td>157.0</td>\n",
              "      <td>80.000000</td>\n",
              "      <td>768.000000</td>\n",
              "      <td>1180.000000</td>\n",
              "      <td>2.00000</td>\n",
              "      <td>4.000000</td>\n",
              "      <td>3.174486</td>\n",
              "    </tr>\n",
              "    <tr>\n",
              "      <th>75%</th>\n",
              "      <td>0.000000</td>\n",
              "      <td>5.387997</td>\n",
              "      <td>5.416011</td>\n",
              "      <td>18.000000</td>\n",
              "      <td>157.0</td>\n",
              "      <td>80.000000</td>\n",
              "      <td>1080.000000</td>\n",
              "      <td>1920.000000</td>\n",
              "      <td>2.00000</td>\n",
              "      <td>4.000000</td>\n",
              "      <td>7.345650</td>\n",
              "    </tr>\n",
              "    <tr>\n",
              "      <th>max</th>\n",
              "      <td>1.000000</td>\n",
              "      <td>35.000000</td>\n",
              "      <td>31.969147</td>\n",
              "      <td>23.000000</td>\n",
              "      <td>157.0</td>\n",
              "      <td>227.000000</td>\n",
              "      <td>1812.000000</td>\n",
              "      <td>2880.000000</td>\n",
              "      <td>7.00000</td>\n",
              "      <td>5.000000</td>\n",
              "      <td>43.032898</td>\n",
              "    </tr>\n",
              "  </tbody>\n",
              "</table>\n",
              "</div>"
            ],
            "text/plain": [
              "            target          flr  sellerClearPrice         hour     ssp  \\\n",
              "count  1000.000000  1000.000000       1000.000000  1000.000000  1000.0   \n",
              "mean      0.117000     3.306324          4.012244    10.314000   157.0   \n",
              "std       0.321581     3.429440          4.480664     7.769541     0.0   \n",
              "min       0.000000     0.010000          0.019668     0.000000   157.0   \n",
              "25%       0.000000     0.729624          0.969693     2.000000   157.0   \n",
              "50%       0.000000     2.095425          2.317421    11.000000   157.0   \n",
              "75%       0.000000     5.387997          5.416011    18.000000   157.0   \n",
              "max       1.000000    35.000000         31.969147    23.000000   157.0   \n",
              "\n",
              "               dsp  request_context_device_w  request_context_device_h  \\\n",
              "count  1000.000000               1000.000000               1000.000000   \n",
              "mean     80.321000                727.290000               1416.755000   \n",
              "std      16.023193                295.340556                603.044051   \n",
              "min      41.000000                320.000000                568.000000   \n",
              "25%      76.000000                414.000000                896.000000   \n",
              "50%      80.000000                768.000000               1180.000000   \n",
              "75%      80.000000               1080.000000               1920.000000   \n",
              "max     227.000000               1812.000000               2880.000000   \n",
              "\n",
              "          contype  request_context_device_type        price  \n",
              "count  1000.00000                  1000.000000  1000.000000  \n",
              "mean      2.46500                     4.241000     5.424562  \n",
              "std       1.16539                     0.427904     6.042104  \n",
              "min       2.00000                     4.000000     0.020703  \n",
              "25%       2.00000                     4.000000     1.338387  \n",
              "50%       2.00000                     4.000000     3.174486  \n",
              "75%       2.00000                     4.000000     7.345650  \n",
              "max       7.00000                     5.000000    43.032898  "
            ]
          },
          "execution_count": 7,
          "metadata": {},
          "output_type": "execute_result"
        }
      ],
      "source": [
        "train_df.describe()"
      ]
    },
    {
      "cell_type": "code",
      "execution_count": null,
      "id": "082684cb-234d-4b01-97f7-250f49f104d3",
      "metadata": {
        "id": "082684cb-234d-4b01-97f7-250f49f104d3",
        "outputId": "423fc01c-fc6c-4f3f-fbf8-4320dcf29fd8"
      },
      "outputs": [
        {
          "data": {
            "text/plain": [
              "['target',\n",
              " 'flr',\n",
              " 'sellerClearPrice',\n",
              " 'hour',\n",
              " 'dsp',\n",
              " 'auctionBidFloorSource',\n",
              " 'sdkver',\n",
              " 'bundle',\n",
              " 'os',\n",
              " 'lang',\n",
              " 'country',\n",
              " 'region',\n",
              " 'request_context_device_w',\n",
              " 'request_context_device_h',\n",
              " 'bidderFlrPolicy',\n",
              " 'contype',\n",
              " 'request_context_device_type',\n",
              " 'ifa',\n",
              " 'price']"
            ]
          },
          "execution_count": 8,
          "metadata": {},
          "output_type": "execute_result"
        }
      ],
      "source": [
        "def get_valuable_columns(input_df):\n",
        "    col_subset = []\n",
        "    for col in input_df.columns:\n",
        "        try:\n",
        "            most_frequent_value_count = input_df[col].value_counts().iloc[0]\n",
        "            total_rows = len(input_df)\n",
        "            if most_frequent_value_count / total_rows <= 0.95:\n",
        "                col_subset.append(col)\n",
        "        except (TypeError, IndexError):\n",
        "            # Ignore columns that can't be analyzed (e.g. mixed data types)\n",
        "            pass\n",
        "    return col_subset\n",
        "\n",
        "columns_subset = get_valuable_columns(train_df)\n",
        "\n",
        "print(columns_subset)"
      ]
    },
    {
      "cell_type": "code",
      "execution_count": null,
      "id": "00c78197-2cf4-4aba-b9b1-35eea59f64dc",
      "metadata": {
        "id": "00c78197-2cf4-4aba-b9b1-35eea59f64dc",
        "outputId": "98fba9a0-557c-4ec2-e477-bcf5baad6ed0"
      },
      "outputs": [
        {
          "data": {
            "text/plain": [
              "{'cat': ['request_context_device_type', 'dsp', 'hour'], 'num': ['price']}"
            ]
          },
          "execution_count": 9,
          "metadata": {},
          "output_type": "execute_result"
        }
      ],
      "source": [
        "cat_candidates = ['request_context_device_type', 'dsp', 'ssp', 'hour']\n",
        "\n",
        "features = {\n",
        "    'cat': [col for col in cat_candidates if col in columns_subset],\n",
        "    'num': ['price', ]\n",
        "}\n",
        "\n",
        "features"
      ]
    },
    {
      "cell_type": "code",
      "execution_count": null,
      "id": "54b012c2-dfb6-4251-bb10-2fef46714e4f",
      "metadata": {
        "id": "54b012c2-dfb6-4251-bb10-2fef46714e4f"
      },
      "outputs": [],
      "source": [
        "features_set = features['cat'] + features['num']\n",
        "X = train_df[features_set]\n",
        "y = train_df['target']"
      ]
    },
    {
      "cell_type": "code",
      "execution_count": null,
      "id": "e329356c-6a5e-4f8c-9efe-668f501a031c",
      "metadata": {
        "id": "e329356c-6a5e-4f8c-9efe-668f501a031c",
        "outputId": "2359810d-7d55-42df-bfd0-c788fef068ce"
      },
      "outputs": [
        {
          "name": "stdout",
          "output_type": "stream",
          "text": [
            "Model trained: <catboost.core.CatBoostClassifier object at 0x12148af30>\n"
          ]
        }
      ],
      "source": [
        "from catboost import Pool, CatBoostClassifier\n",
        "\n",
        "from IPython.display import clear_output\n",
        "\n",
        "model = CatBoostClassifier(**{\n",
        "    'loss_function': 'CrossEntropy', 'boosting_type': 'Plain',\n",
        "    'bootstrap_type': 'Bernoulli', 'n_estimators': 150\n",
        "})\n",
        "\n",
        "train_pool = Pool(data=X, label=y, cat_features=features['cat'])\n",
        "model.fit(train_pool)\n",
        "clear_output()\n",
        "print(f'Model trained: {model}')"
      ]
    },
    {
      "cell_type": "code",
      "execution_count": null,
      "id": "95de3cbc-9eec-4354-b635-66fa10bce36b",
      "metadata": {
        "id": "95de3cbc-9eec-4354-b635-66fa10bce36b",
        "outputId": "6b496f65-0d8d-4652-f965-77b1fe9c1cf9"
      },
      "outputs": [
        {
          "name": "stdout",
          "output_type": "stream",
          "text": [
            "model saved to /Users/username/PycharmProjects/ml_for_products/data/model.cb\n"
          ]
        }
      ],
      "source": [
        "model_path = os.path.join(root_data_dir, 'model.cb')\n",
        "\n",
        "model.save_model(model_path)\n",
        "print(f'model saved to {model_path}')"
      ]
    },
    {
      "cell_type": "markdown",
      "id": "a52f0b31-ae41-47c9-9018-99dc8129bdb5",
      "metadata": {
        "id": "a52f0b31-ae41-47c9-9018-99dc8129bdb5"
      },
      "source": [
        "Home work\n",
        "\n",
        "* add train.py\n",
        "*"
      ]
    },
    {
      "cell_type": "code",
      "execution_count": null,
      "id": "2500575f-4105-4433-b285-634ee61e8d2e",
      "metadata": {
        "id": "2500575f-4105-4433-b285-634ee61e8d2e",
        "outputId": "2e22252f-cfec-495f-e6c8-671f7bf10e7a"
      },
      "outputs": [
        {
          "data": {
            "text/html": [
              "<div>\n",
              "<style scoped>\n",
              "    .dataframe tbody tr th:only-of-type {\n",
              "        vertical-align: middle;\n",
              "    }\n",
              "\n",
              "    .dataframe tbody tr th {\n",
              "        vertical-align: top;\n",
              "    }\n",
              "\n",
              "    .dataframe thead th {\n",
              "        text-align: right;\n",
              "    }\n",
              "</style>\n",
              "<table border=\"1\" class=\"dataframe\">\n",
              "  <thead>\n",
              "    <tr style=\"text-align: right;\">\n",
              "      <th></th>\n",
              "      <th>Feature</th>\n",
              "      <th>Importance</th>\n",
              "    </tr>\n",
              "  </thead>\n",
              "  <tbody>\n",
              "    <tr>\n",
              "      <th>1</th>\n",
              "      <td>dsp</td>\n",
              "      <td>64.638245</td>\n",
              "    </tr>\n",
              "    <tr>\n",
              "      <th>3</th>\n",
              "      <td>price</td>\n",
              "      <td>24.905072</td>\n",
              "    </tr>\n",
              "    <tr>\n",
              "      <th>2</th>\n",
              "      <td>hour</td>\n",
              "      <td>7.198156</td>\n",
              "    </tr>\n",
              "    <tr>\n",
              "      <th>0</th>\n",
              "      <td>request_context_device_type</td>\n",
              "      <td>3.258527</td>\n",
              "    </tr>\n",
              "  </tbody>\n",
              "</table>\n",
              "</div>"
            ],
            "text/plain": [
              "                       Feature  Importance\n",
              "1                          dsp   64.638245\n",
              "3                        price   24.905072\n",
              "2                         hour    7.198156\n",
              "0  request_context_device_type    3.258527"
            ]
          },
          "execution_count": 13,
          "metadata": {},
          "output_type": "execute_result"
        }
      ],
      "source": [
        "f_imp_df = pd.DataFrame({\n",
        "    'Feature': features_set,\n",
        "    'Importance': model.get_feature_importance(train_pool)\n",
        "}).sort_values(by='Importance', ascending=False)\n",
        "\n",
        "f_imp_df.head()"
      ]
    },
    {
      "cell_type": "code",
      "execution_count": null,
      "id": "f89a0c08-a38d-4eb8-ad6c-c902ea798997",
      "metadata": {
        "id": "f89a0c08-a38d-4eb8-ad6c-c902ea798997",
        "outputId": "e8e4020f-8380-4235-f540-319b9133978a"
      },
      "outputs": [
        {
          "data": {
            "image/png": "[encoded data removed]",
            "text/plain": [
              "<Figure size 1000x600 with 1 Axes>"
            ]
          },
          "metadata": {},
          "output_type": "display_data"
        }
      ],
      "source": [
        "from matplotlib import pyplot as plt\n",
        "\n",
        "import seaborn as sns\n",
        "\n",
        "def plot_feature_importances(feature_importances, output_file=None):\n",
        "    plt.figure(figsize=(10, 6))\n",
        "    sns.barplot(x='Importance', y='Feature', hue='Feature', data=feature_importances, palette='viridis', dodge=False)\n",
        "    plt.title('Feature Importance')\n",
        "    plt.xlabel('Importance')\n",
        "    plt.ylabel('Feature')\n",
        "    plt.tight_layout()\n",
        "\n",
        "    if output_file:\n",
        "        plt.savefig(output_file)\n",
        "        print(f\"Plot saved to {output_file}\")\n",
        "    else:\n",
        "        plt.show()\n",
        "plot_feature_importances(f_imp_df)"
      ]
    },
    {
      "cell_type": "markdown",
      "id": "8e097eaa-55c8-4b58-b496-8456e6f709dc",
      "metadata": {
        "id": "8e097eaa-55c8-4b58-b496-8456e6f709dc"
      },
      "source": [
        "# Inference"
      ]
    },
    {
      "cell_type": "code",
      "execution_count": null,
      "id": "72d6e40d-fb06-4264-945b-16d33b8e60fc",
      "metadata": {
        "id": "72d6e40d-fb06-4264-945b-16d33b8e60fc",
        "outputId": "11064aa5-116b-4b95-da91-56a0609792fc"
      },
      "outputs": [
        {
          "data": {
            "text/plain": [
              "<catboost.core.Pool at 0x136427fb0>"
            ]
          },
          "execution_count": 15,
          "metadata": {},
          "output_type": "execute_result"
        }
      ],
      "source": [
        "inference_df = pd.read_csv(os.path.join(train_data_dir, 'test_data.csv'), nrows=1000)\n",
        "X_inference = inference_df[features_set]\n",
        "\n",
        "valid_pool = Pool(data=X_inference, cat_features=features['cat'])\n",
        "valid_pool"
      ]
    },
    {
      "cell_type": "code",
      "execution_count": null,
      "id": "cae202a5-d685-4f85-99ad-f6cc22af085a",
      "metadata": {
        "id": "cae202a5-d685-4f85-99ad-f6cc22af085a",
        "outputId": "f12a1646-7ac6-48d4-93f1-4fc74df6705f"
      },
      "outputs": [
        {
          "data": {
            "text/html": [
              "<div>\n",
              "<style scoped>\n",
              "    .dataframe tbody tr th:only-of-type {\n",
              "        vertical-align: middle;\n",
              "    }\n",
              "\n",
              "    .dataframe tbody tr th {\n",
              "        vertical-align: top;\n",
              "    }\n",
              "\n",
              "    .dataframe thead th {\n",
              "        text-align: right;\n",
              "    }\n",
              "</style>\n",
              "<table border=\"1\" class=\"dataframe\">\n",
              "  <thead>\n",
              "    <tr style=\"text-align: right;\">\n",
              "      <th></th>\n",
              "      <th>mean_score</th>\n",
              "    </tr>\n",
              "    <tr>\n",
              "      <th>ssp</th>\n",
              "      <th></th>\n",
              "    </tr>\n",
              "  </thead>\n",
              "  <tbody>\n",
              "    <tr>\n",
              "      <th>157</th>\n",
              "      <td>0.123948</td>\n",
              "    </tr>\n",
              "  </tbody>\n",
              "</table>\n",
              "</div>"
            ],
            "text/plain": [
              "     mean_score\n",
              "ssp            \n",
              "157    0.123948"
            ]
          },
          "execution_count": 16,
          "metadata": {},
          "output_type": "execute_result"
        }
      ],
      "source": [
        "predicted_scores = model.predict_proba(valid_pool)\n",
        "inference_df['score'] = predicted_scores[:, 1]\n",
        "\n",
        "inference_df.groupby('ssp').agg(mean_score = ('score', 'mean')).sort_values(by='mean_score', ascending=False)"
      ]
    },
    {
      "cell_type": "code",
      "execution_count": null,
      "id": "37ae0266-da36-4611-aa9e-c68d8723b33c",
      "metadata": {
        "id": "37ae0266-da36-4611-aa9e-c68d8723b33c"
      },
      "outputs": [],
      "source": [
        "\n",
        "import plotly.express as px\n",
        "\n",
        "def plot_hist(filtered_df, metric_name='timedelta_seconds'):\n",
        "    fig = px.histogram(\n",
        "        filtered_df, x=metric_name, nbins=10,\n",
        "        labels={metric_name: f'Title: {metric_name}'},\n",
        "        title=f'Histogram of {metric_name}'\n",
        "    )\n",
        "    fig.show()"
      ]
    },
    {
      "cell_type": "markdown",
      "id": "2e7e2047-94a0-4fba-be8d-49b4bdda3f72",
      "metadata": {
        "id": "2e7e2047-94a0-4fba-be8d-49b4bdda3f72"
      },
      "source": [
        "# Model registering"
      ]
    },
    {
      "cell_type": "code",
      "execution_count": null,
      "id": "e1dc8b6a-4fdd-4622-a1dd-3d7c525f36e8",
      "metadata": {
        "id": "e1dc8b6a-4fdd-4622-a1dd-3d7c525f36e8",
        "outputId": "0ed3488c-8031-4f5d-c0b0-861ccbfdac0f"
      },
      "outputs": [
        {
          "name": "stdout",
          "output_type": "stream",
          "text": [
            "all complited\n"
          ]
        }
      ],
      "source": [
        "import os\n",
        "import sys\n",
        "\n",
        "import pandas as pd\n",
        "import mlflow\n",
        "from mlflow.entities import ViewType\n",
        "from mlflow.tracking import MlflowClient\n",
        "\n",
        "\n",
        "HPO_EXPERIMENT_NAME = \"catboost-params\"\n",
        "# mlflow.create_experiment(HPO_EXPERIMENT_NAME, artifact_location=\"s3://mlflow\")\n",
        "\n",
        "mlflow.set_tracking_uri(\"http://0.0.0.0:8000\")\n",
        "# mlflow.set_tracking_uri(\"http://mlflow_container_ui:8000\")\n",
        "mlflow.set_experiment(HPO_EXPERIMENT_NAME)\n",
        "\n",
        "client = MlflowClient()\n",
        "experiment = client.get_experiment_by_name(HPO_EXPERIMENT_NAME)\n",
        "# choose the best params\n",
        "run = client.search_runs(\n",
        "    experiment_ids=experiment.experiment_id,\n",
        "    run_view_type=ViewType.ACTIVE_ONLY,\n",
        "    max_results=5,\n",
        "    order_by=[\"metrics.roc_auc DESC\"]\n",
        ")\n",
        "print('all complited')"
      ]
    },
    {
      "cell_type": "code",
      "execution_count": null,
      "id": "c1e9859e-364c-4559-9b9f-80dc7d00980e",
      "metadata": {
        "id": "c1e9859e-364c-4559-9b9f-80dc7d00980e"
      },
      "outputs": [],
      "source": [
        "best_run = run[0]\n",
        "best_params = best_run.data.params\n",
        "best_run_id = best_run.info.run_id"
      ]
    },
    {
      "cell_type": "code",
      "execution_count": null,
      "id": "e4f1858e-5199-45ec-b17c-9d81c27684ef",
      "metadata": {
        "id": "e4f1858e-5199-45ec-b17c-9d81c27684ef"
      },
      "outputs": [],
      "source": [
        "model_params = {i: float(j) for  i,j in best_params.items()}"
      ]
    },
    {
      "cell_type": "code",
      "execution_count": null,
      "id": "cbfe8110-ac1c-4997-b1c9-0cf4a30cd8cd",
      "metadata": {
        "id": "cbfe8110-ac1c-4997-b1c9-0cf4a30cd8cd",
        "outputId": "1fe22a06-0132-40f9-f5c1-9ddf87c61f7f"
      },
      "outputs": [
        {
          "data": {
            "text/plain": [
              "True"
            ]
          },
          "execution_count": 21,
          "metadata": {},
          "output_type": "execute_result"
        }
      ],
      "source": [
        "from dotenv import load_dotenv\n",
        "\n",
        "load_dotenv(dotenv_path='./../.env')"
      ]
    },
    {
      "cell_type": "code",
      "execution_count": null,
      "id": "64194ebb-6423-4b05-8d86-9abdb59a2dac",
      "metadata": {
        "id": "64194ebb-6423-4b05-8d86-9abdb59a2dac",
        "outputId": "d1645597-dac6-498c-bd54-f4407dddd9c8"
      },
      "outputs": [
        {
          "name": "stderr",
          "output_type": "stream",
          "text": [
            "Registered model 'rf-best-model' already exists. Creating a new version of this model...\n",
            "2024/11/08 20:51:00 INFO mlflow.store.model_registry.abstract_store: Waiting up to 300 seconds for model version to finish creation. Model name: rf-best-model, version 5\n",
            "Created version '5' of model 'rf-best-model'.\n",
            "2024/11/08 20:51:00 INFO mlflow.tracking._tracking_service.client: 🏃 View run agreeable-goose-843 at: http://0.0.0.0:8000/#/experiments/1/runs/95b91cd25bef48d8b7846ffe445f294b.\n",
            "2024/11/08 20:51:00 INFO mlflow.tracking._tracking_service.client: 🧪 View experiment at: http://0.0.0.0:8000/#/experiments/1.\n"
          ]
        },
        {
          "name": "stdout",
          "output_type": "stream",
          "text": [
            "model dump finished\n",
            "Model loaded\n"
          ]
        }
      ],
      "source": [
        "from catboost import CatBoostClassifier\n",
        "from IPython.display import clear_output\n",
        "\n",
        "def train_and_save_model(train_df, config, model_path):\n",
        "    print(train_df.shape[0])\n",
        "    columns_subset = get_valuable_columns(train_df)\n",
        "    cat_candidates = ['request_context_device_type', 'dsp', 'ssp', 'hour']\n",
        "    features = {\n",
        "        'cat': [col for col in cat_candidates if col in columns_subset],\n",
        "        'num': ['price', ]\n",
        "    }\n",
        "    features_set = features['cat'] + features['num']\n",
        "    X = train_df[features_set]\n",
        "    y = train_df['target']\n",
        "    train_pool = Pool(data=X, label=y, cat_features=features['cat'])\n",
        "    model = CatBoostClassifier(**model_params)\n",
        "    model.fit(train_pool)\n",
        "    clear_output()\n",
        "    model.save_model(model_path)\n",
        "    mlflow.log_artifact(model_path, artifact_path=\"model\")\n",
        "    print('model dump finished')\n",
        "\n",
        "train_data_path = '/Users/username/PycharmProjects/ml_for_products/data/bidmachine_task_data/test_data.csv'\n",
        "model_path = '/Users/username/PycharmProjects/ml_for_products/data/bidmachine_task_data/best_model.cb'\n",
        "\n",
        "with mlflow.start_run(run_id=best_run_id):\n",
        "    train_df = pd.read_csv(train_data_path, nrows=1000)\n",
        "    train_and_save_model(train_df, best_params, model_path)\n",
        "    model_uri = f\"runs:/{best_run_id}/model\"\n",
        "    mlflow.register_model(model_uri, name=\"rf-best-model\")\n",
        "print('Model loaded')"
      ]
    },
    {
      "cell_type": "code",
      "execution_count": null,
      "id": "f3e5641a-1471-4451-9621-e0e421e75e10",
      "metadata": {
        "id": "f3e5641a-1471-4451-9621-e0e421e75e10",
        "outputId": "88d4d955-0c34-426b-d964-5821542e78bc"
      },
      "outputs": [
        {
          "name": "stderr",
          "output_type": "stream",
          "text": [
            "2024/11/08 20:56:23 INFO mlflow.tracking._tracking_service.client: 🏃 View run agreeable-goose-843 at: http://0.0.0.0:8000/#/experiments/1/runs/95b91cd25bef48d8b7846ffe445f294b.\n",
            "2024/11/08 20:56:23 INFO mlflow.tracking._tracking_service.client: 🧪 View experiment at: http://0.0.0.0:8000/#/experiments/1.\n"
          ]
        },
        {
          "name": "stdout",
          "output_type": "stream",
          "text": [
            "Artifact: model, Size: None\n",
            "Artifact URI: s3://mlflow/95b91cd25bef48d8b7846ffe445f294b/artifacts\n",
            "Model URI: s3://mlflow/95b91cd25bef48d8b7846ffe445f294b/artifacts/model\n"
          ]
        }
      ],
      "source": [
        "with mlflow.start_run(run_id=best_run_id) as active_run:\n",
        "    artifacts = client.list_artifacts(active_run.info.run_id)\n",
        "    for artifact in artifacts:\n",
        "        print(f\"Artifact: {artifact.path}, Size: {artifact.file_size}\")\n",
        "    artifact_uri = mlflow.get_artifact_uri()\n",
        "    print(f\"Artifact URI: {artifact_uri}\")\n",
        "    model_uri = os.path.join(artifact_uri, \"model\")\n",
        "    print(f\"Model URI: {model_uri}\")"
      ]
    },
    {
      "cell_type": "markdown",
      "id": "f26e68d7-2943-45d8-9f99-68418673e21f",
      "metadata": {
        "id": "f26e68d7-2943-45d8-9f99-68418673e21f"
      },
      "source": [
        "Check model in interface"
      ]
    },
    {
      "cell_type": "code",
      "execution_count": null,
      "id": "c729c6a5-8b45-4c46-86ad-0d0ef762e700",
      "metadata": {
        "id": "c729c6a5-8b45-4c46-86ad-0d0ef762e700",
        "outputId": "99a2b275-d5d6-43b9-e6ae-8427de13e615"
      },
      "outputs": [
        {
          "name": "stdout",
          "output_type": "stream",
          "text": [
            "95b91cd25bef48d8b7846ffe445f294b/artifacts/model\n",
            "downloaded to /Users/username/PycharmProjects/ml_for_products/data/downloaded_model.cb\n"
          ]
        }
      ],
      "source": [
        "import boto3\n",
        "\n",
        "s3_client = boto3.client('s3',\n",
        "        aws_access_key_id=os.environ['AWS_ACCESS_KEY_ID'],\n",
        "        aws_secret_access_key=os.environ['AWS_SECRET_ACCESS_KEY'],\n",
        "        endpoint_url='http://0.0.0.0:9000'\n",
        ")\n",
        "bucket = \"mlflow\"\n",
        "key = model_uri.replace(f's3://mlflow/', '')\n",
        "print(key)\n",
        "local_path = os.path.join(root_data_dir, \"downloaded_model.cb\")\n",
        "\n",
        "s3_client.download_file(bucket, os.path.join(key, 'best_model.cb'), local_path)\n",
        "print(f'downloaded to {local_path}')"
      ]
    },
    {
      "cell_type": "code",
      "execution_count": null,
      "id": "2ee3a568-c4ab-4db3-8272-722f85e760dd",
      "metadata": {
        "id": "2ee3a568-c4ab-4db3-8272-722f85e760dd"
      },
      "outputs": [],
      "source": []
    },
    {
      "cell_type": "code",
      "execution_count": null,
      "id": "3cfa8cfd-e79c-4cef-a87a-6f127db9be34",
      "metadata": {
        "id": "3cfa8cfd-e79c-4cef-a87a-6f127db9be34"
      },
      "outputs": [],
      "source": []
    }
  ],
  "metadata": {
    "kernelspec": {
      "display_name": "Python 3 (ipykernel)",
      "language": "python",
      "name": "python3"
    },
    "language_info": {
      "codemirror_mode": {
        "name": "ipython",
        "version": 3
      },
      "file_extension": ".py",
      "mimetype": "text/x-python",
      "name": "python",
      "nbconvert_exporter": "python",
      "pygments_lexer": "ipython3",
      "version": "3.12.6"
    },
    "colab": {
      "provenance": []
    }
  },
  "nbformat": 4,
  "nbformat_minor": 5
}