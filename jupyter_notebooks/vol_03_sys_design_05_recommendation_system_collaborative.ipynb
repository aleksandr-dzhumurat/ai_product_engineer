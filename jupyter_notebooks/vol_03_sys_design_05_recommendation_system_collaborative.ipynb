{
 "cells": [
  {
   "cell_type": "markdown",
   "metadata": {
    "id": "DpxJ-7o2qOcE"
   },
   "source": [
    "# Рекомендательные системы"
   ]
  },
  {
   "cell_type": "code",
   "execution_count": 1,
   "metadata": {
    "colab": {
     "base_uri": "https://localhost:8080/"
    },
    "id": "bW2mAhjiqOp9",
    "outputId": "0ca4cee7-8e2c-4a65-c06e-4d2135b8511c"
   },
   "outputs": [
    {
     "name": "stdout",
     "output_type": "stream",
     "text": [
      "Содержимое директории %s: %s /Users/adzhumurat/PycharmProjects/ai_product_engineer/data ['client_segmentation.csv', 'messages.db', 'labeled_data_corpus.csv', 'content_description.csv', 'nltk_data', 'content_catalog.zip', 'user_item_views.zip', 'pipelines-data', 'zinc_data', 'model.cb', 'content_views.csv.gz', 'nltk-data', 'Health_and_Personal_Care.jsonl.gz', 'geo_points.csv.gzip', 'clustering.pkl', 'eigen.pkl', 'boosting_toy_dataset.csv', 'mlflow', 'test_dataset.pkl', 'insurance.csv', 'models', 'ground_truth_dataset.pkl', 'minio', 'rtb_classification_data.csv.gz', 'final_dataset.zip', 'content_views.csv', 'sales_timeseries_dataset.csv.gz', 'logs', 'ocr_dataset.zip', 'content_description.csv.gz', 'task.csv', 'scored_corpus.csv', 'meta_Health_and_Personal_Care.jsonl.gz', 'best_model.cb', 'brand_tweets.csv', 'brand_tweets_valid.csv', 'non_linear.csv']\n"
     ]
    }
   ],
   "source": [
    "%load_ext autoreload\n",
    "%autoreload 2\n",
    "\n",
    "import sys\n",
    "import os\n",
    "\n",
    "import numpy as np\n",
    "\n",
    "RANDOM_SEED = 42\n",
    "np.random.seed(RANDOM_SEED)  # гарантируем воспроизводимость\n",
    "\n",
    "run_env = os.getenv('RUN_ENV', 'COLLAB')\n",
    "if run_env == 'COLLAB':\n",
    "  from google.colab import drive\n",
    "  ROOT_DIR = '/content/drive'\n",
    "  drive.mount(ROOT_DIR)\n",
    "  print('Google drive connected')\n",
    "  DRIVE_DATA_DIR = 'ml_course_data'\n",
    "  root_data_dir = os.path.join(ROOT_DIR, 'MyDrive', DRIVE_DATA_DIR)\n",
    "  sys.path.append(os.path.join(ROOT_DIR, 'MyDrive', 'src'))\n",
    "else:\n",
    "  root_data_dir = os.getenv('DATA_DIR', '/srv/data')\n",
    "\n",
    "if not os.path.exists(root_data_dir):\n",
    "  raise RuntimeError('Отсутствует директория с данными')\n",
    "else:\n",
    "  print('Содержимое директории %s: %s', root_data_dir, os.listdir(root_data_dir))"
   ]
  },
  {
   "cell_type": "markdown",
   "metadata": {
    "id": "SiU803xquh-I"
   },
   "source": [
    "Датасет для обучения рекомендательных систем содержит следующие данные\n",
    "\n",
    "* csv `user_item_views.zip` на ~2 млн строк вида\n",
    "\n",
    "| user_id | item_id\t| show_timestamp | show_duration |\n",
    "| --- | --- | --- | --- |\n",
    "| 912948920 | 1587935070 | 1119307 | 323 |\n",
    "\n",
    "* архив `data/content_catalog.zip` содержит csv с названиями контента в формате\n",
    "\n",
    "| item_id | title |\n",
    "| --- | --- |\n",
    "| 1593139110 | Тачки 3 |\n",
    "\n",
    "* архив `data/json_views.tar.gz` содержит single-line JSON вида\n",
    "\n",
    "```json\n",
    "{\"value\": 6127, \"date\": 1606254752, \"validation\": 0, \"item_id\": 930420160, \"user_id\": 399644822}\n",
    "```\n",
    "\n",
    "* pickle `ground_truth_dataset.pkl` с просмотрами контента за 1 день по 13353 пользователям\n",
    "* pickle `test_dataset.pkl` с просмотрами контента за 180 предшествующих дней по 13353 пользователям\n",
    "\n",
    "Бинарный файл `ground_truth_dataset.pkl` это массив где каждый элемент представляет собой\n",
    "записи из `json_views.tar.gz` агрегированные по полю `user_id` в словарь вида `{item_id: value, ..., item_id: value}`,\n",
    "с флагом `is_validation=1`\n",
    "\n",
    "В файле `test_dataset.pkl` содержатся такие же записи, но с флагом `is_validation=0`."
   ]
  },
  {
   "cell_type": "markdown",
   "metadata": {
    "id": "R5akBNwzxJo4"
   },
   "source": [
    "Загружаем табличные данные для подсчёта статистик"
   ]
  },
  {
   "cell_type": "code",
   "execution_count": 2,
   "metadata": {
    "colab": {
     "base_uri": "https://localhost:8080/",
     "height": 161
    },
    "id": "MqrTggncqUr9",
    "outputId": "3ee12086-f272-45c1-bd57-975ac3675624"
   },
   "outputs": [
    {
     "name": "stdout",
     "output_type": "stream",
     "text": [
      "num rows: 1975696\n"
     ]
    },
    {
     "data": {
      "text/html": [
       "<div>\n",
       "<style scoped>\n",
       "    .dataframe tbody tr th:only-of-type {\n",
       "        vertical-align: middle;\n",
       "    }\n",
       "\n",
       "    .dataframe tbody tr th {\n",
       "        vertical-align: top;\n",
       "    }\n",
       "\n",
       "    .dataframe thead th {\n",
       "        text-align: right;\n",
       "    }\n",
       "</style>\n",
       "<table border=\"1\" class=\"dataframe\">\n",
       "  <thead>\n",
       "    <tr style=\"text-align: right;\">\n",
       "      <th></th>\n",
       "      <th>user_id</th>\n",
       "      <th>item_id</th>\n",
       "      <th>show_timestamp</th>\n",
       "      <th>show_duration</th>\n",
       "    </tr>\n",
       "  </thead>\n",
       "  <tbody>\n",
       "    <tr>\n",
       "      <th>0</th>\n",
       "      <td>912948920</td>\n",
       "      <td>1587935070</td>\n",
       "      <td>1119307</td>\n",
       "      <td>323</td>\n",
       "    </tr>\n",
       "    <tr>\n",
       "      <th>1</th>\n",
       "      <td>1882728205</td>\n",
       "      <td>1466874188</td>\n",
       "      <td>1115796</td>\n",
       "      <td>1428</td>\n",
       "    </tr>\n",
       "    <tr>\n",
       "      <th>2</th>\n",
       "      <td>382105433</td>\n",
       "      <td>276839040</td>\n",
       "      <td>1116585</td>\n",
       "      <td>921</td>\n",
       "    </tr>\n",
       "  </tbody>\n",
       "</table>\n",
       "</div>"
      ],
      "text/plain": [
       "      user_id     item_id  show_timestamp  show_duration\n",
       "0   912948920  1587935070         1119307            323\n",
       "1  1882728205  1466874188         1115796           1428\n",
       "2   382105433   276839040         1116585            921"
      ]
     },
     "execution_count": 2,
     "metadata": {},
     "output_type": "execute_result"
    }
   ],
   "source": [
    "import pandas as pd\n",
    "\n",
    "user_item_data_file_path = os.path.join(root_data_dir, 'user_item_views.zip')\n",
    "\n",
    "user_item_views_df = pd.read_csv(user_item_data_file_path, compression='zip')\n",
    "print('num rows: %d' % user_item_views_df.shape[0])\n",
    "user_item_views_df.head(3)"
   ]
  },
  {
   "cell_type": "markdown",
   "metadata": {
    "id": "lrwCNqMa7-KY"
   },
   "source": [
    "Каталог контента"
   ]
  },
  {
   "cell_type": "code",
   "execution_count": 3,
   "metadata": {
    "colab": {
     "base_uri": "https://localhost:8080/",
     "height": 206
    },
    "id": "z9-yqrXX7-at",
    "outputId": "ffc32a2e-86c4-4fc2-b589-35e5741e921b"
   },
   "outputs": [
    {
     "data": {
      "text/html": [
       "<div>\n",
       "<style scoped>\n",
       "    .dataframe tbody tr th:only-of-type {\n",
       "        vertical-align: middle;\n",
       "    }\n",
       "\n",
       "    .dataframe tbody tr th {\n",
       "        vertical-align: top;\n",
       "    }\n",
       "\n",
       "    .dataframe thead th {\n",
       "        text-align: right;\n",
       "    }\n",
       "</style>\n",
       "<table border=\"1\" class=\"dataframe\">\n",
       "  <thead>\n",
       "    <tr style=\"text-align: right;\">\n",
       "      <th></th>\n",
       "      <th>item_id</th>\n",
       "      <th>title</th>\n",
       "    </tr>\n",
       "  </thead>\n",
       "  <tbody>\n",
       "    <tr>\n",
       "      <th>0</th>\n",
       "      <td>448991742</td>\n",
       "      <td>Кэндимен</td>\n",
       "    </tr>\n",
       "    <tr>\n",
       "      <th>1</th>\n",
       "      <td>1131986063</td>\n",
       "      <td>Горячие головы</td>\n",
       "    </tr>\n",
       "    <tr>\n",
       "      <th>2</th>\n",
       "      <td>1835073733</td>\n",
       "      <td>После дождичка в четверг</td>\n",
       "    </tr>\n",
       "    <tr>\n",
       "      <th>3</th>\n",
       "      <td>1792204487</td>\n",
       "      <td>Сокровища О.К.</td>\n",
       "    </tr>\n",
       "    <tr>\n",
       "      <th>4</th>\n",
       "      <td>5589796</td>\n",
       "      <td>Затура: Космическое приключение</td>\n",
       "    </tr>\n",
       "  </tbody>\n",
       "</table>\n",
       "</div>"
      ],
      "text/plain": [
       "      item_id                            title\n",
       "0   448991742                         Кэндимен\n",
       "1  1131986063                   Горячие головы\n",
       "2  1835073733         После дождичка в четверг\n",
       "3  1792204487                   Сокровища О.К.\n",
       "4     5589796  Затура: Космическое приключение"
      ]
     },
     "execution_count": 3,
     "metadata": {},
     "output_type": "execute_result"
    }
   ],
   "source": [
    "catalog_file_path = os.path.join(root_data_dir, 'content_catalog.zip')\n",
    "content_catalog = pd.read_csv(catalog_file_path, compression='zip')\n",
    "\n",
    "content_catalog.head(5)"
   ]
  },
  {
   "cell_type": "markdown",
   "metadata": {
    "id": "9ErPsocH-B_L"
   },
   "source": [
    "Тестовый и валидационный наборы данных"
   ]
  },
  {
   "cell_type": "code",
   "execution_count": 4,
   "metadata": {
    "colab": {
     "base_uri": "https://localhost:8080/"
    },
    "id": "KOrVWKgK-H0R",
    "outputId": "396c5d3e-a5ac-4c37-c92a-1337a7ed841c"
   },
   "outputs": [
    {
     "name": "stdout",
     "output_type": "stream",
     "text": [
      "test dataset users 13163, valid dataset users 13163\n"
     ]
    }
   ],
   "source": [
    "import pickle\n",
    "\n",
    "with open(os.path.join(root_data_dir, 'ground_truth_dataset.pkl'), 'rb') as f:\n",
    "    ground_truth_dataset = pickle.load(f)\n",
    "with open(os.path.join(root_data_dir, 'test_dataset.pkl'), 'rb') as f:\n",
    "    test_dataset = pickle.load(f)\n",
    "print(\n",
    "    'test dataset users %d, valid dataset users %d' %\n",
    "    (len(test_dataset), len(ground_truth_dataset))\n",
    ")"
   ]
  },
  {
   "cell_type": "markdown",
   "metadata": {
    "id": "T3QeT2gtypup"
   },
   "source": [
    "Алгоритмы рекомендательных систем работают с матрицей user-item\n",
    "* число строк совпадает с количеством пользователей\n",
    "* число столбцов совпадает с количестовом контента\n",
    "* на пересечении строки и столбца стоит единица в случае, если просмотр присутствовал в датасете и ноль если такого просмотра не было\n",
    "\n",
    "Т.к. контента в системе намного больше, чем может посмотреть пользователь, то такая матрица называется разреженной (мы встречали такую в занятии по tf-idf)\n",
    "\n",
    "Для трансформации в csr нужно перевести `user_id` в индекс строки, а `content_id` в индекс столбца. Создаём индексы"
   ]
  },
  {
   "cell_type": "code",
   "execution_count": 7,
   "metadata": {
    "colab": {
     "base_uri": "https://localhost:8080/"
    },
    "id": "RpE0BUCiyhUo",
    "outputId": "d6a2efba-aab6-4322-c297-0f3e62ef3e58"
   },
   "outputs": [
    {
     "name": "stdout",
     "output_type": "stream",
     "text": [
      "Индекс создан: 168756 строк 9991 столбцов\n"
     ]
    }
   ],
   "source": [
    "unique_users = user_item_views_df.user_id.unique()\n",
    "unique_items = user_item_views_df.item_id.unique()\n",
    "\n",
    "# премая и обратная индексация контента\n",
    "item_to_id = {j: i for i, j in enumerate(unique_items)}\n",
    "id_to_item = {j: i for i, j in item_to_id.items()}\n",
    "\n",
    "# прямая и обратная индексация пользователей\n",
    "user_to_id = {j: i for i, j in enumerate(unique_users)}\n",
    "print('Индекс создан: %d строк %d столбцов' % (len(user_to_id), len(item_to_id)))"
   ]
  },
  {
   "cell_type": "markdown",
   "metadata": {
    "id": "T3YEj16R20SE"
   },
   "source": [
    "## Трансформация в csr\n",
    "\n",
    "Для каждого пользователя оставляем top-20 последних просмотров чтобы матрица не получилась сишком большой"
   ]
  },
  {
   "cell_type": "code",
   "execution_count": 8,
   "metadata": {
    "colab": {
     "base_uri": "https://localhost:8080/",
     "height": 206
    },
    "id": "qQTaEn_Uy94-",
    "outputId": "27e05c31-f529-41cb-e3e1-9524cb474386"
   },
   "outputs": [
    {
     "data": {
      "text/html": [
       "<div>\n",
       "<style scoped>\n",
       "    .dataframe tbody tr th:only-of-type {\n",
       "        vertical-align: middle;\n",
       "    }\n",
       "\n",
       "    .dataframe tbody tr th {\n",
       "        vertical-align: top;\n",
       "    }\n",
       "\n",
       "    .dataframe thead th {\n",
       "        text-align: right;\n",
       "    }\n",
       "</style>\n",
       "<table border=\"1\" class=\"dataframe\">\n",
       "  <thead>\n",
       "    <tr style=\"text-align: right;\">\n",
       "      <th></th>\n",
       "      <th>user_id</th>\n",
       "      <th>item_id</th>\n",
       "    </tr>\n",
       "  </thead>\n",
       "  <tbody>\n",
       "    <tr>\n",
       "      <th>0</th>\n",
       "      <td>912948920</td>\n",
       "      <td>1587935070</td>\n",
       "    </tr>\n",
       "    <tr>\n",
       "      <th>1</th>\n",
       "      <td>1882728205</td>\n",
       "      <td>1466874188</td>\n",
       "    </tr>\n",
       "    <tr>\n",
       "      <th>2</th>\n",
       "      <td>382105433</td>\n",
       "      <td>276839040</td>\n",
       "    </tr>\n",
       "    <tr>\n",
       "      <th>3</th>\n",
       "      <td>1030600713</td>\n",
       "      <td>401051817</td>\n",
       "    </tr>\n",
       "    <tr>\n",
       "      <th>4</th>\n",
       "      <td>743755331</td>\n",
       "      <td>1193027362</td>\n",
       "    </tr>\n",
       "  </tbody>\n",
       "</table>\n",
       "</div>"
      ],
      "text/plain": [
       "      user_id     item_id\n",
       "0   912948920  1587935070\n",
       "1  1882728205  1466874188\n",
       "2   382105433   276839040\n",
       "3  1030600713   401051817\n",
       "4   743755331  1193027362"
      ]
     },
     "execution_count": 8,
     "metadata": {},
     "output_type": "execute_result"
    }
   ],
   "source": [
    "HISTORY_TOP = 20\n",
    "# применяем оконную функцию\n",
    "user_item_views_df['rank'] = (\n",
    "    user_item_views_df\n",
    "    .groupby(by=['user_id'])['show_timestamp']\n",
    "    .rank(method='first', ascending=False)\n",
    ")\n",
    "ui_slim_df = (\n",
    "    user_item_views_df[user_item_views_df['rank'] < HISTORY_TOP][['user_id', 'item_id']]\n",
    ")\n",
    "\n",
    "ui_slim_df.head()"
   ]
  },
  {
   "cell_type": "markdown",
   "metadata": {
    "id": "feqsKcGM3fSo"
   },
   "source": [
    "Создаём матрицу"
   ]
  },
  {
   "cell_type": "code",
   "execution_count": 9,
   "metadata": {
    "colab": {
     "base_uri": "https://localhost:8080/"
    },
    "id": "1zxR3t6z3IBQ",
    "outputId": "b31af7ec-461a-47f3-e432-bd34fb251a8f"
   },
   "outputs": [
    {
     "data": {
      "text/plain": [
       "<Compressed Sparse Row sparse matrix of dtype 'float32'\n",
       "\twith 1433407 stored elements and shape (168756, 9991)>"
      ]
     },
     "execution_count": 9,
     "metadata": {},
     "output_type": "execute_result"
    }
   ],
   "source": [
    "from scipy.sparse import csr_matrix\n",
    "\n",
    "num_rows = len(user_to_id)\n",
    "num_cols = len(item_to_id)\n",
    "entries = np.ones(ui_slim_df.shape[0])  # проставляем ненулевые элементы - единицы\n",
    "rows = tuple(user_to_id[i] for i in ui_slim_df.user_id.values)\n",
    "cols = tuple(item_to_id[i] for i in ui_slim_df.item_id.values)\n",
    "\n",
    "train_set_csr = csr_matrix(\n",
    "    (entries, (rows, cols)),\n",
    "    shape=(num_rows, num_cols),\n",
    "    dtype=np.float32\n",
    ")\n",
    "train_set_csr"
   ]
  },
  {
   "cell_type": "markdown",
   "metadata": {
    "id": "BzXrWfmy4CoE"
   },
   "source": [
    "Обучение модели"
   ]
  },
  {
   "cell_type": "code",
   "execution_count": 10,
   "metadata": {
    "id": "LcQFWmN-4e51"
   },
   "outputs": [
    {
     "name": "stdout",
     "output_type": "stream",
     "text": [
      "Implicit installed\n"
     ]
    }
   ],
   "source": [
    "run_env = os.getenv('RUN_ENV', 'COLLAB')\n",
    "if run_env == 'COLLAB':\n",
    "    from IPython.display import clear_output\n",
    "    !pip install implicit==0.5.2\n",
    "    \n",
    "    clear_output()\n",
    "print('Implicit installed')"
   ]
  },
  {
   "cell_type": "code",
   "execution_count": 11,
   "metadata": {
    "colab": {
     "base_uri": "https://localhost:8080/",
     "height": 49,
     "referenced_widgets": [
      "eabbc08efe7f4b6da9f093ee0230ee06",
      "379a80561dc2439d8c3e56f6dbe1ab6e",
      "d8cb17cea2e640bd963dc6f6502a22f1",
      "84070748ee73473f9f7ce8a6c389f4ee",
      "9b85e644fdbd43d6b6a9b3e32ec27df2",
      "f0a0f24d2d4b4c36baa9d701bf43f5ce",
      "bf29daa14bdf4a638075363566f3afa5",
      "390d968ec0c3422a9e01f2925f62289f",
      "d7fa27ecf3584b8db90253a943458c60",
      "dd96882884f24c13ad4ebdb8634557a2",
      "8ea7d964a6214be1b7b4db6e514f332b"
     ]
    },
    "id": "ylyp3blO3xBt",
    "outputId": "67debbf4-7cbd-42a1-85fd-967afb1da270"
   },
   "outputs": [
    {
     "data": {
      "application/vnd.jupyter.widget-view+json": {
       "model_id": "a90b810ef8574368b9ed25d25d862389",
       "version_major": 2,
       "version_minor": 0
      },
      "text/plain": [
       "  0%|          | 0/1 [00:00<?, ?it/s]"
      ]
     },
     "metadata": {},
     "output_type": "display_data"
    }
   ],
   "source": [
    "import os\n",
    "from implicit.als import AlternatingLeastSquares\n",
    "\n",
    "os.environ['OPENBLAS_NUM_THREADS'] = '1'\n",
    "\n",
    "implict_als_params = {'factors': 4, 'iterations': 1}\n",
    "model = AlternatingLeastSquares(**implict_als_params)\n",
    "# на вход подаём матрицу user_item\n",
    "model.fit(train_set_csr)"
   ]
  },
  {
   "cell_type": "markdown",
   "metadata": {
    "id": "neTr8ni65BLO"
   },
   "source": [
    "Пример работы модели достаём историю просмотров случайного пользователя\n",
    "\n",
    "На вход ALS идёт CSR матрица с просмотренным контентом, по которой генерируются рекомендации"
   ]
  },
  {
   "cell_type": "code",
   "execution_count": 12,
   "metadata": {
    "colab": {
     "base_uri": "https://localhost:8080/",
     "height": 363
    },
    "id": "IN9lyUFC4Edq",
    "outputId": "b0a1fb65-42cf-4f81-dc20-b4ef0f5f10c9"
   },
   "outputs": [
    {
     "data": {
      "text/html": [
       "<div>\n",
       "<style scoped>\n",
       "    .dataframe tbody tr th:only-of-type {\n",
       "        vertical-align: middle;\n",
       "    }\n",
       "\n",
       "    .dataframe tbody tr th {\n",
       "        vertical-align: top;\n",
       "    }\n",
       "\n",
       "    .dataframe thead th {\n",
       "        text-align: right;\n",
       "    }\n",
       "</style>\n",
       "<table border=\"1\" class=\"dataframe\">\n",
       "  <thead>\n",
       "    <tr style=\"text-align: right;\">\n",
       "      <th></th>\n",
       "      <th>item_id</th>\n",
       "      <th>title</th>\n",
       "    </tr>\n",
       "  </thead>\n",
       "  <tbody>\n",
       "    <tr>\n",
       "      <th>1148</th>\n",
       "      <td>1965687007</td>\n",
       "      <td>Война миров Z</td>\n",
       "    </tr>\n",
       "    <tr>\n",
       "      <th>5640</th>\n",
       "      <td>733867875</td>\n",
       "      <td>Союзники</td>\n",
       "    </tr>\n",
       "    <tr>\n",
       "      <th>7103</th>\n",
       "      <td>997565431</td>\n",
       "      <td>Ной</td>\n",
       "    </tr>\n",
       "    <tr>\n",
       "      <th>10880</th>\n",
       "      <td>1323560630</td>\n",
       "      <td>Zомбилэнд: Контрольный выстрел</td>\n",
       "    </tr>\n",
       "    <tr>\n",
       "      <th>11139</th>\n",
       "      <td>1502288546</td>\n",
       "      <td>Мумия</td>\n",
       "    </tr>\n",
       "    <tr>\n",
       "      <th>12108</th>\n",
       "      <td>1095953790</td>\n",
       "      <td>Бронкская история</td>\n",
       "    </tr>\n",
       "    <tr>\n",
       "      <th>13091</th>\n",
       "      <td>997620418</td>\n",
       "      <td>Семь психопатов</td>\n",
       "    </tr>\n",
       "    <tr>\n",
       "      <th>16232</th>\n",
       "      <td>1141280972</td>\n",
       "      <td>Спящие</td>\n",
       "    </tr>\n",
       "    <tr>\n",
       "      <th>26665</th>\n",
       "      <td>1148282040</td>\n",
       "      <td>Просто помиловать</td>\n",
       "    </tr>\n",
       "    <tr>\n",
       "      <th>27072</th>\n",
       "      <td>267109624</td>\n",
       "      <td>Хозяин морей: На краю Земли</td>\n",
       "    </tr>\n",
       "  </tbody>\n",
       "</table>\n",
       "</div>"
      ],
      "text/plain": [
       "          item_id                           title\n",
       "1148   1965687007                   Война миров Z\n",
       "5640    733867875                        Союзники\n",
       "7103    997565431                             Ной\n",
       "10880  1323560630  Zомбилэнд: Контрольный выстрел\n",
       "11139  1502288546                           Мумия\n",
       "12108  1095953790               Бронкская история\n",
       "13091   997620418                 Семь психопатов\n",
       "16232  1141280972                          Спящие\n",
       "26665  1148282040               Просто помиловать\n",
       "27072   267109624     Хозяин морей: На краю Земли"
      ]
     },
     "execution_count": 12,
     "metadata": {},
     "output_type": "execute_result"
    }
   ],
   "source": [
    "def id_to_content_df(ids: np.array, content_df: pd.DataFrame, id_to_item):\n",
    "    items = tuple(id_to_item[i] for i in ids)\n",
    "    result_df = content_catalog[\n",
    "        content_catalog.item_id.isin(items)\n",
    "    ]\n",
    "    return result_df\n",
    "\n",
    "# csr матрица на вход ALS\n",
    "random_history = train_set_csr[np.random.randint(low=0, high=train_set_csr.shape[0])]\n",
    "id_to_content_df(random_history.nonzero()[1], content_catalog, id_to_item)"
   ]
  },
  {
   "cell_type": "markdown",
   "metadata": {
    "id": "YZdC8GUi8SKq"
   },
   "source": [
    "Приверим, что рекомендует модель для такой истории просмотров"
   ]
  },
  {
   "cell_type": "code",
   "execution_count": 13,
   "metadata": {
    "colab": {
     "base_uri": "https://localhost:8080/",
     "height": 363
    },
    "id": "VGTeRrVD8I1o",
    "outputId": "3b4c4558-0622-4412-b43b-932eabc99c39"
   },
   "outputs": [
    {
     "data": {
      "text/html": [
       "<div>\n",
       "<style scoped>\n",
       "    .dataframe tbody tr th:only-of-type {\n",
       "        vertical-align: middle;\n",
       "    }\n",
       "\n",
       "    .dataframe tbody tr th {\n",
       "        vertical-align: top;\n",
       "    }\n",
       "\n",
       "    .dataframe thead th {\n",
       "        text-align: right;\n",
       "    }\n",
       "</style>\n",
       "<table border=\"1\" class=\"dataframe\">\n",
       "  <thead>\n",
       "    <tr style=\"text-align: right;\">\n",
       "      <th></th>\n",
       "      <th>item_id</th>\n",
       "      <th>title</th>\n",
       "    </tr>\n",
       "  </thead>\n",
       "  <tbody>\n",
       "    <tr>\n",
       "      <th>1027</th>\n",
       "      <td>1507021169</td>\n",
       "      <td>Тайная жизнь домашних животных 2</td>\n",
       "    </tr>\n",
       "    <tr>\n",
       "      <th>1996</th>\n",
       "      <td>777155690</td>\n",
       "      <td>Холодное сердце 2</td>\n",
       "    </tr>\n",
       "    <tr>\n",
       "      <th>4098</th>\n",
       "      <td>984316348</td>\n",
       "      <td>Гарри Поттер и Принц-полукровка</td>\n",
       "    </tr>\n",
       "    <tr>\n",
       "      <th>4688</th>\n",
       "      <td>446911865</td>\n",
       "      <td>Фиксики: Большой секрет</td>\n",
       "    </tr>\n",
       "    <tr>\n",
       "      <th>6631</th>\n",
       "      <td>600517301</td>\n",
       "      <td>Зов предков</td>\n",
       "    </tr>\n",
       "    <tr>\n",
       "      <th>11546</th>\n",
       "      <td>656476023</td>\n",
       "      <td>Angry Birds 2 в кино</td>\n",
       "    </tr>\n",
       "    <tr>\n",
       "      <th>13080</th>\n",
       "      <td>1470124757</td>\n",
       "      <td>Мулан</td>\n",
       "    </tr>\n",
       "    <tr>\n",
       "      <th>13380</th>\n",
       "      <td>1757140863</td>\n",
       "      <td>Корпорация монстров</td>\n",
       "    </tr>\n",
       "    <tr>\n",
       "      <th>16205</th>\n",
       "      <td>1687588185</td>\n",
       "      <td>Щенячий патруль: Мегащенки</td>\n",
       "    </tr>\n",
       "    <tr>\n",
       "      <th>27442</th>\n",
       "      <td>157249585</td>\n",
       "      <td>Капоне. Лицо со шрамом</td>\n",
       "    </tr>\n",
       "  </tbody>\n",
       "</table>\n",
       "</div>"
      ],
      "text/plain": [
       "          item_id                             title\n",
       "1027   1507021169  Тайная жизнь домашних животных 2\n",
       "1996    777155690                 Холодное сердце 2\n",
       "4098    984316348   Гарри Поттер и Принц-полукровка\n",
       "4688    446911865           Фиксики: Большой секрет\n",
       "6631    600517301                       Зов предков\n",
       "11546   656476023              Angry Birds 2 в кино\n",
       "13080  1470124757                             Мулан\n",
       "13380  1757140863               Корпорация монстров\n",
       "16205  1687588185        Щенячий патруль: Мегащенки\n",
       "27442   157249585            Капоне. Лицо со шрамом"
      ]
     },
     "execution_count": 13,
     "metadata": {},
     "output_type": "execute_result"
    }
   ],
   "source": [
    "recommended_content, recommended_scores = model.recommend(\n",
    "            userid = 0,\n",
    "            user_items=random_history,\n",
    "            N=10,\n",
    "            filter_already_liked_items=True,\n",
    "            recalculate_user=True\n",
    ")\n",
    "id_to_content_df(recommended_content, content_catalog, id_to_item)"
   ]
  },
  {
   "cell_type": "markdown",
   "metadata": {
    "id": "InBN8lN5-sSj"
   },
   "source": [
    "Готовим валидационный и тестовый сет\n",
    "\n",
    "```shell\n",
    "SCRIPT=prepare_implicit_train_test_set.py make run-script\n",
    "```"
   ]
  },
  {
   "cell_type": "markdown",
   "metadata": {
    "id": "rBibSNorJ1Fq"
   },
   "source": [
    "Объединяем историю пользователя и валидационный сет"
   ]
  },
  {
   "cell_type": "code",
   "execution_count": 15,
   "metadata": {
    "id": "GKMlpxtLJ8fo"
   },
   "outputs": [
    {
     "name": "stdout",
     "output_type": "stream",
     "text": [
      "Embeds loading started...\n",
      "Embeds loading finished! Num test vectors: (13163, 9991)\n",
      "validation prepared\n"
     ]
    }
   ],
   "source": [
    "test_dataset_path = os.path.join(root_data_dir, 'pipelines-data', 'test_embeds.npy')\n",
    "train_dataset_path = os.path.join(root_data_dir, 'pipelines-data', 'train_embeds.npy')\n",
    "\n",
    "print('Embeds loading started...')\n",
    "test_dataset_vectors = np.load(test_dataset_path)\n",
    "ground_truth_dataset_vectors = np.load(train_dataset_path)\n",
    "print(f'Embeds loading finished! Num test vectors: {test_dataset_vectors.shape}')\n",
    "\n",
    "train_valid_pairs = []\n",
    "for test_user_id in range(len(test_dataset_vectors)):\n",
    "    train_valid_pairs.append((\n",
    "        csr_matrix(test_dataset_vectors[test_user_id]),  # csr матрица на вход ALS\n",
    "        ground_truth_dataset_vectors[test_user_id].nonzero()[0]\n",
    "    ))\n",
    "print('validation prepared')"
   ]
  },
  {
   "cell_type": "code",
   "execution_count": 17,
   "metadata": {},
   "outputs": [
    {
     "data": {
      "text/plain": [
       "(<Compressed Sparse Row sparse matrix of dtype 'float32'\n",
       " \twith 11 stored elements and shape (1, 9991)>,\n",
       " array([2325]))"
      ]
     },
     "execution_count": 17,
     "metadata": {},
     "output_type": "execute_result"
    }
   ],
   "source": [
    "train_valid_pairs[0]"
   ]
  },
  {
   "cell_type": "markdown",
   "metadata": {
    "id": "97KgeJ-jJXx6"
   },
   "source": [
    "## Бейзлайны\n",
    "\n",
    "Рандомные рекомендации"
   ]
  },
  {
   "cell_type": "code",
   "execution_count": 22,
   "metadata": {
    "id": "s3aRgPLp8aK7"
   },
   "outputs": [
    {
     "name": "stdout",
     "output_type": "stream",
     "text": [
      "Num hits 0.0102 from 13163\n"
     ]
    }
   ],
   "source": [
    "from recsys.validation import randomized\n",
    "\n",
    "content_popularity = np.asarray(train_set_csr.sum(axis=0)).reshape(-1)\n",
    "all_content = np.array(list(id_to_item.keys()))\n",
    "\n",
    "randomized\n",
    "print(randomized(all_content, train_valid_pairs))"
   ]
  },
  {
   "cell_type": "markdown",
   "metadata": {
    "id": "y243iPNRL-Bh"
   },
   "source": [
    "Если делать предсказания рандомно, угадываем всего в 1% случаев\n",
    "\n",
    "# Неперсональные рекомендации: популярность\n",
    "\n",
    "Что будет, если рекомендовать популярный контент (всем один и тот же список)"
   ]
  },
  {
   "cell_type": "code",
   "execution_count": 23,
   "metadata": {
    "colab": {
     "base_uri": "https://localhost:8080/"
    },
    "id": "s-dmOUGXLGPv",
    "outputId": "1ee14813-a41f-4119-cca8-29ee622b7e1c"
   },
   "outputs": [
    {
     "name": "stdout",
     "output_type": "stream",
     "text": [
      "Num hits 0.2079 from 13163\n"
     ]
    }
   ],
   "source": [
    "from recsys.validation import top_popular\n",
    "\n",
    "N = 40\n",
    "content_popularity = np.asarray(train_set_csr.sum(axis=0)).reshape(-1)\n",
    "top_100_popular_items = np.argsort(-content_popularity)[:100]\n",
    "\n",
    "print(top_popular(top_100_popular_items, train_valid_pairs))"
   ]
  },
  {
   "cell_type": "markdown",
   "metadata": {
    "id": "ebocSko3M0Dp"
   },
   "source": [
    "Видим рост качества в десятки раз, популярность - мощный бейзлайн\n",
    "\n",
    "## Персональные рекомедации\n",
    "\n",
    "Наконец, воспользуемся ALS. Обучим модель"
   ]
  },
  {
   "cell_type": "code",
   "execution_count": 24,
   "metadata": {
    "colab": {
     "base_uri": "https://localhost:8080/",
     "height": 85,
     "referenced_widgets": [
      "6d3eab38b10146409ae65e593dfb7567",
      "5a4274e713a74306a87c6e223151d830",
      "231a26f1a30e4938a941be3ca3dd37d6",
      "1d596b51612248c494c0be38e7ed1ef4",
      "722f4b85290f4432b789348fde19f848",
      "3472bfcb41ad465d977c8db79cd0ee69",
      "b2f815d0d3ab48688cb105109d61eaf2",
      "090005c9b5f34573933893aeaa3139bd",
      "b6ec0492cd0949bc87c8e624b037636d",
      "177cd5450dd4437d90ea198ef58c553c",
      "6f8e0e5c38e04c0989c85086343baad4"
     ]
    },
    "id": "H21ZcUaWMy8D",
    "outputId": "9fefd61a-067d-47ca-86db-896a0fc000fe"
   },
   "outputs": [
    {
     "name": "stdout",
     "output_type": "stream",
     "text": [
      "train started\n"
     ]
    },
    {
     "data": {
      "application/vnd.jupyter.widget-view+json": {
       "model_id": "85411a7996704a3fa8e22fcbb435273d",
       "version_major": 2,
       "version_minor": 0
      },
      "text/plain": [
       "  0%|          | 0/30 [00:00<?, ?it/s]"
      ]
     },
     "metadata": {},
     "output_type": "display_data"
    },
    {
     "name": "stdout",
     "output_type": "stream",
     "text": [
      "train finished\n"
     ]
    }
   ],
   "source": [
    "implict_als_params = {'factors': 20, 'iterations': 30}\n",
    "model = AlternatingLeastSquares(**implict_als_params)\n",
    "print('train started')\n",
    "model.fit(train_set_csr)\n",
    "print('train finished')"
   ]
  },
  {
   "cell_type": "markdown",
   "metadata": {
    "id": "adyh38ViNVtf"
   },
   "source": [
    "Персональные рекомендации"
   ]
  },
  {
   "cell_type": "code",
   "execution_count": 26,
   "metadata": {
    "colab": {
     "base_uri": "https://localhost:8080/"
    },
    "id": "vRhiVVjQNU3D",
    "outputId": "76ca55fc-dce8-455b-b214-26aba4fd7dbb"
   },
   "outputs": [
    {
     "name": "stdout",
     "output_type": "stream",
     "text": [
      "Prediction started\n",
      "Num hits 0.2594 from 13163\n"
     ]
    }
   ],
   "source": [
    "from tqdm import tqdm\n",
    "\n",
    "N = 50\n",
    "testing_model = model\n",
    "\n",
    "def top_n_recommends_personal(watch_history):\n",
    "    top_n_result, recommended_scores = testing_model.recommend(\n",
    "            userid = 0,\n",
    "            user_items=watch_history[0],\n",
    "            N=N,\n",
    "            filter_already_liked_items=True,\n",
    "            recalculate_user=True\n",
    "    )\n",
    "    hit = 0\n",
    "    if len(watch_history[1]) > 0 and np.intersect1d(watch_history[1], top_n_result).size > 0:\n",
    "        hit = 1\n",
    "    return hit\n",
    "\n",
    "NUM_PROCESSES = 2\n",
    "print('Prediction started')\n",
    "hits = [top_n_recommends_personal(i) for i in train_valid_pairs]\n",
    "print('Num hits %.4f from %d' % (sum(hits)/len(hits), len(hits)))"
   ]
  },
  {
   "cell_type": "code",
   "execution_count": 27,
   "metadata": {
    "colab": {
     "base_uri": "https://localhost:8080/"
    },
    "id": "BBsVI0SJJyvO",
    "outputId": "dd357933-3900-4267-ba47-26f9679c1333"
   },
   "outputs": [
    {
     "data": {
      "text/plain": [
       "(9991, 20)"
      ]
     },
     "execution_count": 27,
     "metadata": {},
     "output_type": "execute_result"
    }
   ],
   "source": [
    "testing_model.item_factors.shape"
   ]
  },
  {
   "cell_type": "code",
   "execution_count": 28,
   "metadata": {
    "colab": {
     "base_uri": "https://localhost:8080/"
    },
    "id": "fb8BQus-J_mZ",
    "outputId": "3e9c19c8-87a1-4fba-80e7-f31dbabc099e"
   },
   "outputs": [
    {
     "data": {
      "text/plain": [
       "(168756, 20)"
      ]
     },
     "execution_count": 28,
     "metadata": {},
     "output_type": "execute_result"
    }
   ],
   "source": [
    "testing_model.user_factors.shape"
   ]
  },
  {
   "cell_type": "code",
   "execution_count": null,
   "metadata": {
    "id": "6RO1kobINLBs"
   },
   "outputs": [],
   "source": [
    "from numpy import save, load\n",
    "\n",
    "item_factors_file_path = os.path.join(root_data_dir, 'item_factors.zip')\n",
    "\n",
    "# save(item_factors_file_path, testing_model.item_factors)\n",
    "# logger.info('saved to %s', item_factors_file_path)\n",
    "\n",
    "# item_factors = load(item_factors_file_path)\n",
    "# logger.info('saved to %s', item_factors_file_path)"
   ]
  },
  {
   "cell_type": "markdown",
   "metadata": {
    "id": "5xt8-02636jZ"
   },
   "source": [
    "Чтобы как-то проверить качество полученных эмбеддингов, визуализируем их с помощью UMAP"
   ]
  },
  {
   "cell_type": "code",
   "execution_count": 30,
   "metadata": {
    "id": "zYkdTnjXIKii"
   },
   "outputs": [
    {
     "name": "stdout",
     "output_type": "stream",
     "text": [
      "umap installed\n"
     ]
    }
   ],
   "source": [
    "run_env = os.getenv('RUN_ENV', 'COLLAB')\n",
    "if run_env == 'COLLAB':\n",
    "    from IPython.display import clear_output\n",
    "    !pip install umap-learn\n",
    "    \n",
    "    clear_output()\n",
    "print('umap installed')\n"
   ]
  },
  {
   "cell_type": "code",
   "execution_count": 31,
   "metadata": {
    "colab": {
     "base_uri": "https://localhost:8080/"
    },
    "id": "XQDDffYNgC0H",
    "outputId": "1a186e3b-088f-42bd-c21f-d019d37d3188"
   },
   "outputs": [
    {
     "name": "stdout",
     "output_type": "stream",
     "text": [
      "umap started...\n"
     ]
    },
    {
     "name": "stderr",
     "output_type": "stream",
     "text": [
      "/Users/adzhumurat/PycharmProjects/ai_product_engineer/.venv/lib/python3.12/site-packages/umap/umap_.py:1952: UserWarning: n_jobs value 1 overridden to 1 by setting random_state. Use no seed for parallelism.\n",
      "  warn(\n"
     ]
    },
    {
     "name": "stdout",
     "output_type": "stream",
     "text": [
      "umap finished...\n"
     ]
    }
   ],
   "source": [
    "\n",
    "\n",
    "from umap import UMAP\n",
    "\n",
    "print('umap started...')\n",
    "manifold = UMAP(random_state=RANDOM_SEED, n_components=2).fit(testing_model.item_factors)\n",
    "X_umap = manifold.transform(testing_model.item_factors)\n",
    "print('umap finished...')"
   ]
  },
  {
   "cell_type": "markdown",
   "metadata": {
    "id": "VR3F13i8BCvy"
   },
   "source": [
    "К сожалению, визуально кластера не отделяются"
   ]
  },
  {
   "cell_type": "code",
   "execution_count": 32,
   "metadata": {
    "colab": {
     "base_uri": "https://localhost:8080/",
     "height": 265
    },
    "id": "1phBAD-O5h2n",
    "outputId": "4fffad07-f42a-4534-b22c-d3fb6feb50d7"
   },
   "outputs": [
    {
     "data": {
      "image/png": "[encoded data removed]",
      "text/plain": [
       "<Figure size 640x480 with 1 Axes>"
      ]
     },
     "metadata": {},
     "output_type": "display_data"
    }
   ],
   "source": [
    "from matplotlib import pyplot as plt\n",
    "\n",
    "plt.scatter(X_umap[:,0], X_umap[:,1], s=10, alpha=0.05)\n",
    "plt.show()"
   ]
  },
  {
   "cell_type": "markdown",
   "metadata": {
    "id": "esm5by96BKxZ"
   },
   "source": [
    "Попробуем прогнать через DBSCAN"
   ]
  },
  {
   "cell_type": "code",
   "execution_count": 34,
   "metadata": {
    "colab": {
     "base_uri": "https://localhost:8080/",
     "height": 265
    },
    "id": "TZ-0Qm--7IqU",
    "outputId": "8d923b51-6def-4c7a-b2e7-7a6bef5d95c3"
   },
   "outputs": [
    {
     "name": "stdout",
     "output_type": "stream",
     "text": [
      "Число кластеров: 31\n"
     ]
    },
    {
     "data": {
      "image/png": "[encoded data removed]",
      "text/plain": [
       "<Figure size 640x480 with 1 Axes>"
      ]
     },
     "metadata": {},
     "output_type": "display_data"
    }
   ],
   "source": [
    "from sklearn.cluster import DBSCAN\n",
    "\n",
    "clustering = DBSCAN(eps=0.15, min_samples=5, leaf_size=10).fit(X_umap)\n",
    "print('Число кластеров: %d' %  len(np.unique(clustering.labels_)))\n",
    "plt.scatter(X_umap[:,0], X_umap[:,1], s=10, alpha=0.05, c=clustering.labels_)\n",
    "plt.show()"
   ]
  },
  {
   "cell_type": "markdown",
   "metadata": {
    "id": "JAUBLddBEJs5"
   },
   "source": [
    "Особо ничего не вышло(\n",
    "\n",
    "# Итог\n",
    "\n",
    "* построили две модели: персональную и неперсональную\n",
    "* применили техники снижения резмерности"
   ]
  },
  {
   "cell_type": "code",
   "execution_count": null,
   "metadata": {
    "id": "vZO0k6Sz_QA5"
   },
   "outputs": [],
   "source": []
  }
 ],
 "metadata": {
  "colab": {
   "provenance": []
  },
  "kernelspec": {
   "display_name": "Python 3 (ipykernel)",
   "language": "python",
   "name": "python3"
  },
  "language_info": {
   "codemirror_mode": {
    "name": "ipython",
    "version": 3
   },
   "file_extension": ".py",
   "mimetype": "text/x-python",
   "name": "python",
   "nbconvert_exporter": "python",
   "pygments_lexer": "ipython3",
   "version": "3.12.11"
  },
  "widgets": {
   "application/vnd.jupyter.widget-state+json": {
    "090005c9b5f34573933893aeaa3139bd": {
     "model_module": "@jupyter-widgets/base",
     "model_module_version": "1.2.0",
     "model_name": "LayoutModel",
     "state": {
      "_model_module": "@jupyter-widgets/base",
      "_model_module_version": "1.2.0",
      "_model_name": "LayoutModel",
      "_view_count": null,
      "_view_module": "@jupyter-widgets/base",
      "_view_module_version": "1.2.0",
      "_view_name": "LayoutView",
      "align_content": null,
      "align_items": null,
      "align_self": null,
      "border": null,
      "bottom": null,
      "display": null,
      "flex": null,
      "flex_flow": null,
      "grid_area": null,
      "grid_auto_columns": null,
      "grid_auto_flow": null,
      "grid_auto_rows": null,
      "grid_column": null,
      "grid_gap": null,
      "grid_row": null,
      "grid_template_areas": null,
      "grid_template_columns": null,
      "grid_template_rows": null,
      "height": null,
      "justify_content": null,
      "justify_items": null,
      "left": null,
      "margin": null,
      "max_height": null,
      "max_width": null,
      "min_height": null,
      "min_width": null,
      "object_fit": null,
      "object_position": null,
      "order": null,
      "overflow": null,
      "overflow_x": null,
      "overflow_y": null,
      "padding": null,
      "right": null,
      "top": null,
      "visibility": null,
      "width": null
     }
    },
    "177cd5450dd4437d90ea198ef58c553c": {
     "model_module": "@jupyter-widgets/base",
     "model_module_version": "1.2.0",
     "model_name": "LayoutModel",
     "state": {
      "_model_module": "@jupyter-widgets/base",
      "_model_module_version": "1.2.0",
      "_model_name": "LayoutModel",
      "_view_count": null,
      "_view_module": "@jupyter-widgets/base",
      "_view_module_version": "1.2.0",
      "_view_name": "LayoutView",
      "align_content": null,
      "align_items": null,
      "align_self": null,
      "border": null,
      "bottom": null,
      "display": null,
      "flex": null,
      "flex_flow": null,
      "grid_area": null,
      "grid_auto_columns": null,
      "grid_auto_flow": null,
      "grid_auto_rows": null,
      "grid_column": null,
      "grid_gap": null,
      "grid_row": null,
      "grid_template_areas": null,
      "grid_template_columns": null,
      "grid_template_rows": null,
      "height": null,
      "justify_content": null,
      "justify_items": null,
      "left": null,
      "margin": null,
      "max_height": null,
      "max_width": null,
      "min_height": null,
      "min_width": null,
      "object_fit": null,
      "object_position": null,
      "order": null,
      "overflow": null,
      "overflow_x": null,
      "overflow_y": null,
      "padding": null,
      "right": null,
      "top": null,
      "visibility": null,
      "width": null
     }
    },
    "1d596b51612248c494c0be38e7ed1ef4": {
     "model_module": "@jupyter-widgets/controls",
     "model_module_version": "1.5.0",
     "model_name": "HTMLModel",
     "state": {
      "_dom_classes": [],
      "_model_module": "@jupyter-widgets/controls",
      "_model_module_version": "1.5.0",
      "_model_name": "HTMLModel",
      "_view_count": null,
      "_view_module": "@jupyter-widgets/controls",
      "_view_module_version": "1.5.0",
      "_view_name": "HTMLView",
      "description": "",
      "description_tooltip": null,
      "layout": "IPY_MODEL_177cd5450dd4437d90ea198ef58c553c",
      "placeholder": "​",
      "style": "IPY_MODEL_6f8e0e5c38e04c0989c85086343baad4",
      "value": " 30/30 [02:54&lt;00:00,  5.21s/it]"
     }
    },
    "231a26f1a30e4938a941be3ca3dd37d6": {
     "model_module": "@jupyter-widgets/controls",
     "model_module_version": "1.5.0",
     "model_name": "FloatProgressModel",
     "state": {
      "_dom_classes": [],
      "_model_module": "@jupyter-widgets/controls",
      "_model_module_version": "1.5.0",
      "_model_name": "FloatProgressModel",
      "_view_count": null,
      "_view_module": "@jupyter-widgets/controls",
      "_view_module_version": "1.5.0",
      "_view_name": "ProgressView",
      "bar_style": "success",
      "description": "",
      "description_tooltip": null,
      "layout": "IPY_MODEL_090005c9b5f34573933893aeaa3139bd",
      "max": 30,
      "min": 0,
      "orientation": "horizontal",
      "style": "IPY_MODEL_b6ec0492cd0949bc87c8e624b037636d",
      "value": 30
     }
    },
    "3472bfcb41ad465d977c8db79cd0ee69": {
     "model_module": "@jupyter-widgets/base",
     "model_module_version": "1.2.0",
     "model_name": "LayoutModel",
     "state": {
      "_model_module": "@jupyter-widgets/base",
      "_model_module_version": "1.2.0",
      "_model_name": "LayoutModel",
      "_view_count": null,
      "_view_module": "@jupyter-widgets/base",
      "_view_module_version": "1.2.0",
      "_view_name": "LayoutView",
      "align_content": null,
      "align_items": null,
      "align_self": null,
      "border": null,
      "bottom": null,
      "display": null,
      "flex": null,
      "flex_flow": null,
      "grid_area": null,
      "grid_auto_columns": null,
      "grid_auto_flow": null,
      "grid_auto_rows": null,
      "grid_column": null,
      "grid_gap": null,
      "grid_row": null,
      "grid_template_areas": null,
      "grid_template_columns": null,
      "grid_template_rows": null,
      "height": null,
      "justify_content": null,
      "justify_items": null,
      "left": null,
      "margin": null,
      "max_height": null,
      "max_width": null,
      "min_height": null,
      "min_width": null,
      "object_fit": null,
      "object_position": null,
      "order": null,
      "overflow": null,
      "overflow_x": null,
      "overflow_y": null,
      "padding": null,
      "right": null,
      "top": null,
      "visibility": null,
      "width": null
     }
    },
    "379a80561dc2439d8c3e56f6dbe1ab6e": {
     "model_module": "@jupyter-widgets/controls",
     "model_module_version": "1.5.0",
     "model_name": "HTMLModel",
     "state": {
      "_dom_classes": [],
      "_model_module": "@jupyter-widgets/controls",
      "_model_module_version": "1.5.0",
      "_model_name": "HTMLModel",
      "_view_count": null,
      "_view_module": "@jupyter-widgets/controls",
      "_view_module_version": "1.5.0",
      "_view_name": "HTMLView",
      "description": "",
      "description_tooltip": null,
      "layout": "IPY_MODEL_f0a0f24d2d4b4c36baa9d701bf43f5ce",
      "placeholder": "​",
      "style": "IPY_MODEL_bf29daa14bdf4a638075363566f3afa5",
      "value": "100%"
     }
    },
    "390d968ec0c3422a9e01f2925f62289f": {
     "model_module": "@jupyter-widgets/base",
     "model_module_version": "1.2.0",
     "model_name": "LayoutModel",
     "state": {
      "_model_module": "@jupyter-widgets/base",
      "_model_module_version": "1.2.0",
      "_model_name": "LayoutModel",
      "_view_count": null,
      "_view_module": "@jupyter-widgets/base",
      "_view_module_version": "1.2.0",
      "_view_name": "LayoutView",
      "align_content": null,
      "align_items": null,
      "align_self": null,
      "border": null,
      "bottom": null,
      "display": null,
      "flex": null,
      "flex_flow": null,
      "grid_area": null,
      "grid_auto_columns": null,
      "grid_auto_flow": null,
      "grid_auto_rows": null,
      "grid_column": null,
      "grid_gap": null,
      "grid_row": null,
      "grid_template_areas": null,
      "grid_template_columns": null,
      "grid_template_rows": null,
      "height": null,
      "justify_content": null,
      "justify_items": null,
      "left": null,
      "margin": null,
      "max_height": null,
      "max_width": null,
      "min_height": null,
      "min_width": null,
      "object_fit": null,
      "object_position": null,
      "order": null,
      "overflow": null,
      "overflow_x": null,
      "overflow_y": null,
      "padding": null,
      "right": null,
      "top": null,
      "visibility": null,
      "width": null
     }
    },
    "5a4274e713a74306a87c6e223151d830": {
     "model_module": "@jupyter-widgets/controls",
     "model_module_version": "1.5.0",
     "model_name": "HTMLModel",
     "state": {
      "_dom_classes": [],
      "_model_module": "@jupyter-widgets/controls",
      "_model_module_version": "1.5.0",
      "_model_name": "HTMLModel",
      "_view_count": null,
      "_view_module": "@jupyter-widgets/controls",
      "_view_module_version": "1.5.0",
      "_view_name": "HTMLView",
      "description": "",
      "description_tooltip": null,
      "layout": "IPY_MODEL_3472bfcb41ad465d977c8db79cd0ee69",
      "placeholder": "​",
      "style": "IPY_MODEL_b2f815d0d3ab48688cb105109d61eaf2",
      "value": "100%"
     }
    },
    "6d3eab38b10146409ae65e593dfb7567": {
     "model_module": "@jupyter-widgets/controls",
     "model_module_version": "1.5.0",
     "model_name": "HBoxModel",
     "state": {
      "_dom_classes": [],
      "_model_module": "@jupyter-widgets/controls",
      "_model_module_version": "1.5.0",
      "_model_name": "HBoxModel",
      "_view_count": null,
      "_view_module": "@jupyter-widgets/controls",
      "_view_module_version": "1.5.0",
      "_view_name": "HBoxView",
      "box_style": "",
      "children": [
       "IPY_MODEL_5a4274e713a74306a87c6e223151d830",
       "IPY_MODEL_231a26f1a30e4938a941be3ca3dd37d6",
       "IPY_MODEL_1d596b51612248c494c0be38e7ed1ef4"
      ],
      "layout": "IPY_MODEL_722f4b85290f4432b789348fde19f848"
     }
    },
    "6f8e0e5c38e04c0989c85086343baad4": {
     "model_module": "@jupyter-widgets/controls",
     "model_module_version": "1.5.0",
     "model_name": "DescriptionStyleModel",
     "state": {
      "_model_module": "@jupyter-widgets/controls",
      "_model_module_version": "1.5.0",
      "_model_name": "DescriptionStyleModel",
      "_view_count": null,
      "_view_module": "@jupyter-widgets/base",
      "_view_module_version": "1.2.0",
      "_view_name": "StyleView",
      "description_width": ""
     }
    },
    "722f4b85290f4432b789348fde19f848": {
     "model_module": "@jupyter-widgets/base",
     "model_module_version": "1.2.0",
     "model_name": "LayoutModel",
     "state": {
      "_model_module": "@jupyter-widgets/base",
      "_model_module_version": "1.2.0",
      "_model_name": "LayoutModel",
      "_view_count": null,
      "_view_module": "@jupyter-widgets/base",
      "_view_module_version": "1.2.0",
      "_view_name": "LayoutView",
      "align_content": null,
      "align_items": null,
      "align_self": null,
      "border": null,
      "bottom": null,
      "display": null,
      "flex": null,
      "flex_flow": null,
      "grid_area": null,
      "grid_auto_columns": null,
      "grid_auto_flow": null,
      "grid_auto_rows": null,
      "grid_column": null,
      "grid_gap": null,
      "grid_row": null,
      "grid_template_areas": null,
      "grid_template_columns": null,
      "grid_template_rows": null,
      "height": null,
      "justify_content": null,
      "justify_items": null,
      "left": null,
      "margin": null,
      "max_height": null,
      "max_width": null,
      "min_height": null,
      "min_width": null,
      "object_fit": null,
      "object_position": null,
      "order": null,
      "overflow": null,
      "overflow_x": null,
      "overflow_y": null,
      "padding": null,
      "right": null,
      "top": null,
      "visibility": null,
      "width": null
     }
    },
    "84070748ee73473f9f7ce8a6c389f4ee": {
     "model_module": "@jupyter-widgets/controls",
     "model_module_version": "1.5.0",
     "model_name": "HTMLModel",
     "state": {
      "_dom_classes": [],
      "_model_module": "@jupyter-widgets/controls",
      "_model_module_version": "1.5.0",
      "_model_name": "HTMLModel",
      "_view_count": null,
      "_view_module": "@jupyter-widgets/controls",
      "_view_module_version": "1.5.0",
      "_view_name": "HTMLView",
      "description": "",
      "description_tooltip": null,
      "layout": "IPY_MODEL_dd96882884f24c13ad4ebdb8634557a2",
      "placeholder": "​",
      "style": "IPY_MODEL_8ea7d964a6214be1b7b4db6e514f332b",
      "value": " 1/1 [00:00&lt;00:00,  1.93it/s]"
     }
    },
    "8ea7d964a6214be1b7b4db6e514f332b": {
     "model_module": "@jupyter-widgets/controls",
     "model_module_version": "1.5.0",
     "model_name": "DescriptionStyleModel",
     "state": {
      "_model_module": "@jupyter-widgets/controls",
      "_model_module_version": "1.5.0",
      "_model_name": "DescriptionStyleModel",
      "_view_count": null,
      "_view_module": "@jupyter-widgets/base",
      "_view_module_version": "1.2.0",
      "_view_name": "StyleView",
      "description_width": ""
     }
    },
    "9b85e644fdbd43d6b6a9b3e32ec27df2": {
     "model_module": "@jupyter-widgets/base",
     "model_module_version": "1.2.0",
     "model_name": "LayoutModel",
     "state": {
      "_model_module": "@jupyter-widgets/base",
      "_model_module_version": "1.2.0",
      "_model_name": "LayoutModel",
      "_view_count": null,
      "_view_module": "@jupyter-widgets/base",
      "_view_module_version": "1.2.0",
      "_view_name": "LayoutView",
      "align_content": null,
      "align_items": null,
      "align_self": null,
      "border": null,
      "bottom": null,
      "display": null,
      "flex": null,
      "flex_flow": null,
      "grid_area": null,
      "grid_auto_columns": null,
      "grid_auto_flow": null,
      "grid_auto_rows": null,
      "grid_column": null,
      "grid_gap": null,
      "grid_row": null,
      "grid_template_areas": null,
      "grid_template_columns": null,
      "grid_template_rows": null,
      "height": null,
      "justify_content": null,
      "justify_items": null,
      "left": null,
      "margin": null,
      "max_height": null,
      "max_width": null,
      "min_height": null,
      "min_width": null,
      "object_fit": null,
      "object_position": null,
      "order": null,
      "overflow": null,
      "overflow_x": null,
      "overflow_y": null,
      "padding": null,
      "right": null,
      "top": null,
      "visibility": null,
      "width": null
     }
    },
    "b2f815d0d3ab48688cb105109d61eaf2": {
     "model_module": "@jupyter-widgets/controls",
     "model_module_version": "1.5.0",
     "model_name": "DescriptionStyleModel",
     "state": {
      "_model_module": "@jupyter-widgets/controls",
      "_model_module_version": "1.5.0",
      "_model_name": "DescriptionStyleModel",
      "_view_count": null,
      "_view_module": "@jupyter-widgets/base",
      "_view_module_version": "1.2.0",
      "_view_name": "StyleView",
      "description_width": ""
     }
    },
    "b6ec0492cd0949bc87c8e624b037636d": {
     "model_module": "@jupyter-widgets/controls",
     "model_module_version": "1.5.0",
     "model_name": "ProgressStyleModel",
     "state": {
      "_model_module": "@jupyter-widgets/controls",
      "_model_module_version": "1.5.0",
      "_model_name": "ProgressStyleModel",
      "_view_count": null,
      "_view_module": "@jupyter-widgets/base",
      "_view_module_version": "1.2.0",
      "_view_name": "StyleView",
      "bar_color": null,
      "description_width": ""
     }
    },
    "bf29daa14bdf4a638075363566f3afa5": {
     "model_module": "@jupyter-widgets/controls",
     "model_module_version": "1.5.0",
     "model_name": "DescriptionStyleModel",
     "state": {
      "_model_module": "@jupyter-widgets/controls",
      "_model_module_version": "1.5.0",
      "_model_name": "DescriptionStyleModel",
      "_view_count": null,
      "_view_module": "@jupyter-widgets/base",
      "_view_module_version": "1.2.0",
      "_view_name": "StyleView",
      "description_width": ""
     }
    },
    "d7fa27ecf3584b8db90253a943458c60": {
     "model_module": "@jupyter-widgets/controls",
     "model_module_version": "1.5.0",
     "model_name": "ProgressStyleModel",
     "state": {
      "_model_module": "@jupyter-widgets/controls",
      "_model_module_version": "1.5.0",
      "_model_name": "ProgressStyleModel",
      "_view_count": null,
      "_view_module": "@jupyter-widgets/base",
      "_view_module_version": "1.2.0",
      "_view_name": "StyleView",
      "bar_color": null,
      "description_width": ""
     }
    },
    "d8cb17cea2e640bd963dc6f6502a22f1": {
     "model_module": "@jupyter-widgets/controls",
     "model_module_version": "1.5.0",
     "model_name": "FloatProgressModel",
     "state": {
      "_dom_classes": [],
      "_model_module": "@jupyter-widgets/controls",
      "_model_module_version": "1.5.0",
      "_model_name": "FloatProgressModel",
      "_view_count": null,
      "_view_module": "@jupyter-widgets/controls",
      "_view_module_version": "1.5.0",
      "_view_name": "ProgressView",
      "bar_style": "success",
      "description": "",
      "description_tooltip": null,
      "layout": "IPY_MODEL_390d968ec0c3422a9e01f2925f62289f",
      "max": 1,
      "min": 0,
      "orientation": "horizontal",
      "style": "IPY_MODEL_d7fa27ecf3584b8db90253a943458c60",
      "value": 1
     }
    },
    "dd96882884f24c13ad4ebdb8634557a2": {
     "model_module": "@jupyter-widgets/base",
     "model_module_version": "1.2.0",
     "model_name": "LayoutModel",
     "state": {
      "_model_module": "@jupyter-widgets/base",
      "_model_module_version": "1.2.0",
      "_model_name": "LayoutModel",
      "_view_count": null,
      "_view_module": "@jupyter-widgets/base",
      "_view_module_version": "1.2.0",
      "_view_name": "LayoutView",
      "align_content": null,
      "align_items": null,
      "align_self": null,
      "border": null,
      "bottom": null,
      "display": null,
      "flex": null,
      "flex_flow": null,
      "grid_area": null,
      "grid_auto_columns": null,
      "grid_auto_flow": null,
      "grid_auto_rows": null,
      "grid_column": null,
      "grid_gap": null,
      "grid_row": null,
      "grid_template_areas": null,
      "grid_template_columns": null,
      "grid_template_rows": null,
      "height": null,
      "justify_content": null,
      "justify_items": null,
      "left": null,
      "margin": null,
      "max_height": null,
      "max_width": null,
      "min_height": null,
      "min_width": null,
      "object_fit": null,
      "object_position": null,
      "order": null,
      "overflow": null,
      "overflow_x": null,
      "overflow_y": null,
      "padding": null,
      "right": null,
      "top": null,
      "visibility": null,
      "width": null
     }
    },
    "eabbc08efe7f4b6da9f093ee0230ee06": {
     "model_module": "@jupyter-widgets/controls",
     "model_module_version": "1.5.0",
     "model_name": "HBoxModel",
     "state": {
      "_dom_classes": [],
      "_model_module": "@jupyter-widgets/controls",
      "_model_module_version": "1.5.0",
      "_model_name": "HBoxModel",
      "_view_count": null,
      "_view_module": "@jupyter-widgets/controls",
      "_view_module_version": "1.5.0",
      "_view_name": "HBoxView",
      "box_style": "",
      "children": [
       "IPY_MODEL_379a80561dc2439d8c3e56f6dbe1ab6e",
       "IPY_MODEL_d8cb17cea2e640bd963dc6f6502a22f1",
       "IPY_MODEL_84070748ee73473f9f7ce8a6c389f4ee"
      ],
      "layout": "IPY_MODEL_9b85e644fdbd43d6b6a9b3e32ec27df2"
     }
    },
    "f0a0f24d2d4b4c36baa9d701bf43f5ce": {
     "model_module": "@jupyter-widgets/base",
     "model_module_version": "1.2.0",
     "model_name": "LayoutModel",
     "state": {
      "_model_module": "@jupyter-widgets/base",
      "_model_module_version": "1.2.0",
      "_model_name": "LayoutModel",
      "_view_count": null,
      "_view_module": "@jupyter-widgets/base",
      "_view_module_version": "1.2.0",
      "_view_name": "LayoutView",
      "align_content": null,
      "align_items": null,
      "align_self": null,
      "border": null,
      "bottom": null,
      "display": null,
      "flex": null,
      "flex_flow": null,
      "grid_area": null,
      "grid_auto_columns": null,
      "grid_auto_flow": null,
      "grid_auto_rows": null,
      "grid_column": null,
      "grid_gap": null,
      "grid_row": null,
      "grid_template_areas": null,
      "grid_template_columns": null,
      "grid_template_rows": null,
      "height": null,
      "justify_content": null,
      "justify_items": null,
      "left": null,
      "margin": null,
      "max_height": null,
      "max_width": null,
      "min_height": null,
      "min_width": null,
      "object_fit": null,
      "object_position": null,
      "order": null,
      "overflow": null,
      "overflow_x": null,
      "overflow_y": null,
      "padding": null,
      "right": null,
      "top": null,
      "visibility": null,
      "width": null
     }
    }
   }
  }
 },
 "nbformat": 4,
 "nbformat_minor": 4
}
