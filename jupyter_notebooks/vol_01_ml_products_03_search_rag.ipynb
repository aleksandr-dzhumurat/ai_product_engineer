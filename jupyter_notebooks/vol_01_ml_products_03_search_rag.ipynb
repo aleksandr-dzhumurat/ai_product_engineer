{
  "cells": [
    {
      "cell_type": "code",
      "execution_count": 1,
      "metadata": {
        "colab": {
          "base_uri": "https://localhost:8080/",
          "height": 251
        },
        "id": "ziwA-yNvnABF",
        "outputId": "7587a10f-0719-46e1-ad1a-37d2a5e6b07a"
      },
      "outputs": [
        {
          "name": "stdout",
          "output_type": "stream",
          "text": [
            "Mounted at /content/drive\n",
            "Google drive connected\n"
          ]
        },
        {
          "ename": "RuntimeError",
          "evalue": "Data dir not exists",
          "output_type": "error",
          "traceback": [
            "\u001b[0;31m---------------------------------------------------------------------------\u001b[0m",
            "\u001b[0;31mRuntimeError\u001b[0m                              Traceback (most recent call last)",
            "\u001b[0;32m<ipython-input-1-f0567397468f>\u001b[0m in \u001b[0;36m<cell line: 15>\u001b[0;34m()\u001b[0m\n\u001b[1;32m     14\u001b[0m \u001b[0mroot_data_dir\u001b[0m \u001b[0;34m=\u001b[0m \u001b[0mos\u001b[0m\u001b[0;34m.\u001b[0m\u001b[0mpath\u001b[0m\u001b[0;34m.\u001b[0m\u001b[0mjoin\u001b[0m\u001b[0;34m(\u001b[0m\u001b[0mROOT_DIR\u001b[0m\u001b[0;34m,\u001b[0m \u001b[0;34m'MyDrive'\u001b[0m\u001b[0;34m,\u001b[0m \u001b[0;34m'amazon_reviews'\u001b[0m\u001b[0;34m)\u001b[0m\u001b[0;34m\u001b[0m\u001b[0;34m\u001b[0m\u001b[0m\n\u001b[1;32m     15\u001b[0m \u001b[0;32mif\u001b[0m \u001b[0;32mnot\u001b[0m \u001b[0mos\u001b[0m\u001b[0;34m.\u001b[0m\u001b[0mpath\u001b[0m\u001b[0;34m.\u001b[0m\u001b[0mexists\u001b[0m\u001b[0;34m(\u001b[0m\u001b[0mroot_data_dir\u001b[0m\u001b[0;34m)\u001b[0m\u001b[0;34m:\u001b[0m\u001b[0;34m\u001b[0m\u001b[0;34m\u001b[0m\u001b[0m\n\u001b[0;32m---> 16\u001b[0;31m   \u001b[0;32mraise\u001b[0m \u001b[0mRuntimeError\u001b[0m\u001b[0;34m(\u001b[0m\u001b[0;34m'Data dir not exists'\u001b[0m\u001b[0;34m)\u001b[0m\u001b[0;34m\u001b[0m\u001b[0;34m\u001b[0m\u001b[0m\n\u001b[0m\u001b[1;32m     17\u001b[0m \u001b[0;32melse\u001b[0m\u001b[0;34m:\u001b[0m\u001b[0;34m\u001b[0m\u001b[0;34m\u001b[0m\u001b[0m\n\u001b[1;32m     18\u001b[0m   \u001b[0mprint\u001b[0m\u001b[0;34m(\u001b[0m\u001b[0;34m'Data dir content %s: %s'\u001b[0m \u001b[0;34m%\u001b[0m \u001b[0;34m(\u001b[0m\u001b[0mroot_data_dir\u001b[0m\u001b[0;34m,\u001b[0m \u001b[0;34m', '\u001b[0m\u001b[0;34m.\u001b[0m\u001b[0mjoin\u001b[0m\u001b[0;34m(\u001b[0m\u001b[0mos\u001b[0m\u001b[0;34m.\u001b[0m\u001b[0mlistdir\u001b[0m\u001b[0;34m(\u001b[0m\u001b[0mroot_data_dir\u001b[0m\u001b[0;34m)\u001b[0m\u001b[0;34m)\u001b[0m\u001b[0;34m)\u001b[0m\u001b[0;34m)\u001b[0m\u001b[0;34m\u001b[0m\u001b[0;34m\u001b[0m\u001b[0m\n",
            "\u001b[0;31mRuntimeError\u001b[0m: Data dir not exists"
          ]
        }
      ],
      "source": [
        "import os\n",
        "\n",
        "import numpy as np\n",
        "\n",
        "RANDOM_SEED = 42\n",
        "np.random.seed(RANDOM_SEED)  # гарантируем воспроизводимость\n",
        "\n",
        "run_env = os.getenv('RUN_ENV', 'COLLAB')\n",
        "if run_env == 'COLLAB':\n",
        "  from google.colab import drive\n",
        "  ROOT_DIR = '/content/drive'\n",
        "  drive.mount(ROOT_DIR)\n",
        "  print('Google drive connected')\n",
        "  root_data_dir = os.path.join(ROOT_DIR, 'MyDrive', 'amazon_reviews')\n",
        "else:\n",
        "  root_data_dir = os.getenv('DATA_DIR', '/srv/data')\n",
        "\n",
        "if not os.path.exists(root_data_dir):\n",
        "  raise RuntimeError('Data dir not exists')\n",
        "else:\n",
        "  print('Data dir content %s: %s' % (root_data_dir, ', '.join(os.listdir(root_data_dir))))"
      ]
    },
    {
      "cell_type": "code",
      "execution_count": null,
      "metadata": {
        "colab": {
          "base_uri": "https://localhost:8080/"
        },
        "id": "fYrJ91Yb_F88",
        "outputId": "03aa1519-200b-4122-f585-fcef3aa4063e"
      },
      "outputs": [
        {
          "name": "stdout",
          "output_type": "stream",
          "text": [
            "2\n"
          ]
        }
      ],
      "source": [
        "import os\n",
        "with open(os.path.join(ROOT_DIR, 'MyDrive', 'secrets', 'secrets.env'), 'r') as f:\n",
        "  envs = {j[0]: j[1] for j in [i.strip().split('=') for i in f.readlines()]}\n",
        "print(len(envs))"
      ]
    },
    {
      "cell_type": "code",
      "execution_count": null,
      "metadata": {
        "colab": {
          "base_uri": "https://localhost:8080/"
        },
        "id": "iMyDoLKDfcZb",
        "outputId": "df1e93e9-e3f9-4cdf-fb36-d69a5622b703"
      },
      "outputs": [
        {
          "name": "stdout",
          "output_type": "stream",
          "text": [
            "Libas installed\n"
          ]
        }
      ],
      "source": [
        "\n",
        "import shutil\n",
        "from IPython.display import clear_output\n",
        "\n",
        "!pip install accelerate -U\n",
        "!pip install transformers[torch]\n",
        "!pip install sentence-transformers==2.2.2\n",
        "# !pip install nltk==3.6.2\n",
        "!pip install  backoff\n",
        "!pip install  openai\n",
        "clear_output()\n",
        "print('Libas installed')"
      ]
    },
    {
      "cell_type": "markdown",
      "metadata": {
        "id": "LxraAriOlC-A"
      },
      "source": [
        "# RAG dev\n",
        "\n",
        "[amazon reviews](https://amazon-reviews-2023.github.io/)\n",
        "\n",
        "Plan\n",
        "* rag over one dataset (healthcare)\n",
        "* rag over two datasets (healthcare + electronics)"
      ]
    },
    {
      "cell_type": "markdown",
      "metadata": {
        "id": "wXC8WdM9pkmZ"
      },
      "source": [
        "# EDA"
      ]
    },
    {
      "cell_type": "code",
      "execution_count": null,
      "metadata": {
        "colab": {
          "base_uri": "https://localhost:8080/"
        },
        "id": "VbOmbNfulCTV",
        "outputId": "361cd39f-9869-4a83-ad68-e478aeefaf26"
      },
      "outputs": [
        {
          "name": "stdout",
          "output_type": "stream",
          "text": [
            "Dataset num items: 3\n"
          ]
        },
        {
          "data": {
            "text/plain": [
              "[{'rating': 4.0,\n",
              "  'title': '12 mg is 12 on the periodic table people! Mg for magnesium',\n",
              "  'text': 'This review is more to clarify someone else’s review bc they didn’t understand understand the labeling!  It shows 1000mg as advertised & another little label says 12mg bc 12 is on the periodic table for magnesium!  I realize not everyone takes chemistry, but 4 ppl liked his review & so misinformation is spreading.  This works. If however you are on opiate level medications that are causing constipation you should talk to your pain dr or your gastrointestinal dr & ask for a medication called Linzess which works must better & must faster, but is unnecessary for most people.  If magnesium is working for you just make sure to take it with food & drink 6-8 glasses of water per day.  Staying hydrated will really help.  Before switching to Linzess I used to take one 1,000 mg pill am & pm every day with meals & always with an 8 ounce glass of water or other liquid.',\n",
              "  'images': [],\n",
              "  'asin': 'B07TDSJZMR',\n",
              "  'parent_asin': 'B07TDSJZMR',\n",
              "  'user_id': 'AFKZENTNBQ7A7V7UXW5JJI6UGRYQ',\n",
              "  'timestamp': 1580950175902,\n",
              "  'helpful_vote': 3,\n",
              "  'verified_purchase': True},\n",
              " {'rating': 5.0,\n",
              "  'title': 'Save the lanet using less plastic.',\n",
              "  'text': 'Love these easy multitasking bleach tablets. Beats carrying home a big old jug of bleach.Walmark has been out of them since pademic hit and was so glad to find hear.',\n",
              "  'images': [],\n",
              "  'asin': 'B08637FWWF',\n",
              "  'parent_asin': 'B08637FWWF',\n",
              "  'user_id': 'AEVWAM3YWN5URJVJIZZ6XPD2MKIA',\n",
              "  'timestamp': 1604354586880,\n",
              "  'helpful_vote': 3,\n",
              "  'verified_purchase': True},\n",
              " {'rating': 5.0,\n",
              "  'title': 'Fantastic',\n",
              "  'text': \"I have been suffering a couple months with heel pain from plantar fasciitis.  I thought I'd give these a try and wow, I was surprised at how much they cut down on the pain.  I wish they came in a tighter and thicker version.\",\n",
              "  'images': [],\n",
              "  'asin': 'B07KJVGNN5',\n",
              "  'parent_asin': 'B07KJVGNN5',\n",
              "  'user_id': 'AHSPLDNW5OOUK2PLH7GXLACFBZNQ',\n",
              "  'timestamp': 1563966838905,\n",
              "  'helpful_vote': 0,\n",
              "  'verified_purchase': True}]"
            ]
          },
          "execution_count": 5,
          "metadata": {},
          "output_type": "execute_result"
        }
      ],
      "source": [
        "import gzip\n",
        "import json\n",
        "\n",
        "def read_raw_data(file_name, limit: int, fields = None):\n",
        "\n",
        "  file_path = os.path.join(root_data_dir, file_name)\n",
        "  res = []\n",
        "  with gzip.open(file_path, 'rt') as gz_file:\n",
        "      for line in gz_file:\n",
        "          data = json.loads(line.strip())\n",
        "          if fields is not None:\n",
        "            res.append({i: j for i, j in data.items() if i in fields})\n",
        "          else:\n",
        "            res.append(data)\n",
        "          if limit == len(res):\n",
        "              break\n",
        "  print('Dataset num items: %d' % len(res))\n",
        "  return res\n",
        "\n",
        "read_raw_data('Health_and_Personal_Care.jsonl.gz', limit = 3)"
      ]
    },
    {
      "cell_type": "markdown",
      "metadata": {
        "id": "LKN-wfizp98d"
      },
      "source": [
        "TODO: sampling strategy"
      ]
    },
    {
      "cell_type": "code",
      "execution_count": null,
      "metadata": {
        "colab": {
          "base_uri": "https://localhost:8080/",
          "height": 224
        },
        "id": "RxzDivPvpqsq",
        "outputId": "3962ff23-6ed8-4b6d-e952-2e3ec9f56e13"
      },
      "outputs": [
        {
          "name": "stdout",
          "output_type": "stream",
          "text": [
            "Dataset num items: 1000\n"
          ]
        },
        {
          "data": {
            "application/vnd.google.colaboratory.intrinsic+json": {
              "summary": "{\n  \"name\": \")\",\n  \"rows\": 5,\n  \"fields\": [\n    {\n      \"column\": \"asin\",\n      \"properties\": {\n        \"dtype\": \"string\",\n        \"num_unique_values\": 5,\n        \"samples\": [\n          \"B07HSF5HTX\",\n          \"B07J32R15F\",\n          \"B07GHG9P9P\"\n        ],\n        \"semantic_type\": \"\",\n        \"description\": \"\"\n      }\n    },\n    {\n      \"column\": \"popularity\",\n      \"properties\": {\n        \"dtype\": \"number\",\n        \"std\": 1,\n        \"min\": 3,\n        \"max\": 7,\n        \"num_unique_values\": 3,\n        \"samples\": [\n          7,\n          4,\n          3\n        ],\n        \"semantic_type\": \"\",\n        \"description\": \"\"\n      }\n    }\n  ]\n}",
              "type": "dataframe"
            },
            "text/html": [
              "\n",
              "  <div id=\"df-f2a87cc3-4569-4955-9f6e-e71e8af7d428\" class=\"colab-df-container\">\n",
              "    <div>\n",
              "<style scoped>\n",
              "    .dataframe tbody tr th:only-of-type {\n",
              "        vertical-align: middle;\n",
              "    }\n",
              "\n",
              "    .dataframe tbody tr th {\n",
              "        vertical-align: top;\n",
              "    }\n",
              "\n",
              "    .dataframe thead th {\n",
              "        text-align: right;\n",
              "    }\n",
              "</style>\n",
              "<table border=\"1\" class=\"dataframe\">\n",
              "  <thead>\n",
              "    <tr style=\"text-align: right;\">\n",
              "      <th></th>\n",
              "      <th>asin</th>\n",
              "      <th>popularity</th>\n",
              "    </tr>\n",
              "  </thead>\n",
              "  <tbody>\n",
              "    <tr>\n",
              "      <th>9</th>\n",
              "      <td>B000G2BESO</td>\n",
              "      <td>7</td>\n",
              "    </tr>\n",
              "    <tr>\n",
              "      <th>350</th>\n",
              "      <td>B07HSF5HTX</td>\n",
              "      <td>7</td>\n",
              "    </tr>\n",
              "    <tr>\n",
              "      <th>343</th>\n",
              "      <td>B07GHG9P9P</td>\n",
              "      <td>4</td>\n",
              "    </tr>\n",
              "    <tr>\n",
              "      <th>827</th>\n",
              "      <td>B09F7PH4QR</td>\n",
              "      <td>4</td>\n",
              "    </tr>\n",
              "    <tr>\n",
              "      <th>351</th>\n",
              "      <td>B07J32R15F</td>\n",
              "      <td>3</td>\n",
              "    </tr>\n",
              "  </tbody>\n",
              "</table>\n",
              "</div>\n",
              "    <div class=\"colab-df-buttons\">\n",
              "\n",
              "  <div class=\"colab-df-container\">\n",
              "    <button class=\"colab-df-convert\" onclick=\"convertToInteractive('df-f2a87cc3-4569-4955-9f6e-e71e8af7d428')\"\n",
              "            title=\"Convert this dataframe to an interactive table.\"\n",
              "            style=\"display:none;\">\n",
              "\n",
              "  <svg xmlns=\"http://www.w3.org/2000/svg\" height=\"24px\" viewBox=\"0 -960 960 960\">\n",
              "    <path d=\"M120-120v-720h720v720H120Zm60-500h600v-160H180v160Zm220 220h160v-160H400v160Zm0 220h160v-160H400v160ZM180-400h160v-160H180v160Zm440 0h160v-160H620v160ZM180-180h160v-160H180v160Zm440 0h160v-160H620v160Z\"/>\n",
              "  </svg>\n",
              "    </button>\n",
              "\n",
              "  <style>\n",
              "    .colab-df-container {\n",
              "      display:flex;\n",
              "      gap: 12px;\n",
              "    }\n",
              "\n",
              "    .colab-df-convert {\n",
              "      background-color: #E8F0FE;\n",
              "      border: none;\n",
              "      border-radius: 50%;\n",
              "      cursor: pointer;\n",
              "      display: none;\n",
              "      fill: #1967D2;\n",
              "      height: 32px;\n",
              "      padding: 0 0 0 0;\n",
              "      width: 32px;\n",
              "    }\n",
              "\n",
              "    .colab-df-convert:hover {\n",
              "      background-color: #E2EBFA;\n",
              "      box-shadow: 0px 1px 2px rgba(60, 64, 67, 0.3), 0px 1px 3px 1px rgba(60, 64, 67, 0.15);\n",
              "      fill: #174EA6;\n",
              "    }\n",
              "\n",
              "    .colab-df-buttons div {\n",
              "      margin-bottom: 4px;\n",
              "    }\n",
              "\n",
              "    [theme=dark] .colab-df-convert {\n",
              "      background-color: #3B4455;\n",
              "      fill: #D2E3FC;\n",
              "    }\n",
              "\n",
              "    [theme=dark] .colab-df-convert:hover {\n",
              "      background-color: #434B5C;\n",
              "      box-shadow: 0px 1px 3px 1px rgba(0, 0, 0, 0.15);\n",
              "      filter: drop-shadow(0px 1px 2px rgba(0, 0, 0, 0.3));\n",
              "      fill: #FFFFFF;\n",
              "    }\n",
              "  </style>\n",
              "\n",
              "    <script>\n",
              "      const buttonEl =\n",
              "        document.querySelector('#df-f2a87cc3-4569-4955-9f6e-e71e8af7d428 button.colab-df-convert');\n",
              "      buttonEl.style.display =\n",
              "        google.colab.kernel.accessAllowed ? 'block' : 'none';\n",
              "\n",
              "      async function convertToInteractive(key) {\n",
              "        const element = document.querySelector('#df-f2a87cc3-4569-4955-9f6e-e71e8af7d428');\n",
              "        const dataTable =\n",
              "          await google.colab.kernel.invokeFunction('convertToInteractive',\n",
              "                                                    [key], {});\n",
              "        if (!dataTable) return;\n",
              "\n",
              "        const docLinkHtml = 'Like what you see? Visit the ' +\n",
              "          '<a target=\"_blank\" href=https://colab.research.google.com/notebooks/data_table.ipynb>data table notebook</a>'\n",
              "          + ' to learn more about interactive tables.';\n",
              "        element.innerHTML = '';\n",
              "        dataTable['output_type'] = 'display_data';\n",
              "        await google.colab.output.renderOutput(dataTable, element);\n",
              "        const docLink = document.createElement('div');\n",
              "        docLink.innerHTML = docLinkHtml;\n",
              "        element.appendChild(docLink);\n",
              "      }\n",
              "    </script>\n",
              "  </div>\n",
              "\n",
              "\n",
              "<div id=\"df-d1a30201-b3e7-4c73-bcca-3c2ed1492bd5\">\n",
              "  <button class=\"colab-df-quickchart\" onclick=\"quickchart('df-d1a30201-b3e7-4c73-bcca-3c2ed1492bd5')\"\n",
              "            title=\"Suggest charts\"\n",
              "            style=\"display:none;\">\n",
              "\n",
              "<svg xmlns=\"http://www.w3.org/2000/svg\" height=\"24px\"viewBox=\"0 0 24 24\"\n",
              "     width=\"24px\">\n",
              "    <g>\n",
              "        <path d=\"M19 3H5c-1.1 0-2 .9-2 2v14c0 1.1.9 2 2 2h14c1.1 0 2-.9 2-2V5c0-1.1-.9-2-2-2zM9 17H7v-7h2v7zm4 0h-2V7h2v10zm4 0h-2v-4h2v4z\"/>\n",
              "    </g>\n",
              "</svg>\n",
              "  </button>\n",
              "\n",
              "<style>\n",
              "  .colab-df-quickchart {\n",
              "      --bg-color: #E8F0FE;\n",
              "      --fill-color: #1967D2;\n",
              "      --hover-bg-color: #E2EBFA;\n",
              "      --hover-fill-color: #174EA6;\n",
              "      --disabled-fill-color: #AAA;\n",
              "      --disabled-bg-color: #DDD;\n",
              "  }\n",
              "\n",
              "  [theme=dark] .colab-df-quickchart {\n",
              "      --bg-color: #3B4455;\n",
              "      --fill-color: #D2E3FC;\n",
              "      --hover-bg-color: #434B5C;\n",
              "      --hover-fill-color: #FFFFFF;\n",
              "      --disabled-bg-color: #3B4455;\n",
              "      --disabled-fill-color: #666;\n",
              "  }\n",
              "\n",
              "  .colab-df-quickchart {\n",
              "    background-color: var(--bg-color);\n",
              "    border: none;\n",
              "    border-radius: 50%;\n",
              "    cursor: pointer;\n",
              "    display: none;\n",
              "    fill: var(--fill-color);\n",
              "    height: 32px;\n",
              "    padding: 0;\n",
              "    width: 32px;\n",
              "  }\n",
              "\n",
              "  .colab-df-quickchart:hover {\n",
              "    background-color: var(--hover-bg-color);\n",
              "    box-shadow: 0 1px 2px rgba(60, 64, 67, 0.3), 0 1px 3px 1px rgba(60, 64, 67, 0.15);\n",
              "    fill: var(--button-hover-fill-color);\n",
              "  }\n",
              "\n",
              "  .colab-df-quickchart-complete:disabled,\n",
              "  .colab-df-quickchart-complete:disabled:hover {\n",
              "    background-color: var(--disabled-bg-color);\n",
              "    fill: var(--disabled-fill-color);\n",
              "    box-shadow: none;\n",
              "  }\n",
              "\n",
              "  .colab-df-spinner {\n",
              "    border: 2px solid var(--fill-color);\n",
              "    border-color: transparent;\n",
              "    border-bottom-color: var(--fill-color);\n",
              "    animation:\n",
              "      spin 1s steps(1) infinite;\n",
              "  }\n",
              "\n",
              "  @keyframes spin {\n",
              "    0% {\n",
              "      border-color: transparent;\n",
              "      border-bottom-color: var(--fill-color);\n",
              "      border-left-color: var(--fill-color);\n",
              "    }\n",
              "    20% {\n",
              "      border-color: transparent;\n",
              "      border-left-color: var(--fill-color);\n",
              "      border-top-color: var(--fill-color);\n",
              "    }\n",
              "    30% {\n",
              "      border-color: transparent;\n",
              "      border-left-color: var(--fill-color);\n",
              "      border-top-color: var(--fill-color);\n",
              "      border-right-color: var(--fill-color);\n",
              "    }\n",
              "    40% {\n",
              "      border-color: transparent;\n",
              "      border-right-color: var(--fill-color);\n",
              "      border-top-color: var(--fill-color);\n",
              "    }\n",
              "    60% {\n",
              "      border-color: transparent;\n",
              "      border-right-color: var(--fill-color);\n",
              "    }\n",
              "    80% {\n",
              "      border-color: transparent;\n",
              "      border-right-color: var(--fill-color);\n",
              "      border-bottom-color: var(--fill-color);\n",
              "    }\n",
              "    90% {\n",
              "      border-color: transparent;\n",
              "      border-bottom-color: var(--fill-color);\n",
              "    }\n",
              "  }\n",
              "</style>\n",
              "\n",
              "  <script>\n",
              "    async function quickchart(key) {\n",
              "      const quickchartButtonEl =\n",
              "        document.querySelector('#' + key + ' button');\n",
              "      quickchartButtonEl.disabled = true;  // To prevent multiple clicks.\n",
              "      quickchartButtonEl.classList.add('colab-df-spinner');\n",
              "      try {\n",
              "        const charts = await google.colab.kernel.invokeFunction(\n",
              "            'suggestCharts', [key], {});\n",
              "      } catch (error) {\n",
              "        console.error('Error during call to suggestCharts:', error);\n",
              "      }\n",
              "      quickchartButtonEl.classList.remove('colab-df-spinner');\n",
              "      quickchartButtonEl.classList.add('colab-df-quickchart-complete');\n",
              "    }\n",
              "    (() => {\n",
              "      let quickchartButtonEl =\n",
              "        document.querySelector('#df-d1a30201-b3e7-4c73-bcca-3c2ed1492bd5 button');\n",
              "      quickchartButtonEl.style.display =\n",
              "        google.colab.kernel.accessAllowed ? 'block' : 'none';\n",
              "    })();\n",
              "  </script>\n",
              "</div>\n",
              "    </div>\n",
              "  </div>\n"
            ],
            "text/plain": [
              "           asin  popularity\n",
              "9    B000G2BESO           7\n",
              "350  B07HSF5HTX           7\n",
              "343  B07GHG9P9P           4\n",
              "827  B09F7PH4QR           4\n",
              "351  B07J32R15F           3"
            ]
          },
          "execution_count": 6,
          "metadata": {},
          "output_type": "execute_result"
        }
      ],
      "source": [
        "import pandas as pd\n",
        "db_sample_df = pd.json_normalize(\n",
        "    read_raw_data('Health_and_Personal_Care.jsonl.gz', limit=1000, fields = None)\n",
        ")\n",
        "(\n",
        "  db_sample_df\n",
        "  .groupby('asin')['user_id']\n",
        "  .count()\n",
        "  .reset_index(name='popularity')\n",
        "  .sort_values(by='popularity', ascending=False)\n",
        "  .head()\n",
        ")"
      ]
    },
    {
      "cell_type": "markdown",
      "metadata": {
        "id": "e-6n3sj9fUAi"
      },
      "source": [
        "# Train embeddings"
      ]
    },
    {
      "cell_type": "code",
      "execution_count": null,
      "metadata": {
        "colab": {
          "base_uri": "https://localhost:8080/"
        },
        "id": "q5qSF470lCki",
        "outputId": "c42ba08c-844d-4687-d769-6d2903362342"
      },
      "outputs": [
        {
          "name": "stdout",
          "output_type": "stream",
          "text": [
            "pretrained model loading...\n",
            "model loadind done\n",
            "Dataset num items: 494121\n",
            "corpus loading from /content/drive/MyDrive/sweed_data/corpus_embeds_0.npy\n",
            "Num embeddings 494121\n"
          ]
        }
      ],
      "source": [
        "def get_pytorch_model(root_dir, model_name='all-mpnet-base-v2'):\n",
        "  \"\"\"\n",
        "  model = get_pytorch_model(root_data_dir)\n",
        "  \"\"\"\n",
        "  from sentence_transformers import SentenceTransformer\n",
        "\n",
        "  models_dir = os.path.join(root_dir, 'models')\n",
        "  if not os.path.exists(models_dir):\n",
        "      os.mkdir(models_dir)\n",
        "  model_path = os.path.join(models_dir, model_name)\n",
        "\n",
        "  if not os.path.exists(model_path):\n",
        "      print('huggingface model loading...')\n",
        "      embedder = SentenceTransformer(model_name)\n",
        "      embedder.save(model_path)\n",
        "      clear_output()\n",
        "  else:\n",
        "      print('pretrained model loading...')\n",
        "      embedder = SentenceTransformer(model_name_or_path=model_path)\n",
        "  print('model loadind done')\n",
        "\n",
        "  return embedder\n",
        "\n",
        "def load_corpus(db):\n",
        "    corpus_texts = []\n",
        "    for item in db:\n",
        "      corpus_texts.append(item['text'])\n",
        "    return corpus_texts\n",
        "\n",
        "def train_embeds(corpus_texts, embedder, sentence_embedding_path, overwrite=False):\n",
        "    if os.path.exists(sentence_embedding_path) and not overwrite:\n",
        "        print('corpus loading from %s' % sentence_embedding_path)\n",
        "        passage_embeddings = np.load(sentence_embedding_path)\n",
        "    else:\n",
        "        print('num rows %d' % len(corpus_texts))\n",
        "        passage_embeddings = embedder.encode(corpus_texts, show_progress_bar=True)\n",
        "        passage_embeddings = np.array([embedding for embedding in passage_embeddings]).astype(\"float32\")\n",
        "        with open(sentence_embedding_path, 'wb') as f:\n",
        "            np.save(f, passage_embeddings)\n",
        "        print('corpus saved to %s' % sentence_embedding_path)\n",
        "    print('Num embeddings %d' % passage_embeddings.shape[0])\n",
        "    return passage_embeddings\n",
        "\n",
        "model = get_pytorch_model(root_data_dir)\n",
        "db = read_raw_data(\n",
        "    'Health_and_Personal_Care.jsonl.gz',\n",
        "    limit = -1, fields = ['rating', 'text', 'title', 'asin']\n",
        ")\n",
        "corpus = load_corpus(db)\n",
        "data_version = 0\n",
        "embeds = train_embeds(\n",
        "    corpus, model,\n",
        "    os.path.join(root_data_dir, f'corpus_embeds_{data_version}.npy'),\n",
        "    overwrite=False\n",
        ")"
      ]
    },
    {
      "cell_type": "code",
      "execution_count": null,
      "metadata": {
        "colab": {
          "base_uri": "https://localhost:8080/"
        },
        "id": "Bxrd0_WvfSir",
        "outputId": "a23dbd75-7e29-47e4-c2f8-87d7e1fef5aa"
      },
      "outputs": [
        {
          "data": {
            "text/plain": [
              "[{'B002C6467S': 'Best headache pills ever'},\n",
              " {'B000V0D0QK': \"Best headache product. I keep one at work and one in my purse. Works much faster than pills. I also like their 'sinus help'.\"},\n",
              " {'B017MV8V64': \"Terrible product. Complete waste of money... Save yourself the headache and don't ever spend money for these pills. They do nothing.\"},\n",
              " {'B00JQSW4MY': 'My only non drug solution for a bad headache...works every time...'},\n",
              " {'B01M04LW7Z': 'Only medicine that relieves my tension headaches.'},\n",
              " {'B002C6467S': 'best headache medicine ever'},\n",
              " {'B002C6467S': 'Best headache medicine'},\n",
              " {'B079YWWJZQ': 'I have to be careful with these or they give me a terrific headache. Be careful of taking with anything else.'},\n",
              " {'B002C6467S': 'This medicine works great on my headache.'},\n",
              " {'B002C6467S': \"This is the only medicine that cures my headaches it's the best\"}]"
            ]
          },
          "execution_count": 32,
          "metadata": {},
          "output_type": "execute_result"
        }
      ],
      "source": [
        "import datetime\n",
        "import hashlib\n",
        "\n",
        "import backoff\n",
        "import openai\n",
        "from openai import OpenAI\n",
        "\n",
        "\n",
        "client = OpenAI(\n",
        "    api_key=envs[\"OPENAI_API_KEY\"]\n",
        ")\n",
        "\n",
        "\n",
        "@backoff.on_exception(backoff.expo, openai.APIError)\n",
        "@backoff.on_exception(backoff.expo, openai.RateLimitError)\n",
        "@backoff.on_exception(backoff.expo,openai.Timeout)\n",
        "@backoff.on_exception(backoff.expo, RuntimeError)\n",
        "def gpt_query(gpt_params, verbose: bool = False, avoid_fuckup: bool = False) -> dict:\n",
        "    print('connecting OpenAI...')\n",
        "    if verbose:\n",
        "        print(gpt_params[\"messages\"][1][\"content\"])\n",
        "    response = client.chat.completions.create(\n",
        "        **gpt_params\n",
        "    )\n",
        "    gpt_response = response.choices[0].message.content\n",
        "    if avoid_fuckup:\n",
        "        if '[' in gpt_response or '?' in gpt_response or '{' in gpt_response:\n",
        "            raise RuntimeError\n",
        "    res = {'recs': gpt_response}\n",
        "    res.update({'prompt_tokens': response.usage.completion_tokens, 'prompt_tokens': response.usage.prompt_tokens, 'total_tokens': response.usage.total_tokens})\n",
        "    seed_phrase = f'{str(datetime.datetime.now().timestamp())}{gpt_response}'\n",
        "    schedule_id = str(hashlib.md5(seed_phrase.encode('utf-8')).hexdigest())[:12]\n",
        "    res.update({'id': schedule_id})\n",
        "    return res\n",
        "\n",
        "def gen_candadates(db, ids):\n",
        "  candidates = '\\n'.join([\"item_id: %s; review: %s\" % (db[i]['asin'], db[i]['text']) for i in ids])\n",
        "  return candidates\n",
        "\n",
        "def generate(db, ids, verbose=False):\n",
        "    gpt_params = {\n",
        "        'model': 'gpt-3.5-turbo',\n",
        "        'max_tokens': 500,\n",
        "        'temperature': 0.7,\n",
        "        'top_p': 0.5,\n",
        "        'frequency_penalty': 0.5,\n",
        "    }\n",
        "    gpt_promt = promt_generation(gen_candadates(db, ids))\n",
        "    if verbose:\n",
        "        print(gpt_promt)\n",
        "    messages = [\n",
        "        {\n",
        "          \"role\": \"system\",\n",
        "          \"content\": \"You are a helpful assistant for medicine shopping\",\n",
        "        },\n",
        "        {\n",
        "          \"role\": \"user\",\n",
        "          \"content\": gpt_promt,\n",
        "        },\n",
        "    ]\n",
        "    gpt_params.update({'messages': messages})\n",
        "    res = gpt_query(gpt_params, verbose=False)\n",
        "\n",
        "    return res\n",
        "\n",
        "def top_similar(query_embed, candidates_embeds, top=10):\n",
        "  from sklearn.metrics.pairwise import cosine_similarity\n",
        "\n",
        "  sims = cosine_similarity(query_embed.reshape(1, -1), candidates_embeds)[0]\n",
        "  top_similar_idx = [int(i) for i in np.argsort(-np.abs(sims))][:top]\n",
        "  return top_similar_idx\n",
        "\n",
        "def retrieve(query):\n",
        "  query_embed = model.encode(query, show_progress_bar=False)\n",
        "  indexes = top_similar(query_embed, embeds)\n",
        "  return indexes\n",
        "\n",
        "def get_retrieved_content(db, ids):\n",
        "  res = [{db[i]['asin']: db[i]['text']} for i in ids]\n",
        "  return res\n",
        "\n",
        "def promt_generation(candidates):\n",
        "  # TODO: use jinja2\n",
        "  promt = f\"\"\"\n",
        "      Next rows below is an item_id reviews.\n",
        "      {candidates}\n",
        "      Utilize reviews to determine the best item_id.\n",
        "      Avoid including actual reviews; rephrase them succinctly.\n",
        "      Keep the recommendation under 50 words. Avoid starting with \"Based on reviews\"; opt for a more creative approach!\n",
        "      Recommendation:\n",
        "  \"\"\"\n",
        "  return promt\n",
        "\n",
        "query = \"headache tablets\"\n",
        "ids = retrieve(query)\n",
        "get_retrieved_content(db, ids)"
      ]
    },
    {
      "cell_type": "code",
      "execution_count": null,
      "metadata": {
        "colab": {
          "base_uri": "https://localhost:8080/"
        },
        "id": "JxS1qd-CjvyW",
        "outputId": "da2c46da-6210-402e-f9c0-3a83ab38fdb8"
      },
      "outputs": [
        {
          "name": "stdout",
          "output_type": "stream",
          "text": [
            "connecting OpenAI...\n",
            "I recommend item_id B002C6467S for effective headache relief based on positive user experiences.\n",
            "This medicine has consistently been praised for its fast and reliable results, making it a top choice for those seeking quick and lasting relief from headaches.\n"
          ]
        }
      ],
      "source": [
        "\n",
        "res = generate(db, ids)\n",
        "print(res['recs'].replace('. ', '.\\n'))"
      ]
    },
    {
      "cell_type": "code",
      "execution_count": null,
      "metadata": {
        "colab": {
          "base_uri": "https://localhost:8080/"
        },
        "id": "N-ADeJoQBYxN",
        "outputId": "584b2168-11b9-473a-9dfc-55cc5f7ea4cd"
      },
      "outputs": [
        {
          "name": "stdout",
          "output_type": "stream",
          "text": [
            "connecting OpenAI...\n",
            "For long-lasting warmth and coverage over a large area, consider item_id B06XJ253CH.\n",
            "It effectively stays cold and provides ample warmth without needing to be reheated frequently.\n"
          ]
        }
      ],
      "source": [
        "query = \"getting cold\"\n",
        "ids = retrieve(query)\n",
        "res = generate(db, ids)\n",
        "print(res['recs'].replace('. ', '.\\n'))"
      ]
    },
    {
      "cell_type": "code",
      "execution_count": null,
      "metadata": {
        "colab": {
          "base_uri": "https://localhost:8080/"
        },
        "id": "pofafdv_Agk3",
        "outputId": "e681c392-aa40-456d-c2a9-39ed1599b3e0"
      },
      "outputs": [
        {
          "name": "stdout",
          "output_type": "stream",
          "text": [
            "connecting OpenAI...\n",
            "For effective relief from cough, consider item_id B009RPA6RQ as customers have experienced quick results with just one dose.\n",
            "It's a convenient solution to help alleviate cough symptoms.\n"
          ]
        }
      ],
      "source": [
        "query = \"bad cough\"\n",
        "ids = retrieve(query)\n",
        "res = generate(db, ids)\n",
        "print(res['recs'].replace('. ', '.\\n'))"
      ]
    },
    {
      "cell_type": "code",
      "execution_count": null,
      "metadata": {
        "colab": {
          "base_uri": "https://localhost:8080/"
        },
        "id": "Nri0oziXkEm8",
        "outputId": "2fe70d0f-9f64-42e5-8aed-663b7ba5089a"
      },
      "outputs": [
        {
          "data": {
            "text/plain": [
              "[{'B002ZXMXD2': 'Slows cough'},\n",
              " {'B013CX7R5M': 'Got rid of my cough'},\n",
              " {'B0009RO11I': 'Stops coughing.'},\n",
              " {'B009RPA6RQ': 'Had a cough. Took 1 dose and the cough was gone.'},\n",
              " {'B01IAI712S': 'Excellent for a cough!'},\n",
              " {'B000G2BESO': 'My husband is coughing MUCH less I have one by his chair and one by head of the bed'},\n",
              " {'B07177YRWD': 'This is a trip to the Dr saver!!  Colds happen, but sometimes they are worse than a cough - and instead of waiting to see if it gets better, just blow your nose!  Product is amazing!'},\n",
              " {'B01867RCR2': 'Stinks smells like a pine tree'},\n",
              " {'B01MA3FA6H': 'WE GOT THIS FOR COUGH AND WHEN WE USED IT ITS WORK'},\n",
              " {'B08V8G6M5F': 'Bad knee'}]"
            ]
          },
          "execution_count": 37,
          "metadata": {},
          "output_type": "execute_result"
        }
      ],
      "source": [
        "get_retrieved_content(db, ids)"
      ]
    },
    {
      "cell_type": "code",
      "execution_count": null,
      "metadata": {
        "colab": {
          "base_uri": "https://localhost:8080/"
        },
        "id": "7MxqJLSLfSli",
        "outputId": "87d76875-b1f3-4582-b019-bd2bb67b9f3f"
      },
      "outputs": [
        {
          "name": "stdout",
          "output_type": "stream",
          "text": [
            "connecting OpenAI...\n",
            "Recommendation: Embrace restful nights and bid farewell to insomnia with the item_id B00RY8HUOK, which has helped many users overcome sleepless nights and reclaim their peace of mind.\n"
          ]
        }
      ],
      "source": [
        "query = \"insomnia\"\n",
        "ids = retrieve(query)\n",
        "res = generate(db, ids)\n",
        "print(res['recs'].replace('. ', '.\\n'))"
      ]
    },
    {
      "cell_type": "code",
      "execution_count": null,
      "metadata": {
        "colab": {
          "base_uri": "https://localhost:8080/"
        },
        "id": "40gljZCUfSop",
        "outputId": "7d27cced-8823-483f-aaa4-8e105bfe02ea"
      },
      "outputs": [
        {
          "data": {
            "text/plain": [
              "[{'B0986QSMJJ': 'Sleeping'},\n",
              " {'B085RFQVNC': 'Sleep'},\n",
              " {'B01COI6EHI': 'Sleep'},\n",
              " {'B00ZTC56O4': 'Sleep'},\n",
              " {'B07FSCW71V': 'Sleep'},\n",
              " {'B00A3Z44RW': 'Sleep'},\n",
              " {'B00RY8HUOK': 'I have suffered with horrible insomnia so bad it caused me to take early retirement. This preparation, along with an antidepressant, has defeated my horrible foe.'},\n",
              " {'B085RFQVNC': 'Day sleeping.'},\n",
              " {'B06XXCV77N': 'sleeping well'},\n",
              " {'B085X863KB': 'Insomnia is a very headache. Long-term insomnia has bothered me. Since I bought this product, spraying on the pillow every time before going to bed can make the whole person relax and go to sleep quickly.'}]"
            ]
          },
          "execution_count": 39,
          "metadata": {},
          "output_type": "execute_result"
        }
      ],
      "source": [
        "get_retrieved_content(db, ids)"
      ]
    },
    {
      "cell_type": "code",
      "execution_count": null,
      "metadata": {
        "colab": {
          "base_uri": "https://localhost:8080/"
        },
        "id": "szzD940GyG2P",
        "outputId": "578ec8ea-c3c9-4f51-8a64-72246c135792"
      },
      "outputs": [
        {
          "name": "stdout",
          "output_type": "stream",
          "text": [
            "connecting OpenAI...\n",
            "After analyzing the feedback provided, I suggest considering item_id B01LXSDEV4 for its positive association with relaxation.\n",
            "This item has garnered favorable reviews related to promoting a sense of calm and tranquility.\n",
            "It could be a beneficial choice for your needs.\n"
          ]
        }
      ],
      "source": [
        "query = \"depression\"\n",
        "ids = retrieve(query)\n",
        "res = generate(db, ids)\n",
        "print(res['recs'].replace('. ', '.\\n'))"
      ]
    },
    {
      "cell_type": "code",
      "execution_count": null,
      "metadata": {
        "colab": {
          "base_uri": "https://localhost:8080/"
        },
        "id": "570EqxGHka3b",
        "outputId": "791acda2-d871-4162-d781-2be28ad5a524"
      },
      "outputs": [
        {
          "data": {
            "text/plain": [
              "[{'B07WR9NQPM': 'trying for depression'},\n",
              " {'B01LXSDEV4': 'Relaxation.'},\n",
              " {'B08HNFBDTK': 'Relaxation'},\n",
              " {'B06XNLLR6C': 'Relaxation'},\n",
              " {'B076H8Z7P7': 'Medicine'},\n",
              " {'B0083I38EQ': 'Meds'},\n",
              " {'B01LZLSJ7B': 'Health'},\n",
              " {'B093TMDWPZ': 'Health'},\n",
              " {'B006T4KZH4': 'Health'},\n",
              " {'B099682GNL': 'Health'}]"
            ]
          },
          "execution_count": 41,
          "metadata": {},
          "output_type": "execute_result"
        }
      ],
      "source": [
        "get_retrieved_content(db, ids)"
      ]
    },
    {
      "cell_type": "code",
      "execution_count": null,
      "metadata": {
        "id": "7gL4X2l2kevH"
      },
      "outputs": [],
      "source": []
    }
  ],
  "metadata": {
    "accelerator": "GPU",
    "colab": {
      "gpuType": "T4",
      "provenance": []
    },
    "kernelspec": {
      "display_name": "Python 3",
      "name": "python3"
    },
    "language_info": {
      "name": "python"
    }
  },
  "nbformat": 4,
  "nbformat_minor": 0
}
