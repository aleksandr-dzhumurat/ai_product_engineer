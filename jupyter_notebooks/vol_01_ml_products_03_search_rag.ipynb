{
  "nbformat": 4,
  "nbformat_minor": 0,
  "metadata": {
    "colab": {
      "provenance": [],
      "gpuType": "T4"
    },
    "kernelspec": {
      "name": "python3",
      "display_name": "Python 3"
    },
    "language_info": {
      "name": "python"
    },
    "accelerator": "GPU"
  },
  "cells": [
    {
      "cell_type": "code",
      "execution_count": 1,
      "metadata": {
        "colab": {
          "base_uri": "https://localhost:8080/"
        },
        "id": "jWXGRrtCKx0l",
        "outputId": "cdaedb9a-a7aa-4d27-c5da-3d9319f04ea0"
      },
      "outputs": [
        {
          "output_type": "stream",
          "name": "stdout",
          "text": [
            "Drive already mounted at /content/drive; to attempt to forcibly remount, call drive.mount(\"/content/drive\", force_remount=True).\n",
            "Google drive connected\n",
            "['nyt-ingredients-snapshot-2015.csv', 'insurance (1).csv', 'non_linear.csv', 'client_segmentation.csv', 'eigen.pkl', 'clustering.pkl', 'boosting_toy_dataset.csv', 'politic_meme.jpg', 'gray_goose.jpg', 'test_dataset.pkl', 'memes', 'optimal_push_time', 'sklearn_data', 'my_little_recsys', 'corpora', 'logs', 'nltk_data', 'recsys_data', 'MNIST', 'hymenoptera_data', 'pet_projects', 'ocr_dataset_sample.csv', 'geo_points.csv.gzip', 'scored_corpus.csv', 'labeled_data_corpus.csv', 'memes_stat_dataset.zip', 'als_model.pkl', 'raw_data.zip', 'json_views.tar.gz', 'test_data.csv', 'sales_timeseries_dataset.csv.gz', 'brand_tweets_valid.csv', 'brand_tweets.csv', 'Health_and_Personal_Care.jsonl.gz', 'models', 'final_dataset.zip', 'ocr_dataset.zip', 'bidmachine_logs.zip', 'meta_Health_and_Personal_Care.jsonl.gz', 'messages.db', 'user_item_views.zip', 'content_catalog.zip', 'ground_truth_dataset.pkl', 'insurance.csv', 'model.cb', 'corpus_embeds_0.npy', 'corpus_embeds_1.npy', 'corpus_embeds_2.npy']\n",
            "Data dir content /content/drive/MyDrive/ml_course_data: nyt-ingredients-snapshot-2015.csv, insurance (1).csv, non_linear.csv, client_segmentation.csv, eigen.pkl, clustering.pkl, boosting_toy_dataset.csv, politic_meme.jpg, gray_goose.jpg, test_dataset.pkl, memes, optimal_push_time, sklearn_data, my_little_recsys, corpora, logs, nltk_data, recsys_data, MNIST, hymenoptera_data, pet_projects, ocr_dataset_sample.csv, geo_points.csv.gzip, scored_corpus.csv, labeled_data_corpus.csv, memes_stat_dataset.zip, als_model.pkl, raw_data.zip, json_views.tar.gz, test_data.csv, sales_timeseries_dataset.csv.gz, brand_tweets_valid.csv, brand_tweets.csv, Health_and_Personal_Care.jsonl.gz, models, final_dataset.zip, ocr_dataset.zip, bidmachine_logs.zip, meta_Health_and_Personal_Care.jsonl.gz, messages.db, user_item_views.zip, content_catalog.zip, ground_truth_dataset.pkl, insurance.csv, model.cb, corpus_embeds_0.npy, corpus_embeds_1.npy, corpus_embeds_2.npy\n"
          ]
        }
      ],
      "source": [
        "import os\n",
        "import sys\n",
        "\n",
        "import numpy as np\n",
        "\n",
        "run_env = os.getenv('RUN_ENV', 'COLLAB')\n",
        "if run_env == 'COLLAB':\n",
        "  from google.colab import drive\n",
        "  ROOT_DIR = '/content/drive'\n",
        "  drive.mount(ROOT_DIR)\n",
        "  print('Google drive connected')\n",
        "  root_data_dir = os.path.join(ROOT_DIR, 'MyDrive', 'ml_course_data')\n",
        "  lib_path = os.path.join(ROOT_DIR, 'MyDrive', 'src')\n",
        "  if not os.path.exists(lib_path):\n",
        "    raise RuntimeError('Upload and `src` dir with code')\n",
        "  sys.path.append(lib_path)\n",
        "else:\n",
        "  root_data_dir = os.getenv('DATA_DIR', '/srv/data')\n",
        "\n",
        "print(os.listdir(root_data_dir))\n",
        "\n",
        "if not os.path.exists(root_data_dir):\n",
        "  raise RuntimeError('Data dir not exists')\n",
        "else:\n",
        "  print('Data dir content %s: %s' % (root_data_dir, ', '.join(os.listdir(root_data_dir))))"
      ]
    },
    {
      "cell_type": "markdown",
      "source": [
        "It is critical to get access for GPU for fast embeddings evaluation"
      ],
      "metadata": {
        "id": "buajtPxWtmgq"
      }
    },
    {
      "cell_type": "code",
      "source": [
        "import torch\n",
        "\n",
        "device = torch.device(\n",
        "    [f'cuda:{i}' for i in range(torch.cuda.device_count())][0]\n",
        "    if torch.cuda.is_available() else 'cpu'\n",
        ")\n",
        "if not 'cuda' in str(device):\n",
        "    raise RuntimeError('GPU is not available')\n",
        "print('torch device: %s' % device)"
      ],
      "metadata": {
        "colab": {
          "base_uri": "https://localhost:8080/"
        },
        "id": "_fCigc1Jtloe",
        "outputId": "d97ffa39-12a4-4ac4-a6f4-2602d8bb942e"
      },
      "execution_count": 2,
      "outputs": [
        {
          "output_type": "stream",
          "name": "stdout",
          "text": [
            "torch device: cuda:0\n"
          ]
        }
      ]
    },
    {
      "cell_type": "code",
      "source": [
        "models_dir = os.path.join(root_data_dir, 'models')\n",
        "if not os.path.exists(models_dir):\n",
        "    os.mkdir(models_dir)\n",
        "print(f'Models dir: {models_dir}')"
      ],
      "metadata": {
        "colab": {
          "base_uri": "https://localhost:8080/"
        },
        "id": "BdIBLTCxN1HK",
        "outputId": "223451f9-9493-452e-89f5-fe48eabdb3cf"
      },
      "execution_count": 3,
      "outputs": [
        {
          "output_type": "stream",
          "name": "stdout",
          "text": [
            "Models dir: /content/drive/MyDrive/ml_course_data/models\n"
          ]
        }
      ]
    },
    {
      "cell_type": "code",
      "source": [
        "import os\n",
        "with open(os.path.join(ROOT_DIR, 'MyDrive', 'secrets', 'secrets.env'), 'r') as f:\n",
        "  envs = {j[0]: j[1] for j in [i.strip().split('=') for i in f.readlines()]}\n",
        "print(len(envs))"
      ],
      "metadata": {
        "colab": {
          "base_uri": "https://localhost:8080/"
        },
        "id": "6QtZFrZ0K_tp",
        "outputId": "524f1d8f-3cb0-435b-9eb0-025b63f1162a"
      },
      "execution_count": 4,
      "outputs": [
        {
          "output_type": "stream",
          "name": "stdout",
          "text": [
            "3\n"
          ]
        }
      ]
    },
    {
      "cell_type": "code",
      "source": [
        "from IPython.display import clear_output\n",
        "\n",
        "!pip install langchain_community python-dotenv langchain_huggingface backoff\n",
        "# !pip install faiss-gpu-cu11\n",
        "clear_output()\n",
        "print('Packages installed')"
      ],
      "metadata": {
        "colab": {
          "base_uri": "https://localhost:8080/"
        },
        "id": "kT03FfkMzkPZ",
        "outputId": "510b8278-f2f1-4053-8d7d-4cefeb9f3d4e"
      },
      "execution_count": 5,
      "outputs": [
        {
          "output_type": "stream",
          "name": "stdout",
          "text": [
            "Packages installed\n"
          ]
        }
      ]
    },
    {
      "cell_type": "markdown",
      "source": [
        "# RAG dev\n",
        "\n",
        "[amazon reviews](https://amazon-reviews-2023.github.io/)\n",
        "\n",
        "Plan\n",
        "* rag over one dataset (healthcare)\n",
        "* rag over two datasets (healthcare + electronics)"
      ],
      "metadata": {
        "id": "3yEj-sQJLE3i"
      }
    },
    {
      "cell_type": "code",
      "source": [
        "import gzip\n",
        "import json\n",
        "\n",
        "def read_raw_data(file_name, limit: int, fields = None):\n",
        "\n",
        "  file_path = os.path.join(root_data_dir, file_name)\n",
        "  res = []\n",
        "  with gzip.open(file_path, 'rt') as gz_file:\n",
        "      for line in gz_file:\n",
        "          data = json.loads(line.strip())\n",
        "          if fields is not None:\n",
        "            res.append({i: j for i, j in data.items() if i in fields})\n",
        "          else:\n",
        "            res.append(data)\n",
        "          if limit == len(res):\n",
        "              break\n",
        "  print('Dataset num items: %d' % len(res))\n",
        "  return res\n",
        "\n",
        "read_raw_data('Health_and_Personal_Care.jsonl.gz', limit = 3)"
      ],
      "metadata": {
        "colab": {
          "base_uri": "https://localhost:8080/"
        },
        "id": "Gv1prawWLDgf",
        "outputId": "3c2faf83-eae6-4938-99e9-7440fbefbe12"
      },
      "execution_count": 6,
      "outputs": [
        {
          "output_type": "stream",
          "name": "stdout",
          "text": [
            "Dataset num items: 3\n"
          ]
        },
        {
          "output_type": "execute_result",
          "data": {
            "text/plain": [
              "[{'rating': 4.0,\n",
              "  'title': '12 mg is 12 on the periodic table people! Mg for magnesium',\n",
              "  'text': 'This review is more to clarify someone else’s review bc they didn’t understand understand the labeling!  It shows 1000mg as advertised & another little label says 12mg bc 12 is on the periodic table for magnesium!  I realize not everyone takes chemistry, but 4 ppl liked his review & so misinformation is spreading.  This works. If however you are on opiate level medications that are causing constipation you should talk to your pain dr or your gastrointestinal dr & ask for a medication called Linzess which works must better & must faster, but is unnecessary for most people.  If magnesium is working for you just make sure to take it with food & drink 6-8 glasses of water per day.  Staying hydrated will really help.  Before switching to Linzess I used to take one 1,000 mg pill am & pm every day with meals & always with an 8 ounce glass of water or other liquid.',\n",
              "  'images': [],\n",
              "  'asin': 'B07TDSJZMR',\n",
              "  'parent_asin': 'B07TDSJZMR',\n",
              "  'user_id': 'AFKZENTNBQ7A7V7UXW5JJI6UGRYQ',\n",
              "  'timestamp': 1580950175902,\n",
              "  'helpful_vote': 3,\n",
              "  'verified_purchase': True},\n",
              " {'rating': 5.0,\n",
              "  'title': 'Save the lanet using less plastic.',\n",
              "  'text': 'Love these easy multitasking bleach tablets. Beats carrying home a big old jug of bleach.Walmark has been out of them since pademic hit and was so glad to find hear.',\n",
              "  'images': [],\n",
              "  'asin': 'B08637FWWF',\n",
              "  'parent_asin': 'B08637FWWF',\n",
              "  'user_id': 'AEVWAM3YWN5URJVJIZZ6XPD2MKIA',\n",
              "  'timestamp': 1604354586880,\n",
              "  'helpful_vote': 3,\n",
              "  'verified_purchase': True},\n",
              " {'rating': 5.0,\n",
              "  'title': 'Fantastic',\n",
              "  'text': \"I have been suffering a couple months with heel pain from plantar fasciitis.  I thought I'd give these a try and wow, I was surprised at how much they cut down on the pain.  I wish they came in a tighter and thicker version.\",\n",
              "  'images': [],\n",
              "  'asin': 'B07KJVGNN5',\n",
              "  'parent_asin': 'B07KJVGNN5',\n",
              "  'user_id': 'AHSPLDNW5OOUK2PLH7GXLACFBZNQ',\n",
              "  'timestamp': 1563966838905,\n",
              "  'helpful_vote': 0,\n",
              "  'verified_purchase': True}]"
            ]
          },
          "metadata": {},
          "execution_count": 6
        }
      ]
    },
    {
      "cell_type": "code",
      "source": [
        "import pandas as pd\n",
        "\n",
        "def count_products_popularity(raw_data_entries):\n",
        "  db_sample_df = pd.json_normalize(\n",
        "      raw_data_entries\n",
        "  )\n",
        "  popularity_df = (\n",
        "    db_sample_df\n",
        "    .groupby('asin')['user_id']\n",
        "    .count()\n",
        "    .reset_index(name='popularity')\n",
        "    .sort_values(by='popularity', ascending=False)\n",
        "  )\n",
        "  return popularity_df\n",
        "\n",
        "count_products_popularity(\n",
        "    read_raw_data('Health_and_Personal_Care.jsonl.gz', limit=1000, fields = None)\n",
        ").head()"
      ],
      "metadata": {
        "colab": {
          "base_uri": "https://localhost:8080/",
          "height": 224
        },
        "id": "TKIy5OyPLJgc",
        "outputId": "ad05eb67-e367-44e5-9666-e5b9ecddb89d"
      },
      "execution_count": 7,
      "outputs": [
        {
          "output_type": "stream",
          "name": "stdout",
          "text": [
            "Dataset num items: 1000\n"
          ]
        },
        {
          "output_type": "execute_result",
          "data": {
            "text/plain": [
              "           asin  popularity\n",
              "350  B07HSF5HTX           7\n",
              "9    B000G2BESO           7\n",
              "827  B09F7PH4QR           4\n",
              "343  B07GHG9P9P           4\n",
              "351  B07J32R15F           3"
            ],
            "text/html": [
              "\n",
              "  <div id=\"df-a32a9deb-b2cc-4b9b-964f-ed486755bb38\" class=\"colab-df-container\">\n",
              "    <div>\n",
              "<style scoped>\n",
              "    .dataframe tbody tr th:only-of-type {\n",
              "        vertical-align: middle;\n",
              "    }\n",
              "\n",
              "    .dataframe tbody tr th {\n",
              "        vertical-align: top;\n",
              "    }\n",
              "\n",
              "    .dataframe thead th {\n",
              "        text-align: right;\n",
              "    }\n",
              "</style>\n",
              "<table border=\"1\" class=\"dataframe\">\n",
              "  <thead>\n",
              "    <tr style=\"text-align: right;\">\n",
              "      <th></th>\n",
              "      <th>asin</th>\n",
              "      <th>popularity</th>\n",
              "    </tr>\n",
              "  </thead>\n",
              "  <tbody>\n",
              "    <tr>\n",
              "      <th>350</th>\n",
              "      <td>B07HSF5HTX</td>\n",
              "      <td>7</td>\n",
              "    </tr>\n",
              "    <tr>\n",
              "      <th>9</th>\n",
              "      <td>B000G2BESO</td>\n",
              "      <td>7</td>\n",
              "    </tr>\n",
              "    <tr>\n",
              "      <th>827</th>\n",
              "      <td>B09F7PH4QR</td>\n",
              "      <td>4</td>\n",
              "    </tr>\n",
              "    <tr>\n",
              "      <th>343</th>\n",
              "      <td>B07GHG9P9P</td>\n",
              "      <td>4</td>\n",
              "    </tr>\n",
              "    <tr>\n",
              "      <th>351</th>\n",
              "      <td>B07J32R15F</td>\n",
              "      <td>3</td>\n",
              "    </tr>\n",
              "  </tbody>\n",
              "</table>\n",
              "</div>\n",
              "    <div class=\"colab-df-buttons\">\n",
              "\n",
              "  <div class=\"colab-df-container\">\n",
              "    <button class=\"colab-df-convert\" onclick=\"convertToInteractive('df-a32a9deb-b2cc-4b9b-964f-ed486755bb38')\"\n",
              "            title=\"Convert this dataframe to an interactive table.\"\n",
              "            style=\"display:none;\">\n",
              "\n",
              "  <svg xmlns=\"http://www.w3.org/2000/svg\" height=\"24px\" viewBox=\"0 -960 960 960\">\n",
              "    <path d=\"M120-120v-720h720v720H120Zm60-500h600v-160H180v160Zm220 220h160v-160H400v160Zm0 220h160v-160H400v160ZM180-400h160v-160H180v160Zm440 0h160v-160H620v160ZM180-180h160v-160H180v160Zm440 0h160v-160H620v160Z\"/>\n",
              "  </svg>\n",
              "    </button>\n",
              "\n",
              "  <style>\n",
              "    .colab-df-container {\n",
              "      display:flex;\n",
              "      gap: 12px;\n",
              "    }\n",
              "\n",
              "    .colab-df-convert {\n",
              "      background-color: #E8F0FE;\n",
              "      border: none;\n",
              "      border-radius: 50%;\n",
              "      cursor: pointer;\n",
              "      display: none;\n",
              "      fill: #1967D2;\n",
              "      height: 32px;\n",
              "      padding: 0 0 0 0;\n",
              "      width: 32px;\n",
              "    }\n",
              "\n",
              "    .colab-df-convert:hover {\n",
              "      background-color: #E2EBFA;\n",
              "      box-shadow: 0px 1px 2px rgba(60, 64, 67, 0.3), 0px 1px 3px 1px rgba(60, 64, 67, 0.15);\n",
              "      fill: #174EA6;\n",
              "    }\n",
              "\n",
              "    .colab-df-buttons div {\n",
              "      margin-bottom: 4px;\n",
              "    }\n",
              "\n",
              "    [theme=dark] .colab-df-convert {\n",
              "      background-color: #3B4455;\n",
              "      fill: #D2E3FC;\n",
              "    }\n",
              "\n",
              "    [theme=dark] .colab-df-convert:hover {\n",
              "      background-color: #434B5C;\n",
              "      box-shadow: 0px 1px 3px 1px rgba(0, 0, 0, 0.15);\n",
              "      filter: drop-shadow(0px 1px 2px rgba(0, 0, 0, 0.3));\n",
              "      fill: #FFFFFF;\n",
              "    }\n",
              "  </style>\n",
              "\n",
              "    <script>\n",
              "      const buttonEl =\n",
              "        document.querySelector('#df-a32a9deb-b2cc-4b9b-964f-ed486755bb38 button.colab-df-convert');\n",
              "      buttonEl.style.display =\n",
              "        google.colab.kernel.accessAllowed ? 'block' : 'none';\n",
              "\n",
              "      async function convertToInteractive(key) {\n",
              "        const element = document.querySelector('#df-a32a9deb-b2cc-4b9b-964f-ed486755bb38');\n",
              "        const dataTable =\n",
              "          await google.colab.kernel.invokeFunction('convertToInteractive',\n",
              "                                                    [key], {});\n",
              "        if (!dataTable) return;\n",
              "\n",
              "        const docLinkHtml = 'Like what you see? Visit the ' +\n",
              "          '<a target=\"_blank\" href=https://colab.research.google.com/notebooks/data_table.ipynb>data table notebook</a>'\n",
              "          + ' to learn more about interactive tables.';\n",
              "        element.innerHTML = '';\n",
              "        dataTable['output_type'] = 'display_data';\n",
              "        await google.colab.output.renderOutput(dataTable, element);\n",
              "        const docLink = document.createElement('div');\n",
              "        docLink.innerHTML = docLinkHtml;\n",
              "        element.appendChild(docLink);\n",
              "      }\n",
              "    </script>\n",
              "  </div>\n",
              "\n",
              "\n",
              "    <div id=\"df-b7badaf8-9fde-445e-900d-e5edcc8df2ef\">\n",
              "      <button class=\"colab-df-quickchart\" onclick=\"quickchart('df-b7badaf8-9fde-445e-900d-e5edcc8df2ef')\"\n",
              "                title=\"Suggest charts\"\n",
              "                style=\"display:none;\">\n",
              "\n",
              "<svg xmlns=\"http://www.w3.org/2000/svg\" height=\"24px\"viewBox=\"0 0 24 24\"\n",
              "     width=\"24px\">\n",
              "    <g>\n",
              "        <path d=\"M19 3H5c-1.1 0-2 .9-2 2v14c0 1.1.9 2 2 2h14c1.1 0 2-.9 2-2V5c0-1.1-.9-2-2-2zM9 17H7v-7h2v7zm4 0h-2V7h2v10zm4 0h-2v-4h2v4z\"/>\n",
              "    </g>\n",
              "</svg>\n",
              "      </button>\n",
              "\n",
              "<style>\n",
              "  .colab-df-quickchart {\n",
              "      --bg-color: #E8F0FE;\n",
              "      --fill-color: #1967D2;\n",
              "      --hover-bg-color: #E2EBFA;\n",
              "      --hover-fill-color: #174EA6;\n",
              "      --disabled-fill-color: #AAA;\n",
              "      --disabled-bg-color: #DDD;\n",
              "  }\n",
              "\n",
              "  [theme=dark] .colab-df-quickchart {\n",
              "      --bg-color: #3B4455;\n",
              "      --fill-color: #D2E3FC;\n",
              "      --hover-bg-color: #434B5C;\n",
              "      --hover-fill-color: #FFFFFF;\n",
              "      --disabled-bg-color: #3B4455;\n",
              "      --disabled-fill-color: #666;\n",
              "  }\n",
              "\n",
              "  .colab-df-quickchart {\n",
              "    background-color: var(--bg-color);\n",
              "    border: none;\n",
              "    border-radius: 50%;\n",
              "    cursor: pointer;\n",
              "    display: none;\n",
              "    fill: var(--fill-color);\n",
              "    height: 32px;\n",
              "    padding: 0;\n",
              "    width: 32px;\n",
              "  }\n",
              "\n",
              "  .colab-df-quickchart:hover {\n",
              "    background-color: var(--hover-bg-color);\n",
              "    box-shadow: 0 1px 2px rgba(60, 64, 67, 0.3), 0 1px 3px 1px rgba(60, 64, 67, 0.15);\n",
              "    fill: var(--button-hover-fill-color);\n",
              "  }\n",
              "\n",
              "  .colab-df-quickchart-complete:disabled,\n",
              "  .colab-df-quickchart-complete:disabled:hover {\n",
              "    background-color: var(--disabled-bg-color);\n",
              "    fill: var(--disabled-fill-color);\n",
              "    box-shadow: none;\n",
              "  }\n",
              "\n",
              "  .colab-df-spinner {\n",
              "    border: 2px solid var(--fill-color);\n",
              "    border-color: transparent;\n",
              "    border-bottom-color: var(--fill-color);\n",
              "    animation:\n",
              "      spin 1s steps(1) infinite;\n",
              "  }\n",
              "\n",
              "  @keyframes spin {\n",
              "    0% {\n",
              "      border-color: transparent;\n",
              "      border-bottom-color: var(--fill-color);\n",
              "      border-left-color: var(--fill-color);\n",
              "    }\n",
              "    20% {\n",
              "      border-color: transparent;\n",
              "      border-left-color: var(--fill-color);\n",
              "      border-top-color: var(--fill-color);\n",
              "    }\n",
              "    30% {\n",
              "      border-color: transparent;\n",
              "      border-left-color: var(--fill-color);\n",
              "      border-top-color: var(--fill-color);\n",
              "      border-right-color: var(--fill-color);\n",
              "    }\n",
              "    40% {\n",
              "      border-color: transparent;\n",
              "      border-right-color: var(--fill-color);\n",
              "      border-top-color: var(--fill-color);\n",
              "    }\n",
              "    60% {\n",
              "      border-color: transparent;\n",
              "      border-right-color: var(--fill-color);\n",
              "    }\n",
              "    80% {\n",
              "      border-color: transparent;\n",
              "      border-right-color: var(--fill-color);\n",
              "      border-bottom-color: var(--fill-color);\n",
              "    }\n",
              "    90% {\n",
              "      border-color: transparent;\n",
              "      border-bottom-color: var(--fill-color);\n",
              "    }\n",
              "  }\n",
              "</style>\n",
              "\n",
              "      <script>\n",
              "        async function quickchart(key) {\n",
              "          const quickchartButtonEl =\n",
              "            document.querySelector('#' + key + ' button');\n",
              "          quickchartButtonEl.disabled = true;  // To prevent multiple clicks.\n",
              "          quickchartButtonEl.classList.add('colab-df-spinner');\n",
              "          try {\n",
              "            const charts = await google.colab.kernel.invokeFunction(\n",
              "                'suggestCharts', [key], {});\n",
              "          } catch (error) {\n",
              "            console.error('Error during call to suggestCharts:', error);\n",
              "          }\n",
              "          quickchartButtonEl.classList.remove('colab-df-spinner');\n",
              "          quickchartButtonEl.classList.add('colab-df-quickchart-complete');\n",
              "        }\n",
              "        (() => {\n",
              "          let quickchartButtonEl =\n",
              "            document.querySelector('#df-b7badaf8-9fde-445e-900d-e5edcc8df2ef button');\n",
              "          quickchartButtonEl.style.display =\n",
              "            google.colab.kernel.accessAllowed ? 'block' : 'none';\n",
              "        })();\n",
              "      </script>\n",
              "    </div>\n",
              "    </div>\n",
              "  </div>\n"
            ],
            "application/vnd.google.colaboratory.intrinsic+json": {
              "type": "dataframe",
              "summary": "{\n  \"name\": \")\",\n  \"rows\": 5,\n  \"fields\": [\n    {\n      \"column\": \"asin\",\n      \"properties\": {\n        \"dtype\": \"string\",\n        \"num_unique_values\": 5,\n        \"samples\": [\n          \"B000G2BESO\",\n          \"B07J32R15F\",\n          \"B09F7PH4QR\"\n        ],\n        \"semantic_type\": \"\",\n        \"description\": \"\"\n      }\n    },\n    {\n      \"column\": \"popularity\",\n      \"properties\": {\n        \"dtype\": \"number\",\n        \"std\": 1,\n        \"min\": 3,\n        \"max\": 7,\n        \"num_unique_values\": 3,\n        \"samples\": [\n          7,\n          4,\n          3\n        ],\n        \"semantic_type\": \"\",\n        \"description\": \"\"\n      }\n    }\n  ]\n}"
            }
          },
          "metadata": {},
          "execution_count": 7
        }
      ]
    },
    {
      "cell_type": "code",
      "source": [
        "from langchain_huggingface import HuggingFaceEmbeddings\n",
        "\n",
        "model_name = \"sentence-transformers/all-mpnet-base-v2\"\n",
        "\n",
        "embedding_model = HuggingFaceEmbeddings(\n",
        "    model_name=model_name,\n",
        "    cache_folder=models_dir,\n",
        "    model_kwargs={\"device\": device}  # 👈 force GPU, if available\n",
        ")\n",
        "\n",
        "corpus_texts = [\n",
        "    \"The quick brown fox jumps over the lazy dog.\",\n",
        "    \"Artificial intelligence is transforming industries.\"\n",
        "]\n",
        "\n",
        "# Generate embeddings for documents\n",
        "passage_embeddings = embedding_model.embed_documents(corpus_texts)\n",
        "\n",
        "print(f\"Generated {len(passage_embeddings)} embeddings\")\n",
        "print(f\"Each embedding vector has dimension {len(passage_embeddings[0])}\")\n"
      ],
      "metadata": {
        "colab": {
          "base_uri": "https://localhost:8080/"
        },
        "id": "G7QkUV5KKyWF",
        "outputId": "a0617cde-ac7c-4087-9204-03d80c4baec6"
      },
      "execution_count": 8,
      "outputs": [
        {
          "output_type": "stream",
          "name": "stdout",
          "text": [
            "Generated 2 embeddings\n",
            "Each embedding vector has dimension 768\n"
          ]
        }
      ]
    },
    {
      "cell_type": "code",
      "source": [
        "from collections import defaultdict\n",
        "\n",
        "\n",
        "def load_corpus(db, max_reviews_per_product = None, product_filter = None, min_text_length = 50 ):\n",
        "    corpus_texts = []\n",
        "    product_entry_counter = defaultdict(int)\n",
        "    if product_filter is None:\n",
        "      product_filter = set([item['asin'] for item in db])\n",
        "      print(f'Num products in filter {len(product_filter)}')\n",
        "    for item in db:\n",
        "      if item['asin'] not in product_filter:\n",
        "        continue\n",
        "      if max_reviews_per_product is not None and product_entry_counter[item['asin']] > max_reviews_per_product:\n",
        "        continue\n",
        "      if len(item['text']) > min_text_length:\n",
        "        product_entry_counter[item['asin']] += 1\n",
        "        corpus_texts.append({'doc_id': item['asin'], 'text': item['text']})\n",
        "    return corpus_texts\n",
        "\n",
        "def train_embeds(corpus_texts, embedder, sentence_embedding_path, overwrite=False):\n",
        "    if os.path.exists(sentence_embedding_path) and not overwrite:\n",
        "        print('corpus loading from %s' % sentence_embedding_path)\n",
        "        passage_embeddings = np.load(sentence_embedding_path)\n",
        "    else:\n",
        "        print('num rows %d' % len(corpus_texts))\n",
        "        passage_embeddings = embedding_model.embed_documents(corpus_texts)\n",
        "        passage_embeddings = np.array([embedding for embedding in passage_embeddings]).astype(\"float32\")\n",
        "        with open(sentence_embedding_path, 'wb') as f:\n",
        "            np.save(f, passage_embeddings)\n",
        "        print('corpus saved to %s' % sentence_embedding_path)\n",
        "    print('Num embeddings %d' % passage_embeddings.shape[0])\n",
        "    return passage_embeddings\n",
        "\n",
        "db = read_raw_data(\n",
        "    'Health_and_Personal_Care.jsonl.gz',\n",
        "    limit = -1, fields = ['rating', 'text', 'title', 'asin', 'user_id']\n",
        ")\n",
        "products_popularity_df = count_products_popularity(db)\n",
        "print(f'Num rows {products_popularity_df.shape[0]}')\n",
        "products_popularity_df.head()"
      ],
      "metadata": {
        "colab": {
          "base_uri": "https://localhost:8080/",
          "height": 242
        },
        "id": "5IlzoakeLkhi",
        "outputId": "cdf00412-aedc-4abf-8130-cf391862de52"
      },
      "execution_count": 9,
      "outputs": [
        {
          "output_type": "stream",
          "name": "stdout",
          "text": [
            "Dataset num items: 494121\n",
            "Num rows 62597\n"
          ]
        },
        {
          "output_type": "execute_result",
          "data": {
            "text/plain": [
              "             asin  popularity\n",
              "850    B000G2BESO        2840\n",
              "4562   B004C7MTLA        2196\n",
              "312    B0001ZWPI4        2095\n",
              "6228   B0077L8YFI        1992\n",
              "15616  B00XQBHJOU        1952"
            ],
            "text/html": [
              "\n",
              "  <div id=\"df-f8664913-a579-4943-8de0-ac424967de88\" class=\"colab-df-container\">\n",
              "    <div>\n",
              "<style scoped>\n",
              "    .dataframe tbody tr th:only-of-type {\n",
              "        vertical-align: middle;\n",
              "    }\n",
              "\n",
              "    .dataframe tbody tr th {\n",
              "        vertical-align: top;\n",
              "    }\n",
              "\n",
              "    .dataframe thead th {\n",
              "        text-align: right;\n",
              "    }\n",
              "</style>\n",
              "<table border=\"1\" class=\"dataframe\">\n",
              "  <thead>\n",
              "    <tr style=\"text-align: right;\">\n",
              "      <th></th>\n",
              "      <th>asin</th>\n",
              "      <th>popularity</th>\n",
              "    </tr>\n",
              "  </thead>\n",
              "  <tbody>\n",
              "    <tr>\n",
              "      <th>850</th>\n",
              "      <td>B000G2BESO</td>\n",
              "      <td>2840</td>\n",
              "    </tr>\n",
              "    <tr>\n",
              "      <th>4562</th>\n",
              "      <td>B004C7MTLA</td>\n",
              "      <td>2196</td>\n",
              "    </tr>\n",
              "    <tr>\n",
              "      <th>312</th>\n",
              "      <td>B0001ZWPI4</td>\n",
              "      <td>2095</td>\n",
              "    </tr>\n",
              "    <tr>\n",
              "      <th>6228</th>\n",
              "      <td>B0077L8YFI</td>\n",
              "      <td>1992</td>\n",
              "    </tr>\n",
              "    <tr>\n",
              "      <th>15616</th>\n",
              "      <td>B00XQBHJOU</td>\n",
              "      <td>1952</td>\n",
              "    </tr>\n",
              "  </tbody>\n",
              "</table>\n",
              "</div>\n",
              "    <div class=\"colab-df-buttons\">\n",
              "\n",
              "  <div class=\"colab-df-container\">\n",
              "    <button class=\"colab-df-convert\" onclick=\"convertToInteractive('df-f8664913-a579-4943-8de0-ac424967de88')\"\n",
              "            title=\"Convert this dataframe to an interactive table.\"\n",
              "            style=\"display:none;\">\n",
              "\n",
              "  <svg xmlns=\"http://www.w3.org/2000/svg\" height=\"24px\" viewBox=\"0 -960 960 960\">\n",
              "    <path d=\"M120-120v-720h720v720H120Zm60-500h600v-160H180v160Zm220 220h160v-160H400v160Zm0 220h160v-160H400v160ZM180-400h160v-160H180v160Zm440 0h160v-160H620v160ZM180-180h160v-160H180v160Zm440 0h160v-160H620v160Z\"/>\n",
              "  </svg>\n",
              "    </button>\n",
              "\n",
              "  <style>\n",
              "    .colab-df-container {\n",
              "      display:flex;\n",
              "      gap: 12px;\n",
              "    }\n",
              "\n",
              "    .colab-df-convert {\n",
              "      background-color: #E8F0FE;\n",
              "      border: none;\n",
              "      border-radius: 50%;\n",
              "      cursor: pointer;\n",
              "      display: none;\n",
              "      fill: #1967D2;\n",
              "      height: 32px;\n",
              "      padding: 0 0 0 0;\n",
              "      width: 32px;\n",
              "    }\n",
              "\n",
              "    .colab-df-convert:hover {\n",
              "      background-color: #E2EBFA;\n",
              "      box-shadow: 0px 1px 2px rgba(60, 64, 67, 0.3), 0px 1px 3px 1px rgba(60, 64, 67, 0.15);\n",
              "      fill: #174EA6;\n",
              "    }\n",
              "\n",
              "    .colab-df-buttons div {\n",
              "      margin-bottom: 4px;\n",
              "    }\n",
              "\n",
              "    [theme=dark] .colab-df-convert {\n",
              "      background-color: #3B4455;\n",
              "      fill: #D2E3FC;\n",
              "    }\n",
              "\n",
              "    [theme=dark] .colab-df-convert:hover {\n",
              "      background-color: #434B5C;\n",
              "      box-shadow: 0px 1px 3px 1px rgba(0, 0, 0, 0.15);\n",
              "      filter: drop-shadow(0px 1px 2px rgba(0, 0, 0, 0.3));\n",
              "      fill: #FFFFFF;\n",
              "    }\n",
              "  </style>\n",
              "\n",
              "    <script>\n",
              "      const buttonEl =\n",
              "        document.querySelector('#df-f8664913-a579-4943-8de0-ac424967de88 button.colab-df-convert');\n",
              "      buttonEl.style.display =\n",
              "        google.colab.kernel.accessAllowed ? 'block' : 'none';\n",
              "\n",
              "      async function convertToInteractive(key) {\n",
              "        const element = document.querySelector('#df-f8664913-a579-4943-8de0-ac424967de88');\n",
              "        const dataTable =\n",
              "          await google.colab.kernel.invokeFunction('convertToInteractive',\n",
              "                                                    [key], {});\n",
              "        if (!dataTable) return;\n",
              "\n",
              "        const docLinkHtml = 'Like what you see? Visit the ' +\n",
              "          '<a target=\"_blank\" href=https://colab.research.google.com/notebooks/data_table.ipynb>data table notebook</a>'\n",
              "          + ' to learn more about interactive tables.';\n",
              "        element.innerHTML = '';\n",
              "        dataTable['output_type'] = 'display_data';\n",
              "        await google.colab.output.renderOutput(dataTable, element);\n",
              "        const docLink = document.createElement('div');\n",
              "        docLink.innerHTML = docLinkHtml;\n",
              "        element.appendChild(docLink);\n",
              "      }\n",
              "    </script>\n",
              "  </div>\n",
              "\n",
              "\n",
              "    <div id=\"df-2725768a-329b-441c-a0aa-3448d7edc276\">\n",
              "      <button class=\"colab-df-quickchart\" onclick=\"quickchart('df-2725768a-329b-441c-a0aa-3448d7edc276')\"\n",
              "                title=\"Suggest charts\"\n",
              "                style=\"display:none;\">\n",
              "\n",
              "<svg xmlns=\"http://www.w3.org/2000/svg\" height=\"24px\"viewBox=\"0 0 24 24\"\n",
              "     width=\"24px\">\n",
              "    <g>\n",
              "        <path d=\"M19 3H5c-1.1 0-2 .9-2 2v14c0 1.1.9 2 2 2h14c1.1 0 2-.9 2-2V5c0-1.1-.9-2-2-2zM9 17H7v-7h2v7zm4 0h-2V7h2v10zm4 0h-2v-4h2v4z\"/>\n",
              "    </g>\n",
              "</svg>\n",
              "      </button>\n",
              "\n",
              "<style>\n",
              "  .colab-df-quickchart {\n",
              "      --bg-color: #E8F0FE;\n",
              "      --fill-color: #1967D2;\n",
              "      --hover-bg-color: #E2EBFA;\n",
              "      --hover-fill-color: #174EA6;\n",
              "      --disabled-fill-color: #AAA;\n",
              "      --disabled-bg-color: #DDD;\n",
              "  }\n",
              "\n",
              "  [theme=dark] .colab-df-quickchart {\n",
              "      --bg-color: #3B4455;\n",
              "      --fill-color: #D2E3FC;\n",
              "      --hover-bg-color: #434B5C;\n",
              "      --hover-fill-color: #FFFFFF;\n",
              "      --disabled-bg-color: #3B4455;\n",
              "      --disabled-fill-color: #666;\n",
              "  }\n",
              "\n",
              "  .colab-df-quickchart {\n",
              "    background-color: var(--bg-color);\n",
              "    border: none;\n",
              "    border-radius: 50%;\n",
              "    cursor: pointer;\n",
              "    display: none;\n",
              "    fill: var(--fill-color);\n",
              "    height: 32px;\n",
              "    padding: 0;\n",
              "    width: 32px;\n",
              "  }\n",
              "\n",
              "  .colab-df-quickchart:hover {\n",
              "    background-color: var(--hover-bg-color);\n",
              "    box-shadow: 0 1px 2px rgba(60, 64, 67, 0.3), 0 1px 3px 1px rgba(60, 64, 67, 0.15);\n",
              "    fill: var(--button-hover-fill-color);\n",
              "  }\n",
              "\n",
              "  .colab-df-quickchart-complete:disabled,\n",
              "  .colab-df-quickchart-complete:disabled:hover {\n",
              "    background-color: var(--disabled-bg-color);\n",
              "    fill: var(--disabled-fill-color);\n",
              "    box-shadow: none;\n",
              "  }\n",
              "\n",
              "  .colab-df-spinner {\n",
              "    border: 2px solid var(--fill-color);\n",
              "    border-color: transparent;\n",
              "    border-bottom-color: var(--fill-color);\n",
              "    animation:\n",
              "      spin 1s steps(1) infinite;\n",
              "  }\n",
              "\n",
              "  @keyframes spin {\n",
              "    0% {\n",
              "      border-color: transparent;\n",
              "      border-bottom-color: var(--fill-color);\n",
              "      border-left-color: var(--fill-color);\n",
              "    }\n",
              "    20% {\n",
              "      border-color: transparent;\n",
              "      border-left-color: var(--fill-color);\n",
              "      border-top-color: var(--fill-color);\n",
              "    }\n",
              "    30% {\n",
              "      border-color: transparent;\n",
              "      border-left-color: var(--fill-color);\n",
              "      border-top-color: var(--fill-color);\n",
              "      border-right-color: var(--fill-color);\n",
              "    }\n",
              "    40% {\n",
              "      border-color: transparent;\n",
              "      border-right-color: var(--fill-color);\n",
              "      border-top-color: var(--fill-color);\n",
              "    }\n",
              "    60% {\n",
              "      border-color: transparent;\n",
              "      border-right-color: var(--fill-color);\n",
              "    }\n",
              "    80% {\n",
              "      border-color: transparent;\n",
              "      border-right-color: var(--fill-color);\n",
              "      border-bottom-color: var(--fill-color);\n",
              "    }\n",
              "    90% {\n",
              "      border-color: transparent;\n",
              "      border-bottom-color: var(--fill-color);\n",
              "    }\n",
              "  }\n",
              "</style>\n",
              "\n",
              "      <script>\n",
              "        async function quickchart(key) {\n",
              "          const quickchartButtonEl =\n",
              "            document.querySelector('#' + key + ' button');\n",
              "          quickchartButtonEl.disabled = true;  // To prevent multiple clicks.\n",
              "          quickchartButtonEl.classList.add('colab-df-spinner');\n",
              "          try {\n",
              "            const charts = await google.colab.kernel.invokeFunction(\n",
              "                'suggestCharts', [key], {});\n",
              "          } catch (error) {\n",
              "            console.error('Error during call to suggestCharts:', error);\n",
              "          }\n",
              "          quickchartButtonEl.classList.remove('colab-df-spinner');\n",
              "          quickchartButtonEl.classList.add('colab-df-quickchart-complete');\n",
              "        }\n",
              "        (() => {\n",
              "          let quickchartButtonEl =\n",
              "            document.querySelector('#df-2725768a-329b-441c-a0aa-3448d7edc276 button');\n",
              "          quickchartButtonEl.style.display =\n",
              "            google.colab.kernel.accessAllowed ? 'block' : 'none';\n",
              "        })();\n",
              "      </script>\n",
              "    </div>\n",
              "    </div>\n",
              "  </div>\n"
            ],
            "application/vnd.google.colaboratory.intrinsic+json": {
              "type": "dataframe",
              "variable_name": "products_popularity_df",
              "summary": "{\n  \"name\": \"products_popularity_df\",\n  \"rows\": 62597,\n  \"fields\": [\n    {\n      \"column\": \"asin\",\n      \"properties\": {\n        \"dtype\": \"string\",\n        \"num_unique_values\": 62597,\n        \"samples\": [\n          \"B07PQMMD5Z\",\n          \"B08LHF114K\",\n          \"B002LZGWSQ\"\n        ],\n        \"semantic_type\": \"\",\n        \"description\": \"\"\n      }\n    },\n    {\n      \"column\": \"popularity\",\n      \"properties\": {\n        \"dtype\": \"number\",\n        \"std\": 38,\n        \"min\": 1,\n        \"max\": 2840,\n        \"num_unique_values\": 357,\n        \"samples\": [\n          135,\n          567,\n          66\n        ],\n        \"semantic_type\": \"\",\n        \"description\": \"\"\n      }\n    }\n  ]\n}"
            }
          },
          "metadata": {},
          "execution_count": 9
        }
      ]
    },
    {
      "cell_type": "code",
      "source": [
        "products_filter = set(products_popularity_df.head(10000)['asin'].values)\n",
        "corpus = load_corpus(db, max_reviews_per_product=4, product_filter=products_filter)\n",
        "print(f'Corpus length {len(corpus)}')\n",
        "corpus[0]"
      ],
      "metadata": {
        "colab": {
          "base_uri": "https://localhost:8080/"
        },
        "id": "fVo8DyIszVwe",
        "outputId": "5d129229-433e-44a9-c625-68d82253dc4b"
      },
      "execution_count": 10,
      "outputs": [
        {
          "output_type": "stream",
          "name": "stdout",
          "text": [
            "Corpus length 49622\n"
          ]
        },
        {
          "output_type": "execute_result",
          "data": {
            "text/plain": [
              "{'doc_id': 'B07TDSJZMR',\n",
              " 'text': 'This review is more to clarify someone else’s review bc they didn’t understand understand the labeling!  It shows 1000mg as advertised & another little label says 12mg bc 12 is on the periodic table for magnesium!  I realize not everyone takes chemistry, but 4 ppl liked his review & so misinformation is spreading.  This works. If however you are on opiate level medications that are causing constipation you should talk to your pain dr or your gastrointestinal dr & ask for a medication called Linzess which works must better & must faster, but is unnecessary for most people.  If magnesium is working for you just make sure to take it with food & drink 6-8 glasses of water per day.  Staying hydrated will really help.  Before switching to Linzess I used to take one 1,000 mg pill am & pm every day with meals & always with an 8 ounce glass of water or other liquid.'}"
            ]
          },
          "metadata": {},
          "execution_count": 10
        }
      ]
    },
    {
      "cell_type": "code",
      "source": [
        "data_version = 2\n",
        "embeds = train_embeds(\n",
        "    [i['text'] for i in corpus], embedding_model,\n",
        "    os.path.join(root_data_dir, f'corpus_embeds_{data_version}.npy'),\n",
        "    overwrite=False\n",
        ")\n",
        "print(embeds.shape)"
      ],
      "metadata": {
        "colab": {
          "base_uri": "https://localhost:8080/"
        },
        "id": "cq8X72JGPCXP",
        "outputId": "76ef2379-498a-4de6-c5c1-7e7da05496fb"
      },
      "execution_count": 11,
      "outputs": [
        {
          "output_type": "stream",
          "name": "stdout",
          "text": [
            "corpus loading from /content/drive/MyDrive/ml_course_data/corpus_embeds_2.npy\n",
            "Num embeddings 49622\n",
            "(49622, 768)\n"
          ]
        }
      ]
    },
    {
      "cell_type": "code",
      "source": [
        "query_string = 'headache'\n",
        "\n",
        "query_vector = embedding_model.embed_documents([query_string])\n",
        "len(query_vector[0])"
      ],
      "metadata": {
        "colab": {
          "base_uri": "https://localhost:8080/"
        },
        "id": "DlQQAIEKBtno",
        "outputId": "ac2084fe-e475-40df-b954-9ad7eaf11fa3"
      },
      "execution_count": 12,
      "outputs": [
        {
          "output_type": "execute_result",
          "data": {
            "text/plain": [
              "768"
            ]
          },
          "metadata": {},
          "execution_count": 12
        }
      ]
    },
    {
      "cell_type": "code",
      "source": [
        "from sklearn.metrics.pairwise import cosine_similarity\n",
        "\n",
        "class Catalog:\n",
        "  def __init__(self, corpus):\n",
        "      self.texts = np.array([i['text'] for i in corpus])\n",
        "      self.doc_ids = np.array([i['doc_id'] for i in corpus])\n",
        "\n",
        "  def get_items(self, item_indices):\n",
        "      docs = [{'doc_id': str(self.doc_ids[i]), 'text': str(self.texts[i])} for i in item_indices]\n",
        "      return docs\n",
        "\n",
        "class VectorIndex:\n",
        "  def __init__(self, embedder_model, corpus, corpus_embeddings):\n",
        "      self.vectorizer = embedder_model\n",
        "      self.vector_index = corpus_embeddings\n",
        "      self.items = np.array([i['doc_id'] for i in corpus])\n",
        "      print(\"Index built successfully. ✅\")\n",
        "\n",
        "  def retrieve(self, query_string, threshold=0.1, top_k=10):\n",
        "      query_vector = self.vectorizer.embed_documents([query_string])\n",
        "      cosine_similarities = cosine_similarity(np.array(query_vector).reshape(1, -1), embeds).flatten()\n",
        "      top_k_indices = cosine_similarities.argsort()[::-1][:top_k]  # descending order\n",
        "      top_k_scores = [round(i, 4) for i in cosine_similarities[top_k_indices]]\n",
        "      return [{'idx': i, 'score': s} for s, i in zip(top_k_scores, top_k_indices)]\n",
        "\n",
        "vector_index = VectorIndex(embedding_model, corpus, corpus_embeddings=embeds)\n",
        "content_catalog = Catalog(corpus)\n",
        "user_query = 'headache'\n",
        "products = vector_index.retrieve(user_query)\n",
        "print(products)"
      ],
      "metadata": {
        "colab": {
          "base_uri": "https://localhost:8080/"
        },
        "id": "0aktwJc5rkhi",
        "outputId": "e6ee4fae-8500-4e58-9c6d-9df9ecc68c85"
      },
      "execution_count": 13,
      "outputs": [
        {
          "output_type": "stream",
          "name": "stdout",
          "text": [
            "Index built successfully. ✅\n",
            "[{'idx': np.int64(42991), 'score': np.float64(0.545)}, {'idx': np.int64(27989), 'score': np.float64(0.5297)}, {'idx': np.int64(17146), 'score': np.float64(0.4861)}, {'idx': np.int64(9721), 'score': np.float64(0.4744)}, {'idx': np.int64(8462), 'score': np.float64(0.4726)}, {'idx': np.int64(30643), 'score': np.float64(0.4462)}, {'idx': np.int64(14362), 'score': np.float64(0.4373)}, {'idx': np.int64(33485), 'score': np.float64(0.4372)}, {'idx': np.int64(23111), 'score': np.float64(0.4312)}, {'idx': np.int64(12438), 'score': np.float64(0.4306)}]\n"
          ]
        }
      ]
    },
    {
      "cell_type": "code",
      "source": [
        "product_ids = [i['idx'] for i in products]\n",
        "candidates = content_catalog.get_items(product_ids)\n",
        "for i in candidates:\n",
        "  print(i)"
      ],
      "metadata": {
        "colab": {
          "base_uri": "https://localhost:8080/"
        },
        "id": "gj9GJXYmF0U_",
        "outputId": "25301743-cfdd-4227-b956-cf33ee4c69c2"
      },
      "execution_count": 14,
      "outputs": [
        {
          "output_type": "stream",
          "name": "stdout",
          "text": [
            "{'doc_id': 'B076HF85SK', 'text': 'Awful terrible doesn’t help gave me a big headache for over a werk'}\n",
            "{'doc_id': 'B002C6467S', 'text': \"This is the only medicine that cures my headaches it's the best\"}\n",
            "{'doc_id': 'B00890YO0U', 'text': 'Great product for any type of pain including a headache'}\n",
            "{'doc_id': 'B01GIP0SW0', 'text': 'Stuffed up nose, this works really well to clear you up'}\n",
            "{'doc_id': 'B074HSHL59', 'text': 'Need somemtype of migraine relief for the Mrs shemloves the spray.'}\n",
            "{'doc_id': 'B01NAXDO1T', 'text': 'Wow works on my sore neck and headaches since I was badly injured.'}\n",
            "{'doc_id': 'B07FYKC837', 'text': 'This product really helps me with my headaches.  I highly recommend it.'}\n",
            "{'doc_id': 'B07JFYBN1C', 'text': 'I swear by these headache wraps. We purchased 2! The pink one & this black one. The pressure & ice felt when using this almost always receives our migraine head pain. This is something we will always have in our home. We tell everyone that has a migraine about this gem. Purchasing one for our daughter & grand daughter.'}\n",
            "{'doc_id': 'B002C6467S', 'text': 'only thing that helps my brothers headaches/migraine'}\n",
            "{'doc_id': 'B09J2VHMHB', 'text': 'Tried the patches a few times didn’t help my migraine.'}\n"
          ]
        }
      ]
    },
    {
      "cell_type": "markdown",
      "source": [
        "## Generation"
      ],
      "metadata": {
        "id": "pJfxvQuyU5HI"
      }
    },
    {
      "cell_type": "code",
      "source": [
        "from llm import get_openai_client, generate\n",
        "\n",
        "openai_client = get_openai_client(envs['OPENAI_API_KEY'])\n",
        "\n",
        "knowledgebase = '\\n'.join([\"item_id: %s; review: %s\" % (i['doc_id'], i['text']) for i in candidates])\n",
        "\n",
        "system_prompt = f\"\"\"\n",
        "  You are a helpful assistant for medicine shopping. Answer to user query based on provided context\n",
        "\n",
        "  {knowledgebase}\n",
        "\"\"\"\n",
        "\n",
        "user_prompt = f\"User query: {user_query}\"\n"
      ],
      "metadata": {
        "id": "BBxL7VrwOtb4"
      },
      "execution_count": 15,
      "outputs": []
    },
    {
      "cell_type": "code",
      "source": [
        "genai_resp = generate(openai_client, user_prompt=user_prompt, system_prompt=system_prompt)\n",
        "print(genai_resp.text)"
      ],
      "metadata": {
        "colab": {
          "base_uri": "https://localhost:8080/"
        },
        "id": "yjPVbryiU4RV",
        "outputId": "a75a504e-0c3a-42b6-c234-8c6c4ce44747"
      },
      "execution_count": 18,
      "outputs": [
        {
          "output_type": "stream",
          "name": "stdout",
          "text": [
            "Based on the reviews provided, here are some options for headache relief:\n",
            "\n",
            "1. **Item ID: B002C6467S**\n",
            "   - Review: This is the only medicine that cures my headaches it's the best\n",
            "\n",
            "2. **Item ID: B00890YO0U**\n",
            "   - Review: Great product for any type of pain including a headache\n",
            "\n",
            "3. **Item ID: B07FYKC837**\n",
            "   - Review: This product really helps me with my headaches. I highly recommend it\n",
            "\n",
            "4. **Item ID: B07JFYBN1C**\n",
            "   - Review: I swear by these headache wraps. We purchased 2! The pink one & this black one. The pressure & ice felt when using this almost always relieves our migraine head pain.\n",
            "\n",
            "These products have received positive feedback for providing relief from headaches.\n"
          ]
        }
      ]
    },
    {
      "cell_type": "markdown",
      "source": [
        "# Homework\n",
        "\n",
        "Use huggingface for an inference\n",
        "\n",
        "use [InferenceClient](https://huggingface.co/docs/huggingface_hub/main/en/package_reference/inference_client#huggingface_hub.InferenceClient.chat_completion.example) for free\n",
        "\n",
        "An alternative: run ollama locally on your computer\n",
        "\n",
        "https://ollama.com/library/llama3.2:1b"
      ],
      "metadata": {
        "id": "Bu2UxvMcVEFp"
      }
    },
    {
      "cell_type": "code",
      "source": [],
      "metadata": {
        "id": "fwPUWnTZU4Ut"
      },
      "execution_count": 18,
      "outputs": []
    }
  ]
}