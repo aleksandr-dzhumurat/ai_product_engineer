{
 "cells": [
  {
   "cell_type": "code",
   "execution_count": 2,
   "id": "17f22bfc-53d4-4254-a319-5791228c406b",
   "metadata": {},
   "outputs": [
    {
     "name": "stdout",
     "output_type": "stream",
     "text": [
      "/Users/username/PycharmProjects/ml_for_products/data\n"
     ]
    },
    {
     "data": {
      "text/plain": [
       "['bidmachine_task_data', 'bidmachine_logs.zip']"
      ]
     },
     "execution_count": 2,
     "metadata": {},
     "output_type": "execute_result"
    }
   ],
   "source": [
    "import os\n",
    "\n",
    "print(os.environ['DATA_DIR'])\n",
    "\n",
    "root_data_dir = os.environ['DATA_DIR']\n",
    "os.listdir(os.environ['DATA_DIR'])"
   ]
  },
  {
   "cell_type": "code",
   "execution_count": 4,
   "id": "6d91717a-c722-40ad-a61f-ef7b50d74721",
   "metadata": {},
   "outputs": [
    {
     "data": {
      "text/plain": [
       "['__MACOSX', 'train_data.csv', 'test_data.csv']"
      ]
     },
     "execution_count": 4,
     "metadata": {},
     "output_type": "execute_result"
    }
   ],
   "source": [
    "train_data_dir = os.path.join(root_data_dir, 'bidmachine_task_data')\n",
    "os.listdir(train_data_dir)"
   ]
  },
  {
   "cell_type": "code",
   "execution_count": null,
   "id": "edd7e40a-1449-45cc-8d66-502d04204976",
   "metadata": {},
   "outputs": [
    {
     "name": "stdout",
     "output_type": "stream",
     "text": [
      "Collecting catboost\n",
      "  Downloading catboost-1.2.7-cp312-cp312-macosx_11_0_universal2.whl.metadata (1.2 kB)\n",
      "Collecting graphviz (from catboost)\n",
      "  Using cached graphviz-0.20.3-py3-none-any.whl.metadata (12 kB)\n",
      "Collecting matplotlib (from catboost)\n",
      "  Downloading matplotlib-3.9.2-cp312-cp312-macosx_10_12_x86_64.whl.metadata (11 kB)\n",
      "Collecting numpy<2.0,>=1.16.0 (from catboost)\n",
      "  Downloading numpy-1.26.4-cp312-cp312-macosx_10_9_x86_64.whl.metadata (61 kB)\n",
      "Requirement already satisfied: pandas>=0.24 in /Users/username/.pyenv/versions/3.12.6/envs/mlproducts-env/lib/python3.12/site-packages (from catboost) (2.2.3)\n",
      "Collecting scipy (from catboost)\n",
      "  Downloading scipy-1.14.1-cp312-cp312-macosx_10_13_x86_64.whl.metadata (60 kB)\n",
      "Collecting plotly (from catboost)\n",
      "  Using cached plotly-5.24.1-py3-none-any.whl.metadata (7.3 kB)\n",
      "Requirement already satisfied: six in /Users/username/.pyenv/versions/3.12.6/envs/mlproducts-env/lib/python3.12/site-packages (from catboost) (1.16.0)\n",
      "Requirement already satisfied: python-dateutil>=2.8.2 in /Users/username/.pyenv/versions/3.12.6/envs/mlproducts-env/lib/python3.12/site-packages (from pandas>=0.24->catboost) (2.9.0.post0)\n",
      "Requirement already satisfied: pytz>=2020.1 in /Users/username/.pyenv/versions/3.12.6/envs/mlproducts-env/lib/python3.12/site-packages (from pandas>=0.24->catboost) (2024.2)\n",
      "Requirement already satisfied: tzdata>=2022.7 in /Users/username/.pyenv/versions/3.12.6/envs/mlproducts-env/lib/python3.12/site-packages (from pandas>=0.24->catboost) (2024.2)\n",
      "Collecting contourpy>=1.0.1 (from matplotlib->catboost)\n",
      "  Downloading contourpy-1.3.0-cp312-cp312-macosx_10_9_x86_64.whl.metadata (5.4 kB)\n",
      "Collecting cycler>=0.10 (from matplotlib->catboost)\n",
      "  Using cached cycler-0.12.1-py3-none-any.whl.metadata (3.8 kB)\n",
      "Collecting fonttools>=4.22.0 (from matplotlib->catboost)\n",
      "  Downloading fonttools-4.54.1-cp312-cp312-macosx_10_13_universal2.whl.metadata (163 kB)\n",
      "Collecting kiwisolver>=1.3.1 (from matplotlib->catboost)\n",
      "  Downloading kiwisolver-1.4.7-cp312-cp312-macosx_10_9_x86_64.whl.metadata (6.3 kB)\n",
      "Requirement already satisfied: packaging>=20.0 in /Users/username/.pyenv/versions/3.12.6/envs/mlproducts-env/lib/python3.12/site-packages (from matplotlib->catboost) (24.1)\n",
      "Collecting pillow>=8 (from matplotlib->catboost)\n",
      "  Downloading pillow-11.0.0-cp312-cp312-macosx_10_13_x86_64.whl.metadata (9.1 kB)\n",
      "Collecting pyparsing>=2.3.1 (from matplotlib->catboost)\n",
      "  Downloading pyparsing-3.2.0-py3-none-any.whl.metadata (5.0 kB)\n",
      "Collecting tenacity>=6.2.0 (from plotly->catboost)\n",
      "  Using cached tenacity-9.0.0-py3-none-any.whl.metadata (1.2 kB)\n",
      "Downloading catboost-1.2.7-cp312-cp312-macosx_11_0_universal2.whl (27.0 MB)\n",
      "\u001b[2K   \u001b[38;2;114;156;31m━━━━━━━━━━━━━━━━━━━━━━━━━━━━━━━━━━━━━━━━\u001b[0m \u001b[32m27.0/27.0 MB\u001b[0m \u001b[31m383.3 kB/s\u001b[0m eta \u001b[36m0:00:00\u001b[0mm eta \u001b[36m0:00:01\u001b[0m[36m0:00:03\u001b[0m\n",
      "\u001b[?25hDownloading numpy-1.26.4-cp312-cp312-macosx_10_9_x86_64.whl (20.3 MB)\n",
      "\u001b[2K   \u001b[38;2;249;38;114m━━━━━━━━━━━━━━━━━━\u001b[0m\u001b[38;5;237m╺\u001b[0m\u001b[38;5;237m━━━━━━━━━━━━━━━━━━━━━\u001b[0m \u001b[32m9.2/20.3 MB\u001b[0m \u001b[31m492.5 kB/s\u001b[0m eta \u001b[36m0:00:23\u001b[0m:24\u001b[0m"
     ]
    }
   ],
   "source": [
    "from IPython.display import clear_output\n",
    "\n",
    "!pip install catboost\n",
    "clear_output()\n"
   ]
  },
  {
   "cell_type": "code",
   "execution_count": 8,
   "id": "3478ac98-438f-409e-97db-913322a68566",
   "metadata": {},
   "outputs": [
    {
     "ename": "NameError",
     "evalue": "name 'pd' is not defined",
     "output_type": "error",
     "traceback": [
      "\u001b[0;31m---------------------------------------------------------------------------\u001b[0m",
      "\u001b[0;31mNameError\u001b[0m                                 Traceback (most recent call last)",
      "Cell \u001b[0;32mIn[8], line 1\u001b[0m\n\u001b[0;32m----> 1\u001b[0m train_df \u001b[38;5;241m=\u001b[39m \u001b[43mpd\u001b[49m\u001b[38;5;241m.\u001b[39mread_csv(os\u001b[38;5;241m.\u001b[39mpath\u001b[38;5;241m.\u001b[39mjoin(train_data_dir, \u001b[38;5;124m'\u001b[39m\u001b[38;5;124mtrain_data.csv\u001b[39m\u001b[38;5;124m'\u001b[39m), nrows\u001b[38;5;241m=\u001b[39m\u001b[38;5;241m1000\u001b[39m)\n\u001b[1;32m      3\u001b[0m train_df\u001b[38;5;241m.\u001b[39mhead()\n",
      "\u001b[0;31mNameError\u001b[0m: name 'pd' is not defined"
     ]
    }
   ],
   "source": [
    "import pandas as pd\n",
    "\n",
    "train_df = pd.read_csv(os.path.join(train_data_dir, 'train_data.csv'), nrows=1000)\n",
    "\n",
    "train_df.head()"
   ]
  },
  {
   "cell_type": "code",
   "execution_count": 15,
   "id": "e97931de-b9fe-4806-a9b7-9fb099e2f07d",
   "metadata": {},
   "outputs": [
    {
     "data": {
      "text/plain": [
       "Index(['target', 'flr', 'sellerClearPrice', 'hour', 'ssp', 'dsp',\n",
       "       'auctionBidFloorSource', 'sdk', 'sdkver', 'bundle', 'os', 'lang',\n",
       "       'country', 'region', 'request_context_device_w',\n",
       "       'request_context_device_h', 'bidderFlrPolicy', 'adt', 'dc', 'contype',\n",
       "       'request_context_device_type', 'ifa', 'price'],\n",
       "      dtype='object')"
      ]
     },
     "execution_count": 15,
     "metadata": {},
     "output_type": "execute_result"
    }
   ],
   "source": [
    "train_df.columns"
   ]
  },
  {
   "cell_type": "code",
   "execution_count": 16,
   "id": "67fd4393-23c4-45ec-8677-1442f8002bf3",
   "metadata": {},
   "outputs": [
    {
     "data": {
      "text/html": [
       "<div>\n",
       "<style scoped>\n",
       "    .dataframe tbody tr th:only-of-type {\n",
       "        vertical-align: middle;\n",
       "    }\n",
       "\n",
       "    .dataframe tbody tr th {\n",
       "        vertical-align: top;\n",
       "    }\n",
       "\n",
       "    .dataframe thead th {\n",
       "        text-align: right;\n",
       "    }\n",
       "</style>\n",
       "<table border=\"1\" class=\"dataframe\">\n",
       "  <thead>\n",
       "    <tr style=\"text-align: right;\">\n",
       "      <th></th>\n",
       "      <th>target</th>\n",
       "      <th>flr</th>\n",
       "      <th>sellerClearPrice</th>\n",
       "      <th>hour</th>\n",
       "      <th>ssp</th>\n",
       "      <th>dsp</th>\n",
       "      <th>request_context_device_w</th>\n",
       "      <th>request_context_device_h</th>\n",
       "      <th>contype</th>\n",
       "      <th>request_context_device_type</th>\n",
       "      <th>price</th>\n",
       "    </tr>\n",
       "  </thead>\n",
       "  <tbody>\n",
       "    <tr>\n",
       "      <th>count</th>\n",
       "      <td>1000.000000</td>\n",
       "      <td>1000.000000</td>\n",
       "      <td>1000.000000</td>\n",
       "      <td>1000.000000</td>\n",
       "      <td>1000.0</td>\n",
       "      <td>1000.000000</td>\n",
       "      <td>1000.000000</td>\n",
       "      <td>1000.000000</td>\n",
       "      <td>1000.000000</td>\n",
       "      <td>1000.000000</td>\n",
       "      <td>1000.000000</td>\n",
       "    </tr>\n",
       "    <tr>\n",
       "      <th>mean</th>\n",
       "      <td>0.019000</td>\n",
       "      <td>2.525469</td>\n",
       "      <td>2.713013</td>\n",
       "      <td>11.328000</td>\n",
       "      <td>157.0</td>\n",
       "      <td>78.826000</td>\n",
       "      <td>639.792000</td>\n",
       "      <td>1247.998000</td>\n",
       "      <td>2.500000</td>\n",
       "      <td>4.205000</td>\n",
       "      <td>3.567206</td>\n",
       "    </tr>\n",
       "    <tr>\n",
       "      <th>std</th>\n",
       "      <td>0.136593</td>\n",
       "      <td>5.878980</td>\n",
       "      <td>4.739086</td>\n",
       "      <td>7.807007</td>\n",
       "      <td>0.0</td>\n",
       "      <td>26.458756</td>\n",
       "      <td>278.584199</td>\n",
       "      <td>555.673767</td>\n",
       "      <td>1.182962</td>\n",
       "      <td>0.403904</td>\n",
       "      <td>6.354854</td>\n",
       "    </tr>\n",
       "    <tr>\n",
       "      <th>min</th>\n",
       "      <td>0.000000</td>\n",
       "      <td>0.010000</td>\n",
       "      <td>0.026283</td>\n",
       "      <td>0.000000</td>\n",
       "      <td>157.0</td>\n",
       "      <td>41.000000</td>\n",
       "      <td>320.000000</td>\n",
       "      <td>568.000000</td>\n",
       "      <td>2.000000</td>\n",
       "      <td>4.000000</td>\n",
       "      <td>0.027666</td>\n",
       "    </tr>\n",
       "    <tr>\n",
       "      <th>25%</th>\n",
       "      <td>0.000000</td>\n",
       "      <td>0.691500</td>\n",
       "      <td>0.766361</td>\n",
       "      <td>3.000000</td>\n",
       "      <td>157.0</td>\n",
       "      <td>80.000000</td>\n",
       "      <td>390.000000</td>\n",
       "      <td>844.000000</td>\n",
       "      <td>2.000000</td>\n",
       "      <td>4.000000</td>\n",
       "      <td>1.010250</td>\n",
       "    </tr>\n",
       "    <tr>\n",
       "      <th>50%</th>\n",
       "      <td>0.000000</td>\n",
       "      <td>1.107266</td>\n",
       "      <td>1.521529</td>\n",
       "      <td>12.000000</td>\n",
       "      <td>157.0</td>\n",
       "      <td>80.000000</td>\n",
       "      <td>430.000000</td>\n",
       "      <td>932.000000</td>\n",
       "      <td>2.000000</td>\n",
       "      <td>4.000000</td>\n",
       "      <td>1.981744</td>\n",
       "    </tr>\n",
       "    <tr>\n",
       "      <th>75%</th>\n",
       "      <td>0.000000</td>\n",
       "      <td>3.105345</td>\n",
       "      <td>3.347819</td>\n",
       "      <td>18.250000</td>\n",
       "      <td>157.0</td>\n",
       "      <td>80.000000</td>\n",
       "      <td>810.000000</td>\n",
       "      <td>1600.000000</td>\n",
       "      <td>2.000000</td>\n",
       "      <td>4.000000</td>\n",
       "      <td>4.462007</td>\n",
       "    </tr>\n",
       "    <tr>\n",
       "      <th>max</th>\n",
       "      <td>1.000000</td>\n",
       "      <td>161.849300</td>\n",
       "      <td>124.300900</td>\n",
       "      <td>23.000000</td>\n",
       "      <td>157.0</td>\n",
       "      <td>227.000000</td>\n",
       "      <td>1812.000000</td>\n",
       "      <td>2712.000000</td>\n",
       "      <td>7.000000</td>\n",
       "      <td>5.000000</td>\n",
       "      <td>167.318500</td>\n",
       "    </tr>\n",
       "  </tbody>\n",
       "</table>\n",
       "</div>"
      ],
      "text/plain": [
       "            target          flr  sellerClearPrice         hour     ssp  \\\n",
       "count  1000.000000  1000.000000       1000.000000  1000.000000  1000.0   \n",
       "mean      0.019000     2.525469          2.713013    11.328000   157.0   \n",
       "std       0.136593     5.878980          4.739086     7.807007     0.0   \n",
       "min       0.000000     0.010000          0.026283     0.000000   157.0   \n",
       "25%       0.000000     0.691500          0.766361     3.000000   157.0   \n",
       "50%       0.000000     1.107266          1.521529    12.000000   157.0   \n",
       "75%       0.000000     3.105345          3.347819    18.250000   157.0   \n",
       "max       1.000000   161.849300        124.300900    23.000000   157.0   \n",
       "\n",
       "               dsp  request_context_device_w  request_context_device_h  \\\n",
       "count  1000.000000               1000.000000               1000.000000   \n",
       "mean     78.826000                639.792000               1247.998000   \n",
       "std      26.458756                278.584199                555.673767   \n",
       "min      41.000000                320.000000                568.000000   \n",
       "25%      80.000000                390.000000                844.000000   \n",
       "50%      80.000000                430.000000                932.000000   \n",
       "75%      80.000000                810.000000               1600.000000   \n",
       "max     227.000000               1812.000000               2712.000000   \n",
       "\n",
       "           contype  request_context_device_type        price  \n",
       "count  1000.000000                  1000.000000  1000.000000  \n",
       "mean      2.500000                     4.205000     3.567206  \n",
       "std       1.182962                     0.403904     6.354854  \n",
       "min       2.000000                     4.000000     0.027666  \n",
       "25%       2.000000                     4.000000     1.010250  \n",
       "50%       2.000000                     4.000000     1.981744  \n",
       "75%       2.000000                     4.000000     4.462007  \n",
       "max       7.000000                     5.000000   167.318500  "
      ]
     },
     "execution_count": 16,
     "metadata": {},
     "output_type": "execute_result"
    }
   ],
   "source": [
    "train_df.describe()"
   ]
  },
  {
   "cell_type": "code",
   "execution_count": null,
   "id": "082684cb-234d-4b01-97f7-250f49f104d3",
   "metadata": {},
   "outputs": [],
   "source": []
  },
  {
   "cell_type": "code",
   "execution_count": 11,
   "id": "00c78197-2cf4-4aba-b9b1-35eea59f64dc",
   "metadata": {},
   "outputs": [
    {
     "data": {
      "text/plain": [
       "target\n",
       "0    0.981\n",
       "1    0.019\n",
       "Name: proportion, dtype: float64"
      ]
     },
     "execution_count": 11,
     "metadata": {},
     "output_type": "execute_result"
    }
   ],
   "source": [
    "train_df['target'].value_counts(normalize=True)"
   ]
  },
  {
   "cell_type": "code",
   "execution_count": 17,
   "id": "a22ea158-6034-4ac2-94e6-f48c88ea696a",
   "metadata": {},
   "outputs": [],
   "source": [
    "features = {\n",
    "    'cat': ['request_context_device_type', 'dsp', 'ssp', 'hour'],\n",
    "    'num': ['price', ]\n",
    "}"
   ]
  },
  {
   "cell_type": "code",
   "execution_count": 19,
   "id": "54b012c2-dfb6-4251-bb10-2fef46714e4f",
   "metadata": {},
   "outputs": [],
   "source": [
    "X = train_df[features['cat'] + features['num']]\n",
    "y = train_df['target']"
   ]
  },
  {
   "cell_type": "code",
   "execution_count": null,
   "id": "7cc9d19e-45df-4944-b113-edd58c95c51c",
   "metadata": {},
   "outputs": [],
   "source": []
  },
  {
   "cell_type": "code",
   "execution_count": null,
   "id": "e329356c-6a5e-4f8c-9efe-668f501a031c",
   "metadata": {},
   "outputs": [],
   "source": [
    "from catboost import Pool, CatBoostClassifier\n",
    "\n",
    "from IPython.display import clear_output\n",
    "\n",
    "model = CatBoostClassifier(**{\n",
    "    'loss_function': 'CrossEntropy', 'boosting_type': 'Plain',\n",
    "    'bootstrap_type': 'Bernoulli', 'n_estimators': 150\n",
    "})\n",
    "\n",
    "train_pool = Pool(data=X, label=y, cat_features=features['cat'])\n",
    "model.fit(train_pool)\n",
    "clear_output()\n",
    "print(f'Model trained: {model}')"
   ]
  },
  {
   "cell_type": "code",
   "execution_count": null,
   "id": "5a79d202-0f48-44e2-b7b2-68e8a8197216",
   "metadata": {},
   "outputs": [],
   "source": []
  },
  {
   "cell_type": "code",
   "execution_count": null,
   "id": "5cd24cdb-e6d7-4ac5-9459-8d39c120b4a3",
   "metadata": {},
   "outputs": [],
   "source": []
  },
  {
   "cell_type": "code",
   "execution_count": null,
   "id": "2500575f-4105-4433-b285-634ee61e8d2e",
   "metadata": {},
   "outputs": [],
   "source": []
  },
  {
   "cell_type": "code",
   "execution_count": null,
   "id": "f89a0c08-a38d-4eb8-ad6c-c902ea798997",
   "metadata": {},
   "outputs": [],
   "source": []
  },
  {
   "cell_type": "code",
   "execution_count": null,
   "id": "77c28a57-7014-4261-a175-8699348c60c8",
   "metadata": {},
   "outputs": [],
   "source": []
  },
  {
   "cell_type": "code",
   "execution_count": null,
   "id": "64194ebb-6423-4b05-8d86-9abdb59a2dac",
   "metadata": {},
   "outputs": [],
   "source": []
  }
 ],
 "metadata": {
  "kernelspec": {
   "display_name": "Python 3 (ipykernel)",
   "language": "python",
   "name": "python3"
  },
  "language_info": {
   "codemirror_mode": {
    "name": "ipython",
    "version": 3
   },
   "file_extension": ".py",
   "mimetype": "text/x-python",
   "name": "python",
   "nbconvert_exporter": "python",
   "pygments_lexer": "ipython3",
   "version": "3.12.6"
  }
 },
 "nbformat": 4,
 "nbformat_minor": 5
}
