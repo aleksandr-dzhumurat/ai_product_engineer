{
 "cells": [
  {
   "cell_type": "code",
   "execution_count": 1,
   "id": "17f22bfc-53d4-4254-a319-5791228c406b",
   "metadata": {},
   "outputs": [
    {
     "name": "stdout",
     "output_type": "stream",
     "text": [
      "/Users/username/PycharmProjects/ml_for_products/data\n"
     ]
    },
    {
     "data": {
      "text/plain": [
       "['bidmachine_task_data', 'bidmachine_logs.zip']"
      ]
     },
     "execution_count": 1,
     "metadata": {},
     "output_type": "execute_result"
    }
   ],
   "source": [
    "import os\n",
    "\n",
    "print(os.environ['DATA_DIR'])\n",
    "\n",
    "root_data_dir = os.environ['DATA_DIR']\n",
    "os.listdir(os.environ['DATA_DIR'])"
   ]
  },
  {
   "cell_type": "code",
   "execution_count": 2,
   "id": "6d91717a-c722-40ad-a61f-ef7b50d74721",
   "metadata": {},
   "outputs": [
    {
     "data": {
      "text/plain": [
       "['__MACOSX', 'train_data.csv', 'test_data.csv']"
      ]
     },
     "execution_count": 2,
     "metadata": {},
     "output_type": "execute_result"
    }
   ],
   "source": [
    "train_data_dir = os.path.join(root_data_dir, 'bidmachine_task_data')\n",
    "os.listdir(train_data_dir)"
   ]
  },
  {
   "cell_type": "code",
   "execution_count": 3,
   "id": "edd7e40a-1449-45cc-8d66-502d04204976",
   "metadata": {},
   "outputs": [],
   "source": [
    "# from IPython.display import clear_output\n",
    "\n",
    "# !pip install catboost seaborn\n",
    "# clear_output()\n"
   ]
  },
  {
   "cell_type": "code",
   "execution_count": 4,
   "id": "3478ac98-438f-409e-97db-913322a68566",
   "metadata": {},
   "outputs": [
    {
     "data": {
      "text/html": [
       "<div>\n",
       "<style scoped>\n",
       "    .dataframe tbody tr th:only-of-type {\n",
       "        vertical-align: middle;\n",
       "    }\n",
       "\n",
       "    .dataframe tbody tr th {\n",
       "        vertical-align: top;\n",
       "    }\n",
       "\n",
       "    .dataframe thead th {\n",
       "        text-align: right;\n",
       "    }\n",
       "</style>\n",
       "<table border=\"1\" class=\"dataframe\">\n",
       "  <thead>\n",
       "    <tr style=\"text-align: right;\">\n",
       "      <th></th>\n",
       "      <th>target</th>\n",
       "      <th>flr</th>\n",
       "      <th>sellerClearPrice</th>\n",
       "      <th>hour</th>\n",
       "      <th>ssp</th>\n",
       "      <th>dsp</th>\n",
       "      <th>auctionBidFloorSource</th>\n",
       "      <th>sdk</th>\n",
       "      <th>sdkver</th>\n",
       "      <th>bundle</th>\n",
       "      <th>...</th>\n",
       "      <th>region</th>\n",
       "      <th>request_context_device_w</th>\n",
       "      <th>request_context_device_h</th>\n",
       "      <th>bidderFlrPolicy</th>\n",
       "      <th>adt</th>\n",
       "      <th>dc</th>\n",
       "      <th>contype</th>\n",
       "      <th>request_context_device_type</th>\n",
       "      <th>ifa</th>\n",
       "      <th>price</th>\n",
       "    </tr>\n",
       "  </thead>\n",
       "  <tbody>\n",
       "    <tr>\n",
       "      <th>0</th>\n",
       "      <td>0</td>\n",
       "      <td>1.651717</td>\n",
       "      <td>1.227061</td>\n",
       "      <td>0</td>\n",
       "      <td>157</td>\n",
       "      <td>80</td>\n",
       "      <td>rollouts</td>\n",
       "      <td>BidMachine</td>\n",
       "      <td>2.4.0.2</td>\n",
       "      <td>gAAAAABmcEFTEPcMMU786QLAISLs22JucTR9XWAoRq7NAM...</td>\n",
       "      <td>...</td>\n",
       "      <td>nc</td>\n",
       "      <td>834</td>\n",
       "      <td>1194</td>\n",
       "      <td>ascending auction</td>\n",
       "      <td>interstitial</td>\n",
       "      <td>US</td>\n",
       "      <td>2</td>\n",
       "      <td>5</td>\n",
       "      <td>NaN</td>\n",
       "      <td>1.651717</td>\n",
       "    </tr>\n",
       "    <tr>\n",
       "      <th>1</th>\n",
       "      <td>0</td>\n",
       "      <td>5.388000</td>\n",
       "      <td>5.709376</td>\n",
       "      <td>3</td>\n",
       "      <td>157</td>\n",
       "      <td>80</td>\n",
       "      <td>rollouts</td>\n",
       "      <td>BidMachine</td>\n",
       "      <td>2.4.0.2</td>\n",
       "      <td>gAAAAABmcEFTEPcMMU786QLAISLs22JucTR9XWAoRq7NAM...</td>\n",
       "      <td>...</td>\n",
       "      <td>sc</td>\n",
       "      <td>390</td>\n",
       "      <td>844</td>\n",
       "      <td>original</td>\n",
       "      <td>interstitial</td>\n",
       "      <td>US</td>\n",
       "      <td>2</td>\n",
       "      <td>4</td>\n",
       "      <td>NaN</td>\n",
       "      <td>7.685255</td>\n",
       "    </tr>\n",
       "    <tr>\n",
       "      <th>2</th>\n",
       "      <td>0</td>\n",
       "      <td>1.010250</td>\n",
       "      <td>1.728341</td>\n",
       "      <td>8</td>\n",
       "      <td>157</td>\n",
       "      <td>80</td>\n",
       "      <td>rollouts</td>\n",
       "      <td>BidMachine</td>\n",
       "      <td>2.4.0.2</td>\n",
       "      <td>gAAAAABmcEFTEPcMMU786QLAISLs22JucTR9XWAoRq7NAM...</td>\n",
       "      <td>...</td>\n",
       "      <td>nv</td>\n",
       "      <td>393</td>\n",
       "      <td>852</td>\n",
       "      <td>original</td>\n",
       "      <td>interstitial</td>\n",
       "      <td>US</td>\n",
       "      <td>2</td>\n",
       "      <td>4</td>\n",
       "      <td>NaN</td>\n",
       "      <td>2.326478</td>\n",
       "    </tr>\n",
       "    <tr>\n",
       "      <th>3</th>\n",
       "      <td>0</td>\n",
       "      <td>0.741433</td>\n",
       "      <td>0.547470</td>\n",
       "      <td>12</td>\n",
       "      <td>157</td>\n",
       "      <td>80</td>\n",
       "      <td>rollouts</td>\n",
       "      <td>BidMachine</td>\n",
       "      <td>2.4.0.2</td>\n",
       "      <td>gAAAAABmcEFTEPcMMU786QLAISLs22JucTR9XWAoRq7NAM...</td>\n",
       "      <td>...</td>\n",
       "      <td>coa</td>\n",
       "      <td>414</td>\n",
       "      <td>896</td>\n",
       "      <td>ascending auction</td>\n",
       "      <td>interstitial</td>\n",
       "      <td>US</td>\n",
       "      <td>2</td>\n",
       "      <td>4</td>\n",
       "      <td>NaN</td>\n",
       "      <td>0.756278</td>\n",
       "    </tr>\n",
       "    <tr>\n",
       "      <th>4</th>\n",
       "      <td>0</td>\n",
       "      <td>1.010250</td>\n",
       "      <td>1.721669</td>\n",
       "      <td>0</td>\n",
       "      <td>157</td>\n",
       "      <td>80</td>\n",
       "      <td>rollouts</td>\n",
       "      <td>BidMachine</td>\n",
       "      <td>2.4.0.2</td>\n",
       "      <td>gAAAAABmcEFTEPcMMU786QLAISLs22JucTR9XWAoRq7NAM...</td>\n",
       "      <td>...</td>\n",
       "      <td>il</td>\n",
       "      <td>414</td>\n",
       "      <td>896</td>\n",
       "      <td>original</td>\n",
       "      <td>interstitial</td>\n",
       "      <td>US</td>\n",
       "      <td>2</td>\n",
       "      <td>4</td>\n",
       "      <td>E30F6295-BCBC-4BD2-A1C4-2198F1EA38F2</td>\n",
       "      <td>2.317498</td>\n",
       "    </tr>\n",
       "  </tbody>\n",
       "</table>\n",
       "<p>5 rows × 23 columns</p>\n",
       "</div>"
      ],
      "text/plain": [
       "   target       flr  sellerClearPrice  hour  ssp  dsp auctionBidFloorSource  \\\n",
       "0       0  1.651717          1.227061     0  157   80              rollouts   \n",
       "1       0  5.388000          5.709376     3  157   80              rollouts   \n",
       "2       0  1.010250          1.728341     8  157   80              rollouts   \n",
       "3       0  0.741433          0.547470    12  157   80              rollouts   \n",
       "4       0  1.010250          1.721669     0  157   80              rollouts   \n",
       "\n",
       "          sdk   sdkver                                             bundle  \\\n",
       "0  BidMachine  2.4.0.2  gAAAAABmcEFTEPcMMU786QLAISLs22JucTR9XWAoRq7NAM...   \n",
       "1  BidMachine  2.4.0.2  gAAAAABmcEFTEPcMMU786QLAISLs22JucTR9XWAoRq7NAM...   \n",
       "2  BidMachine  2.4.0.2  gAAAAABmcEFTEPcMMU786QLAISLs22JucTR9XWAoRq7NAM...   \n",
       "3  BidMachine  2.4.0.2  gAAAAABmcEFTEPcMMU786QLAISLs22JucTR9XWAoRq7NAM...   \n",
       "4  BidMachine  2.4.0.2  gAAAAABmcEFTEPcMMU786QLAISLs22JucTR9XWAoRq7NAM...   \n",
       "\n",
       "   ... region request_context_device_w request_context_device_h  \\\n",
       "0  ...     nc                      834                     1194   \n",
       "1  ...     sc                      390                      844   \n",
       "2  ...     nv                      393                      852   \n",
       "3  ...    coa                      414                      896   \n",
       "4  ...     il                      414                      896   \n",
       "\n",
       "     bidderFlrPolicy           adt  dc contype request_context_device_type  \\\n",
       "0  ascending auction  interstitial  US       2                           5   \n",
       "1           original  interstitial  US       2                           4   \n",
       "2           original  interstitial  US       2                           4   \n",
       "3  ascending auction  interstitial  US       2                           4   \n",
       "4           original  interstitial  US       2                           4   \n",
       "\n",
       "                                    ifa     price  \n",
       "0                                   NaN  1.651717  \n",
       "1                                   NaN  7.685255  \n",
       "2                                   NaN  2.326478  \n",
       "3                                   NaN  0.756278  \n",
       "4  E30F6295-BCBC-4BD2-A1C4-2198F1EA38F2  2.317498  \n",
       "\n",
       "[5 rows x 23 columns]"
      ]
     },
     "execution_count": 4,
     "metadata": {},
     "output_type": "execute_result"
    }
   ],
   "source": [
    "import pandas as pd\n",
    "\n",
    "train_df = pd.read_csv(os.path.join(train_data_dir, 'train_data.csv'), nrows=1000)\n",
    "\n",
    "train_df.head()"
   ]
  },
  {
   "cell_type": "code",
   "execution_count": 5,
   "id": "7e01e7fd-81b6-419d-b2de-22a46823039b",
   "metadata": {},
   "outputs": [
    {
     "data": {
      "text/plain": [
       "target\n",
       "0    0.981\n",
       "1    0.019\n",
       "Name: proportion, dtype: float64"
      ]
     },
     "execution_count": 5,
     "metadata": {},
     "output_type": "execute_result"
    }
   ],
   "source": [
    "train_df['target'].value_counts(normalize=True)"
   ]
  },
  {
   "cell_type": "code",
   "execution_count": 15,
   "id": "e97931de-b9fe-4806-a9b7-9fb099e2f07d",
   "metadata": {},
   "outputs": [
    {
     "data": {
      "text/plain": [
       "Index(['target', 'flr', 'sellerClearPrice', 'hour', 'ssp', 'dsp',\n",
       "       'auctionBidFloorSource', 'sdk', 'sdkver', 'bundle', 'os', 'lang',\n",
       "       'country', 'region', 'request_context_device_w',\n",
       "       'request_context_device_h', 'bidderFlrPolicy', 'adt', 'dc', 'contype',\n",
       "       'request_context_device_type', 'ifa', 'price'],\n",
       "      dtype='object')"
      ]
     },
     "execution_count": 15,
     "metadata": {},
     "output_type": "execute_result"
    }
   ],
   "source": [
    "train_df.columns"
   ]
  },
  {
   "cell_type": "code",
   "execution_count": 7,
   "id": "67fd4393-23c4-45ec-8677-1442f8002bf3",
   "metadata": {},
   "outputs": [
    {
     "data": {
      "text/html": [
       "<div>\n",
       "<style scoped>\n",
       "    .dataframe tbody tr th:only-of-type {\n",
       "        vertical-align: middle;\n",
       "    }\n",
       "\n",
       "    .dataframe tbody tr th {\n",
       "        vertical-align: top;\n",
       "    }\n",
       "\n",
       "    .dataframe thead th {\n",
       "        text-align: right;\n",
       "    }\n",
       "</style>\n",
       "<table border=\"1\" class=\"dataframe\">\n",
       "  <thead>\n",
       "    <tr style=\"text-align: right;\">\n",
       "      <th></th>\n",
       "      <th>target</th>\n",
       "      <th>flr</th>\n",
       "      <th>sellerClearPrice</th>\n",
       "      <th>hour</th>\n",
       "      <th>ssp</th>\n",
       "      <th>dsp</th>\n",
       "      <th>request_context_device_w</th>\n",
       "      <th>request_context_device_h</th>\n",
       "      <th>contype</th>\n",
       "      <th>request_context_device_type</th>\n",
       "      <th>price</th>\n",
       "    </tr>\n",
       "  </thead>\n",
       "  <tbody>\n",
       "    <tr>\n",
       "      <th>count</th>\n",
       "      <td>1000.000000</td>\n",
       "      <td>1000.000000</td>\n",
       "      <td>1000.000000</td>\n",
       "      <td>1000.000000</td>\n",
       "      <td>1000.0</td>\n",
       "      <td>1000.000000</td>\n",
       "      <td>1000.000000</td>\n",
       "      <td>1000.000000</td>\n",
       "      <td>1000.000000</td>\n",
       "      <td>1000.000000</td>\n",
       "      <td>1000.000000</td>\n",
       "    </tr>\n",
       "    <tr>\n",
       "      <th>mean</th>\n",
       "      <td>0.019000</td>\n",
       "      <td>2.525469</td>\n",
       "      <td>2.713013</td>\n",
       "      <td>11.328000</td>\n",
       "      <td>157.0</td>\n",
       "      <td>78.826000</td>\n",
       "      <td>639.792000</td>\n",
       "      <td>1247.998000</td>\n",
       "      <td>2.500000</td>\n",
       "      <td>4.205000</td>\n",
       "      <td>3.567206</td>\n",
       "    </tr>\n",
       "    <tr>\n",
       "      <th>std</th>\n",
       "      <td>0.136593</td>\n",
       "      <td>5.878980</td>\n",
       "      <td>4.739086</td>\n",
       "      <td>7.807007</td>\n",
       "      <td>0.0</td>\n",
       "      <td>26.458756</td>\n",
       "      <td>278.584199</td>\n",
       "      <td>555.673767</td>\n",
       "      <td>1.182962</td>\n",
       "      <td>0.403904</td>\n",
       "      <td>6.354854</td>\n",
       "    </tr>\n",
       "    <tr>\n",
       "      <th>min</th>\n",
       "      <td>0.000000</td>\n",
       "      <td>0.010000</td>\n",
       "      <td>0.026283</td>\n",
       "      <td>0.000000</td>\n",
       "      <td>157.0</td>\n",
       "      <td>41.000000</td>\n",
       "      <td>320.000000</td>\n",
       "      <td>568.000000</td>\n",
       "      <td>2.000000</td>\n",
       "      <td>4.000000</td>\n",
       "      <td>0.027666</td>\n",
       "    </tr>\n",
       "    <tr>\n",
       "      <th>25%</th>\n",
       "      <td>0.000000</td>\n",
       "      <td>0.691500</td>\n",
       "      <td>0.766361</td>\n",
       "      <td>3.000000</td>\n",
       "      <td>157.0</td>\n",
       "      <td>80.000000</td>\n",
       "      <td>390.000000</td>\n",
       "      <td>844.000000</td>\n",
       "      <td>2.000000</td>\n",
       "      <td>4.000000</td>\n",
       "      <td>1.010250</td>\n",
       "    </tr>\n",
       "    <tr>\n",
       "      <th>50%</th>\n",
       "      <td>0.000000</td>\n",
       "      <td>1.107266</td>\n",
       "      <td>1.521529</td>\n",
       "      <td>12.000000</td>\n",
       "      <td>157.0</td>\n",
       "      <td>80.000000</td>\n",
       "      <td>430.000000</td>\n",
       "      <td>932.000000</td>\n",
       "      <td>2.000000</td>\n",
       "      <td>4.000000</td>\n",
       "      <td>1.981744</td>\n",
       "    </tr>\n",
       "    <tr>\n",
       "      <th>75%</th>\n",
       "      <td>0.000000</td>\n",
       "      <td>3.105345</td>\n",
       "      <td>3.347819</td>\n",
       "      <td>18.250000</td>\n",
       "      <td>157.0</td>\n",
       "      <td>80.000000</td>\n",
       "      <td>810.000000</td>\n",
       "      <td>1600.000000</td>\n",
       "      <td>2.000000</td>\n",
       "      <td>4.000000</td>\n",
       "      <td>4.462007</td>\n",
       "    </tr>\n",
       "    <tr>\n",
       "      <th>max</th>\n",
       "      <td>1.000000</td>\n",
       "      <td>161.849300</td>\n",
       "      <td>124.300900</td>\n",
       "      <td>23.000000</td>\n",
       "      <td>157.0</td>\n",
       "      <td>227.000000</td>\n",
       "      <td>1812.000000</td>\n",
       "      <td>2712.000000</td>\n",
       "      <td>7.000000</td>\n",
       "      <td>5.000000</td>\n",
       "      <td>167.318500</td>\n",
       "    </tr>\n",
       "  </tbody>\n",
       "</table>\n",
       "</div>"
      ],
      "text/plain": [
       "            target          flr  sellerClearPrice         hour     ssp  \\\n",
       "count  1000.000000  1000.000000       1000.000000  1000.000000  1000.0   \n",
       "mean      0.019000     2.525469          2.713013    11.328000   157.0   \n",
       "std       0.136593     5.878980          4.739086     7.807007     0.0   \n",
       "min       0.000000     0.010000          0.026283     0.000000   157.0   \n",
       "25%       0.000000     0.691500          0.766361     3.000000   157.0   \n",
       "50%       0.000000     1.107266          1.521529    12.000000   157.0   \n",
       "75%       0.000000     3.105345          3.347819    18.250000   157.0   \n",
       "max       1.000000   161.849300        124.300900    23.000000   157.0   \n",
       "\n",
       "               dsp  request_context_device_w  request_context_device_h  \\\n",
       "count  1000.000000               1000.000000               1000.000000   \n",
       "mean     78.826000                639.792000               1247.998000   \n",
       "std      26.458756                278.584199                555.673767   \n",
       "min      41.000000                320.000000                568.000000   \n",
       "25%      80.000000                390.000000                844.000000   \n",
       "50%      80.000000                430.000000                932.000000   \n",
       "75%      80.000000                810.000000               1600.000000   \n",
       "max     227.000000               1812.000000               2712.000000   \n",
       "\n",
       "           contype  request_context_device_type        price  \n",
       "count  1000.000000                  1000.000000  1000.000000  \n",
       "mean      2.500000                     4.205000     3.567206  \n",
       "std       1.182962                     0.403904     6.354854  \n",
       "min       2.000000                     4.000000     0.027666  \n",
       "25%       2.000000                     4.000000     1.010250  \n",
       "50%       2.000000                     4.000000     1.981744  \n",
       "75%       2.000000                     4.000000     4.462007  \n",
       "max       7.000000                     5.000000   167.318500  "
      ]
     },
     "execution_count": 7,
     "metadata": {},
     "output_type": "execute_result"
    }
   ],
   "source": [
    "train_df.describe()"
   ]
  },
  {
   "cell_type": "code",
   "execution_count": 13,
   "id": "082684cb-234d-4b01-97f7-250f49f104d3",
   "metadata": {},
   "outputs": [
    {
     "data": {
      "text/plain": [
       "['flr',\n",
       " 'sellerClearPrice',\n",
       " 'hour',\n",
       " 'dsp',\n",
       " 'auctionBidFloorSource',\n",
       " 'sdkver',\n",
       " 'bundle',\n",
       " 'os',\n",
       " 'lang',\n",
       " 'country',\n",
       " 'region',\n",
       " 'request_context_device_w',\n",
       " 'request_context_device_h',\n",
       " 'bidderFlrPolicy',\n",
       " 'contype',\n",
       " 'request_context_device_type',\n",
       " 'ifa',\n",
       " 'price']"
      ]
     },
     "execution_count": 13,
     "metadata": {},
     "output_type": "execute_result"
    }
   ],
   "source": [
    "def get_valuable_columns(input_df):\n",
    "    col_subset = []\n",
    "    for col in input_df.columns:\n",
    "        try:\n",
    "            most_frequent_value_count = input_df[col].value_counts().iloc[0]\n",
    "            total_rows = len(input_df)\n",
    "            if most_frequent_value_count / total_rows <= 0.95:\n",
    "                col_subset.append(col)\n",
    "        except (TypeError, IndexError):\n",
    "            # Ignore columns that can't be analyzed (e.g. mixed data types)\n",
    "            pass\n",
    "    return col_subset\n",
    "\n",
    "columns_subset = get_valuable_columns(train_df)\n",
    "\n",
    "columns_subset"
   ]
  },
  {
   "cell_type": "code",
   "execution_count": 14,
   "id": "00c78197-2cf4-4aba-b9b1-35eea59f64dc",
   "metadata": {},
   "outputs": [
    {
     "data": {
      "text/plain": [
       "{'cat': ['request_context_device_type', 'dsp', 'hour'], 'num': ['price']}"
      ]
     },
     "execution_count": 14,
     "metadata": {},
     "output_type": "execute_result"
    }
   ],
   "source": [
    "cat_candidates = ['request_context_device_type', 'dsp', 'ssp', 'hour']\n",
    "\n",
    "features = {\n",
    "    'cat': [col for col in cat_candidates if col in columns_subset],\n",
    "    'num': ['price', ]\n",
    "}\n",
    "\n",
    "features"
   ]
  },
  {
   "cell_type": "code",
   "execution_count": 19,
   "id": "54b012c2-dfb6-4251-bb10-2fef46714e4f",
   "metadata": {},
   "outputs": [],
   "source": [
    "features_set = features['cat'] + features['num']\n",
    "X = train_df[features_set]\n",
    "y = train_df['target']"
   ]
  },
  {
   "cell_type": "code",
   "execution_count": 16,
   "id": "e329356c-6a5e-4f8c-9efe-668f501a031c",
   "metadata": {},
   "outputs": [
    {
     "name": "stdout",
     "output_type": "stream",
     "text": [
      "Model trained: <catboost.core.CatBoostClassifier object at 0x12a5ca750>\n"
     ]
    }
   ],
   "source": [
    "from catboost import Pool, CatBoostClassifier\n",
    "\n",
    "from IPython.display import clear_output\n",
    "\n",
    "model = CatBoostClassifier(**{\n",
    "    'loss_function': 'CrossEntropy', 'boosting_type': 'Plain',\n",
    "    'bootstrap_type': 'Bernoulli', 'n_estimators': 150\n",
    "})\n",
    "\n",
    "train_pool = Pool(data=X, label=y, cat_features=features['cat'])\n",
    "model.fit(train_pool)\n",
    "clear_output()\n",
    "print(f'Model trained: {model}')"
   ]
  },
  {
   "cell_type": "code",
   "execution_count": 25,
   "id": "95de3cbc-9eec-4354-b635-66fa10bce36b",
   "metadata": {},
   "outputs": [
    {
     "name": "stdout",
     "output_type": "stream",
     "text": [
      "model saved to /Users/username/PycharmProjects/ml_for_products/data/model.cb\n"
     ]
    }
   ],
   "source": [
    "model_path = os.path.join(root_data_dir, 'model.cb')\n",
    "\n",
    "model.save_model(model_path)\n",
    "print(f'model saved to {model_path}')"
   ]
  },
  {
   "cell_type": "markdown",
   "id": "a52f0b31-ae41-47c9-9018-99dc8129bdb5",
   "metadata": {},
   "source": [
    "Home work\n",
    "\n",
    "* add train.py\n",
    "* "
   ]
  },
  {
   "cell_type": "code",
   "execution_count": 20,
   "id": "2500575f-4105-4433-b285-634ee61e8d2e",
   "metadata": {},
   "outputs": [
    {
     "data": {
      "text/html": [
       "<div>\n",
       "<style scoped>\n",
       "    .dataframe tbody tr th:only-of-type {\n",
       "        vertical-align: middle;\n",
       "    }\n",
       "\n",
       "    .dataframe tbody tr th {\n",
       "        vertical-align: top;\n",
       "    }\n",
       "\n",
       "    .dataframe thead th {\n",
       "        text-align: right;\n",
       "    }\n",
       "</style>\n",
       "<table border=\"1\" class=\"dataframe\">\n",
       "  <thead>\n",
       "    <tr style=\"text-align: right;\">\n",
       "      <th></th>\n",
       "      <th>Feature</th>\n",
       "      <th>Importance</th>\n",
       "    </tr>\n",
       "  </thead>\n",
       "  <tbody>\n",
       "    <tr>\n",
       "      <th>1</th>\n",
       "      <td>dsp</td>\n",
       "      <td>47.266439</td>\n",
       "    </tr>\n",
       "    <tr>\n",
       "      <th>3</th>\n",
       "      <td>price</td>\n",
       "      <td>41.366352</td>\n",
       "    </tr>\n",
       "    <tr>\n",
       "      <th>0</th>\n",
       "      <td>request_context_device_type</td>\n",
       "      <td>10.174206</td>\n",
       "    </tr>\n",
       "    <tr>\n",
       "      <th>2</th>\n",
       "      <td>hour</td>\n",
       "      <td>1.193003</td>\n",
       "    </tr>\n",
       "  </tbody>\n",
       "</table>\n",
       "</div>"
      ],
      "text/plain": [
       "                       Feature  Importance\n",
       "1                          dsp   47.266439\n",
       "3                        price   41.366352\n",
       "0  request_context_device_type   10.174206\n",
       "2                         hour    1.193003"
      ]
     },
     "execution_count": 20,
     "metadata": {},
     "output_type": "execute_result"
    }
   ],
   "source": [
    "f_imp_df = pd.DataFrame({\n",
    "    'Feature': features_set,\n",
    "    'Importance': model.get_feature_importance(train_pool)\n",
    "}).sort_values(by='Importance', ascending=False)\n",
    "\n",
    "f_imp_df.head()"
   ]
  },
  {
   "cell_type": "code",
   "execution_count": 24,
   "id": "f89a0c08-a38d-4eb8-ad6c-c902ea798997",
   "metadata": {},
   "outputs": [
    {
     "data": {
      "image/png": "[encoded data removed]",
      "text/plain": [
       "<Figure size 1000x600 with 1 Axes>"
      ]
     },
     "metadata": {},
     "output_type": "display_data"
    }
   ],
   "source": [
    "from matplotlib import pyplot as plt\n",
    "\n",
    "import seaborn as sns\n",
    "\n",
    "def plot_feature_importances(feature_importances, output_file=None):\n",
    "    plt.figure(figsize=(10, 6))\n",
    "    sns.barplot(x='Importance', y='Feature', hue='Feature', data=feature_importances, palette='viridis', dodge=False)\n",
    "    plt.title('Feature Importance')\n",
    "    plt.xlabel('Importance')\n",
    "    plt.ylabel('Feature')\n",
    "    plt.tight_layout()\n",
    "    \n",
    "    if output_file:\n",
    "        plt.savefig(output_file)\n",
    "        print(f\"Plot saved to {output_file}\")\n",
    "    else:\n",
    "        plt.show()\n",
    "plot_feature_importances(f_imp_df)"
   ]
  },
  {
   "cell_type": "markdown",
   "id": "8e097eaa-55c8-4b58-b496-8456e6f709dc",
   "metadata": {},
   "source": [
    "# Inference"
   ]
  },
  {
   "cell_type": "code",
   "execution_count": 28,
   "id": "72d6e40d-fb06-4264-945b-16d33b8e60fc",
   "metadata": {},
   "outputs": [
    {
     "data": {
      "text/plain": [
       "<catboost.core.Pool at 0x141559d90>"
      ]
     },
     "execution_count": 28,
     "metadata": {},
     "output_type": "execute_result"
    }
   ],
   "source": [
    "inference_df = pd.read_csv(os.path.join(train_data_dir, 'test_data.csv'), nrows=1000)\n",
    "X_inference = inference_df[features_set]\n",
    "\n",
    "valid_pool = Pool(data=X_inference, cat_features=features['cat'])\n",
    "valid_pool"
   ]
  },
  {
   "cell_type": "code",
   "execution_count": 37,
   "id": "cae202a5-d685-4f85-99ad-f6cc22af085a",
   "metadata": {},
   "outputs": [
    {
     "data": {
      "text/html": [
       "<div>\n",
       "<style scoped>\n",
       "    .dataframe tbody tr th:only-of-type {\n",
       "        vertical-align: middle;\n",
       "    }\n",
       "\n",
       "    .dataframe tbody tr th {\n",
       "        vertical-align: top;\n",
       "    }\n",
       "\n",
       "    .dataframe thead th {\n",
       "        text-align: right;\n",
       "    }\n",
       "</style>\n",
       "<table border=\"1\" class=\"dataframe\">\n",
       "  <thead>\n",
       "    <tr style=\"text-align: right;\">\n",
       "      <th></th>\n",
       "      <th>mean_score</th>\n",
       "    </tr>\n",
       "    <tr>\n",
       "      <th>ssp</th>\n",
       "      <th></th>\n",
       "    </tr>\n",
       "  </thead>\n",
       "  <tbody>\n",
       "    <tr>\n",
       "      <th>157</th>\n",
       "      <td>0.098131</td>\n",
       "    </tr>\n",
       "  </tbody>\n",
       "</table>\n",
       "</div>"
      ],
      "text/plain": [
       "     mean_score\n",
       "ssp            \n",
       "157    0.098131"
      ]
     },
     "execution_count": 37,
     "metadata": {},
     "output_type": "execute_result"
    }
   ],
   "source": [
    "predicted_scores = model.predict_proba(valid_pool)\n",
    "inference_df['score'] = predicted_scores[:, 1]\n",
    "\n",
    "inference_df.groupby('ssp').agg(mean_score = ('score', 'mean')).sort_values(by='mean_score', ascending=False)"
   ]
  },
  {
   "cell_type": "code",
   "execution_count": null,
   "id": "37ae0266-da36-4611-aa9e-c68d8723b33c",
   "metadata": {},
   "outputs": [],
   "source": [
    "\n",
    "import plotly.express as px\n",
    "\n",
    "def plot_hist(filtered_df, metric_name='timedelta_seconds'):\n",
    "    fig = px.histogram(\n",
    "        filtered_df, x=metric_name, nbins=10,\n",
    "        labels={metric_name: f'Title: {metric_name}'},\n",
    "        title=f'Histogram of {metric_name}'\n",
    "    )\n",
    "    fig.show()"
   ]
  },
  {
   "cell_type": "code",
   "execution_count": null,
   "id": "ff8c00ae-3695-4d44-b893-e5b237a0ad8e",
   "metadata": {},
   "outputs": [],
   "source": []
  },
  {
   "cell_type": "code",
   "execution_count": null,
   "id": "e1dc8b6a-4fdd-4622-a1dd-3d7c525f36e8",
   "metadata": {},
   "outputs": [],
   "source": []
  },
  {
   "cell_type": "code",
   "execution_count": null,
   "id": "c1e9859e-364c-4559-9b9f-80dc7d00980e",
   "metadata": {},
   "outputs": [],
   "source": []
  },
  {
   "cell_type": "code",
   "execution_count": null,
   "id": "64194ebb-6423-4b05-8d86-9abdb59a2dac",
   "metadata": {},
   "outputs": [],
   "source": []
  }
 ],
 "metadata": {
  "kernelspec": {
   "display_name": "Python 3 (ipykernel)",
   "language": "python",
   "name": "python3"
  },
  "language_info": {
   "codemirror_mode": {
    "name": "ipython",
    "version": 3
   },
   "file_extension": ".py",
   "mimetype": "text/x-python",
   "name": "python",
   "nbconvert_exporter": "python",
   "pygments_lexer": "ipython3",
   "version": "3.12.6"
  }
 },
 "nbformat": 4,
 "nbformat_minor": 5
}
