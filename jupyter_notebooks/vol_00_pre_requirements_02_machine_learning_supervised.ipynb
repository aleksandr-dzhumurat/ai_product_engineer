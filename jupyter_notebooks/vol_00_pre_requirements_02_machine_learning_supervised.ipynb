{
  "cells": [
    {
      "cell_type": "markdown",
      "metadata": {
        "id": "p6-gvd-dsukO"
      },
      "source": [
        "# Обучение с учителем\n",
        "\n",
        "Алгоритмы, которые требуют размеченной выборки для обучения, называются алгоритмами обучения с учителем. \"Разметить выборку\" означает поставить в соответствие объекту обучающей выборки значение целевой переменной (таргета) которое алгоритм машинного обучения  должен \"выучить\""
      ]
    },
    {
      "cell_type": "markdown",
      "metadata": {
        "id": "I8HmIz3asukQ"
      },
      "source": [
        "Обычно большие объёмы дорого размечать - можно пользоваться сервисами типа \"Яндекс.Толока\", либо своими силами размечать."
      ]
    },
    {
      "cell_type": "markdown",
      "metadata": {
        "id": "07GCaHPvsukQ"
      },
      "source": [
        "# Классификация\n",
        "\n",
        "## Постановка задачи классификации\n",
        "\n",
        "Классификация - задача для алгоритмов машинного обучения восстановить на объектах обучающей выборки **метки классов**. Классы - конечный (дискретный) набор целевых переменных. Например, в задаче фильтрации спама два класса: спам (метка $1$) и не спам (метка $0$)\n",
        "\n",
        "Существует бинарная классификация (когда классов всего два: $0$ и $1$) и мультиклассовая классификация, когда классов несколько. Если научились классифицировать на два класса, то и на несколько получиться: метод One vs All"
      ]
    },
    {
      "cell_type": "markdown",
      "metadata": {
        "id": "tVka6P1PsukR"
      },
      "source": [
        "Продемострируем работу алгоритма классификации на данных по оттоку, которые содержатся в файле `data/client_segmentation.csv`. В файле содержится информация по клиентам оператора связи о том, как изменилось потребление услуг оператора за два месяца:\n",
        "* call_diff доля звонков\n",
        "* sms_diff доля смс\n",
        "* доля интернет-трафика traffic_diff\n",
        "\n",
        "Все показатели вычисляются по формуле\n",
        "\n",
        "$$\n",
        "\\frac{\\text{new_value}-\\text{old_value}}{\\text{old_value}}\n",
        "$$"
      ]
    },
    {
      "cell_type": "markdown",
      "metadata": {
        "id": "G1ZybkcjsukR"
      },
      "source": [
        "В последней колонке `customes_class` содержится метка по оттоку:\n",
        "* $0$ - активный пользователя\n",
        "* $1$ - \"спящий\" пользователь (редко пользуется услугами)\n",
        "* $2$ - пользователь, который ушел в отток"
      ]
    },
    {
      "cell_type": "code",
      "source": [
        "import os\n",
        "import sys\n",
        "\n",
        "import numpy as np\n",
        "\n",
        "run_env = os.getenv('RUN_ENV', 'COLLAB')\n",
        "if run_env == 'COLLAB':\n",
        "  from google.colab import drive\n",
        "  ROOT_DIR = '/content/drive'\n",
        "  drive.mount(ROOT_DIR)\n",
        "  print('Google drive connected')\n",
        "  root_data_dir = os.path.join(ROOT_DIR, 'MyDrive', 'ml_course_data')\n",
        "  sys.path.append(os.path.join(ROOT_DIR, 'MyDrive', 'src'))\n",
        "else:\n",
        "  root_data_dir = os.getenv('DATA_DIR', '/srv/data')\n",
        "\n",
        "print(os.listdir(root_data_dir))\n",
        "\n",
        "if not os.path.exists(root_data_dir):\n",
        "  raise RuntimeError('Data dir not exists')\n",
        "else:\n",
        "  print('Data dir content %s: %s' % (root_data_dir, ', '.join(os.listdir(root_data_dir))))"
      ],
      "metadata": {
        "colab": {
          "base_uri": "https://localhost:8080/"
        },
        "id": "RaJ-v-H8sxyj",
        "outputId": "1726de74-5fe5-4fac-bc74-fafa12409c9d"
      },
      "execution_count": 1,
      "outputs": [
        {
          "output_type": "stream",
          "name": "stdout",
          "text": [
            "Mounted at /content/drive\n",
            "Google drive connected\n",
            "['nyt-ingredients-snapshot-2015.csv', 'insurance (1).csv', 'non_linear.csv', 'client_segmentation.csv', 'eigen.pkl', 'clustering.pkl', 'boosting_toy_dataset.csv', 'politic_meme.jpg', 'gray_goose.jpg', 'test_dataset.pkl', 'memes', 'optimal_push_time', 'sklearn_data', 'my_little_recsys', 'corpora', 'logs', 'nltk_data', 'recsys_data', 'MNIST', 'hymenoptera_data', 'pet_projects', 'ocr_dataset_sample.csv', 'geo_points.csv.gzip', 'scored_corpus.csv', 'labeled_data_corpus.csv', 'memes_stat_dataset.zip', 'als_model.pkl', 'raw_data.zip', 'json_views.tar.gz', 'test_data.csv', 'sales_timeseries_dataset.csv.gz', 'brand_tweets_valid.csv', 'brand_tweets.csv', 'Health_and_Personal_Care.jsonl.gz', 'models', 'corpus_embeds_0.npy', 'final_dataset.zip', 'ocr_dataset.zip', 'bidmachine_logs.zip', 'meta_Health_and_Personal_Care.jsonl.gz', 'messages.db', 'user_item_views.zip', 'content_catalog.zip', 'ground_truth_dataset.pkl', 'insurance.csv']\n",
            "Data dir content /content/drive/MyDrive/ml_course_data: nyt-ingredients-snapshot-2015.csv, insurance (1).csv, non_linear.csv, client_segmentation.csv, eigen.pkl, clustering.pkl, boosting_toy_dataset.csv, politic_meme.jpg, gray_goose.jpg, test_dataset.pkl, memes, optimal_push_time, sklearn_data, my_little_recsys, corpora, logs, nltk_data, recsys_data, MNIST, hymenoptera_data, pet_projects, ocr_dataset_sample.csv, geo_points.csv.gzip, scored_corpus.csv, labeled_data_corpus.csv, memes_stat_dataset.zip, als_model.pkl, raw_data.zip, json_views.tar.gz, test_data.csv, sales_timeseries_dataset.csv.gz, brand_tweets_valid.csv, brand_tweets.csv, Health_and_Personal_Care.jsonl.gz, models, corpus_embeds_0.npy, final_dataset.zip, ocr_dataset.zip, bidmachine_logs.zip, meta_Health_and_Personal_Care.jsonl.gz, messages.db, user_item_views.zip, content_catalog.zip, ground_truth_dataset.pkl, insurance.csv\n"
          ]
        }
      ]
    },
    {
      "cell_type": "code",
      "execution_count": 3,
      "metadata": {
        "colab": {
          "base_uri": "https://localhost:8080/",
          "height": 206
        },
        "id": "C6emz87usukS",
        "outputId": "f0bdbaef-bec8-41ba-e82b-c9ee753689da"
      },
      "outputs": [
        {
          "output_type": "execute_result",
          "data": {
            "text/plain": [
              "   call_diff  sms_diff  traffic_diff  customes_class\n",
              "0  -0.666421  0.444911     -0.273538               0\n",
              "1  -0.889273 -0.537896     -1.959469               2\n",
              "2  -0.841503  0.846665      0.727606               0\n",
              "3   1.389749  0.390911      1.789246               1\n",
              "4  -1.228211 -1.375899     -1.434209               2"
            ],
            "text/html": [
              "\n",
              "  <div id=\"df-3e038983-a4c3-43a5-916b-036b80b7b682\" class=\"colab-df-container\">\n",
              "    <div>\n",
              "<style scoped>\n",
              "    .dataframe tbody tr th:only-of-type {\n",
              "        vertical-align: middle;\n",
              "    }\n",
              "\n",
              "    .dataframe tbody tr th {\n",
              "        vertical-align: top;\n",
              "    }\n",
              "\n",
              "    .dataframe thead th {\n",
              "        text-align: right;\n",
              "    }\n",
              "</style>\n",
              "<table border=\"1\" class=\"dataframe\">\n",
              "  <thead>\n",
              "    <tr style=\"text-align: right;\">\n",
              "      <th></th>\n",
              "      <th>call_diff</th>\n",
              "      <th>sms_diff</th>\n",
              "      <th>traffic_diff</th>\n",
              "      <th>customes_class</th>\n",
              "    </tr>\n",
              "  </thead>\n",
              "  <tbody>\n",
              "    <tr>\n",
              "      <th>0</th>\n",
              "      <td>-0.666421</td>\n",
              "      <td>0.444911</td>\n",
              "      <td>-0.273538</td>\n",
              "      <td>0</td>\n",
              "    </tr>\n",
              "    <tr>\n",
              "      <th>1</th>\n",
              "      <td>-0.889273</td>\n",
              "      <td>-0.537896</td>\n",
              "      <td>-1.959469</td>\n",
              "      <td>2</td>\n",
              "    </tr>\n",
              "    <tr>\n",
              "      <th>2</th>\n",
              "      <td>-0.841503</td>\n",
              "      <td>0.846665</td>\n",
              "      <td>0.727606</td>\n",
              "      <td>0</td>\n",
              "    </tr>\n",
              "    <tr>\n",
              "      <th>3</th>\n",
              "      <td>1.389749</td>\n",
              "      <td>0.390911</td>\n",
              "      <td>1.789246</td>\n",
              "      <td>1</td>\n",
              "    </tr>\n",
              "    <tr>\n",
              "      <th>4</th>\n",
              "      <td>-1.228211</td>\n",
              "      <td>-1.375899</td>\n",
              "      <td>-1.434209</td>\n",
              "      <td>2</td>\n",
              "    </tr>\n",
              "  </tbody>\n",
              "</table>\n",
              "</div>\n",
              "    <div class=\"colab-df-buttons\">\n",
              "\n",
              "  <div class=\"colab-df-container\">\n",
              "    <button class=\"colab-df-convert\" onclick=\"convertToInteractive('df-3e038983-a4c3-43a5-916b-036b80b7b682')\"\n",
              "            title=\"Convert this dataframe to an interactive table.\"\n",
              "            style=\"display:none;\">\n",
              "\n",
              "  <svg xmlns=\"http://www.w3.org/2000/svg\" height=\"24px\" viewBox=\"0 -960 960 960\">\n",
              "    <path d=\"M120-120v-720h720v720H120Zm60-500h600v-160H180v160Zm220 220h160v-160H400v160Zm0 220h160v-160H400v160ZM180-400h160v-160H180v160Zm440 0h160v-160H620v160ZM180-180h160v-160H180v160Zm440 0h160v-160H620v160Z\"/>\n",
              "  </svg>\n",
              "    </button>\n",
              "\n",
              "  <style>\n",
              "    .colab-df-container {\n",
              "      display:flex;\n",
              "      gap: 12px;\n",
              "    }\n",
              "\n",
              "    .colab-df-convert {\n",
              "      background-color: #E8F0FE;\n",
              "      border: none;\n",
              "      border-radius: 50%;\n",
              "      cursor: pointer;\n",
              "      display: none;\n",
              "      fill: #1967D2;\n",
              "      height: 32px;\n",
              "      padding: 0 0 0 0;\n",
              "      width: 32px;\n",
              "    }\n",
              "\n",
              "    .colab-df-convert:hover {\n",
              "      background-color: #E2EBFA;\n",
              "      box-shadow: 0px 1px 2px rgba(60, 64, 67, 0.3), 0px 1px 3px 1px rgba(60, 64, 67, 0.15);\n",
              "      fill: #174EA6;\n",
              "    }\n",
              "\n",
              "    .colab-df-buttons div {\n",
              "      margin-bottom: 4px;\n",
              "    }\n",
              "\n",
              "    [theme=dark] .colab-df-convert {\n",
              "      background-color: #3B4455;\n",
              "      fill: #D2E3FC;\n",
              "    }\n",
              "\n",
              "    [theme=dark] .colab-df-convert:hover {\n",
              "      background-color: #434B5C;\n",
              "      box-shadow: 0px 1px 3px 1px rgba(0, 0, 0, 0.15);\n",
              "      filter: drop-shadow(0px 1px 2px rgba(0, 0, 0, 0.3));\n",
              "      fill: #FFFFFF;\n",
              "    }\n",
              "  </style>\n",
              "\n",
              "    <script>\n",
              "      const buttonEl =\n",
              "        document.querySelector('#df-3e038983-a4c3-43a5-916b-036b80b7b682 button.colab-df-convert');\n",
              "      buttonEl.style.display =\n",
              "        google.colab.kernel.accessAllowed ? 'block' : 'none';\n",
              "\n",
              "      async function convertToInteractive(key) {\n",
              "        const element = document.querySelector('#df-3e038983-a4c3-43a5-916b-036b80b7b682');\n",
              "        const dataTable =\n",
              "          await google.colab.kernel.invokeFunction('convertToInteractive',\n",
              "                                                    [key], {});\n",
              "        if (!dataTable) return;\n",
              "\n",
              "        const docLinkHtml = 'Like what you see? Visit the ' +\n",
              "          '<a target=\"_blank\" href=https://colab.research.google.com/notebooks/data_table.ipynb>data table notebook</a>'\n",
              "          + ' to learn more about interactive tables.';\n",
              "        element.innerHTML = '';\n",
              "        dataTable['output_type'] = 'display_data';\n",
              "        await google.colab.output.renderOutput(dataTable, element);\n",
              "        const docLink = document.createElement('div');\n",
              "        docLink.innerHTML = docLinkHtml;\n",
              "        element.appendChild(docLink);\n",
              "      }\n",
              "    </script>\n",
              "  </div>\n",
              "\n",
              "\n",
              "<div id=\"df-37458193-b6d9-418d-8dc7-0b6a60bc0a95\">\n",
              "  <button class=\"colab-df-quickchart\" onclick=\"quickchart('df-37458193-b6d9-418d-8dc7-0b6a60bc0a95')\"\n",
              "            title=\"Suggest charts\"\n",
              "            style=\"display:none;\">\n",
              "\n",
              "<svg xmlns=\"http://www.w3.org/2000/svg\" height=\"24px\"viewBox=\"0 0 24 24\"\n",
              "     width=\"24px\">\n",
              "    <g>\n",
              "        <path d=\"M19 3H5c-1.1 0-2 .9-2 2v14c0 1.1.9 2 2 2h14c1.1 0 2-.9 2-2V5c0-1.1-.9-2-2-2zM9 17H7v-7h2v7zm4 0h-2V7h2v10zm4 0h-2v-4h2v4z\"/>\n",
              "    </g>\n",
              "</svg>\n",
              "  </button>\n",
              "\n",
              "<style>\n",
              "  .colab-df-quickchart {\n",
              "      --bg-color: #E8F0FE;\n",
              "      --fill-color: #1967D2;\n",
              "      --hover-bg-color: #E2EBFA;\n",
              "      --hover-fill-color: #174EA6;\n",
              "      --disabled-fill-color: #AAA;\n",
              "      --disabled-bg-color: #DDD;\n",
              "  }\n",
              "\n",
              "  [theme=dark] .colab-df-quickchart {\n",
              "      --bg-color: #3B4455;\n",
              "      --fill-color: #D2E3FC;\n",
              "      --hover-bg-color: #434B5C;\n",
              "      --hover-fill-color: #FFFFFF;\n",
              "      --disabled-bg-color: #3B4455;\n",
              "      --disabled-fill-color: #666;\n",
              "  }\n",
              "\n",
              "  .colab-df-quickchart {\n",
              "    background-color: var(--bg-color);\n",
              "    border: none;\n",
              "    border-radius: 50%;\n",
              "    cursor: pointer;\n",
              "    display: none;\n",
              "    fill: var(--fill-color);\n",
              "    height: 32px;\n",
              "    padding: 0;\n",
              "    width: 32px;\n",
              "  }\n",
              "\n",
              "  .colab-df-quickchart:hover {\n",
              "    background-color: var(--hover-bg-color);\n",
              "    box-shadow: 0 1px 2px rgba(60, 64, 67, 0.3), 0 1px 3px 1px rgba(60, 64, 67, 0.15);\n",
              "    fill: var(--button-hover-fill-color);\n",
              "  }\n",
              "\n",
              "  .colab-df-quickchart-complete:disabled,\n",
              "  .colab-df-quickchart-complete:disabled:hover {\n",
              "    background-color: var(--disabled-bg-color);\n",
              "    fill: var(--disabled-fill-color);\n",
              "    box-shadow: none;\n",
              "  }\n",
              "\n",
              "  .colab-df-spinner {\n",
              "    border: 2px solid var(--fill-color);\n",
              "    border-color: transparent;\n",
              "    border-bottom-color: var(--fill-color);\n",
              "    animation:\n",
              "      spin 1s steps(1) infinite;\n",
              "  }\n",
              "\n",
              "  @keyframes spin {\n",
              "    0% {\n",
              "      border-color: transparent;\n",
              "      border-bottom-color: var(--fill-color);\n",
              "      border-left-color: var(--fill-color);\n",
              "    }\n",
              "    20% {\n",
              "      border-color: transparent;\n",
              "      border-left-color: var(--fill-color);\n",
              "      border-top-color: var(--fill-color);\n",
              "    }\n",
              "    30% {\n",
              "      border-color: transparent;\n",
              "      border-left-color: var(--fill-color);\n",
              "      border-top-color: var(--fill-color);\n",
              "      border-right-color: var(--fill-color);\n",
              "    }\n",
              "    40% {\n",
              "      border-color: transparent;\n",
              "      border-right-color: var(--fill-color);\n",
              "      border-top-color: var(--fill-color);\n",
              "    }\n",
              "    60% {\n",
              "      border-color: transparent;\n",
              "      border-right-color: var(--fill-color);\n",
              "    }\n",
              "    80% {\n",
              "      border-color: transparent;\n",
              "      border-right-color: var(--fill-color);\n",
              "      border-bottom-color: var(--fill-color);\n",
              "    }\n",
              "    90% {\n",
              "      border-color: transparent;\n",
              "      border-bottom-color: var(--fill-color);\n",
              "    }\n",
              "  }\n",
              "</style>\n",
              "\n",
              "  <script>\n",
              "    async function quickchart(key) {\n",
              "      const quickchartButtonEl =\n",
              "        document.querySelector('#' + key + ' button');\n",
              "      quickchartButtonEl.disabled = true;  // To prevent multiple clicks.\n",
              "      quickchartButtonEl.classList.add('colab-df-spinner');\n",
              "      try {\n",
              "        const charts = await google.colab.kernel.invokeFunction(\n",
              "            'suggestCharts', [key], {});\n",
              "      } catch (error) {\n",
              "        console.error('Error during call to suggestCharts:', error);\n",
              "      }\n",
              "      quickchartButtonEl.classList.remove('colab-df-spinner');\n",
              "      quickchartButtonEl.classList.add('colab-df-quickchart-complete');\n",
              "    }\n",
              "    (() => {\n",
              "      let quickchartButtonEl =\n",
              "        document.querySelector('#df-37458193-b6d9-418d-8dc7-0b6a60bc0a95 button');\n",
              "      quickchartButtonEl.style.display =\n",
              "        google.colab.kernel.accessAllowed ? 'block' : 'none';\n",
              "    })();\n",
              "  </script>\n",
              "</div>\n",
              "    </div>\n",
              "  </div>\n"
            ],
            "application/vnd.google.colaboratory.intrinsic+json": {
              "type": "dataframe",
              "variable_name": "df_source",
              "summary": "{\n  \"name\": \"df_source\",\n  \"rows\": 100,\n  \"fields\": [\n    {\n      \"column\": \"call_diff\",\n      \"properties\": {\n        \"dtype\": \"float32\",\n        \"num_unique_values\": 100,\n        \"samples\": [\n          1.855958104133606,\n          -0.4426608979701996,\n          0.08626186847686768\n        ],\n        \"semantic_type\": \"\",\n        \"description\": \"\"\n      }\n    },\n    {\n      \"column\": \"sms_diff\",\n      \"properties\": {\n        \"dtype\": \"number\",\n        \"std\": 1.2039820143974012,\n        \"min\": -2.6990820512161333,\n        \"max\": 3.788035770527541,\n        \"num_unique_values\": 100,\n        \"samples\": [\n          0.608591929533526,\n          0.9277466586804728,\n          -0.2373283195285112\n        ],\n        \"semantic_type\": \"\",\n        \"description\": \"\"\n      }\n    },\n    {\n      \"column\": \"traffic_diff\",\n      \"properties\": {\n        \"dtype\": \"float32\",\n        \"num_unique_values\": 100,\n        \"samples\": [\n          2.501298189163208,\n          2.180293083190918,\n          0.906182587146759\n        ],\n        \"semantic_type\": \"\",\n        \"description\": \"\"\n      }\n    },\n    {\n      \"column\": \"customes_class\",\n      \"properties\": {\n        \"dtype\": \"uint16\",\n        \"num_unique_values\": 3,\n        \"samples\": [\n          0,\n          2,\n          1\n        ],\n        \"semantic_type\": \"\",\n        \"description\": \"\"\n      }\n    }\n  ]\n}"
            }
          },
          "metadata": {},
          "execution_count": 3
        }
      ],
      "source": [
        "import pandas as pd\n",
        "import matplotlib.pyplot as plt\n",
        "from mpl_toolkits.mplot3d import Axes3D\n",
        "import numpy as np\n",
        "\n",
        "%matplotlib inline\n",
        "np.set_printoptions(precision=4)\n",
        "\n",
        "file_path = os.path.join(root_data_dir, 'client_segmentation.csv')\n",
        "df_source = pd.read_csv(\n",
        "    file_path,\n",
        "    dtype={'call_diff': np.float32, 'call_diff': np.float32, 'traffic_diff': np.float32, 'customes_class': np.uint16}\n",
        ")\n",
        "X = df_source[['call_diff','sms_diff','traffic_diff']].values\n",
        "y = df_source.customes_class.values\n",
        "\n",
        "df_source.head(5)"
      ]
    },
    {
      "cell_type": "code",
      "execution_count": 4,
      "metadata": {
        "colab": {
          "base_uri": "https://localhost:8080/",
          "height": 448
        },
        "id": "Fi52OEFKsukU",
        "outputId": "e4fcaca4-688e-49cd-a20d-317d03e626c0"
      },
      "outputs": [
        {
          "output_type": "execute_result",
          "data": {
            "text/plain": [
              "<Axes: >"
            ]
          },
          "metadata": {},
          "execution_count": 4
        },
        {
          "output_type": "display_data",
          "data": {
            "text/plain": [
              "<Figure size 640x480 with 1 Axes>"
            ],
            "image/png": "[encoded data removed]"
          },
          "metadata": {}
        }
      ],
      "source": [
        "df_source.sms_diff.hist(bins=8)"
      ]
    },
    {
      "cell_type": "code",
      "execution_count": 5,
      "metadata": {
        "colab": {
          "base_uri": "https://localhost:8080/",
          "height": 210
        },
        "id": "gKPtAFT0sukU",
        "outputId": "b904b720-5d00-419c-e47b-dd09616f51a8"
      },
      "outputs": [
        {
          "output_type": "execute_result",
          "data": {
            "text/plain": [
              "customes_class\n",
              "0    34\n",
              "2    33\n",
              "1    33\n",
              "Name: count, dtype: int64"
            ],
            "text/html": [
              "<div>\n",
              "<style scoped>\n",
              "    .dataframe tbody tr th:only-of-type {\n",
              "        vertical-align: middle;\n",
              "    }\n",
              "\n",
              "    .dataframe tbody tr th {\n",
              "        vertical-align: top;\n",
              "    }\n",
              "\n",
              "    .dataframe thead th {\n",
              "        text-align: right;\n",
              "    }\n",
              "</style>\n",
              "<table border=\"1\" class=\"dataframe\">\n",
              "  <thead>\n",
              "    <tr style=\"text-align: right;\">\n",
              "      <th></th>\n",
              "      <th>count</th>\n",
              "    </tr>\n",
              "    <tr>\n",
              "      <th>customes_class</th>\n",
              "      <th></th>\n",
              "    </tr>\n",
              "  </thead>\n",
              "  <tbody>\n",
              "    <tr>\n",
              "      <th>0</th>\n",
              "      <td>34</td>\n",
              "    </tr>\n",
              "    <tr>\n",
              "      <th>2</th>\n",
              "      <td>33</td>\n",
              "    </tr>\n",
              "    <tr>\n",
              "      <th>1</th>\n",
              "      <td>33</td>\n",
              "    </tr>\n",
              "  </tbody>\n",
              "</table>\n",
              "</div><br><label><b>dtype:</b> int64</label>"
            ]
          },
          "metadata": {},
          "execution_count": 5
        }
      ],
      "source": [
        "df_source.customes_class.value_counts()"
      ]
    },
    {
      "cell_type": "markdown",
      "metadata": {
        "id": "orXkK-wpsukV"
      },
      "source": [
        "Построим наивный байесовский классификатор - мы уже использовали этот алгоритм в начале курса, когда говорили про теорию вероятностей.\n",
        "\n",
        "Оценим качество классификатора: сколько пользователей предсказали правильно"
      ]
    },
    {
      "cell_type": "code",
      "execution_count": 6,
      "metadata": {
        "colab": {
          "base_uri": "https://localhost:8080/"
        },
        "id": "70MAm8W1sukV",
        "outputId": "ccba9acd-ca66-4b3d-a314-15e9740953f7"
      },
      "outputs": [
        {
          "output_type": "stream",
          "name": "stdout",
          "text": [
            "Точность предсказаний: 0.95\n"
          ]
        }
      ],
      "source": [
        "from sklearn.naive_bayes import GaussianNB\n",
        "\n",
        "naive_bayes = GaussianNB() # создаём экземпляр класса\n",
        "naive_bayes.fit(X, y) # обучение модели\n",
        "predicted_classes = naive_bayes.predict(X) # предсказание (эксплуатация модели)\n",
        "\n",
        "accuracy = (predicted_classes == y).sum() / len(y)\n",
        "\n",
        "print(f'Точность предсказаний: {accuracy}')"
      ]
    },
    {
      "cell_type": "markdown",
      "metadata": {
        "id": "w-f7TVRHsukW"
      },
      "source": [
        "Можно вытащить, например, априорные вероятности классов"
      ]
    },
    {
      "cell_type": "code",
      "execution_count": 7,
      "metadata": {
        "colab": {
          "base_uri": "https://localhost:8080/"
        },
        "id": "KyF9YaWysukW",
        "outputId": "dd2850c1-a2e8-406a-a0be-0e2fc4735905"
      },
      "outputs": [
        {
          "output_type": "stream",
          "name": "stdout",
          "text": [
            "[0.34 0.33 0.33]\n"
          ]
        }
      ],
      "source": [
        "print(naive_bayes.class_prior_)"
      ]
    },
    {
      "cell_type": "code",
      "execution_count": 7,
      "metadata": {
        "id": "YCjqchOasukW"
      },
      "outputs": [],
      "source": []
    },
    {
      "cell_type": "markdown",
      "metadata": {
        "id": "mIm5DPwTsukW"
      },
      "source": [
        "## Алгоритмы классификации\n",
        "\n",
        "Алгоритмы приводятся в виде ссылок на документацию sklearn\n",
        "\n",
        "### [Наивный Байесовский классификатор](https://scikit-learn.org/stable/modules/naive_bayes.html)\n",
        "\n",
        "Классификатор основан на вероятностном подходе: подсчёт частот встречаемости фичей.\n",
        "\n",
        "Очень просто реализовать, поэтому работает достаточно быстро. Применим  на больших объёмах данных в случае, когда количество фичей не очень большое.\n",
        "\n",
        "### [Метод $K$ ближайших соседей](https://scikit-learn.org/stable/modules/generated/sklearn.neighbors.KNeighborsClassifier.html)\n",
        "\n",
        "Т.н. \"ленивый\" (lazy algorithm) алгоритм классификации, который работает за два шага:\n",
        "\n",
        "* запоминает объекты обучающей выборки и их классы\n",
        "* в момент предсказания для объекта находит $k$ самых близких объектов из обучающей выборки и присваивает новому объекту класс большинства его \"соседей\"\n",
        "\n"
      ]
    },
    {
      "cell_type": "markdown",
      "metadata": {
        "id": "0YrCOV3CsukW"
      },
      "source": [
        "### [Логистическая регрессия](https://scikit-learn.org/stable/modules/linear_model.html#logistic-regression)\n",
        "\n",
        "Алгоритм, основанный на идеях линейной регрессии. Применим для бинарной классификации, на выходе выдаёт вероятность того, что объект принадлежит классу $1$, которая вычисляется по формуле\n",
        "\n",
        "$$\n",
        "P(y==1 | x) = \\frac{1}{1+e^{z}}\n",
        "$$\n",
        "\n",
        "Где $z$ - линейная комбинация фичей объекта\n",
        "$$\n",
        "z = \\theta^T x = \\theta_1 x_1 + \\theta_2 x_2 + \\ldots + \\theta_n x_n\n",
        "$$\n",
        "\n",
        "Обучение сводится к вычислению оптимального набора $\\theta = [\\theta_1, \\theta_2, \\ldots, \\theta_n]$\n",
        "\n",
        "Статья [пережёвываем логистическую регрессию](https://m.habr.com/ru/post/485872/)_\n",
        "\n",
        "\n",
        "**Примечание**: другой пример линейного классификатора - [машина опорных векторов](https://scikit-learn.org/stable/modules/svm.html#classification)\n",
        "\n",
        "В этом алгоритме мы обучаем вектор весов $W$ таким образом, чтобы прямая $y=W^TX$, задаваемая этими весами, проходила на максимальном удалении от точек обоих классов\n",
        "\n",
        "![svm_hyperplane.png](img/svm_hyperplane.png)\n",
        "\n",
        "Отличная [статья на Хабре про SVM](https://habr.com/ru/company/ods/blog/484148/)\n"
      ]
    },
    {
      "cell_type": "markdown",
      "metadata": {
        "id": "eLq5qqmosukX"
      },
      "source": [
        "### [Дерево принятия решений]()\n",
        "\n",
        "Дерево принятия решений в задачах классификации можно представить как последовательность вопросов о фичах объекта, которая приводит к однозначному определению класса объекта. Каждый следующий вопрос зависит от того, какой ответ был получен на предыдущем шаге\n",
        "\n",
        "Как каждый такой вопрос - это проверка признака по некоторому \"порогу разбиения\" и разбиение выборки на две части по этому порогу. Порог разбиения выбирается таким образом, чтобы минимизировать энтропию (т.е. уменьшить неопределенность) в двух получившихся частях выборки.\n",
        "\n",
        "Более подробно ( в т.ч. про энтропию) можно почитать в [Статье от ODS](https://habr.com/ru/company/ods/blog/322534)"
      ]
    },
    {
      "cell_type": "code",
      "execution_count": 8,
      "metadata": {
        "id": "FuH0oC2AsukX"
      },
      "outputs": [],
      "source": [
        "from sklearn import tree\n",
        "\n",
        "clf = tree.DecisionTreeClassifier().fit(X, y)"
      ]
    },
    {
      "cell_type": "markdown",
      "metadata": {
        "id": "wTV-thJOsukX"
      },
      "source": [
        "Предсказания одного дерева получаем по формуле"
      ]
    },
    {
      "cell_type": "code",
      "execution_count": 9,
      "metadata": {
        "colab": {
          "base_uri": "https://localhost:8080/"
        },
        "id": "D1vFUq55sukX",
        "outputId": "8e645d8c-e985-4742-c383-ac2bfa86c281"
      },
      "outputs": [
        {
          "output_type": "stream",
          "name": "stdout",
          "text": [
            "Точность предсказаний: 1.0\n"
          ]
        }
      ],
      "source": [
        "predicted_classes = clf.predict(X)\n",
        "\n",
        "accuracy = (predicted_classes == y).sum() / len(y)\n",
        "\n",
        "print(f'Точность предсказаний: {accuracy}')"
      ]
    },
    {
      "cell_type": "markdown",
      "metadata": {
        "id": "-8nGdxfNsukX"
      },
      "source": [
        "Визуализация дерева принятия решений"
      ]
    },
    {
      "cell_type": "code",
      "execution_count": 10,
      "metadata": {
        "colab": {
          "base_uri": "https://localhost:8080/",
          "height": 674
        },
        "id": "8XfCOGGGsukY",
        "outputId": "ad8d20c7-6e21-4fe6-a9a3-04951029c026"
      },
      "outputs": [
        {
          "output_type": "execute_result",
          "data": {
            "text/plain": [
              "[Text(0.5909090909090909, 0.9, 'x[0] <= 0.259\\ngini = 0.667\\nsamples = 100\\nvalue = [34, 33, 33]'),\n",
              " Text(0.36363636363636365, 0.7, 'x[1] <= 0.629\\ngini = 0.528\\nsamples = 68\\nvalue = [33, 2, 33]'),\n",
              " Text(0.4772727272727273, 0.8, 'True  '),\n",
              " Text(0.18181818181818182, 0.5, 'x[2] <= -0.411\\ngini = 0.26\\nsamples = 39\\nvalue = [6, 0, 33]'),\n",
              " Text(0.09090909090909091, 0.3, 'gini = 0.0\\nsamples = 26\\nvalue = [0, 0, 26]'),\n",
              " Text(0.2727272727272727, 0.3, 'x[0] <= -0.771\\ngini = 0.497\\nsamples = 13\\nvalue = [6, 0, 7]'),\n",
              " Text(0.18181818181818182, 0.1, 'gini = 0.0\\nsamples = 7\\nvalue = [0, 0, 7]'),\n",
              " Text(0.36363636363636365, 0.1, 'gini = 0.0\\nsamples = 6\\nvalue = [6, 0, 0]'),\n",
              " Text(0.5454545454545454, 0.5, 'x[0] <= -0.32\\ngini = 0.128\\nsamples = 29\\nvalue = [27, 2, 0]'),\n",
              " Text(0.45454545454545453, 0.3, 'gini = 0.0\\nsamples = 27\\nvalue = [27, 0, 0]'),\n",
              " Text(0.6363636363636364, 0.3, 'gini = 0.0\\nsamples = 2\\nvalue = [0, 2, 0]'),\n",
              " Text(0.8181818181818182, 0.7, 'x[1] <= -0.899\\ngini = 0.061\\nsamples = 32\\nvalue = [1, 31, 0]'),\n",
              " Text(0.7045454545454546, 0.8, '  False'),\n",
              " Text(0.7272727272727273, 0.5, 'gini = 0.0\\nsamples = 1\\nvalue = [1, 0, 0]'),\n",
              " Text(0.9090909090909091, 0.5, 'gini = 0.0\\nsamples = 31\\nvalue = [0, 31, 0]')]"
            ]
          },
          "metadata": {},
          "execution_count": 10
        },
        {
          "output_type": "display_data",
          "data": {
            "text/plain": [
              "<Figure size 640x480 with 1 Axes>"
            ],
            "image/png": "[encoded data removed]"
          },
          "metadata": {}
        }
      ],
      "source": [
        "%matplotlib inline\n",
        "\n",
        "tree.plot_tree(clf)"
      ]
    },
    {
      "cell_type": "markdown",
      "metadata": {
        "id": "P-szqWgasukY"
      },
      "source": [
        "### [Классификатор на случайных деревьях](https://scikit-learn.org/stable/modules/generated/sklearn.ensemble.RandomForestClassifier.html#sklearn.ensemble.RandomForestClassifier)\n",
        "\n",
        "Строим большое количество случайных деревьев, а итоговое предсказание - результат \"голосования\" деревьев\n",
        "\n",
        "![random_forest_introduction.jpg](img/random_forest_introduction.jpg)\n"
      ]
    },
    {
      "cell_type": "markdown",
      "metadata": {
        "id": "mw8ahEgAsukY"
      },
      "source": [
        "Почему это работает?\n",
        "\n",
        "Если у каждого дерева вероятность правильного предсказания выше, чем 0.5 то у чем больше таких деревьев тем выше вероятнсть правильного ответа"
      ]
    },
    {
      "cell_type": "code",
      "execution_count": 10,
      "metadata": {
        "id": "NNw5wMuasukY"
      },
      "outputs": [],
      "source": []
    },
    {
      "cell_type": "markdown",
      "metadata": {
        "id": "uRgmfhngsukY"
      },
      "source": [
        "## Метрики классификации\n",
        "\n",
        "Все метрики классификации основаны на следующей таблице, которая содержит возможные исходы работы классификатора: ошибочные и корректные.\n",
        "\n",
        "![confusion_matrix.png](img/confusion_matrix.png)\n",
        "\n",
        "В таблице 4 исхода применения классификатора:\n",
        "\n",
        "* `true positive`: класс $1$ предсказали правильно\n",
        "* `false positive`: класс $1$ предсказали неправильно\n",
        "* `true negative`: класс $0$ предсказали правильно\n",
        "* `false negative`: класс $0$ предсказали неправильно\n",
        "\n",
        "На числах, которые находятся в ячейках таблицы можно построить огромное количество метрик\n",
        "\n",
        "Для начала посчитаем собственно confusion matrix"
      ]
    },
    {
      "cell_type": "code",
      "execution_count": 13,
      "metadata": {
        "colab": {
          "base_uri": "https://localhost:8080/",
          "height": 496
        },
        "id": "J8BcWHs8sukZ",
        "outputId": "5fd7c915-3b8d-439d-89a9-e18ac49e1b23"
      },
      "outputs": [
        {
          "output_type": "stream",
          "name": "stdout",
          "text": [
            "Кoличество объектов в тестовой выборке: 33\n"
          ]
        },
        {
          "output_type": "display_data",
          "data": {
            "text/plain": [
              "<Figure size 640x480 with 2 Axes>"
            ],
            "image/png": "[encoded data removed]"
          },
          "metadata": {}
        }
      ],
      "source": [
        "from sklearn.metrics import confusion_matrix\n",
        "from sklearn.model_selection import train_test_split\n",
        "import itertools\n",
        "\n",
        "# сводим задачу к бинарной классификации\n",
        "df_source = pd.read_csv(\n",
        "    file_path,\n",
        "    dtype={'call_diff': np.float32, 'call_diff': np.float32, 'traffic_diff': np.float32, 'customes_class': np.uint16}\n",
        ")\n",
        "df_source[(df_source.customes_class==2) & (df_source.call_diff>1.1)] = 0\n",
        "df_source[(df_source.customes_class==2) & (df_source.call_diff<=1.1)] = 1\n",
        "X = df_source[['call_diff','sms_diff','traffic_diff']].values\n",
        "y = df_source.customes_class.values\n",
        "\n",
        "def plot_confusion_matrix(cm, classes,\n",
        "                          title='Confusion matrix',\n",
        "                          cmap=plt.cm.Blues):\n",
        "    \"\"\"\n",
        "    This function prints and plots the confusion matrix.\n",
        "    Normalization can be applied by setting `normalize=True`.\n",
        "    \"\"\"\n",
        "    plt.imshow(cm, interpolation='nearest', cmap=cmap)\n",
        "    plt.title(title)\n",
        "    plt.colorbar()\n",
        "    tick_marks = np.arange(len(classes))\n",
        "    plt.xticks(tick_marks, classes, rotation=45)\n",
        "    plt.yticks(tick_marks, classes)\n",
        "\n",
        "    thresh = cm.max() / 2.\n",
        "    for i, j in itertools.product(range(cm.shape[0]), range(cm.shape[1])):\n",
        "        plt.text(j, i, cm[i, j],\n",
        "                 horizontalalignment=\"center\",\n",
        "                 color=\"white\" if cm[i, j] > thresh else \"black\")\n",
        "\n",
        "X_train, X_test, y_train, y_test = train_test_split(X, y, test_size=0.33, random_state=42)\n",
        "naive_bayes.fit(X_train, y_train)\n",
        "y_pred = naive_bayes.predict(X_test)\n",
        "\n",
        "conf_matrix = confusion_matrix(y_test, y_pred)\n",
        "plot_confusion_matrix(\n",
        "    conf_matrix,\n",
        "    classes=['active', 'churn'],\n",
        "    title='Confusion matrix, without normalization'\n",
        ")\n",
        "print(f'Кoличество объектов в тестовой выборке: {len(y_pred)}')"
      ]
    },
    {
      "cell_type": "markdown",
      "metadata": {
        "id": "XUy8oOfAsukZ"
      },
      "source": [
        "Активно используются следующие метрики\n",
        "\n",
        "**Accuracy**\n",
        "\n",
        "$$\n",
        "\\frac{TP + TN}{TP + TN + FP + FN}\n",
        "$$\n",
        "\n",
        "**Precision**\n",
        "$$\n",
        "\\frac{TP}{TP + FP}\n",
        "$$\n",
        "\n",
        "**Recall**\n",
        "$$\n",
        "\\frac{TP}{TP + FN}\n",
        "$$\n",
        "\n",
        "**F1-score**\n",
        "$$\n",
        "2\\frac{precision\\cdot recall}{precision + recall}\n",
        "$$\n",
        "\n",
        "**Logistic Loss**\n",
        "$$\n",
        "-\\frac{1}{l}\\sum_{i=1}^{l}\\left(y_i \\log\\hat{y}_i + (1-y_i) \\log(1-\\hat{y}_i)\\right)\n",
        "$$\n",
        "\n",
        "\n",
        "Про метрики есть хороший разбор на хабре [в статье про метрики](https://habr.com/ru/company/ods/blog/328372/)"
      ]
    },
    {
      "cell_type": "code",
      "execution_count": 14,
      "metadata": {
        "colab": {
          "base_uri": "https://localhost:8080/"
        },
        "id": "mk2LLmzLsukZ",
        "outputId": "d4c34661-8c36-4372-b37f-5a879fe70a67"
      },
      "outputs": [
        {
          "output_type": "stream",
          "name": "stdout",
          "text": [
            "accuracy_score:\t0.8787878787878788\n",
            "log_loss:\t4.368927683529352\n",
            "f1_score:\t0.9166666666666666\n",
            "precision_score:\t0.9166666666666666\n",
            "recall_score:\t0.9166666666666666\n"
          ]
        }
      ],
      "source": [
        "from sklearn.metrics import accuracy_score, log_loss, f1_score, precision_score, recall_score\n",
        "\n",
        "for f in [accuracy_score, log_loss, f1_score, precision_score, recall_score]:\n",
        "    print(f'{f.__name__}:\\t{f(y_test, y_pred)}')"
      ]
    },
    {
      "cell_type": "markdown",
      "metadata": {
        "id": "NgOCykydsukZ"
      },
      "source": [
        "## Домашнее задание\n",
        "\n",
        "Найдите лучший классификатор по метрике `f1_score`"
      ]
    },
    {
      "cell_type": "code",
      "execution_count": 15,
      "metadata": {
        "id": "6-vD2di7suka"
      },
      "outputs": [],
      "source": [
        "# --------- ВАШ КОД ТУТ --------\n",
        "\n",
        "\n",
        "\n",
        "\n",
        "\n",
        "# ------------------------------"
      ]
    },
    {
      "cell_type": "markdown",
      "metadata": {
        "id": "tVegfiFDsuka"
      },
      "source": [
        "# Регрессия\n",
        "\n",
        "Регрессия - это семейство алгоритмов машинного обучения с учителем, цель которых состоит в востановлении **непрерывной** зависимости целевой переменной от фичей.\n",
        "\n",
        "Допустим, у нас есть нормализованные данные по количеству просмотров контента в онлайн-кинотеатре ivi\n",
        "\n",
        "* в датасете всего одна фича: время, когда было сделано наблюдение\n",
        "* целевая переменная - количество просмотров в этот момент времени\n",
        "\n",
        "Мы хотим научиться предсказывать количество просмотров (напрерывную переменную) по времения суток"
      ]
    },
    {
      "cell_type": "code",
      "execution_count": 20,
      "metadata": {
        "colab": {
          "base_uri": "https://localhost:8080/",
          "height": 450
        },
        "id": "1Aa6abVcsuka",
        "outputId": "85821176-5311-4866-f898-7cc06ca28543"
      },
      "outputs": [
        {
          "output_type": "display_data",
          "data": {
            "text/plain": [
              "<Figure size 640x480 with 1 Axes>"
            ],
            "image/png": "[encoded data removed]"
          },
          "metadata": {}
        }
      ],
      "source": [
        "import pandas as pd\n",
        "import matplotlib.pyplot as plt\n",
        "%matplotlib inline\n",
        "\n",
        "regression_data_file_path = os.path.join(root_data_dir, 'non_linear.csv')\n",
        "df = pd.read_csv(regression_data_file_path, encoding='utf8')\n",
        "df.plot.scatter(x='x_train', y='y_train')\n",
        "plt.show()"
      ]
    },
    {
      "cell_type": "markdown",
      "metadata": {
        "id": "Xbm7Bg5xsuka"
      },
      "source": [
        "## Линейная регрессия"
      ]
    },
    {
      "cell_type": "markdown",
      "metadata": {
        "id": "b9kUrwOYsuka"
      },
      "source": [
        "Впервые термин *регрессия* в статистике был использован английским исследователем Френсисом Гальтоном (1886) в  исследовании вопроса наследования физических характеристик человека (конкретно - роста человека). Было обнаружено, что в целом сыновья высоких отцов, оказались более высокими, чем сыновья отцов с низким ростом. Более интересным было то, что разброс в росте сыновей был меньшим, чем разброс в росте отцов. Так проявлялась тенденция возвращения роста сыновей к среднему (regression to mediocrity), то есть «регресс».\n",
        "\n",
        "Реализация этого алгоритма есть в библиотеке sklearn"
      ]
    },
    {
      "cell_type": "code",
      "execution_count": 21,
      "metadata": {
        "colab": {
          "base_uri": "https://localhost:8080/",
          "height": 472
        },
        "id": "wlN0nDJ7sukb",
        "outputId": "04db16fe-9131-49b9-db38-97f0e3edc1db"
      },
      "outputs": [
        {
          "output_type": "display_data",
          "data": {
            "text/plain": [
              "<Figure size 640x480 with 1 Axes>"
            ],
            "image/png": "[encoded data removed]"
          },
          "metadata": {}
        }
      ],
      "source": [
        "import numpy as np\n",
        "from sklearn.model_selection import train_test_split\n",
        "from sklearn.linear_model import LinearRegression\n",
        "\n",
        "X = df['x_train'].values\n",
        "y = df['y_train'].values\n",
        "\n",
        "X_train, X_test, y_train, y_test = train_test_split(X, y, test_size=0.33, random_state=42)\n",
        "reg = LinearRegression().fit(X_train.reshape(-1, 1), y_train)\n",
        "\n",
        "# строим график\n",
        "margin = 0.3\n",
        "support = np.arange(X.min(), X.max(), step=0.1)\n",
        "\n",
        "# строим предсказание\n",
        "y_hat = reg.predict(support.reshape(-1, 1))\n",
        "\n",
        "plt.plot(support, y_hat, 'b--', alpha=0.5, label='prediction')\n",
        "plt.scatter(X_train, y_train, 40, 'g', 'o', alpha=0.8, label='data')\n",
        "plt.xlim(X.min() - margin, X.max() + margin)\n",
        "plt.ylim(y.min() - margin, y.max() + margin)\n",
        "plt.legend(loc='upper right', prop={'size': 20})\n",
        "plt.title('Fitted linear regression')\n",
        "plt.xlabel('x')\n",
        "plt.ylabel('y')\n",
        "plt.show()"
      ]
    },
    {
      "cell_type": "markdown",
      "metadata": {
        "id": "2HRJ_sa8sukb"
      },
      "source": [
        "Если вспомнить модель линейной регрессии, то обучение модели сводится к нахождению коэффициентов $w_1,\\ldots,w_n$:\n",
        "$$\n",
        "\\forall x_i: h(x) = w_0 + w_1x_i^1 + \\ldots + w_nx_i^n = \\sum_{j=1}^{n}w_jx_i^j = \\overline{x}_i^T\\overline{w}\n",
        "$$\n",
        "\n",
        "\"Достать\" коэффициенты из модели можно через аттрибут `coef_`:"
      ]
    },
    {
      "cell_type": "code",
      "execution_count": null,
      "metadata": {
        "id": "6wzZWQVMsukb",
        "outputId": "4bf57c3b-0ceb-40aa-845a-c73167f73e3e"
      },
      "outputs": [
        {
          "name": "stdout",
          "output_type": "stream",
          "text": [
            "коэффициенты линейной регрессии w=[-0.29424462], качество модели 0.5831098740865217\n"
          ]
        }
      ],
      "source": [
        "print(\n",
        "    f'коэффициенты линейной регрессии w={reg.coef_},',\n",
        "    f'качество модели {reg.score(X_test.reshape(-1,1), y_test)}'\n",
        ")"
      ]
    },
    {
      "cell_type": "markdown",
      "metadata": {
        "id": "W4XbAxgCsukb"
      },
      "source": [
        "Линейная регрессия очень хорошо интерпретируется: чем больше по модулю значение коэффициента $w_i$, тем сильнее фича $x_i$ влияет на предсказания модели.\n",
        "\n",
        "Кажется, что линейная комбинация фичей сильно ограничивает модель и не позволяет улавливать сложные зависимости.\n",
        "\n",
        "Чтобы модель улавливала нелинейные зависимости, мы можем добавить в датасет степени исходной переменной. Допустим, построим предсказания на полиноме пятой степени:"
      ]
    },
    {
      "cell_type": "code",
      "execution_count": null,
      "metadata": {
        "id": "ICEyZmZTsukb",
        "outputId": "fdf59237-1198-4b38-c020-72e4e0a50d68"
      },
      "outputs": [
        {
          "data": {
            "text/plain": [
              "array([5.6102, 5.9498, 2.2894, 1.4277, 2.6416, 3.5284, 4.541 , 4.1259,\n",
              "       0.1384, 5.4467, 3.7737, 4.3334, 1.1824, 4.107 , 1.5346, 4.6228,\n",
              "       0.1572, 2.9246, 0.1887, 5.4152, 4.5724, 3.3146, 5.1574, 1.4717,\n",
              "       3.2705, 2.7988, 5.9687, 2.912 , 1.2705, 5.3083, 2.0189, 3.9183,\n",
              "       4.9372])"
            ]
          },
          "execution_count": 40,
          "metadata": {},
          "output_type": "execute_result"
        }
      ],
      "source": [
        "X_train"
      ]
    },
    {
      "cell_type": "code",
      "execution_count": null,
      "metadata": {
        "id": "g6vlDLDtsukh",
        "outputId": "1a03dc59-c729-4e65-b60d-db35cc505051"
      },
      "outputs": [
        {
          "data": {
            "image/png": "[encoded data removed]",
            "text/plain": [
              "<Figure size 432x288 with 1 Axes>"
            ]
          },
          "metadata": {
            "needs_background": "light"
          },
          "output_type": "display_data"
        }
      ],
      "source": [
        "def generate_degrees(source_data: list, degree: int):\n",
        "    \"\"\"Функция, которая принимает на вход одномерный массив, а возвращает n-мерный\n",
        "    Для каждой степени от 1 до  degree возводим x в эту степень\n",
        "    \"\"\"\n",
        "    return np.array([\n",
        "          source_data**n for n in range(1, degree + 1)\n",
        "    ]).T\n",
        "\n",
        "X_train_5 = generate_degrees(X_train, 5)\n",
        "X_test_5 = generate_degrees(X_test, 5)\n",
        "reg_5 = LinearRegression().fit(X_train_5, y_train)\n",
        "\n",
        "# строим график\n",
        "margin = 0.3\n",
        "support = np.arange(X.min(), X.max(), step=0.1)\n",
        "\n",
        "X_test_support = generate_degrees(support, 5)\n",
        "y_hat = reg_5.predict(X_test_support)\n",
        "\n",
        "plt.plot(support, y_hat, 'b--', alpha=0.5, label='prediction')\n",
        "plt.scatter(X_train, y_train, 40, 'g', 'o', alpha=0.8, label='data')\n",
        "plt.xlim(X.min() - margin, X.max() + margin)\n",
        "plt.ylim(y.min() - margin, y.max() + margin)\n",
        "plt.legend(loc='upper right', prop={'size': 20})\n",
        "plt.title('Fitted linear regression')\n",
        "plt.xlabel('x')\n",
        "plt.ylabel('y')\n",
        "plt.show()"
      ]
    },
    {
      "cell_type": "markdown",
      "metadata": {
        "id": "e6eIoIPesukh"
      },
      "source": [
        "Посмотрим на модель, которая у нас обучилась - вместо одной фичи в матрице **объекты $\\times$ признаки** стало пять фичей"
      ]
    },
    {
      "cell_type": "code",
      "execution_count": null,
      "metadata": {
        "id": "L5FTRGi8sukh",
        "outputId": "193385cd-40c0-4d87-b53c-e7bce7b612c0"
      },
      "outputs": [
        {
          "name": "stdout",
          "output_type": "stream",
          "text": [
            "коэффициенты линейной регрессии w=[ 2.48283062e+00 -1.19385669e+00  8.71731563e-02  2.15650198e-02\n",
            " -2.38912640e-03],\n",
            " качество модели 0.9123\n"
          ]
        }
      ],
      "source": [
        "print(\n",
        "    f'коэффициенты линейной регрессии w={reg_5.coef_},\\n',\n",
        "    f'качество модели {reg_5.score(X_test_5, y_test):.4f}'\n",
        ")"
      ]
    },
    {
      "cell_type": "markdown",
      "metadata": {
        "id": "xS_zdiPVsuki"
      },
      "source": [
        "### Домашнее задание.\n",
        "\n",
        "Пользуясь методом `.score` подберите наилучшее значение степени полинома"
      ]
    },
    {
      "cell_type": "code",
      "execution_count": null,
      "metadata": {
        "id": "dKBHuOlLsuki"
      },
      "outputs": [],
      "source": [
        "# --------- ВАШ КОД ТУТ --------\n",
        "\n",
        "\n",
        "\n",
        "\n",
        "\n",
        "# ------------------------------"
      ]
    },
    {
      "cell_type": "markdown",
      "metadata": {
        "id": "LA5nPz8Msuki"
      },
      "source": [
        "## Случайный лес\n",
        "\n",
        "Алгорим случайного можно применять для регрессии аналогично тому, как он применяется для классификации\n",
        "\n",
        "* рандомизировано построить несколько деревьев\n",
        "* каждое дерево независимо предсказывает значение в точке\n",
        "* итоговое предсказание - усреднённое значение предсказаний деревьев ансамбля"
      ]
    },
    {
      "cell_type": "code",
      "execution_count": null,
      "metadata": {
        "id": "vUYkpAAGsuki",
        "outputId": "6c97d767-9b99-4a6b-aba0-3380ae8e20e7"
      },
      "outputs": [
        {
          "name": "stdout",
          "output_type": "stream",
          "text": [
            "коэффициенты важности фичей w=[1.], качество модели 0.9610\n"
          ]
        }
      ],
      "source": [
        "from sklearn.ensemble import RandomForestRegressor\n",
        "\n",
        "rf = RandomForestRegressor(n_estimators=10).fit(X_train.reshape(-1, 1), y_train)\n",
        "print(\n",
        "    f'коэффициенты важности фичей w={rf.feature_importances_},',\n",
        "    f'качество модели {rf.score(X_train.reshape(-1, 1), y_train):.4f}'\n",
        ")"
      ]
    },
    {
      "cell_type": "markdown",
      "metadata": {
        "id": "rkGusZzDsuki"
      },
      "source": [
        "# Выводы\n",
        "\n",
        "* в задаче обучения с учителем обязательно нужно тратить время на разметку\n",
        "* проблема дисбаланса классов\n",
        "* можно слишком сильно подогнать модель под обучающую выборку - это явление переобучения, о нём поговорим в следующих занятиях"
      ]
    },
    {
      "cell_type": "code",
      "execution_count": null,
      "metadata": {
        "id": "01LDDQhqsukj"
      },
      "outputs": [],
      "source": []
    }
  ],
  "metadata": {
    "kernelspec": {
      "display_name": "Python 3",
      "language": "python",
      "name": "python3"
    },
    "language_info": {
      "codemirror_mode": {
        "name": "ipython",
        "version": 3
      },
      "file_extension": ".py",
      "mimetype": "text/x-python",
      "name": "python",
      "nbconvert_exporter": "python",
      "pygments_lexer": "ipython3",
      "version": "3.6.9"
    },
    "colab": {
      "provenance": []
    }
  },
  "nbformat": 4,
  "nbformat_minor": 0
}