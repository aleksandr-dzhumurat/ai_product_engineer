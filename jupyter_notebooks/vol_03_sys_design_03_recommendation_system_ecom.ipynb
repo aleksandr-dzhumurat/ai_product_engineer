{
 "cells": [
  {
   "cell_type": "markdown",
   "id": "95beb48d-bb98-4645-8b48-fce871b5d8e6",
   "metadata": {
    "id": "95beb48d-bb98-4645-8b48-fce871b5d8e6"
   },
   "source": [
    "# Recommendation system\n",
    "\n",
    "download dataset [Health_and_Personal_Care.jsonl.gz](https://drive.google.com/file/d/12N52kB4D1iqgzSuoWEfNSY3KqVRp10wL/view?usp=drive_link)\n",
    "\n",
    "put in to `data` dir"
   ]
  },
  {
   "cell_type": "code",
   "execution_count": 3,
   "id": "a0e30fb8-9a17-4060-9dea-11d9975f28d5",
   "metadata": {
    "colab": {
     "base_uri": "https://localhost:8080/"
    },
    "id": "a0e30fb8-9a17-4060-9dea-11d9975f28d5",
    "outputId": "769134b7-27f0-418f-e38b-442c08d7e50a"
   },
   "outputs": [
    {
     "name": "stdout",
     "output_type": "stream",
     "text": [
      "The autoreload extension is already loaded. To reload it, use:\n",
      "  %reload_ext autoreload\n",
      "Содержимое директории %s: %s /Users/adzhumurat/PycharmProjects/ai_product_engineer/data ['client_segmentation.csv', 'messages.db', 'labeled_data_corpus.csv', 'content_description.csv', 'nltk_data']\n"
     ]
    }
   ],
   "source": [
    "%load_ext autoreload\n",
    "%autoreload 2\n",
    "\n",
    "import sys\n",
    "import os\n",
    "\n",
    "import numpy as np\n",
    "\n",
    "RANDOM_SEED = 42\n",
    "np.random.seed(RANDOM_SEED)  # гарантируем воспроизводимость\n",
    "\n",
    "run_env = os.getenv('RUN_ENV', 'COLLAB')\n",
    "if run_env == 'COLLAB':\n",
    "  from google.colab import drive\n",
    "  ROOT_DIR = '/content/drive'\n",
    "  drive.mount(ROOT_DIR)\n",
    "  print('Google drive connected')\n",
    "  DRIVE_DATA_DIR = 'ml_course_data'\n",
    "  root_data_dir = os.path.join(ROOT_DIR, 'MyDrive', DRIVE_DATA_DIR)\n",
    "  sys.path.append(os.path.join(ROOT_DIR, 'MyDrive', 'src'))\n",
    "else:\n",
    "  root_data_dir = os.getenv('DATA_DIR', '/srv/data')\n",
    "\n",
    "if not os.path.exists(root_data_dir):\n",
    "  raise RuntimeError('Отсутствует директория с данными')\n",
    "else:\n",
    "  print('Содержимое директории %s: %s', root_data_dir, os.listdir(root_data_dir)[:5])"
   ]
  },
  {
   "cell_type": "code",
   "execution_count": 4,
   "id": "b68fb69a-4230-40c4-a974-ff565278edd7",
   "metadata": {
    "colab": {
     "base_uri": "https://localhost:8080/"
    },
    "id": "b68fb69a-4230-40c4-a974-ff565278edd7",
    "outputId": "e9e68d01-ffea-468b-c264-7fbfd7bd32ad"
   },
   "outputs": [
    {
     "name": "stdout",
     "output_type": "stream",
     "text": [
      "Dataset num items: 1000 from /Users/adzhumurat/PycharmProjects/ai_product_engineer/data/Health_and_Personal_Care.jsonl.gz\n",
      "1000\n"
     ]
    }
   ],
   "source": [
    "from utils import read_raw_data\n",
    "\n",
    "file_name = 'Health_and_Personal_Care.jsonl.gz'\n",
    "data_path = os.path.join(root_data_dir, file_name)\n",
    "\n",
    "json_data = read_raw_data(data_path, limit=1000)\n",
    "print(len(json_data))"
   ]
  },
  {
   "cell_type": "code",
   "execution_count": 5,
   "id": "89e4b0f7-400d-461b-892e-b73830eb5b2c",
   "metadata": {
    "colab": {
     "base_uri": "https://localhost:8080/"
    },
    "id": "89e4b0f7-400d-461b-892e-b73830eb5b2c",
    "outputId": "27b85d4e-d01f-4292-f718-6cf94f59947e"
   },
   "outputs": [
    {
     "data": {
      "text/plain": [
       "{'rating': 4.0,\n",
       " 'title': '12 mg is 12 on the periodic table people! Mg for magnesium',\n",
       " 'text': 'This review is more to clarify someone else’s review bc they didn’t understand understand the labeling!  It shows 1000mg as advertised & another little label says 12mg bc 12 is on the periodic table for magnesium!  I realize not everyone takes chemistry, but 4 ppl liked his review & so misinformation is spreading.  This works. If however you are on opiate level medications that are causing constipation you should talk to your pain dr or your gastrointestinal dr & ask for a medication called Linzess which works must better & must faster, but is unnecessary for most people.  If magnesium is working for you just make sure to take it with food & drink 6-8 glasses of water per day.  Staying hydrated will really help.  Before switching to Linzess I used to take one 1,000 mg pill am & pm every day with meals & always with an 8 ounce glass of water or other liquid.',\n",
       " 'images': [],\n",
       " 'asin': 'B07TDSJZMR',\n",
       " 'parent_asin': 'B07TDSJZMR',\n",
       " 'user_id': 'AFKZENTNBQ7A7V7UXW5JJI6UGRYQ',\n",
       " 'timestamp': 1580950175902,\n",
       " 'helpful_vote': 3,\n",
       " 'verified_purchase': True}"
      ]
     },
     "execution_count": 5,
     "metadata": {},
     "output_type": "execute_result"
    }
   ],
   "source": [
    "json_data[0]"
   ]
  },
  {
   "cell_type": "code",
   "execution_count": 6,
   "id": "f055bce9-d19b-4c0f-9e0d-522ef37fe4fd",
   "metadata": {
    "colab": {
     "base_uri": "https://localhost:8080/",
     "height": 206
    },
    "id": "f055bce9-d19b-4c0f-9e0d-522ef37fe4fd",
    "outputId": "b5ffc23c-970d-4174-b7e2-280db64bf7c3"
   },
   "outputs": [
    {
     "data": {
      "text/html": [
       "<div>\n",
       "<style scoped>\n",
       "    .dataframe tbody tr th:only-of-type {\n",
       "        vertical-align: middle;\n",
       "    }\n",
       "\n",
       "    .dataframe tbody tr th {\n",
       "        vertical-align: top;\n",
       "    }\n",
       "\n",
       "    .dataframe thead th {\n",
       "        text-align: right;\n",
       "    }\n",
       "</style>\n",
       "<table border=\"1\" class=\"dataframe\">\n",
       "  <thead>\n",
       "    <tr style=\"text-align: right;\">\n",
       "      <th></th>\n",
       "      <th>category</th>\n",
       "      <th>CustomerID</th>\n",
       "      <th>ProductID</th>\n",
       "      <th>target</th>\n",
       "    </tr>\n",
       "  </thead>\n",
       "  <tbody>\n",
       "    <tr>\n",
       "      <th>0</th>\n",
       "      <td>health</td>\n",
       "      <td>AFKZENTNBQ7A7V7UXW5JJI6UGRYQ</td>\n",
       "      <td>B07TDSJZMR</td>\n",
       "      <td>4.0</td>\n",
       "    </tr>\n",
       "    <tr>\n",
       "      <th>1</th>\n",
       "      <td>health</td>\n",
       "      <td>AEVWAM3YWN5URJVJIZZ6XPD2MKIA</td>\n",
       "      <td>B08637FWWF</td>\n",
       "      <td>5.0</td>\n",
       "    </tr>\n",
       "    <tr>\n",
       "      <th>2</th>\n",
       "      <td>health</td>\n",
       "      <td>AHSPLDNW5OOUK2PLH7GXLACFBZNQ</td>\n",
       "      <td>B07KJVGNN5</td>\n",
       "      <td>5.0</td>\n",
       "    </tr>\n",
       "    <tr>\n",
       "      <th>3</th>\n",
       "      <td>health</td>\n",
       "      <td>AEZGPLOYTSAPR3DHZKKXEFPAXUAA</td>\n",
       "      <td>B092RP73CX</td>\n",
       "      <td>4.0</td>\n",
       "    </tr>\n",
       "    <tr>\n",
       "      <th>4</th>\n",
       "      <td>health</td>\n",
       "      <td>AEQAYV7RXZEBXMQIQPL6KCT2CFWQ</td>\n",
       "      <td>B08KYJLF5T</td>\n",
       "      <td>1.0</td>\n",
       "    </tr>\n",
       "  </tbody>\n",
       "</table>\n",
       "</div>"
      ],
      "text/plain": [
       "  category                    CustomerID   ProductID  target\n",
       "0   health  AFKZENTNBQ7A7V7UXW5JJI6UGRYQ  B07TDSJZMR     4.0\n",
       "1   health  AEVWAM3YWN5URJVJIZZ6XPD2MKIA  B08637FWWF     5.0\n",
       "2   health  AHSPLDNW5OOUK2PLH7GXLACFBZNQ  B07KJVGNN5     5.0\n",
       "3   health  AEZGPLOYTSAPR3DHZKKXEFPAXUAA  B092RP73CX     4.0\n",
       "4   health  AEQAYV7RXZEBXMQIQPL6KCT2CFWQ  B08KYJLF5T     1.0"
      ]
     },
     "execution_count": 6,
     "metadata": {},
     "output_type": "execute_result"
    }
   ],
   "source": [
    "import pandas as pd\n",
    "\n",
    "user_item_data_df = pd.DataFrame([('health', i['user_id'], i['parent_asin'], i['rating']) for i in json_data], columns=['category', 'CustomerID', 'ProductID', 'target'])\n",
    "\n",
    "user_item_data_df.head()"
   ]
  },
  {
   "cell_type": "markdown",
   "id": "cffb6f0e-30d2-4fd6-b61b-2b48de7756be",
   "metadata": {
    "id": "cffb6f0e-30d2-4fd6-b61b-2b48de7756be"
   },
   "source": [
    "Recommender baseline"
   ]
  },
  {
   "cell_type": "code",
   "execution_count": 7,
   "id": "cb820fa8-9e23-4a8f-8bee-9d4e7b79642b",
   "metadata": {
    "colab": {
     "base_uri": "https://localhost:8080/",
     "height": 238
    },
    "id": "cb820fa8-9e23-4a8f-8bee-9d4e7b79642b",
    "outputId": "ffd30089-69e3-4d30-e3ee-98010e45b2e9"
   },
   "outputs": [
    {
     "data": {
      "text/html": [
       "<div>\n",
       "<style scoped>\n",
       "    .dataframe tbody tr th:only-of-type {\n",
       "        vertical-align: middle;\n",
       "    }\n",
       "\n",
       "    .dataframe tbody tr th {\n",
       "        vertical-align: top;\n",
       "    }\n",
       "\n",
       "    .dataframe thead th {\n",
       "        text-align: right;\n",
       "    }\n",
       "</style>\n",
       "<table border=\"1\" class=\"dataframe\">\n",
       "  <thead>\n",
       "    <tr style=\"text-align: right;\">\n",
       "      <th></th>\n",
       "      <th>num_entries</th>\n",
       "    </tr>\n",
       "    <tr>\n",
       "      <th>ProductID</th>\n",
       "      <th></th>\n",
       "    </tr>\n",
       "  </thead>\n",
       "  <tbody>\n",
       "    <tr>\n",
       "      <th>B07XVVVB8W</th>\n",
       "      <td>22</td>\n",
       "    </tr>\n",
       "    <tr>\n",
       "      <th>B08X9LB1WC</th>\n",
       "      <td>7</td>\n",
       "    </tr>\n",
       "    <tr>\n",
       "      <th>B0BSRPX53Z</th>\n",
       "      <td>7</td>\n",
       "    </tr>\n",
       "    <tr>\n",
       "      <th>B0B4328BFW</th>\n",
       "      <td>5</td>\n",
       "    </tr>\n",
       "    <tr>\n",
       "      <th>B08KBQNDJC</th>\n",
       "      <td>4</td>\n",
       "    </tr>\n",
       "  </tbody>\n",
       "</table>\n",
       "</div>"
      ],
      "text/plain": [
       "            num_entries\n",
       "ProductID              \n",
       "B07XVVVB8W           22\n",
       "B08X9LB1WC            7\n",
       "B0BSRPX53Z            7\n",
       "B0B4328BFW            5\n",
       "B08KBQNDJC            4"
      ]
     },
     "execution_count": 7,
     "metadata": {},
     "output_type": "execute_result"
    }
   ],
   "source": [
    "popularity_df = (\n",
    "    user_item_data_df\n",
    "    .groupby('ProductID')\n",
    "    .agg(num_entries=('CustomerID', 'count'))\n",
    "    .sort_values(by='num_entries', ascending=False)\n",
    ")\n",
    "\n",
    "popularity_df.head()"
   ]
  },
  {
   "cell_type": "code",
   "execution_count": 15,
   "id": "16703b67-1833-4cb2-84eb-65594b7af969",
   "metadata": {
    "colab": {
     "base_uri": "https://localhost:8080/",
     "height": 260
    },
    "id": "16703b67-1833-4cb2-84eb-65594b7af969",
    "outputId": "546eca29-965e-44d9-bba2-73c63e848311"
   },
   "outputs": [
    {
     "name": "stdout",
     "output_type": "stream",
     "text": [
      "Transformation started...\n",
      "Negative candidates: 380264, Positive samples: 1000\n",
      "Num negatives 0.6702412868632708\n",
      "{0: 2000, 1: 984}\n"
     ]
    },
    {
     "data": {
      "text/html": [
       "<div>\n",
       "<style scoped>\n",
       "    .dataframe tbody tr th:only-of-type {\n",
       "        vertical-align: middle;\n",
       "    }\n",
       "\n",
       "    .dataframe tbody tr th {\n",
       "        vertical-align: top;\n",
       "    }\n",
       "\n",
       "    .dataframe thead th {\n",
       "        text-align: right;\n",
       "    }\n",
       "</style>\n",
       "<table border=\"1\" class=\"dataframe\">\n",
       "  <thead>\n",
       "    <tr style=\"text-align: right;\">\n",
       "      <th></th>\n",
       "      <th>category</th>\n",
       "      <th>CustomerID</th>\n",
       "      <th>ProductID</th>\n",
       "      <th>target</th>\n",
       "    </tr>\n",
       "  </thead>\n",
       "  <tbody>\n",
       "    <tr>\n",
       "      <th>0</th>\n",
       "      <td>health</td>\n",
       "      <td>AE25NQAZI3725GZIL5FS52ZIKWKQ</td>\n",
       "      <td>B007QESMDK</td>\n",
       "      <td>1</td>\n",
       "    </tr>\n",
       "    <tr>\n",
       "      <th>1</th>\n",
       "      <td>health</td>\n",
       "      <td>AE25NQAZI3725GZIL5FS52ZIKWKQ</td>\n",
       "      <td>B0BLGM5PDZ</td>\n",
       "      <td>0</td>\n",
       "    </tr>\n",
       "    <tr>\n",
       "      <th>2</th>\n",
       "      <td>health</td>\n",
       "      <td>AE25NQAZI3725GZIL5FS52ZIKWKQ</td>\n",
       "      <td>B086MFCTZN</td>\n",
       "      <td>0</td>\n",
       "    </tr>\n",
       "    <tr>\n",
       "      <th>3</th>\n",
       "      <td>health</td>\n",
       "      <td>AE25NQAZI3725GZIL5FS52ZIKWKQ</td>\n",
       "      <td>B074SPZRMM</td>\n",
       "      <td>0</td>\n",
       "    </tr>\n",
       "    <tr>\n",
       "      <th>4</th>\n",
       "      <td>health</td>\n",
       "      <td>AE25NQAZI3725GZIL5FS52ZIKWKQ</td>\n",
       "      <td>B00VF8DNUA</td>\n",
       "      <td>0</td>\n",
       "    </tr>\n",
       "  </tbody>\n",
       "</table>\n",
       "</div>"
      ],
      "text/plain": [
       "  category                    CustomerID   ProductID  target\n",
       "0   health  AE25NQAZI3725GZIL5FS52ZIKWKQ  B007QESMDK       1\n",
       "1   health  AE25NQAZI3725GZIL5FS52ZIKWKQ  B0BLGM5PDZ       0\n",
       "2   health  AE25NQAZI3725GZIL5FS52ZIKWKQ  B086MFCTZN       0\n",
       "3   health  AE25NQAZI3725GZIL5FS52ZIKWKQ  B074SPZRMM       0\n",
       "4   health  AE25NQAZI3725GZIL5FS52ZIKWKQ  B00VF8DNUA       0"
      ]
     },
     "execution_count": 15,
     "metadata": {},
     "output_type": "execute_result"
    }
   ],
   "source": [
    "from recsys.utils import prepare_evaluation_df\n",
    "\n",
    "evaluation_df = prepare_evaluation_df(user_item_data_df).to_pandas()\n",
    "print(evaluation_df['target'].value_counts().to_dict())\n",
    "evaluation_df.head()"
   ]
  },
  {
   "cell_type": "markdown",
   "id": "6b6c678f-e799-434f-98ac-b0cb050514e1",
   "metadata": {
    "id": "6b6c678f-e799-434f-98ac-b0cb050514e1"
   },
   "source": [
    "# Features\n",
    "\n",
    "prepare sparse features"
   ]
  },
  {
   "cell_type": "code",
   "execution_count": 9,
   "id": "ed41492e-9c75-44dc-b425-07d5e6a0e99f",
   "metadata": {
    "colab": {
     "base_uri": "https://localhost:8080/"
    },
    "id": "ed41492e-9c75-44dc-b425-07d5e6a0e99f",
    "outputId": "e7124898-25a1-4466-8c28-6150eaeff27e"
   },
   "outputs": [
    {
     "name": "stdout",
     "output_type": "stream",
     "text": [
      "Dataset num items: 60293 from /Users/adzhumurat/PycharmProjects/ai_product_engineer/data/meta_Health_and_Personal_Care.jsonl.gz\n",
      "851\n"
     ]
    }
   ],
   "source": [
    "file_name = 'meta_Health_and_Personal_Care.jsonl.gz'\n",
    "data_path = os.path.join(root_data_dir, file_name)\n",
    "\n",
    "json_meta_data = [i for i in read_raw_data(data_path) if i['parent_asin'] in user_item_data_df['ProductID'].values]\n",
    "print(len(json_meta_data))"
   ]
  },
  {
   "cell_type": "code",
   "execution_count": 10,
   "id": "ecb5a144-8c21-4281-a7ba-5e68f9f7dd0e",
   "metadata": {
    "colab": {
     "base_uri": "https://localhost:8080/",
     "height": 471
    },
    "id": "ecb5a144-8c21-4281-a7ba-5e68f9f7dd0e",
    "outputId": "1b07b1c8-562a-4893-c9c8-9e1e6f2812f8"
   },
   "outputs": [
    {
     "data": {
      "text/html": [
       "<div>\n",
       "<style scoped>\n",
       "    .dataframe tbody tr th:only-of-type {\n",
       "        vertical-align: middle;\n",
       "    }\n",
       "\n",
       "    .dataframe tbody tr th {\n",
       "        vertical-align: top;\n",
       "    }\n",
       "\n",
       "    .dataframe thead th {\n",
       "        text-align: right;\n",
       "    }\n",
       "</style>\n",
       "<table border=\"1\" class=\"dataframe\">\n",
       "  <thead>\n",
       "    <tr style=\"text-align: right;\">\n",
       "      <th></th>\n",
       "      <th>main_category</th>\n",
       "      <th>title</th>\n",
       "      <th>average_rating</th>\n",
       "      <th>rating_number</th>\n",
       "      <th>features</th>\n",
       "      <th>description</th>\n",
       "      <th>price</th>\n",
       "      <th>images</th>\n",
       "      <th>videos</th>\n",
       "      <th>store</th>\n",
       "      <th>...</th>\n",
       "      <th>details.Coating Description</th>\n",
       "      <th>details.Photo Filter Effect Type</th>\n",
       "      <th>details.Filter Type</th>\n",
       "      <th>details.Is Foldable</th>\n",
       "      <th>details.Target Species</th>\n",
       "      <th>details.Cartoon Character</th>\n",
       "      <th>details.Filter Class</th>\n",
       "      <th>details.Test type</th>\n",
       "      <th>details.Allergen Information</th>\n",
       "      <th>details.Mounting Type</th>\n",
       "    </tr>\n",
       "  </thead>\n",
       "  <tbody>\n",
       "    <tr>\n",
       "      <th>0</th>\n",
       "      <td>Health &amp; Personal Care</td>\n",
       "      <td>GoodSense Premium Saline, Nasal Moisturizing S...</td>\n",
       "      <td>4.1</td>\n",
       "      <td>29</td>\n",
       "      <td>[INGREDIENTS: Compare to Ocean ingredients., U...</td>\n",
       "      <td>[]</td>\n",
       "      <td>NaN</td>\n",
       "      <td>[{'thumb': 'https://m.media-amazon.com/images/...</td>\n",
       "      <td>[]</td>\n",
       "      <td>Good Sense</td>\n",
       "      <td>...</td>\n",
       "      <td>NaN</td>\n",
       "      <td>NaN</td>\n",
       "      <td>NaN</td>\n",
       "      <td>NaN</td>\n",
       "      <td>NaN</td>\n",
       "      <td>NaN</td>\n",
       "      <td>NaN</td>\n",
       "      <td>NaN</td>\n",
       "      <td>NaN</td>\n",
       "      <td>NaN</td>\n",
       "    </tr>\n",
       "    <tr>\n",
       "      <th>1</th>\n",
       "      <td>Health &amp; Personal Care</td>\n",
       "      <td>Premium Dry brush for take a bath and Lymphati...</td>\n",
       "      <td>2.7</td>\n",
       "      <td>7</td>\n",
       "      <td>[]</td>\n",
       "      <td>[]</td>\n",
       "      <td>NaN</td>\n",
       "      <td>[{'thumb': 'https://m.media-amazon.com/images/...</td>\n",
       "      <td>[]</td>\n",
       "      <td>Smiley smith</td>\n",
       "      <td>...</td>\n",
       "      <td>NaN</td>\n",
       "      <td>NaN</td>\n",
       "      <td>NaN</td>\n",
       "      <td>NaN</td>\n",
       "      <td>NaN</td>\n",
       "      <td>NaN</td>\n",
       "      <td>NaN</td>\n",
       "      <td>NaN</td>\n",
       "      <td>NaN</td>\n",
       "      <td>NaN</td>\n",
       "    </tr>\n",
       "    <tr>\n",
       "      <th>2</th>\n",
       "      <td>Health &amp; Personal Care</td>\n",
       "      <td>Cord Locks Silicone Toggles for Drawstrings El...</td>\n",
       "      <td>4.2</td>\n",
       "      <td>632</td>\n",
       "      <td>[]</td>\n",
       "      <td>[]</td>\n",
       "      <td>NaN</td>\n",
       "      <td>[{'thumb': 'https://m.media-amazon.com/images/...</td>\n",
       "      <td>[{'title': 'Cord Locks Silicone Toggles', 'url...</td>\n",
       "      <td>Abodhu</td>\n",
       "      <td>...</td>\n",
       "      <td>NaN</td>\n",
       "      <td>NaN</td>\n",
       "      <td>NaN</td>\n",
       "      <td>NaN</td>\n",
       "      <td>NaN</td>\n",
       "      <td>NaN</td>\n",
       "      <td>NaN</td>\n",
       "      <td>NaN</td>\n",
       "      <td>NaN</td>\n",
       "      <td>NaN</td>\n",
       "    </tr>\n",
       "  </tbody>\n",
       "</table>\n",
       "<p>3 rows × 166 columns</p>\n",
       "</div>"
      ],
      "text/plain": [
       "            main_category                                              title  \\\n",
       "0  Health & Personal Care  GoodSense Premium Saline, Nasal Moisturizing S...   \n",
       "1  Health & Personal Care  Premium Dry brush for take a bath and Lymphati...   \n",
       "2  Health & Personal Care  Cord Locks Silicone Toggles for Drawstrings El...   \n",
       "\n",
       "   average_rating  rating_number  \\\n",
       "0             4.1             29   \n",
       "1             2.7              7   \n",
       "2             4.2            632   \n",
       "\n",
       "                                            features description  price  \\\n",
       "0  [INGREDIENTS: Compare to Ocean ingredients., U...          []    NaN   \n",
       "1                                                 []          []    NaN   \n",
       "2                                                 []          []    NaN   \n",
       "\n",
       "                                              images  \\\n",
       "0  [{'thumb': 'https://m.media-amazon.com/images/...   \n",
       "1  [{'thumb': 'https://m.media-amazon.com/images/...   \n",
       "2  [{'thumb': 'https://m.media-amazon.com/images/...   \n",
       "\n",
       "                                              videos         store  ...  \\\n",
       "0                                                 []    Good Sense  ...   \n",
       "1                                                 []  Smiley smith  ...   \n",
       "2  [{'title': 'Cord Locks Silicone Toggles', 'url...        Abodhu  ...   \n",
       "\n",
       "  details.Coating Description details.Photo Filter Effect Type  \\\n",
       "0                         NaN                              NaN   \n",
       "1                         NaN                              NaN   \n",
       "2                         NaN                              NaN   \n",
       "\n",
       "  details.Filter Type details.Is Foldable details.Target Species  \\\n",
       "0                 NaN                 NaN                    NaN   \n",
       "1                 NaN                 NaN                    NaN   \n",
       "2                 NaN                 NaN                    NaN   \n",
       "\n",
       "  details.Cartoon Character details.Filter Class details.Test type  \\\n",
       "0                       NaN                  NaN               NaN   \n",
       "1                       NaN                  NaN               NaN   \n",
       "2                       NaN                  NaN               NaN   \n",
       "\n",
       "  details.Allergen Information details.Mounting Type  \n",
       "0                          NaN                   NaN  \n",
       "1                          NaN                   NaN  \n",
       "2                          NaN                   NaN  \n",
       "\n",
       "[3 rows x 166 columns]"
      ]
     },
     "execution_count": 10,
     "metadata": {},
     "output_type": "execute_result"
    }
   ],
   "source": [
    "catalog_df = pd.json_normalize(json_meta_data)\n",
    "\n",
    "catalog_df.head(3)"
   ]
  },
  {
   "cell_type": "code",
   "execution_count": 11,
   "id": "c3d4996d-7cd9-4424-9bc7-694b4704cef5",
   "metadata": {
    "colab": {
     "base_uri": "https://localhost:8080/"
    },
    "id": "c3d4996d-7cd9-4424-9bc7-694b4704cef5",
    "outputId": "ce0c7dc8-1a58-42b7-ea53-3ef6af5589b7"
   },
   "outputs": [
    {
     "name": "stdout",
     "output_type": "stream",
     "text": [
      "(851, 100)\n"
     ]
    }
   ],
   "source": [
    "from sklearn.feature_extraction.text import TfidfVectorizer\n",
    "\n",
    "vectorizer = TfidfVectorizer(\n",
    "    stop_words='english',\n",
    "    ngram_range=(1, 2),\n",
    "    max_features=100,  # Limit number of features\n",
    "    max_df=0.8,        # Ignore terms that appear in more than 80% of documents\n",
    "    min_df=1           # Ignore terms that appear in less than 1 document\n",
    ")\n",
    "\n",
    "tfidf_matrix = vectorizer.fit_transform([i['title'] for i in json_meta_data]).toarray()\n",
    "feature_names = vectorizer.get_feature_names_out()\n",
    "print(tfidf_matrix.shape)"
   ]
  },
  {
   "cell_type": "code",
   "execution_count": 12,
   "id": "4388b319-e8ee-4f83-8e85-dbd48233ea7b",
   "metadata": {
    "colab": {
     "base_uri": "https://localhost:8080/"
    },
    "id": "4388b319-e8ee-4f83-8e85-dbd48233ea7b",
    "outputId": "991f2b5a-7ada-467a-c242-3a473a1db296"
   },
   "outputs": [
    {
     "name": "stdout",
     "output_type": "stream",
     "text": [
      "851\n"
     ]
    }
   ],
   "source": [
    "feature_store = {j['parent_asin']: tfidf_matrix[i,:] for i, j in enumerate(json_meta_data)}\n",
    "print(len(feature_store))"
   ]
  },
  {
   "cell_type": "code",
   "execution_count": 14,
   "id": "Ek7gTKTpaNM3",
   "metadata": {
    "id": "Ek7gTKTpaNM3"
   },
   "outputs": [
    {
     "name": "stdout",
     "output_type": "stream",
     "text": [
      "Catboost was installed\n"
     ]
    }
   ],
   "source": [
    "try:\n",
    "  import catboost\n",
    "except:\n",
    "  !pip install catboost\n",
    "  clear_output()\n",
    "print('Catboost was installed')"
   ]
  },
  {
   "cell_type": "code",
   "execution_count": 16,
   "id": "5dec0b78-29b0-48c4-9578-11317de45fa6",
   "metadata": {
    "colab": {
     "base_uri": "https://localhost:8080/"
    },
    "id": "5dec0b78-29b0-48c4-9578-11317de45fa6",
    "outputId": "ecc2bacf-df28-4d87-aebc-df6dbc36f9b8"
   },
   "outputs": [
    {
     "name": "stdout",
     "output_type": "stream",
     "text": [
      "model training finished\n",
      "<catboost.core.CatBoostClassifier object at 0x13f22c740>\n"
     ]
    }
   ],
   "source": [
    "from recsys.model import get_model, get_data\n",
    "from IPython.display import clear_output\n",
    "\n",
    "model = get_model()\n",
    "data_pool, target = get_data(evaluation_df, feature_store)\n",
    "model.fit(data_pool)\n",
    "clear_output()\n",
    "print('model training finished')\n",
    "print(model)"
   ]
  },
  {
   "cell_type": "code",
   "execution_count": 17,
   "id": "9a7926dc-e6bd-4981-aa08-03f7e8dae2c4",
   "metadata": {
    "colab": {
     "base_uri": "https://localhost:8080/"
    },
    "id": "9a7926dc-e6bd-4981-aa08-03f7e8dae2c4",
    "outputId": "e4591e8c-0613-4147-c916-d734fc9e7aa2"
   },
   "outputs": [
    {
     "name": "stdout",
     "output_type": "stream",
     "text": [
      "roc_auc: 0.6205\n"
     ]
    }
   ],
   "source": [
    "from sklearn.metrics import f1_score, accuracy_score, recall_score, roc_auc_score\n",
    "\n",
    "proba = model.predict_proba(data_pool)\n",
    "print('roc_auc: %.4f' % roc_auc_score(target, proba[:,1]))"
   ]
  },
  {
   "cell_type": "code",
   "execution_count": 27,
   "id": "bba43fe8-7d8f-44bb-bf63-c16c930c1b55",
   "metadata": {},
   "outputs": [
    {
     "data": {
      "text/plain": [
       "<Axes: >"
      ]
     },
     "execution_count": 27,
     "metadata": {},
     "output_type": "execute_result"
    },
    {
     "data": {
      "image/png": "[encoded data removed]",
      "text/plain": [
       "<Figure size 640x480 with 1 Axes>"
      ]
     },
     "metadata": {},
     "output_type": "display_data"
    }
   ],
   "source": [
    "pd.DataFrame({'rank': proba[:,1]})['rank'].hist()"
   ]
  },
  {
   "cell_type": "markdown",
   "id": "6e9fff84-f182-4e39-99d1-2d62bfe3a179",
   "metadata": {
    "id": "6e9fff84-f182-4e39-99d1-2d62bfe3a179"
   },
   "source": [
    "# Search\n",
    "\n",
    "works only in local mode\n",
    "\n",
    "for running search engine\n",
    "\n",
    "```shell\n",
    "make run-search\n",
    "```"
   ]
  },
  {
   "cell_type": "code",
   "execution_count": 19,
   "id": "428c334b-0f37-4326-b640-cbffa195a29f",
   "metadata": {},
   "outputs": [
    {
     "name": "stdout",
     "output_type": "stream",
     "text": [
      "ENV loaded from /Users/adzhumurat/PycharmProjects/ai_product_engineer/.env: True\n",
      "Num candidates: 30\n",
      "{'content': \"As a child, Smith Bros. Black Cough Drops were a real treat for me. These have been very hard to find in stores. Recently, the brand was purchased be a new company and maybe they are making a comeback. I've noticed Smith Bros. Cough Drops in bags recently, but alas, not the black licorice ones. I believe that was the original flavor way back when. Since I'm a life-time licorice lover these are just what I want! Will they cure a cough? I really don't know. Will they relieve a cough? Possibly, same as any hard candy will. The vitamin C might help you if you have a cold. To be honest, I buy these and treat them like candy. A nice licorice flavor! I can carry a box in my pocket and enjoy the taste and help relieve a dry mouth and throat. I'm really pleased to see Smith Bros. make a come back. You might want to try the wild cherry flavor also. If you like licorice, buy these. If you don't like licorice, you probably won't like the black cough drops. There are several flavors available.\", 'asin': 'B003UWD92Q'}\n"
     ]
    }
   ],
   "source": [
    "from utils import search, get_auth, load_config\n",
    "\n",
    "def get_search_results(query, num=30):\n",
    "    index_config = load_config()\n",
    "    index_name = index_config['name']\n",
    "    \n",
    "    auth_config = get_auth(env_path=os.environ['ENV_PATH'])\n",
    "    res = search(index_name, query, conf=auth_config, limit=num)\n",
    "    candidates = [i['_source'] for i in res['hits']['hits']][:num]\n",
    "    candidates = [{'content': i['content'], 'asin': i['asin']} for i in candidates]\n",
    "    print(f'Num candidates: {len(candidates)}')\n",
    "    return candidates\n",
    "\n",
    "res = get_search_results('cough')\n",
    "print(res[0])"
   ]
  },
  {
   "cell_type": "markdown",
   "id": "9fac595d-1910-42fb-8dd0-f917d36fbfe8",
   "metadata": {
    "id": "9fac595d-1910-42fb-8dd0-f917d36fbfe8"
   },
   "source": [
    "# RAG pipeline"
   ]
  },
  {
   "cell_type": "code",
   "execution_count": 20,
   "id": "07d699d9-a160-44e1-b58b-9377eedecbac",
   "metadata": {
    "id": "07d699d9-a160-44e1-b58b-9377eedecbac"
   },
   "outputs": [
    {
     "name": "stdout",
     "output_type": "stream",
     "text": [
      "ENV loaded from /Users/adzhumurat/PycharmProjects/ai_product_engineer/.env: True\n",
      "<google.genai.client.Client object at 0x1480ab410>\n"
     ]
    }
   ],
   "source": [
    "from llm import recs_generation, get_gemini_client, generate_gemini\n",
    "\n",
    "gemini_client = get_gemini_client(env_path=os.environ['ENV_PATH'])\n",
    "print(gemini_client)"
   ]
  },
  {
   "cell_type": "code",
   "execution_count": 21,
   "id": "569c623d-457c-40d7-bde8-b25be50e033b",
   "metadata": {
    "id": "569c623d-457c-40d7-bde8-b25be50e033b",
    "outputId": "a096d80e-c3b4-45b1-d6df-adb4216d2fce"
   },
   "outputs": [
    {
     "name": "stdout",
     "output_type": "stream",
     "text": [
      "ENV loaded from /Users/adzhumurat/PycharmProjects/ai_product_engineer/.env: True\n",
      "Num candidates: 30\n",
      "For mood support and a natural approach, B0044KICZM is highly recommended. Users report significant improvement during difficult times with minimal side effects. Other items are noted for causing headaches or not meeting expectations.\n"
     ]
    }
   ],
   "source": [
    "from llm import recs_generation, get_gemini_client, generate_gemini\n",
    "\n",
    "candidates = get_search_results('headache tablets', num=30)\n",
    "candidates = '\\n'.join([\"item_id: %s; review: %s\" % (i['asin'], i['content']) for i in candidates])\n",
    "system_prompt = f\"\"\"\n",
    "  Next rows below is an item_id reviews.\n",
    "  {candidates}\n",
    "  Utilize reviews to determine the best item_id.\n",
    "  Avoid including actual reviews; rephrase them succinctly.\n",
    "  Take in account number of reviews for same item_id and sentiment of review.\n",
    "  Keep the recommendation under 50 words. Avoid starting with \"Based on reviews\"; opt for a more creative approach!\n",
    "\"\"\"\n",
    "\n",
    "generated_result = generate_gemini(api_client=gemini_client, user_prompt=candidates, system_prompt=system_prompt, model='gemini-2.5-flash-lite')\n",
    "\n",
    "print(generated_result.text)"
   ]
  },
  {
   "cell_type": "code",
   "execution_count": null,
   "id": "87dd56c3-5fe3-416b-9659-f5434c5e5242",
   "metadata": {},
   "outputs": [],
   "source": []
  }
 ],
 "metadata": {
  "colab": {
   "provenance": []
  },
  "kernelspec": {
   "display_name": "Python 3 (ipykernel)",
   "language": "python",
   "name": "python3"
  },
  "language_info": {
   "codemirror_mode": {
    "name": "ipython",
    "version": 3
   },
   "file_extension": ".py",
   "mimetype": "text/x-python",
   "name": "python",
   "nbconvert_exporter": "python",
   "pygments_lexer": "ipython3",
   "version": "3.12.11"
  }
 },
 "nbformat": 4,
 "nbformat_minor": 5
}
