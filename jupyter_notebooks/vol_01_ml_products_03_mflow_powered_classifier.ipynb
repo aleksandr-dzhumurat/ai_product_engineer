{
 "cells": [
  {
   "cell_type": "code",
   "execution_count": 1,
   "id": "17f22bfc-53d4-4254-a319-5791228c406b",
   "metadata": {
    "colab": {
     "base_uri": "https://localhost:8080/"
    },
    "id": "17f22bfc-53d4-4254-a319-5791228c406b",
    "outputId": "e9b9ed82-c435-4aba-e01e-a9ab61b7712f"
   },
   "outputs": [
    {
     "name": "stdout",
     "output_type": "stream",
     "text": [
      "Содержимое директории /Users/adzhumurat/PycharmProjects/ai_product_engineer/data: ['client_segmentation.csv', 'messages.db', 'labeled_data_corpus.csv', 'content_description.csv', 'nltk_data', 'content_catalog.zip', 'user_item_views.zip', 'pipelines-data', 'zinc_data', 'content_views.csv.gz', 'nltk-data', 'Health_and_Personal_Care.jsonl.gz', 'geo_points.csv.gzip', 'clustering.pkl', 'eigen.pkl', 'boosting_toy_dataset.csv', 'mlflow', 'test_dataset.pkl', 'models', 'ground_truth_dataset.pkl', 'minio', 'final_dataset.zip', 'content_views.csv', 'logs', 'ocr_dataset.zip', 'content_description.csv.gz', 'task.csv', 'scored_corpus.csv', 'meta_Health_and_Personal_Care.jsonl.gz', 'brand_tweets.csv', 'brand_tweets_valid.csv']\n"
     ]
    }
   ],
   "source": [
    "import os\n",
    "import shutil\n",
    "\n",
    "import numpy as np\n",
    "\n",
    "from IPython.display import clear_output\n",
    "\n",
    "\n",
    "run_env = os.getenv('RUN_ENV', 'COLLAB')\n",
    "if run_env == 'COLLAB':\n",
    "  from google.colab import drive\n",
    "  ROOT_DIR = '/content/drive'\n",
    "  drive.mount(ROOT_DIR)\n",
    "  print('Google drive connected')\n",
    "  DRIVE_DATA_DIR = 'ml_course_data'\n",
    "  root_data_dir = os.path.join(ROOT_DIR, 'MyDrive', DRIVE_DATA_DIR)\n",
    "else:\n",
    "  root_data_dir = os.getenv('DATA_DIR', '/srv/data')\n",
    "\n",
    "if not os.path.exists(root_data_dir):\n",
    "  raise RuntimeError('Отсутствует директория с данными')\n",
    "else:\n",
    "  print('Содержимое директории %s: %s' % (root_data_dir, os.listdir(root_data_dir)))"
   ]
  },
  {
   "cell_type": "code",
   "execution_count": 2,
   "id": "6d91717a-c722-40ad-a61f-ef7b50d74721",
   "metadata": {
    "colab": {
     "base_uri": "https://localhost:8080/"
    },
    "id": "6d91717a-c722-40ad-a61f-ef7b50d74721",
    "outputId": "62f621af-69b2-4c66-97a0-b8995d6651a7"
   },
   "outputs": [
    {
     "name": "stdout",
     "output_type": "stream",
     "text": [
      "Catboost was installed\n"
     ]
    }
   ],
   "source": [
    "!pip install catboost\n",
    "clear_output()\n",
    "print('Catboost was installed')\n",
    "\n",
    "train_data_dir = root_data_dir"
   ]
  },
  {
   "cell_type": "markdown",
   "id": "527dCk9D_rqu",
   "metadata": {
    "id": "527dCk9D_rqu"
   },
   "source": [
    "Загрузим датасет для задачи классификации"
   ]
  },
  {
   "cell_type": "code",
   "execution_count": 4,
   "id": "3478ac98-438f-409e-97db-913322a68566",
   "metadata": {
    "colab": {
     "base_uri": "https://localhost:8080/",
     "height": 243
    },
    "id": "3478ac98-438f-409e-97db-913322a68566",
    "outputId": "1f269daa-ca41-4aa9-a4f2-5276efe3a1d5"
   },
   "outputs": [
    {
     "name": "stdout",
     "output_type": "stream",
     "text": [
      "Num rows 1500000, columns ['target', 'sellerClearPrice', 'hour', 'dsp', 'auctionBidFloorSource', 'os', 'lang', 'country', 'region', 'request_context_device_w', 'request_context_device_h', 'adt', 'contype', 'request_context_device_type', 'price']\n"
     ]
    },
    {
     "data": {
      "text/html": [
       "<div>\n",
       "<style scoped>\n",
       "    .dataframe tbody tr th:only-of-type {\n",
       "        vertical-align: middle;\n",
       "    }\n",
       "\n",
       "    .dataframe tbody tr th {\n",
       "        vertical-align: top;\n",
       "    }\n",
       "\n",
       "    .dataframe thead th {\n",
       "        text-align: right;\n",
       "    }\n",
       "</style>\n",
       "<table border=\"1\" class=\"dataframe\">\n",
       "  <thead>\n",
       "    <tr style=\"text-align: right;\">\n",
       "      <th></th>\n",
       "      <th>target</th>\n",
       "      <th>sellerClearPrice</th>\n",
       "      <th>hour</th>\n",
       "      <th>dsp</th>\n",
       "      <th>auctionBidFloorSource</th>\n",
       "      <th>os</th>\n",
       "      <th>lang</th>\n",
       "      <th>country</th>\n",
       "      <th>region</th>\n",
       "      <th>request_context_device_w</th>\n",
       "      <th>request_context_device_h</th>\n",
       "      <th>adt</th>\n",
       "      <th>contype</th>\n",
       "      <th>request_context_device_type</th>\n",
       "      <th>price</th>\n",
       "    </tr>\n",
       "  </thead>\n",
       "  <tbody>\n",
       "    <tr>\n",
       "      <th>0</th>\n",
       "      <td>0</td>\n",
       "      <td>14.010879</td>\n",
       "      <td>0</td>\n",
       "      <td>76</td>\n",
       "      <td>ml</td>\n",
       "      <td>android</td>\n",
       "      <td>en</td>\n",
       "      <td>US</td>\n",
       "      <td>ct</td>\n",
       "      <td>1200</td>\n",
       "      <td>2000</td>\n",
       "      <td>interstitial</td>\n",
       "      <td>2</td>\n",
       "      <td>5</td>\n",
       "      <td>18.859710</td>\n",
       "    </tr>\n",
       "    <tr>\n",
       "      <th>1</th>\n",
       "      <td>0</td>\n",
       "      <td>6.810017</td>\n",
       "      <td>0</td>\n",
       "      <td>80</td>\n",
       "      <td>ml</td>\n",
       "      <td>ios</td>\n",
       "      <td>en</td>\n",
       "      <td>US</td>\n",
       "      <td>mi</td>\n",
       "      <td>393</td>\n",
       "      <td>852</td>\n",
       "      <td>interstitial</td>\n",
       "      <td>2</td>\n",
       "      <td>4</td>\n",
       "      <td>9.166801</td>\n",
       "    </tr>\n",
       "    <tr>\n",
       "      <th>2</th>\n",
       "      <td>0</td>\n",
       "      <td>2.499842</td>\n",
       "      <td>8</td>\n",
       "      <td>76</td>\n",
       "      <td>rollouts</td>\n",
       "      <td>android</td>\n",
       "      <td>en</td>\n",
       "      <td>NZ</td>\n",
       "      <td>bop</td>\n",
       "      <td>1080</td>\n",
       "      <td>2400</td>\n",
       "      <td>interstitial</td>\n",
       "      <td>2</td>\n",
       "      <td>4</td>\n",
       "      <td>3.453299</td>\n",
       "    </tr>\n",
       "    <tr>\n",
       "      <th>3</th>\n",
       "      <td>0</td>\n",
       "      <td>3.356943</td>\n",
       "      <td>15</td>\n",
       "      <td>80</td>\n",
       "      <td>rollouts</td>\n",
       "      <td>ios</td>\n",
       "      <td>es_US</td>\n",
       "      <td>US</td>\n",
       "      <td>ks</td>\n",
       "      <td>810</td>\n",
       "      <td>1080</td>\n",
       "      <td>interstitial</td>\n",
       "      <td>2</td>\n",
       "      <td>5</td>\n",
       "      <td>4.518700</td>\n",
       "    </tr>\n",
       "    <tr>\n",
       "      <th>4</th>\n",
       "      <td>0</td>\n",
       "      <td>1.487904</td>\n",
       "      <td>9</td>\n",
       "      <td>122</td>\n",
       "      <td>ml</td>\n",
       "      <td>android</td>\n",
       "      <td>en</td>\n",
       "      <td>AU</td>\n",
       "      <td>nsw</td>\n",
       "      <td>900</td>\n",
       "      <td>1440</td>\n",
       "      <td>interstitial</td>\n",
       "      <td>2</td>\n",
       "      <td>5</td>\n",
       "      <td>2.055399</td>\n",
       "    </tr>\n",
       "  </tbody>\n",
       "</table>\n",
       "</div>"
      ],
      "text/plain": [
       "   target  sellerClearPrice  hour  dsp auctionBidFloorSource       os   lang  \\\n",
       "0       0         14.010879     0   76                    ml  android     en   \n",
       "1       0          6.810017     0   80                    ml      ios     en   \n",
       "2       0          2.499842     8   76              rollouts  android     en   \n",
       "3       0          3.356943    15   80              rollouts      ios  es_US   \n",
       "4       0          1.487904     9  122                    ml  android     en   \n",
       "\n",
       "  country region  request_context_device_w  request_context_device_h  \\\n",
       "0      US     ct                      1200                      2000   \n",
       "1      US     mi                       393                       852   \n",
       "2      NZ    bop                      1080                      2400   \n",
       "3      US     ks                       810                      1080   \n",
       "4      AU    nsw                       900                      1440   \n",
       "\n",
       "            adt  contype  request_context_device_type      price  \n",
       "0  interstitial        2                            5  18.859710  \n",
       "1  interstitial        2                            4   9.166801  \n",
       "2  interstitial        2                            4   3.453299  \n",
       "3  interstitial        2                            5   4.518700  \n",
       "4  interstitial        2                            5   2.055399  "
      ]
     },
     "execution_count": 4,
     "metadata": {},
     "output_type": "execute_result"
    }
   ],
   "source": [
    "import pandas as pd\n",
    "\n",
    "train_df = pd.read_csv(os.path.join(train_data_dir, 'rtb_classification_data.csv.gz'), compression=\"gzip\")\n",
    "print(f'Num rows {train_df.shape[0]}, columns {train_df.columns.tolist()}')\n",
    "train_df.head()"
   ]
  },
  {
   "cell_type": "code",
   "execution_count": 5,
   "id": "7e01e7fd-81b6-419d-b2de-22a46823039b",
   "metadata": {
    "colab": {
     "base_uri": "https://localhost:8080/",
     "height": 178
    },
    "id": "7e01e7fd-81b6-419d-b2de-22a46823039b",
    "outputId": "bf9aaa58-ef43-406f-9a29-1b1a77cc637c"
   },
   "outputs": [
    {
     "data": {
      "text/plain": [
       "target\n",
       "0    0.886179\n",
       "1    0.113821\n",
       "Name: proportion, dtype: float64"
      ]
     },
     "execution_count": 5,
     "metadata": {},
     "output_type": "execute_result"
    }
   ],
   "source": [
    "train_df['target'].value_counts(normalize=True)"
   ]
  },
  {
   "cell_type": "code",
   "execution_count": 6,
   "id": "67fd4393-23c4-45ec-8677-1442f8002bf3",
   "metadata": {
    "colab": {
     "base_uri": "https://localhost:8080/",
     "height": 300
    },
    "id": "67fd4393-23c4-45ec-8677-1442f8002bf3",
    "outputId": "74717431-431c-407d-b2f6-3474198284bf"
   },
   "outputs": [
    {
     "data": {
      "text/html": [
       "<div>\n",
       "<style scoped>\n",
       "    .dataframe tbody tr th:only-of-type {\n",
       "        vertical-align: middle;\n",
       "    }\n",
       "\n",
       "    .dataframe tbody tr th {\n",
       "        vertical-align: top;\n",
       "    }\n",
       "\n",
       "    .dataframe thead th {\n",
       "        text-align: right;\n",
       "    }\n",
       "</style>\n",
       "<table border=\"1\" class=\"dataframe\">\n",
       "  <thead>\n",
       "    <tr style=\"text-align: right;\">\n",
       "      <th></th>\n",
       "      <th>target</th>\n",
       "      <th>sellerClearPrice</th>\n",
       "      <th>hour</th>\n",
       "      <th>dsp</th>\n",
       "      <th>request_context_device_w</th>\n",
       "      <th>request_context_device_h</th>\n",
       "      <th>contype</th>\n",
       "      <th>request_context_device_type</th>\n",
       "      <th>price</th>\n",
       "    </tr>\n",
       "  </thead>\n",
       "  <tbody>\n",
       "    <tr>\n",
       "      <th>count</th>\n",
       "      <td>1.500000e+06</td>\n",
       "      <td>1.500000e+06</td>\n",
       "      <td>1.500000e+06</td>\n",
       "      <td>1.500000e+06</td>\n",
       "      <td>1.500000e+06</td>\n",
       "      <td>1.500000e+06</td>\n",
       "      <td>1.500000e+06</td>\n",
       "      <td>1.500000e+06</td>\n",
       "      <td>1.500000e+06</td>\n",
       "    </tr>\n",
       "    <tr>\n",
       "      <th>mean</th>\n",
       "      <td>1.138213e-01</td>\n",
       "      <td>4.066046e+00</td>\n",
       "      <td>1.040133e+01</td>\n",
       "      <td>8.127320e+01</td>\n",
       "      <td>7.185589e+02</td>\n",
       "      <td>1.408871e+03</td>\n",
       "      <td>2.504775e+00</td>\n",
       "      <td>4.228322e+00</td>\n",
       "      <td>5.489304e+00</td>\n",
       "    </tr>\n",
       "    <tr>\n",
       "      <th>std</th>\n",
       "      <td>3.175942e-01</td>\n",
       "      <td>5.179376e+00</td>\n",
       "      <td>7.699387e+00</td>\n",
       "      <td>1.789620e+01</td>\n",
       "      <td>2.915723e+02</td>\n",
       "      <td>6.022618e+02</td>\n",
       "      <td>1.219399e+00</td>\n",
       "      <td>4.205130e-01</td>\n",
       "      <td>6.974146e+00</td>\n",
       "    </tr>\n",
       "    <tr>\n",
       "      <th>min</th>\n",
       "      <td>0.000000e+00</td>\n",
       "      <td>1.010900e-02</td>\n",
       "      <td>0.000000e+00</td>\n",
       "      <td>2.300000e+01</td>\n",
       "      <td>3.200000e+02</td>\n",
       "      <td>2.000000e+00</td>\n",
       "      <td>0.000000e+00</td>\n",
       "      <td>1.000000e+00</td>\n",
       "      <td>1.064075e-02</td>\n",
       "    </tr>\n",
       "    <tr>\n",
       "      <th>25%</th>\n",
       "      <td>0.000000e+00</td>\n",
       "      <td>1.030700e+00</td>\n",
       "      <td>2.000000e+00</td>\n",
       "      <td>7.600000e+01</td>\n",
       "      <td>4.140000e+02</td>\n",
       "      <td>8.960000e+02</td>\n",
       "      <td>2.000000e+00</td>\n",
       "      <td>4.000000e+00</td>\n",
       "      <td>1.415232e+00</td>\n",
       "    </tr>\n",
       "    <tr>\n",
       "      <th>50%</th>\n",
       "      <td>0.000000e+00</td>\n",
       "      <td>2.254010e+00</td>\n",
       "      <td>1.100000e+01</td>\n",
       "      <td>8.000000e+01</td>\n",
       "      <td>7.440000e+02</td>\n",
       "      <td>1.180000e+03</td>\n",
       "      <td>2.000000e+00</td>\n",
       "      <td>4.000000e+00</td>\n",
       "      <td>3.069359e+00</td>\n",
       "    </tr>\n",
       "    <tr>\n",
       "      <th>75%</th>\n",
       "      <td>0.000000e+00</td>\n",
       "      <td>5.244070e+00</td>\n",
       "      <td>1.700000e+01</td>\n",
       "      <td>8.000000e+01</td>\n",
       "      <td>1.080000e+03</td>\n",
       "      <td>1.920000e+03</td>\n",
       "      <td>2.000000e+00</td>\n",
       "      <td>4.000000e+00</td>\n",
       "      <td>7.087814e+00</td>\n",
       "    </tr>\n",
       "    <tr>\n",
       "      <th>max</th>\n",
       "      <td>1.000000e+00</td>\n",
       "      <td>3.714500e+02</td>\n",
       "      <td>2.300000e+01</td>\n",
       "      <td>2.360000e+02</td>\n",
       "      <td>2.960000e+03</td>\n",
       "      <td>3.840000e+03</td>\n",
       "      <td>7.000000e+00</td>\n",
       "      <td>5.000000e+00</td>\n",
       "      <td>5.000000e+02</td>\n",
       "    </tr>\n",
       "  </tbody>\n",
       "</table>\n",
       "</div>"
      ],
      "text/plain": [
       "             target  sellerClearPrice          hour           dsp  \\\n",
       "count  1.500000e+06      1.500000e+06  1.500000e+06  1.500000e+06   \n",
       "mean   1.138213e-01      4.066046e+00  1.040133e+01  8.127320e+01   \n",
       "std    3.175942e-01      5.179376e+00  7.699387e+00  1.789620e+01   \n",
       "min    0.000000e+00      1.010900e-02  0.000000e+00  2.300000e+01   \n",
       "25%    0.000000e+00      1.030700e+00  2.000000e+00  7.600000e+01   \n",
       "50%    0.000000e+00      2.254010e+00  1.100000e+01  8.000000e+01   \n",
       "75%    0.000000e+00      5.244070e+00  1.700000e+01  8.000000e+01   \n",
       "max    1.000000e+00      3.714500e+02  2.300000e+01  2.360000e+02   \n",
       "\n",
       "       request_context_device_w  request_context_device_h       contype  \\\n",
       "count              1.500000e+06              1.500000e+06  1.500000e+06   \n",
       "mean               7.185589e+02              1.408871e+03  2.504775e+00   \n",
       "std                2.915723e+02              6.022618e+02  1.219399e+00   \n",
       "min                3.200000e+02              2.000000e+00  0.000000e+00   \n",
       "25%                4.140000e+02              8.960000e+02  2.000000e+00   \n",
       "50%                7.440000e+02              1.180000e+03  2.000000e+00   \n",
       "75%                1.080000e+03              1.920000e+03  2.000000e+00   \n",
       "max                2.960000e+03              3.840000e+03  7.000000e+00   \n",
       "\n",
       "       request_context_device_type         price  \n",
       "count                 1.500000e+06  1.500000e+06  \n",
       "mean                  4.228322e+00  5.489304e+00  \n",
       "std                   4.205130e-01  6.974146e+00  \n",
       "min                   1.000000e+00  1.064075e-02  \n",
       "25%                   4.000000e+00  1.415232e+00  \n",
       "50%                   4.000000e+00  3.069359e+00  \n",
       "75%                   4.000000e+00  7.087814e+00  \n",
       "max                   5.000000e+00  5.000000e+02  "
      ]
     },
     "execution_count": 6,
     "metadata": {},
     "output_type": "execute_result"
    }
   ],
   "source": [
    "train_df.describe()"
   ]
  },
  {
   "cell_type": "code",
   "execution_count": 7,
   "id": "082684cb-234d-4b01-97f7-250f49f104d3",
   "metadata": {
    "colab": {
     "base_uri": "https://localhost:8080/"
    },
    "id": "082684cb-234d-4b01-97f7-250f49f104d3",
    "outputId": "5425b666-a8d1-4687-f8be-459304e31b09"
   },
   "outputs": [
    {
     "name": "stdout",
     "output_type": "stream",
     "text": [
      "Valuable columns subset: ['target', 'sellerClearPrice', 'hour', 'dsp', 'auctionBidFloorSource', 'os', 'lang', 'country', 'region', 'request_context_device_w', 'request_context_device_h', 'contype', 'request_context_device_type', 'price']\n"
     ]
    }
   ],
   "source": [
    "def get_valuable_columns(input_df):\n",
    "    col_subset = []\n",
    "    for col in input_df.columns:\n",
    "        try:\n",
    "            most_frequent_value_count = input_df[col].value_counts().iloc[0]\n",
    "            total_rows = len(input_df)\n",
    "            if most_frequent_value_count / total_rows <= 0.95:\n",
    "                col_subset.append(col)\n",
    "        except (TypeError, IndexError):\n",
    "            # Ignore columns that can't be analyzed (e.g. mixed data types)\n",
    "            pass\n",
    "    return col_subset\n",
    "\n",
    "columns_subset = get_valuable_columns(train_df)\n",
    "\n",
    "print(f'Valuable columns subset: {columns_subset}')"
   ]
  },
  {
   "cell_type": "code",
   "execution_count": 8,
   "id": "00c78197-2cf4-4aba-b9b1-35eea59f64dc",
   "metadata": {
    "colab": {
     "base_uri": "https://localhost:8080/"
    },
    "id": "00c78197-2cf4-4aba-b9b1-35eea59f64dc",
    "outputId": "e735e6ae-bb49-441e-c221-bec07499d6f9"
   },
   "outputs": [
    {
     "data": {
      "text/plain": [
       "{'cat': ['request_context_device_type', 'dsp', 'hour'], 'num': ['price']}"
      ]
     },
     "execution_count": 8,
     "metadata": {},
     "output_type": "execute_result"
    }
   ],
   "source": [
    "cat_candidates = ['request_context_device_type', 'dsp', 'ssp', 'hour']\n",
    "\n",
    "features = {\n",
    "    'cat': [col for col in cat_candidates if col in columns_subset],\n",
    "    'num': ['price', ]\n",
    "}\n",
    "\n",
    "features"
   ]
  },
  {
   "cell_type": "code",
   "execution_count": 9,
   "id": "54b012c2-dfb6-4251-bb10-2fef46714e4f",
   "metadata": {
    "id": "54b012c2-dfb6-4251-bb10-2fef46714e4f"
   },
   "outputs": [],
   "source": [
    "# TODO: add train-test split\n",
    "\n",
    "features_set = features['cat'] + features['num']\n",
    "X = train_df[features_set]\n",
    "y = train_df['target']"
   ]
  },
  {
   "cell_type": "code",
   "execution_count": 10,
   "id": "e329356c-6a5e-4f8c-9efe-668f501a031c",
   "metadata": {
    "colab": {
     "base_uri": "https://localhost:8080/"
    },
    "id": "e329356c-6a5e-4f8c-9efe-668f501a031c",
    "outputId": "0e69056e-1ff2-48f3-a91c-53eb607eaa5f"
   },
   "outputs": [
    {
     "name": "stdout",
     "output_type": "stream",
     "text": [
      "Model trained: <catboost.core.CatBoostClassifier object at 0x10b99acc0>\n"
     ]
    }
   ],
   "source": [
    "from catboost import Pool, CatBoostClassifier\n",
    "\n",
    "from IPython.display import clear_output\n",
    "\n",
    "model = CatBoostClassifier(**{\n",
    "    'loss_function': 'CrossEntropy', 'boosting_type': 'Plain',\n",
    "    'bootstrap_type': 'Bernoulli', 'n_estimators': 150\n",
    "})\n",
    "\n",
    "train_pool = Pool(data=X, label=y, cat_features=features['cat'])\n",
    "model.fit(train_pool)\n",
    "clear_output()\n",
    "print(f'Model trained: {model}')"
   ]
  },
  {
   "cell_type": "code",
   "execution_count": 12,
   "id": "95de3cbc-9eec-4354-b635-66fa10bce36b",
   "metadata": {
    "colab": {
     "base_uri": "https://localhost:8080/"
    },
    "id": "95de3cbc-9eec-4354-b635-66fa10bce36b",
    "outputId": "7e5ac492-7330-46ff-a7e3-34b96c6e6863"
   },
   "outputs": [
    {
     "name": "stdout",
     "output_type": "stream",
     "text": [
      "model saved to /Users/adzhumurat/PycharmProjects/ai_product_engineer/data/model.cb\n"
     ]
    }
   ],
   "source": [
    "model_path = os.path.join(root_data_dir, 'model.cb')\n",
    "\n",
    "model.save_model(model_path)\n",
    "print(f'model saved to {model_path}')"
   ]
  },
  {
   "cell_type": "markdown",
   "id": "a52f0b31-ae41-47c9-9018-99dc8129bdb5",
   "metadata": {
    "id": "a52f0b31-ae41-47c9-9018-99dc8129bdb5"
   },
   "source": [
    "Home work: revie `src/train.py`\n"
   ]
  },
  {
   "cell_type": "code",
   "execution_count": 13,
   "id": "2500575f-4105-4433-b285-634ee61e8d2e",
   "metadata": {
    "colab": {
     "base_uri": "https://localhost:8080/",
     "height": 174
    },
    "id": "2500575f-4105-4433-b285-634ee61e8d2e",
    "outputId": "d334f95c-b795-406c-cbc3-7140d3f8114f"
   },
   "outputs": [
    {
     "data": {
      "text/html": [
       "<div>\n",
       "<style scoped>\n",
       "    .dataframe tbody tr th:only-of-type {\n",
       "        vertical-align: middle;\n",
       "    }\n",
       "\n",
       "    .dataframe tbody tr th {\n",
       "        vertical-align: top;\n",
       "    }\n",
       "\n",
       "    .dataframe thead th {\n",
       "        text-align: right;\n",
       "    }\n",
       "</style>\n",
       "<table border=\"1\" class=\"dataframe\">\n",
       "  <thead>\n",
       "    <tr style=\"text-align: right;\">\n",
       "      <th></th>\n",
       "      <th>Feature</th>\n",
       "      <th>Importance</th>\n",
       "    </tr>\n",
       "  </thead>\n",
       "  <tbody>\n",
       "    <tr>\n",
       "      <th>1</th>\n",
       "      <td>dsp</td>\n",
       "      <td>59.365523</td>\n",
       "    </tr>\n",
       "    <tr>\n",
       "      <th>3</th>\n",
       "      <td>price</td>\n",
       "      <td>27.511766</td>\n",
       "    </tr>\n",
       "    <tr>\n",
       "      <th>2</th>\n",
       "      <td>hour</td>\n",
       "      <td>7.122617</td>\n",
       "    </tr>\n",
       "    <tr>\n",
       "      <th>0</th>\n",
       "      <td>request_context_device_type</td>\n",
       "      <td>6.000094</td>\n",
       "    </tr>\n",
       "  </tbody>\n",
       "</table>\n",
       "</div>"
      ],
      "text/plain": [
       "                       Feature  Importance\n",
       "1                          dsp   59.365523\n",
       "3                        price   27.511766\n",
       "2                         hour    7.122617\n",
       "0  request_context_device_type    6.000094"
      ]
     },
     "execution_count": 13,
     "metadata": {},
     "output_type": "execute_result"
    }
   ],
   "source": [
    "f_imp_df = pd.DataFrame({\n",
    "    'Feature': features_set,\n",
    "    'Importance': model.get_feature_importance(train_pool)\n",
    "}).sort_values(by='Importance', ascending=False)\n",
    "\n",
    "f_imp_df.head()"
   ]
  },
  {
   "cell_type": "code",
   "execution_count": 14,
   "id": "f89a0c08-a38d-4eb8-ad6c-c902ea798997",
   "metadata": {
    "colab": {
     "base_uri": "https://localhost:8080/",
     "height": 607
    },
    "id": "f89a0c08-a38d-4eb8-ad6c-c902ea798997",
    "outputId": "a4c82d0d-d234-47ba-a1df-159c707b058b"
   },
   "outputs": [
    {
     "data": {
      "image/png": "[encoded data removed]",
      "text/plain": [
       "<Figure size 1000x600 with 1 Axes>"
      ]
     },
     "metadata": {},
     "output_type": "display_data"
    }
   ],
   "source": [
    "from matplotlib import pyplot as plt\n",
    "\n",
    "import seaborn as sns\n",
    "\n",
    "def plot_feature_importances(feature_importances, output_file=None):\n",
    "    plt.figure(figsize=(10, 6))\n",
    "    sns.barplot(x='Importance', y='Feature', hue='Feature', data=feature_importances, palette='viridis', dodge=False)\n",
    "    plt.title('Feature Importance')\n",
    "    plt.xlabel('Importance')\n",
    "    plt.ylabel('Feature')\n",
    "    plt.tight_layout()\n",
    "\n",
    "    if output_file:\n",
    "        plt.savefig(output_file)\n",
    "        print(f\"Plot saved to {output_file}\")\n",
    "    else:\n",
    "        plt.show()\n",
    "plot_feature_importances(f_imp_df)"
   ]
  },
  {
   "cell_type": "markdown",
   "id": "8e097eaa-55c8-4b58-b496-8456e6f709dc",
   "metadata": {
    "id": "8e097eaa-55c8-4b58-b496-8456e6f709dc"
   },
   "source": [
    "# Inference"
   ]
  },
  {
   "cell_type": "code",
   "execution_count": 16,
   "id": "72d6e40d-fb06-4264-945b-16d33b8e60fc",
   "metadata": {
    "colab": {
     "base_uri": "https://localhost:8080/"
    },
    "id": "72d6e40d-fb06-4264-945b-16d33b8e60fc",
    "outputId": "dc0150d8-2221-4ea3-f3ca-113994c4808b"
   },
   "outputs": [
    {
     "data": {
      "text/plain": [
       "<catboost.core.Pool at 0x1586bfc50>"
      ]
     },
     "execution_count": 16,
     "metadata": {},
     "output_type": "execute_result"
    }
   ],
   "source": [
    "X_inference = train_df[features_set]\n",
    "\n",
    "valid_pool = Pool(data=X_inference, cat_features=features['cat'])\n",
    "valid_pool"
   ]
  },
  {
   "cell_type": "code",
   "execution_count": 20,
   "id": "cdfcebc3-a2f3-4d3c-beb5-3c8e9092b4b5",
   "metadata": {},
   "outputs": [
    {
     "data": {
      "text/html": [
       "<div>\n",
       "<style scoped>\n",
       "    .dataframe tbody tr th:only-of-type {\n",
       "        vertical-align: middle;\n",
       "    }\n",
       "\n",
       "    .dataframe tbody tr th {\n",
       "        vertical-align: top;\n",
       "    }\n",
       "\n",
       "    .dataframe thead th {\n",
       "        text-align: right;\n",
       "    }\n",
       "</style>\n",
       "<table border=\"1\" class=\"dataframe\">\n",
       "  <thead>\n",
       "    <tr style=\"text-align: right;\">\n",
       "      <th></th>\n",
       "      <th>target</th>\n",
       "      <th>sellerClearPrice</th>\n",
       "      <th>hour</th>\n",
       "      <th>dsp</th>\n",
       "      <th>auctionBidFloorSource</th>\n",
       "      <th>os</th>\n",
       "      <th>lang</th>\n",
       "      <th>country</th>\n",
       "      <th>region</th>\n",
       "      <th>request_context_device_w</th>\n",
       "      <th>request_context_device_h</th>\n",
       "      <th>adt</th>\n",
       "      <th>contype</th>\n",
       "      <th>request_context_device_type</th>\n",
       "      <th>price</th>\n",
       "      <th>score</th>\n",
       "    </tr>\n",
       "  </thead>\n",
       "  <tbody>\n",
       "    <tr>\n",
       "      <th>0</th>\n",
       "      <td>0</td>\n",
       "      <td>14.010879</td>\n",
       "      <td>0</td>\n",
       "      <td>76</td>\n",
       "      <td>ml</td>\n",
       "      <td>android</td>\n",
       "      <td>en</td>\n",
       "      <td>US</td>\n",
       "      <td>ct</td>\n",
       "      <td>1200</td>\n",
       "      <td>2000</td>\n",
       "      <td>interstitial</td>\n",
       "      <td>2</td>\n",
       "      <td>5</td>\n",
       "      <td>18.859710</td>\n",
       "      <td>0.300302</td>\n",
       "    </tr>\n",
       "    <tr>\n",
       "      <th>1</th>\n",
       "      <td>0</td>\n",
       "      <td>6.810017</td>\n",
       "      <td>0</td>\n",
       "      <td>80</td>\n",
       "      <td>ml</td>\n",
       "      <td>ios</td>\n",
       "      <td>en</td>\n",
       "      <td>US</td>\n",
       "      <td>mi</td>\n",
       "      <td>393</td>\n",
       "      <td>852</td>\n",
       "      <td>interstitial</td>\n",
       "      <td>2</td>\n",
       "      <td>4</td>\n",
       "      <td>9.166801</td>\n",
       "      <td>0.035363</td>\n",
       "    </tr>\n",
       "    <tr>\n",
       "      <th>2</th>\n",
       "      <td>0</td>\n",
       "      <td>2.499842</td>\n",
       "      <td>8</td>\n",
       "      <td>76</td>\n",
       "      <td>rollouts</td>\n",
       "      <td>android</td>\n",
       "      <td>en</td>\n",
       "      <td>NZ</td>\n",
       "      <td>bop</td>\n",
       "      <td>1080</td>\n",
       "      <td>2400</td>\n",
       "      <td>interstitial</td>\n",
       "      <td>2</td>\n",
       "      <td>4</td>\n",
       "      <td>3.453299</td>\n",
       "      <td>0.343551</td>\n",
       "    </tr>\n",
       "    <tr>\n",
       "      <th>3</th>\n",
       "      <td>0</td>\n",
       "      <td>3.356943</td>\n",
       "      <td>15</td>\n",
       "      <td>80</td>\n",
       "      <td>rollouts</td>\n",
       "      <td>ios</td>\n",
       "      <td>es_US</td>\n",
       "      <td>US</td>\n",
       "      <td>ks</td>\n",
       "      <td>810</td>\n",
       "      <td>1080</td>\n",
       "      <td>interstitial</td>\n",
       "      <td>2</td>\n",
       "      <td>5</td>\n",
       "      <td>4.518700</td>\n",
       "      <td>0.039060</td>\n",
       "    </tr>\n",
       "    <tr>\n",
       "      <th>4</th>\n",
       "      <td>0</td>\n",
       "      <td>1.487904</td>\n",
       "      <td>9</td>\n",
       "      <td>122</td>\n",
       "      <td>ml</td>\n",
       "      <td>android</td>\n",
       "      <td>en</td>\n",
       "      <td>AU</td>\n",
       "      <td>nsw</td>\n",
       "      <td>900</td>\n",
       "      <td>1440</td>\n",
       "      <td>interstitial</td>\n",
       "      <td>2</td>\n",
       "      <td>5</td>\n",
       "      <td>2.055399</td>\n",
       "      <td>0.124672</td>\n",
       "    </tr>\n",
       "  </tbody>\n",
       "</table>\n",
       "</div>"
      ],
      "text/plain": [
       "   target  sellerClearPrice  hour  dsp auctionBidFloorSource       os   lang  \\\n",
       "0       0         14.010879     0   76                    ml  android     en   \n",
       "1       0          6.810017     0   80                    ml      ios     en   \n",
       "2       0          2.499842     8   76              rollouts  android     en   \n",
       "3       0          3.356943    15   80              rollouts      ios  es_US   \n",
       "4       0          1.487904     9  122                    ml  android     en   \n",
       "\n",
       "  country region  request_context_device_w  request_context_device_h  \\\n",
       "0      US     ct                      1200                      2000   \n",
       "1      US     mi                       393                       852   \n",
       "2      NZ    bop                      1080                      2400   \n",
       "3      US     ks                       810                      1080   \n",
       "4      AU    nsw                       900                      1440   \n",
       "\n",
       "            adt  contype  request_context_device_type      price     score  \n",
       "0  interstitial        2                            5  18.859710  0.300302  \n",
       "1  interstitial        2                            4   9.166801  0.035363  \n",
       "2  interstitial        2                            4   3.453299  0.343551  \n",
       "3  interstitial        2                            5   4.518700  0.039060  \n",
       "4  interstitial        2                            5   2.055399  0.124672  "
      ]
     },
     "execution_count": 20,
     "metadata": {},
     "output_type": "execute_result"
    }
   ],
   "source": [
    "train_df.head()"
   ]
  },
  {
   "cell_type": "code",
   "execution_count": 21,
   "id": "cae202a5-d685-4f85-99ad-f6cc22af085a",
   "metadata": {
    "colab": {
     "base_uri": "https://localhost:8080/",
     "height": 112
    },
    "id": "cae202a5-d685-4f85-99ad-f6cc22af085a",
    "outputId": "4b43cc7e-f798-4291-a175-935e06c34acd"
   },
   "outputs": [
    {
     "data": {
      "text/html": [
       "<div>\n",
       "<style scoped>\n",
       "    .dataframe tbody tr th:only-of-type {\n",
       "        vertical-align: middle;\n",
       "    }\n",
       "\n",
       "    .dataframe tbody tr th {\n",
       "        vertical-align: top;\n",
       "    }\n",
       "\n",
       "    .dataframe thead th {\n",
       "        text-align: right;\n",
       "    }\n",
       "</style>\n",
       "<table border=\"1\" class=\"dataframe\">\n",
       "  <thead>\n",
       "    <tr style=\"text-align: right;\">\n",
       "      <th></th>\n",
       "      <th>mean_score</th>\n",
       "    </tr>\n",
       "    <tr>\n",
       "      <th>auctionBidFloorSource</th>\n",
       "      <th></th>\n",
       "    </tr>\n",
       "  </thead>\n",
       "  <tbody>\n",
       "    <tr>\n",
       "      <th>user_ml</th>\n",
       "      <td>0.233834</td>\n",
       "    </tr>\n",
       "    <tr>\n",
       "      <th>lurl</th>\n",
       "      <td>0.167322</td>\n",
       "    </tr>\n",
       "    <tr>\n",
       "      <th>ml</th>\n",
       "      <td>0.136865</td>\n",
       "    </tr>\n",
       "    <tr>\n",
       "      <th>rollouts</th>\n",
       "      <td>0.050941</td>\n",
       "    </tr>\n",
       "    <tr>\n",
       "      <th>original</th>\n",
       "      <td>0.032186</td>\n",
       "    </tr>\n",
       "  </tbody>\n",
       "</table>\n",
       "</div>"
      ],
      "text/plain": [
       "                       mean_score\n",
       "auctionBidFloorSource            \n",
       "user_ml                  0.233834\n",
       "lurl                     0.167322\n",
       "ml                       0.136865\n",
       "rollouts                 0.050941\n",
       "original                 0.032186"
      ]
     },
     "execution_count": 21,
     "metadata": {},
     "output_type": "execute_result"
    }
   ],
   "source": [
    "predicted_scores = model.predict_proba(valid_pool)\n",
    "train_df['score'] = predicted_scores[:, 1]\n",
    "\n",
    "train_df.groupby('auctionBidFloorSource').agg(mean_score = ('score', 'mean')).sort_values(by='mean_score', ascending=False)"
   ]
  },
  {
   "cell_type": "code",
   "execution_count": 22,
   "id": "37ae0266-da36-4611-aa9e-c68d8723b33c",
   "metadata": {
    "id": "37ae0266-da36-4611-aa9e-c68d8723b33c"
   },
   "outputs": [],
   "source": [
    "\n",
    "import plotly.express as px\n",
    "\n",
    "def plot_hist(filtered_df, metric_name='timedelta_seconds'):\n",
    "    fig = px.histogram(\n",
    "        filtered_df, x=metric_name, nbins=10,\n",
    "        labels={metric_name: f'Title: {metric_name}'},\n",
    "        title=f'Histogram of {metric_name}'\n",
    "    )\n",
    "    fig.show()"
   ]
  },
  {
   "cell_type": "markdown",
   "id": "2e7e2047-94a0-4fba-be8d-49b4bdda3f72",
   "metadata": {
    "id": "2e7e2047-94a0-4fba-be8d-49b4bdda3f72"
   },
   "source": [
    "# Model registering\n",
    "\n",
    "**NOTE**: for local run only, google cloud is not supported\n",
    "\n",
    "Run mlflow container with\n",
    "```shell\n",
    "make run-mlflow\n",
    "```\n",
    "\n",
    "Open http://0.0.0.0:8000\n",
    "\n",
    "Run full pipeline\n",
    "\n",
    "```shell\n",
    "make build-sagemaker;\n",
    "make run-param-tuning;\n",
    "```"
   ]
  },
  {
   "cell_type": "code",
   "execution_count": 26,
   "id": "e1dc8b6a-4fdd-4622-a1dd-3d7c525f36e8",
   "metadata": {
    "colab": {
     "base_uri": "https://localhost:8080/",
     "height": 384
    },
    "id": "e1dc8b6a-4fdd-4622-a1dd-3d7c525f36e8",
    "outputId": "7829166b-af98-4575-c6e1-9924049fede1"
   },
   "outputs": [
    {
     "name": "stdout",
     "output_type": "stream",
     "text": [
      "Envs loaded True\n",
      "all complited\n"
     ]
    }
   ],
   "source": [
    "import os\n",
    "import sys\n",
    "\n",
    "import pandas as pd\n",
    "import mlflow\n",
    "from mlflow.entities import ViewType\n",
    "from mlflow.tracking import MlflowClient\n",
    "from dotenv import load_dotenv\n",
    "\n",
    "print(f'Envs loaded {load_dotenv(dotenv_path='./../.env')}')\n",
    "\n",
    "\n",
    "HPO_EXPERIMENT_NAME = \"catboost-params\"\n",
    "# mlflow.create_experiment(HPO_EXPERIMENT_NAME, artifact_location=\"s3://mlflow\")\n",
    "\n",
    "mlflow.set_tracking_uri(\"http://0.0.0.0:8000\")\n",
    "# mlflow.set_tracking_uri(\"http://mlflow_container_ui:8000\")\n",
    "mlflow.set_experiment(HPO_EXPERIMENT_NAME)\n",
    "\n",
    "client = MlflowClient()\n",
    "experiment = client.get_experiment_by_name(HPO_EXPERIMENT_NAME)\n",
    "# choose the best params\n",
    "run = client.search_runs(\n",
    "    experiment_ids=experiment.experiment_id,\n",
    "    run_view_type=ViewType.ACTIVE_ONLY,\n",
    "    max_results=5,\n",
    "    order_by=[\"metrics.roc_auc DESC\"]\n",
    ")\n",
    "print('all complited')"
   ]
  },
  {
   "cell_type": "code",
   "execution_count": 28,
   "id": "c1e9859e-364c-4559-9b9f-80dc7d00980e",
   "metadata": {
    "id": "c1e9859e-364c-4559-9b9f-80dc7d00980e"
   },
   "outputs": [
    {
     "name": "stdout",
     "output_type": "stream",
     "text": [
      "{'depth': '8.0', 'iterations': '350.0', 'l2_leaf_reg': '2.909954052940017', 'learning_rate': '0.12709552437597396'}\n"
     ]
    }
   ],
   "source": [
    "best_run = run[0]\n",
    "best_params = best_run.data.params\n",
    "best_run_id = best_run.info.run_id\n",
    "print(best_params)"
   ]
  },
  {
   "cell_type": "code",
   "execution_count": null,
   "id": "e4f1858e-5199-45ec-b17c-9d81c27684ef",
   "metadata": {
    "id": "e4f1858e-5199-45ec-b17c-9d81c27684ef"
   },
   "outputs": [],
   "source": [
    "model_params = {i: float(j) for  i,j in best_params.items()}"
   ]
  },
  {
   "cell_type": "code",
   "execution_count": null,
   "id": "cbfe8110-ac1c-4997-b1c9-0cf4a30cd8cd",
   "metadata": {
    "id": "cbfe8110-ac1c-4997-b1c9-0cf4a30cd8cd"
   },
   "outputs": [],
   "source": []
  },
  {
   "cell_type": "code",
   "execution_count": null,
   "id": "64194ebb-6423-4b05-8d86-9abdb59a2dac",
   "metadata": {
    "id": "64194ebb-6423-4b05-8d86-9abdb59a2dac"
   },
   "outputs": [],
   "source": [
    "from catboost import CatBoostClassifier\n",
    "from IPython.display import clear_output\n",
    "\n",
    "def train_and_save_model(train_df, config, model_path):\n",
    "    print(train_df.shape[0])\n",
    "    columns_subset = get_valuable_columns(train_df)\n",
    "    cat_candidates = ['request_context_device_type', 'dsp', 'ssp', 'hour']\n",
    "    features = {\n",
    "        'cat': [col for col in cat_candidates if col in columns_subset],\n",
    "        'num': ['price', ]\n",
    "    }\n",
    "    features_set = features['cat'] + features['num']\n",
    "    X = train_df[features_set]\n",
    "    y = train_df['target']\n",
    "    train_pool = Pool(data=X, label=y, cat_features=features['cat'])\n",
    "    model = CatBoostClassifier(**model_params)\n",
    "    model.fit(train_pool)\n",
    "    clear_output()\n",
    "    model.save_model(model_path)\n",
    "    mlflow.log_artifact(model_path, artifact_path=\"model\")\n",
    "    print('model dump finished')\n",
    "\n",
    "train_data_path = '/Users/username/PycharmProjects/ml_for_products/data/bidmachine_task_data/test_data.csv'\n",
    "model_path = '/Users/username/PycharmProjects/ml_for_products/data/bidmachine_task_data/best_model.cb'\n",
    "\n",
    "with mlflow.start_run(run_id=best_run_id):\n",
    "    train_df = pd.read_csv(train_data_path, nrows=1000)\n",
    "    train_and_save_model(train_df, best_params, model_path)\n",
    "    model_uri = f\"runs:/{best_run_id}/model\"\n",
    "    mlflow.register_model(model_uri, name=\"rf-best-model\")\n",
    "print('Model loaded')"
   ]
  },
  {
   "cell_type": "code",
   "execution_count": null,
   "id": "f3e5641a-1471-4451-9621-e0e421e75e10",
   "metadata": {
    "id": "f3e5641a-1471-4451-9621-e0e421e75e10"
   },
   "outputs": [],
   "source": [
    "with mlflow.start_run(run_id=best_run_id) as active_run:\n",
    "    artifacts = client.list_artifacts(active_run.info.run_id)\n",
    "    for artifact in artifacts:\n",
    "        print(f\"Artifact: {artifact.path}, Size: {artifact.file_size}\")\n",
    "    artifact_uri = mlflow.get_artifact_uri()\n",
    "    print(f\"Artifact URI: {artifact_uri}\")\n",
    "    model_uri = os.path.join(artifact_uri, \"model\")\n",
    "    print(f\"Model URI: {model_uri}\")"
   ]
  },
  {
   "cell_type": "markdown",
   "id": "f26e68d7-2943-45d8-9f99-68418673e21f",
   "metadata": {
    "id": "f26e68d7-2943-45d8-9f99-68418673e21f"
   },
   "source": [
    "Check model in interface"
   ]
  },
  {
   "cell_type": "code",
   "execution_count": null,
   "id": "c729c6a5-8b45-4c46-86ad-0d0ef762e700",
   "metadata": {
    "id": "c729c6a5-8b45-4c46-86ad-0d0ef762e700"
   },
   "outputs": [],
   "source": [
    "import boto3\n",
    "\n",
    "s3_client = boto3.client('s3',\n",
    "        aws_access_key_id=os.environ['AWS_ACCESS_KEY_ID'],\n",
    "        aws_secret_access_key=os.environ['AWS_SECRET_ACCESS_KEY'],\n",
    "        endpoint_url='http://0.0.0.0:9000'\n",
    ")\n",
    "bucket = \"mlflow\"\n",
    "key = model_uri.replace(f's3://mlflow/', '')\n",
    "print(key)\n",
    "local_path = os.path.join(root_data_dir, \"downloaded_model.cb\")\n",
    "\n",
    "s3_client.download_file(bucket, os.path.join(key, 'best_model.cb'), local_path)\n",
    "print(f'downloaded to {local_path}')"
   ]
  },
  {
   "cell_type": "code",
   "execution_count": null,
   "id": "2ee3a568-c4ab-4db3-8272-722f85e760dd",
   "metadata": {
    "id": "2ee3a568-c4ab-4db3-8272-722f85e760dd"
   },
   "outputs": [],
   "source": []
  },
  {
   "cell_type": "code",
   "execution_count": null,
   "id": "3cfa8cfd-e79c-4cef-a87a-6f127db9be34",
   "metadata": {
    "id": "3cfa8cfd-e79c-4cef-a87a-6f127db9be34"
   },
   "outputs": [],
   "source": []
  }
 ],
 "metadata": {
  "colab": {
   "provenance": []
  },
  "kernelspec": {
   "display_name": "Python 3 (ipykernel)",
   "language": "python",
   "name": "python3"
  },
  "language_info": {
   "codemirror_mode": {
    "name": "ipython",
    "version": 3
   },
   "file_extension": ".py",
   "mimetype": "text/x-python",
   "name": "python",
   "nbconvert_exporter": "python",
   "pygments_lexer": "ipython3",
   "version": "3.12.11"
  }
 },
 "nbformat": 4,
 "nbformat_minor": 5
}
