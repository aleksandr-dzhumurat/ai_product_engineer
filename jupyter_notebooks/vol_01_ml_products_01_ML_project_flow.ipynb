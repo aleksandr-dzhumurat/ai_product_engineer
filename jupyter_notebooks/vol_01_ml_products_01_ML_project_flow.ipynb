{
 "cells": [
  {
   "cell_type": "markdown",
   "metadata": {
    "id": "-HJTv3Dcn8ma"
   },
   "source": [
    "# Пример ML проекта\n",
    "\n",
    "\n",
    "В этой лекции пройдем все шаги по подготовке ML проекта: от подготовки \"сырых\" данных до анализа результатов\n",
    "\n",
    "Поговорим про понятие \"стакинг моделей\"(stacking)\n",
    "\n",
    "## Загрузка данных\n",
    "\n",
    "В реальном мире данные нужно брать из баз данных, но для учебных целей загрузим csv файл\n",
    "\n",
    "```shell\n",
    "cp ~/Downloads/final_dataset.zip data;\n",
    "cp ~/Downloads/ocr_dataset.zip data\n",
    "```"
   ]
  },
  {
   "cell_type": "code",
   "execution_count": 3,
   "metadata": {
    "colab": {
     "base_uri": "https://localhost:8080/"
    },
    "id": "icrNaC1Rn_ZO",
    "outputId": "bf4ab738-a446-4c14-9eca-c54982fd30df"
   },
   "outputs": [
    {
     "name": "stdout",
     "output_type": "stream",
     "text": [
      "Содержимое директории %s: %s /Users/adzhumurat/PycharmProjects/ai_product_engineer/data ['pipelines-data', 'zinc_data', 'mlflow', 'minio']\n"
     ]
    }
   ],
   "source": [
    "import os\n",
    "\n",
    "import numpy as np\n",
    "\n",
    "RANDOM_SEED = 42\n",
    "np.random.seed(RANDOM_SEED)  # гарантируем воспроизводимость\n",
    "\n",
    "run_env = os.getenv('RUN_ENV', 'COLLAB')\n",
    "if run_env == 'COLLAB':\n",
    "  from google.colab import drive\n",
    "  ROOT_DIR = '/content/drive'\n",
    "  drive.mount(ROOT_DIR)\n",
    "  print('Google drive connected')\n",
    "  DRIVE_DATA_DIR = 'ml_course_data'\n",
    "  root_data_dir = os.path.join(ROOT_DIR, 'MyDrive', DRIVE_DATA_DIR)\n",
    "else:\n",
    "  root_data_dir = os.environ['DATA_DIR']\n",
    "\n",
    "if not os.path.exists(root_data_dir):\n",
    "  raise RuntimeError('Отсутствует директория с данными')\n",
    "else:\n",
    "  print('Содержимое директории %s: %s', root_data_dir, os.listdir(root_data_dir))"
   ]
  },
  {
   "cell_type": "markdown",
   "metadata": {
    "id": "0_skD8u3zkM3"
   },
   "source": [
    "Каждая задача решается в несколько шагов\n",
    "* Business Understanding\n",
    "* Data understanding\n",
    "* Baseline\n",
    "* Modeling\n",
    "* Production (релиз модели в виде сервиса)\n",
    "\n",
    "### Business Understanding\n",
    "\n",
    "Сначала нужно пообщаться с бизнес-аналитиком, который расскажет про особенности датасета:\n",
    "\n",
    "Мы имеем дело с выгрузкой из системы модерации. Задача, которую мы решаем: нужно создать систему модерации контента, недопустимый контент должен быть забанен автоматически. Бан контент может получить по разным причинам:\n",
    "\n",
    "* расизм\n",
    "* политика\n",
    "* кликбейт и т.д.\n",
    "\n",
    "Пример контента, который получил бан по политическим причинам\n",
    "\n",
    "[политика](https://drive.google.com/file/d/1MH8z-pTbZ-VJ0ZPsA2KbjaY52rKL4Ycl/view?usp=sharing)"
   ]
  },
  {
   "cell_type": "markdown",
   "metadata": {
    "id": "oaAHk2y106VE"
   },
   "source": [
    "В датасете\n",
    "* `content_id` - идентификатор контента, служебное поле\n",
    "* `featured_approval_content_declined` - таргет, который мы предсказываем (`1` если контент был забанен и `0` в ином случае)\n",
    "* `declined_reason` - причина бана (заполнено только для `content_declined==1`)\n",
    "\n",
    "Остальные поля - фичи из различных источников\n",
    "* статистические фичи\n",
    "  * num_smiles\n",
    "  * num_saves\n",
    "  * num_shares\n",
    "  * num_repubs\n",
    "  * num_comments\n",
    "  * num_days_on_service\n",
    "* численные фичи\n",
    "  * approved\n",
    "  * soft_shotted\n",
    "  * hard_shotted"
   ]
  },
  {
   "cell_type": "code",
   "execution_count": 6,
   "metadata": {
    "colab": {
     "base_uri": "https://localhost:8080/",
     "height": 226
    },
    "id": "_6bIn5DLoKat",
    "outputId": "62ad4862-8391-4271-c8ef-1721d8d7ebdd"
   },
   "outputs": [
    {
     "name": "stdout",
     "output_type": "stream",
     "text": [
      "Num rows 100000\n"
     ]
    },
    {
     "data": {
      "text/html": [
       "<div>\n",
       "<style scoped>\n",
       "    .dataframe tbody tr th:only-of-type {\n",
       "        vertical-align: middle;\n",
       "    }\n",
       "\n",
       "    .dataframe tbody tr th {\n",
       "        vertical-align: top;\n",
       "    }\n",
       "\n",
       "    .dataframe thead th {\n",
       "        text-align: right;\n",
       "    }\n",
       "</style>\n",
       "<table border=\"1\" class=\"dataframe\">\n",
       "  <thead>\n",
       "    <tr style=\"text-align: right;\">\n",
       "      <th></th>\n",
       "      <th>content_id</th>\n",
       "      <th>num_views</th>\n",
       "      <th>num_positve_actions</th>\n",
       "      <th>num_smiles</th>\n",
       "      <th>num_saves</th>\n",
       "      <th>num_shares</th>\n",
       "      <th>num_repubs</th>\n",
       "      <th>num_comments</th>\n",
       "      <th>num_days_on_service</th>\n",
       "      <th>featured_approval_content_declined</th>\n",
       "      <th>declined_reason</th>\n",
       "      <th>best_class</th>\n",
       "      <th>approved</th>\n",
       "      <th>hard_shotted</th>\n",
       "      <th>soft_shotted</th>\n",
       "    </tr>\n",
       "  </thead>\n",
       "  <tbody>\n",
       "    <tr>\n",
       "      <th>0</th>\n",
       "      <td>IzpfrtD</td>\n",
       "      <td>127770</td>\n",
       "      <td>12725</td>\n",
       "      <td>12455</td>\n",
       "      <td>168</td>\n",
       "      <td>141</td>\n",
       "      <td>556</td>\n",
       "      <td>1784</td>\n",
       "      <td>25</td>\n",
       "      <td>0.0</td>\n",
       "      <td>NaN</td>\n",
       "      <td>NaN</td>\n",
       "      <td>NaN</td>\n",
       "      <td>NaN</td>\n",
       "      <td>NaN</td>\n",
       "    </tr>\n",
       "    <tr>\n",
       "      <th>1</th>\n",
       "      <td>FibDyiC</td>\n",
       "      <td>86090</td>\n",
       "      <td>6180</td>\n",
       "      <td>5704</td>\n",
       "      <td>173</td>\n",
       "      <td>383</td>\n",
       "      <td>289</td>\n",
       "      <td>6016</td>\n",
       "      <td>5</td>\n",
       "      <td>1.0</td>\n",
       "      <td>racism</td>\n",
       "      <td>approved</td>\n",
       "      <td>0.908444</td>\n",
       "      <td>0.033255</td>\n",
       "      <td>0.058302</td>\n",
       "    </tr>\n",
       "    <tr>\n",
       "      <th>2</th>\n",
       "      <td>LUkUBEm</td>\n",
       "      <td>78286</td>\n",
       "      <td>5228</td>\n",
       "      <td>4944</td>\n",
       "      <td>376</td>\n",
       "      <td>29</td>\n",
       "      <td>162</td>\n",
       "      <td>165</td>\n",
       "      <td>6</td>\n",
       "      <td>0.0</td>\n",
       "      <td>NaN</td>\n",
       "      <td>approved</td>\n",
       "      <td>0.994736</td>\n",
       "      <td>0.002517</td>\n",
       "      <td>0.002748</td>\n",
       "    </tr>\n",
       "    <tr>\n",
       "      <th>3</th>\n",
       "      <td>zPrfyiz</td>\n",
       "      <td>76931</td>\n",
       "      <td>5664</td>\n",
       "      <td>5506</td>\n",
       "      <td>231</td>\n",
       "      <td>8</td>\n",
       "      <td>151</td>\n",
       "      <td>395</td>\n",
       "      <td>5</td>\n",
       "      <td>1.0</td>\n",
       "      <td>politics_religion</td>\n",
       "      <td>approved</td>\n",
       "      <td>0.987415</td>\n",
       "      <td>0.008829</td>\n",
       "      <td>0.003755</td>\n",
       "    </tr>\n",
       "    <tr>\n",
       "      <th>4</th>\n",
       "      <td>eNAyJnh</td>\n",
       "      <td>72021</td>\n",
       "      <td>6148</td>\n",
       "      <td>5844</td>\n",
       "      <td>453</td>\n",
       "      <td>16</td>\n",
       "      <td>261</td>\n",
       "      <td>113</td>\n",
       "      <td>5</td>\n",
       "      <td>1.0</td>\n",
       "      <td>racism</td>\n",
       "      <td>approved</td>\n",
       "      <td>0.989974</td>\n",
       "      <td>0.005185</td>\n",
       "      <td>0.004841</td>\n",
       "    </tr>\n",
       "  </tbody>\n",
       "</table>\n",
       "</div>"
      ],
      "text/plain": [
       "  content_id  num_views  num_positve_actions  num_smiles  num_saves  \\\n",
       "0    IzpfrtD     127770                12725       12455        168   \n",
       "1    FibDyiC      86090                 6180        5704        173   \n",
       "2    LUkUBEm      78286                 5228        4944        376   \n",
       "3    zPrfyiz      76931                 5664        5506        231   \n",
       "4    eNAyJnh      72021                 6148        5844        453   \n",
       "\n",
       "   num_shares  num_repubs  num_comments  num_days_on_service  \\\n",
       "0         141         556          1784                   25   \n",
       "1         383         289          6016                    5   \n",
       "2          29         162           165                    6   \n",
       "3           8         151           395                    5   \n",
       "4          16         261           113                    5   \n",
       "\n",
       "   featured_approval_content_declined    declined_reason best_class  approved  \\\n",
       "0                                 0.0                NaN        NaN       NaN   \n",
       "1                                 1.0             racism   approved  0.908444   \n",
       "2                                 0.0                NaN   approved  0.994736   \n",
       "3                                 1.0  politics_religion   approved  0.987415   \n",
       "4                                 1.0             racism   approved  0.989974   \n",
       "\n",
       "   hard_shotted  soft_shotted  \n",
       "0           NaN           NaN  \n",
       "1      0.033255      0.058302  \n",
       "2      0.002517      0.002748  \n",
       "3      0.008829      0.003755  \n",
       "4      0.005185      0.004841  "
      ]
     },
     "execution_count": 6,
     "metadata": {},
     "output_type": "execute_result"
    }
   ],
   "source": [
    "import pandas as pd\n",
    "\n",
    "input_dataset_df = pd.read_csv(os.path.join(root_data_dir, 'final_dataset.zip'), compression='zip')\n",
    "print(f'Num rows {input_dataset_df.shape[0]}')\n",
    "input_dataset_df.head()"
   ]
  },
  {
   "cell_type": "markdown",
   "metadata": {
    "id": "9UafrbReQVpd"
   },
   "source": [
    "Существующие фичи будут сильно расширены и дополнены в процессе фича-инжениринга"
   ]
  },
  {
   "cell_type": "markdown",
   "metadata": {
    "id": "zCXmSfw29lIP"
   },
   "source": [
    "По примеру видно, что мощные фичи можно извлечь из текста (даже некоторые ключевые слова будут полезны как \"фича\" при детекции политических мемов)\n",
    "\n",
    "Нам досутупна выгрузка из системы OCR (optical character recognition, оптическое распознавание символов), которая распознаёт текст на изображениях."
   ]
  },
  {
   "cell_type": "code",
   "execution_count": 8,
   "metadata": {
    "colab": {
     "base_uri": "https://localhost:8080/",
     "height": 206
    },
    "id": "a_MP14ucqPmc",
    "outputId": "a0810a6c-b1f9-4224-eabc-0d8a9122ba12"
   },
   "outputs": [
    {
     "data": {
      "text/html": [
       "<div>\n",
       "<style scoped>\n",
       "    .dataframe tbody tr th:only-of-type {\n",
       "        vertical-align: middle;\n",
       "    }\n",
       "\n",
       "    .dataframe tbody tr th {\n",
       "        vertical-align: top;\n",
       "    }\n",
       "\n",
       "    .dataframe thead th {\n",
       "        text-align: right;\n",
       "    }\n",
       "</style>\n",
       "<table border=\"1\" class=\"dataframe\">\n",
       "  <thead>\n",
       "    <tr style=\"text-align: right;\">\n",
       "      <th></th>\n",
       "      <th>content_id</th>\n",
       "      <th>text</th>\n",
       "    </tr>\n",
       "  </thead>\n",
       "  <tbody>\n",
       "    <tr>\n",
       "      <th>0</th>\n",
       "      <td>muTKNpX</td>\n",
       "      <td>Like this if you think Joe Biden\\nshould to go...</td>\n",
       "    </tr>\n",
       "    <tr>\n",
       "      <th>1</th>\n",
       "      <td>oCsKxRF</td>\n",
       "      <td>This series is garbage.\\nIt's so unrealistic</td>\n",
       "    </tr>\n",
       "    <tr>\n",
       "      <th>2</th>\n",
       "      <td>hEZuhDH</td>\n",
       "      <td>Phone in one hand, your mum in the other\\nidie...</td>\n",
       "    </tr>\n",
       "    <tr>\n",
       "      <th>3</th>\n",
       "      <td>KuUnefc</td>\n",
       "      <td>vsauce.\\nmichael here.\\nyou cant contain me fo...</td>\n",
       "    </tr>\n",
       "    <tr>\n",
       "      <th>4</th>\n",
       "      <td>ykIaYzU</td>\n",
       "      <td>Fatphobia\\nFatphobia is a phobia in which over...</td>\n",
       "    </tr>\n",
       "  </tbody>\n",
       "</table>\n",
       "</div>"
      ],
      "text/plain": [
       "  content_id                                               text\n",
       "0    muTKNpX  Like this if you think Joe Biden\\nshould to go...\n",
       "1    oCsKxRF       This series is garbage.\\nIt's so unrealistic\n",
       "2    hEZuhDH  Phone in one hand, your mum in the other\\nidie...\n",
       "3    KuUnefc  vsauce.\\nmichael here.\\nyou cant contain me fo...\n",
       "4    ykIaYzU  Fatphobia\\nFatphobia is a phobia in which over..."
      ]
     },
     "execution_count": 8,
     "metadata": {},
     "output_type": "execute_result"
    }
   ],
   "source": [
    "ocr_dataset_df = pd.read_csv(os.path.join(root_data_dir, 'ocr_dataset.zip'), compression='zip')\n",
    "\n",
    "ocr_dataset_df.head()"
   ]
  },
  {
   "cell_type": "markdown",
   "metadata": {
    "id": "d7wN_i-dQ_QP"
   },
   "source": [
    "Итого у нас два источника данных - посмотрим, что можно сделать с ними"
   ]
  },
  {
   "cell_type": "markdown",
   "metadata": {
    "id": "hECSqCqY-4vP"
   },
   "source": [
    "## Data Understandig\n",
    "\n",
    "Этот этап в анализе данные принято называть Exploratory Data Analysis (EDA)\n",
    "\n",
    "На этом этапе нужно хорошо \"закопаться\" в данные  чтобы лучше понять их природу\n",
    "\n",
    "Какие инструменты помогут\n",
    "\n",
    "* **pandas** для работы с табличными данными\n",
    "  * метод `.describe()` у датафрейма\n",
    "  * `.merge()` для объединения различных источников данных\n",
    "  * `.value_counts()` для быстрого выполнения операции `group by` + `count`\n",
    "* визуализации с помощью методов `.plot()` и `.hist()` а также библиотеки matplotlib\n",
    "* Streamlit"
   ]
  },
  {
   "cell_type": "code",
   "execution_count": 9,
   "metadata": {
    "colab": {
     "base_uri": "https://localhost:8080/"
    },
    "id": "EKwQ7soGrNy7",
    "outputId": "cbcd2f10-b13e-4925-9830-d8398ec54632"
   },
   "outputs": [
    {
     "data": {
      "text/plain": [
       "100000"
      ]
     },
     "execution_count": 9,
     "metadata": {},
     "output_type": "execute_result"
    }
   ],
   "source": [
    "input_dataset_df.shape[0]"
   ]
  },
  {
   "cell_type": "code",
   "execution_count": 10,
   "metadata": {
    "colab": {
     "base_uri": "https://localhost:8080/",
     "height": 335
    },
    "id": "PXvsfQh7rFWR",
    "outputId": "48a36a4e-c8cc-4ce2-b059-c526cc29e81f"
   },
   "outputs": [
    {
     "data": {
      "text/plain": [
       "count    100000.000000\n",
       "mean         52.511750\n",
       "std         196.677364\n",
       "min           4.000000\n",
       "25%          17.000000\n",
       "50%          22.000000\n",
       "75%          35.000000\n",
       "max       12725.000000\n",
       "Name: num_positve_actions, dtype: float64"
      ]
     },
     "execution_count": 10,
     "metadata": {},
     "output_type": "execute_result"
    }
   ],
   "source": [
    "input_dataset_df['num_positve_actions'].describe()"
   ]
  },
  {
   "cell_type": "code",
   "execution_count": 11,
   "metadata": {
    "colab": {
     "base_uri": "https://localhost:8080/",
     "height": 178
    },
    "id": "JG9dECjXTbaY",
    "outputId": "94716c21-c9f8-4fc4-f374-c56f3bc5f585"
   },
   "outputs": [
    {
     "data": {
      "text/plain": [
       "featured_approval_content_declined\n",
       "0.0    71113\n",
       "1.0    28887\n",
       "Name: count, dtype: int64"
      ]
     },
     "execution_count": 11,
     "metadata": {},
     "output_type": "execute_result"
    }
   ],
   "source": [
    "input_dataset_df['featured_approval_content_declined'].value_counts()"
   ]
  },
  {
   "cell_type": "markdown",
   "metadata": {
    "id": "c0eoQuxAAk3K"
   },
   "source": [
    "Начинаем генерить первые фичи"
   ]
  },
  {
   "cell_type": "code",
   "execution_count": 12,
   "metadata": {
    "colab": {
     "base_uri": "https://localhost:8080/",
     "height": 335
    },
    "id": "8xQbfWZprTZW",
    "outputId": "02cd1a84-14d3-406b-f839-f5c33d9368e7"
   },
   "outputs": [
    {
     "data": {
      "text/plain": [
       "count    100000.000000\n",
       "mean          0.035188\n",
       "std           0.010258\n",
       "min           0.003347\n",
       "25%           0.029167\n",
       "50%           0.034296\n",
       "75%           0.039693\n",
       "max           0.209123\n",
       "Name: action_rate, dtype: float64"
      ]
     },
     "execution_count": 12,
     "metadata": {},
     "output_type": "execute_result"
    }
   ],
   "source": [
    "input_dataset_df['action_rate'] = (\n",
    "  input_dataset_df['num_positve_actions'] / input_dataset_df['num_views']\n",
    ")\n",
    "\n",
    "input_dataset_df['action_rate'].describe()"
   ]
  },
  {
   "cell_type": "markdown",
   "metadata": {
    "id": "k4VUEQ56AsoI"
   },
   "source": [
    "Нормированные фичи всегда лучше чем ненормированные. При нормировании фичу лучше \"сглаживать\" то есть в знаменатель добавлять какую-то константу\n",
    "\n",
    "Полезно проверить, есть ли разница в распределении фичей по таргету\n",
    "\n",
    "Визуализация эмпирической плотности распределения называется \"гистограмма\""
   ]
  },
  {
   "cell_type": "code",
   "execution_count": 13,
   "metadata": {
    "colab": {
     "base_uri": "https://localhost:8080/",
     "height": 448
    },
    "id": "NBeswfKIArzx",
    "outputId": "1c8ca214-0f21-4521-e92a-d58194db51a7"
   },
   "outputs": [
    {
     "data": {
      "text/plain": [
       "<Axes: ylabel='Frequency'>"
      ]
     },
     "execution_count": 13,
     "metadata": {},
     "output_type": "execute_result"
    },
    {
     "data": {
      "image/png": "[encoded data removed]",
      "text/plain": [
       "<Figure size 640x480 with 1 Axes>"
      ]
     },
     "metadata": {},
     "output_type": "display_data"
    }
   ],
   "source": [
    "ax = input_dataset_df[\n",
    "    input_dataset_df['featured_approval_content_declined']==1.0\n",
    "]['action_rate'].plot(kind='hist', alpha=0.5, bins=20, label='declined', legend=True, density=True)\n",
    "\n",
    "input_dataset_df[\n",
    "    input_dataset_df['featured_approval_content_declined']==0.0\n",
    "]['action_rate'].plot(kind='hist', alpha=0.5, bins=20, label='approved', legend=True, density=True)"
   ]
  },
  {
   "cell_type": "markdown",
   "metadata": {
    "id": "E2sOA2GNKGqN"
   },
   "source": [
    "Полезно также отобразить квантили распределения - для этого подходит визуализация box-plot.\n",
    "\n",
    "Для проверки распределения на соответствие нормальному закону распределения используется QQ-plot"
   ]
  },
  {
   "cell_type": "markdown",
   "metadata": {
    "id": "ceyrkLmKF7Es"
   },
   "source": [
    "# Baseline\n",
    "\n",
    "Когда данные достаточно поисследованы можно построить бейзлайн модель\n",
    "\n",
    "Попробуем построить логистическую регрессию на текстах и проверить качество модели\n",
    "\n",
    "Для начала трансформируем тексты в sparse матрицу"
   ]
  },
  {
   "cell_type": "code",
   "execution_count": 14,
   "metadata": {
    "colab": {
     "base_uri": "https://localhost:8080/",
     "height": 80
    },
    "id": "Izg2YeSyta0s",
    "outputId": "e06eb0c9-a58e-45d8-a03f-f783d31d8cc6"
   },
   "outputs": [
    {
     "data": {
      "text/html": [
       "<style>#sk-container-id-1 {\n",
       "  /* Definition of color scheme common for light and dark mode */\n",
       "  --sklearn-color-text: black;\n",
       "  --sklearn-color-line: gray;\n",
       "  /* Definition of color scheme for unfitted estimators */\n",
       "  --sklearn-color-unfitted-level-0: #fff5e6;\n",
       "  --sklearn-color-unfitted-level-1: #f6e4d2;\n",
       "  --sklearn-color-unfitted-level-2: #ffe0b3;\n",
       "  --sklearn-color-unfitted-level-3: chocolate;\n",
       "  /* Definition of color scheme for fitted estimators */\n",
       "  --sklearn-color-fitted-level-0: #f0f8ff;\n",
       "  --sklearn-color-fitted-level-1: #d4ebff;\n",
       "  --sklearn-color-fitted-level-2: #b3dbfd;\n",
       "  --sklearn-color-fitted-level-3: cornflowerblue;\n",
       "\n",
       "  /* Specific color for light theme */\n",
       "  --sklearn-color-text-on-default-background: var(--sg-text-color, var(--theme-code-foreground, var(--jp-content-font-color1, black)));\n",
       "  --sklearn-color-background: var(--sg-background-color, var(--theme-background, var(--jp-layout-color0, white)));\n",
       "  --sklearn-color-border-box: var(--sg-text-color, var(--theme-code-foreground, var(--jp-content-font-color1, black)));\n",
       "  --sklearn-color-icon: #696969;\n",
       "\n",
       "  @media (prefers-color-scheme: dark) {\n",
       "    /* Redefinition of color scheme for dark theme */\n",
       "    --sklearn-color-text-on-default-background: var(--sg-text-color, var(--theme-code-foreground, var(--jp-content-font-color1, white)));\n",
       "    --sklearn-color-background: var(--sg-background-color, var(--theme-background, var(--jp-layout-color0, #111)));\n",
       "    --sklearn-color-border-box: var(--sg-text-color, var(--theme-code-foreground, var(--jp-content-font-color1, white)));\n",
       "    --sklearn-color-icon: #878787;\n",
       "  }\n",
       "}\n",
       "\n",
       "#sk-container-id-1 {\n",
       "  color: var(--sklearn-color-text);\n",
       "}\n",
       "\n",
       "#sk-container-id-1 pre {\n",
       "  padding: 0;\n",
       "}\n",
       "\n",
       "#sk-container-id-1 input.sk-hidden--visually {\n",
       "  border: 0;\n",
       "  clip: rect(1px 1px 1px 1px);\n",
       "  clip: rect(1px, 1px, 1px, 1px);\n",
       "  height: 1px;\n",
       "  margin: -1px;\n",
       "  overflow: hidden;\n",
       "  padding: 0;\n",
       "  position: absolute;\n",
       "  width: 1px;\n",
       "}\n",
       "\n",
       "#sk-container-id-1 div.sk-dashed-wrapped {\n",
       "  border: 1px dashed var(--sklearn-color-line);\n",
       "  margin: 0 0.4em 0.5em 0.4em;\n",
       "  box-sizing: border-box;\n",
       "  padding-bottom: 0.4em;\n",
       "  background-color: var(--sklearn-color-background);\n",
       "}\n",
       "\n",
       "#sk-container-id-1 div.sk-container {\n",
       "  /* jupyter's `normalize.less` sets `[hidden] { display: none; }`\n",
       "     but bootstrap.min.css set `[hidden] { display: none !important; }`\n",
       "     so we also need the `!important` here to be able to override the\n",
       "     default hidden behavior on the sphinx rendered scikit-learn.org.\n",
       "     See: https://github.com/scikit-learn/scikit-learn/issues/21755 */\n",
       "  display: inline-block !important;\n",
       "  position: relative;\n",
       "}\n",
       "\n",
       "#sk-container-id-1 div.sk-text-repr-fallback {\n",
       "  display: none;\n",
       "}\n",
       "\n",
       "div.sk-parallel-item,\n",
       "div.sk-serial,\n",
       "div.sk-item {\n",
       "  /* draw centered vertical line to link estimators */\n",
       "  background-image: linear-gradient(var(--sklearn-color-text-on-default-background), var(--sklearn-color-text-on-default-background));\n",
       "  background-size: 2px 100%;\n",
       "  background-repeat: no-repeat;\n",
       "  background-position: center center;\n",
       "}\n",
       "\n",
       "/* Parallel-specific style estimator block */\n",
       "\n",
       "#sk-container-id-1 div.sk-parallel-item::after {\n",
       "  content: \"\";\n",
       "  width: 100%;\n",
       "  border-bottom: 2px solid var(--sklearn-color-text-on-default-background);\n",
       "  flex-grow: 1;\n",
       "}\n",
       "\n",
       "#sk-container-id-1 div.sk-parallel {\n",
       "  display: flex;\n",
       "  align-items: stretch;\n",
       "  justify-content: center;\n",
       "  background-color: var(--sklearn-color-background);\n",
       "  position: relative;\n",
       "}\n",
       "\n",
       "#sk-container-id-1 div.sk-parallel-item {\n",
       "  display: flex;\n",
       "  flex-direction: column;\n",
       "}\n",
       "\n",
       "#sk-container-id-1 div.sk-parallel-item:first-child::after {\n",
       "  align-self: flex-end;\n",
       "  width: 50%;\n",
       "}\n",
       "\n",
       "#sk-container-id-1 div.sk-parallel-item:last-child::after {\n",
       "  align-self: flex-start;\n",
       "  width: 50%;\n",
       "}\n",
       "\n",
       "#sk-container-id-1 div.sk-parallel-item:only-child::after {\n",
       "  width: 0;\n",
       "}\n",
       "\n",
       "/* Serial-specific style estimator block */\n",
       "\n",
       "#sk-container-id-1 div.sk-serial {\n",
       "  display: flex;\n",
       "  flex-direction: column;\n",
       "  align-items: center;\n",
       "  background-color: var(--sklearn-color-background);\n",
       "  padding-right: 1em;\n",
       "  padding-left: 1em;\n",
       "}\n",
       "\n",
       "\n",
       "/* Toggleable style: style used for estimator/Pipeline/ColumnTransformer box that is\n",
       "clickable and can be expanded/collapsed.\n",
       "- Pipeline and ColumnTransformer use this feature and define the default style\n",
       "- Estimators will overwrite some part of the style using the `sk-estimator` class\n",
       "*/\n",
       "\n",
       "/* Pipeline and ColumnTransformer style (default) */\n",
       "\n",
       "#sk-container-id-1 div.sk-toggleable {\n",
       "  /* Default theme specific background. It is overwritten whether we have a\n",
       "  specific estimator or a Pipeline/ColumnTransformer */\n",
       "  background-color: var(--sklearn-color-background);\n",
       "}\n",
       "\n",
       "/* Toggleable label */\n",
       "#sk-container-id-1 label.sk-toggleable__label {\n",
       "  cursor: pointer;\n",
       "  display: block;\n",
       "  width: 100%;\n",
       "  margin-bottom: 0;\n",
       "  padding: 0.5em;\n",
       "  box-sizing: border-box;\n",
       "  text-align: center;\n",
       "}\n",
       "\n",
       "#sk-container-id-1 label.sk-toggleable__label-arrow:before {\n",
       "  /* Arrow on the left of the label */\n",
       "  content: \"▸\";\n",
       "  float: left;\n",
       "  margin-right: 0.25em;\n",
       "  color: var(--sklearn-color-icon);\n",
       "}\n",
       "\n",
       "#sk-container-id-1 label.sk-toggleable__label-arrow:hover:before {\n",
       "  color: var(--sklearn-color-text);\n",
       "}\n",
       "\n",
       "/* Toggleable content - dropdown */\n",
       "\n",
       "#sk-container-id-1 div.sk-toggleable__content {\n",
       "  max-height: 0;\n",
       "  max-width: 0;\n",
       "  overflow: hidden;\n",
       "  text-align: left;\n",
       "  /* unfitted */\n",
       "  background-color: var(--sklearn-color-unfitted-level-0);\n",
       "}\n",
       "\n",
       "#sk-container-id-1 div.sk-toggleable__content.fitted {\n",
       "  /* fitted */\n",
       "  background-color: var(--sklearn-color-fitted-level-0);\n",
       "}\n",
       "\n",
       "#sk-container-id-1 div.sk-toggleable__content pre {\n",
       "  margin: 0.2em;\n",
       "  border-radius: 0.25em;\n",
       "  color: var(--sklearn-color-text);\n",
       "  /* unfitted */\n",
       "  background-color: var(--sklearn-color-unfitted-level-0);\n",
       "}\n",
       "\n",
       "#sk-container-id-1 div.sk-toggleable__content.fitted pre {\n",
       "  /* unfitted */\n",
       "  background-color: var(--sklearn-color-fitted-level-0);\n",
       "}\n",
       "\n",
       "#sk-container-id-1 input.sk-toggleable__control:checked~div.sk-toggleable__content {\n",
       "  /* Expand drop-down */\n",
       "  max-height: 200px;\n",
       "  max-width: 100%;\n",
       "  overflow: auto;\n",
       "}\n",
       "\n",
       "#sk-container-id-1 input.sk-toggleable__control:checked~label.sk-toggleable__label-arrow:before {\n",
       "  content: \"▾\";\n",
       "}\n",
       "\n",
       "/* Pipeline/ColumnTransformer-specific style */\n",
       "\n",
       "#sk-container-id-1 div.sk-label input.sk-toggleable__control:checked~label.sk-toggleable__label {\n",
       "  color: var(--sklearn-color-text);\n",
       "  background-color: var(--sklearn-color-unfitted-level-2);\n",
       "}\n",
       "\n",
       "#sk-container-id-1 div.sk-label.fitted input.sk-toggleable__control:checked~label.sk-toggleable__label {\n",
       "  background-color: var(--sklearn-color-fitted-level-2);\n",
       "}\n",
       "\n",
       "/* Estimator-specific style */\n",
       "\n",
       "/* Colorize estimator box */\n",
       "#sk-container-id-1 div.sk-estimator input.sk-toggleable__control:checked~label.sk-toggleable__label {\n",
       "  /* unfitted */\n",
       "  background-color: var(--sklearn-color-unfitted-level-2);\n",
       "}\n",
       "\n",
       "#sk-container-id-1 div.sk-estimator.fitted input.sk-toggleable__control:checked~label.sk-toggleable__label {\n",
       "  /* fitted */\n",
       "  background-color: var(--sklearn-color-fitted-level-2);\n",
       "}\n",
       "\n",
       "#sk-container-id-1 div.sk-label label.sk-toggleable__label,\n",
       "#sk-container-id-1 div.sk-label label {\n",
       "  /* The background is the default theme color */\n",
       "  color: var(--sklearn-color-text-on-default-background);\n",
       "}\n",
       "\n",
       "/* On hover, darken the color of the background */\n",
       "#sk-container-id-1 div.sk-label:hover label.sk-toggleable__label {\n",
       "  color: var(--sklearn-color-text);\n",
       "  background-color: var(--sklearn-color-unfitted-level-2);\n",
       "}\n",
       "\n",
       "/* Label box, darken color on hover, fitted */\n",
       "#sk-container-id-1 div.sk-label.fitted:hover label.sk-toggleable__label.fitted {\n",
       "  color: var(--sklearn-color-text);\n",
       "  background-color: var(--sklearn-color-fitted-level-2);\n",
       "}\n",
       "\n",
       "/* Estimator label */\n",
       "\n",
       "#sk-container-id-1 div.sk-label label {\n",
       "  font-family: monospace;\n",
       "  font-weight: bold;\n",
       "  display: inline-block;\n",
       "  line-height: 1.2em;\n",
       "}\n",
       "\n",
       "#sk-container-id-1 div.sk-label-container {\n",
       "  text-align: center;\n",
       "}\n",
       "\n",
       "/* Estimator-specific */\n",
       "#sk-container-id-1 div.sk-estimator {\n",
       "  font-family: monospace;\n",
       "  border: 1px dotted var(--sklearn-color-border-box);\n",
       "  border-radius: 0.25em;\n",
       "  box-sizing: border-box;\n",
       "  margin-bottom: 0.5em;\n",
       "  /* unfitted */\n",
       "  background-color: var(--sklearn-color-unfitted-level-0);\n",
       "}\n",
       "\n",
       "#sk-container-id-1 div.sk-estimator.fitted {\n",
       "  /* fitted */\n",
       "  background-color: var(--sklearn-color-fitted-level-0);\n",
       "}\n",
       "\n",
       "/* on hover */\n",
       "#sk-container-id-1 div.sk-estimator:hover {\n",
       "  /* unfitted */\n",
       "  background-color: var(--sklearn-color-unfitted-level-2);\n",
       "}\n",
       "\n",
       "#sk-container-id-1 div.sk-estimator.fitted:hover {\n",
       "  /* fitted */\n",
       "  background-color: var(--sklearn-color-fitted-level-2);\n",
       "}\n",
       "\n",
       "/* Specification for estimator info (e.g. \"i\" and \"?\") */\n",
       "\n",
       "/* Common style for \"i\" and \"?\" */\n",
       "\n",
       ".sk-estimator-doc-link,\n",
       "a:link.sk-estimator-doc-link,\n",
       "a:visited.sk-estimator-doc-link {\n",
       "  float: right;\n",
       "  font-size: smaller;\n",
       "  line-height: 1em;\n",
       "  font-family: monospace;\n",
       "  background-color: var(--sklearn-color-background);\n",
       "  border-radius: 1em;\n",
       "  height: 1em;\n",
       "  width: 1em;\n",
       "  text-decoration: none !important;\n",
       "  margin-left: 1ex;\n",
       "  /* unfitted */\n",
       "  border: var(--sklearn-color-unfitted-level-1) 1pt solid;\n",
       "  color: var(--sklearn-color-unfitted-level-1);\n",
       "}\n",
       "\n",
       ".sk-estimator-doc-link.fitted,\n",
       "a:link.sk-estimator-doc-link.fitted,\n",
       "a:visited.sk-estimator-doc-link.fitted {\n",
       "  /* fitted */\n",
       "  border: var(--sklearn-color-fitted-level-1) 1pt solid;\n",
       "  color: var(--sklearn-color-fitted-level-1);\n",
       "}\n",
       "\n",
       "/* On hover */\n",
       "div.sk-estimator:hover .sk-estimator-doc-link:hover,\n",
       ".sk-estimator-doc-link:hover,\n",
       "div.sk-label-container:hover .sk-estimator-doc-link:hover,\n",
       ".sk-estimator-doc-link:hover {\n",
       "  /* unfitted */\n",
       "  background-color: var(--sklearn-color-unfitted-level-3);\n",
       "  color: var(--sklearn-color-background);\n",
       "  text-decoration: none;\n",
       "}\n",
       "\n",
       "div.sk-estimator.fitted:hover .sk-estimator-doc-link.fitted:hover,\n",
       ".sk-estimator-doc-link.fitted:hover,\n",
       "div.sk-label-container:hover .sk-estimator-doc-link.fitted:hover,\n",
       ".sk-estimator-doc-link.fitted:hover {\n",
       "  /* fitted */\n",
       "  background-color: var(--sklearn-color-fitted-level-3);\n",
       "  color: var(--sklearn-color-background);\n",
       "  text-decoration: none;\n",
       "}\n",
       "\n",
       "/* Span, style for the box shown on hovering the info icon */\n",
       ".sk-estimator-doc-link span {\n",
       "  display: none;\n",
       "  z-index: 9999;\n",
       "  position: relative;\n",
       "  font-weight: normal;\n",
       "  right: .2ex;\n",
       "  padding: .5ex;\n",
       "  margin: .5ex;\n",
       "  width: min-content;\n",
       "  min-width: 20ex;\n",
       "  max-width: 50ex;\n",
       "  color: var(--sklearn-color-text);\n",
       "  box-shadow: 2pt 2pt 4pt #999;\n",
       "  /* unfitted */\n",
       "  background: var(--sklearn-color-unfitted-level-0);\n",
       "  border: .5pt solid var(--sklearn-color-unfitted-level-3);\n",
       "}\n",
       "\n",
       ".sk-estimator-doc-link.fitted span {\n",
       "  /* fitted */\n",
       "  background: var(--sklearn-color-fitted-level-0);\n",
       "  border: var(--sklearn-color-fitted-level-3);\n",
       "}\n",
       "\n",
       ".sk-estimator-doc-link:hover span {\n",
       "  display: block;\n",
       "}\n",
       "\n",
       "/* \"?\"-specific style due to the `<a>` HTML tag */\n",
       "\n",
       "#sk-container-id-1 a.estimator_doc_link {\n",
       "  float: right;\n",
       "  font-size: 1rem;\n",
       "  line-height: 1em;\n",
       "  font-family: monospace;\n",
       "  background-color: var(--sklearn-color-background);\n",
       "  border-radius: 1rem;\n",
       "  height: 1rem;\n",
       "  width: 1rem;\n",
       "  text-decoration: none;\n",
       "  /* unfitted */\n",
       "  color: var(--sklearn-color-unfitted-level-1);\n",
       "  border: var(--sklearn-color-unfitted-level-1) 1pt solid;\n",
       "}\n",
       "\n",
       "#sk-container-id-1 a.estimator_doc_link.fitted {\n",
       "  /* fitted */\n",
       "  border: var(--sklearn-color-fitted-level-1) 1pt solid;\n",
       "  color: var(--sklearn-color-fitted-level-1);\n",
       "}\n",
       "\n",
       "/* On hover */\n",
       "#sk-container-id-1 a.estimator_doc_link:hover {\n",
       "  /* unfitted */\n",
       "  background-color: var(--sklearn-color-unfitted-level-3);\n",
       "  color: var(--sklearn-color-background);\n",
       "  text-decoration: none;\n",
       "}\n",
       "\n",
       "#sk-container-id-1 a.estimator_doc_link.fitted:hover {\n",
       "  /* fitted */\n",
       "  background-color: var(--sklearn-color-fitted-level-3);\n",
       "}\n",
       "</style><div id=\"sk-container-id-1\" class=\"sk-top-container\"><div class=\"sk-text-repr-fallback\"><pre>TfidfVectorizer(token_pattern=&#x27;\\\\b[\\\\w\\\\d]{3,}\\\\b&#x27;)</pre><b>In a Jupyter environment, please rerun this cell to show the HTML representation or trust the notebook. <br />On GitHub, the HTML representation is unable to render, please try loading this page with nbviewer.org.</b></div><div class=\"sk-container\" hidden><div class=\"sk-item\"><div class=\"sk-estimator fitted sk-toggleable\"><input class=\"sk-toggleable__control sk-hidden--visually\" id=\"sk-estimator-id-1\" type=\"checkbox\" checked><label for=\"sk-estimator-id-1\" class=\"sk-toggleable__label fitted sk-toggleable__label-arrow fitted\">&nbsp;&nbsp;TfidfVectorizer<a class=\"sk-estimator-doc-link fitted\" rel=\"noreferrer\" target=\"_blank\" href=\"https://scikit-learn.org/1.5/modules/generated/sklearn.feature_extraction.text.TfidfVectorizer.html\">?<span>Documentation for TfidfVectorizer</span></a><span class=\"sk-estimator-doc-link fitted\">i<span>Fitted</span></span></label><div class=\"sk-toggleable__content fitted\"><pre>TfidfVectorizer(token_pattern=&#x27;\\\\b[\\\\w\\\\d]{3,}\\\\b&#x27;)</pre></div> </div></div></div></div>"
      ],
      "text/plain": [
       "TfidfVectorizer(token_pattern='\\\\b[\\\\w\\\\d]{3,}\\\\b')"
      ]
     },
     "execution_count": 14,
     "metadata": {},
     "output_type": "execute_result"
    }
   ],
   "source": [
    "from sklearn.feature_extraction.text import TfidfVectorizer\n",
    "\n",
    "vectorizer = TfidfVectorizer(\n",
    "    analyzer='word',\n",
    "    lowercase=True,\n",
    "    token_pattern=r'\\b[\\w\\d]{3,}\\b'\n",
    ")\n",
    "\n",
    "vectorizer.fit(ocr_dataset_df['text'].values)"
   ]
  },
  {
   "cell_type": "markdown",
   "metadata": {
    "id": "KlqzsDkEHhct"
   },
   "source": [
    "Для валидации модели разбиваем данные на тренировочный и тестовый сет.\n",
    "* 70 x 30\n",
    "* для обучения используем только текст"
   ]
  },
  {
   "cell_type": "markdown",
   "metadata": {
    "id": "kloHI1kcJ3qV"
   },
   "source": [
    "Разделяем данные на тренировочный и валидационный сет"
   ]
  },
  {
   "cell_type": "code",
   "execution_count": 15,
   "metadata": {
    "colab": {
     "base_uri": "https://localhost:8080/",
     "height": 242
    },
    "id": "PsXPS0VAVfXz",
    "outputId": "a5405665-3c9c-4caa-f07a-16f5f67d06ae"
   },
   "outputs": [
    {
     "name": "stdout",
     "output_type": "stream",
     "text": [
      "Positive target share 0.2889\n",
      "test rows 30000, train rows 70000\n"
     ]
    },
    {
     "data": {
      "text/html": [
       "<div>\n",
       "<style scoped>\n",
       "    .dataframe tbody tr th:only-of-type {\n",
       "        vertical-align: middle;\n",
       "    }\n",
       "\n",
       "    .dataframe tbody tr th {\n",
       "        vertical-align: top;\n",
       "    }\n",
       "\n",
       "    .dataframe thead th {\n",
       "        text-align: right;\n",
       "    }\n",
       "</style>\n",
       "<table border=\"1\" class=\"dataframe\">\n",
       "  <thead>\n",
       "    <tr style=\"text-align: right;\">\n",
       "      <th></th>\n",
       "      <th>content_id</th>\n",
       "      <th>y</th>\n",
       "    </tr>\n",
       "  </thead>\n",
       "  <tbody>\n",
       "    <tr>\n",
       "      <th>47861</th>\n",
       "      <td>rfxzrqU</td>\n",
       "      <td>0.0</td>\n",
       "    </tr>\n",
       "    <tr>\n",
       "      <th>24027</th>\n",
       "      <td>emQpiSp</td>\n",
       "      <td>0.0</td>\n",
       "    </tr>\n",
       "    <tr>\n",
       "      <th>80659</th>\n",
       "      <td>EEaGjjw</td>\n",
       "      <td>1.0</td>\n",
       "    </tr>\n",
       "    <tr>\n",
       "      <th>52290</th>\n",
       "      <td>EyNrMvA</td>\n",
       "      <td>1.0</td>\n",
       "    </tr>\n",
       "    <tr>\n",
       "      <th>45198</th>\n",
       "      <td>SkMuDjI</td>\n",
       "      <td>0.0</td>\n",
       "    </tr>\n",
       "  </tbody>\n",
       "</table>\n",
       "</div>"
      ],
      "text/plain": [
       "      content_id    y\n",
       "47861    rfxzrqU  0.0\n",
       "24027    emQpiSp  0.0\n",
       "80659    EEaGjjw  1.0\n",
       "52290    EyNrMvA  1.0\n",
       "45198    SkMuDjI  0.0"
      ]
     },
     "execution_count": 15,
     "metadata": {},
     "output_type": "execute_result"
    }
   ],
   "source": [
    "from sklearn.model_selection import train_test_split\n",
    "\n",
    "def split_dataset(source_df: pd.DataFrame, valid_train_set_size = 0.3):\n",
    "  y = source_df.featured_approval_content_declined\n",
    "\n",
    "  content_ids = source_df['content_id']\n",
    "\n",
    "  x_train, x_test_ids, y_train, y_test = (\n",
    "      train_test_split(\n",
    "          content_ids, y, test_size=valid_train_set_size, random_state=RANDOM_SEED, stratify=y\n",
    "      )\n",
    "  )\n",
    "\n",
    "  test_df = pd.DataFrame({'content_id': x_test_ids, 'y': y_test})\n",
    "  train_df = pd.DataFrame({'content_id': x_train, 'y': y_train})\n",
    "  print('Positive target share %.4f' % (train_df['y'].value_counts(normalize=True)[1]))\n",
    "\n",
    "  return train_df, test_df\n",
    "\n",
    "train_df, test_df = split_dataset(input_dataset_df)\n",
    "print('test rows %d, train rows %d' % (test_df.shape[0], train_df.shape[0]))\n",
    "\n",
    "train_df.head()"
   ]
  },
  {
   "cell_type": "markdown",
   "metadata": {
    "id": "gUXgVQ4QT_KT"
   },
   "source": [
    "Проверяем, что сработала стратификация"
   ]
  },
  {
   "cell_type": "code",
   "execution_count": 16,
   "metadata": {
    "colab": {
     "base_uri": "https://localhost:8080/",
     "height": 178
    },
    "id": "cSUDi0YxT_e7",
    "outputId": "c3eac756-4963-4335-ad3a-cba8b935b49f"
   },
   "outputs": [
    {
     "data": {
      "text/plain": [
       "y\n",
       "0.0    0.711129\n",
       "1.0    0.288871\n",
       "Name: proportion, dtype: float64"
      ]
     },
     "execution_count": 16,
     "metadata": {},
     "output_type": "execute_result"
    }
   ],
   "source": [
    "train_df['y'].value_counts(normalize=True)"
   ]
  },
  {
   "cell_type": "markdown",
   "metadata": {
    "id": "0kIxSd768qkr"
   },
   "source": [
    "Трансформируем тренировочный датасет (для обучения) из текста в матрицу (каждый текст - вектор фиксированного размера)"
   ]
  },
  {
   "cell_type": "code",
   "execution_count": 17,
   "metadata": {
    "colab": {
     "base_uri": "https://localhost:8080/"
    },
    "id": "-cdnJElt82xd",
    "outputId": "13b7fd04-8350-41ac-a3d2-a6616bd647a0"
   },
   "outputs": [
    {
     "name": "stderr",
     "output_type": "stream",
     "text": [
      "/var/folders/bd/bg2rzktd7cl7_q4_11m4dx7r0000gn/T/ipykernel_27662/3339000853.py:10: FutureWarning: A value is trying to be set on a copy of a DataFrame or Series through chained assignment using an inplace method.\n",
      "The behavior will change in pandas 3.0. This inplace method will never work because the intermediate object on which we are setting values always behaves as a copy.\n",
      "\n",
      "For example, when doing 'df[col].method(value, inplace=True)', try using 'df.method({col: value}, inplace=True)' or df[col] = df[col].method(value) instead, to perform the operation inplace on the original object.\n",
      "\n",
      "\n",
      "  ocr_dataset_train.text.fillna('', inplace=True)\n"
     ]
    },
    {
     "data": {
      "text/plain": [
       "<Compressed Sparse Row sparse matrix of dtype 'float64'\n",
       "\twith 1149185 stored elements and shape (70000, 120207)>"
      ]
     },
     "execution_count": 17,
     "metadata": {},
     "output_type": "execute_result"
    }
   ],
   "source": [
    "from scipy.sparse import csr_matrix\n",
    "\n",
    "def prepare_tfidf(content_df, text_df, tfidf_vectorizer) -> csr_matrix:\n",
    "  # присоединяем текстовую информацию\n",
    "  ocr_dataset_train = (\n",
    "      content_df[['content_id']]\n",
    "      .merge(text_df, how='left')\n",
    "  )\n",
    "  # заполняем пропуски\n",
    "  ocr_dataset_train['text'].fillna('', inplace=True)\n",
    "  # вычисляем tf-idf\n",
    "  ocr_features = tfidf_vectorizer.transform(ocr_dataset_train['text'].values)\n",
    "\n",
    "  return ocr_features\n",
    "\n",
    "train_ocr_dataset = prepare_tfidf(train_df, ocr_dataset_df, vectorizer)\n",
    "train_ocr_dataset"
   ]
  },
  {
   "cell_type": "markdown",
   "metadata": {
    "id": "4-nvEM69-uA2"
   },
   "source": [
    "Обучаем модель"
   ]
  },
  {
   "cell_type": "code",
   "execution_count": 18,
   "metadata": {
    "colab": {
     "base_uri": "https://localhost:8080/"
    },
    "id": "sI8u5fNy-uRl",
    "outputId": "f7838b84-ee0f-4723-ba05-b45e85f3e771"
   },
   "outputs": [
    {
     "name": "stdout",
     "output_type": "stream",
     "text": [
      "Модель обучена\n"
     ]
    }
   ],
   "source": [
    "from sklearn.linear_model import LogisticRegression\n",
    "\n",
    "log_reg = LogisticRegression(max_iter=500).fit(train_ocr_dataset, train_df['y'])\n",
    "print('Модель обучена')"
   ]
  },
  {
   "cell_type": "markdown",
   "metadata": {
    "id": "s4GfxNtvKAxW"
   },
   "source": [
    "проверяем качество на тестовом датасете - считаем метрики"
   ]
  },
  {
   "cell_type": "code",
   "execution_count": 20,
   "metadata": {
    "colab": {
     "base_uri": "https://localhost:8080/"
    },
    "id": "TJrY_51UJNCy",
    "outputId": "4a22bd01-ee24-46fb-fce0-6700acf424e5"
   },
   "outputs": [
    {
     "name": "stdout",
     "output_type": "stream",
     "text": [
      "Предсказания построены, accuracy = 0.75, f1_score = 0.39, recall_score = 0.68\n"
     ]
    },
    {
     "name": "stderr",
     "output_type": "stream",
     "text": [
      "/var/folders/bd/bg2rzktd7cl7_q4_11m4dx7r0000gn/T/ipykernel_27662/3339000853.py:10: FutureWarning: A value is trying to be set on a copy of a DataFrame or Series through chained assignment using an inplace method.\n",
      "The behavior will change in pandas 3.0. This inplace method will never work because the intermediate object on which we are setting values always behaves as a copy.\n",
      "\n",
      "For example, when doing 'df[col].method(value, inplace=True)', try using 'df.method({col: value}, inplace=True)' or df[col] = df[col].method(value) instead, to perform the operation inplace on the original object.\n",
      "\n",
      "\n",
      "  ocr_dataset_train.text.fillna('', inplace=True)\n"
     ]
    }
   ],
   "source": [
    "from sklearn.metrics import f1_score, accuracy_score, recall_score\n",
    "\n",
    "# вычисляем фичи на тестово сете\n",
    "test_ocr_dataset = prepare_tfidf(test_df, ocr_dataset_df, vectorizer)\n",
    "\n",
    "predicted_classes = log_reg.predict(test_ocr_dataset)\n",
    "print(\n",
    "    'Предсказания построены, accuracy = %.2f, f1_score = %.2f, recall_score = %.2f' % (\n",
    "    accuracy_score(predicted_classes, test_df['y']),\n",
    "    f1_score(predicted_classes, test_df['y']),\n",
    "    recall_score(predicted_classes, test_df['y']),\n",
    "))"
   ]
  },
  {
   "cell_type": "markdown",
   "metadata": {
    "id": "p8UhBZQ-KOXm"
   },
   "source": [
    "получили очень низкое значение метрики, но т.к. бейзлайн то норм"
   ]
  },
  {
   "cell_type": "markdown",
   "metadata": {
    "id": "aqmSBx1yKU3d"
   },
   "source": [
    "# Modeling\n",
    "\n",
    "На этом этапе мы будем генерировать фичи и проверят, как улучшается модель\n",
    "\n",
    "## Улучшаем бейзлайн\n",
    "\n",
    "### Определяем категории, где ошиблись сильнее всего\n",
    "\n",
    "Этот трюк позволяет понять, какиех именно фичей не хватает в модели\n",
    "\n",
    "для начала смержим предикты с истинными метками"
   ]
  },
  {
   "cell_type": "code",
   "execution_count": 15,
   "metadata": {
    "id": "7E8236fVKEak"
   },
   "outputs": [],
   "source": [
    "# false_negative_df = (\n",
    "#     pd.DataFrame({'pred': predicted_classes, 'ground_truth': y_test})\n",
    "#     .query(\"\"\"(pred==0) and (ground_truth==1)\"\"\")\n",
    "# )\n",
    "\n",
    "# false_negative_df.head(5)"
   ]
  },
  {
   "cell_type": "code",
   "execution_count": 21,
   "metadata": {
    "colab": {
     "base_uri": "https://localhost:8080/",
     "height": 206
    },
    "id": "ER-H2YSOLfGk",
    "outputId": "67497e9f-672e-440e-d937-4643379a0e21"
   },
   "outputs": [
    {
     "data": {
      "text/html": [
       "<div>\n",
       "<style scoped>\n",
       "    .dataframe tbody tr th:only-of-type {\n",
       "        vertical-align: middle;\n",
       "    }\n",
       "\n",
       "    .dataframe tbody tr th {\n",
       "        vertical-align: top;\n",
       "    }\n",
       "\n",
       "    .dataframe thead th {\n",
       "        text-align: right;\n",
       "    }\n",
       "</style>\n",
       "<table border=\"1\" class=\"dataframe\">\n",
       "  <thead>\n",
       "    <tr style=\"text-align: right;\">\n",
       "      <th></th>\n",
       "      <th>content_id</th>\n",
       "      <th>y</th>\n",
       "      <th>declined_reason</th>\n",
       "      <th>y_pred</th>\n",
       "    </tr>\n",
       "  </thead>\n",
       "  <tbody>\n",
       "    <tr>\n",
       "      <th>0</th>\n",
       "      <td>eVJrFpd</td>\n",
       "      <td>0.0</td>\n",
       "      <td>NaN</td>\n",
       "      <td>0.0</td>\n",
       "    </tr>\n",
       "    <tr>\n",
       "      <th>1</th>\n",
       "      <td>jBbWeAa</td>\n",
       "      <td>1.0</td>\n",
       "      <td>nudity_censored_genitals</td>\n",
       "      <td>0.0</td>\n",
       "    </tr>\n",
       "    <tr>\n",
       "      <th>2</th>\n",
       "      <td>DAwoTDw</td>\n",
       "      <td>0.0</td>\n",
       "      <td>NaN</td>\n",
       "      <td>0.0</td>\n",
       "    </tr>\n",
       "    <tr>\n",
       "      <th>3</th>\n",
       "      <td>MGNTXRW</td>\n",
       "      <td>0.0</td>\n",
       "      <td>NaN</td>\n",
       "      <td>0.0</td>\n",
       "    </tr>\n",
       "    <tr>\n",
       "      <th>4</th>\n",
       "      <td>kkkswci</td>\n",
       "      <td>1.0</td>\n",
       "      <td>tragedy_death_gore_injuries</td>\n",
       "      <td>0.0</td>\n",
       "    </tr>\n",
       "  </tbody>\n",
       "</table>\n",
       "</div>"
      ],
      "text/plain": [
       "  content_id    y              declined_reason  y_pred\n",
       "0    eVJrFpd  0.0                          NaN     0.0\n",
       "1    jBbWeAa  1.0     nudity_censored_genitals     0.0\n",
       "2    DAwoTDw  0.0                          NaN     0.0\n",
       "3    MGNTXRW  0.0                          NaN     0.0\n",
       "4    kkkswci  1.0  tragedy_death_gore_injuries     0.0"
      ]
     },
     "execution_count": 21,
     "metadata": {},
     "output_type": "execute_result"
    }
   ],
   "source": [
    "prediction_df = (\n",
    "    test_df\n",
    "    .merge(input_dataset_df[['content_id', 'declined_reason']])\n",
    ")\n",
    "prediction_df['y_pred'] = predicted_classes\n",
    "\n",
    "prediction_df.head()"
   ]
  },
  {
   "cell_type": "markdown",
   "metadata": {
    "id": "M1vTx-vvD9Vq"
   },
   "source": [
    "Посмотрим на accuracy - как часто предсказанный класс отличается от истинного"
   ]
  },
  {
   "cell_type": "code",
   "execution_count": 22,
   "metadata": {
    "colab": {
     "base_uri": "https://localhost:8080/"
    },
    "id": "RMIqagYlONnn",
    "outputId": "53077ab2-9908-480a-91b5-0c660f23f380"
   },
   "outputs": [
    {
     "name": "stdout",
     "output_type": "stream",
     "text": [
      "politics_religion: rows 3049, accuracy = 0.44, f1_score = 0.61\n",
      "racism: rows 1122, accuracy = 0.26, f1_score = 0.41\n",
      "lgbt_woman_jokes: rows 875, accuracy = 0.32, f1_score = 0.49\n",
      "not_safe_for_work: rows 743, accuracy = 0.05, f1_score = 0.09\n",
      "Political_Lite: rows 619, accuracy = 0.27, f1_score = 0.43\n",
      "tragedy_death_gore_injuries: rows 555, accuracy = 0.12, f1_score = 0.21\n",
      "watermark: rows 406, accuracy = 0.17, f1_score = 0.30\n",
      "call_to_harm: rows 379, accuracy = 0.06, f1_score = 0.12\n",
      "nudity_censored_genitals: rows 273, accuracy = 0.05, f1_score = 0.10\n",
      "moderation_mistake: rows 179, accuracy = 0.11, f1_score = 0.19\n",
      "clickbait: rows 138, accuracy = 0.07, f1_score = 0.12\n",
      "pedo: rows 136, accuracy = 0.12, f1_score = 0.22\n",
      "disabilities: rows 61, accuracy = 0.00, f1_score = 0.00\n",
      "bodily_fluids: rows 58, accuracy = 0.00, f1_score = 0.00\n",
      "school_shooting_fights: rows 29, accuracy = 0.07, f1_score = 0.13\n",
      "drugs: rows 26, accuracy = 0.08, f1_score = 0.14\n",
      "pepe: rows 12, accuracy = 0.17, f1_score = 0.29\n",
      "pity: rows 6, accuracy = 0.00, f1_score = 0.00\n"
     ]
    }
   ],
   "source": [
    "reason_accuracy = []\n",
    "for reason in prediction_df['declined_reason'].value_counts().keys().to_list():\n",
    "  filtered_df = prediction_df[prediction_df['declined_reason']==reason]\n",
    "  print(\n",
    "      '%s: rows %d, accuracy = %.2f, f1_score = %.2f' % (\n",
    "      reason,\n",
    "      filtered_df.shape[0],\n",
    "      accuracy_score(filtered_df.y_pred, filtered_df.y),\n",
    "      f1_score(filtered_df.y_pred, filtered_df.y),\n",
    "  ))\n",
    "  reason_accuracy.append((reason, accuracy_score(filtered_df.y_pred, filtered_df.y)))"
   ]
  },
  {
   "cell_type": "markdown",
   "metadata": {
    "id": "NyvJDuGEUWzX"
   },
   "source": [
    "В табличном виде неудобно смотреть, применяем визуализацию"
   ]
  },
  {
   "cell_type": "code",
   "execution_count": 23,
   "metadata": {
    "colab": {
     "base_uri": "https://localhost:8080/",
     "height": 651
    },
    "id": "WdDekZBHOlHC",
    "outputId": "f5dac2cc-c6e4-46de-a719-18b270394394"
   },
   "outputs": [
    {
     "data": {
      "text/plain": [
       "<Axes: xlabel='reason'>"
      ]
     },
     "execution_count": 23,
     "metadata": {},
     "output_type": "execute_result"
    },
    {
     "data": {
      "image/png": "[encoded data removed]",
      "text/plain": [
       "<Figure size 640x480 with 1 Axes>"
      ]
     },
     "metadata": {},
     "output_type": "display_data"
    }
   ],
   "source": [
    "from operator import itemgetter\n",
    "\n",
    "res =   (\n",
    "    pd.DataFrame(\n",
    "        sorted(reason_accuracy, key=itemgetter(1), reverse = True),\n",
    "        columns=['reason', 'accuracy']\n",
    "    )\n",
    ")\n",
    "res.plot(kind='bar', x='reason', y='accuracy')"
   ]
  },
  {
   "cell_type": "code",
   "execution_count": 24,
   "metadata": {
    "colab": {
     "base_uri": "https://localhost:8080/",
     "height": 206
    },
    "id": "LsKZzspJHS9h",
    "outputId": "c5af9ccd-ef65-4094-c4d5-328c947c1024"
   },
   "outputs": [
    {
     "data": {
      "text/html": [
       "<div>\n",
       "<style scoped>\n",
       "    .dataframe tbody tr th:only-of-type {\n",
       "        vertical-align: middle;\n",
       "    }\n",
       "\n",
       "    .dataframe tbody tr th {\n",
       "        vertical-align: top;\n",
       "    }\n",
       "\n",
       "    .dataframe thead th {\n",
       "        text-align: right;\n",
       "    }\n",
       "</style>\n",
       "<table border=\"1\" class=\"dataframe\">\n",
       "  <thead>\n",
       "    <tr style=\"text-align: right;\">\n",
       "      <th></th>\n",
       "      <th>reason</th>\n",
       "      <th>accuracy</th>\n",
       "    </tr>\n",
       "  </thead>\n",
       "  <tbody>\n",
       "    <tr>\n",
       "      <th>17</th>\n",
       "      <td>pity</td>\n",
       "      <td>0.000000</td>\n",
       "    </tr>\n",
       "    <tr>\n",
       "      <th>15</th>\n",
       "      <td>disabilities</td>\n",
       "      <td>0.000000</td>\n",
       "    </tr>\n",
       "    <tr>\n",
       "      <th>16</th>\n",
       "      <td>bodily_fluids</td>\n",
       "      <td>0.000000</td>\n",
       "    </tr>\n",
       "    <tr>\n",
       "      <th>14</th>\n",
       "      <td>not_safe_for_work</td>\n",
       "      <td>0.047106</td>\n",
       "    </tr>\n",
       "    <tr>\n",
       "      <th>13</th>\n",
       "      <td>nudity_censored_genitals</td>\n",
       "      <td>0.054945</td>\n",
       "    </tr>\n",
       "  </tbody>\n",
       "</table>\n",
       "</div>"
      ],
      "text/plain": [
       "                      reason  accuracy\n",
       "17                      pity  0.000000\n",
       "15              disabilities  0.000000\n",
       "16             bodily_fluids  0.000000\n",
       "14         not_safe_for_work  0.047106\n",
       "13  nudity_censored_genitals  0.054945"
      ]
     },
     "execution_count": 24,
     "metadata": {},
     "output_type": "execute_result"
    }
   ],
   "source": [
    "res.sort_values(by='accuracy').head()"
   ]
  },
  {
   "cell_type": "markdown",
   "metadata": {
    "id": "7VGViILwYHN8"
   },
   "source": [
    "Выявили категории, с которыми плохо справляется модель\n",
    "\n",
    "* `nudity_censored_genitals`\n",
    "* `school_shooting_fights`\n",
    "* `not_safe_for_work`\n",
    "* `bodily_fluids`\n",
    "* `pity`\n",
    "\n",
    "Скорее всего несколько категорий по тексту предсказывать не получится - для этих категорий нужны какие-то картиночные фичи. Поэтому для улучшения качества мы можем пока удалить эти категории из разметки, раз уже текущее пространство фичей не позволяет качественно детектировать эти категории."
   ]
  },
  {
   "cell_type": "code",
   "execution_count": 25,
   "metadata": {
    "colab": {
     "base_uri": "https://localhost:8080/",
     "height": 224
    },
    "id": "555V2wUbPuFa",
    "outputId": "dd60f705-ff25-4011-ab33-396caa407529"
   },
   "outputs": [
    {
     "name": "stdout",
     "output_type": "stream",
     "text": [
      "Positive target share 0.2486\n"
     ]
    },
    {
     "data": {
      "text/html": [
       "<div>\n",
       "<style scoped>\n",
       "    .dataframe tbody tr th:only-of-type {\n",
       "        vertical-align: middle;\n",
       "    }\n",
       "\n",
       "    .dataframe tbody tr th {\n",
       "        vertical-align: top;\n",
       "    }\n",
       "\n",
       "    .dataframe thead th {\n",
       "        text-align: right;\n",
       "    }\n",
       "</style>\n",
       "<table border=\"1\" class=\"dataframe\">\n",
       "  <thead>\n",
       "    <tr style=\"text-align: right;\">\n",
       "      <th></th>\n",
       "      <th>content_id</th>\n",
       "      <th>y</th>\n",
       "    </tr>\n",
       "  </thead>\n",
       "  <tbody>\n",
       "    <tr>\n",
       "      <th>67349</th>\n",
       "      <td>sfZdagt</td>\n",
       "      <td>0.0</td>\n",
       "    </tr>\n",
       "    <tr>\n",
       "      <th>37512</th>\n",
       "      <td>CHYhLCR</td>\n",
       "      <td>0.0</td>\n",
       "    </tr>\n",
       "    <tr>\n",
       "      <th>33377</th>\n",
       "      <td>igkedJZ</td>\n",
       "      <td>0.0</td>\n",
       "    </tr>\n",
       "    <tr>\n",
       "      <th>4060</th>\n",
       "      <td>ynUnOAq</td>\n",
       "      <td>0.0</td>\n",
       "    </tr>\n",
       "    <tr>\n",
       "      <th>69273</th>\n",
       "      <td>QHiGVqX</td>\n",
       "      <td>0.0</td>\n",
       "    </tr>\n",
       "  </tbody>\n",
       "</table>\n",
       "</div>"
      ],
      "text/plain": [
       "      content_id    y\n",
       "67349    sfZdagt  0.0\n",
       "37512    CHYhLCR  0.0\n",
       "33377    igkedJZ  0.0\n",
       "4060     ynUnOAq  0.0\n",
       "69273    QHiGVqX  0.0"
      ]
     },
     "execution_count": 25,
     "metadata": {},
     "output_type": "execute_result"
    }
   ],
   "source": [
    "non_prediction_declined_reason = res.sort_values(by='accuracy').head(5)['reason'].to_list()\n",
    "\n",
    "input_dataset_df.loc[\n",
    "    input_dataset_df['declined_reason'].isin(non_prediction_declined_reason), 'featured_approval_content_declined'\n",
    "] = 0.0\n",
    "\n",
    "# т.к. таргет поменялся, нужно повторное разбиение\n",
    "train_df, test_df = split_dataset(input_dataset_df)\n",
    "\n",
    "train_df.head()"
   ]
  },
  {
   "cell_type": "markdown",
   "metadata": {
    "id": "OasIr9RWceYj"
   },
   "source": [
    "Прогоним ещё раз пайплайн\n",
    "\n",
    "* трансформация текста\n",
    "* пресказание\n",
    "* проверка качества"
   ]
  },
  {
   "cell_type": "code",
   "execution_count": 26,
   "metadata": {
    "colab": {
     "base_uri": "https://localhost:8080/"
    },
    "id": "LSo86CZGP2hr",
    "outputId": "7b462193-a2cc-45af-f048-db59d6e4e7ab"
   },
   "outputs": [
    {
     "name": "stderr",
     "output_type": "stream",
     "text": [
      "/var/folders/bd/bg2rzktd7cl7_q4_11m4dx7r0000gn/T/ipykernel_27662/3339000853.py:10: FutureWarning: A value is trying to be set on a copy of a DataFrame or Series through chained assignment using an inplace method.\n",
      "The behavior will change in pandas 3.0. This inplace method will never work because the intermediate object on which we are setting values always behaves as a copy.\n",
      "\n",
      "For example, when doing 'df[col].method(value, inplace=True)', try using 'df.method({col: value}, inplace=True)' or df[col] = df[col].method(value) instead, to perform the operation inplace on the original object.\n",
      "\n",
      "\n",
      "  ocr_dataset_train.text.fillna('', inplace=True)\n",
      "/var/folders/bd/bg2rzktd7cl7_q4_11m4dx7r0000gn/T/ipykernel_27662/3339000853.py:10: FutureWarning: A value is trying to be set on a copy of a DataFrame or Series through chained assignment using an inplace method.\n",
      "The behavior will change in pandas 3.0. This inplace method will never work because the intermediate object on which we are setting values always behaves as a copy.\n",
      "\n",
      "For example, when doing 'df[col].method(value, inplace=True)', try using 'df.method({col: value}, inplace=True)' or df[col] = df[col].method(value) instead, to perform the operation inplace on the original object.\n",
      "\n",
      "\n",
      "  ocr_dataset_train.text.fillna('', inplace=True)\n"
     ]
    },
    {
     "name": "stdout",
     "output_type": "stream",
     "text": [
      "Предсказания построены, accuracy = 0.79, f1_score = 0.41, recall_score = 0.70\n"
     ]
    }
   ],
   "source": [
    "train_ocr_dataset = prepare_tfidf(train_df, ocr_dataset_df, vectorizer)\n",
    "\n",
    "test_ocr_dataset = prepare_tfidf(test_df, ocr_dataset_df, vectorizer)\n",
    "log_reg = LogisticRegression(max_iter=500).fit(train_ocr_dataset, train_df['y'])\n",
    "\n",
    "predicted_classes = log_reg.predict(test_ocr_dataset)\n",
    "print(\n",
    "    'Предсказания построены, accuracy = %.2f, f1_score = %.2f, recall_score = %.2f' %(\n",
    "    accuracy_score(predicted_classes, test_df.y),\n",
    "    f1_score(predicted_classes, test_df.y),\n",
    "    recall_score(predicted_classes, test_df.y),\n",
    "))"
   ]
  },
  {
   "cell_type": "markdown",
   "metadata": {
    "id": "vVNekmiTei1c"
   },
   "source": [
    "Итого было\n",
    "```\n",
    "Предсказания построены, accuracy = 0.75, f1_score = 0.39, recall_score = 0.69\n",
    "```\n",
    "\n",
    "Стало\n",
    "```\n",
    "Предсказания построены, accuracy = 0.79, f1_score = 0.41, recall_score = 0.68\n",
    "```\n",
    "\n",
    "Мы увеличили качество модели, но это не совсем честное улучшение, т.к. мы просто перенеcли часть проблем в будущее (когда появится новые фичи)"
   ]
  },
  {
   "cell_type": "markdown",
   "metadata": {
    "id": "mHdJ6YJLe9mB"
   },
   "source": [
    "### Улучшаем препроцессинг данных\n",
    "\n",
    "Входные данные максимально влияют на качество алгоритма (вспоминаем принцип garbage in - garbage out).\n",
    "\n",
    "Наши входные данные - результат tf-idf, давайте попробуем улучшить из за счет фильтрации \"мусора\""
   ]
  },
  {
   "cell_type": "code",
   "execution_count": 27,
   "metadata": {
    "colab": {
     "base_uri": "https://localhost:8080/"
    },
    "id": "EpHfuAeFeiGX",
    "outputId": "9b116ab0-7e95-4544-dd0e-e7e857c99740"
   },
   "outputs": [
    {
     "name": "stdout",
     "output_type": "stream",
     "text": [
      "['000' '0000' '00000' '000000' '0000000' '000000000' '000000000133'\n",
      " '0000000h' '0000001650' '0000001750']\n"
     ]
    }
   ],
   "source": [
    "print(vectorizer.get_feature_names_out()[:10])"
   ]
  },
  {
   "cell_type": "markdown",
   "metadata": {
    "id": "BrEakbtBfyeW"
   },
   "source": [
    "Видно, что входные данные достаточно \"грязные\" воспользуемся небольшой эвристикой для улучшения датасета"
   ]
  },
  {
   "cell_type": "code",
   "execution_count": 28,
   "metadata": {
    "colab": {
     "base_uri": "https://localhost:8080/"
    },
    "id": "IxW4TrwfeCO3",
    "outputId": "808013a2-cfca-4684-cdbf-dba55f0f3e06"
   },
   "outputs": [
    {
     "name": "stdout",
     "output_type": "stream",
     "text": [
      "['000' '100' '1000' '101' '102' '103' '108' '109' '110' '120']\n"
     ]
    }
   ],
   "source": [
    "MIN_DOCS = 0.0005  # эвристика\n",
    "better_vectorizer = TfidfVectorizer(\n",
    "    analyzer='word', lowercase=True, token_pattern=r'\\b[\\w\\d]{3,}\\b', min_df=MIN_DOCS\n",
    ")\n",
    "\n",
    "ocr_features = better_vectorizer.fit(ocr_dataset_df.text.values)\n",
    "\n",
    "print(better_vectorizer.get_feature_names_out()[:10])"
   ]
  },
  {
   "cell_type": "markdown",
   "metadata": {
    "id": "LDwKW834gz2K"
   },
   "source": [
    "Кажется, данные стали более \"чистыми\". Проверим, как отреагировали метрики"
   ]
  },
  {
   "cell_type": "code",
   "execution_count": 29,
   "metadata": {
    "colab": {
     "base_uri": "https://localhost:8080/"
    },
    "id": "Y5igoI_XgoIp",
    "outputId": "48220d29-3eab-45d1-a8d9-44ca895293a2"
   },
   "outputs": [
    {
     "name": "stderr",
     "output_type": "stream",
     "text": [
      "/var/folders/bd/bg2rzktd7cl7_q4_11m4dx7r0000gn/T/ipykernel_27662/3339000853.py:10: FutureWarning: A value is trying to be set on a copy of a DataFrame or Series through chained assignment using an inplace method.\n",
      "The behavior will change in pandas 3.0. This inplace method will never work because the intermediate object on which we are setting values always behaves as a copy.\n",
      "\n",
      "For example, when doing 'df[col].method(value, inplace=True)', try using 'df.method({col: value}, inplace=True)' or df[col] = df[col].method(value) instead, to perform the operation inplace on the original object.\n",
      "\n",
      "\n",
      "  ocr_dataset_train.text.fillna('', inplace=True)\n"
     ]
    },
    {
     "name": "stdout",
     "output_type": "stream",
     "text": [
      "Предсказания построены, accuracy = 0.79, f1_score = 0.43, recall_score = 0.69\n"
     ]
    },
    {
     "name": "stderr",
     "output_type": "stream",
     "text": [
      "/var/folders/bd/bg2rzktd7cl7_q4_11m4dx7r0000gn/T/ipykernel_27662/3339000853.py:10: FutureWarning: A value is trying to be set on a copy of a DataFrame or Series through chained assignment using an inplace method.\n",
      "The behavior will change in pandas 3.0. This inplace method will never work because the intermediate object on which we are setting values always behaves as a copy.\n",
      "\n",
      "For example, when doing 'df[col].method(value, inplace=True)', try using 'df.method({col: value}, inplace=True)' or df[col] = df[col].method(value) instead, to perform the operation inplace on the original object.\n",
      "\n",
      "\n",
      "  ocr_dataset_train.text.fillna('', inplace=True)\n"
     ]
    }
   ],
   "source": [
    "train_ocr_dataset = prepare_tfidf(train_df, ocr_dataset_df, better_vectorizer)\n",
    "log_reg = LogisticRegression(max_iter=500).fit(train_ocr_dataset, train_df['y'])\n",
    "\n",
    "test_ocr_dataset = prepare_tfidf(test_df, ocr_dataset_df, better_vectorizer)\n",
    "\n",
    "predicted_classes = log_reg.predict(test_ocr_dataset)\n",
    "print(\n",
    "    'Предсказания построены, accuracy = %.2f, f1_score = %.2f, recall_score = %.2f' % (\n",
    "    accuracy_score(predicted_classes, test_df.y),\n",
    "    f1_score(predicted_classes, test_df.y),\n",
    "    recall_score(predicted_classes, test_df.y),\n",
    "))"
   ]
  },
  {
   "cell_type": "markdown",
   "metadata": {
    "id": "49ChKE2ehYTh"
   },
   "source": [
    "Итого было\n",
    "```\n",
    "Предсказания построены, accuracy = 0.79, f1_score = 0.41, recall_score = 0.68\n",
    "```\n",
    "\n",
    "Стало\n",
    "```\n",
    "Предсказания построены, accuracy = 0.79, f1_score = 0.42, recall_score = 0.66\n",
    "```\n",
    "\n",
    "Отлично, удалось ещё немного улучшить качество.\n",
    "\n",
    "Подбирать параметры трансформации данных с помощью эвристик не самая хаорошая затея, лучше всего подбирать параметры данных на кросс-валидации"
   ]
  },
  {
   "cell_type": "markdown",
   "metadata": {
    "id": "BO59bw57ixk3"
   },
   "source": [
    "### Строим более сложную модель\n",
    "\n",
    "Итого у нас есть \"слабая\" модель которую хотим как-то улучшать. Из предыдущих лекций мы знаем, что наиболее сильная модель - это бустинг. Как с помощью бустинга улучшить результаты логистической регрегрессии? Можно построить двууровневую модель, такой приём называется стакинг (от англ. to stack)\n",
    "\n",
    "* на первом уровне делаем предсказание\n",
    "* на втором уровне используем предсказание как фичу\n",
    "\n",
    "Для этого нужно разбить тренировочный сет ещё на две части: часть используем для обучения логической регрессии, часть для бустинга\n",
    "\n",
    "Такая сложная схема нужна т.к. и логистическая регрессия, и бустинг обучаются на одном и том же таргете, поэтому если сначала обучить на всём датасете логистическую регрессию, а потом использовать её предсказания как вичу то получим т.н. лик в данных: ситуация, когда на этапе тренировки бустинга во входных данных уже будет присутствовать информация о таргете\n",
    "\n",
    "[two_level.png](https://drive.google.com/file/d/1NAHmUQDqfKXhFShn2-HbNcF1zNGJax2s/view?usp=sharing)"
   ]
  },
  {
   "cell_type": "code",
   "execution_count": 30,
   "metadata": {
    "colab": {
     "base_uri": "https://localhost:8080/"
    },
    "id": "B4_jkt7ThJGB",
    "outputId": "87525485-28c2-4b37-e57e-87e80a2df171"
   },
   "outputs": [
    {
     "name": "stdout",
     "output_type": "stream",
     "text": [
      "Positive target share 0.2486\n"
     ]
    }
   ],
   "source": [
    "def split_dataset_two_level(source_df: pd.DataFrame, valid_train_set_size = 0.3, boosting_train_set_size=0.6):\n",
    "  y = source_df.featured_approval_content_declined\n",
    "\n",
    "  content_ids = source_df['content_id']\n",
    "\n",
    "  x_train, x_test_ids, y_train, y_test = (\n",
    "      train_test_split(\n",
    "          content_ids, y, test_size=valid_train_set_size, random_state=RANDOM_SEED, stratify=y\n",
    "      )\n",
    "  )\n",
    "\n",
    "  x_train_logreg_ids, x_train_boosting_ids, y_train_logreg, y_train_boosting = (\n",
    "      train_test_split(\n",
    "          x_train, y_train, test_size=boosting_train_set_size, random_state=RANDOM_SEED, stratify=y_train\n",
    "      )\n",
    "  )\n",
    "\n",
    "  test_df = pd.DataFrame({'content_id': x_test_ids, 'y': y_test})\n",
    "  train_logreg_df = pd.DataFrame({'content_id': x_train_logreg_ids, 'y': y_train_logreg})\n",
    "  train_boosting_df = pd.DataFrame({'content_id': x_train_boosting_ids, 'y': y_train_boosting})\n",
    "  print('Positive target share %.4f' %  train_df['y'].value_counts(normalize=True)[1])\n",
    "\n",
    "  return train_logreg_df, train_boosting_df, test_df\n",
    "\n",
    "train_logreg_df, train_boosting_df, test_df = split_dataset_two_level(input_dataset_df)"
   ]
  },
  {
   "cell_type": "markdown",
   "metadata": {
    "id": "QptTdOppxzzQ"
   },
   "source": [
    "Для тренировки логистической регрессии получается меньше данных, проверим как это отразится на качестве"
   ]
  },
  {
   "cell_type": "code",
   "execution_count": 31,
   "metadata": {
    "colab": {
     "base_uri": "https://localhost:8080/"
    },
    "id": "v99pIK4QhWys",
    "outputId": "e7c8a87c-68a9-4c1c-8122-e0dccb3976bd"
   },
   "outputs": [
    {
     "name": "stderr",
     "output_type": "stream",
     "text": [
      "/var/folders/bd/bg2rzktd7cl7_q4_11m4dx7r0000gn/T/ipykernel_27662/3339000853.py:10: FutureWarning: A value is trying to be set on a copy of a DataFrame or Series through chained assignment using an inplace method.\n",
      "The behavior will change in pandas 3.0. This inplace method will never work because the intermediate object on which we are setting values always behaves as a copy.\n",
      "\n",
      "For example, when doing 'df[col].method(value, inplace=True)', try using 'df.method({col: value}, inplace=True)' or df[col] = df[col].method(value) instead, to perform the operation inplace on the original object.\n",
      "\n",
      "\n",
      "  ocr_dataset_train.text.fillna('', inplace=True)\n"
     ]
    },
    {
     "name": "stdout",
     "output_type": "stream",
     "text": [
      "Предсказания построены, accuracy = 0.79, f1_score = 0.38, recall_score = 0.67\n"
     ]
    },
    {
     "name": "stderr",
     "output_type": "stream",
     "text": [
      "/var/folders/bd/bg2rzktd7cl7_q4_11m4dx7r0000gn/T/ipykernel_27662/3339000853.py:10: FutureWarning: A value is trying to be set on a copy of a DataFrame or Series through chained assignment using an inplace method.\n",
      "The behavior will change in pandas 3.0. This inplace method will never work because the intermediate object on which we are setting values always behaves as a copy.\n",
      "\n",
      "For example, when doing 'df[col].method(value, inplace=True)', try using 'df.method({col: value}, inplace=True)' or df[col] = df[col].method(value) instead, to perform the operation inplace on the original object.\n",
      "\n",
      "\n",
      "  ocr_dataset_train.text.fillna('', inplace=True)\n"
     ]
    }
   ],
   "source": [
    "train_ocr_dataset = prepare_tfidf(train_logreg_df, ocr_dataset_df, better_vectorizer)\n",
    "log_reg = LogisticRegression(max_iter=500).fit(train_ocr_dataset, train_logreg_df['y'])\n",
    "\n",
    "test_ocr_dataset = prepare_tfidf(test_df, ocr_dataset_df, better_vectorizer)\n",
    "\n",
    "predicted_classes = log_reg.predict(test_ocr_dataset)\n",
    "print(\n",
    "    'Предсказания построены, accuracy = %.2f, f1_score = %.2f, recall_score = %.2f' % (\n",
    "    accuracy_score(predicted_classes, test_df.y),\n",
    "    f1_score(predicted_classes, test_df.y),\n",
    "    recall_score(predicted_classes, test_df.y),\n",
    "))"
   ]
  },
  {
   "cell_type": "markdown",
   "metadata": {
    "id": "UhjXGx2NyS2E"
   },
   "source": [
    "Пока качество на тестовом датасете низкое - посмотрим, сможет ли бустинг исправить ситуацию"
   ]
  },
  {
   "cell_type": "code",
   "execution_count": 32,
   "metadata": {
    "colab": {
     "base_uri": "https://localhost:8080/"
    },
    "id": "RbHr1lhsyEDM",
    "outputId": "caa3e8b6-a0e2-4797-fa04-1629b9c57fec"
   },
   "outputs": [
    {
     "name": "stderr",
     "output_type": "stream",
     "text": [
      "/var/folders/bd/bg2rzktd7cl7_q4_11m4dx7r0000gn/T/ipykernel_27662/3339000853.py:10: FutureWarning: A value is trying to be set on a copy of a DataFrame or Series through chained assignment using an inplace method.\n",
      "The behavior will change in pandas 3.0. This inplace method will never work because the intermediate object on which we are setting values always behaves as a copy.\n",
      "\n",
      "For example, when doing 'df[col].method(value, inplace=True)', try using 'df.method({col: value}, inplace=True)' or df[col] = df[col].method(value) instead, to perform the operation inplace on the original object.\n",
      "\n",
      "\n",
      "  ocr_dataset_train.text.fillna('', inplace=True)\n"
     ]
    },
    {
     "name": "stdout",
     "output_type": "stream",
     "text": [
      "in coll approved, 0.00181 NULL\n",
      "in coll hard_shotted, 0.00181 NULL\n",
      "in coll soft_shotted, 0.00181 NULL\n",
      "Train started\n"
     ]
    },
    {
     "name": "stderr",
     "output_type": "stream",
     "text": [
      "/var/folders/bd/bg2rzktd7cl7_q4_11m4dx7r0000gn/T/ipykernel_27662/1583225085.py:34: FutureWarning: A value is trying to be set on a copy of a DataFrame or Series through chained assignment using an inplace method.\n",
      "The behavior will change in pandas 3.0. This inplace method will never work because the intermediate object on which we are setting values always behaves as a copy.\n",
      "\n",
      "For example, when doing 'df[col].method(value, inplace=True)', try using 'df.method({col: value}, inplace=True)' or df[col] = df[col].method(value) instead, to perform the operation inplace on the original object.\n",
      "\n",
      "\n",
      "  boosting_df[col].fillna(value=0.0, inplace=True)\n"
     ]
    },
    {
     "name": "stdout",
     "output_type": "stream",
     "text": [
      "Train finished\n"
     ]
    }
   ],
   "source": [
    "from sklearn.ensemble import GradientBoostingClassifier\n",
    "\n",
    "def prepare_boosting(content_df, wide_dataset, text_df, tfidf_vectorizer, log_reg):\n",
    "  target = content_df['y']\n",
    "  boosting_df = content_df.drop('y', axis=1)\n",
    "\n",
    "  x_tfidf_train = prepare_tfidf(content_df, text_df, tfidf_vectorizer)\n",
    "\n",
    "  boosting_df = (\n",
    "      boosting_df\n",
    "      .merge(wide_dataset, how='inner')\n",
    "  )\n",
    "\n",
    "  boosting_df['action_rate'] = (\n",
    "        boosting_df['num_positve_actions'] / boosting_df['num_views']\n",
    "  )\n",
    "  boosting_df['comment_rate'] = (\n",
    "          boosting_df['num_comments'] / boosting_df['num_views']\n",
    "  )\n",
    "\n",
    "  boosting_df['logreg_positive_proba'] = log_reg.predict_proba(x_tfidf_train)[:, 1]\n",
    "  BOOSTING_COLUMNS = [\n",
    "    'action_rate', 'comment_rate', 'logreg_positive_proba',\n",
    "    'approved', 'hard_shotted', 'soft_shotted'\n",
    "  ]\n",
    "\n",
    "  # важная история про заполнение пропусков\n",
    "  for col in BOOSTING_COLUMNS:\n",
    "      try:\n",
    "          print(\n",
    "              'in coll %s, %.5f NULL' % (\n",
    "              col, boosting_df[col].isna().value_counts(normalize=True).loc[True]\n",
    "          ))\n",
    "          boosting_df[col].fillna(value=0.0, inplace=True)\n",
    "      except KeyError:\n",
    "          pass\n",
    "\n",
    "  return boosting_df[BOOSTING_COLUMNS], target\n",
    "\n",
    "boosting_df, target = prepare_boosting(\n",
    "    train_boosting_df, input_dataset_df, ocr_dataset_df, better_vectorizer, log_reg\n",
    ")\n",
    "\n",
    "print('Train started')\n",
    "gb_clf = GradientBoostingClassifier().fit(boosting_df, target)\n",
    "print('Train finished')"
   ]
  },
  {
   "cell_type": "markdown",
   "metadata": {
    "id": "VuK-YYMPAG0W"
   },
   "source": [
    "Формируем тестовый датасет и проверяем качество модели"
   ]
  },
  {
   "cell_type": "code",
   "execution_count": 33,
   "metadata": {
    "colab": {
     "base_uri": "https://localhost:8080/"
    },
    "id": "Wtoeb15eAEya",
    "outputId": "e29ca7ed-50f7-463d-84f7-bfd9d35572d4"
   },
   "outputs": [
    {
     "name": "stdout",
     "output_type": "stream",
     "text": [
      "in coll approved, 0.00147 NULL\n",
      "in coll hard_shotted, 0.00147 NULL\n",
      "in coll soft_shotted, 0.00147 NULL\n",
      "Предсказания построены, accuracy = 0.79, f1_score = 0.44, recall_score = 0.65\n"
     ]
    },
    {
     "name": "stderr",
     "output_type": "stream",
     "text": [
      "/var/folders/bd/bg2rzktd7cl7_q4_11m4dx7r0000gn/T/ipykernel_27662/3339000853.py:10: FutureWarning: A value is trying to be set on a copy of a DataFrame or Series through chained assignment using an inplace method.\n",
      "The behavior will change in pandas 3.0. This inplace method will never work because the intermediate object on which we are setting values always behaves as a copy.\n",
      "\n",
      "For example, when doing 'df[col].method(value, inplace=True)', try using 'df.method({col: value}, inplace=True)' or df[col] = df[col].method(value) instead, to perform the operation inplace on the original object.\n",
      "\n",
      "\n",
      "  ocr_dataset_train.text.fillna('', inplace=True)\n",
      "/var/folders/bd/bg2rzktd7cl7_q4_11m4dx7r0000gn/T/ipykernel_27662/1583225085.py:34: FutureWarning: A value is trying to be set on a copy of a DataFrame or Series through chained assignment using an inplace method.\n",
      "The behavior will change in pandas 3.0. This inplace method will never work because the intermediate object on which we are setting values always behaves as a copy.\n",
      "\n",
      "For example, when doing 'df[col].method(value, inplace=True)', try using 'df.method({col: value}, inplace=True)' or df[col] = df[col].method(value) instead, to perform the operation inplace on the original object.\n",
      "\n",
      "\n",
      "  boosting_df[col].fillna(value=0.0, inplace=True)\n"
     ]
    }
   ],
   "source": [
    "test_boosting_df, test_target = prepare_boosting(\n",
    "    test_df, input_dataset_df, ocr_dataset_df, better_vectorizer, log_reg\n",
    ")\n",
    "\n",
    "predicted_classes = gb_clf.predict(test_boosting_df)\n",
    "\n",
    "print(\n",
    "    'Предсказания построены, accuracy = %.2f, f1_score = %.2f, recall_score = %.2f' % (\n",
    "    accuracy_score(predicted_classes, test_df.y),\n",
    "    f1_score(predicted_classes, test_df.y),\n",
    "    recall_score(predicted_classes, test_df.y),\n",
    "))"
   ]
  },
  {
   "cell_type": "markdown",
   "metadata": {
    "id": "hG-UQ--tGONw"
   },
   "source": [
    "Это лучшее качество которое получили на логистической регрессии\n",
    "\n",
    "```\n",
    "Предсказания построены, accuracy = 0.78, f1_score = 0.38, recall_score = 0.66\n",
    "```\n",
    "\n",
    "Для двухуровневой модели с бустингом\n",
    "```\n",
    "Предсказания построены, accuracy = 0.79, f1_score = 0.45, recall_score = 0.63\n",
    "```\n",
    "\n",
    "У нас незначительно \"просел\" recall зато увеличился F1-скор\n",
    "\n",
    "Можно продолжать улучшать дальше:\n",
    "* закопаться в `feature engineering`\n",
    "* лучше очистить входные данные\n",
    "* потюнить параметры моделей"
   ]
  },
  {
   "cell_type": "code",
   "execution_count": 34,
   "metadata": {
    "colab": {
     "base_uri": "https://localhost:8080/",
     "height": 606
    },
    "id": "oIbSmmZcAVkX",
    "outputId": "0734a0c7-d0b9-4931-acd2-0cf1364b2a25"
   },
   "outputs": [
    {
     "data": {
      "text/plain": [
       "<Axes: xlabel='feature'>"
      ]
     },
     "execution_count": 34,
     "metadata": {},
     "output_type": "execute_result"
    },
    {
     "data": {
      "image/png": "[encoded data removed]",
      "text/plain": [
       "<Figure size 640x480 with 1 Axes>"
      ]
     },
     "metadata": {},
     "output_type": "display_data"
    }
   ],
   "source": [
    "from operator import itemgetter\n",
    "\n",
    "res =   (\n",
    "    pd.DataFrame(\n",
    "        sorted(zip(test_boosting_df.columns, gb_clf.feature_importances_), key=itemgetter(1), reverse = True),\n",
    "        columns=['feature', 'importance']\n",
    "    )\n",
    ")\n",
    "res.plot(kind='bar', x='feature', y='importance')"
   ]
  },
  {
   "cell_type": "code",
   "execution_count": 30,
   "metadata": {
    "id": "cllWjH0bLEKF"
   },
   "outputs": [],
   "source": []
  }
 ],
 "metadata": {
  "colab": {
   "provenance": []
  },
  "kernelspec": {
   "display_name": "Python 3 (ipykernel)",
   "language": "python",
   "name": "python3"
  },
  "language_info": {
   "codemirror_mode": {
    "name": "ipython",
    "version": 3
   },
   "file_extension": ".py",
   "mimetype": "text/x-python",
   "name": "python",
   "nbconvert_exporter": "python",
   "pygments_lexer": "ipython3",
   "version": "3.13.5"
  }
 },
 "nbformat": 4,
 "nbformat_minor": 4
}
