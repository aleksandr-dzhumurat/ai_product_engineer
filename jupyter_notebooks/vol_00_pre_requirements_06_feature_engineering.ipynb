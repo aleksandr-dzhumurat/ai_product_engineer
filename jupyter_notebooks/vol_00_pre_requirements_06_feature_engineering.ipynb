{
 "cells": [
  {
   "cell_type": "markdown",
   "metadata": {
    "id": "ngEBDlPa5Q2Y"
   },
   "source": [
    "# Feature egineering\n",
    "\n",
    "Мы узнали про достаточное количество алгоритмов машинного обучения для решения  задач классификации и решрессии, и про то, как оценивать качество алгоритмов\n",
    "\n",
    "Следующий шаг - научиться настраивать алгоритмы для получения максимального качества\n",
    "\n",
    "В задачи unsupervised и supervised объединяет общий элемент - матрица *объекты* $\\times$ *признаки* размерность $m \\times n$, где $m$ - число объектов, а $n$ - число признаков\n",
    "\n",
    "$$\n",
    "X = \\left[\n",
    "\\begin{array}{cccc}\n",
    "x_{11} & x_{12} & \\ldots & x_{14} \\\\\n",
    "x_{21} & x_{22} & \\ldots & x_{14} \\\\\n",
    "\\ldots & \\ldots & \\ldots & \\ldots \\\\\n",
    "x_{m1} & x_{m2} & \\ldots & x_{mn} \\\\\n",
    "\\end{array}\n",
    "\\right]\n",
    "$$\n",
    "\n",
    "Таким образом, каждый объект описан признаками(фичами) в количестве $n$ штук: $x^i = (x_1, x_2, \\ldots, , x_n)$. Мы уже знаем, что фичи бывают численными и категориальными.\n"
   ]
  },
  {
   "cell_type": "code",
   "execution_count": 1,
   "metadata": {
    "id": "NFkdRiFT5RLv"
   },
   "outputs": [
    {
     "name": "stdout",
     "output_type": "stream",
     "text": [
      "Содержимое директории /opt/ml/data: ['client_segmentation.csv', 'messages.db', 'labeled_data_corpus.csv', 'content_description.csv', 'nltk_data']\n"
     ]
    }
   ],
   "source": [
    "import os\n",
    "import shutil\n",
    "\n",
    "import numpy as np\n",
    "\n",
    "run_env = os.getenv('RUN_ENV', 'COLLAB')\n",
    "if run_env == 'COLLAB':\n",
    "  from google.colab import drive\n",
    "  ROOT_DIR = '/content/drive'\n",
    "  drive.mount(ROOT_DIR)\n",
    "  print('Google drive connected')\n",
    "  DRIVE_DATA_DIR = 'ml_course_data'\n",
    "  root_data_dir = os.path.join(ROOT_DIR, 'MyDrive', DRIVE_DATA_DIR)\n",
    "else:\n",
    "  root_data_dir = os.getenv('DATA_DIR', '/srv/data')\n",
    "\n",
    "if not os.path.exists(root_data_dir):\n",
    "  raise RuntimeError('Отсутствует директория с данными')\n",
    "else:\n",
    "  print('Содержимое директории %s: %s' % (root_data_dir, os.listdir(root_data_dir)[:5]))"
   ]
  },
  {
   "cell_type": "markdown",
   "metadata": {},
   "source": [
    "Фичи можно назвать \"топливом\" алгоритмов машинного обучения. Хорошие фичи позволят повысить качество решения задачи, примерно как на картинке\n",
    "\n",
    "![ml_blackbox](img/ml_blackbox.png)\n",
    "\n",
    "\n",
    "В алгоритмах машинного обучения и анализа данных часто встречаются требования к фичам входных данных\n",
    "* распределение данных\n",
    "* масштаб\n",
    "\n",
    "Перед аналитиком часто стоит задача трансформации (преобразования) входных данных таким образом, чтобы удовлетворить условиям алгоритма. Игнорирование требований к входным данным приводит некорректным выводам, это основной принцип ML (и не только ML): **garbage in - garbage out**. Процесс \"придумывания\" фичей называется feature engineering\n",
    "\n",
    "В этом занятии поговорим о том, как трансформировать исходный csv файл в набор фичей"
   ]
  },
  {
   "cell_type": "markdown",
   "metadata": {},
   "source": [
    "# Визуализации данных\n",
    "\n",
    "Это первый этап исследования - оценить визуально, с чем предстоит работать\n",
    "\n",
    "Чаще всего используется визуализация `scatter plot`"
   ]
  },
  {
   "cell_type": "code",
   "execution_count": 2,
   "metadata": {},
   "outputs": [
    {
     "name": "stdout",
     "output_type": "stream",
     "text": [
      "num rows 100000\n"
     ]
    },
    {
     "data": {
      "text/html": [
       "<div>\n",
       "<style scoped>\n",
       "    .dataframe tbody tr th:only-of-type {\n",
       "        vertical-align: middle;\n",
       "    }\n",
       "\n",
       "    .dataframe tbody tr th {\n",
       "        vertical-align: top;\n",
       "    }\n",
       "\n",
       "    .dataframe thead th {\n",
       "        text-align: right;\n",
       "    }\n",
       "</style>\n",
       "<table border=\"1\" class=\"dataframe\">\n",
       "  <thead>\n",
       "    <tr style=\"text-align: right;\">\n",
       "      <th></th>\n",
       "      <th>content_id</th>\n",
       "      <th>num_views</th>\n",
       "      <th>num_positve_actions</th>\n",
       "      <th>num_smiles</th>\n",
       "      <th>num_saves</th>\n",
       "      <th>num_shares</th>\n",
       "      <th>num_repubs</th>\n",
       "      <th>num_comments</th>\n",
       "      <th>num_days_on_service</th>\n",
       "      <th>featured_approval_content_declined</th>\n",
       "      <th>declined_reason</th>\n",
       "      <th>best_class</th>\n",
       "      <th>approved</th>\n",
       "      <th>hard_shotted</th>\n",
       "      <th>soft_shotted</th>\n",
       "    </tr>\n",
       "  </thead>\n",
       "  <tbody>\n",
       "    <tr>\n",
       "      <th>0</th>\n",
       "      <td>IzpfrtD</td>\n",
       "      <td>127770</td>\n",
       "      <td>12725</td>\n",
       "      <td>12455</td>\n",
       "      <td>168</td>\n",
       "      <td>141</td>\n",
       "      <td>556</td>\n",
       "      <td>1784</td>\n",
       "      <td>25</td>\n",
       "      <td>0.0</td>\n",
       "      <td>NaN</td>\n",
       "      <td>NaN</td>\n",
       "      <td>NaN</td>\n",
       "      <td>NaN</td>\n",
       "      <td>NaN</td>\n",
       "    </tr>\n",
       "    <tr>\n",
       "      <th>1</th>\n",
       "      <td>FibDyiC</td>\n",
       "      <td>86090</td>\n",
       "      <td>6180</td>\n",
       "      <td>5704</td>\n",
       "      <td>173</td>\n",
       "      <td>383</td>\n",
       "      <td>289</td>\n",
       "      <td>6016</td>\n",
       "      <td>5</td>\n",
       "      <td>1.0</td>\n",
       "      <td>racism</td>\n",
       "      <td>approved</td>\n",
       "      <td>0.908444</td>\n",
       "      <td>0.033255</td>\n",
       "      <td>0.058302</td>\n",
       "    </tr>\n",
       "    <tr>\n",
       "      <th>2</th>\n",
       "      <td>LUkUBEm</td>\n",
       "      <td>78286</td>\n",
       "      <td>5228</td>\n",
       "      <td>4944</td>\n",
       "      <td>376</td>\n",
       "      <td>29</td>\n",
       "      <td>162</td>\n",
       "      <td>165</td>\n",
       "      <td>6</td>\n",
       "      <td>0.0</td>\n",
       "      <td>NaN</td>\n",
       "      <td>approved</td>\n",
       "      <td>0.994736</td>\n",
       "      <td>0.002517</td>\n",
       "      <td>0.002748</td>\n",
       "    </tr>\n",
       "    <tr>\n",
       "      <th>3</th>\n",
       "      <td>zPrfyiz</td>\n",
       "      <td>76931</td>\n",
       "      <td>5664</td>\n",
       "      <td>5506</td>\n",
       "      <td>231</td>\n",
       "      <td>8</td>\n",
       "      <td>151</td>\n",
       "      <td>395</td>\n",
       "      <td>5</td>\n",
       "      <td>1.0</td>\n",
       "      <td>politics_religion</td>\n",
       "      <td>approved</td>\n",
       "      <td>0.987415</td>\n",
       "      <td>0.008829</td>\n",
       "      <td>0.003755</td>\n",
       "    </tr>\n",
       "    <tr>\n",
       "      <th>4</th>\n",
       "      <td>eNAyJnh</td>\n",
       "      <td>72021</td>\n",
       "      <td>6148</td>\n",
       "      <td>5844</td>\n",
       "      <td>453</td>\n",
       "      <td>16</td>\n",
       "      <td>261</td>\n",
       "      <td>113</td>\n",
       "      <td>5</td>\n",
       "      <td>1.0</td>\n",
       "      <td>racism</td>\n",
       "      <td>approved</td>\n",
       "      <td>0.989974</td>\n",
       "      <td>0.005185</td>\n",
       "      <td>0.004841</td>\n",
       "    </tr>\n",
       "  </tbody>\n",
       "</table>\n",
       "</div>"
      ],
      "text/plain": [
       "  content_id  num_views  num_positve_actions  num_smiles  num_saves  \\\n",
       "0    IzpfrtD     127770                12725       12455        168   \n",
       "1    FibDyiC      86090                 6180        5704        173   \n",
       "2    LUkUBEm      78286                 5228        4944        376   \n",
       "3    zPrfyiz      76931                 5664        5506        231   \n",
       "4    eNAyJnh      72021                 6148        5844        453   \n",
       "\n",
       "   num_shares  num_repubs  num_comments  num_days_on_service  \\\n",
       "0         141         556          1784                   25   \n",
       "1         383         289          6016                    5   \n",
       "2          29         162           165                    6   \n",
       "3           8         151           395                    5   \n",
       "4          16         261           113                    5   \n",
       "\n",
       "   featured_approval_content_declined    declined_reason best_class  approved  \\\n",
       "0                                 0.0                NaN        NaN       NaN   \n",
       "1                                 1.0             racism   approved  0.908444   \n",
       "2                                 0.0                NaN   approved  0.994736   \n",
       "3                                 1.0  politics_religion   approved  0.987415   \n",
       "4                                 1.0             racism   approved  0.989974   \n",
       "\n",
       "   hard_shotted  soft_shotted  \n",
       "0           NaN           NaN  \n",
       "1      0.033255      0.058302  \n",
       "2      0.002517      0.002748  \n",
       "3      0.008829      0.003755  \n",
       "4      0.005185      0.004841  "
      ]
     },
     "execution_count": 2,
     "metadata": {},
     "output_type": "execute_result"
    }
   ],
   "source": [
    "import pandas as pd\n",
    "\n",
    "input_dataset_df = pd.read_csv(os.path.join(root_data_dir, 'final_dataset.zip'), compression='zip')\n",
    "print('num rows %d' % input_dataset_df.shape[0])\n",
    "\n",
    "input_dataset_df.head()"
   ]
  },
  {
   "cell_type": "code",
   "execution_count": 3,
   "metadata": {},
   "outputs": [
    {
     "data": {
      "text/plain": [
       "<matplotlib.collections.PathCollection at 0xffff46578e90>"
      ]
     },
     "execution_count": 3,
     "metadata": {},
     "output_type": "execute_result"
    },
    {
     "data": {
      "image/png": "[encoded data removed]",
      "text/plain": [
       "<Figure size 640x480 with 1 Axes>"
      ]
     },
     "metadata": {},
     "output_type": "display_data"
    }
   ],
   "source": [
    "from matplotlib import pyplot as plt\n",
    "\n",
    "plt.scatter(input_dataset_df['num_comments'], input_dataset_df['num_shares'])"
   ]
  },
  {
   "cell_type": "markdown",
   "metadata": {},
   "source": [
    "Выглядит странно, как будто есть небольшое количество данных, больших по модулю и большое количество данных около-нулевых - такие большие элементы называют выбросами (outliers)\n",
    "\n",
    "Строим гистограмму"
   ]
  },
  {
   "cell_type": "code",
   "execution_count": 4,
   "metadata": {},
   "outputs": [
    {
     "data": {
      "image/png": "[encoded data removed]",
      "text/plain": [
       "<Figure size 640x480 with 1 Axes>"
      ]
     },
     "metadata": {},
     "output_type": "display_data"
    }
   ],
   "source": [
    "plt.hist(input_dataset_df['num_comments'], bins=10, density=True)\n",
    "plt.show()"
   ]
  },
  {
   "cell_type": "markdown",
   "metadata": {},
   "source": [
    "Выглядит странно, как будто есть небольшое количество данных, больших по модулю и большое количество данных около-нулевых - такие большие элементы называют выбросами (outliers)\n",
    "\n",
    "Выявляем выбросы"
   ]
  },
  {
   "cell_type": "code",
   "execution_count": 5,
   "metadata": {},
   "outputs": [
    {
     "data": {
      "text/plain": [
       "count    100000.000000\n",
       "mean          3.785670\n",
       "std          26.087273\n",
       "min           0.000000\n",
       "50%           1.000000\n",
       "95%          12.000000\n",
       "99%          52.000000\n",
       "max        6016.000000\n",
       "Name: num_comments, dtype: float64"
      ]
     },
     "execution_count": 5,
     "metadata": {},
     "output_type": "execute_result"
    }
   ],
   "source": [
    "input_dataset_df['num_comments'].describe(percentiles=[.5, .95, .99])"
   ]
  },
  {
   "cell_type": "markdown",
   "metadata": {},
   "source": [
    "Как ещё проверить на выбросы? С помощью `.boxplot()`\n"
   ]
  },
  {
   "cell_type": "code",
   "execution_count": 6,
   "metadata": {},
   "outputs": [
    {
     "data": {
      "text/plain": [
       "<Axes: >"
      ]
     },
     "execution_count": 6,
     "metadata": {},
     "output_type": "execute_result"
    },
    {
     "data": {
      "image/png": "[encoded data removed]",
      "text/plain": [
       "<Figure size 640x480 with 1 Axes>"
      ]
     },
     "metadata": {},
     "output_type": "display_data"
    }
   ],
   "source": [
    "\n",
    "input_dataset_df[['num_comments']].boxplot()\n"
   ]
  },
  {
   "cell_type": "markdown",
   "metadata": {},
   "source": [
    "\n",
    "Переделываем гистограмму (без выбросов)\n"
   ]
  },
  {
   "cell_type": "code",
   "execution_count": 7,
   "metadata": {},
   "outputs": [
    {
     "data": {
      "image/png": "[encoded data removed]",
      "text/plain": [
       "<Figure size 640x480 with 1 Axes>"
      ]
     },
     "metadata": {},
     "output_type": "display_data"
    }
   ],
   "source": [
    "\n",
    "plt.hist(\n",
    "    input_dataset_df[input_dataset_df['num_comments'] < 12]['num_comments'],\n",
    "    bins=10, density=True\n",
    ")\n",
    "plt.show()"
   ]
  },
  {
   "cell_type": "markdown",
   "metadata": {},
   "source": [
    "Получили т.н. распределение с \"тяжёлым хвостом\" - разберёмся как трансформировать эти данные в следующем разделе\n",
    "\n",
    "### Пропущенные значения\n",
    "\n",
    "В препроцессинге есть ещё один важный этап - работа с пропусками"
   ]
  },
  {
   "cell_type": "code",
   "execution_count": 8,
   "metadata": {},
   "outputs": [
    {
     "name": "stdout",
     "output_type": "stream",
     "text": [
      "Доля пропущенных значений 0.7111\n"
     ]
    }
   ],
   "source": [
    "null_values_share = (\n",
    "    input_dataset_df['declined_reason']\n",
    "    .isna()\n",
    "    .value_counts(normalize=True)\n",
    "    .to_dict()\n",
    "    .get(True, 0.0)\n",
    ")\n",
    "print('Доля пропущенных значений %.4f' % null_values_share)"
   ]
  },
  {
   "cell_type": "markdown",
   "metadata": {},
   "source": [
    "Заменяем `NULL` на пустую строку"
   ]
  },
  {
   "cell_type": "code",
   "execution_count": 9,
   "metadata": {},
   "outputs": [
    {
     "name": "stdout",
     "output_type": "stream",
     "text": [
      "Доля пропущенных значений %.4f 0.0\n"
     ]
    },
    {
     "name": "stderr",
     "output_type": "stream",
     "text": [
      "/tmp/ipykernel_85/2059529957.py:1: FutureWarning: A value is trying to be set on a copy of a DataFrame or Series through chained assignment using an inplace method.\n",
      "The behavior will change in pandas 3.0. This inplace method will never work because the intermediate object on which we are setting values always behaves as a copy.\n",
      "\n",
      "For example, when doing 'df[col].method(value, inplace=True)', try using 'df.method({col: value}, inplace=True)' or df[col] = df[col].method(value) instead, to perform the operation inplace on the original object.\n",
      "\n",
      "\n",
      "  input_dataset_df['declined_reason'].fillna(value='Value missed', inplace=True)\n"
     ]
    },
    {
     "data": {
      "text/plain": [
       "declined_reason\n",
       "Value missed                   71113\n",
       "politics_religion              10102\n",
       "racism                          3753\n",
       "lgbt_woman_jokes                2898\n",
       "not_safe_for_work               2619\n",
       "Political_Lite                  1957\n",
       "tragedy_death_gore_injuries     1810\n",
       "watermark                       1305\n",
       "call_to_harm                    1211\n",
       "nudity_censored_genitals        1002\n",
       "moderation_mistake               696\n",
       "pedo                             460\n",
       "clickbait                        442\n",
       "disabilities                     213\n",
       "bodily_fluids                    178\n",
       "drugs                            106\n",
       "school_shooting_fights            81\n",
       "pepe                              38\n",
       "pity                              15\n",
       "jailbait                           1\n",
       "Name: count, dtype: int64"
      ]
     },
     "execution_count": 9,
     "metadata": {},
     "output_type": "execute_result"
    }
   ],
   "source": [
    "input_dataset_df['declined_reason'].fillna(value='Value missed', inplace=True)\n",
    "\n",
    "null_values_share = (\n",
    "    input_dataset_df['declined_reason']\n",
    "    .isna()\n",
    "    .value_counts(normalize=True)\n",
    "    .to_dict()\n",
    "    .get(True, 0.0)\n",
    ")\n",
    "print('Доля пропущенных значений %.4f', null_values_share)\n",
    "input_dataset_df['declined_reason'].value_counts()"
   ]
  },
  {
   "cell_type": "markdown",
   "metadata": {},
   "source": [
    "### Кодирование категориальных фичей\n",
    "\n",
    "Уже встречали этот метод в занятии по линейной регрессии - кодируем категориальные фичи"
   ]
  },
  {
   "cell_type": "code",
   "execution_count": 10,
   "metadata": {},
   "outputs": [
    {
     "data": {
      "text/plain": [
       "1     71113\n",
       "15    10102\n",
       "16     3753\n",
       "8      2898\n",
       "10     2619\n",
       "Name: count, dtype: int64"
      ]
     },
     "execution_count": 10,
     "metadata": {},
     "output_type": "execute_result"
    }
   ],
   "source": [
    "from sklearn.preprocessing import LabelEncoder\n",
    "\n",
    "le = LabelEncoder()\n",
    "\n",
    "le_transformed = le.fit_transform(input_dataset_df['declined_reason'])\n",
    "\n",
    "pd.Series(le_transformed).value_counts().head()"
   ]
  },
  {
   "cell_type": "markdown",
   "metadata": {},
   "source": [
    "Этот метод чаще используется для анонимизации. Другой (более подходящий для линейных моделей) вид энкодинга - `OneHotEncoding`"
   ]
  },
  {
   "cell_type": "code",
   "execution_count": 11,
   "metadata": {},
   "outputs": [
    {
     "data": {
      "text/plain": [
       "<Compressed Sparse Row sparse matrix of dtype 'float64'\n",
       "\twith 100000 stored elements and shape (100000, 20)>"
      ]
     },
     "execution_count": 11,
     "metadata": {},
     "output_type": "execute_result"
    }
   ],
   "source": [
    "from sklearn.preprocessing import OneHotEncoder\n",
    "\n",
    "ohe = OneHotEncoder()\n",
    "\n",
    "ohe_transformed = ohe.fit_transform(input_dataset_df[['declined_reason']])\n",
    "\n",
    "ohe_transformed"
   ]
  },
  {
   "cell_type": "markdown",
   "metadata": {},
   "source": [
    "\n",
    "мы визуализировали и пофильтровали данные - можно приступать к трансформациям!"
   ]
  },
  {
   "cell_type": "markdown",
   "metadata": {},
   "source": [
    "### Трансформации непрерывных фичей\n",
    "\n",
    "В задачах линейной регрессии такие трансформации особенно важны - чтобы линейная регрессия хорошо работала должны выполняться следующие требования:\n",
    "\n",
    "* остатки регрессии должны иметь нормальное (гауссово) распределение\n",
    "* все фичи должны быть примерно в одном масшабе\n",
    "\n",
    "При подготовке данных для обучения линейной регрессии применяются следющие приемы: масштабирование и нормализация.\n",
    "\n",
    "\n",
    "Существуют чисто инженерные приёмы первичной обработки данных, например для борьбы с большими по модулю значениями обычно используют т.н. *Монотонные преобразования*:\n",
    "\n",
    "* логарифмирование np.log\n",
    "* извлечение квадратного корня np.sqrt\n",
    "\n",
    "Оба этих преобразования являются *монотонными*, т.е. они меняют абсолютные значения, но сохраняют порядок величин.\n",
    "\n",
    "#### z-score\n",
    "\n",
    "Более интересный метод - это Standart Scaling или Z-score normalization. Это преобразование позволяет \"сгладить\" данные, избавить их от выбросов. Для этого есть инструмента [есть реализация в sklearn](https://scikit-learn.org/stable/modules/generated/sklearn.preprocessing.StandardScaler.html)\n"
   ]
  },
  {
   "cell_type": "code",
   "execution_count": 12,
   "metadata": {},
   "outputs": [
    {
     "data": {
      "text/plain": [
       "[]"
      ]
     },
     "execution_count": 12,
     "metadata": {},
     "output_type": "execute_result"
    },
    {
     "data": {
      "image/png": "[encoded data removed]",
      "text/plain": [
       "<Figure size 640x480 with 1 Axes>"
      ]
     },
     "metadata": {},
     "output_type": "display_data"
    }
   ],
   "source": [
    "from sklearn.preprocessing import StandardScaler\n",
    "\n",
    "transformed_z_score = (\n",
    "    StandardScaler()\n",
    "    .fit_transform(\n",
    "        input_dataset_df[input_dataset_df['num_comments'] < 12]['num_comments']\n",
    "        .values.reshape(-1, 1)\n",
    "    )\n",
    ")\n",
    "\n",
    "plt.hist(transformed_z_score, bins=10, density=True)\n",
    "plt.plot()"
   ]
  },
  {
   "cell_type": "code",
   "execution_count": 13,
   "metadata": {},
   "outputs": [
    {
     "name": "stderr",
     "output_type": "stream",
     "text": [
      "/tmp/ipykernel_85/1794593884.py:1: RuntimeWarning: invalid value encountered in log\n",
      "  plt.hist(np.log(transformed_z_score), bins=5, density=True)\n"
     ]
    },
    {
     "data": {
      "text/plain": [
       "[]"
      ]
     },
     "execution_count": 13,
     "metadata": {},
     "output_type": "execute_result"
    },
    {
     "data": {
      "image/png": "[encoded data removed]",
      "text/plain": [
       "<Figure size 640x480 with 1 Axes>"
      ]
     },
     "metadata": {},
     "output_type": "display_data"
    }
   ],
   "source": [
    "plt.hist(np.log(transformed_z_score), bins=5, density=True)\n",
    "plt.plot()"
   ]
  },
  {
   "cell_type": "markdown",
   "metadata": {},
   "source": [
    "Получили какой-то пропуск в данных, почему так вышло?"
   ]
  },
  {
   "cell_type": "code",
   "execution_count": 14,
   "metadata": {},
   "outputs": [
    {
     "name": "stdout",
     "output_type": "stream",
     "text": [
      "range=[-0.8310, 4.0445]\n"
     ]
    },
    {
     "name": "stderr",
     "output_type": "stream",
     "text": [
      "/tmp/ipykernel_85/833478351.py:6: RuntimeWarning: invalid value encountered in log\n",
      "  carrier, np.log(carrier)\n"
     ]
    },
    {
     "data": {
      "text/plain": [
       "[<matplotlib.lines.Line2D at 0xffff25e19490>]"
      ]
     },
     "execution_count": 14,
     "metadata": {},
     "output_type": "execute_result"
    },
    {
     "data": {
      "image/png": "[encoded data removed]",
      "text/plain": [
       "<Figure size 640x480 with 1 Axes>"
      ]
     },
     "metadata": {},
     "output_type": "display_data"
    }
   ],
   "source": [
    "print('range=[%.4f, %.4f]' % (transformed_z_score.min(), transformed_z_score.max()))\n",
    "\n",
    "carrier = np.linspace(transformed_z_score.min(), transformed_z_score.max())\n",
    "\n",
    "plt.plot(\n",
    "    carrier, np.log(carrier)\n",
    ")"
   ]
  },
  {
   "cell_type": "markdown",
   "metadata": {},
   "source": [
    "По графику видно, логарифм для отрицательных чисел не определён - тут нужно применить другое масштабирование, например min-max.\n",
    "\n",
    "Получается, что логарифмирование (и извлечение квадратного корня нельзя применять после вычисления z-score)\n",
    "\n",
    "Нужно выбрать один из вариантов\n",
    "* сначала логарифмировать, а потом применить z-score\n",
    "* только z-score\n",
    "* только логарифмирование"
   ]
  },
  {
   "cell_type": "code",
   "execution_count": 15,
   "metadata": {},
   "outputs": [
    {
     "data": {
      "image/png": "[encoded data removed]",
      "text/plain": [
       "<Figure size 640x480 with 1 Axes>"
      ]
     },
     "metadata": {},
     "output_type": "display_data"
    }
   ],
   "source": [
    "from sklearn.preprocessing import MinMaxScaler\n",
    "\n",
    "transformed_z_score = (\n",
    "    MinMaxScaler()\n",
    "    .fit_transform(\n",
    "        input_dataset_df[input_dataset_df['num_comments'] < 12]['num_comments']\n",
    "        .values.reshape(-1, 1)\n",
    "    )\n",
    ")\n",
    "\n",
    "plt.hist(transformed_z_score, bins=10, density=True)\n",
    "plt.plot()\n",
    "plt.show()"
   ]
  },
  {
   "cell_type": "markdown",
   "metadata": {},
   "source": [
    "Пример трансформации на другом датасете"
   ]
  },
  {
   "cell_type": "code",
   "execution_count": 16,
   "metadata": {},
   "outputs": [
    {
     "name": "stdout",
     "output_type": "stream",
     "text": [
      "         Код                                               Тема  \\\n",
      "0  HYDRA-535  Пробрасывать пользовательское распределение pa...   \n",
      "1  HYDRA-534   Гибридный рекомендатель с multi-channel feedback   \n",
      "2  HYDRA-532         Джоба в дженкинсе для расчёта динамики РВП   \n",
      "\n",
      "       Компонент  Затрачено в часах  \n",
      "0        echidna                  1  \n",
      "1          hydra                  3  \n",
      "2  hydramatrices                  2  \n",
      "Сырой датасет: [ 1.  3.  2.  4.  2. 10.  2.  5.  2.  2.  1.  7.  5.  2.  5. 16. 10.  3.\n",
      " 24.]\n",
      "stat = 0.726285458186394, p-value=0.00011633852003649601\n",
      "\n"
     ]
    }
   ],
   "source": [
    "import numpy as np\n",
    "import pandas as pd\n",
    "from sklearn.preprocessing import StandardScaler\n",
    "from scipy.stats import shapiro\n",
    "\n",
    "data = pd.read_csv(os.path.join(root_data_dir, 'task.csv'))\n",
    "print(data.head(3))\n",
    "\n",
    "raw_data = data[data.columns.values[-1]].values.astype(np.float32)\n",
    "print(\"Сырой датасет: %s\" % raw_data)\n",
    "print(\"stat = %s, p-value=%s\\n\" % shapiro(raw_data) )"
   ]
  },
  {
   "cell_type": "markdown",
   "metadata": {},
   "source": [
    "Проводим трансформацию фичи (масштабирование)"
   ]
  },
  {
   "cell_type": "code",
   "execution_count": 17,
   "metadata": {},
   "outputs": [
    {
     "name": "stdout",
     "output_type": "stream",
     "text": [
      "z-transform датасет: [-0.7986022  -0.4497874  -0.6241948  -0.27538007 -0.6241948   0.7710641\n",
      " -0.6241948  -0.10097269 -0.6241948  -0.6241948  -0.7986022   0.24784204\n",
      " -0.10097269 -0.6241948  -0.10097269  1.8175085   0.7710641  -0.4497874\n",
      "  3.2127674 ]\n",
      "stat = 0.7262854631758969, p-value=0.00011633853674374469\n",
      "\n",
      "Проверка на нормальность p_1 > p_2: True\n"
     ]
    }
   ],
   "source": [
    "transformed_data = StandardScaler().fit_transform(raw_data.reshape(-1, 1)).reshape(-1)\n",
    "print(\"z-transform датасет: %s\" % transformed_data)\n",
    "print(\"stat = %s, p-value=%s\\n\" % shapiro(transformed_data) )\n",
    "\n",
    "print(\"Проверка на нормальность p_1 > p_2: %s\" % (shapiro(transformed_data)[1] > shapiro(raw_data)[1]))"
   ]
  },
  {
   "cell_type": "markdown",
   "metadata": {},
   "source": [
    "Тест Шапиро-Уилка показывает, что гипотеза о нормальном распределении данных стала чуть более вероятной, чем до \"Z-score\" нормализации.\n",
    "\n",
    "#### min-max normalization\n",
    "\n",
    "Другой распространённый метод называется MinMax Scaling. Этот метод переносит все точки на отрезок [0-1]\n",
    "$$\n",
    "X_{scaled} = \\frac{X - X_{\\min}}{X_{\\max} - X_{\\min}}\n",
    "$$"
   ]
  },
  {
   "cell_type": "code",
   "execution_count": 18,
   "metadata": {},
   "outputs": [
    {
     "name": "stdout",
     "output_type": "stream",
     "text": [
      "Сырой датасет: [ 1.  3.  2.  4.  2. 10.  2.  5.  2.  2.  1.  7.  5.  2.  5. 16. 10.  3.\n",
      " 24.]\n",
      "Min-Max scale датасет: [0.         0.08695652 0.04347826 0.13043478 0.04347826 0.39130437\n",
      " 0.04347826 0.17391305 0.04347826 0.04347826 0.         0.2608696\n",
      " 0.17391305 0.04347826 0.17391305 0.65217394 0.39130437 0.08695652\n",
      " 1.        ]\n"
     ]
    }
   ],
   "source": [
    "from sklearn.preprocessing import MinMaxScaler\n",
    "\n",
    "\n",
    "print(\"Сырой датасет: %s\" % raw_data)\n",
    "\n",
    "transformed_data = MinMaxScaler().fit_transform(raw_data.reshape(-1, 1)).reshape(-1)\n",
    "\n",
    "print(\"Min-Max scale датасет: %s\" % transformed_data)"
   ]
  },
  {
   "cell_type": "markdown",
   "metadata": {},
   "source": [
    "### Трансформации категориальных фичей\n",
    "\n",
    "Категориальная переменная - это набор меток (классов). В приложенном датасете по задам столбец `Компонент` - категориальная фича, а `Затрачено в часах` - непрерывная\n",
    "\n",
    "Посчитаем количество различных меток в поле \"Компонент\""
   ]
  },
  {
   "cell_type": "code",
   "execution_count": 19,
   "metadata": {},
   "outputs": [
    {
     "name": "stdout",
     "output_type": "stream",
     "text": [
      "{'hydra': 11, 'hydramatrices': 3, 'hydramagrices': 3, 'echidna': 1, 'hydra_utils': 1}\n"
     ]
    },
    {
     "data": {
      "text/html": [
       "<div>\n",
       "<style scoped>\n",
       "    .dataframe tbody tr th:only-of-type {\n",
       "        vertical-align: middle;\n",
       "    }\n",
       "\n",
       "    .dataframe tbody tr th {\n",
       "        vertical-align: top;\n",
       "    }\n",
       "\n",
       "    .dataframe thead th {\n",
       "        text-align: right;\n",
       "    }\n",
       "</style>\n",
       "<table border=\"1\" class=\"dataframe\">\n",
       "  <thead>\n",
       "    <tr style=\"text-align: right;\">\n",
       "      <th></th>\n",
       "      <th>Код</th>\n",
       "      <th>Тема</th>\n",
       "      <th>Компонент</th>\n",
       "      <th>Затрачено в часах</th>\n",
       "    </tr>\n",
       "  </thead>\n",
       "  <tbody>\n",
       "    <tr>\n",
       "      <th>0</th>\n",
       "      <td>HYDRA-535</td>\n",
       "      <td>Пробрасывать пользовательское распределение pa...</td>\n",
       "      <td>echidna</td>\n",
       "      <td>1</td>\n",
       "    </tr>\n",
       "    <tr>\n",
       "      <th>1</th>\n",
       "      <td>HYDRA-534</td>\n",
       "      <td>Гибридный рекомендатель с multi-channel feedback</td>\n",
       "      <td>hydra</td>\n",
       "      <td>3</td>\n",
       "    </tr>\n",
       "    <tr>\n",
       "      <th>2</th>\n",
       "      <td>HYDRA-532</td>\n",
       "      <td>Джоба в дженкинсе для расчёта динамики РВП</td>\n",
       "      <td>hydramatrices</td>\n",
       "      <td>2</td>\n",
       "    </tr>\n",
       "    <tr>\n",
       "      <th>3</th>\n",
       "      <td>HYDRA-531</td>\n",
       "      <td>Интеграция Hydra с Gamora</td>\n",
       "      <td>hydramagrices</td>\n",
       "      <td>4</td>\n",
       "    </tr>\n",
       "    <tr>\n",
       "      <th>4</th>\n",
       "      <td>HYDRA-530</td>\n",
       "      <td>Тестируем интеграцию с Jira</td>\n",
       "      <td>hydra</td>\n",
       "      <td>2</td>\n",
       "    </tr>\n",
       "  </tbody>\n",
       "</table>\n",
       "</div>"
      ],
      "text/plain": [
       "         Код                                               Тема  \\\n",
       "0  HYDRA-535  Пробрасывать пользовательское распределение pa...   \n",
       "1  HYDRA-534   Гибридный рекомендатель с multi-channel feedback   \n",
       "2  HYDRA-532         Джоба в дженкинсе для расчёта динамики РВП   \n",
       "3  HYDRA-531                          Интеграция Hydra с Gamora   \n",
       "4  HYDRA-530                        Тестируем интеграцию с Jira   \n",
       "\n",
       "       Компонент  Затрачено в часах  \n",
       "0        echidna                  1  \n",
       "1          hydra                  3  \n",
       "2  hydramatrices                  2  \n",
       "3  hydramagrices                  4  \n",
       "4          hydra                  2  "
      ]
     },
     "execution_count": 19,
     "metadata": {},
     "output_type": "execute_result"
    }
   ],
   "source": [
    "import pandas as pd\n",
    "\n",
    "df = pd.read_csv(os.path.join(root_data_dir, 'task.csv'))\n",
    "print(df['Компонент'].value_counts().to_dict())\n",
    "df.head()"
   ]
  },
  {
   "cell_type": "markdown",
   "metadata": {},
   "source": [
    "#### Кодирование One-Hot\n",
    "\n",
    "Кодируем вектор, где все нули и одна единица"
   ]
  },
  {
   "cell_type": "code",
   "execution_count": 20,
   "metadata": {},
   "outputs": [
    {
     "data": {
      "text/plain": [
       "array([[1., 0., 0., 0., 0.],\n",
       "       [0., 1., 0., 0., 0.],\n",
       "       [0., 0., 0., 0., 1.],\n",
       "       [0., 0., 0., 1., 0.],\n",
       "       [0., 1., 0., 0., 0.],\n",
       "       [0., 1., 0., 0., 0.],\n",
       "       [0., 1., 0., 0., 0.],\n",
       "       [0., 1., 0., 0., 0.],\n",
       "       [0., 1., 0., 0., 0.],\n",
       "       [0., 1., 0., 0., 0.],\n",
       "       [0., 0., 0., 0., 1.],\n",
       "       [0., 1., 0., 0., 0.],\n",
       "       [0., 0., 0., 1., 0.],\n",
       "       [0., 0., 0., 0., 1.],\n",
       "       [0., 1., 0., 0., 0.],\n",
       "       [0., 0., 1., 0., 0.],\n",
       "       [0., 1., 0., 0., 0.],\n",
       "       [0., 0., 0., 1., 0.],\n",
       "       [0., 1., 0., 0., 0.]])"
      ]
     },
     "execution_count": 20,
     "metadata": {},
     "output_type": "execute_result"
    }
   ],
   "source": [
    "from sklearn.preprocessing import OneHotEncoder\n",
    "\n",
    "ohe = OneHotEncoder(handle_unknown='ignore')\n",
    "\n",
    "one_hot_encoded = ohe.fit_transform(df[['Компонент']])\n",
    "\n",
    "one_hot_encoded.toarray()"
   ]
  },
  {
   "cell_type": "markdown",
   "metadata": {},
   "source": [
    "#### Hashing trick\n",
    "\n",
    "В случае, когда признаков слишком много, применяют хеширование\n",
    "\n"
   ]
  },
  {
   "cell_type": "code",
   "execution_count": 21,
   "metadata": {},
   "outputs": [
    {
     "name": "stdout",
     "output_type": "stream",
     "text": [
      "echidna -> 8\n",
      "hydra -> 9\n",
      "hydramatrices -> 5\n",
      "hydramagrices -> 0\n",
      "hydra_utils -> 1\n"
     ]
    }
   ],
   "source": [
    "for label in df['Компонент'].unique():\n",
    "    #print(label, '->', hash(label) % 8 )\n",
    "    print(label, '->', hash(label) % 12 )"
   ]
  },
  {
   "cell_type": "markdown",
   "metadata": {},
   "source": [
    "Премер хеширования (с формулами!) в [Лекциях от ВШЭ](https://github.com/esokolov/ml-course-hse/blob/master/2016-fall/lecture-notes/lecture06-linclass.pdf)\n",
    "\n",
    "Прекрасный разбор есть на хабре в статье от [ODS про feature engineering](https://habr.com/ru/company/ods/blog/326418/#rabota-s-kategorialnymi-priznakami-label-encoding-one-hot-encoding-hashing-trick)"
   ]
  },
  {
   "cell_type": "markdown",
   "metadata": {
    "id": "4k0dUSE08dMm"
   },
   "source": [
    "# Трансформации данных\n",
    "\n",
    "Получили т.н. распределение с \"тяжёлым хвостом\"\n",
    "\n",
    "Данные можно центрировать и снизить дисперсию - такое преобразование называется z-score"
   ]
  },
  {
   "cell_type": "code",
   "execution_count": 22,
   "metadata": {
    "id": "weuBfPJo6Xb5"
   },
   "outputs": [
    {
     "data": {
      "text/plain": [
       "[]"
      ]
     },
     "execution_count": 22,
     "metadata": {},
     "output_type": "execute_result"
    },
    {
     "data": {
      "image/png": "[encoded data removed]",
      "text/plain": [
       "<Figure size 640x480 with 1 Axes>"
      ]
     },
     "metadata": {},
     "output_type": "display_data"
    }
   ],
   "source": [
    "from sklearn.preprocessing import StandardScaler\n",
    "\n",
    "transformed_z_score = (\n",
    "    StandardScaler()\n",
    "    .fit_transform(\n",
    "        input_dataset_df[input_dataset_df['num_comments'] < 12]['num_comments']\n",
    "        .values.reshape(-1, 1)\n",
    "    )\n",
    ")\n",
    "\n",
    "plt.hist(transformed_z_score, bins=10, density=True)\n",
    "plt.plot()"
   ]
  },
  {
   "cell_type": "markdown",
   "metadata": {
    "id": "s6E68-bf-DNN"
   },
   "source": [
    "Можно ли применять логарифмирование всегда?\n",
    "\n",
    "Давайте попробуем"
   ]
  },
  {
   "cell_type": "code",
   "execution_count": 23,
   "metadata": {
    "id": "unI3zzJv6Xek"
   },
   "outputs": [
    {
     "name": "stderr",
     "output_type": "stream",
     "text": [
      "/tmp/ipykernel_85/1794593884.py:1: RuntimeWarning: invalid value encountered in log\n",
      "  plt.hist(np.log(transformed_z_score), bins=5, density=True)\n"
     ]
    },
    {
     "data": {
      "text/plain": [
       "[]"
      ]
     },
     "execution_count": 23,
     "metadata": {},
     "output_type": "execute_result"
    },
    {
     "data": {
      "image/png": "[encoded data removed]",
      "text/plain": [
       "<Figure size 640x480 with 1 Axes>"
      ]
     },
     "metadata": {},
     "output_type": "display_data"
    }
   ],
   "source": [
    "plt.hist(np.log(transformed_z_score), bins=5, density=True)\n",
    "plt.plot()"
   ]
  },
  {
   "cell_type": "markdown",
   "metadata": {
    "id": "O5owlyVQYnXm"
   },
   "source": [
    "Получили какой-то пропуск в данных, почему так вышло? Построим график логарифма для наглядности"
   ]
  },
  {
   "cell_type": "code",
   "execution_count": 24,
   "metadata": {
    "id": "PKTUVCec6Xhi"
   },
   "outputs": [
    {
     "name": "stdout",
     "output_type": "stream",
     "text": [
      "range=[-0.8310, 4.0445]\n"
     ]
    },
    {
     "name": "stderr",
     "output_type": "stream",
     "text": [
      "/tmp/ipykernel_85/833478351.py:6: RuntimeWarning: invalid value encountered in log\n",
      "  carrier, np.log(carrier)\n"
     ]
    },
    {
     "data": {
      "text/plain": [
       "[<matplotlib.lines.Line2D at 0xffff25c58170>]"
      ]
     },
     "execution_count": 24,
     "metadata": {},
     "output_type": "execute_result"
    },
    {
     "data": {
      "image/png": "[encoded data removed]",
      "text/plain": [
       "<Figure size 640x480 with 1 Axes>"
      ]
     },
     "metadata": {},
     "output_type": "display_data"
    }
   ],
   "source": [
    "print('range=[%.4f, %.4f]' % (transformed_z_score.min(), transformed_z_score.max()))\n",
    "\n",
    "carrier = np.linspace(transformed_z_score.min(), transformed_z_score.max())\n",
    "\n",
    "plt.plot(\n",
    "    carrier, np.log(carrier)\n",
    ")"
   ]
  },
  {
   "cell_type": "markdown",
   "metadata": {
    "id": "2NUqGpjPEWy7"
   },
   "source": [
    "Получается, в numpy логарифм для отрицательных чисел не определён - тут нужно применить другое масштабирование, например min-max.\n",
    "\n",
    "Получается, что логарифмирование (и извлечение квадратного корня нельзя применять после вычисления z-score)\n",
    "\n",
    "Нужно выбрать один из вариантов \n",
    "* сначала логарифмировать, а потом применить z-score\n",
    "* только z-score\n",
    "*только логарифмирование"
   ]
  },
  {
   "cell_type": "code",
   "execution_count": 25,
   "metadata": {
    "id": "k4U55F7cEyef"
   },
   "outputs": [
    {
     "data": {
      "image/png": "[encoded data removed]",
      "text/plain": [
       "<Figure size 640x480 with 1 Axes>"
      ]
     },
     "metadata": {},
     "output_type": "display_data"
    }
   ],
   "source": [
    "from sklearn.preprocessing import MinMaxScaler\n",
    "\n",
    "transformed_z_score = (\n",
    "    MinMaxScaler()\n",
    "    .fit_transform(\n",
    "        input_dataset_df[input_dataset_df['num_comments'] < 12]['num_comments']\n",
    "        .values.reshape(-1, 1)\n",
    "    )\n",
    ")\n",
    "\n",
    "plt.hist(transformed_z_score, bins=10, density=True)\n",
    "plt.plot()\n",
    "plt.show()"
   ]
  },
  {
   "cell_type": "markdown",
   "metadata": {
    "id": "B1d-xlayExRn"
   },
   "source": [
    "# Пропущенные значения\n",
    "\n",
    "Проверка на пропущенные значения"
   ]
  },
  {
   "cell_type": "code",
   "execution_count": 26,
   "metadata": {
    "id": "v80m2JgWFjh9"
   },
   "outputs": [
    {
     "name": "stdout",
     "output_type": "stream",
     "text": [
      "Доля пропущенных значений 0.0000\n"
     ]
    }
   ],
   "source": [
    "null_values_share = (\n",
    "    input_dataset_df['declined_reason']\n",
    "    .isna()\n",
    "    .value_counts(normalize=True)\n",
    "    .to_dict()\n",
    "    .get(True, 0.0)\n",
    ")\n",
    "print('Доля пропущенных значений %.4f' % null_values_share)"
   ]
  },
  {
   "cell_type": "markdown",
   "metadata": {
    "id": "dOBdNPk3HThE"
   },
   "source": [
    "Заменяем `NULL` на пустую строку"
   ]
  },
  {
   "cell_type": "code",
   "execution_count": 27,
   "metadata": {
    "id": "QD259jiuHaXC"
   },
   "outputs": [
    {
     "name": "stdout",
     "output_type": "stream",
     "text": [
      "Доля пропущенных значений 0.0000\n"
     ]
    }
   ],
   "source": [
    "input_dataset_df['declined_reason'].fillna(value='Value missed', inplace=True)\n",
    "\n",
    "null_values_share = (\n",
    "    input_dataset_df['declined_reason']\n",
    "    .isna()\n",
    "    .value_counts(normalize=True)\n",
    "    .to_dict()\n",
    "    .get(True, 0.0)\n",
    ")\n",
    "print('Доля пропущенных значений %.4f' % null_values_share)"
   ]
  },
  {
   "cell_type": "code",
   "execution_count": 28,
   "metadata": {
    "id": "boyihK3jhSts"
   },
   "outputs": [
    {
     "data": {
      "text/plain": [
       "declined_reason\n",
       "Value missed                   71113\n",
       "politics_religion              10102\n",
       "racism                          3753\n",
       "lgbt_woman_jokes                2898\n",
       "not_safe_for_work               2619\n",
       "Political_Lite                  1957\n",
       "tragedy_death_gore_injuries     1810\n",
       "watermark                       1305\n",
       "call_to_harm                    1211\n",
       "nudity_censored_genitals        1002\n",
       "moderation_mistake               696\n",
       "pedo                             460\n",
       "clickbait                        442\n",
       "disabilities                     213\n",
       "bodily_fluids                    178\n",
       "drugs                            106\n",
       "school_shooting_fights            81\n",
       "pepe                              38\n",
       "pity                              15\n",
       "jailbait                           1\n",
       "Name: count, dtype: int64"
      ]
     },
     "execution_count": 28,
     "metadata": {},
     "output_type": "execute_result"
    }
   ],
   "source": [
    "input_dataset_df['declined_reason'].value_counts()"
   ]
  },
  {
   "cell_type": "markdown",
   "metadata": {
    "id": "9N2yXORAHvs8"
   },
   "source": [
    "# Кодирование категориальных фичей\n",
    "\n",
    "Кодируем категориальные фичи"
   ]
  },
  {
   "cell_type": "code",
   "execution_count": 29,
   "metadata": {
    "id": "8PwiSyz3H4Pu"
   },
   "outputs": [
    {
     "data": {
      "text/plain": [
       "1     71113\n",
       "15    10102\n",
       "16     3753\n",
       "8      2898\n",
       "10     2619\n",
       "Name: count, dtype: int64"
      ]
     },
     "execution_count": 29,
     "metadata": {},
     "output_type": "execute_result"
    }
   ],
   "source": [
    "from sklearn.preprocessing import LabelEncoder\n",
    "\n",
    "le = LabelEncoder()\n",
    "\n",
    "le_transformed = le.fit_transform(input_dataset_df['declined_reason'])\n",
    "\n",
    "pd.Series(le_transformed).value_counts().head()"
   ]
  },
  {
   "cell_type": "markdown",
   "metadata": {
    "id": "33AO7wjdInGJ"
   },
   "source": [
    "Другой (более подходящий) вид энкодинга"
   ]
  },
  {
   "cell_type": "code",
   "execution_count": 30,
   "metadata": {
    "id": "grtMs14GI3_O"
   },
   "outputs": [
    {
     "data": {
      "text/plain": [
       "<Compressed Sparse Row sparse matrix of dtype 'float64'\n",
       "\twith 100000 stored elements and shape (100000, 20)>"
      ]
     },
     "execution_count": 30,
     "metadata": {},
     "output_type": "execute_result"
    }
   ],
   "source": [
    "from sklearn.preprocessing import OneHotEncoder\n",
    "\n",
    "ohe = OneHotEncoder()\n",
    "\n",
    "ohe_transformed = ohe.fit_transform(input_dataset_df[['declined_reason']])\n",
    "\n",
    "ohe_transformed"
   ]
  },
  {
   "cell_type": "markdown",
   "metadata": {
    "id": "lowFEQvzJ-ER"
   },
   "source": [
    "# Текстовые фичи\n",
    "\n",
    "## Bag of words"
   ]
  },
  {
   "cell_type": "code",
   "execution_count": 68,
   "metadata": {},
   "outputs": [
    {
     "data": {
      "text/plain": [
       "['brand_tweets.csv', 'brand_tweets_valid.csv']"
      ]
     },
     "execution_count": 68,
     "metadata": {},
     "output_type": "execute_result"
    }
   ],
   "source": [
    "[i for i in os.listdir(root_data_dir) if 'tweet' in i]"
   ]
  },
  {
   "cell_type": "code",
   "execution_count": 70,
   "metadata": {},
   "outputs": [
    {
     "name": "stdout",
     "output_type": "stream",
     "text": [
      "num rows 3905\n"
     ]
    },
    {
     "data": {
      "text/html": [
       "<div>\n",
       "<style scoped>\n",
       "    .dataframe tbody tr th:only-of-type {\n",
       "        vertical-align: middle;\n",
       "    }\n",
       "\n",
       "    .dataframe tbody tr th {\n",
       "        vertical-align: top;\n",
       "    }\n",
       "\n",
       "    .dataframe thead th {\n",
       "        text-align: right;\n",
       "    }\n",
       "</style>\n",
       "<table border=\"1\" class=\"dataframe\">\n",
       "  <thead>\n",
       "    <tr style=\"text-align: right;\">\n",
       "      <th></th>\n",
       "      <th>tweet_text</th>\n",
       "      <th>emotion_in_tweet_is_directed_at</th>\n",
       "      <th>is_there_an_emotion_directed_at_a_brand_or_product</th>\n",
       "    </tr>\n",
       "  </thead>\n",
       "  <tbody>\n",
       "    <tr>\n",
       "      <th>0</th>\n",
       "      <td>.@wesley83 I have a 3G iPhone. After 3 hrs twe...</td>\n",
       "      <td>iPhone</td>\n",
       "      <td>Negative emotion</td>\n",
       "    </tr>\n",
       "    <tr>\n",
       "      <th>1</th>\n",
       "      <td>@jessedee Know about @fludapp ? Awesome iPad/i...</td>\n",
       "      <td>iPad or iPhone App</td>\n",
       "      <td>Positive emotion</td>\n",
       "    </tr>\n",
       "    <tr>\n",
       "      <th>2</th>\n",
       "      <td>@swonderlin Can not wait for #iPad 2 also. The...</td>\n",
       "      <td>iPad</td>\n",
       "      <td>Positive emotion</td>\n",
       "    </tr>\n",
       "    <tr>\n",
       "      <th>3</th>\n",
       "      <td>@sxsw I hope this year's festival isn't as cra...</td>\n",
       "      <td>iPad or iPhone App</td>\n",
       "      <td>Negative emotion</td>\n",
       "    </tr>\n",
       "    <tr>\n",
       "      <th>4</th>\n",
       "      <td>@sxtxstate great stuff on Fri #SXSW: Marissa M...</td>\n",
       "      <td>Google</td>\n",
       "      <td>Positive emotion</td>\n",
       "    </tr>\n",
       "  </tbody>\n",
       "</table>\n",
       "</div>"
      ],
      "text/plain": [
       "                                          tweet_text  \\\n",
       "0  .@wesley83 I have a 3G iPhone. After 3 hrs twe...   \n",
       "1  @jessedee Know about @fludapp ? Awesome iPad/i...   \n",
       "2  @swonderlin Can not wait for #iPad 2 also. The...   \n",
       "3  @sxsw I hope this year's festival isn't as cra...   \n",
       "4  @sxtxstate great stuff on Fri #SXSW: Marissa M...   \n",
       "\n",
       "  emotion_in_tweet_is_directed_at  \\\n",
       "0                          iPhone   \n",
       "1              iPad or iPhone App   \n",
       "2                            iPad   \n",
       "3              iPad or iPhone App   \n",
       "4                          Google   \n",
       "\n",
       "  is_there_an_emotion_directed_at_a_brand_or_product  \n",
       "0                                   Negative emotion  \n",
       "1                                   Positive emotion  \n",
       "2                                   Positive emotion  \n",
       "3                                   Negative emotion  \n",
       "4                                   Positive emotion  "
      ]
     },
     "execution_count": 70,
     "metadata": {},
     "output_type": "execute_result"
    }
   ],
   "source": [
    "import pandas as pd\n",
    "\n",
    "ocr_dataset_df = pd.read_csv(os.path.join(root_data_dir, 'brand_tweets.csv'))\n",
    "print('num rows %d' % ocr_dataset_df.shape[0])\n",
    "\n",
    "ocr_dataset_df.head()"
   ]
  },
  {
   "cell_type": "code",
   "execution_count": 73,
   "metadata": {
    "id": "XR1gNndRKF-S"
   },
   "outputs": [
    {
     "data": {
      "text/plain": [
       "<Compressed Sparse Row sparse matrix of dtype 'float64'\n",
       "\twith 45048 stored elements and shape (3905, 1516)>"
      ]
     },
     "execution_count": 73,
     "metadata": {},
     "output_type": "execute_result"
    }
   ],
   "source": [
    "from sklearn.feature_extraction.text import TfidfVectorizer\n",
    "\n",
    "vectorizer = TfidfVectorizer(\n",
    "    analyzer='word',\n",
    "    lowercase=True,\n",
    "    token_pattern=r'\\b[\\w\\d]{3,}\\b',\n",
    "    min_df=0.001\n",
    ")\n",
    "\n",
    "bow_matrix = vectorizer.fit_transform(ocr_dataset_df['tweet_text'].fillna('').values)\n",
    "bow_matrix"
   ]
  },
  {
   "cell_type": "markdown",
   "metadata": {
    "id": "WjvMeuFKMOvs"
   },
   "source": [
    "По sparse матрице можно найти попарное расстояние между текстами"
   ]
  },
  {
   "cell_type": "code",
   "execution_count": 74,
   "metadata": {
    "id": "38a99UAMMfdp"
   },
   "outputs": [
    {
     "data": {
      "text/plain": [
       "(3905, 3905)"
      ]
     },
     "execution_count": 74,
     "metadata": {},
     "output_type": "execute_result"
    }
   ],
   "source": [
    "from sklearn.metrics import pairwise_distances\n",
    "\n",
    "text_distance = 1 - pairwise_distances(bow_matrix, metric=\"cosine\")\n",
    "\n",
    "text_distance.shape"
   ]
  },
  {
   "cell_type": "markdown",
   "metadata": {
    "id": "ldr3ZZm0Mc_x"
   },
   "source": [
    "Мы получили квадратную матрицy, которая содержит столько строк и столбцов, сколько документов в нашем корпусе (наборе текстов).\n",
    "\n",
    "Зачем нужна такая матрица? Например, можно искать \"похожие\" тексты для задачи рекомендаций"
   ]
  },
  {
   "cell_type": "code",
   "execution_count": 76,
   "metadata": {
    "id": "0lZqIVAS5o75"
   },
   "outputs": [
    {
     "name": "stdout",
     "output_type": "stream",
     "text": [
      "Great #sxsw ipad app from @madebymany: http://tinyurl.com/4nqv92l\n"
     ]
    }
   ],
   "source": [
    "source_tweet_index = 14  # тут может быть любое число в диапазоне от 1 до 1000\n",
    "\n",
    "print(ocr_dataset_df.iloc[source_tweet_index]['tweet_text'])"
   ]
  },
  {
   "cell_type": "markdown",
   "metadata": {
    "id": "bG_7aER36SBB"
   },
   "source": [
    "Находим ближайший похожий текст\n",
    "\n",
    "отсортируем твиты по “похожести” - чем похожее на `source_tweet_index`, тем ближе к началу списка sorted_similarity"
   ]
  },
  {
   "cell_type": "code",
   "execution_count": 77,
   "metadata": {
    "id": "5yDFHfG46XeR"
   },
   "outputs": [
    {
     "data": {
      "text/plain": [
       "array([  14, 1963,   30, 2265,   15,   26,   23,    8,   31, 1139])"
      ]
     },
     "execution_count": 77,
     "metadata": {},
     "output_type": "execute_result"
    }
   ],
   "source": [
    "sorted_similarity = np.argsort(-1 * text_distance[source_tweet_index,:])\n",
    "\n",
    "sorted_similarity[:10]"
   ]
  },
  {
   "cell_type": "markdown",
   "metadata": {
    "id": "Mw9GHt6s6-SQ"
   },
   "source": [
    "Теперь распечаем \"схожие\" тексты"
   ]
  },
  {
   "cell_type": "code",
   "execution_count": 79,
   "metadata": {
    "id": "7Pd1j_I27D3H"
   },
   "outputs": [
    {
     "name": "stdout",
     "output_type": "stream",
     "text": [
      "Great #sxsw ipad app from @madebymany: http://tinyurl.com/4nqv92l\n",
      "-------------\n",
      "-------------\n",
      "Holler Gram for iPad on the iTunes App Store: {link} via @mention all you #SXSW-sters great App from #MadebyMany - Free\n",
      "-------------\n",
      "-------------\n",
      "Very smart from @madebymany #hollergram iPad app for #sxsw! http://t.co/A3xvWc6 (may leave my vuvuzela at home now)\n",
      "-------------\n",
      "-------------\n",
      "RT globalbestaward Holler Gram for iPad on iTunes Store: {link} via @mention all you #SXSW-sters great App from #MadebyMany\n",
      "-------------\n",
      "-------------\n"
     ]
    }
   ],
   "source": [
    "for content_index in sorted_similarity[:4]:\n",
    "  print(ocr_dataset_df.iloc[content_index]['tweet_text'])\n",
    "  print('-------------\\n-------------')"
   ]
  },
  {
   "cell_type": "markdown",
   "metadata": {
    "id": "gMpcMke_8ErE"
   },
   "source": [
    "## Препроцессинг текста\n",
    "\n",
    "Устанавливаем NLTK. Для начала готовим директорию для данных"
   ]
  },
  {
   "cell_type": "code",
   "execution_count": 80,
   "metadata": {
    "id": "EGOL2Tzv-IcW"
   },
   "outputs": [
    {
     "name": "stdout",
     "output_type": "stream",
     "text": [
      "NLTK dir was prepared\n"
     ]
    }
   ],
   "source": [
    "run_env = os.getenv('RUN_ENV', 'COLLAB')\n",
    "if run_env == 'COLLAB':\n",
    "    nltk_data_dir = os.path.join(root_data_dir, 'nltk_data')\n",
    "    if not os.path.exists(nltk_data_dir):\n",
    "      os.makedirs(nltk_data_dir)\n",
    "      logger.info('Директория %s создана', nltk_data_dir)\n",
    "    logs_dir = os.path.join(ROOT_DIR, 'MyDrive', 'hse_nlp_2021', 'logs')\n",
    "    if not os.path.exists(logs_dir):\n",
    "      os.makedirs(logs_dir)\n",
    "    logger.info('Подготовили директорию для nltk %s', nltk_data_dir)\n",
    "print('NLTK dir was prepared')"
   ]
  },
  {
   "cell_type": "code",
   "execution_count": 81,
   "metadata": {
    "id": "ELNptAEW-tGQ"
   },
   "outputs": [
    {
     "name": "stderr",
     "output_type": "stream",
     "text": [
      "[nltk_data] Downloading package punkt to /opt/ml/data/nltk_data...\n",
      "[nltk_data]   Package punkt is already up-to-date!\n"
     ]
    }
   ],
   "source": [
    "import nltk\n",
    "\n",
    "nltk.download('punkt', download_dir=nltk_data_dir)\n",
    "nltk.data.path.append(nltk_data_dir) # тут почему-то корневую надо указывать ¯\\_(ツ)_/¯"
   ]
  },
  {
   "cell_type": "code",
   "execution_count": 83,
   "metadata": {
    "id": "hG4GNJT38Unx"
   },
   "outputs": [
    {
     "name": "stdout",
     "output_type": "stream",
     "text": [
      "== Исходный текст== \n",
      ".@wesley83 I have a 3G iPhone. After 3 hrs tweeting at #RISE_Austin, it was dead!  I need to upgrade. Plugin stations at #SXSW.\n",
      "\n",
      "\n",
      "== Токенизированный текст==\n",
      "['.', '@', 'wesley83', 'I', 'have', 'a', '3G', 'iPhone', '.', 'After', '3', 'hrs', 'tweeting', 'at', '#', 'RISE_Austin', ',', 'it', 'was', 'dead', '!', 'I', 'need', 'to', 'upgrade', '.', 'Plugin', 'stations', 'at', '#', 'SXSW', '.']\n"
     ]
    }
   ],
   "source": [
    "import nltk\n",
    "\n",
    "sample_str = ocr_dataset_df['tweet_text'].values[0]\n",
    "\n",
    "print('== Исходный текст== \\n%s\\n\\n' % sample_str)\n",
    "\n",
    "tokenized_str = nltk.word_tokenize(sample_str)\n",
    "print('== Токенизированный текст==\\n%s' % tokenized_str)"
   ]
  },
  {
   "cell_type": "markdown",
   "metadata": {
    "id": "a6Egvl76_2C6"
   },
   "source": [
    "Видим знаки препинания, надо их отфильтровать"
   ]
  },
  {
   "cell_type": "code",
   "execution_count": 84,
   "metadata": {
    "id": "NgYYdKmP_8ty"
   },
   "outputs": [
    {
     "name": "stdout",
     "output_type": "stream",
     "text": [
      "['wesley83', 'i', 'have', 'a', '3g', 'iphone', 'after', '3', 'hrs', 'tweeting', 'at', 'rise_austin', 'it', 'was', 'dead', 'i', 'need', 'to', 'upgrade', 'plugin', 'stations', 'at', 'sxsw']\n"
     ]
    }
   ],
   "source": [
    "import string  # стандартный модуль\n",
    "\n",
    "tokens = [i.lower() for i in tokenized_str if ( i not in string.punctuation )]\n",
    "print(tokens)"
   ]
  },
  {
   "cell_type": "markdown",
   "metadata": {
    "id": "6JNqTumjAKAg"
   },
   "source": [
    "Стоп-слова"
   ]
  },
  {
   "cell_type": "code",
   "execution_count": 85,
   "metadata": {
    "id": "iREyrgcZALhF"
   },
   "outputs": [
    {
     "name": "stdout",
     "output_type": "stream",
     "text": [
      "['wesley83', '3g', 'iphone', '3', 'hrs', 'tweeting', 'rise_austin', 'dead', 'need', 'upgrade', 'plugin', 'stations', 'sxsw']\n"
     ]
    }
   ],
   "source": [
    "stop_words = [\n",
    "    'i', 'me', 'my', 'myself', 'we', 'our', 'ours', 'ourselves', 'you', \"you're\", \"you've\", \"you'll\", \"you'd\",\n",
    "    'your', 'yours', 'yourself', 'yourselves', 'he', 'him', 'his', 'himself', 'she', \"she's\", 'her', 'hers',\n",
    "    'herself', 'it', \"it's\", 'its', 'itself', 'they', 'them', 'their', 'theirs', 'themselves', 'what', 'which',\n",
    "    'who', 'whom', 'this', 'that', \"that'll\", 'these', 'those', 'am', 'is', 'are', 'was', 'were', 'be', 'been',\n",
    "    'being', 'have', 'has', 'had', 'having', 'do', 'does', 'did', 'doing', 'a', 'an', 'the', 'and', 'but', 'if',\n",
    "    'or', 'because', 'as', 'until', 'while', 'of', 'at', 'by', 'for', 'with', 'about', 'against', 'between',\n",
    "    'into', 'through', 'during', 'before', 'after', 'above', 'below', 'to', 'from', 'up', 'down', 'in', 'out',\n",
    "    'on', 'off', 'over', 'under', 'again', 'further', 'then', 'once', 'here', 'there', 'when', 'where', 'why',\n",
    "    'how', 'all', 'any', 'both', 'each', 'few', 'more', 'most', 'other', 'some', 'such', 'no', 'nor', 'not',\n",
    "    'only', 'own', 'same', 'so', 'than', 'too', 'very', 's', 't', 'can', 'will', 'just', 'don', \"don't\", 'shold',\n",
    "    \"should've\", 'now', 'd', 'll', 'm', 'o', 're', 've', 'y', 'ain', 'aren', \"aren't\", 'couldn', \"couldn't\",\n",
    "    'didn', \"didn't\", 'doesn', \"doesn't\", 'hadn', \"hadn't\", 'hasn', \"hasn't\", 'haven', \"haven't\", 'isn', \"isn't\",\n",
    "    'ma', 'mightn', \"mightn't\", 'mustn', \"mustn't\", 'needn', \"needn't\", 'shan', \"shan't\", 'shouldn', \"shouldn't\",\n",
    "    'wasn', \"wasn't\", 'weren', \"weren't\", 'won', \"won't\", 'wouldn', \"wouldn't\"\n",
    "]\n",
    "\n",
    "filtered_tokens = [i for i in tokens if ( i not in stop_words )]\n",
    "\n",
    "print(filtered_tokens)"
   ]
  },
  {
   "cell_type": "markdown",
   "metadata": {
    "id": "3SkOknHoAVaF"
   },
   "source": [
    "Соединяем в одну функцию"
   ]
  },
  {
   "cell_type": "code",
   "execution_count": 88,
   "metadata": {
    "id": "mN8_tDcSAZ_p"
   },
   "outputs": [
    {
     "data": {
      "text/plain": [
       "0    [.@wesley83, iphone., hrs, tweeting, #rise_aus...\n",
       "1    [@jessedee, know, @fludapp, awesome, ipad/ipho...\n",
       "2    [@swonderlin, wait, #ipad, also., should, sale...\n",
       "3    [@sxsw, hope, year's, festival, crashy, year's...\n",
       "4    [@sxtxstate, great, stuff, fri, #sxsw:, mariss...\n",
       "Name: tokenized, dtype: object"
      ]
     },
     "execution_count": 88,
     "metadata": {},
     "output_type": "execute_result"
    }
   ],
   "source": [
    "def tokenize_text(raw_text: str):\n",
    "    \"\"\"Функция для токенизации текста\n",
    "    \n",
    "    :param raw_text: исходная текстовая строка\n",
    "    \"\"\"\n",
    "    filtered_tokens = []\n",
    "    \n",
    "    filtered_tokens = [i.lower() for i in raw_text.split() if ( i not in string.punctuation )]\n",
    "    filtered_tokens = [i for i in filtered_tokens if ( i not in stop_words )]\n",
    "    filtered_tokens = [i for i in filtered_tokens if ( len(i) > 2 )]\n",
    "    \n",
    "    return filtered_tokens\n",
    "\n",
    "# применяем функцию в датафрейму с помощью метода .apply()\n",
    "tokenized_tweets= ocr_dataset_df['tweet_text'].fillna('').apply(tokenize_text)\n",
    "\n",
    "# добавляем новую колонку в исходный датафрейм\n",
    "ocr_dataset_df = ocr_dataset_df.assign(\n",
    "    tokenized=tokenized_tweets\n",
    ")\n",
    "\n",
    "ocr_dataset_df.tokenized.head()"
   ]
  },
  {
   "cell_type": "markdown",
   "metadata": {
    "id": "tnJK9SOU7y24"
   },
   "source": [
    "## Эмбеддинги Word2Vec"
   ]
  },
  {
   "cell_type": "code",
   "execution_count": 89,
   "metadata": {
    "id": "9jPa2NDu73Q7"
   },
   "outputs": [
    {
     "name": "stdout",
     "output_type": "stream",
     "text": [
      "Model trained\n"
     ]
    }
   ],
   "source": [
    "from gensim.models import Word2Vec\n",
    "import logging\n",
    "\n",
    "texts = ocr_dataset_df.tokenized.values\n",
    "\n",
    "model = Word2Vec(texts, vector_size=10, window=7, min_count=2, workers=4, epochs=10, sg=0)\n",
    "print('Model trained')"
   ]
  },
  {
   "cell_type": "markdown",
   "metadata": {
    "id": "j6Tlis5AJ7Kp"
   },
   "source": [
    "Эмбеддинги обучились, посмотрим как они выглядят"
   ]
  },
  {
   "cell_type": "code",
   "execution_count": 90,
   "metadata": {
    "id": "PbgavG2ZKFi7"
   },
   "outputs": [
    {
     "data": {
      "text/plain": [
       "array([ 0.93474406, -0.5899314 ,  1.964192  ,  1.1705691 ,  1.101795  ,\n",
       "       -0.7931788 ,  2.05619   ,  1.2247944 , -4.022227  , -0.5167159 ],\n",
       "      dtype=float32)"
      ]
     },
     "execution_count": 90,
     "metadata": {},
     "output_type": "execute_result"
    }
   ],
   "source": [
    "model.wv.get_vector('android')"
   ]
  },
  {
   "cell_type": "markdown",
   "metadata": {
    "id": "NHXMsjNGBxHT"
   },
   "source": [
    "Проверяем эмбеддинги - ищем эмбеддинг, самый похожий на эмбеддинг слова Biden"
   ]
  },
  {
   "cell_type": "code",
   "execution_count": 93,
   "metadata": {
    "id": "1YgKqeLkB934"
   },
   "outputs": [
    {
     "data": {
      "text/plain": [
       "[('confession,', 0.9925059080123901),\n",
       " ('started', 0.9897639751434326),\n",
       " ('listening', 0.9894517660140991),\n",
       " ('interface', 0.9893234372138977),\n",
       " ('stuff!', 0.9888144731521606),\n",
       " ('iphone', 0.9887372851371765),\n",
       " ('#gsdm', 0.9883440136909485),\n",
       " ('team', 0.9883101582527161),\n",
       " ('feeling', 0.9882416725158691),\n",
       " ('ranking', 0.9881197810173035)]"
      ]
     },
     "execution_count": 93,
     "metadata": {},
     "output_type": "execute_result"
    }
   ],
   "source": [
    "# biden\n",
    "# model.wv.most_similar('biden')\n",
    "model.wv.most_similar('android')"
   ]
  },
  {
   "cell_type": "code",
   "execution_count": null,
   "metadata": {
    "id": "4Y_DGvqiEvK_"
   },
   "outputs": [],
   "source": []
  }
 ],
 "metadata": {
  "accelerator": "GPU",
  "colab": {
   "authorship_tag": "ABX9TyNMt3yMRVzhz1TbSAJt0gs9",
   "collapsed_sections": [],
   "name": "Part 9: feature engineering.ipynb",
   "private_outputs": true,
   "provenance": []
  },
  "kernelspec": {
   "display_name": "Python 3 (ipykernel)",
   "language": "python",
   "name": "python3"
  },
  "language_info": {
   "codemirror_mode": {
    "name": "ipython",
    "version": 3
   },
   "file_extension": ".py",
   "mimetype": "text/x-python",
   "name": "python",
   "nbconvert_exporter": "python",
   "pygments_lexer": "ipython3",
   "version": "3.12.12"
  }
 },
 "nbformat": 4,
 "nbformat_minor": 4
}
