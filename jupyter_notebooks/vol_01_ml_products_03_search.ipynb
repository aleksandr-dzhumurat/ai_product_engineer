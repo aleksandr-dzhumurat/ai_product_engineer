{
 "cells": [
  {
   "cell_type": "markdown",
   "id": "52634af4-48c7-462d-b583-5f785a1d3f67",
   "metadata": {},
   "source": [
    "# Data ingestion\n",
    "\n",
    "download dataset [Health_and_Personal_Care.jsonl.gz](https://drive.google.com/file/d/12N52kB4D1iqgzSuoWEfNSY3KqVRp10wL/view?usp=drive_link)\n",
    "\n",
    "put in to `data` dir"
   ]
  },
  {
   "cell_type": "code",
   "execution_count": 1,
   "id": "ee7ce8d0-00f6-4329-bf12-f2b08ea12a16",
   "metadata": {},
   "outputs": [
    {
     "name": "stdout",
     "output_type": "stream",
     "text": [
      "/Users/username/PycharmProjects/ml_for_products/data\n",
      "['model_dockerized.cb', 'zinc_data', 'model.cb', 'Health_and_Personal_Care.jsonl.gz', 'mlflow', 'minio', 'bidmachine_task_data', 'bidmachine_logs.zip', 'downloaded_model.cb', 'item_cards.gzip', 'meta_Health_and_Personal_Care.jsonl.gz']\n"
     ]
    }
   ],
   "source": [
    "%load_ext autoreload\n",
    "%autoreload 2\n",
    "\n",
    "import os\n",
    "\n",
    "print(os.environ['DATA_DIR'])\n",
    "\n",
    "root_data_dir = os.environ['DATA_DIR']\n",
    "print(os.listdir(root_data_dir))"
   ]
  },
  {
   "cell_type": "code",
   "execution_count": 2,
   "id": "b86d7416-50b4-47ba-b708-ac8d0c9a5b8b",
   "metadata": {},
   "outputs": [
    {
     "name": "stdout",
     "output_type": "stream",
     "text": [
      ".env loaded:  True\n",
      "Dataset num items: 1000 from /Users/username/PycharmProjects/ml_for_products/data/Health_and_Personal_Care.jsonl.gz\n",
      "1000\n"
     ]
    }
   ],
   "source": [
    "from utils import read_raw_data\n",
    "\n",
    "file_name = 'Health_and_Personal_Care.jsonl.gz'\n",
    "data_path = os.path.join(root_data_dir, file_name)\n",
    "\n",
    "json_data = read_raw_data(data_path, limit=1000)\n",
    "print(len(json_data))"
   ]
  },
  {
   "cell_type": "code",
   "execution_count": 3,
   "id": "0769a3bc-dae7-4e73-8235-d24600de7b5a",
   "metadata": {},
   "outputs": [
    {
     "data": {
      "text/plain": [
       "{'rating': 4.0,\n",
       " 'title': '12 mg is 12 on the periodic table people! Mg for magnesium',\n",
       " 'text': 'This review is more to clarify someone else’s review bc they didn’t understand understand the labeling!  It shows 1000mg as advertised & another little label says 12mg bc 12 is on the periodic table for magnesium!  I realize not everyone takes chemistry, but 4 ppl liked his review & so misinformation is spreading.  This works. If however you are on opiate level medications that are causing constipation you should talk to your pain dr or your gastrointestinal dr & ask for a medication called Linzess which works must better & must faster, but is unnecessary for most people.  If magnesium is working for you just make sure to take it with food & drink 6-8 glasses of water per day.  Staying hydrated will really help.  Before switching to Linzess I used to take one 1,000 mg pill am & pm every day with meals & always with an 8 ounce glass of water or other liquid.',\n",
       " 'images': [],\n",
       " 'asin': 'B07TDSJZMR',\n",
       " 'parent_asin': 'B07TDSJZMR',\n",
       " 'user_id': 'AFKZENTNBQ7A7V7UXW5JJI6UGRYQ',\n",
       " 'timestamp': 1580950175902,\n",
       " 'helpful_vote': 3,\n",
       " 'verified_purchase': True}"
      ]
     },
     "execution_count": 3,
     "metadata": {},
     "output_type": "execute_result"
    }
   ],
   "source": [
    "json_data[0]"
   ]
  },
  {
   "cell_type": "code",
   "execution_count": 4,
   "id": "7152f166-a80f-41dd-ae55-e5b60ad451ca",
   "metadata": {},
   "outputs": [
    {
     "data": {
      "text/html": [
       "<div>\n",
       "<style scoped>\n",
       "    .dataframe tbody tr th:only-of-type {\n",
       "        vertical-align: middle;\n",
       "    }\n",
       "\n",
       "    .dataframe tbody tr th {\n",
       "        vertical-align: top;\n",
       "    }\n",
       "\n",
       "    .dataframe thead th {\n",
       "        text-align: right;\n",
       "    }\n",
       "</style>\n",
       "<table border=\"1\" class=\"dataframe\">\n",
       "  <thead>\n",
       "    <tr style=\"text-align: right;\">\n",
       "      <th></th>\n",
       "      <th>rating</th>\n",
       "      <th>title</th>\n",
       "      <th>text</th>\n",
       "      <th>images</th>\n",
       "      <th>asin</th>\n",
       "      <th>parent_asin</th>\n",
       "      <th>user_id</th>\n",
       "      <th>timestamp</th>\n",
       "      <th>helpful_vote</th>\n",
       "      <th>verified_purchase</th>\n",
       "    </tr>\n",
       "  </thead>\n",
       "  <tbody>\n",
       "    <tr>\n",
       "      <th>0</th>\n",
       "      <td>4.0</td>\n",
       "      <td>12 mg is 12 on the periodic table people! Mg f...</td>\n",
       "      <td>This review is more to clarify someone else’s ...</td>\n",
       "      <td>[]</td>\n",
       "      <td>B07TDSJZMR</td>\n",
       "      <td>B07TDSJZMR</td>\n",
       "      <td>AFKZENTNBQ7A7V7UXW5JJI6UGRYQ</td>\n",
       "      <td>1580950175902</td>\n",
       "      <td>3</td>\n",
       "      <td>True</td>\n",
       "    </tr>\n",
       "    <tr>\n",
       "      <th>1</th>\n",
       "      <td>5.0</td>\n",
       "      <td>Save the lanet using less plastic.</td>\n",
       "      <td>Love these easy multitasking bleach tablets. B...</td>\n",
       "      <td>[]</td>\n",
       "      <td>B08637FWWF</td>\n",
       "      <td>B08637FWWF</td>\n",
       "      <td>AEVWAM3YWN5URJVJIZZ6XPD2MKIA</td>\n",
       "      <td>1604354586880</td>\n",
       "      <td>3</td>\n",
       "      <td>True</td>\n",
       "    </tr>\n",
       "    <tr>\n",
       "      <th>2</th>\n",
       "      <td>5.0</td>\n",
       "      <td>Fantastic</td>\n",
       "      <td>I have been suffering a couple months with hee...</td>\n",
       "      <td>[]</td>\n",
       "      <td>B07KJVGNN5</td>\n",
       "      <td>B07KJVGNN5</td>\n",
       "      <td>AHSPLDNW5OOUK2PLH7GXLACFBZNQ</td>\n",
       "      <td>1563966838905</td>\n",
       "      <td>0</td>\n",
       "      <td>True</td>\n",
       "    </tr>\n",
       "  </tbody>\n",
       "</table>\n",
       "</div>"
      ],
      "text/plain": [
       "   rating                                              title  \\\n",
       "0     4.0  12 mg is 12 on the periodic table people! Mg f...   \n",
       "1     5.0                 Save the lanet using less plastic.   \n",
       "2     5.0                                          Fantastic   \n",
       "\n",
       "                                                text images        asin  \\\n",
       "0  This review is more to clarify someone else’s ...     []  B07TDSJZMR   \n",
       "1  Love these easy multitasking bleach tablets. B...     []  B08637FWWF   \n",
       "2  I have been suffering a couple months with hee...     []  B07KJVGNN5   \n",
       "\n",
       "  parent_asin                       user_id      timestamp  helpful_vote  \\\n",
       "0  B07TDSJZMR  AFKZENTNBQ7A7V7UXW5JJI6UGRYQ  1580950175902             3   \n",
       "1  B08637FWWF  AEVWAM3YWN5URJVJIZZ6XPD2MKIA  1604354586880             3   \n",
       "2  B07KJVGNN5  AHSPLDNW5OOUK2PLH7GXLACFBZNQ  1563966838905             0   \n",
       "\n",
       "   verified_purchase  \n",
       "0               True  \n",
       "1               True  \n",
       "2               True  "
      ]
     },
     "execution_count": 4,
     "metadata": {},
     "output_type": "execute_result"
    }
   ],
   "source": [
    "import pandas as pd\n",
    "\n",
    "df = pd.json_normalize(json_data)\n",
    "\n",
    "df.head(3)"
   ]
  },
  {
   "cell_type": "markdown",
   "id": "a59b9d31-cd55-40b6-a692-10a60b9afa61",
   "metadata": {},
   "source": [
    "dummy search"
   ]
  },
  {
   "cell_type": "code",
<<<<<<< Updated upstream:jupyter_notebooks/vol_01_ml_products_03_search.ipynb
   "execution_count": 5,
=======
   "execution_count": 7,
>>>>>>> Stashed changes:jupyter_notebooks/data_retrieval.ipynb
   "id": "cd95b4ab-340e-487f-aecd-2fd468be3688",
   "metadata": {},
   "outputs": [
    {
     "data": {
      "text/plain": [
       "'These seem like great quality cough drops with beneficial ingredients for when you are under the weather. A couple downsides for me are that the outside of them are rough so they cut up your mouth a bit and secondly no place saying where they are made. They have a mildly sweet and minty taste.'"
      ]
     },
<<<<<<< Updated upstream:jupyter_notebooks/vol_01_ml_products_03_search.ipynb
     "execution_count": 5,
=======
     "execution_count": 7,
>>>>>>> Stashed changes:jupyter_notebooks/data_retrieval.ipynb
     "metadata": {},
     "output_type": "execute_result"
    }
   ],
   "source": [
    "user_query = 'cough'\n",
    "\n",
    "df[df['text'].apply(\n",
    "    lambda x: user_query in x.lower())\n",
    "].head(5).iloc[0, 2]"
   ]
  },
  {
   "cell_type": "markdown",
   "id": "9db66474-2558-43fb-b26b-6b6abfb89074",
   "metadata": {},
   "source": [
    "# Keyword search\n",
    "\n",
    "* eval index (sparse)\n",
    "* match documents using cosine similarity\n"
   ]
  },
  {
   "cell_type": "code",
<<<<<<< Updated upstream:jupyter_notebooks/vol_01_ml_products_03_search.ipynb
   "execution_count": 6,
=======
   "execution_count": 8,
>>>>>>> Stashed changes:jupyter_notebooks/data_retrieval.ipynb
   "id": "e68754f4-98bb-49d0-b58e-71f85604986e",
   "metadata": {},
   "outputs": [
    {
     "name": "stdout",
     "output_type": "stream",
     "text": [
      "vectorizer fitted\n"
     ]
    }
   ],
   "source": [
    "from sklearn.feature_extraction.text import TfidfVectorizer\n",
    "\n",
    "vectorizer = TfidfVectorizer(\n",
    "    analyzer='word',\n",
    "    lowercase=True,\n",
    "    token_pattern=r'\\b[\\w\\d]{3,}\\b'\n",
    ")\n",
    "\n",
    "vectorizer.fit(df['text'].values)\n",
    "print('vectorizer fitted')"
   ]
  },
  {
   "cell_type": "code",
<<<<<<< Updated upstream:jupyter_notebooks/vol_01_ml_products_03_search.ipynb
   "execution_count": 7,
=======
   "execution_count": 9,
>>>>>>> Stashed changes:jupyter_notebooks/data_retrieval.ipynb
   "id": "42912333-904f-45b9-a560-9b38e5e0cb28",
   "metadata": {},
   "outputs": [
    {
     "name": "stdout",
     "output_type": "stream",
     "text": [
      "Index matrix: (1000, 6529)\n"
     ]
    }
   ],
   "source": [
    "document_vectors = vectorizer.transform(df['text'].values)\n",
    "print('Index matrix:', document_vectors.shape)"
   ]
  },
  {
   "cell_type": "code",
<<<<<<< Updated upstream:jupyter_notebooks/vol_01_ml_products_03_search.ipynb
   "execution_count": 8,
=======
   "execution_count": 10,
>>>>>>> Stashed changes:jupyter_notebooks/data_retrieval.ipynb
   "id": "3072ed9f-c5ed-492c-8df2-8db9c41beb50",
   "metadata": {},
   "outputs": [
    {
     "name": "stdout",
     "output_type": "stream",
     "text": [
      "(1, 6529)\n",
      "(1000,)\n",
      "Top indicies: [781 101 896 329 341 340 339 338 337 336]\n"
     ]
    }
   ],
   "source": [
    "import numpy as np\n",
    "from sklearn.metrics.pairwise import cosine_similarity\n",
    "\n",
    "query_vector = vectorizer.transform([user_query])\n",
    "print(query_vector.shape)\n",
    "\n",
    "# matching\n",
    "similarities = cosine_similarity(query_vector, document_vectors)[0]\n",
    "print(similarities.shape)\n",
    "top_k = 10\n",
    "top_indices = np.argsort(similarities)[::-1][:top_k]\n",
    "print('Top indicies:', top_indices)"
   ]
  },
  {
   "cell_type": "code",
<<<<<<< Updated upstream:jupyter_notebooks/vol_01_ml_products_03_search.ipynb
   "execution_count": 9,
=======
   "execution_count": 11,
>>>>>>> Stashed changes:jupyter_notebooks/data_retrieval.ipynb
   "id": "5df6e962-6449-4a60-bb19-b0550ec681fd",
   "metadata": {},
   "outputs": [
    {
     "name": "stdout",
     "output_type": "stream",
     "text": [
      "781 0.245 VERY soothing.  I get that awful tickly dry cough a lot during allergy season, especially 5 minutes  ...\n",
      "\n",
      "101 0.221 These seem like great quality cough drops with beneficial ingredients for when you are under the wea ...\n",
      "\n",
      "896 0.109 We have a big variety of probiotics that we rotate and use daily.  This one has a very impressive la ...\n",
      "\n",
      "329 0.000 This massager brush cleans scalp effectively and makes your head feel great when you use it. The bri ...\n",
      "\n",
      "341 0.000 Astragalus has many health benefits including immune support, liver cleansing, healthy skin, and str ...\n",
      "\n",
      "340 0.000 Beet root powder has a plethora of uses. It's excellent for cooking. It enhances any chocolate desse ...\n",
      "\n",
      "339 0.000 This is a great set of gloves. They can be used for many different tasks. You get a few pairs so thi ...\n",
      "\n",
      "338 0.000 If you want a good facial cleansing brush, but don't want to spend $200, this is a good alternative. ...\n",
      "\n",
      "337 0.000 I think every household needs cleaning gloves. These have the same quality as Playtex. They are late ...\n",
      "\n",
      "336 0.000 I use household gloves all the time, so I know a thing or two about them. These are high quality and ...\n",
      "\n"
     ]
    }
   ],
   "source": [
    "for ind, row in df.iloc[top_indices].iterrows():\n",
    "    print(ind, '%.3f' % similarities[ind], row['text'][:100], '...')\n",
    "    print()"
   ]
  },
  {
   "cell_type": "markdown",
   "id": "4b1f6d06-6706-40fd-b79e-ade51dcb3e97",
   "metadata": {},
   "source": [
    "# Elasticsearch"
   ]
  },
  {
   "cell_type": "code",
<<<<<<< Updated upstream:jupyter_notebooks/vol_01_ml_products_03_search.ipynb
   "execution_count": 10,
=======
   "execution_count": 12,
>>>>>>> Stashed changes:jupyter_notebooks/data_retrieval.ipynb
   "id": "d2714709-bf63-47a1-8617-84cb7a7e5515",
   "metadata": {},
   "outputs": [
    {
     "name": "stdout",
     "output_type": "stream",
     "text": [
      "http://localhost:4080/version {}\n"
     ]
    },
    {
     "data": {
      "text/plain": [
       "{'version': '0.4.10',\n",
       " 'build': '0',\n",
       " 'commit_hash': 'f8b1436487807b107659d6f444a52c9fa442d3c0',\n",
       " 'branch': '0',\n",
       " 'build_date': '2024-01-14T09:43:19Z'}"
      ]
     },
<<<<<<< Updated upstream:jupyter_notebooks/vol_01_ml_products_03_search.ipynb
     "execution_count": 10,
=======
     "execution_count": 12,
>>>>>>> Stashed changes:jupyter_notebooks/data_retrieval.ipynb
     "metadata": {},
     "output_type": "execute_result"
    }
   ],
   "source": [
    "from utils import request_elastic, load_config, create_index\n",
    "\n",
    "request_elastic('version', debug=True, method='get')"
   ]
  },
  {
   "cell_type": "markdown",
   "id": "6e247c15-f6ff-48e5-b5f4-886c8b6b249c",
   "metadata": {},
   "source": [
    "Documents indexing"
   ]
  },
  {
   "cell_type": "code",
<<<<<<< Updated upstream:jupyter_notebooks/vol_01_ml_products_03_search.ipynb
   "execution_count": 14,
=======
   "execution_count": 13,
>>>>>>> Stashed changes:jupyter_notebooks/data_retrieval.ipynb
   "id": "598cb5e7-fc16-42d6-9567-3bf64961142c",
   "metadata": {},
   "outputs": [
    {
     "name": "stdout",
     "output_type": "stream",
     "text": [
<<<<<<< Updated upstream:jupyter_notebooks/vol_01_ml_products_03_search.ipynb
      "Failed to request: 400, {\"error\":\"index [index12] already exists\"}\n",
      "index12 dict_keys(['category', 'content', 'asin', 'parent_asin', 'content_len', 'doc_id'])\n"
=======
      "Failed to request: 400, {\"error\":\"index [index11] already exists\"}\n"
>>>>>>> Stashed changes:jupyter_notebooks/data_retrieval.ipynb
     ]
    }
   ],
   "source": [
    "index_config = load_config()\n",
    "index_name = index_config['name']\n",
    "create_index(index_config)\n",
    "print(index_name, index_config['mappings']['properties'].keys())"
   ]
  },
  {
   "cell_type": "markdown",
   "id": "75963037-48b3-4406-b7ee-2ba93bae325c",
   "metadata": {},
   "source": [
    "Loading full dataset"
   ]
  },
  {
   "cell_type": "code",
<<<<<<< Updated upstream:jupyter_notebooks/vol_01_ml_products_03_search.ipynb
   "execution_count": 15,
=======
   "execution_count": 21,
   "id": "e159c8cb-1b22-4be1-b83b-28d87b9df08e",
   "metadata": {},
   "outputs": [
    {
     "data": {
      "text/plain": [
       "{'mappings': {'properties': {'category': {'aggregatable': True,\n",
       "    'index': True,\n",
       "    'sortable': True,\n",
       "    'type': 'keyword'},\n",
       "   'content': {'highlightable': True,\n",
       "    'index': True,\n",
       "    'store': True,\n",
       "    'type': 'text'},\n",
       "   'content_len': {'aggregatable': False,\n",
       "    'index': True,\n",
       "    'sortable': True,\n",
       "    'type': 'integer'},\n",
       "   'doc_id': {'highlightable': True,\n",
       "    'index': True,\n",
       "    'store': True,\n",
       "    'type': 'text'}}},\n",
       " 'name': 'index11',\n",
       " 'settings': {'analysis': {'analyzer': {'default': {'type': 'standard'}}}},\n",
       " 'shard_num': 1,\n",
       " 'storage_type': 'disk'}"
      ]
     },
     "execution_count": 21,
     "metadata": {},
     "output_type": "execute_result"
    }
   ],
   "source": [
    "index_config"
   ]
  },
  {
   "cell_type": "code",
   "execution_count": 14,
>>>>>>> Stashed changes:jupyter_notebooks/data_retrieval.ipynb
   "id": "ddea0383-ae4b-4be4-8388-a8f6541f5cd4",
   "metadata": {},
   "outputs": [
    {
     "name": "stdout",
     "output_type": "stream",
     "text": [
      "Dataset num items: 494121 from /Users/username/PycharmProjects/ml_for_products/data/Health_and_Personal_Care.jsonl.gz\n",
      "494121\n"
     ]
    }
   ],
   "source": [
    "\n",
    "json_data = read_raw_data(data_path)\n",
    "print(len(json_data))"
   ]
  },
  {
   "cell_type": "code",
<<<<<<< Updated upstream:jupyter_notebooks/vol_01_ml_products_03_search.ipynb
   "execution_count": 16,
=======
   "execution_count": 15,
>>>>>>> Stashed changes:jupyter_notebooks/data_retrieval.ipynb
   "id": "33d5d413-8c54-4caf-8354-183ed1074ec8",
   "metadata": {},
   "outputs": [
    {
     "name": "stdout",
     "output_type": "stream",
     "text": [
      "494121\n"
     ]
    }
   ],
   "source": [
    "import hashlib\n",
    "\n",
    "from utils import clean_text\n",
    "\n",
    "def eval_doc_id(seed=None, limit=10):\n",
    "    if seed is None:\n",
    "        seed = str(int(time.time()))\n",
    "    res = str(hashlib.md5(seed.encode('utf-8')).hexdigest())[:10]\n",
    "    return res\n",
    "\n",
    "docs = [\n",
    "    {\n",
    "        'category': 'health',\n",
    "        'content': clean_text(i['text']),\n",
    "        'asin': i['asin'],\n",
    "        'parent_asin': i['parent_asin'],\n",
    "        'content_len': len(i['text']),\n",
    "        'doc_id': eval_doc_id(i['user_id']+str(i['timestamp'])),\n",
    "        '_id': eval_doc_id(i['user_id']+str(i['timestamp']))\n",
    "    }\n",
    "    for i in json_data \n",
    "]\n",
    "print(len(docs))"
   ]
  },
  {
   "cell_type": "code",
<<<<<<< Updated upstream:jupyter_notebooks/vol_01_ml_products_03_search.ipynb
   "execution_count": 17,
=======
   "execution_count": 16,
>>>>>>> Stashed changes:jupyter_notebooks/data_retrieval.ipynb
   "id": "2a99f33d-7af0-47ef-b361-4c34a62a8031",
   "metadata": {},
   "outputs": [
    {
     "data": {
      "text/plain": [
       "{'message': 'ok',\n",
       " 'id': 'b48b7da01e',\n",
       " '_id': 'b48b7da01e',\n",
       " '_index': 'index12',\n",
       " '_version': 1,\n",
       " '_seq_no': 0,\n",
       " '_primary_term': 0,\n",
       " 'result': 'created'}"
      ]
     },
<<<<<<< Updated upstream:jupyter_notebooks/vol_01_ml_products_03_search.ipynb
     "execution_count": 17,
=======
     "execution_count": 16,
>>>>>>> Stashed changes:jupyter_notebooks/data_retrieval.ipynb
     "metadata": {},
     "output_type": "execute_result"
    }
   ],
   "source": [
    "from utils import load_document, load_bulk_documents, search, pretty\n",
    "\n",
    "load_document(docs[0], index_name)"
   ]
  },
  {
   "cell_type": "code",
<<<<<<< Updated upstream:jupyter_notebooks/vol_01_ml_products_03_search.ipynb
   "execution_count": 18,
=======
   "execution_count": 17,
>>>>>>> Stashed changes:jupyter_notebooks/data_retrieval.ipynb
   "id": "98fe626a-6721-4d78-9693-dd0d7318eb08",
   "metadata": {},
   "outputs": [
    {
     "data": {
      "text/plain": [
       "{'took': 0,\n",
       " 'timed_out': False,\n",
       " '_shards': {'total': 1, 'successful': 1, 'skipped': 0, 'failed': 0},\n",
<<<<<<< Updated upstream:jupyter_notebooks/vol_01_ml_products_03_search.ipynb
       " 'hits': {'total': {'value': 0}, 'max_score': 0, 'hits': []}}"
      ]
     },
     "execution_count": 18,
=======
       " 'hits': {'total': {'value': 3},\n",
       "  'max_score': 3.800283804728009,\n",
       "  'hits': [{'_index': 'index11',\n",
       "    '_type': '_doc',\n",
       "    '_id': '9588e668a0',\n",
       "    '_score': 3.800283804728009,\n",
       "    '@timestamp': '2024-11-10T19:25:44.530689536Z',\n",
       "    '_source': {'@timestamp': '2024-11-10T19:25:44.530689536Z',\n",
       "     '_id': '9588e668a0',\n",
       "     'category': 'health',\n",
       "     'content': 'VERY soothing.  I get that awful tickly dry cough a lot during allergy season, especially 5 minutes after lying down to sleep, and this actually quiets it down with zero side effects.  I just wish it came in a purse-size.',\n",
       "     'content_len': 221,\n",
       "     'doc_id': '9588e668a0'}},\n",
       "   {'_index': 'index11',\n",
       "    '_type': '_doc',\n",
       "    '_id': '35185fb3a1',\n",
       "    '_score': 3.463888525405098,\n",
       "    '@timestamp': '2024-11-10T19:25:40.982337536Z',\n",
       "    '_source': {'@timestamp': '2024-11-10T19:25:40.982337536Z',\n",
       "     '_id': '35185fb3a1',\n",
       "     'category': 'health',\n",
       "     'content': 'These seem like great quality cough drops with beneficial ingredients for when you are under the weather. A couple downsides for me are that the outside of them are rough so they cut up your mouth a bit and secondly no place saying where they are made. They have a mildly sweet and minty taste.',\n",
       "     'content_len': 294,\n",
       "     'doc_id': '35185fb3a1'}},\n",
       "   {'_index': 'index11',\n",
       "    '_type': '_doc',\n",
       "    '_id': 'df6698a3e4',\n",
       "    '_score': 1.9279533384225402,\n",
       "    '@timestamp': '2024-11-10T19:25:45.122370048Z',\n",
       "    '_source': {'@timestamp': '2024-11-10T19:25:45.122370048Z',\n",
       "     '_id': 'df6698a3e4',\n",
       "     'category': 'health',\n",
       "     'content': \"We have a big variety of probiotics that we rotate and use daily.  This one has a very impressive label.  Now, I have no way to test any of these claims, so I just have to believe them.  This one gives more capsules for less money than many others, all-the-while giving lots of CFU's.<br /><br />Not long before the Covid19 outbreak, I had to take another round of antibiotics.  Since this wipes out all of the good bacteria in my intestines, I stocked up on several different pre + probiotics.  My thoughts are that different brands may have different types of good bacteria.<br /><br />After about two weeks of some serious probiotic dosages, which was also in the middle of the Covid19 outbreak, I got sick.  I had a fever, cough, and shortness of breath.  It really started to worry me.  It only lasted two days and was gone.  I have no proof but I am going to say that my pre and probiotics kept me from getting much sicker and also shortened the duration of my illness.\",\n",
       "     'content_len': 975,\n",
       "     'doc_id': 'df6698a3e4'}}]}}"
      ]
     },
     "execution_count": 17,
>>>>>>> Stashed changes:jupyter_notebooks/data_retrieval.ipynb
     "metadata": {},
     "output_type": "execute_result"
    }
   ],
   "source": [
    "search(index_name, 'cough')"
   ]
  },
  {
   "cell_type": "markdown",
   "id": "b2bf9a27-5ffe-4032-a741-27d7d054983b",
   "metadata": {},
   "source": [
    "Build search index"
   ]
  },
  {
   "cell_type": "code",
<<<<<<< Updated upstream:jupyter_notebooks/vol_01_ml_products_03_search.ipynb
   "execution_count": 19,
=======
   "execution_count": 18,
>>>>>>> Stashed changes:jupyter_notebooks/data_retrieval.ipynb
   "id": "e907265c-5c40-4ba5-8d20-180d0a434375",
   "metadata": {},
   "outputs": [
    {
     "name": "stdout",
     "output_type": "stream",
     "text": [
      "Document loaded successfully.\n"
     ]
    }
   ],
   "source": [
    "load_bulk_documents(index_name, docs)"
   ]
  },
  {
   "cell_type": "code",
<<<<<<< Updated upstream:jupyter_notebooks/vol_01_ml_products_03_search.ipynb
   "execution_count": 20,
=======
   "execution_count": 19,
>>>>>>> Stashed changes:jupyter_notebooks/data_retrieval.ipynb
   "id": "1c5dc0ea-63be-4ed5-a694-cb3dbe1e6ee5",
   "metadata": {},
   "outputs": [
    {
     "data": {
      "text/plain": [
       "{'took': 12,\n",
       " 'timed_out': False,\n",
       " '_shards': {'total': 1, 'successful': 1, 'skipped': 0, 'failed': 0},\n",
<<<<<<< Updated upstream:jupyter_notebooks/vol_01_ml_products_03_search.ipynb
       " 'hits': {'total': {'value': 325},\n",
       "  'max_score': 11.316850693013405,\n",
       "  'hits': [{'_index': 'index12',\n",
       "    '_type': '_doc',\n",
       "    '_id': '19429f7c97',\n",
       "    '_score': 11.316850693013405,\n",
       "    '@timestamp': '2024-12-07T12:12:31.80982016Z',\n",
       "    '_source': {'@timestamp': '2024-12-07T12:12:31.80982016Z',\n",
       "     '_id': '19429f7c97',\n",
       "     'asin': 'B07P7XN3RS',\n",
=======
       " 'hits': {'total': {'value': 3},\n",
       "  'max_score': 4.535997886006282,\n",
       "  'hits': [{'_index': 'index11',\n",
       "    '_type': '_doc',\n",
       "    '_id': '9588e668a0',\n",
       "    '_score': 4.535997886006282,\n",
       "    '@timestamp': '2024-11-12T17:04:04.335334656Z',\n",
       "    '_source': {'@timestamp': '2024-11-12T17:04:04.335334656Z',\n",
       "     '_id': '9588e668a0',\n",
>>>>>>> Stashed changes:jupyter_notebooks/data_retrieval.ipynb
       "     'category': 'health',\n",
       "     'content': 'My three year old had been battling a cough from allergies for a few days and his sleep was suffering because of it. Within about 20 minutes his cough had stopped and he was zoning. We’ve used it the last three nights now and he is sleeping deeper and easier, with only a stray cough here and there. I would definitely recommend this to others! Now I just wish I could find something similar without the cough aide to help him sleep better nightly after he gets over the cough :)',\n",
       "     'content_len': 479,\n",
       "     'doc_id': '19429f7c97',\n",
       "     'parent_asin': 'B07P7XN3RS'}},\n",
       "   {'_index': 'index12',\n",
       "    '_type': '_doc',\n",
<<<<<<< Updated upstream:jupyter_notebooks/vol_01_ml_products_03_search.ipynb
       "    '_id': '2c3c65f48c',\n",
       "    '_score': 11.10239502510455,\n",
       "    '@timestamp': '2024-12-07T12:20:57.575930368Z',\n",
       "    '_source': {'@timestamp': '2024-12-07T12:20:57.575930368Z',\n",
       "     '_id': '2c3c65f48c',\n",
       "     'asin': 'B009RPA6RQ',\n",
=======
       "    '_id': '35185fb3a1',\n",
       "    '_score': 4.320778193388964,\n",
       "    '@timestamp': '2024-11-12T17:03:54.119958784Z',\n",
       "    '_source': {'@timestamp': '2024-11-12T17:03:54.119958784Z',\n",
       "     '_id': '35185fb3a1',\n",
>>>>>>> Stashed changes:jupyter_notebooks/data_retrieval.ipynb
       "     'category': 'health',\n",
       "     'content': 'Had a cough. Took 1 dose and the cough was gone.',\n",
       "     'content_len': 48,\n",
       "     'doc_id': '2c3c65f48c',\n",
       "     'parent_asin': 'B009RPA6RQ'}},\n",
       "   {'_index': 'index12',\n",
       "    '_type': '_doc',\n",
<<<<<<< Updated upstream:jupyter_notebooks/vol_01_ml_products_03_search.ipynb
       "    '_id': 'cc8ee5c6cd',\n",
       "    '_score': 11.072242743454927,\n",
       "    '@timestamp': '2024-12-07T12:21:38.435662592Z',\n",
       "    '_source': {'@timestamp': '2024-12-07T12:21:38.435662592Z',\n",
       "     '_id': 'cc8ee5c6cd',\n",
       "     'asin': 'B07P7XN3RS',\n",
=======
       "    '_id': 'df6698a3e4',\n",
       "    '_score': 3.0278257507716386,\n",
       "    '@timestamp': '2024-11-12T17:04:05.917612032Z',\n",
       "    '_source': {'@timestamp': '2024-11-12T17:04:05.917612032Z',\n",
       "     '_id': 'df6698a3e4',\n",
>>>>>>> Stashed changes:jupyter_notebooks/data_retrieval.ipynb
       "     'category': 'health',\n",
       "     'content': 'I absolutely recommend this cough medicine to others my 15 Month Old has a bad cough I gave this to her and with in 15 to 20 minutes her cough was a lot better and it helped her sleep so much better at night totally recommend',\n",
       "     'content_len': 225,\n",
       "     'doc_id': 'cc8ee5c6cd',\n",
       "     'parent_asin': 'B07P7XN3RS'}},\n",
       "   {'_index': 'index12',\n",
       "    '_type': '_doc',\n",
       "    '_id': '2a089adde5',\n",
       "    '_score': 11.026528471864022,\n",
       "    '@timestamp': '2024-12-07T12:13:49.952251648Z',\n",
       "    '_source': {'@timestamp': '2024-12-07T12:13:49.952251648Z',\n",
       "     '_id': '2a089adde5',\n",
       "     'asin': 'B001E16PKS',\n",
       "     'category': 'health',\n",
       "     'content': 'I use nettle to relieve my cough.  It relaxes my throat, stops the cough.',\n",
       "     'content_len': 73,\n",
       "     'doc_id': '2a089adde5',\n",
       "     'parent_asin': 'B01M10VOTP'}},\n",
       "   {'_index': 'index12',\n",
       "    '_type': '_doc',\n",
       "    '_id': '553edb8dbe',\n",
       "    '_score': 10.902362371748762,\n",
       "    '@timestamp': '2024-12-07T12:11:20.374226944Z',\n",
       "    '_source': {'@timestamp': '2024-12-07T12:11:20.374226944Z',\n",
       "     '_id': '553edb8dbe',\n",
       "     'asin': 'B005239ML8',\n",
       "     'category': 'health',\n",
       "     'content': 'Enables me to cough up phlegm. I suffer with COPD and this product enables me to cough it up.',\n",
       "     'content_len': 93,\n",
       "     'doc_id': '553edb8dbe',\n",
       "     'parent_asin': 'B005239ML8'}},\n",
       "   {'_index': 'index12',\n",
       "    '_type': '_doc',\n",
       "    '_id': '3c6451d7bc',\n",
       "    '_score': 10.857027878440594,\n",
       "    '@timestamp': '2024-12-07T12:28:23.727225856Z',\n",
       "    '_source': {'@timestamp': '2024-12-07T12:28:23.727225856Z',\n",
       "     '_id': '3c6451d7bc',\n",
       "     'asin': 'B013CX7R5M',\n",
       "     'category': 'health',\n",
       "     'content': \"I've loved these cough drops for many years. You used to be able to purchase them along side the nasty tasting ones wherever cough remedies are sold.  However, I now have to purchase them online as they are the ONLY cough drops I will use!!! I got my grandkids using them now too.  Everyone should at least try them.\",\n",
       "     'content_len': 316,\n",
       "     'doc_id': '3c6451d7bc',\n",
       "     'parent_asin': 'B013CX7R5M'}},\n",
       "   {'_index': 'index12',\n",
       "    '_type': '_doc',\n",
       "    '_id': 'ad57b0af43',\n",
       "    '_score': 10.829195969412602,\n",
       "    '@timestamp': '2024-12-07T12:11:20.416632576Z',\n",
       "    '_source': {'@timestamp': '2024-12-07T12:11:20.416632576Z',\n",
       "     '_id': 'ad57b0af43',\n",
       "     'asin': 'B08M5XZBRP',\n",
       "     'category': 'health',\n",
       "     'content': 'I love  Vicks cough drops. They help with my sinuses. A cough drop just before bed and no sinus in the morning.',\n",
       "     'content_len': 111,\n",
       "     'doc_id': 'ad57b0af43',\n",
       "     'parent_asin': 'B08M5XZBRP'}},\n",
       "   {'_index': 'index12',\n",
       "    '_type': '_doc',\n",
       "    '_id': '409b396de2',\n",
       "    '_score': 10.75700506858366,\n",
       "    '@timestamp': '2024-12-07T12:16:12.86256512Z',\n",
       "    '_source': {'@timestamp': '2024-12-07T12:16:12.86256512Z',\n",
       "     '_id': '409b396de2',\n",
       "     'asin': 'B006U41QN0',\n",
       "     'category': 'health',\n",
       "     'content': 'I have had a cough for 6mos after trying this for a week I feel I am breathing better an my cough has gotten better',\n",
       "     'content_len': 115,\n",
       "     'doc_id': '409b396de2',\n",
       "     'parent_asin': 'B006U41QN0'}},\n",
       "   {'_index': 'index12',\n",
       "    '_type': '_doc',\n",
       "    '_id': '953a8f6f1f',\n",
       "    '_score': 10.709410155188833,\n",
       "    '@timestamp': '2024-12-07T12:33:35.77545344Z',\n",
       "    '_source': {'@timestamp': '2024-12-07T12:33:35.77545344Z',\n",
       "     '_id': '953a8f6f1f',\n",
       "     'asin': 'B07P7XN3RS',\n",
       "     'category': 'health',\n",
       "     'content': \"I love this cough syrup I gave it to my daughter of 15 months and as soon as she'd take it moments later her cough would subside.\",\n",
       "     'content_len': 129,\n",
       "     'doc_id': '953a8f6f1f',\n",
       "     'parent_asin': 'B07P7XN3RS'}},\n",
       "   {'_index': 'index12',\n",
       "    '_type': '_doc',\n",
       "    '_id': '63d8b03a9d',\n",
       "    '_score': 10.685770289434377,\n",
       "    '@timestamp': '2024-12-07T12:21:46.843766016Z',\n",
       "    '_source': {'@timestamp': '2024-12-07T12:21:46.843766016Z',\n",
       "     '_id': '63d8b03a9d',\n",
       "     'asin': 'B005239ML8',\n",
       "     'category': 'health',\n",
       "     'content': 'What I ordered is what was pictured, and I gradients described a cough syrup.  What I got was a cough elixir.  Sugar free, thin liquid that tastes awful!',\n",
       "     'content_len': 153,\n",
       "     'doc_id': '63d8b03a9d',\n",
       "     'parent_asin': 'B005239ML8'}}]}}"
      ]
     },
<<<<<<< Updated upstream:jupyter_notebooks/vol_01_ml_products_03_search.ipynb
     "execution_count": 20,
=======
     "execution_count": 19,
>>>>>>> Stashed changes:jupyter_notebooks/data_retrieval.ipynb
     "metadata": {},
     "output_type": "execute_result"
    }
   ],
   "source": [
    "res = search(index_name, 'cough')\n",
    "res"
   ]
  },
  {
   "cell_type": "code",
<<<<<<< Updated upstream:jupyter_notebooks/vol_01_ml_products_03_search.ipynb
   "execution_count": 22,
=======
   "execution_count": 20,
>>>>>>> Stashed changes:jupyter_notebooks/data_retrieval.ipynb
   "id": "5f388d26-b440-4d48-baed-15ab38bf844a",
   "metadata": {},
   "outputs": [
    {
     "data": {
      "text/plain": [
       "[{'content': 'VERY soothing.  I get that awful tickly dry cough a lot during allergy season, especially 5 minutes after lying down to sleep, and this actually quiets it down with zero side effects.  I just wish it came in a purse-size.'},\n",
       " {'content': 'These seem like great quality cough drops with beneficial ingredients for when you are under the weather. A couple downsides for me are that the outside of them are rough so they cut up your mouth a bit and secondly no place saying where they are made. They have a mildly sweet and minty taste.'},\n",
       " {'content': \"We have a big variety of probiotics that we rotate and use daily.  This one has a very impressive label.  Now, I have no way to test any of these claims, so I just have to believe them.  This one gives more capsules for less money than many others, all-the-while giving lots of CFU's.<br /><br />Not long before the Covid19 outbreak, I had to take another round of antibiotics.  Since this wipes out all of the good bacteria in my intestines, I stocked up on several different pre + probiotics.  My thoughts are that different brands may have different types of good bacteria.<br /><br />After about two weeks of some serious probiotic dosages, which was also in the middle of the Covid19 outbreak, I got sick.  I had a fever, cough, and shortness of breath.  It really started to worry me.  It only lasted two days and was gone.  I have no proof but I am going to say that my pre and probiotics kept me from getting much sicker and also shortened the duration of my illness.\"}]"
      ]
     },
<<<<<<< Updated upstream:jupyter_notebooks/vol_01_ml_products_03_search.ipynb
     "execution_count": 22,
=======
     "execution_count": 20,
>>>>>>> Stashed changes:jupyter_notebooks/data_retrieval.ipynb
     "metadata": {},
     "output_type": "execute_result"
    }
   ],
   "source": [
    "pretty(res['hits']['hits'])"
   ]
  },
  {
   "cell_type": "markdown",
   "id": "89c3a2a6-df3a-4758-aadf-4352be62bdbf",
   "metadata": {},
   "source": [
    "# Embeddings search\n",
    "\n",
    "GPU-powered [embeddings evaluation](https://colab.research.google.com/drive/1avq9WrUSOwsfUUXZZhgyNxKNe62kG-fk?usp=sharing)"
   ]
  },
  {
   "cell_type": "code",
   "execution_count": null,
   "id": "12db7487-4299-493a-80e4-c4c817e17fe0",
   "metadata": {},
   "outputs": [],
   "source": []
  }
 ],
 "metadata": {
  "kernelspec": {
   "display_name": "Python 3 (ipykernel)",
   "language": "python",
   "name": "python3"
  },
  "language_info": {
   "codemirror_mode": {
    "name": "ipython",
    "version": 3
   },
   "file_extension": ".py",
   "mimetype": "text/x-python",
   "name": "python",
   "nbconvert_exporter": "python",
   "pygments_lexer": "ipython3",
   "version": "3.12.6"
  }
 },
 "nbformat": 4,
 "nbformat_minor": 5
}
