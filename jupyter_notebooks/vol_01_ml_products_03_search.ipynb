{
  "cells": [
    {
      "cell_type": "markdown",
      "id": "52634af4-48c7-462d-b583-5f785a1d3f67",
      "metadata": {
        "id": "52634af4-48c7-462d-b583-5f785a1d3f67"
      },
      "source": [
        "# Data ingestion\n",
        "\n",
        "download dataset [Health_and_Personal_Care.jsonl.gz](https://drive.google.com/file/d/12N52kB4D1iqgzSuoWEfNSY3KqVRp10wL/view?usp=drive_link)\n",
        "\n",
        "put in to `data` dir"
      ]
    },
    {
      "cell_type": "code",
      "execution_count": 1,
      "id": "ee7ce8d0-00f6-4329-bf12-f2b08ea12a16",
      "metadata": {
        "colab": {
          "base_uri": "https://localhost:8080/"
        },
        "id": "ee7ce8d0-00f6-4329-bf12-f2b08ea12a16",
        "outputId": "bcff8527-4030-499e-89e2-8827594554a4"
      },
      "outputs": [
        {
          "output_type": "stream",
          "name": "stdout",
          "text": [
            "Drive already mounted at /content/drive; to attempt to forcibly remount, call drive.mount(\"/content/drive\", force_remount=True).\n",
            "Google drive connected\n",
            "['nyt-ingredients-snapshot-2015.csv', 'insurance.csv', 'non_linear.csv', 'client_segmentation.csv', 'eigen.pkl', 'clustering.pkl', 'boosting_toy_dataset.csv', 'politic_meme.jpg', 'gray_goose.jpg', 'memes', 'optimal_push_time', 'sklearn_data', 'my_little_recsys', 'corpora', 'logs', 'nltk_data', 'recsys_data', 'MNIST', 'hymenoptera_data', 'pet_projects', 'ocr_dataset_sample.csv', 'geo_points.csv.gzip', 'scored_corpus.csv', 'labeled_data_corpus.csv', 'memes_stat_dataset.zip', 'als_model.pkl', 'raw_data.zip', 'json_views.tar.gz', 'sales_timeseries_dataset.csv.gz', 'brand_tweets_valid.csv', 'brand_tweets.csv', 'Health_and_Personal_Care.jsonl.gz', 'models']\n"
          ]
        }
      ],
      "source": [
        "%load_ext autoreload\n",
        "%autoreload 2\n",
        "\n",
        "import os\n",
        "import sys\n",
        "\n",
        "run_env = os.getenv('RUN_ENV', 'COLLAB')\n",
        "if run_env == 'COLLAB':\n",
        "  from google.colab import drive\n",
        "  ROOT_DIR = '/content/drive'\n",
        "  drive.mount(ROOT_DIR)\n",
        "  print('Google drive connected')\n",
        "  root_data_dir = os.path.join(ROOT_DIR, 'MyDrive', 'ml_course_data')\n",
        "  sys.path.append(os.path.join(ROOT_DIR, 'MyDrive', 'src'))\n",
        "else:\n",
        "  root_data_dir = os.getenv('DATA_DIR', '/srv/data')\n",
        "\n",
        "print(os.listdir(root_data_dir))"
      ]
    },
    {
      "cell_type": "code",
      "execution_count": 9,
      "id": "b86d7416-50b4-47ba-b708-ac8d0c9a5b8b",
      "metadata": {
        "colab": {
          "base_uri": "https://localhost:8080/"
        },
        "id": "b86d7416-50b4-47ba-b708-ac8d0c9a5b8b",
        "outputId": "64856eec-aac6-4ddb-c407-a464816a84f4"
      },
      "outputs": [
        {
          "output_type": "stream",
          "name": "stdout",
          "text": [
            "Dataset num items: 1000 from /content/drive/MyDrive/ml_course_data/Health_and_Personal_Care.jsonl.gz\n",
            "1000\n"
          ]
        }
      ],
      "source": [
        "from utils import read_raw_data\n",
        "\n",
        "file_name = 'Health_and_Personal_Care.jsonl.gz'\n",
        "data_path = os.path.join(root_data_dir, file_name)\n",
        "\n",
        "json_data = read_raw_data(data_path, limit=1000)\n",
        "print(len(json_data))"
      ]
    },
    {
      "cell_type": "code",
      "execution_count": null,
      "id": "0769a3bc-dae7-4e73-8235-d24600de7b5a",
      "metadata": {
        "id": "0769a3bc-dae7-4e73-8235-d24600de7b5a"
      },
      "outputs": [],
      "source": [
        "json_data[0]"
      ]
    },
    {
      "cell_type": "code",
      "execution_count": 10,
      "id": "7152f166-a80f-41dd-ae55-e5b60ad451ca",
      "metadata": {
        "colab": {
          "base_uri": "https://localhost:8080/",
          "height": 248
        },
        "id": "7152f166-a80f-41dd-ae55-e5b60ad451ca",
        "outputId": "a58b2cd0-c4ee-49cf-eeb2-e9c130c2d116"
      },
      "outputs": [
        {
          "output_type": "execute_result",
          "data": {
            "text/plain": [
              "   rating                                              title  \\\n",
              "0     4.0  12 mg is 12 on the periodic table people! Mg f...   \n",
              "1     5.0                 Save the lanet using less plastic.   \n",
              "2     5.0                                          Fantastic   \n",
              "\n",
              "                                                text images        asin  \\\n",
              "0  This review is more to clarify someone else’s ...     []  B07TDSJZMR   \n",
              "1  Love these easy multitasking bleach tablets. B...     []  B08637FWWF   \n",
              "2  I have been suffering a couple months with hee...     []  B07KJVGNN5   \n",
              "\n",
              "  parent_asin                       user_id      timestamp  helpful_vote  \\\n",
              "0  B07TDSJZMR  AFKZENTNBQ7A7V7UXW5JJI6UGRYQ  1580950175902             3   \n",
              "1  B08637FWWF  AEVWAM3YWN5URJVJIZZ6XPD2MKIA  1604354586880             3   \n",
              "2  B07KJVGNN5  AHSPLDNW5OOUK2PLH7GXLACFBZNQ  1563966838905             0   \n",
              "\n",
              "   verified_purchase  \n",
              "0               True  \n",
              "1               True  \n",
              "2               True  "
            ],
            "text/html": [
              "\n",
              "  <div id=\"df-d83bc6c4-2038-4a44-a064-fce601ea4f35\" class=\"colab-df-container\">\n",
              "    <div>\n",
              "<style scoped>\n",
              "    .dataframe tbody tr th:only-of-type {\n",
              "        vertical-align: middle;\n",
              "    }\n",
              "\n",
              "    .dataframe tbody tr th {\n",
              "        vertical-align: top;\n",
              "    }\n",
              "\n",
              "    .dataframe thead th {\n",
              "        text-align: right;\n",
              "    }\n",
              "</style>\n",
              "<table border=\"1\" class=\"dataframe\">\n",
              "  <thead>\n",
              "    <tr style=\"text-align: right;\">\n",
              "      <th></th>\n",
              "      <th>rating</th>\n",
              "      <th>title</th>\n",
              "      <th>text</th>\n",
              "      <th>images</th>\n",
              "      <th>asin</th>\n",
              "      <th>parent_asin</th>\n",
              "      <th>user_id</th>\n",
              "      <th>timestamp</th>\n",
              "      <th>helpful_vote</th>\n",
              "      <th>verified_purchase</th>\n",
              "    </tr>\n",
              "  </thead>\n",
              "  <tbody>\n",
              "    <tr>\n",
              "      <th>0</th>\n",
              "      <td>4.0</td>\n",
              "      <td>12 mg is 12 on the periodic table people! Mg f...</td>\n",
              "      <td>This review is more to clarify someone else’s ...</td>\n",
              "      <td>[]</td>\n",
              "      <td>B07TDSJZMR</td>\n",
              "      <td>B07TDSJZMR</td>\n",
              "      <td>AFKZENTNBQ7A7V7UXW5JJI6UGRYQ</td>\n",
              "      <td>1580950175902</td>\n",
              "      <td>3</td>\n",
              "      <td>True</td>\n",
              "    </tr>\n",
              "    <tr>\n",
              "      <th>1</th>\n",
              "      <td>5.0</td>\n",
              "      <td>Save the lanet using less plastic.</td>\n",
              "      <td>Love these easy multitasking bleach tablets. B...</td>\n",
              "      <td>[]</td>\n",
              "      <td>B08637FWWF</td>\n",
              "      <td>B08637FWWF</td>\n",
              "      <td>AEVWAM3YWN5URJVJIZZ6XPD2MKIA</td>\n",
              "      <td>1604354586880</td>\n",
              "      <td>3</td>\n",
              "      <td>True</td>\n",
              "    </tr>\n",
              "    <tr>\n",
              "      <th>2</th>\n",
              "      <td>5.0</td>\n",
              "      <td>Fantastic</td>\n",
              "      <td>I have been suffering a couple months with hee...</td>\n",
              "      <td>[]</td>\n",
              "      <td>B07KJVGNN5</td>\n",
              "      <td>B07KJVGNN5</td>\n",
              "      <td>AHSPLDNW5OOUK2PLH7GXLACFBZNQ</td>\n",
              "      <td>1563966838905</td>\n",
              "      <td>0</td>\n",
              "      <td>True</td>\n",
              "    </tr>\n",
              "  </tbody>\n",
              "</table>\n",
              "</div>\n",
              "    <div class=\"colab-df-buttons\">\n",
              "\n",
              "  <div class=\"colab-df-container\">\n",
              "    <button class=\"colab-df-convert\" onclick=\"convertToInteractive('df-d83bc6c4-2038-4a44-a064-fce601ea4f35')\"\n",
              "            title=\"Convert this dataframe to an interactive table.\"\n",
              "            style=\"display:none;\">\n",
              "\n",
              "  <svg xmlns=\"http://www.w3.org/2000/svg\" height=\"24px\" viewBox=\"0 -960 960 960\">\n",
              "    <path d=\"M120-120v-720h720v720H120Zm60-500h600v-160H180v160Zm220 220h160v-160H400v160Zm0 220h160v-160H400v160ZM180-400h160v-160H180v160Zm440 0h160v-160H620v160ZM180-180h160v-160H180v160Zm440 0h160v-160H620v160Z\"/>\n",
              "  </svg>\n",
              "    </button>\n",
              "\n",
              "  <style>\n",
              "    .colab-df-container {\n",
              "      display:flex;\n",
              "      gap: 12px;\n",
              "    }\n",
              "\n",
              "    .colab-df-convert {\n",
              "      background-color: #E8F0FE;\n",
              "      border: none;\n",
              "      border-radius: 50%;\n",
              "      cursor: pointer;\n",
              "      display: none;\n",
              "      fill: #1967D2;\n",
              "      height: 32px;\n",
              "      padding: 0 0 0 0;\n",
              "      width: 32px;\n",
              "    }\n",
              "\n",
              "    .colab-df-convert:hover {\n",
              "      background-color: #E2EBFA;\n",
              "      box-shadow: 0px 1px 2px rgba(60, 64, 67, 0.3), 0px 1px 3px 1px rgba(60, 64, 67, 0.15);\n",
              "      fill: #174EA6;\n",
              "    }\n",
              "\n",
              "    .colab-df-buttons div {\n",
              "      margin-bottom: 4px;\n",
              "    }\n",
              "\n",
              "    [theme=dark] .colab-df-convert {\n",
              "      background-color: #3B4455;\n",
              "      fill: #D2E3FC;\n",
              "    }\n",
              "\n",
              "    [theme=dark] .colab-df-convert:hover {\n",
              "      background-color: #434B5C;\n",
              "      box-shadow: 0px 1px 3px 1px rgba(0, 0, 0, 0.15);\n",
              "      filter: drop-shadow(0px 1px 2px rgba(0, 0, 0, 0.3));\n",
              "      fill: #FFFFFF;\n",
              "    }\n",
              "  </style>\n",
              "\n",
              "    <script>\n",
              "      const buttonEl =\n",
              "        document.querySelector('#df-d83bc6c4-2038-4a44-a064-fce601ea4f35 button.colab-df-convert');\n",
              "      buttonEl.style.display =\n",
              "        google.colab.kernel.accessAllowed ? 'block' : 'none';\n",
              "\n",
              "      async function convertToInteractive(key) {\n",
              "        const element = document.querySelector('#df-d83bc6c4-2038-4a44-a064-fce601ea4f35');\n",
              "        const dataTable =\n",
              "          await google.colab.kernel.invokeFunction('convertToInteractive',\n",
              "                                                    [key], {});\n",
              "        if (!dataTable) return;\n",
              "\n",
              "        const docLinkHtml = 'Like what you see? Visit the ' +\n",
              "          '<a target=\"_blank\" href=https://colab.research.google.com/notebooks/data_table.ipynb>data table notebook</a>'\n",
              "          + ' to learn more about interactive tables.';\n",
              "        element.innerHTML = '';\n",
              "        dataTable['output_type'] = 'display_data';\n",
              "        await google.colab.output.renderOutput(dataTable, element);\n",
              "        const docLink = document.createElement('div');\n",
              "        docLink.innerHTML = docLinkHtml;\n",
              "        element.appendChild(docLink);\n",
              "      }\n",
              "    </script>\n",
              "  </div>\n",
              "\n",
              "\n",
              "<div id=\"df-60399253-ec2e-498b-b4b1-46bf170604ca\">\n",
              "  <button class=\"colab-df-quickchart\" onclick=\"quickchart('df-60399253-ec2e-498b-b4b1-46bf170604ca')\"\n",
              "            title=\"Suggest charts\"\n",
              "            style=\"display:none;\">\n",
              "\n",
              "<svg xmlns=\"http://www.w3.org/2000/svg\" height=\"24px\"viewBox=\"0 0 24 24\"\n",
              "     width=\"24px\">\n",
              "    <g>\n",
              "        <path d=\"M19 3H5c-1.1 0-2 .9-2 2v14c0 1.1.9 2 2 2h14c1.1 0 2-.9 2-2V5c0-1.1-.9-2-2-2zM9 17H7v-7h2v7zm4 0h-2V7h2v10zm4 0h-2v-4h2v4z\"/>\n",
              "    </g>\n",
              "</svg>\n",
              "  </button>\n",
              "\n",
              "<style>\n",
              "  .colab-df-quickchart {\n",
              "      --bg-color: #E8F0FE;\n",
              "      --fill-color: #1967D2;\n",
              "      --hover-bg-color: #E2EBFA;\n",
              "      --hover-fill-color: #174EA6;\n",
              "      --disabled-fill-color: #AAA;\n",
              "      --disabled-bg-color: #DDD;\n",
              "  }\n",
              "\n",
              "  [theme=dark] .colab-df-quickchart {\n",
              "      --bg-color: #3B4455;\n",
              "      --fill-color: #D2E3FC;\n",
              "      --hover-bg-color: #434B5C;\n",
              "      --hover-fill-color: #FFFFFF;\n",
              "      --disabled-bg-color: #3B4455;\n",
              "      --disabled-fill-color: #666;\n",
              "  }\n",
              "\n",
              "  .colab-df-quickchart {\n",
              "    background-color: var(--bg-color);\n",
              "    border: none;\n",
              "    border-radius: 50%;\n",
              "    cursor: pointer;\n",
              "    display: none;\n",
              "    fill: var(--fill-color);\n",
              "    height: 32px;\n",
              "    padding: 0;\n",
              "    width: 32px;\n",
              "  }\n",
              "\n",
              "  .colab-df-quickchart:hover {\n",
              "    background-color: var(--hover-bg-color);\n",
              "    box-shadow: 0 1px 2px rgba(60, 64, 67, 0.3), 0 1px 3px 1px rgba(60, 64, 67, 0.15);\n",
              "    fill: var(--button-hover-fill-color);\n",
              "  }\n",
              "\n",
              "  .colab-df-quickchart-complete:disabled,\n",
              "  .colab-df-quickchart-complete:disabled:hover {\n",
              "    background-color: var(--disabled-bg-color);\n",
              "    fill: var(--disabled-fill-color);\n",
              "    box-shadow: none;\n",
              "  }\n",
              "\n",
              "  .colab-df-spinner {\n",
              "    border: 2px solid var(--fill-color);\n",
              "    border-color: transparent;\n",
              "    border-bottom-color: var(--fill-color);\n",
              "    animation:\n",
              "      spin 1s steps(1) infinite;\n",
              "  }\n",
              "\n",
              "  @keyframes spin {\n",
              "    0% {\n",
              "      border-color: transparent;\n",
              "      border-bottom-color: var(--fill-color);\n",
              "      border-left-color: var(--fill-color);\n",
              "    }\n",
              "    20% {\n",
              "      border-color: transparent;\n",
              "      border-left-color: var(--fill-color);\n",
              "      border-top-color: var(--fill-color);\n",
              "    }\n",
              "    30% {\n",
              "      border-color: transparent;\n",
              "      border-left-color: var(--fill-color);\n",
              "      border-top-color: var(--fill-color);\n",
              "      border-right-color: var(--fill-color);\n",
              "    }\n",
              "    40% {\n",
              "      border-color: transparent;\n",
              "      border-right-color: var(--fill-color);\n",
              "      border-top-color: var(--fill-color);\n",
              "    }\n",
              "    60% {\n",
              "      border-color: transparent;\n",
              "      border-right-color: var(--fill-color);\n",
              "    }\n",
              "    80% {\n",
              "      border-color: transparent;\n",
              "      border-right-color: var(--fill-color);\n",
              "      border-bottom-color: var(--fill-color);\n",
              "    }\n",
              "    90% {\n",
              "      border-color: transparent;\n",
              "      border-bottom-color: var(--fill-color);\n",
              "    }\n",
              "  }\n",
              "</style>\n",
              "\n",
              "  <script>\n",
              "    async function quickchart(key) {\n",
              "      const quickchartButtonEl =\n",
              "        document.querySelector('#' + key + ' button');\n",
              "      quickchartButtonEl.disabled = true;  // To prevent multiple clicks.\n",
              "      quickchartButtonEl.classList.add('colab-df-spinner');\n",
              "      try {\n",
              "        const charts = await google.colab.kernel.invokeFunction(\n",
              "            'suggestCharts', [key], {});\n",
              "      } catch (error) {\n",
              "        console.error('Error during call to suggestCharts:', error);\n",
              "      }\n",
              "      quickchartButtonEl.classList.remove('colab-df-spinner');\n",
              "      quickchartButtonEl.classList.add('colab-df-quickchart-complete');\n",
              "    }\n",
              "    (() => {\n",
              "      let quickchartButtonEl =\n",
              "        document.querySelector('#df-60399253-ec2e-498b-b4b1-46bf170604ca button');\n",
              "      quickchartButtonEl.style.display =\n",
              "        google.colab.kernel.accessAllowed ? 'block' : 'none';\n",
              "    })();\n",
              "  </script>\n",
              "</div>\n",
              "    </div>\n",
              "  </div>\n"
            ],
            "application/vnd.google.colaboratory.intrinsic+json": {
              "type": "dataframe",
              "variable_name": "df",
              "summary": "{\n  \"name\": \"df\",\n  \"rows\": 1000,\n  \"fields\": [\n    {\n      \"column\": \"rating\",\n      \"properties\": {\n        \"dtype\": \"number\",\n        \"std\": 1.2273998983666712,\n        \"min\": 1.0,\n        \"max\": 5.0,\n        \"num_unique_values\": 5,\n        \"samples\": [\n          5.0,\n          2.0,\n          1.0\n        ],\n        \"semantic_type\": \"\",\n        \"description\": \"\"\n      }\n    },\n    {\n      \"column\": \"title\",\n      \"properties\": {\n        \"dtype\": \"string\",\n        \"num_unique_values\": 924,\n        \"samples\": [\n          \"Cool Gadget\",\n          \"Can be used during the day\",\n          \"toenail clippers\"\n        ],\n        \"semantic_type\": \"\",\n        \"description\": \"\"\n      }\n    },\n    {\n      \"column\": \"text\",\n      \"properties\": {\n        \"dtype\": \"string\",\n        \"num_unique_values\": 998,\n        \"samples\": [\n          \"I add this supplements to my smoothies. And it tastes great! It doesn\\u2019t taste artificial and and it\\u2019s very easy to be dissolved.\",\n          \"Sprayer doesn\\u2019t work. Very little comes out and difficult/gets stuck when you press down to spray.\",\n          \"[[VIDEOID:e746805fb46530219872c4ee5dd0b10c]] This is an attractive and giftable set of six bath bombs. The Amazon site says the four fragrances are\\u00a0Lavender, Vanilla, Rose, and Orange but it was hard for\\u00a0me to detect those aromas. They all smell nice\\u00a0 but the fragrance difference is super subtle.\\u00a0They are made with essential oils.<br /><br />I tried the greenish/bluish/yellow bomb in my foot bath. I used hot to tepid water and suds were created in the foot bath and the bomb fizzed as shown in the video. It eventually (in about 10 minutes) dissolved in the water as I bathed my feet. My feet felt clean and I liked the\\u00a0subtle scent. My feet also came out feeling\\u00a0 soft.\\u00a0<br /><br />Unfortunately, there was a slight adherence of the green color of the bomb to my ankles and heels but it was ever so slight. A white bathtub might develop a\\u00a0slight ring of color around it from\\u00a0these bombs but I suspect it would immediately wash off. Insofar as \\\"performance,\\\" these bombs are really good.\\u00a0<br /><br />Luckily I had a strainer in my sink because I had no idea there was a surprise miniature animal figurine in these. I had a little dinosaur in mine.\\u00a0<br /><br />Although no price is listed, I suspect these will be priced between $16.99 and 18.99.\"\n        ],\n        \"semantic_type\": \"\",\n        \"description\": \"\"\n      }\n    },\n    {\n      \"column\": \"images\",\n      \"properties\": {\n        \"dtype\": \"object\",\n        \"semantic_type\": \"\",\n        \"description\": \"\"\n      }\n    },\n    {\n      \"column\": \"asin\",\n      \"properties\": {\n        \"dtype\": \"string\",\n        \"num_unique_values\": 892,\n        \"samples\": [\n          \"B07RF9K6MR\",\n          \"B00FB3DHTC\",\n          \"B01BYMHE8S\"\n        ],\n        \"semantic_type\": \"\",\n        \"description\": \"\"\n      }\n    },\n    {\n      \"column\": \"parent_asin\",\n      \"properties\": {\n        \"dtype\": \"string\",\n        \"num_unique_values\": 851,\n        \"samples\": [\n          \"B08P2W774Y\",\n          \"B00T3NV50E\",\n          \"B071LHKBLQ\"\n        ],\n        \"semantic_type\": \"\",\n        \"description\": \"\"\n      }\n    },\n    {\n      \"column\": \"user_id\",\n      \"properties\": {\n        \"dtype\": \"category\",\n        \"num_unique_values\": 448,\n        \"samples\": [\n          \"AFAFNPANVWPP3VFRJHQZOU7R6X2Q\",\n          \"AGRUZ7EAV7YOH7V2SGMPUXAJZD3A\",\n          \"AHIZZGKL76ODWQM26AEH6TPJHHFQ\"\n        ],\n        \"semantic_type\": \"\",\n        \"description\": \"\"\n      }\n    },\n    {\n      \"column\": \"timestamp\",\n      \"properties\": {\n        \"dtype\": \"number\",\n        \"std\": 67894745624,\n        \"min\": 1295070785000,\n        \"max\": 1678904617673,\n        \"num_unique_values\": 999,\n        \"samples\": [\n          1609394938585,\n          1655305727166,\n          1624069712669\n        ],\n        \"semantic_type\": \"\",\n        \"description\": \"\"\n      }\n    },\n    {\n      \"column\": \"helpful_vote\",\n      \"properties\": {\n        \"dtype\": \"number\",\n        \"std\": 17,\n        \"min\": 0,\n        \"max\": 541,\n        \"num_unique_values\": 21,\n        \"samples\": [\n          3,\n          33,\n          8\n        ],\n        \"semantic_type\": \"\",\n        \"description\": \"\"\n      }\n    },\n    {\n      \"column\": \"verified_purchase\",\n      \"properties\": {\n        \"dtype\": \"boolean\",\n        \"num_unique_values\": 2,\n        \"samples\": [\n          false,\n          true\n        ],\n        \"semantic_type\": \"\",\n        \"description\": \"\"\n      }\n    }\n  ]\n}"
            }
          },
          "metadata": {},
          "execution_count": 10
        }
      ],
      "source": [
        "import pandas as pd\n",
        "\n",
        "df = pd.json_normalize(json_data)\n",
        "\n",
        "df.head(3)"
      ]
    },
    {
      "cell_type": "markdown",
      "id": "a59b9d31-cd55-40b6-a692-10a60b9afa61",
      "metadata": {
        "id": "a59b9d31-cd55-40b6-a692-10a60b9afa61"
      },
      "source": [
        "dummy search"
      ]
    },
    {
      "cell_type": "code",
      "execution_count": 11,
      "id": "cd95b4ab-340e-487f-aecd-2fd468be3688",
      "metadata": {
        "colab": {
          "base_uri": "https://localhost:8080/",
          "height": 53
        },
        "id": "cd95b4ab-340e-487f-aecd-2fd468be3688",
        "outputId": "d0a1b00c-63ec-4e0f-e023-72afad0ba3cf"
      },
      "outputs": [
        {
          "output_type": "execute_result",
          "data": {
            "text/plain": [
              "'These seem like great quality cough drops with beneficial ingredients for when you are under the weather. A couple downsides for me are that the outside of them are rough so they cut up your mouth a bit and secondly no place saying where they are made. They have a mildly sweet and minty taste.'"
            ],
            "application/vnd.google.colaboratory.intrinsic+json": {
              "type": "string"
            }
          },
          "metadata": {},
          "execution_count": 11
        }
      ],
      "source": [
        "user_query = 'cough'\n",
        "\n",
        "df[df['text'].apply(\n",
        "    lambda x: user_query in x.lower())\n",
        "].head(5).iloc[0, 2]"
      ]
    },
    {
      "cell_type": "markdown",
      "id": "9db66474-2558-43fb-b26b-6b6abfb89074",
      "metadata": {
        "id": "9db66474-2558-43fb-b26b-6b6abfb89074"
      },
      "source": [
        "# Keyword search\n",
        "\n",
        "* eval index (sparse)\n",
        "* match documents using cosine similarity\n"
      ]
    },
    {
      "cell_type": "code",
      "execution_count": 12,
      "id": "e68754f4-98bb-49d0-b58e-71f85604986e",
      "metadata": {
        "colab": {
          "base_uri": "https://localhost:8080/"
        },
        "id": "e68754f4-98bb-49d0-b58e-71f85604986e",
        "outputId": "c6d817a1-466f-4957-a27b-bf7dab157a46"
      },
      "outputs": [
        {
          "output_type": "stream",
          "name": "stdout",
          "text": [
            "vectorizer fitted\n"
          ]
        }
      ],
      "source": [
        "from sklearn.feature_extraction.text import TfidfVectorizer\n",
        "\n",
        "vectorizer = TfidfVectorizer(\n",
        "    analyzer='word',\n",
        "    lowercase=True,\n",
        "    token_pattern=r'\\b[\\w\\d]{3,}\\b'\n",
        ")\n",
        "\n",
        "vectorizer.fit(df['text'].values)\n",
        "print('vectorizer fitted')"
      ]
    },
    {
      "cell_type": "code",
      "execution_count": 13,
      "id": "42912333-904f-45b9-a560-9b38e5e0cb28",
      "metadata": {
        "colab": {
          "base_uri": "https://localhost:8080/"
        },
        "id": "42912333-904f-45b9-a560-9b38e5e0cb28",
        "outputId": "c26fdb11-a912-48f7-d5a9-2b928a9c6836"
      },
      "outputs": [
        {
          "output_type": "stream",
          "name": "stdout",
          "text": [
            "Index matrix: (1000, 6529)\n"
          ]
        }
      ],
      "source": [
        "document_vectors = vectorizer.transform(df['text'].values)\n",
        "print('Index matrix:', document_vectors.shape)"
      ]
    },
    {
      "cell_type": "code",
      "execution_count": 14,
      "id": "3072ed9f-c5ed-492c-8df2-8db9c41beb50",
      "metadata": {
        "colab": {
          "base_uri": "https://localhost:8080/"
        },
        "id": "3072ed9f-c5ed-492c-8df2-8db9c41beb50",
        "outputId": "7fc522f7-3cb9-4689-c037-3b18494b3f26"
      },
      "outputs": [
        {
          "output_type": "stream",
          "name": "stdout",
          "text": [
            "(1, 6529)\n",
            "(1000,)\n",
            "Top indicies: [781 101 896 329 341 340 339 338 337 336]\n"
          ]
        }
      ],
      "source": [
        "import numpy as np\n",
        "from sklearn.metrics.pairwise import cosine_similarity\n",
        "\n",
        "query_vector = vectorizer.transform([user_query])\n",
        "print(query_vector.shape)\n",
        "\n",
        "# matching\n",
        "similarities = cosine_similarity(query_vector, document_vectors)[0]\n",
        "print(similarities.shape)\n",
        "top_k = 10\n",
        "top_indices = np.argsort(similarities)[::-1][:top_k]\n",
        "print('Top indicies:', top_indices)"
      ]
    },
    {
      "cell_type": "code",
      "execution_count": 15,
      "id": "5df6e962-6449-4a60-bb19-b0550ec681fd",
      "metadata": {
        "colab": {
          "base_uri": "https://localhost:8080/"
        },
        "id": "5df6e962-6449-4a60-bb19-b0550ec681fd",
        "outputId": "a355f3e9-d815-4a00-d344-37c0bc4a4d54"
      },
      "outputs": [
        {
          "output_type": "stream",
          "name": "stdout",
          "text": [
            "781 0.245 VERY soothing.  I get that awful tickly dry cough a lot during allergy season, especially 5 minutes  ...\n",
            "\n",
            "101 0.221 These seem like great quality cough drops with beneficial ingredients for when you are under the wea ...\n",
            "\n",
            "896 0.109 We have a big variety of probiotics that we rotate and use daily.  This one has a very impressive la ...\n",
            "\n",
            "329 0.000 This massager brush cleans scalp effectively and makes your head feel great when you use it. The bri ...\n",
            "\n",
            "341 0.000 Astragalus has many health benefits including immune support, liver cleansing, healthy skin, and str ...\n",
            "\n",
            "340 0.000 Beet root powder has a plethora of uses. It's excellent for cooking. It enhances any chocolate desse ...\n",
            "\n",
            "339 0.000 This is a great set of gloves. They can be used for many different tasks. You get a few pairs so thi ...\n",
            "\n",
            "338 0.000 If you want a good facial cleansing brush, but don't want to spend $200, this is a good alternative. ...\n",
            "\n",
            "337 0.000 I think every household needs cleaning gloves. These have the same quality as Playtex. They are late ...\n",
            "\n",
            "336 0.000 I use household gloves all the time, so I know a thing or two about them. These are high quality and ...\n",
            "\n"
          ]
        }
      ],
      "source": [
        "for ind, row in df.iloc[top_indices].iterrows():\n",
        "    print(ind, '%.3f' % similarities[ind], row['text'][:100], '...')\n",
        "    print()"
      ]
    },
    {
      "cell_type": "markdown",
      "id": "4b1f6d06-6706-40fd-b79e-ade51dcb3e97",
      "metadata": {
        "id": "4b1f6d06-6706-40fd-b79e-ade51dcb3e97"
      },
      "source": [
        "# Elasticsearch\n",
        "\n",
        "will not working in collab"
      ]
    },
    {
      "cell_type": "code",
      "execution_count": null,
      "id": "d2714709-bf63-47a1-8617-84cb7a7e5515",
      "metadata": {
        "id": "d2714709-bf63-47a1-8617-84cb7a7e5515"
      },
      "outputs": [],
      "source": [
        "from utils import request_elastic, load_config, create_index\n",
        "\n",
        "request_elastic('version', debug=True, method='get')"
      ]
    },
    {
      "cell_type": "markdown",
      "id": "6e247c15-f6ff-48e5-b5f4-886c8b6b249c",
      "metadata": {
        "id": "6e247c15-f6ff-48e5-b5f4-886c8b6b249c"
      },
      "source": [
        "Documents indexing"
      ]
    },
    {
      "cell_type": "code",
      "execution_count": null,
      "id": "598cb5e7-fc16-42d6-9567-3bf64961142c",
      "metadata": {
        "id": "598cb5e7-fc16-42d6-9567-3bf64961142c"
      },
      "outputs": [],
      "source": [
        "index_config = load_config()\n",
        "index_name = index_config['name']\n",
        "create_index(index_config)\n",
        "print(index_name, index_config['mappings']['properties'].keys())"
      ]
    },
    {
      "cell_type": "markdown",
      "id": "75963037-48b3-4406-b7ee-2ba93bae325c",
      "metadata": {
        "id": "75963037-48b3-4406-b7ee-2ba93bae325c"
      },
      "source": [
        "Loading full dataset"
      ]
    },
    {
      "cell_type": "code",
      "execution_count": null,
      "id": "ddea0383-ae4b-4be4-8388-a8f6541f5cd4",
      "metadata": {
        "id": "ddea0383-ae4b-4be4-8388-a8f6541f5cd4"
      },
      "outputs": [],
      "source": [
        "\n",
        "json_data = read_raw_data(data_path)\n",
        "print(len(json_data))"
      ]
    },
    {
      "cell_type": "code",
      "execution_count": null,
      "id": "33d5d413-8c54-4caf-8354-183ed1074ec8",
      "metadata": {
        "id": "33d5d413-8c54-4caf-8354-183ed1074ec8"
      },
      "outputs": [],
      "source": [
        "import hashlib\n",
        "\n",
        "from utils import clean_text\n",
        "\n",
        "def eval_doc_id(seed=None, limit=10):\n",
        "    if seed is None:\n",
        "        seed = str(int(time.time()))\n",
        "    res = str(hashlib.md5(seed.encode('utf-8')).hexdigest())[:10]\n",
        "    return res\n",
        "\n",
        "docs = [\n",
        "    {\n",
        "        'category': 'health',\n",
        "        'content': clean_text(i['text']),\n",
        "        'asin': i['asin'],\n",
        "        'parent_asin': i['parent_asin'],\n",
        "        'content_len': len(i['text']),\n",
        "        'doc_id': eval_doc_id(i['user_id']+str(i['timestamp'])),\n",
        "        '_id': eval_doc_id(i['user_id']+str(i['timestamp']))\n",
        "    }\n",
        "    for i in json_data\n",
        "]\n",
        "print(len(docs))"
      ]
    },
    {
      "cell_type": "code",
      "execution_count": null,
      "id": "2a99f33d-7af0-47ef-b361-4c34a62a8031",
      "metadata": {
        "id": "2a99f33d-7af0-47ef-b361-4c34a62a8031"
      },
      "outputs": [],
      "source": [
        "from utils import load_document, load_bulk_documents, search, pretty\n",
        "\n",
        "load_document(docs[0], index_name)"
      ]
    },
    {
      "cell_type": "code",
      "execution_count": null,
      "id": "98fe626a-6721-4d78-9693-dd0d7318eb08",
      "metadata": {
        "id": "98fe626a-6721-4d78-9693-dd0d7318eb08"
      },
      "outputs": [],
      "source": [
        "search(index_name, 'cough')"
      ]
    },
    {
      "cell_type": "markdown",
      "id": "b2bf9a27-5ffe-4032-a741-27d7d054983b",
      "metadata": {
        "id": "b2bf9a27-5ffe-4032-a741-27d7d054983b"
      },
      "source": [
        "Build search index"
      ]
    },
    {
      "cell_type": "code",
      "execution_count": null,
      "id": "e907265c-5c40-4ba5-8d20-180d0a434375",
      "metadata": {
        "id": "e907265c-5c40-4ba5-8d20-180d0a434375"
      },
      "outputs": [],
      "source": [
        "load_bulk_documents(index_name, docs)"
      ]
    },
    {
      "cell_type": "code",
      "execution_count": null,
      "id": "1c5dc0ea-63be-4ed5-a694-cb3dbe1e6ee5",
      "metadata": {
        "id": "1c5dc0ea-63be-4ed5-a694-cb3dbe1e6ee5"
      },
      "outputs": [],
      "source": [
        "res = search(index_name, 'cough')\n",
        "res"
      ]
    },
    {
      "cell_type": "code",
      "execution_count": null,
      "id": "5f388d26-b440-4d48-baed-15ab38bf844a",
      "metadata": {
        "id": "5f388d26-b440-4d48-baed-15ab38bf844a"
      },
      "outputs": [],
      "source": [
        "pretty(res['hits']['hits'])"
      ]
    },
    {
      "cell_type": "markdown",
      "id": "89c3a2a6-df3a-4758-aadf-4352be62bdbf",
      "metadata": {
        "id": "89c3a2a6-df3a-4758-aadf-4352be62bdbf"
      },
      "source": [
        "# Embeddings search\n",
        "\n",
        "GPU-powered [embeddings evaluation](https://colab.research.google.com/drive/1avq9WrUSOwsfUUXZZhgyNxKNe62kG-fk?usp=sharing)"
      ]
    },
    {
      "cell_type": "code",
      "execution_count": null,
      "id": "12db7487-4299-493a-80e4-c4c817e17fe0",
      "metadata": {
        "id": "12db7487-4299-493a-80e4-c4c817e17fe0"
      },
      "outputs": [],
      "source": []
    }
  ],
  "metadata": {
    "kernelspec": {
      "display_name": "Python 3 (ipykernel)",
      "language": "python",
      "name": "python3"
    },
    "language_info": {
      "codemirror_mode": {
        "name": "ipython",
        "version": 3
      },
      "file_extension": ".py",
      "mimetype": "text/x-python",
      "name": "python",
      "nbconvert_exporter": "python",
      "pygments_lexer": "ipython3",
      "version": "3.12.6"
    },
    "colab": {
      "provenance": []
    }
  },
  "nbformat": 4,
  "nbformat_minor": 5
}