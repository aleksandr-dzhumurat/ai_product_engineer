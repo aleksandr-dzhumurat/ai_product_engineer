{
 "cells": [
  {
   "cell_type": "markdown",
   "metadata": {
    "id": "EeEkNWXIpQBx"
   },
   "source": [
    "# Деревья решений\n",
    "\n",
    "рассмотрим создание простого дерева"
   ]
  },
  {
   "cell_type": "markdown",
   "metadata": {
    "id": "3U7UqeSkpBaZ"
   },
   "source": [
    "Подключаемся к гугл драйв"
   ]
  },
  {
   "cell_type": "code",
   "execution_count": 2,
   "metadata": {
    "colab": {
     "base_uri": "https://localhost:8080/"
    },
    "id": "8H09VN_CpBvo",
    "outputId": "bed715de-0bd8-454b-f36e-d0740ce6f825"
   },
   "outputs": [
    {
     "name": "stdout",
     "output_type": "stream",
     "text": [
      "Содержимое директории %s: %s /Users/adzhumurat/PycharmProjects/ai_product_engineer/data ['client_segmentation.csv', 'messages.db', 'labeled_data_corpus.csv', 'content_description.csv', 'nltk_data']\n"
     ]
    }
   ],
   "source": [
    "import os\n",
    "\n",
    "import numpy as np\n",
    "\n",
    "RANDOM_SEED = 42\n",
    "np.random.seed(RANDOM_SEED)  # гарантируем воспроизводимость\n",
    "\n",
    "run_env = os.getenv('RUN_ENV', 'COLLAB')\n",
    "if run_env == 'COLLAB':\n",
    "  from google.colab import drive\n",
    "  ROOT_DIR = '/content/drive'\n",
    "  drive.mount(ROOT_DIR)\n",
    "  print('Google drive connected')\n",
    "  DRIVE_DATA_DIR = 'ml_course_data'\n",
    "  root_data_dir = os.path.join(ROOT_DIR, 'MyDrive', DRIVE_DATA_DIR)\n",
    "else:\n",
    "  root_data_dir = os.getenv('DATA_DIR', '/srv/data')\n",
    "\n",
    "if not os.path.exists(root_data_dir):\n",
    "  raise RuntimeError('Отсутствует директория с данными')\n",
    "else:\n",
    "  print('Содержимое директории %s: %s', root_data_dir, os.listdir(root_data_dir)[:5])"
   ]
  },
  {
   "cell_type": "code",
   "execution_count": 3,
   "metadata": {
    "colab": {
     "base_uri": "https://localhost:8080/",
     "height": 224
    },
    "id": "6PF7aPF2pkmz",
    "outputId": "cab0b26c-d177-4650-aa50-dfd8849a3515"
   },
   "outputs": [
    {
     "name": "stdout",
     "output_type": "stream",
     "text": [
      "num rows %d 10\n"
     ]
    },
    {
     "data": {
      "text/html": [
       "<div>\n",
       "<style scoped>\n",
       "    .dataframe tbody tr th:only-of-type {\n",
       "        vertical-align: middle;\n",
       "    }\n",
       "\n",
       "    .dataframe tbody tr th {\n",
       "        vertical-align: top;\n",
       "    }\n",
       "\n",
       "    .dataframe thead th {\n",
       "        text-align: right;\n",
       "    }\n",
       "</style>\n",
       "<table border=\"1\" class=\"dataframe\">\n",
       "  <thead>\n",
       "    <tr style=\"text-align: right;\">\n",
       "      <th></th>\n",
       "      <th>child</th>\n",
       "      <th>living_place</th>\n",
       "      <th>car_type</th>\n",
       "      <th>age_years</th>\n",
       "      <th>insurance case</th>\n",
       "    </tr>\n",
       "  </thead>\n",
       "  <tbody>\n",
       "    <tr>\n",
       "      <th>0</th>\n",
       "      <td>1</td>\n",
       "      <td>suburb</td>\n",
       "      <td>sedan</td>\n",
       "      <td>30</td>\n",
       "      <td>good</td>\n",
       "    </tr>\n",
       "    <tr>\n",
       "      <th>1</th>\n",
       "      <td>0</td>\n",
       "      <td>city</td>\n",
       "      <td>sport</td>\n",
       "      <td>25</td>\n",
       "      <td>bad</td>\n",
       "    </tr>\n",
       "    <tr>\n",
       "      <th>2</th>\n",
       "      <td>1</td>\n",
       "      <td>city</td>\n",
       "      <td>sedan</td>\n",
       "      <td>28</td>\n",
       "      <td>bad</td>\n",
       "    </tr>\n",
       "    <tr>\n",
       "      <th>3</th>\n",
       "      <td>2</td>\n",
       "      <td>suburb</td>\n",
       "      <td>sedan</td>\n",
       "      <td>40</td>\n",
       "      <td>good</td>\n",
       "    </tr>\n",
       "    <tr>\n",
       "      <th>4</th>\n",
       "      <td>3</td>\n",
       "      <td>city</td>\n",
       "      <td>van</td>\n",
       "      <td>55</td>\n",
       "      <td>good</td>\n",
       "    </tr>\n",
       "  </tbody>\n",
       "</table>\n",
       "</div>"
      ],
      "text/plain": [
       "   child living_place car_type  age_years insurance case\n",
       "0      1       suburb    sedan         30           good\n",
       "1      0         city    sport         25            bad\n",
       "2      1         city    sedan         28            bad\n",
       "3      2       suburb    sedan         40           good\n",
       "4      3         city      van         55           good"
      ]
     },
     "execution_count": 3,
     "metadata": {},
     "output_type": "execute_result"
    }
   ],
   "source": [
    "import pandas as pd\n",
    "data_dict = {\n",
    "    'child': (1, 0, 1, 2, 3, 0, 0, 0, 1, 0),\n",
    "    'living_place': ('suburb', 'city', 'city', 'suburb', 'city', 'suburb', 'city', 'suburb', 'city', 'city'),\n",
    "    'car_type': ('sedan', 'sport', 'sedan', 'sedan', 'van', 'sport', 'sedan', 'sport', 'sedan', 'sport'),\n",
    "    'age_years': (30, 25, 28, 40, 55, 35, 39, 25, 50, 40),\n",
    "    'insurance case':  ('good', 'bad', 'bad', 'good', 'good', 'good', 'bad', 'good', 'bad', 'good')\n",
    "}\n",
    "\n",
    "df = pd.DataFrame(data_dict)\n",
    "print('num rows %d',  df.shape[0])\n",
    "df.head()"
   ]
  },
  {
   "cell_type": "markdown",
   "metadata": {
    "id": "5bvL3O0MnAO9"
   },
   "source": [
    "Распределение таргета - 4 позитивных примера, 5 негативных"
   ]
  },
  {
   "cell_type": "code",
   "execution_count": 4,
   "metadata": {
    "colab": {
     "base_uri": "https://localhost:8080/",
     "height": 178
    },
    "id": "JSRk9zXmnAac",
    "outputId": "b873eb8b-db60-4917-daa9-635f997ed9d8"
   },
   "outputs": [
    {
     "data": {
      "text/plain": [
       "insurance case\n",
       "good    6\n",
       "bad     4\n",
       "Name: count, dtype: int64"
      ]
     },
     "execution_count": 4,
     "metadata": {},
     "output_type": "execute_result"
    }
   ],
   "source": [
    "df['insurance case'].value_counts()"
   ]
  },
  {
   "cell_type": "markdown",
   "metadata": {
    "id": "pCpf40EQvlji"
   },
   "source": [
    "Отделяем матрицу объекты-признаки от таргета"
   ]
  },
  {
   "cell_type": "code",
   "execution_count": 5,
   "metadata": {
    "id": "t6eWlBeivkI6"
   },
   "outputs": [],
   "source": [
    "feature_cols = ['child', 'living_place', 'car_type', 'age_years']\n",
    "\n",
    "X = df[feature_cols].copy()\n",
    "y_labels = df['insurance case'].copy()"
   ]
  },
  {
   "cell_type": "markdown",
   "metadata": {
    "id": "-keWpfr2xIpZ"
   },
   "source": [
    "Грязно кодируем переменные - на самом деле нужен `OneHotEncoder` вместо `LabelEncoder` т.к. категориальные переменные метод не поддерживает (конкретно реализация sklearn)"
   ]
  },
  {
   "cell_type": "code",
   "execution_count": 6,
   "metadata": {
    "colab": {
     "base_uri": "https://localhost:8080/",
     "height": 363
    },
    "id": "XHQVtHf2wMg1",
    "outputId": "4fff4c4c-7c8b-452e-d38d-af8db203b599"
   },
   "outputs": [
    {
     "data": {
      "text/html": [
       "<div>\n",
       "<style scoped>\n",
       "    .dataframe tbody tr th:only-of-type {\n",
       "        vertical-align: middle;\n",
       "    }\n",
       "\n",
       "    .dataframe tbody tr th {\n",
       "        vertical-align: top;\n",
       "    }\n",
       "\n",
       "    .dataframe thead th {\n",
       "        text-align: right;\n",
       "    }\n",
       "</style>\n",
       "<table border=\"1\" class=\"dataframe\">\n",
       "  <thead>\n",
       "    <tr style=\"text-align: right;\">\n",
       "      <th></th>\n",
       "      <th>child</th>\n",
       "      <th>living_place</th>\n",
       "      <th>car_type</th>\n",
       "      <th>age_years</th>\n",
       "    </tr>\n",
       "  </thead>\n",
       "  <tbody>\n",
       "    <tr>\n",
       "      <th>0</th>\n",
       "      <td>1</td>\n",
       "      <td>1</td>\n",
       "      <td>0</td>\n",
       "      <td>30</td>\n",
       "    </tr>\n",
       "    <tr>\n",
       "      <th>1</th>\n",
       "      <td>0</td>\n",
       "      <td>0</td>\n",
       "      <td>1</td>\n",
       "      <td>25</td>\n",
       "    </tr>\n",
       "    <tr>\n",
       "      <th>2</th>\n",
       "      <td>1</td>\n",
       "      <td>0</td>\n",
       "      <td>0</td>\n",
       "      <td>28</td>\n",
       "    </tr>\n",
       "    <tr>\n",
       "      <th>3</th>\n",
       "      <td>2</td>\n",
       "      <td>1</td>\n",
       "      <td>0</td>\n",
       "      <td>40</td>\n",
       "    </tr>\n",
       "    <tr>\n",
       "      <th>4</th>\n",
       "      <td>3</td>\n",
       "      <td>0</td>\n",
       "      <td>2</td>\n",
       "      <td>55</td>\n",
       "    </tr>\n",
       "    <tr>\n",
       "      <th>5</th>\n",
       "      <td>0</td>\n",
       "      <td>1</td>\n",
       "      <td>1</td>\n",
       "      <td>35</td>\n",
       "    </tr>\n",
       "    <tr>\n",
       "      <th>6</th>\n",
       "      <td>0</td>\n",
       "      <td>0</td>\n",
       "      <td>0</td>\n",
       "      <td>39</td>\n",
       "    </tr>\n",
       "    <tr>\n",
       "      <th>7</th>\n",
       "      <td>0</td>\n",
       "      <td>1</td>\n",
       "      <td>1</td>\n",
       "      <td>25</td>\n",
       "    </tr>\n",
       "    <tr>\n",
       "      <th>8</th>\n",
       "      <td>1</td>\n",
       "      <td>0</td>\n",
       "      <td>0</td>\n",
       "      <td>50</td>\n",
       "    </tr>\n",
       "    <tr>\n",
       "      <th>9</th>\n",
       "      <td>0</td>\n",
       "      <td>0</td>\n",
       "      <td>1</td>\n",
       "      <td>40</td>\n",
       "    </tr>\n",
       "  </tbody>\n",
       "</table>\n",
       "</div>"
      ],
      "text/plain": [
       "   child  living_place  car_type  age_years\n",
       "0      1             1         0         30\n",
       "1      0             0         1         25\n",
       "2      1             0         0         28\n",
       "3      2             1         0         40\n",
       "4      3             0         2         55\n",
       "5      0             1         1         35\n",
       "6      0             0         0         39\n",
       "7      0             1         1         25\n",
       "8      1             0         0         50\n",
       "9      0             0         1         40"
      ]
     },
     "execution_count": 6,
     "metadata": {},
     "output_type": "execute_result"
    }
   ],
   "source": [
    "from sklearn.preprocessing import LabelEncoder\n",
    "\n",
    "for feat in ['living_place', 'car_type']:\n",
    "  le = LabelEncoder()\n",
    "  X[feat] = le.fit_transform(X[feat])\n",
    "y = le.fit_transform(y_labels)\n",
    "X"
   ]
  },
  {
   "cell_type": "markdown",
   "metadata": {
    "id": "qDhrgNZkqt3X"
   },
   "source": [
    "Распределение фичей"
   ]
  },
  {
   "cell_type": "code",
   "execution_count": 7,
   "metadata": {
    "colab": {
     "base_uri": "https://localhost:8080/",
     "height": 178
    },
    "id": "zQP7pNfIquBf",
    "outputId": "a9bd8c04-14b7-4f0e-c5fb-64968995e15d"
   },
   "outputs": [
    {
     "data": {
      "text/plain": [
       "living_place\n",
       "0    6\n",
       "1    4\n",
       "Name: count, dtype: int64"
      ]
     },
     "execution_count": 7,
     "metadata": {},
     "output_type": "execute_result"
    }
   ],
   "source": [
    "X['living_place'].value_counts()"
   ]
  },
  {
   "cell_type": "code",
   "execution_count": 8,
   "metadata": {
    "id": "PfbtrXM6tagJ"
   },
   "outputs": [],
   "source": [
    "from sklearn import tree\n",
    "\n",
    "clf = tree.DecisionTreeClassifier(criterion='entropy').fit(X, y)"
   ]
  },
  {
   "cell_type": "markdown",
   "metadata": {
    "id": "wZfPQ2KLxpNY"
   },
   "source": [
    "Считаем Accuracy"
   ]
  },
  {
   "cell_type": "code",
   "execution_count": 9,
   "metadata": {
    "colab": {
     "base_uri": "https://localhost:8080/"
    },
    "id": "yS2mQrmdviWT",
    "outputId": "86d4b061-81b0-4237-c547-6621747440d5"
   },
   "outputs": [
    {
     "name": "stdout",
     "output_type": "stream",
     "text": [
      "Точность предсказаний: 1.0\n"
     ]
    }
   ],
   "source": [
    "predicted_classes = clf.predict(X)\n",
    "\n",
    "accuracy = (predicted_classes == y).sum() / len(y)\n",
    "\n",
    "print(f'Точность предсказаний: {accuracy}')"
   ]
  },
  {
   "cell_type": "markdown",
   "metadata": {
    "id": "dW6QU6NIoH_K"
   },
   "source": [
    "Визуализация"
   ]
  },
  {
   "cell_type": "code",
   "execution_count": 10,
   "metadata": {
    "colab": {
     "base_uri": "https://localhost:8080/",
     "height": 807
    },
    "id": "IdgWQzRExsTp",
    "outputId": "5db6fcf7-c0d1-42fa-d27a-b4d419b7a109"
   },
   "outputs": [
    {
     "data": {
      "image/png": "[encoded data removed]",
      "text/plain": [
       "<Figure size 1500x1000 with 1 Axes>"
      ]
     },
     "metadata": {},
     "output_type": "display_data"
    }
   ],
   "source": [
    "%matplotlib inline\n",
    "from matplotlib import pyplot as plt\n",
    "\n",
    "fig = plt.figure(figsize=(15,10))\n",
    "_ = (\n",
    "    tree.plot_tree(\n",
    "        clf,\n",
    "        feature_names=feature_cols,\n",
    "        class_names=y_labels,\n",
    "        filled=True\n",
    "    )\n",
    ")"
   ]
  },
  {
   "cell_type": "markdown",
   "metadata": {
    "id": "92g1YIBnLw2-"
   },
   "source": [
    "Что можно видеть на визуализации\n",
    "* `value` - сколько объектов каждого класса в узле. На первом этапе 4 объекта одного класса и 5 объектов другого - см. `.value_counts()` немного выше\n",
    "* в каждом узле считается энтропия\n",
    "* цветом закодировано количество объектов класса в сплите"
   ]
  },
  {
   "cell_type": "markdown",
   "metadata": {
    "id": "D3yARakfuB-l"
   },
   "source": [
    "## Как производить разбирение\n",
    "\n",
    "### Энтропия\n",
    "\n",
    "Пусть система находится в $n$  возможных состояниях. Тогда энтропия данных $X$ вычисляется по формуле\n",
    "\n",
    "$$\n",
    "H(X) = - \\sum_{i=1}^{n} p_i\\log_2(p_i)\n",
    "$$\n",
    "\n",
    "Для случая, когда решаем задачу бинарной классфикации $p_0$ - вероятность принадлежности объекта к \"негативному\" классу и $p_1$ - вероятность принадлежности объекта к \"позитивному\" классу. Тогда возможных состояний всего два и формула приобретает вид\n",
    "\n",
    "$$\n",
    "H(X) = - p_0\\log_2(p_0) - p_1\\log_2(p_1)\n",
    "$$\n",
    "\n",
    "Когда делаем сплит и разделяем выборку $X$ из $N$ элементов на две части $X_{\\text{one}}$ и $X_{\\text{two}}$ то энтропия считается в каждой подвыборке отдельно\n",
    "$$\n",
    "H_{\\text{split}}(X) = \\frac{N_{\\text{one}}}{N}H(X_{\\text{one}}) + \\frac{N_{\\text{two}}}{N}H(X_{\\text{two}})\n",
    "$$\n",
    "\n",
    "Для любого разбиения по признаку $Q$ можем посчитать прирост информации (information gain):\n",
    "$$\n",
    "\\text{IG}(Q) = H(X) - H_{\\text{split}}(X)\n",
    "$$\n",
    "\n",
    "Мы строим дерево чтобы снизить неопределённость - на каждом шаге достаточно выбирать такой порог и признак, чтобы получить максимальный выигрыш информации."
   ]
  },
  {
   "cell_type": "markdown",
   "metadata": {
    "id": "fZoyLdD2lPp_"
   },
   "source": [
    "### Задача\n",
    "\n",
    "Фича *living_place* принимает только категориальные значения (см. выше). Посчитайте энтропию исходного набора данных и при пороге разбиения $0.5$. Будем считать что позитивный лейбл с вероятностью $p_1$ это класс **good**\n",
    "\n",
    "Для вычисления энтропии используйте [numpy.log2](https://numpy.org/doc/stable/reference/generated/numpy.log2.html#numpy.log2)\n",
    "\n",
    "Округление результата выполните в виде\n",
    "\n",
    "```python\n",
    "ROUND_PRECISION = 2\n",
    "print(np.round(H_before - H_after, ROUND_PRECISION))\n",
    "```"
   ]
  },
  {
   "cell_type": "code",
   "execution_count": 11,
   "metadata": {
    "colab": {
     "base_uri": "https://localhost:8080/"
    },
    "id": "POW7EG8flOOn",
    "outputId": "b52d5352-eab3-465a-e404-6c31f090d2ca"
   },
   "outputs": [
    {
     "name": "stdout",
     "output_type": "stream",
     "text": [
      "entropy: %.2f  1.0\n"
     ]
    }
   ],
   "source": [
    "SPLIT_THRESHOLD = 0.5\n",
    "\n",
    "df1_split = df[X['living_place'] <= SPLIT_THRESHOLD]\n",
    "df2_split = df[X['living_place'] > SPLIT_THRESHOLD]\n",
    "\n",
    "# --------- ВАШ КОД ТУТ --------\n",
    "def entropy(p1):\n",
    "  \"\"\"p1 - вероятность позитивного класса. Сразу учтите случаи, когда вероятность позитивногокласса равна единице, нулю\"\"\"\n",
    "  res = 1.0\n",
    "  return res\n",
    "\n",
    "def eval_p1(input_df):\n",
    "  \"\"\"Вспомогательная функция вероятность позитивного класса\n",
    "\n",
    "    найдите сколько строк попадает под условие 'insurance case'== 'good'\n",
    "    разделите на общее количество строк\n",
    "  \"\"\"\n",
    "  res = 0.0\n",
    "  return res\n",
    "\n",
    "\n",
    "split_share_1 = 1.0\n",
    "split_share_2 = 0.0\n",
    "entropy_splt_1 = 0.0\n",
    "entropy_splt_2 = 1.0\n",
    "\n",
    "\n",
    "\n",
    "# --------------------------------\n",
    "H_after = split_share_1*entropy_splt_1 + split_share_2*entropy_splt_1\n",
    "H_before = entropy(eval_p1(df))\n",
    "\n",
    "print('entropy: %.2f ', (np.round(H_before - H_after, 2)))"
   ]
  },
  {
   "cell_type": "code",
   "execution_count": 12,
   "metadata": {
    "id": "oCVogvu0shbf"
   },
   "outputs": [
    {
     "data": {
      "text/plain": [
       "np.float64(1.0)"
      ]
     },
     "execution_count": 12,
     "metadata": {},
     "output_type": "execute_result"
    }
   ],
   "source": [
    "np.round(H_before - H_after, 2)"
   ]
  },
  {
   "cell_type": "markdown",
   "metadata": {
    "id": "-_2P073FqL9z"
   },
   "source": [
    "## Градиентный бустинг\n",
    "\n",
    "### Gradient boosting machine\n",
    "\n",
    "\n",
    "\n",
    "Попробуем реализовать алгоритм градиентного бустинга (GBM) для задачи регрессии"
   ]
  },
  {
   "cell_type": "code",
   "execution_count": 14,
   "metadata": {
    "colab": {
     "base_uri": "https://localhost:8080/",
     "height": 206
    },
    "id": "KEW6jZefBpMi",
    "outputId": "cd9ec41c-6436-4a6e-93e3-bffa7d5e33a0"
   },
   "outputs": [
    {
     "data": {
      "text/html": [
       "<div>\n",
       "<style scoped>\n",
       "    .dataframe tbody tr th:only-of-type {\n",
       "        vertical-align: middle;\n",
       "    }\n",
       "\n",
       "    .dataframe tbody tr th {\n",
       "        vertical-align: top;\n",
       "    }\n",
       "\n",
       "    .dataframe thead th {\n",
       "        text-align: right;\n",
       "    }\n",
       "</style>\n",
       "<table border=\"1\" class=\"dataframe\">\n",
       "  <thead>\n",
       "    <tr style=\"text-align: right;\">\n",
       "      <th></th>\n",
       "      <th>feature_0</th>\n",
       "      <th>feature_1</th>\n",
       "      <th>feature_2</th>\n",
       "      <th>y</th>\n",
       "    </tr>\n",
       "  </thead>\n",
       "  <tbody>\n",
       "    <tr>\n",
       "      <th>0</th>\n",
       "      <td>-1.012831</td>\n",
       "      <td>-0.562288</td>\n",
       "      <td>0.314247</td>\n",
       "      <td>-73.903672</td>\n",
       "    </tr>\n",
       "    <tr>\n",
       "      <th>1</th>\n",
       "      <td>-0.234153</td>\n",
       "      <td>1.523030</td>\n",
       "      <td>-0.234137</td>\n",
       "      <td>111.287982</td>\n",
       "    </tr>\n",
       "    <tr>\n",
       "      <th>2</th>\n",
       "      <td>-0.600639</td>\n",
       "      <td>0.375698</td>\n",
       "      <td>-0.291694</td>\n",
       "      <td>1.512835</td>\n",
       "    </tr>\n",
       "    <tr>\n",
       "      <th>3</th>\n",
       "      <td>-1.913280</td>\n",
       "      <td>0.241962</td>\n",
       "      <td>-1.724918</td>\n",
       "      <td>-96.663483</td>\n",
       "    </tr>\n",
       "    <tr>\n",
       "      <th>4</th>\n",
       "      <td>0.767435</td>\n",
       "      <td>1.579213</td>\n",
       "      <td>-0.469474</td>\n",
       "      <td>145.064623</td>\n",
       "    </tr>\n",
       "  </tbody>\n",
       "</table>\n",
       "</div>"
      ],
      "text/plain": [
       "   feature_0  feature_1  feature_2           y\n",
       "0  -1.012831  -0.562288   0.314247  -73.903672\n",
       "1  -0.234153   1.523030  -0.234137  111.287982\n",
       "2  -0.600639   0.375698  -0.291694    1.512835\n",
       "3  -1.913280   0.241962  -1.724918  -96.663483\n",
       "4   0.767435   1.579213  -0.469474  145.064623"
      ]
     },
     "execution_count": 14,
     "metadata": {},
     "output_type": "execute_result"
    }
   ],
   "source": [
    "import pandas as pd\n",
    "\n",
    "raw_data_file = os.path.join(root_data_dir, 'boosting_toy_dataset.csv')\n",
    "df = pd.read_csv(raw_data_file)\n",
    "\n",
    "df.head()"
   ]
  },
  {
   "cell_type": "markdown",
   "metadata": {
    "id": "TXGrVbdM4A3R"
   },
   "source": [
    "На фичах будем постоянно обучаться поэтому сохраним их в отдельную переменную"
   ]
  },
  {
   "cell_type": "code",
   "execution_count": 15,
   "metadata": {
    "id": "mNAJzrud4BM5"
   },
   "outputs": [],
   "source": [
    "feature_cols = ['feature_0', 'feature_1', 'feature_2']"
   ]
  },
  {
   "cell_type": "markdown",
   "metadata": {
    "id": "wgpaRQ4n2d_J"
   },
   "source": [
    "Нулевое приближение в виде среднего `y.mean()` - это наш самый слабый предсказатель, будем его итеративно улучшать"
   ]
  },
  {
   "cell_type": "code",
   "execution_count": 16,
   "metadata": {
    "colab": {
     "base_uri": "https://localhost:8080/",
     "height": 206
    },
    "id": "-06zOSpu2eLo",
    "outputId": "19e1348c-a695-4cfc-aaa3-e2e64ca7531f"
   },
   "outputs": [
    {
     "data": {
      "text/html": [
       "<div>\n",
       "<style scoped>\n",
       "    .dataframe tbody tr th:only-of-type {\n",
       "        vertical-align: middle;\n",
       "    }\n",
       "\n",
       "    .dataframe tbody tr th {\n",
       "        vertical-align: top;\n",
       "    }\n",
       "\n",
       "    .dataframe thead th {\n",
       "        text-align: right;\n",
       "    }\n",
       "</style>\n",
       "<table border=\"1\" class=\"dataframe\">\n",
       "  <thead>\n",
       "    <tr style=\"text-align: right;\">\n",
       "      <th></th>\n",
       "      <th>feature_0</th>\n",
       "      <th>feature_1</th>\n",
       "      <th>feature_2</th>\n",
       "      <th>y</th>\n",
       "      <th>y_hat_0</th>\n",
       "    </tr>\n",
       "  </thead>\n",
       "  <tbody>\n",
       "    <tr>\n",
       "      <th>0</th>\n",
       "      <td>-1.012831</td>\n",
       "      <td>-0.562288</td>\n",
       "      <td>0.314247</td>\n",
       "      <td>-73.903672</td>\n",
       "      <td>-15.885802</td>\n",
       "    </tr>\n",
       "    <tr>\n",
       "      <th>1</th>\n",
       "      <td>-0.234153</td>\n",
       "      <td>1.523030</td>\n",
       "      <td>-0.234137</td>\n",
       "      <td>111.287982</td>\n",
       "      <td>-15.885802</td>\n",
       "    </tr>\n",
       "    <tr>\n",
       "      <th>2</th>\n",
       "      <td>-0.600639</td>\n",
       "      <td>0.375698</td>\n",
       "      <td>-0.291694</td>\n",
       "      <td>1.512835</td>\n",
       "      <td>-15.885802</td>\n",
       "    </tr>\n",
       "    <tr>\n",
       "      <th>3</th>\n",
       "      <td>-1.913280</td>\n",
       "      <td>0.241962</td>\n",
       "      <td>-1.724918</td>\n",
       "      <td>-96.663483</td>\n",
       "      <td>-15.885802</td>\n",
       "    </tr>\n",
       "    <tr>\n",
       "      <th>4</th>\n",
       "      <td>0.767435</td>\n",
       "      <td>1.579213</td>\n",
       "      <td>-0.469474</td>\n",
       "      <td>145.064623</td>\n",
       "      <td>-15.885802</td>\n",
       "    </tr>\n",
       "  </tbody>\n",
       "</table>\n",
       "</div>"
      ],
      "text/plain": [
       "   feature_0  feature_1  feature_2           y    y_hat_0\n",
       "0  -1.012831  -0.562288   0.314247  -73.903672 -15.885802\n",
       "1  -0.234153   1.523030  -0.234137  111.287982 -15.885802\n",
       "2  -0.600639   0.375698  -0.291694    1.512835 -15.885802\n",
       "3  -1.913280   0.241962  -1.724918  -96.663483 -15.885802\n",
       "4   0.767435   1.579213  -0.469474  145.064623 -15.885802"
      ]
     },
     "execution_count": 16,
     "metadata": {},
     "output_type": "execute_result"
    }
   ],
   "source": [
    "df['y_hat_0'] = df['y'].mean()\n",
    "df.head()"
   ]
  },
  {
   "cell_type": "code",
   "execution_count": 17,
   "metadata": {
    "colab": {
     "base_uri": "https://localhost:8080/",
     "height": 448
    },
    "id": "-ZF_ZbiXJfaX",
    "outputId": "f59cdaeb-a774-48b9-db22-bc4aae9a572a"
   },
   "outputs": [
    {
     "data": {
      "text/plain": [
       "<Axes: >"
      ]
     },
     "execution_count": 17,
     "metadata": {},
     "output_type": "execute_result"
    },
    {
     "data": {
      "image/png": "[encoded data removed]",
      "text/plain": [
       "<Figure size 640x480 with 1 Axes>"
      ]
     },
     "metadata": {},
     "output_type": "display_data"
    }
   ],
   "source": [
    "df['y'].hist(bins=4)"
   ]
  },
  {
   "cell_type": "markdown",
   "metadata": {
    "id": "34H8TUJj2uca"
   },
   "source": [
    "Чтобы узнать, \"куда бустить\" включаем наши знания о градиентах. Функкция потерь у нас такая же как в линейной регрессии (вспоминаем лекцию)\n",
    "$$\n",
    "L(y_i, F(x_i)) = \\frac{1}{2}\\left( y_i - \\hat{y}_i\\right)^2\n",
    "$$\n",
    "\n",
    "Бустить мы хотим сами регрессоры, поэтому и градиеент мы изем прямо по предсказаниям в каждой точке $i$ для итерации $1$ и всех последующих. Вычисляем со знаком \"минус\" т.к. нужен анти-градиент.\n",
    "$$\n",
    "r_{i1} = -\\frac{\\partial L(y, F(x_i))}{\\partial\\hat{y}_i} = -(-1)\\frac{1}{2}2\\left( y - \\hat{y}\\right)\n",
    "$$\n",
    "\n",
    "Мы выкидываем \"двойку\" - это постоянный множитель, дополнительной информации он не несёт и вычисляем столбец с псеводоостатками, который назовём `resudals`. Мину пропадает, т.к. считаем антиградиент"
   ]
  },
  {
   "cell_type": "code",
   "execution_count": 18,
   "metadata": {
    "colab": {
     "base_uri": "https://localhost:8080/",
     "height": 206
    },
    "id": "5ymObv5s2tL8",
    "outputId": "ae68d553-7aff-4801-ec97-91e0258aa97a"
   },
   "outputs": [
    {
     "data": {
      "text/html": [
       "<div>\n",
       "<style scoped>\n",
       "    .dataframe tbody tr th:only-of-type {\n",
       "        vertical-align: middle;\n",
       "    }\n",
       "\n",
       "    .dataframe tbody tr th {\n",
       "        vertical-align: top;\n",
       "    }\n",
       "\n",
       "    .dataframe thead th {\n",
       "        text-align: right;\n",
       "    }\n",
       "</style>\n",
       "<table border=\"1\" class=\"dataframe\">\n",
       "  <thead>\n",
       "    <tr style=\"text-align: right;\">\n",
       "      <th></th>\n",
       "      <th>feature_0</th>\n",
       "      <th>feature_1</th>\n",
       "      <th>feature_2</th>\n",
       "      <th>y</th>\n",
       "      <th>y_hat_0</th>\n",
       "      <th>y_resudal_1</th>\n",
       "    </tr>\n",
       "  </thead>\n",
       "  <tbody>\n",
       "    <tr>\n",
       "      <th>0</th>\n",
       "      <td>-1.012831</td>\n",
       "      <td>-0.562288</td>\n",
       "      <td>0.314247</td>\n",
       "      <td>-73.903672</td>\n",
       "      <td>-15.885802</td>\n",
       "      <td>-58.017870</td>\n",
       "    </tr>\n",
       "    <tr>\n",
       "      <th>1</th>\n",
       "      <td>-0.234153</td>\n",
       "      <td>1.523030</td>\n",
       "      <td>-0.234137</td>\n",
       "      <td>111.287982</td>\n",
       "      <td>-15.885802</td>\n",
       "      <td>127.173784</td>\n",
       "    </tr>\n",
       "    <tr>\n",
       "      <th>2</th>\n",
       "      <td>-0.600639</td>\n",
       "      <td>0.375698</td>\n",
       "      <td>-0.291694</td>\n",
       "      <td>1.512835</td>\n",
       "      <td>-15.885802</td>\n",
       "      <td>17.398636</td>\n",
       "    </tr>\n",
       "    <tr>\n",
       "      <th>3</th>\n",
       "      <td>-1.913280</td>\n",
       "      <td>0.241962</td>\n",
       "      <td>-1.724918</td>\n",
       "      <td>-96.663483</td>\n",
       "      <td>-15.885802</td>\n",
       "      <td>-80.777681</td>\n",
       "    </tr>\n",
       "    <tr>\n",
       "      <th>4</th>\n",
       "      <td>0.767435</td>\n",
       "      <td>1.579213</td>\n",
       "      <td>-0.469474</td>\n",
       "      <td>145.064623</td>\n",
       "      <td>-15.885802</td>\n",
       "      <td>160.950425</td>\n",
       "    </tr>\n",
       "  </tbody>\n",
       "</table>\n",
       "</div>"
      ],
      "text/plain": [
       "   feature_0  feature_1  feature_2           y    y_hat_0  y_resudal_1\n",
       "0  -1.012831  -0.562288   0.314247  -73.903672 -15.885802   -58.017870\n",
       "1  -0.234153   1.523030  -0.234137  111.287982 -15.885802   127.173784\n",
       "2  -0.600639   0.375698  -0.291694    1.512835 -15.885802    17.398636\n",
       "3  -1.913280   0.241962  -1.724918  -96.663483 -15.885802   -80.777681\n",
       "4   0.767435   1.579213  -0.469474  145.064623 -15.885802   160.950425"
      ]
     },
     "execution_count": 18,
     "metadata": {},
     "output_type": "execute_result"
    }
   ],
   "source": [
    "df['y_resudal_1'] = df['y'] - df['y_hat_0']\n",
    "df.head()"
   ]
  },
  {
   "cell_type": "markdown",
   "metadata": {
    "id": "FklKfCVJ3efK"
   },
   "source": [
    "Строим новый базовый регрессор $h_1(x)$. Предсказываем псевдо-остатки с предыдущего шага."
   ]
  },
  {
   "cell_type": "code",
   "execution_count": 19,
   "metadata": {
    "colab": {
     "base_uri": "https://localhost:8080/",
     "height": 80
    },
    "id": "6sLhUdra2tlP",
    "outputId": "2e6a5871-1b12-4f59-d8f0-02557e7ae32a"
   },
   "outputs": [
    {
     "data": {
      "text/html": [
       "<style>#sk-container-id-1 {\n",
       "  /* Definition of color scheme common for light and dark mode */\n",
       "  --sklearn-color-text: black;\n",
       "  --sklearn-color-line: gray;\n",
       "  /* Definition of color scheme for unfitted estimators */\n",
       "  --sklearn-color-unfitted-level-0: #fff5e6;\n",
       "  --sklearn-color-unfitted-level-1: #f6e4d2;\n",
       "  --sklearn-color-unfitted-level-2: #ffe0b3;\n",
       "  --sklearn-color-unfitted-level-3: chocolate;\n",
       "  /* Definition of color scheme for fitted estimators */\n",
       "  --sklearn-color-fitted-level-0: #f0f8ff;\n",
       "  --sklearn-color-fitted-level-1: #d4ebff;\n",
       "  --sklearn-color-fitted-level-2: #b3dbfd;\n",
       "  --sklearn-color-fitted-level-3: cornflowerblue;\n",
       "\n",
       "  /* Specific color for light theme */\n",
       "  --sklearn-color-text-on-default-background: var(--sg-text-color, var(--theme-code-foreground, var(--jp-content-font-color1, black)));\n",
       "  --sklearn-color-background: var(--sg-background-color, var(--theme-background, var(--jp-layout-color0, white)));\n",
       "  --sklearn-color-border-box: var(--sg-text-color, var(--theme-code-foreground, var(--jp-content-font-color1, black)));\n",
       "  --sklearn-color-icon: #696969;\n",
       "\n",
       "  @media (prefers-color-scheme: dark) {\n",
       "    /* Redefinition of color scheme for dark theme */\n",
       "    --sklearn-color-text-on-default-background: var(--sg-text-color, var(--theme-code-foreground, var(--jp-content-font-color1, white)));\n",
       "    --sklearn-color-background: var(--sg-background-color, var(--theme-background, var(--jp-layout-color0, #111)));\n",
       "    --sklearn-color-border-box: var(--sg-text-color, var(--theme-code-foreground, var(--jp-content-font-color1, white)));\n",
       "    --sklearn-color-icon: #878787;\n",
       "  }\n",
       "}\n",
       "\n",
       "#sk-container-id-1 {\n",
       "  color: var(--sklearn-color-text);\n",
       "}\n",
       "\n",
       "#sk-container-id-1 pre {\n",
       "  padding: 0;\n",
       "}\n",
       "\n",
       "#sk-container-id-1 input.sk-hidden--visually {\n",
       "  border: 0;\n",
       "  clip: rect(1px 1px 1px 1px);\n",
       "  clip: rect(1px, 1px, 1px, 1px);\n",
       "  height: 1px;\n",
       "  margin: -1px;\n",
       "  overflow: hidden;\n",
       "  padding: 0;\n",
       "  position: absolute;\n",
       "  width: 1px;\n",
       "}\n",
       "\n",
       "#sk-container-id-1 div.sk-dashed-wrapped {\n",
       "  border: 1px dashed var(--sklearn-color-line);\n",
       "  margin: 0 0.4em 0.5em 0.4em;\n",
       "  box-sizing: border-box;\n",
       "  padding-bottom: 0.4em;\n",
       "  background-color: var(--sklearn-color-background);\n",
       "}\n",
       "\n",
       "#sk-container-id-1 div.sk-container {\n",
       "  /* jupyter's `normalize.less` sets `[hidden] { display: none; }`\n",
       "     but bootstrap.min.css set `[hidden] { display: none !important; }`\n",
       "     so we also need the `!important` here to be able to override the\n",
       "     default hidden behavior on the sphinx rendered scikit-learn.org.\n",
       "     See: https://github.com/scikit-learn/scikit-learn/issues/21755 */\n",
       "  display: inline-block !important;\n",
       "  position: relative;\n",
       "}\n",
       "\n",
       "#sk-container-id-1 div.sk-text-repr-fallback {\n",
       "  display: none;\n",
       "}\n",
       "\n",
       "div.sk-parallel-item,\n",
       "div.sk-serial,\n",
       "div.sk-item {\n",
       "  /* draw centered vertical line to link estimators */\n",
       "  background-image: linear-gradient(var(--sklearn-color-text-on-default-background), var(--sklearn-color-text-on-default-background));\n",
       "  background-size: 2px 100%;\n",
       "  background-repeat: no-repeat;\n",
       "  background-position: center center;\n",
       "}\n",
       "\n",
       "/* Parallel-specific style estimator block */\n",
       "\n",
       "#sk-container-id-1 div.sk-parallel-item::after {\n",
       "  content: \"\";\n",
       "  width: 100%;\n",
       "  border-bottom: 2px solid var(--sklearn-color-text-on-default-background);\n",
       "  flex-grow: 1;\n",
       "}\n",
       "\n",
       "#sk-container-id-1 div.sk-parallel {\n",
       "  display: flex;\n",
       "  align-items: stretch;\n",
       "  justify-content: center;\n",
       "  background-color: var(--sklearn-color-background);\n",
       "  position: relative;\n",
       "}\n",
       "\n",
       "#sk-container-id-1 div.sk-parallel-item {\n",
       "  display: flex;\n",
       "  flex-direction: column;\n",
       "}\n",
       "\n",
       "#sk-container-id-1 div.sk-parallel-item:first-child::after {\n",
       "  align-self: flex-end;\n",
       "  width: 50%;\n",
       "}\n",
       "\n",
       "#sk-container-id-1 div.sk-parallel-item:last-child::after {\n",
       "  align-self: flex-start;\n",
       "  width: 50%;\n",
       "}\n",
       "\n",
       "#sk-container-id-1 div.sk-parallel-item:only-child::after {\n",
       "  width: 0;\n",
       "}\n",
       "\n",
       "/* Serial-specific style estimator block */\n",
       "\n",
       "#sk-container-id-1 div.sk-serial {\n",
       "  display: flex;\n",
       "  flex-direction: column;\n",
       "  align-items: center;\n",
       "  background-color: var(--sklearn-color-background);\n",
       "  padding-right: 1em;\n",
       "  padding-left: 1em;\n",
       "}\n",
       "\n",
       "\n",
       "/* Toggleable style: style used for estimator/Pipeline/ColumnTransformer box that is\n",
       "clickable and can be expanded/collapsed.\n",
       "- Pipeline and ColumnTransformer use this feature and define the default style\n",
       "- Estimators will overwrite some part of the style using the `sk-estimator` class\n",
       "*/\n",
       "\n",
       "/* Pipeline and ColumnTransformer style (default) */\n",
       "\n",
       "#sk-container-id-1 div.sk-toggleable {\n",
       "  /* Default theme specific background. It is overwritten whether we have a\n",
       "  specific estimator or a Pipeline/ColumnTransformer */\n",
       "  background-color: var(--sklearn-color-background);\n",
       "}\n",
       "\n",
       "/* Toggleable label */\n",
       "#sk-container-id-1 label.sk-toggleable__label {\n",
       "  cursor: pointer;\n",
       "  display: block;\n",
       "  width: 100%;\n",
       "  margin-bottom: 0;\n",
       "  padding: 0.5em;\n",
       "  box-sizing: border-box;\n",
       "  text-align: center;\n",
       "}\n",
       "\n",
       "#sk-container-id-1 label.sk-toggleable__label-arrow:before {\n",
       "  /* Arrow on the left of the label */\n",
       "  content: \"▸\";\n",
       "  float: left;\n",
       "  margin-right: 0.25em;\n",
       "  color: var(--sklearn-color-icon);\n",
       "}\n",
       "\n",
       "#sk-container-id-1 label.sk-toggleable__label-arrow:hover:before {\n",
       "  color: var(--sklearn-color-text);\n",
       "}\n",
       "\n",
       "/* Toggleable content - dropdown */\n",
       "\n",
       "#sk-container-id-1 div.sk-toggleable__content {\n",
       "  max-height: 0;\n",
       "  max-width: 0;\n",
       "  overflow: hidden;\n",
       "  text-align: left;\n",
       "  /* unfitted */\n",
       "  background-color: var(--sklearn-color-unfitted-level-0);\n",
       "}\n",
       "\n",
       "#sk-container-id-1 div.sk-toggleable__content.fitted {\n",
       "  /* fitted */\n",
       "  background-color: var(--sklearn-color-fitted-level-0);\n",
       "}\n",
       "\n",
       "#sk-container-id-1 div.sk-toggleable__content pre {\n",
       "  margin: 0.2em;\n",
       "  border-radius: 0.25em;\n",
       "  color: var(--sklearn-color-text);\n",
       "  /* unfitted */\n",
       "  background-color: var(--sklearn-color-unfitted-level-0);\n",
       "}\n",
       "\n",
       "#sk-container-id-1 div.sk-toggleable__content.fitted pre {\n",
       "  /* unfitted */\n",
       "  background-color: var(--sklearn-color-fitted-level-0);\n",
       "}\n",
       "\n",
       "#sk-container-id-1 input.sk-toggleable__control:checked~div.sk-toggleable__content {\n",
       "  /* Expand drop-down */\n",
       "  max-height: 200px;\n",
       "  max-width: 100%;\n",
       "  overflow: auto;\n",
       "}\n",
       "\n",
       "#sk-container-id-1 input.sk-toggleable__control:checked~label.sk-toggleable__label-arrow:before {\n",
       "  content: \"▾\";\n",
       "}\n",
       "\n",
       "/* Pipeline/ColumnTransformer-specific style */\n",
       "\n",
       "#sk-container-id-1 div.sk-label input.sk-toggleable__control:checked~label.sk-toggleable__label {\n",
       "  color: var(--sklearn-color-text);\n",
       "  background-color: var(--sklearn-color-unfitted-level-2);\n",
       "}\n",
       "\n",
       "#sk-container-id-1 div.sk-label.fitted input.sk-toggleable__control:checked~label.sk-toggleable__label {\n",
       "  background-color: var(--sklearn-color-fitted-level-2);\n",
       "}\n",
       "\n",
       "/* Estimator-specific style */\n",
       "\n",
       "/* Colorize estimator box */\n",
       "#sk-container-id-1 div.sk-estimator input.sk-toggleable__control:checked~label.sk-toggleable__label {\n",
       "  /* unfitted */\n",
       "  background-color: var(--sklearn-color-unfitted-level-2);\n",
       "}\n",
       "\n",
       "#sk-container-id-1 div.sk-estimator.fitted input.sk-toggleable__control:checked~label.sk-toggleable__label {\n",
       "  /* fitted */\n",
       "  background-color: var(--sklearn-color-fitted-level-2);\n",
       "}\n",
       "\n",
       "#sk-container-id-1 div.sk-label label.sk-toggleable__label,\n",
       "#sk-container-id-1 div.sk-label label {\n",
       "  /* The background is the default theme color */\n",
       "  color: var(--sklearn-color-text-on-default-background);\n",
       "}\n",
       "\n",
       "/* On hover, darken the color of the background */\n",
       "#sk-container-id-1 div.sk-label:hover label.sk-toggleable__label {\n",
       "  color: var(--sklearn-color-text);\n",
       "  background-color: var(--sklearn-color-unfitted-level-2);\n",
       "}\n",
       "\n",
       "/* Label box, darken color on hover, fitted */\n",
       "#sk-container-id-1 div.sk-label.fitted:hover label.sk-toggleable__label.fitted {\n",
       "  color: var(--sklearn-color-text);\n",
       "  background-color: var(--sklearn-color-fitted-level-2);\n",
       "}\n",
       "\n",
       "/* Estimator label */\n",
       "\n",
       "#sk-container-id-1 div.sk-label label {\n",
       "  font-family: monospace;\n",
       "  font-weight: bold;\n",
       "  display: inline-block;\n",
       "  line-height: 1.2em;\n",
       "}\n",
       "\n",
       "#sk-container-id-1 div.sk-label-container {\n",
       "  text-align: center;\n",
       "}\n",
       "\n",
       "/* Estimator-specific */\n",
       "#sk-container-id-1 div.sk-estimator {\n",
       "  font-family: monospace;\n",
       "  border: 1px dotted var(--sklearn-color-border-box);\n",
       "  border-radius: 0.25em;\n",
       "  box-sizing: border-box;\n",
       "  margin-bottom: 0.5em;\n",
       "  /* unfitted */\n",
       "  background-color: var(--sklearn-color-unfitted-level-0);\n",
       "}\n",
       "\n",
       "#sk-container-id-1 div.sk-estimator.fitted {\n",
       "  /* fitted */\n",
       "  background-color: var(--sklearn-color-fitted-level-0);\n",
       "}\n",
       "\n",
       "/* on hover */\n",
       "#sk-container-id-1 div.sk-estimator:hover {\n",
       "  /* unfitted */\n",
       "  background-color: var(--sklearn-color-unfitted-level-2);\n",
       "}\n",
       "\n",
       "#sk-container-id-1 div.sk-estimator.fitted:hover {\n",
       "  /* fitted */\n",
       "  background-color: var(--sklearn-color-fitted-level-2);\n",
       "}\n",
       "\n",
       "/* Specification for estimator info (e.g. \"i\" and \"?\") */\n",
       "\n",
       "/* Common style for \"i\" and \"?\" */\n",
       "\n",
       ".sk-estimator-doc-link,\n",
       "a:link.sk-estimator-doc-link,\n",
       "a:visited.sk-estimator-doc-link {\n",
       "  float: right;\n",
       "  font-size: smaller;\n",
       "  line-height: 1em;\n",
       "  font-family: monospace;\n",
       "  background-color: var(--sklearn-color-background);\n",
       "  border-radius: 1em;\n",
       "  height: 1em;\n",
       "  width: 1em;\n",
       "  text-decoration: none !important;\n",
       "  margin-left: 1ex;\n",
       "  /* unfitted */\n",
       "  border: var(--sklearn-color-unfitted-level-1) 1pt solid;\n",
       "  color: var(--sklearn-color-unfitted-level-1);\n",
       "}\n",
       "\n",
       ".sk-estimator-doc-link.fitted,\n",
       "a:link.sk-estimator-doc-link.fitted,\n",
       "a:visited.sk-estimator-doc-link.fitted {\n",
       "  /* fitted */\n",
       "  border: var(--sklearn-color-fitted-level-1) 1pt solid;\n",
       "  color: var(--sklearn-color-fitted-level-1);\n",
       "}\n",
       "\n",
       "/* On hover */\n",
       "div.sk-estimator:hover .sk-estimator-doc-link:hover,\n",
       ".sk-estimator-doc-link:hover,\n",
       "div.sk-label-container:hover .sk-estimator-doc-link:hover,\n",
       ".sk-estimator-doc-link:hover {\n",
       "  /* unfitted */\n",
       "  background-color: var(--sklearn-color-unfitted-level-3);\n",
       "  color: var(--sklearn-color-background);\n",
       "  text-decoration: none;\n",
       "}\n",
       "\n",
       "div.sk-estimator.fitted:hover .sk-estimator-doc-link.fitted:hover,\n",
       ".sk-estimator-doc-link.fitted:hover,\n",
       "div.sk-label-container:hover .sk-estimator-doc-link.fitted:hover,\n",
       ".sk-estimator-doc-link.fitted:hover {\n",
       "  /* fitted */\n",
       "  background-color: var(--sklearn-color-fitted-level-3);\n",
       "  color: var(--sklearn-color-background);\n",
       "  text-decoration: none;\n",
       "}\n",
       "\n",
       "/* Span, style for the box shown on hovering the info icon */\n",
       ".sk-estimator-doc-link span {\n",
       "  display: none;\n",
       "  z-index: 9999;\n",
       "  position: relative;\n",
       "  font-weight: normal;\n",
       "  right: .2ex;\n",
       "  padding: .5ex;\n",
       "  margin: .5ex;\n",
       "  width: min-content;\n",
       "  min-width: 20ex;\n",
       "  max-width: 50ex;\n",
       "  color: var(--sklearn-color-text);\n",
       "  box-shadow: 2pt 2pt 4pt #999;\n",
       "  /* unfitted */\n",
       "  background: var(--sklearn-color-unfitted-level-0);\n",
       "  border: .5pt solid var(--sklearn-color-unfitted-level-3);\n",
       "}\n",
       "\n",
       ".sk-estimator-doc-link.fitted span {\n",
       "  /* fitted */\n",
       "  background: var(--sklearn-color-fitted-level-0);\n",
       "  border: var(--sklearn-color-fitted-level-3);\n",
       "}\n",
       "\n",
       ".sk-estimator-doc-link:hover span {\n",
       "  display: block;\n",
       "}\n",
       "\n",
       "/* \"?\"-specific style due to the `<a>` HTML tag */\n",
       "\n",
       "#sk-container-id-1 a.estimator_doc_link {\n",
       "  float: right;\n",
       "  font-size: 1rem;\n",
       "  line-height: 1em;\n",
       "  font-family: monospace;\n",
       "  background-color: var(--sklearn-color-background);\n",
       "  border-radius: 1rem;\n",
       "  height: 1rem;\n",
       "  width: 1rem;\n",
       "  text-decoration: none;\n",
       "  /* unfitted */\n",
       "  color: var(--sklearn-color-unfitted-level-1);\n",
       "  border: var(--sklearn-color-unfitted-level-1) 1pt solid;\n",
       "}\n",
       "\n",
       "#sk-container-id-1 a.estimator_doc_link.fitted {\n",
       "  /* fitted */\n",
       "  border: var(--sklearn-color-fitted-level-1) 1pt solid;\n",
       "  color: var(--sklearn-color-fitted-level-1);\n",
       "}\n",
       "\n",
       "/* On hover */\n",
       "#sk-container-id-1 a.estimator_doc_link:hover {\n",
       "  /* unfitted */\n",
       "  background-color: var(--sklearn-color-unfitted-level-3);\n",
       "  color: var(--sklearn-color-background);\n",
       "  text-decoration: none;\n",
       "}\n",
       "\n",
       "#sk-container-id-1 a.estimator_doc_link.fitted:hover {\n",
       "  /* fitted */\n",
       "  background-color: var(--sklearn-color-fitted-level-3);\n",
       "}\n",
       "</style><div id=\"sk-container-id-1\" class=\"sk-top-container\"><div class=\"sk-text-repr-fallback\"><pre>DecisionTreeRegressor(max_depth=1)</pre><b>In a Jupyter environment, please rerun this cell to show the HTML representation or trust the notebook. <br />On GitHub, the HTML representation is unable to render, please try loading this page with nbviewer.org.</b></div><div class=\"sk-container\" hidden><div class=\"sk-item\"><div class=\"sk-estimator fitted sk-toggleable\"><input class=\"sk-toggleable__control sk-hidden--visually\" id=\"sk-estimator-id-1\" type=\"checkbox\" checked><label for=\"sk-estimator-id-1\" class=\"sk-toggleable__label fitted sk-toggleable__label-arrow fitted\">&nbsp;&nbsp;DecisionTreeRegressor<a class=\"sk-estimator-doc-link fitted\" rel=\"noreferrer\" target=\"_blank\" href=\"https://scikit-learn.org/1.5/modules/generated/sklearn.tree.DecisionTreeRegressor.html\">?<span>Documentation for DecisionTreeRegressor</span></a><span class=\"sk-estimator-doc-link fitted\">i<span>Fitted</span></span></label><div class=\"sk-toggleable__content fitted\"><pre>DecisionTreeRegressor(max_depth=1)</pre></div> </div></div></div></div>"
      ],
      "text/plain": [
       "DecisionTreeRegressor(max_depth=1)"
      ]
     },
     "execution_count": 19,
     "metadata": {},
     "output_type": "execute_result"
    }
   ],
   "source": [
    "from sklearn.tree import DecisionTreeRegressor, plot_tree\n",
    "\n",
    "tree_1 = DecisionTreeRegressor(max_depth=1)\n",
    "targret_resudal = 'y_resudal_1'\n",
    "tree_1.fit(df[feature_cols], df[targret_resudal])"
   ]
  },
  {
   "cell_type": "markdown",
   "metadata": {
    "id": "zc3Skmgn6cZ_"
   },
   "source": [
    "Делаем предикт псевдо-остатков с помощью базового регрессора"
   ]
  },
  {
   "cell_type": "code",
   "execution_count": 20,
   "metadata": {
    "id": "k_v5JIV06crN"
   },
   "outputs": [],
   "source": [
    "df['resudal_predict_1'] = tree_1.predict(df[feature_cols])"
   ]
  },
  {
   "cell_type": "markdown",
   "metadata": {
    "id": "TBsAggg_CJYf"
   },
   "source": [
    "Последний шаг - бустим предикшн\n",
    "* по фичам предсказываем ошибку\n",
    "* добавляем к базовому предикту предкит ошибки $y = \\hat{y}_0 + \\gamma h_1(x)$\n",
    "* $\\gamma$ - это *learning rate* в лекци он адаптивный, но для простоты можно использовать константный"
   ]
  },
  {
   "cell_type": "code",
   "execution_count": 21,
   "metadata": {
    "colab": {
     "base_uri": "https://localhost:8080/",
     "height": 206
    },
    "id": "rzD6RQVnCJp3",
    "outputId": "6780d73c-f920-49da-efc8-3e5c4ac309ac"
   },
   "outputs": [
    {
     "data": {
      "text/html": [
       "<div>\n",
       "<style scoped>\n",
       "    .dataframe tbody tr th:only-of-type {\n",
       "        vertical-align: middle;\n",
       "    }\n",
       "\n",
       "    .dataframe tbody tr th {\n",
       "        vertical-align: top;\n",
       "    }\n",
       "\n",
       "    .dataframe thead th {\n",
       "        text-align: right;\n",
       "    }\n",
       "</style>\n",
       "<table border=\"1\" class=\"dataframe\">\n",
       "  <thead>\n",
       "    <tr style=\"text-align: right;\">\n",
       "      <th></th>\n",
       "      <th>feature_0</th>\n",
       "      <th>feature_1</th>\n",
       "      <th>feature_2</th>\n",
       "      <th>y</th>\n",
       "      <th>y_hat_0</th>\n",
       "      <th>y_resudal_1</th>\n",
       "      <th>resudal_predict_1</th>\n",
       "      <th>y_hat_1</th>\n",
       "    </tr>\n",
       "  </thead>\n",
       "  <tbody>\n",
       "    <tr>\n",
       "      <th>0</th>\n",
       "      <td>-1.012831</td>\n",
       "      <td>-0.562288</td>\n",
       "      <td>0.314247</td>\n",
       "      <td>-73.903672</td>\n",
       "      <td>-15.885802</td>\n",
       "      <td>-58.017870</td>\n",
       "      <td>-35.424637</td>\n",
       "      <td>-16.465980</td>\n",
       "    </tr>\n",
       "    <tr>\n",
       "      <th>1</th>\n",
       "      <td>-0.234153</td>\n",
       "      <td>1.523030</td>\n",
       "      <td>-0.234137</td>\n",
       "      <td>111.287982</td>\n",
       "      <td>-15.885802</td>\n",
       "      <td>127.173784</td>\n",
       "      <td>97.417752</td>\n",
       "      <td>-14.614064</td>\n",
       "    </tr>\n",
       "    <tr>\n",
       "      <th>2</th>\n",
       "      <td>-0.600639</td>\n",
       "      <td>0.375698</td>\n",
       "      <td>-0.291694</td>\n",
       "      <td>1.512835</td>\n",
       "      <td>-15.885802</td>\n",
       "      <td>17.398636</td>\n",
       "      <td>-35.424637</td>\n",
       "      <td>-15.711815</td>\n",
       "    </tr>\n",
       "    <tr>\n",
       "      <th>3</th>\n",
       "      <td>-1.913280</td>\n",
       "      <td>0.241962</td>\n",
       "      <td>-1.724918</td>\n",
       "      <td>-96.663483</td>\n",
       "      <td>-15.885802</td>\n",
       "      <td>-80.777681</td>\n",
       "      <td>-35.424637</td>\n",
       "      <td>-16.693578</td>\n",
       "    </tr>\n",
       "    <tr>\n",
       "      <th>4</th>\n",
       "      <td>0.767435</td>\n",
       "      <td>1.579213</td>\n",
       "      <td>-0.469474</td>\n",
       "      <td>145.064623</td>\n",
       "      <td>-15.885802</td>\n",
       "      <td>160.950425</td>\n",
       "      <td>97.417752</td>\n",
       "      <td>-14.276297</td>\n",
       "    </tr>\n",
       "  </tbody>\n",
       "</table>\n",
       "</div>"
      ],
      "text/plain": [
       "   feature_0  feature_1  feature_2           y    y_hat_0  y_resudal_1  \\\n",
       "0  -1.012831  -0.562288   0.314247  -73.903672 -15.885802   -58.017870   \n",
       "1  -0.234153   1.523030  -0.234137  111.287982 -15.885802   127.173784   \n",
       "2  -0.600639   0.375698  -0.291694    1.512835 -15.885802    17.398636   \n",
       "3  -1.913280   0.241962  -1.724918  -96.663483 -15.885802   -80.777681   \n",
       "4   0.767435   1.579213  -0.469474  145.064623 -15.885802   160.950425   \n",
       "\n",
       "   resudal_predict_1    y_hat_1  \n",
       "0         -35.424637 -16.465980  \n",
       "1          97.417752 -14.614064  \n",
       "2         -35.424637 -15.711815  \n",
       "3         -35.424637 -16.693578  \n",
       "4          97.417752 -14.276297  "
      ]
     },
     "execution_count": 21,
     "metadata": {},
     "output_type": "execute_result"
    }
   ],
   "source": [
    "gamma = 0.01\n",
    "\n",
    "df['y_hat_1'] = df['y_hat_0'] + gamma*df['y_resudal_1']\n",
    "df.head()"
   ]
  },
  {
   "cell_type": "markdown",
   "metadata": {
    "id": "Vppr6YCgElNj"
   },
   "source": [
    "Ура! сделали первую итерацию бустинга, дальше можно упаковать в цикл чтобы посчитать $\\hat{y_2}, \\hat{y_3}, \\ldots$. В цикле нужно будет сохранить все деревья обученные на псевдоостатках - потом будем делать предикт.\n",
    "\n",
    "Т.к. менятся ошибка, то и деревья будут разными.\n",
    "\n",
    "Для уверенности проверим, что нам удалось уменьшить ошибку"
   ]
  },
  {
   "cell_type": "code",
   "execution_count": 24,
   "metadata": {
    "colab": {
     "base_uri": "https://localhost:8080/"
    },
    "id": "WkQ5aH12Elb1",
    "outputId": "9844a69e-fd3f-442a-c96d-19232b78a005"
   },
   "outputs": [
    {
     "name": "stdout",
     "output_type": "stream",
     "text": [
      "iteration_0: 66.9535\n",
      "iteration_1: 66.2839\n"
     ]
    }
   ],
   "source": [
    "from sklearn.metrics import mean_absolute_error\n",
    "\n",
    "print('iteration_0: %.4f' % mean_absolute_error(df['y'], df['y_hat_0']))  # константное предсказание\n",
    "print('iteration_1: %.4f' %  mean_absolute_error(df['y'], df['y_hat_1']))"
   ]
  },
  {
   "cell_type": "markdown",
   "metadata": {
    "id": "gmImkIS2F08v"
   },
   "source": [
    "Победа, ошибка немного но уменьшилась. Следующими интерациями можно будет ещё сильнее забустить предсказания и уменьшить ошибку\n",
    "\n",
    "Можно делать хоть 10 деревьев, хоть 100 - точное число нужно на кросс-валидации подобрать"
   ]
  },
  {
   "cell_type": "code",
   "execution_count": 23,
   "metadata": {
    "colab": {
     "base_uri": "https://localhost:8080/",
     "height": 283
    },
    "id": "80Lus4fXGCT5",
    "outputId": "362ee724-41b2-44d9-a7fd-4c783e931982"
   },
   "outputs": [
    {
     "data": {
      "text/plain": [
       "<Axes: >"
      ]
     },
     "execution_count": 23,
     "metadata": {},
     "output_type": "execute_result"
    },
    {
     "data": {
      "image/png": "[encoded data removed]",
      "text/plain": [
       "<Figure size 640x480 with 1 Axes>"
      ]
     },
     "metadata": {},
     "output_type": "display_data"
    }
   ],
   "source": [
    "np.sqrt((df['y'] - df['y_hat_1'])**2).hist(bins=5)"
   ]
  },
  {
   "cell_type": "markdown",
   "metadata": {
    "id": "vX1q7bkB3YvV"
   },
   "source": [
    "Посмотрим, какое дерево обучилось на остатках.\n",
    "\n",
    "Такое дерево называется \"пень\" (stomp)"
   ]
  },
  {
   "cell_type": "code",
   "execution_count": 23,
   "metadata": {
    "colab": {
     "base_uri": "https://localhost:8080/",
     "height": 422
    },
    "id": "ZtDfe_gz5l7b",
    "outputId": "f50b937b-9ac4-4651-e0a0-52cfcd560c52"
   },
   "outputs": [
    {
     "data": {
      "image/png": "[encoded data removed]",
      "text/plain": [
       "<Figure size 1000x500 with 1 Axes>"
      ]
     },
     "metadata": {},
     "output_type": "display_data"
    }
   ],
   "source": [
    "%matplotlib inline\n",
    "from matplotlib import pyplot as plt\n",
    "\n",
    "fig = plt.figure(figsize=(10,5))\n",
    "_ = (\n",
    "    plot_tree(\n",
    "        tree_1,\n",
    "        feature_names=feature_cols,\n",
    "        filled=True\n",
    "    )\n",
    ")"
   ]
  },
  {
   "cell_type": "markdown",
   "metadata": {
    "id": "q5QM4NUIBAIM"
   },
   "source": [
    "Как и ожидалось - очень слабенькое дерево, которое предсказывает просто два значения.\n",
    "\n",
    "Для сплита была выбрана вторая фича"
   ]
  },
  {
   "cell_type": "code",
   "execution_count": 24,
   "metadata": {
    "id": "JdhkAl2qLPFE"
   },
   "outputs": [],
   "source": []
  }
 ],
 "metadata": {
  "colab": {
   "provenance": []
  },
  "kernelspec": {
   "display_name": "Python 3 (ipykernel)",
   "language": "python",
   "name": "python3"
  },
  "language_info": {
   "codemirror_mode": {
    "name": "ipython",
    "version": 3
   },
   "file_extension": ".py",
   "mimetype": "text/x-python",
   "name": "python",
   "nbconvert_exporter": "python",
   "pygments_lexer": "ipython3",
   "version": "3.12.11"
  }
 },
 "nbformat": 4,
 "nbformat_minor": 4
}
