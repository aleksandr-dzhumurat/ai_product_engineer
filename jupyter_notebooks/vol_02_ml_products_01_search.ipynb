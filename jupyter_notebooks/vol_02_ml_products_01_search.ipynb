{
 "cells": [
  {
   "cell_type": "markdown",
   "id": "52634af4-48c7-462d-b583-5f785a1d3f67",
   "metadata": {
    "id": "52634af4-48c7-462d-b583-5f785a1d3f67"
   },
   "source": [
    "# Data ingestion\n",
    "\n",
    "download dataset [Health_and_Personal_Care.jsonl.gz](https://drive.google.com/file/d/12N52kB4D1iqgzSuoWEfNSY3KqVRp10wL/view?usp=drive_link)\n",
    "\n",
    "put in to `data` dir"
   ]
  },
  {
   "cell_type": "code",
   "execution_count": 1,
   "id": "ee7ce8d0-00f6-4329-bf12-f2b08ea12a16",
   "metadata": {
    "colab": {
     "base_uri": "https://localhost:8080/"
    },
    "id": "ee7ce8d0-00f6-4329-bf12-f2b08ea12a16",
    "outputId": "f1dbdc17-fbc1-4d57-b6c5-10d7e4b64eec"
   },
   "outputs": [
    {
     "name": "stdout",
     "output_type": "stream",
     "text": [
      "['messages.db', 'labeled_data_corpus.csv', 'nltk_data', 'pipelines-data', 'zinc_data', 'nltk-data', 'Health_and_Personal_Care.jsonl.gz', 'mlflow', 'models', 'minio', 'final_dataset.zip', 'logs', 'ocr_dataset.zip', 'scored_corpus.csv', 'brand_tweets.csv', 'brand_tweets_valid.csv']\n"
     ]
    }
   ],
   "source": [
    "# %load_ext autoreload\n",
    "# %autoreload 2\n",
    "\n",
    "import os\n",
    "import sys\n",
    "\n",
    "run_env = os.getenv('RUN_ENV', 'COLLAB')\n",
    "if run_env == 'COLLAB':\n",
    "  from google.colab import drive\n",
    "  ROOT_DIR = '/content/drive'\n",
    "  drive.mount(ROOT_DIR)\n",
    "  print('Google drive connected')\n",
    "  root_data_dir = os.path.join(ROOT_DIR, 'MyDrive', 'ml_course_data')\n",
    "  sys.path.append(os.path.join(ROOT_DIR, 'MyDrive', 'src'))\n",
    "else:\n",
    "  root_data_dir = os.getenv('DATA_DIR', '/srv/data')\n",
    "\n",
    "print(os.listdir(root_data_dir))"
   ]
  },
  {
   "cell_type": "code",
   "execution_count": 2,
   "id": "b86d7416-50b4-47ba-b708-ac8d0c9a5b8b",
   "metadata": {
    "colab": {
     "base_uri": "https://localhost:8080/"
    },
    "id": "b86d7416-50b4-47ba-b708-ac8d0c9a5b8b",
    "outputId": "06d59933-cf57-460c-9b47-000c517b7e7d"
   },
   "outputs": [
    {
     "name": "stdout",
     "output_type": "stream",
     "text": [
      "Dataset num items: 1000 from /Users/adzhumurat/PycharmProjects/ai_product_engineer/data/Health_and_Personal_Care.jsonl.gz\n",
      "1000\n"
     ]
    }
   ],
   "source": [
    "from utils import read_raw_data\n",
    "\n",
    "file_name = 'Health_and_Personal_Care.jsonl.gz'\n",
    "data_path = os.path.join(root_data_dir, file_name)\n",
    "\n",
    "json_data = read_raw_data(data_path, limit=1000)\n",
    "print(len(json_data))"
   ]
  },
  {
   "cell_type": "code",
   "execution_count": 3,
   "id": "0769a3bc-dae7-4e73-8235-d24600de7b5a",
   "metadata": {
    "colab": {
     "base_uri": "https://localhost:8080/"
    },
    "id": "0769a3bc-dae7-4e73-8235-d24600de7b5a",
    "outputId": "5d103126-85bf-4621-a970-a788d6184547"
   },
   "outputs": [
    {
     "data": {
      "text/plain": [
       "{'rating': 4.0,\n",
       " 'title': '12 mg is 12 on the periodic table people! Mg for magnesium',\n",
       " 'text': 'This review is more to clarify someone else’s review bc they didn’t understand understand the labeling!  It shows 1000mg as advertised & another little label says 12mg bc 12 is on the periodic table for magnesium!  I realize not everyone takes chemistry, but 4 ppl liked his review & so misinformation is spreading.  This works. If however you are on opiate level medications that are causing constipation you should talk to your pain dr or your gastrointestinal dr & ask for a medication called Linzess which works must better & must faster, but is unnecessary for most people.  If magnesium is working for you just make sure to take it with food & drink 6-8 glasses of water per day.  Staying hydrated will really help.  Before switching to Linzess I used to take one 1,000 mg pill am & pm every day with meals & always with an 8 ounce glass of water or other liquid.',\n",
       " 'images': [],\n",
       " 'asin': 'B07TDSJZMR',\n",
       " 'parent_asin': 'B07TDSJZMR',\n",
       " 'user_id': 'AFKZENTNBQ7A7V7UXW5JJI6UGRYQ',\n",
       " 'timestamp': 1580950175902,\n",
       " 'helpful_vote': 3,\n",
       " 'verified_purchase': True}"
      ]
     },
     "execution_count": 3,
     "metadata": {},
     "output_type": "execute_result"
    }
   ],
   "source": [
    "json_data[0]"
   ]
  },
  {
   "cell_type": "code",
   "execution_count": 4,
   "id": "7152f166-a80f-41dd-ae55-e5b60ad451ca",
   "metadata": {
    "colab": {
     "base_uri": "https://localhost:8080/",
     "height": 406
    },
    "id": "7152f166-a80f-41dd-ae55-e5b60ad451ca",
    "outputId": "4124a9f6-3037-4dd9-b202-28be22e0f5b5"
   },
   "outputs": [
    {
     "data": {
      "text/html": [
       "<div>\n",
       "<style scoped>\n",
       "    .dataframe tbody tr th:only-of-type {\n",
       "        vertical-align: middle;\n",
       "    }\n",
       "\n",
       "    .dataframe tbody tr th {\n",
       "        vertical-align: top;\n",
       "    }\n",
       "\n",
       "    .dataframe thead th {\n",
       "        text-align: right;\n",
       "    }\n",
       "</style>\n",
       "<table border=\"1\" class=\"dataframe\">\n",
       "  <thead>\n",
       "    <tr style=\"text-align: right;\">\n",
       "      <th></th>\n",
       "      <th>rating</th>\n",
       "      <th>title</th>\n",
       "      <th>text</th>\n",
       "      <th>images</th>\n",
       "      <th>asin</th>\n",
       "      <th>parent_asin</th>\n",
       "      <th>user_id</th>\n",
       "      <th>timestamp</th>\n",
       "      <th>helpful_vote</th>\n",
       "      <th>verified_purchase</th>\n",
       "    </tr>\n",
       "  </thead>\n",
       "  <tbody>\n",
       "    <tr>\n",
       "      <th>0</th>\n",
       "      <td>4.0</td>\n",
       "      <td>12 mg is 12 on the periodic table people! Mg f...</td>\n",
       "      <td>This review is more to clarify someone else’s ...</td>\n",
       "      <td>[]</td>\n",
       "      <td>B07TDSJZMR</td>\n",
       "      <td>B07TDSJZMR</td>\n",
       "      <td>AFKZENTNBQ7A7V7UXW5JJI6UGRYQ</td>\n",
       "      <td>1580950175902</td>\n",
       "      <td>3</td>\n",
       "      <td>True</td>\n",
       "    </tr>\n",
       "    <tr>\n",
       "      <th>1</th>\n",
       "      <td>5.0</td>\n",
       "      <td>Save the lanet using less plastic.</td>\n",
       "      <td>Love these easy multitasking bleach tablets. B...</td>\n",
       "      <td>[]</td>\n",
       "      <td>B08637FWWF</td>\n",
       "      <td>B08637FWWF</td>\n",
       "      <td>AEVWAM3YWN5URJVJIZZ6XPD2MKIA</td>\n",
       "      <td>1604354586880</td>\n",
       "      <td>3</td>\n",
       "      <td>True</td>\n",
       "    </tr>\n",
       "    <tr>\n",
       "      <th>2</th>\n",
       "      <td>5.0</td>\n",
       "      <td>Fantastic</td>\n",
       "      <td>I have been suffering a couple months with hee...</td>\n",
       "      <td>[]</td>\n",
       "      <td>B07KJVGNN5</td>\n",
       "      <td>B07KJVGNN5</td>\n",
       "      <td>AHSPLDNW5OOUK2PLH7GXLACFBZNQ</td>\n",
       "      <td>1563966838905</td>\n",
       "      <td>0</td>\n",
       "      <td>True</td>\n",
       "    </tr>\n",
       "  </tbody>\n",
       "</table>\n",
       "</div>"
      ],
      "text/plain": [
       "   rating                                              title  \\\n",
       "0     4.0  12 mg is 12 on the periodic table people! Mg f...   \n",
       "1     5.0                 Save the lanet using less plastic.   \n",
       "2     5.0                                          Fantastic   \n",
       "\n",
       "                                                text images        asin  \\\n",
       "0  This review is more to clarify someone else’s ...     []  B07TDSJZMR   \n",
       "1  Love these easy multitasking bleach tablets. B...     []  B08637FWWF   \n",
       "2  I have been suffering a couple months with hee...     []  B07KJVGNN5   \n",
       "\n",
       "  parent_asin                       user_id      timestamp  helpful_vote  \\\n",
       "0  B07TDSJZMR  AFKZENTNBQ7A7V7UXW5JJI6UGRYQ  1580950175902             3   \n",
       "1  B08637FWWF  AEVWAM3YWN5URJVJIZZ6XPD2MKIA  1604354586880             3   \n",
       "2  B07KJVGNN5  AHSPLDNW5OOUK2PLH7GXLACFBZNQ  1563966838905             0   \n",
       "\n",
       "   verified_purchase  \n",
       "0               True  \n",
       "1               True  \n",
       "2               True  "
      ]
     },
     "execution_count": 4,
     "metadata": {},
     "output_type": "execute_result"
    }
   ],
   "source": [
    "import pandas as pd\n",
    "\n",
    "df = pd.json_normalize(json_data)\n",
    "\n",
    "df.head(3)"
   ]
  },
  {
   "cell_type": "markdown",
   "id": "a59b9d31-cd55-40b6-a692-10a60b9afa61",
   "metadata": {
    "id": "a59b9d31-cd55-40b6-a692-10a60b9afa61"
   },
   "source": [
    "dummy search"
   ]
  },
  {
   "cell_type": "code",
   "execution_count": 5,
   "id": "cd95b4ab-340e-487f-aecd-2fd468be3688",
   "metadata": {
    "colab": {
     "base_uri": "https://localhost:8080/",
     "height": 71
    },
    "id": "cd95b4ab-340e-487f-aecd-2fd468be3688",
    "outputId": "492fa704-bd87-4302-a716-371458e3dcc3"
   },
   "outputs": [
    {
     "data": {
      "text/plain": [
       "'These seem like great quality cough drops with beneficial ingredients for when you are under the weather. A couple downsides for me are that the outside of them are rough so they cut up your mouth a bit and secondly no place saying where they are made. They have a mildly sweet and minty taste.'"
      ]
     },
     "execution_count": 5,
     "metadata": {},
     "output_type": "execute_result"
    }
   ],
   "source": [
    "user_query = 'cough'\n",
    "\n",
    "df[df['text'].apply(\n",
    "    lambda x: user_query in x.lower())\n",
    "].head(5).iloc[0, 2]"
   ]
  },
  {
   "cell_type": "markdown",
   "id": "9db66474-2558-43fb-b26b-6b6abfb89074",
   "metadata": {
    "id": "9db66474-2558-43fb-b26b-6b6abfb89074"
   },
   "source": [
    "# Keyword search\n",
    "\n",
    "* eval index (sparse)\n",
    "* match documents using cosine similarity\n"
   ]
  },
  {
   "cell_type": "code",
   "execution_count": 6,
   "id": "e68754f4-98bb-49d0-b58e-71f85604986e",
   "metadata": {
    "colab": {
     "base_uri": "https://localhost:8080/"
    },
    "id": "e68754f4-98bb-49d0-b58e-71f85604986e",
    "outputId": "02d46f8a-8f55-497f-d155-746a55d159eb"
   },
   "outputs": [
    {
     "name": "stdout",
     "output_type": "stream",
     "text": [
      "vectorizer fitted\n"
     ]
    }
   ],
   "source": [
    "from sklearn.feature_extraction.text import TfidfVectorizer\n",
    "\n",
    "vectorizer = TfidfVectorizer(\n",
    "    analyzer='word',\n",
    "    lowercase=True,\n",
    "    token_pattern=r'\\b[\\w\\d]{3,}\\b'\n",
    ")\n",
    "\n",
    "vectorizer.fit(df['text'].values)\n",
    "print('vectorizer fitted')"
   ]
  },
  {
   "cell_type": "code",
   "execution_count": 7,
   "id": "42912333-904f-45b9-a560-9b38e5e0cb28",
   "metadata": {
    "colab": {
     "base_uri": "https://localhost:8080/"
    },
    "id": "42912333-904f-45b9-a560-9b38e5e0cb28",
    "outputId": "e5362f4e-809a-434f-ff05-bae15a7ed787"
   },
   "outputs": [
    {
     "name": "stdout",
     "output_type": "stream",
     "text": [
      "Index matrix: (1000, 6529)\n"
     ]
    }
   ],
   "source": [
    "document_vectors = vectorizer.transform(df['text'].values)\n",
    "print('Index matrix:', document_vectors.shape)"
   ]
  },
  {
   "cell_type": "code",
   "execution_count": 8,
   "id": "3072ed9f-c5ed-492c-8df2-8db9c41beb50",
   "metadata": {
    "colab": {
     "base_uri": "https://localhost:8080/"
    },
    "id": "3072ed9f-c5ed-492c-8df2-8db9c41beb50",
    "outputId": "2e8c5f23-bd51-4b7d-9d86-cee8b92dfc1d"
   },
   "outputs": [
    {
     "name": "stdout",
     "output_type": "stream",
     "text": [
      "(1, 6529)\n",
      "(1000,)\n",
      "Top indicies: [781 101 896 329 341 340 339 338 337 336]\n"
     ]
    }
   ],
   "source": [
    "import numpy as np\n",
    "from sklearn.metrics.pairwise import cosine_similarity\n",
    "\n",
    "query_vector = vectorizer.transform([user_query])\n",
    "print(query_vector.shape)\n",
    "\n",
    "# matching\n",
    "similarities = cosine_similarity(query_vector, document_vectors)[0]\n",
    "print(similarities.shape)\n",
    "top_k = 10\n",
    "top_indices = np.argsort(similarities)[::-1][:top_k]\n",
    "print('Top indicies:', top_indices)"
   ]
  },
  {
   "cell_type": "code",
   "execution_count": 9,
   "id": "5df6e962-6449-4a60-bb19-b0550ec681fd",
   "metadata": {
    "colab": {
     "base_uri": "https://localhost:8080/"
    },
    "id": "5df6e962-6449-4a60-bb19-b0550ec681fd",
    "outputId": "ac558293-c826-4cde-8333-76e3ec7125f6"
   },
   "outputs": [
    {
     "name": "stdout",
     "output_type": "stream",
     "text": [
      "781 0.245 VERY soothing.  I get that awful tickly dry cough a lot during allergy season, especially 5 minutes  ...\n",
      "\n",
      "101 0.221 These seem like great quality cough drops with beneficial ingredients for when you are under the wea ...\n",
      "\n",
      "896 0.109 We have a big variety of probiotics that we rotate and use daily.  This one has a very impressive la ...\n",
      "\n",
      "329 0.000 This massager brush cleans scalp effectively and makes your head feel great when you use it. The bri ...\n",
      "\n",
      "341 0.000 Astragalus has many health benefits including immune support, liver cleansing, healthy skin, and str ...\n",
      "\n",
      "340 0.000 Beet root powder has a plethora of uses. It's excellent for cooking. It enhances any chocolate desse ...\n",
      "\n",
      "339 0.000 This is a great set of gloves. They can be used for many different tasks. You get a few pairs so thi ...\n",
      "\n",
      "338 0.000 If you want a good facial cleansing brush, but don't want to spend $200, this is a good alternative. ...\n",
      "\n",
      "337 0.000 I think every household needs cleaning gloves. These have the same quality as Playtex. They are late ...\n",
      "\n",
      "336 0.000 I use household gloves all the time, so I know a thing or two about them. These are high quality and ...\n",
      "\n"
     ]
    }
   ],
   "source": [
    "for ind, row in df.iloc[top_indices].iterrows():\n",
    "    print(ind, '%.3f' % similarities[ind], row['text'][:100], '...')\n",
    "    print()"
   ]
  },
  {
   "cell_type": "markdown",
   "id": "4b1f6d06-6706-40fd-b79e-ade51dcb3e97",
   "metadata": {
    "id": "4b1f6d06-6706-40fd-b79e-ade51dcb3e97"
   },
   "source": [
    "# Elasticsearch\n",
    "\n",
    "will not working in collab\n",
    "\n",
    "For running locally fiers start ZincSearch\n",
    "\n",
    "```shell\n",
    "run-search\n",
    "```"
   ]
  },
  {
   "cell_type": "code",
   "execution_count": 10,
   "id": "1a74e1da-d42e-41eb-8bbc-259384360217",
   "metadata": {},
   "outputs": [
    {
     "name": "stdout",
     "output_type": "stream",
     "text": [
      "ENV loaded from /Users/adzhumurat/PycharmProjects/ai_product_engineer/.env: True\n",
      "AuthConfig(ZINCSEARCH_URL='http://localhost:4080', USERNAME='admin', PASSWORD='admin')\n"
     ]
    }
   ],
   "source": [
    "from utils import get_auth\n",
    "\n",
    "auth_config = get_auth(env_path=os.environ['ENV_PATH'])\n",
    "print(auth_config)"
   ]
  },
  {
   "cell_type": "code",
   "execution_count": 11,
   "id": "d2714709-bf63-47a1-8617-84cb7a7e5515",
   "metadata": {
    "id": "d2714709-bf63-47a1-8617-84cb7a7e5515"
   },
   "outputs": [
    {
     "name": "stdout",
     "output_type": "stream",
     "text": [
      "http://localhost:4080/version {}\n"
     ]
    },
    {
     "data": {
      "text/plain": [
       "{'version': '0.4.10',\n",
       " 'build': '0',\n",
       " 'commit_hash': 'f8b1436487807b107659d6f444a52c9fa442d3c0',\n",
       " 'branch': '0',\n",
       " 'build_date': '2024-01-14T09:43:19Z'}"
      ]
     },
     "execution_count": 11,
     "metadata": {},
     "output_type": "execute_result"
    }
   ],
   "source": [
    "from utils import request_elastic, load_config, create_index\n",
    "\n",
    "request_elastic('version', debug=True, method='get', conf=auth_config)"
   ]
  },
  {
   "cell_type": "markdown",
   "id": "6e247c15-f6ff-48e5-b5f4-886c8b6b249c",
   "metadata": {
    "id": "6e247c15-f6ff-48e5-b5f4-886c8b6b249c"
   },
   "source": [
    "Documents indexing"
   ]
  },
  {
   "cell_type": "code",
   "execution_count": 12,
   "id": "598cb5e7-fc16-42d6-9567-3bf64961142c",
   "metadata": {
    "id": "598cb5e7-fc16-42d6-9567-3bf64961142c"
   },
   "outputs": [
    {
     "name": "stdout",
     "output_type": "stream",
     "text": [
      "Failed to request: 400, {\"error\":\"index [index12] already exists\"}\n",
      "index12 dict_keys(['category', 'content', 'asin', 'parent_asin', 'content_len', 'doc_id'])\n"
     ]
    }
   ],
   "source": [
    "index_config = load_config()\n",
    "index_name = index_config['name']\n",
    "create_index(index_config, conf=auth_config)\n",
    "print(index_name, index_config['mappings']['properties'].keys())"
   ]
  },
  {
   "cell_type": "markdown",
   "id": "75963037-48b3-4406-b7ee-2ba93bae325c",
   "metadata": {
    "id": "75963037-48b3-4406-b7ee-2ba93bae325c"
   },
   "source": [
    "Loading full dataset"
   ]
  },
  {
   "cell_type": "code",
   "execution_count": 13,
   "id": "ddea0383-ae4b-4be4-8388-a8f6541f5cd4",
   "metadata": {
    "id": "ddea0383-ae4b-4be4-8388-a8f6541f5cd4"
   },
   "outputs": [
    {
     "name": "stdout",
     "output_type": "stream",
     "text": [
      "Dataset num items: 494121 from /Users/adzhumurat/PycharmProjects/ai_product_engineer/data/Health_and_Personal_Care.jsonl.gz\n",
      "494121\n"
     ]
    }
   ],
   "source": [
    "\n",
    "json_data = read_raw_data(data_path)\n",
    "print(len(json_data))"
   ]
  },
  {
   "cell_type": "code",
   "execution_count": 14,
   "id": "33d5d413-8c54-4caf-8354-183ed1074ec8",
   "metadata": {
    "id": "33d5d413-8c54-4caf-8354-183ed1074ec8"
   },
   "outputs": [
    {
     "name": "stdout",
     "output_type": "stream",
     "text": [
      "494121\n"
     ]
    }
   ],
   "source": [
    "import hashlib\n",
    "\n",
    "from utils import clean_text\n",
    "\n",
    "def eval_doc_id(seed=None, limit=10):\n",
    "    if seed is None:\n",
    "        seed = str(int(time.time()))\n",
    "    res = str(hashlib.md5(seed.encode('utf-8')).hexdigest())[:10]\n",
    "    return res\n",
    "\n",
    "docs = [\n",
    "    {\n",
    "        'category': 'health',\n",
    "        'content': clean_text(i['text']),\n",
    "        'asin': i['asin'],\n",
    "        'parent_asin': i['parent_asin'],\n",
    "        'content_len': len(i['text']),\n",
    "        'doc_id': eval_doc_id(i['user_id']+str(i['timestamp'])),\n",
    "        '_id': eval_doc_id(i['user_id']+str(i['timestamp']))\n",
    "    }\n",
    "    for i in json_data\n",
    "]\n",
    "print(len(docs), docs[0])"
   ]
  },
  {
   "cell_type": "code",
   "execution_count": 15,
   "id": "2a99f33d-7af0-47ef-b361-4c34a62a8031",
   "metadata": {
    "id": "2a99f33d-7af0-47ef-b361-4c34a62a8031"
   },
   "outputs": [
    {
     "data": {
      "text/plain": [
       "{'message': 'ok',\n",
       " 'id': 'b48b7da01e',\n",
       " '_id': 'b48b7da01e',\n",
       " '_index': 'index12',\n",
       " '_version': 1,\n",
       " '_seq_no': 0,\n",
       " '_primary_term': 0,\n",
       " 'result': 'created'}"
      ]
     },
     "execution_count": 15,
     "metadata": {},
     "output_type": "execute_result"
    }
   ],
   "source": [
    "from utils import load_document, load_bulk_documents, search, pretty\n",
    "\n",
    "load_document(docs[0], index_name, conf=auth_config)"
   ]
  },
  {
   "cell_type": "code",
   "execution_count": 16,
   "id": "98fe626a-6721-4d78-9693-dd0d7318eb08",
   "metadata": {
    "id": "98fe626a-6721-4d78-9693-dd0d7318eb08"
   },
   "outputs": [
    {
     "data": {
      "text/plain": [
       "{'took': 0,\n",
       " 'timed_out': False,\n",
       " '_shards': {'total': 1, 'successful': 1, 'skipped': 0, 'failed': 0},\n",
       " 'hits': {'total': {'value': 0}, 'max_score': 0, 'hits': []}}"
      ]
     },
     "execution_count": 16,
     "metadata": {},
     "output_type": "execute_result"
    }
   ],
   "source": [
    "search(index_name, 'cough', conf=auth_config)"
   ]
  },
  {
   "cell_type": "markdown",
   "id": "b2bf9a27-5ffe-4032-a741-27d7d054983b",
   "metadata": {
    "id": "b2bf9a27-5ffe-4032-a741-27d7d054983b"
   },
   "source": [
    "Build search index"
   ]
  },
  {
   "cell_type": "code",
   "execution_count": 17,
   "id": "e907265c-5c40-4ba5-8d20-180d0a434375",
   "metadata": {
    "id": "e907265c-5c40-4ba5-8d20-180d0a434375"
   },
   "outputs": [
    {
     "ename": "ConnectionError",
     "evalue": "('Connection aborted.', RemoteDisconnected('Remote end closed connection without response'))",
     "output_type": "error",
     "traceback": [
      "\u001b[31m---------------------------------------------------------------------------\u001b[39m",
      "\u001b[31mRemoteDisconnected\u001b[39m                        Traceback (most recent call last)",
      "\u001b[36mFile \u001b[39m\u001b[32m~/PycharmProjects/ai_product_engineer/.venv/lib/python3.12/site-packages/urllib3/connectionpool.py:787\u001b[39m, in \u001b[36mHTTPConnectionPool.urlopen\u001b[39m\u001b[34m(self, method, url, body, headers, retries, redirect, assert_same_host, timeout, pool_timeout, release_conn, chunked, body_pos, preload_content, decode_content, **response_kw)\u001b[39m\n\u001b[32m    786\u001b[39m \u001b[38;5;66;03m# Make the request on the HTTPConnection object\u001b[39;00m\n\u001b[32m--> \u001b[39m\u001b[32m787\u001b[39m response = \u001b[38;5;28;43mself\u001b[39;49m\u001b[43m.\u001b[49m\u001b[43m_make_request\u001b[49m\u001b[43m(\u001b[49m\n\u001b[32m    788\u001b[39m \u001b[43m    \u001b[49m\u001b[43mconn\u001b[49m\u001b[43m,\u001b[49m\n\u001b[32m    789\u001b[39m \u001b[43m    \u001b[49m\u001b[43mmethod\u001b[49m\u001b[43m,\u001b[49m\n\u001b[32m    790\u001b[39m \u001b[43m    \u001b[49m\u001b[43murl\u001b[49m\u001b[43m,\u001b[49m\n\u001b[32m    791\u001b[39m \u001b[43m    \u001b[49m\u001b[43mtimeout\u001b[49m\u001b[43m=\u001b[49m\u001b[43mtimeout_obj\u001b[49m\u001b[43m,\u001b[49m\n\u001b[32m    792\u001b[39m \u001b[43m    \u001b[49m\u001b[43mbody\u001b[49m\u001b[43m=\u001b[49m\u001b[43mbody\u001b[49m\u001b[43m,\u001b[49m\n\u001b[32m    793\u001b[39m \u001b[43m    \u001b[49m\u001b[43mheaders\u001b[49m\u001b[43m=\u001b[49m\u001b[43mheaders\u001b[49m\u001b[43m,\u001b[49m\n\u001b[32m    794\u001b[39m \u001b[43m    \u001b[49m\u001b[43mchunked\u001b[49m\u001b[43m=\u001b[49m\u001b[43mchunked\u001b[49m\u001b[43m,\u001b[49m\n\u001b[32m    795\u001b[39m \u001b[43m    \u001b[49m\u001b[43mretries\u001b[49m\u001b[43m=\u001b[49m\u001b[43mretries\u001b[49m\u001b[43m,\u001b[49m\n\u001b[32m    796\u001b[39m \u001b[43m    \u001b[49m\u001b[43mresponse_conn\u001b[49m\u001b[43m=\u001b[49m\u001b[43mresponse_conn\u001b[49m\u001b[43m,\u001b[49m\n\u001b[32m    797\u001b[39m \u001b[43m    \u001b[49m\u001b[43mpreload_content\u001b[49m\u001b[43m=\u001b[49m\u001b[43mpreload_content\u001b[49m\u001b[43m,\u001b[49m\n\u001b[32m    798\u001b[39m \u001b[43m    \u001b[49m\u001b[43mdecode_content\u001b[49m\u001b[43m=\u001b[49m\u001b[43mdecode_content\u001b[49m\u001b[43m,\u001b[49m\n\u001b[32m    799\u001b[39m \u001b[43m    \u001b[49m\u001b[43m*\u001b[49m\u001b[43m*\u001b[49m\u001b[43mresponse_kw\u001b[49m\u001b[43m,\u001b[49m\n\u001b[32m    800\u001b[39m \u001b[43m\u001b[49m\u001b[43m)\u001b[49m\n\u001b[32m    802\u001b[39m \u001b[38;5;66;03m# Everything went great!\u001b[39;00m\n",
      "\u001b[36mFile \u001b[39m\u001b[32m~/PycharmProjects/ai_product_engineer/.venv/lib/python3.12/site-packages/urllib3/connectionpool.py:534\u001b[39m, in \u001b[36mHTTPConnectionPool._make_request\u001b[39m\u001b[34m(self, conn, method, url, body, headers, retries, timeout, chunked, response_conn, preload_content, decode_content, enforce_content_length)\u001b[39m\n\u001b[32m    533\u001b[39m \u001b[38;5;28;01mtry\u001b[39;00m:\n\u001b[32m--> \u001b[39m\u001b[32m534\u001b[39m     response = \u001b[43mconn\u001b[49m\u001b[43m.\u001b[49m\u001b[43mgetresponse\u001b[49m\u001b[43m(\u001b[49m\u001b[43m)\u001b[49m\n\u001b[32m    535\u001b[39m \u001b[38;5;28;01mexcept\u001b[39;00m (BaseSSLError, \u001b[38;5;167;01mOSError\u001b[39;00m) \u001b[38;5;28;01mas\u001b[39;00m e:\n",
      "\u001b[36mFile \u001b[39m\u001b[32m~/PycharmProjects/ai_product_engineer/.venv/lib/python3.12/site-packages/urllib3/connection.py:565\u001b[39m, in \u001b[36mHTTPConnection.getresponse\u001b[39m\u001b[34m(self)\u001b[39m\n\u001b[32m    564\u001b[39m \u001b[38;5;66;03m# Get the response from http.client.HTTPConnection\u001b[39;00m\n\u001b[32m--> \u001b[39m\u001b[32m565\u001b[39m httplib_response = \u001b[38;5;28;43msuper\u001b[39;49m\u001b[43m(\u001b[49m\u001b[43m)\u001b[49m\u001b[43m.\u001b[49m\u001b[43mgetresponse\u001b[49m\u001b[43m(\u001b[49m\u001b[43m)\u001b[49m\n\u001b[32m    567\u001b[39m \u001b[38;5;28;01mtry\u001b[39;00m:\n",
      "\u001b[36mFile \u001b[39m\u001b[32m/opt/homebrew/Cellar/python@3.12/3.12.11/Frameworks/Python.framework/Versions/3.12/lib/python3.12/http/client.py:1430\u001b[39m, in \u001b[36mHTTPConnection.getresponse\u001b[39m\u001b[34m(self)\u001b[39m\n\u001b[32m   1429\u001b[39m \u001b[38;5;28;01mtry\u001b[39;00m:\n\u001b[32m-> \u001b[39m\u001b[32m1430\u001b[39m     \u001b[43mresponse\u001b[49m\u001b[43m.\u001b[49m\u001b[43mbegin\u001b[49m\u001b[43m(\u001b[49m\u001b[43m)\u001b[49m\n\u001b[32m   1431\u001b[39m \u001b[38;5;28;01mexcept\u001b[39;00m \u001b[38;5;167;01mConnectionError\u001b[39;00m:\n",
      "\u001b[36mFile \u001b[39m\u001b[32m/opt/homebrew/Cellar/python@3.12/3.12.11/Frameworks/Python.framework/Versions/3.12/lib/python3.12/http/client.py:331\u001b[39m, in \u001b[36mHTTPResponse.begin\u001b[39m\u001b[34m(self)\u001b[39m\n\u001b[32m    330\u001b[39m \u001b[38;5;28;01mwhile\u001b[39;00m \u001b[38;5;28;01mTrue\u001b[39;00m:\n\u001b[32m--> \u001b[39m\u001b[32m331\u001b[39m     version, status, reason = \u001b[38;5;28;43mself\u001b[39;49m\u001b[43m.\u001b[49m\u001b[43m_read_status\u001b[49m\u001b[43m(\u001b[49m\u001b[43m)\u001b[49m\n\u001b[32m    332\u001b[39m     \u001b[38;5;28;01mif\u001b[39;00m status != CONTINUE:\n",
      "\u001b[36mFile \u001b[39m\u001b[32m/opt/homebrew/Cellar/python@3.12/3.12.11/Frameworks/Python.framework/Versions/3.12/lib/python3.12/http/client.py:300\u001b[39m, in \u001b[36mHTTPResponse._read_status\u001b[39m\u001b[34m(self)\u001b[39m\n\u001b[32m    297\u001b[39m \u001b[38;5;28;01mif\u001b[39;00m \u001b[38;5;129;01mnot\u001b[39;00m line:\n\u001b[32m    298\u001b[39m     \u001b[38;5;66;03m# Presumably, the server closed the connection before\u001b[39;00m\n\u001b[32m    299\u001b[39m     \u001b[38;5;66;03m# sending a valid response.\u001b[39;00m\n\u001b[32m--> \u001b[39m\u001b[32m300\u001b[39m     \u001b[38;5;28;01mraise\u001b[39;00m RemoteDisconnected(\u001b[33m\"\u001b[39m\u001b[33mRemote end closed connection without\u001b[39m\u001b[33m\"\u001b[39m\n\u001b[32m    301\u001b[39m                              \u001b[33m\"\u001b[39m\u001b[33m response\u001b[39m\u001b[33m\"\u001b[39m)\n\u001b[32m    302\u001b[39m \u001b[38;5;28;01mtry\u001b[39;00m:\n",
      "\u001b[31mRemoteDisconnected\u001b[39m: Remote end closed connection without response",
      "\nDuring handling of the above exception, another exception occurred:\n",
      "\u001b[31mProtocolError\u001b[39m                             Traceback (most recent call last)",
      "\u001b[36mFile \u001b[39m\u001b[32m~/PycharmProjects/ai_product_engineer/.venv/lib/python3.12/site-packages/requests/adapters.py:644\u001b[39m, in \u001b[36mHTTPAdapter.send\u001b[39m\u001b[34m(self, request, stream, timeout, verify, cert, proxies)\u001b[39m\n\u001b[32m    643\u001b[39m \u001b[38;5;28;01mtry\u001b[39;00m:\n\u001b[32m--> \u001b[39m\u001b[32m644\u001b[39m     resp = \u001b[43mconn\u001b[49m\u001b[43m.\u001b[49m\u001b[43murlopen\u001b[49m\u001b[43m(\u001b[49m\n\u001b[32m    645\u001b[39m \u001b[43m        \u001b[49m\u001b[43mmethod\u001b[49m\u001b[43m=\u001b[49m\u001b[43mrequest\u001b[49m\u001b[43m.\u001b[49m\u001b[43mmethod\u001b[49m\u001b[43m,\u001b[49m\n\u001b[32m    646\u001b[39m \u001b[43m        \u001b[49m\u001b[43murl\u001b[49m\u001b[43m=\u001b[49m\u001b[43murl\u001b[49m\u001b[43m,\u001b[49m\n\u001b[32m    647\u001b[39m \u001b[43m        \u001b[49m\u001b[43mbody\u001b[49m\u001b[43m=\u001b[49m\u001b[43mrequest\u001b[49m\u001b[43m.\u001b[49m\u001b[43mbody\u001b[49m\u001b[43m,\u001b[49m\n\u001b[32m    648\u001b[39m \u001b[43m        \u001b[49m\u001b[43mheaders\u001b[49m\u001b[43m=\u001b[49m\u001b[43mrequest\u001b[49m\u001b[43m.\u001b[49m\u001b[43mheaders\u001b[49m\u001b[43m,\u001b[49m\n\u001b[32m    649\u001b[39m \u001b[43m        \u001b[49m\u001b[43mredirect\u001b[49m\u001b[43m=\u001b[49m\u001b[38;5;28;43;01mFalse\u001b[39;49;00m\u001b[43m,\u001b[49m\n\u001b[32m    650\u001b[39m \u001b[43m        \u001b[49m\u001b[43massert_same_host\u001b[49m\u001b[43m=\u001b[49m\u001b[38;5;28;43;01mFalse\u001b[39;49;00m\u001b[43m,\u001b[49m\n\u001b[32m    651\u001b[39m \u001b[43m        \u001b[49m\u001b[43mpreload_content\u001b[49m\u001b[43m=\u001b[49m\u001b[38;5;28;43;01mFalse\u001b[39;49;00m\u001b[43m,\u001b[49m\n\u001b[32m    652\u001b[39m \u001b[43m        \u001b[49m\u001b[43mdecode_content\u001b[49m\u001b[43m=\u001b[49m\u001b[38;5;28;43;01mFalse\u001b[39;49;00m\u001b[43m,\u001b[49m\n\u001b[32m    653\u001b[39m \u001b[43m        \u001b[49m\u001b[43mretries\u001b[49m\u001b[43m=\u001b[49m\u001b[38;5;28;43mself\u001b[39;49m\u001b[43m.\u001b[49m\u001b[43mmax_retries\u001b[49m\u001b[43m,\u001b[49m\n\u001b[32m    654\u001b[39m \u001b[43m        \u001b[49m\u001b[43mtimeout\u001b[49m\u001b[43m=\u001b[49m\u001b[43mtimeout\u001b[49m\u001b[43m,\u001b[49m\n\u001b[32m    655\u001b[39m \u001b[43m        \u001b[49m\u001b[43mchunked\u001b[49m\u001b[43m=\u001b[49m\u001b[43mchunked\u001b[49m\u001b[43m,\u001b[49m\n\u001b[32m    656\u001b[39m \u001b[43m    \u001b[49m\u001b[43m)\u001b[49m\n\u001b[32m    658\u001b[39m \u001b[38;5;28;01mexcept\u001b[39;00m (ProtocolError, \u001b[38;5;167;01mOSError\u001b[39;00m) \u001b[38;5;28;01mas\u001b[39;00m err:\n",
      "\u001b[36mFile \u001b[39m\u001b[32m~/PycharmProjects/ai_product_engineer/.venv/lib/python3.12/site-packages/urllib3/connectionpool.py:841\u001b[39m, in \u001b[36mHTTPConnectionPool.urlopen\u001b[39m\u001b[34m(self, method, url, body, headers, retries, redirect, assert_same_host, timeout, pool_timeout, release_conn, chunked, body_pos, preload_content, decode_content, **response_kw)\u001b[39m\n\u001b[32m    839\u001b[39m     new_e = ProtocolError(\u001b[33m\"\u001b[39m\u001b[33mConnection aborted.\u001b[39m\u001b[33m\"\u001b[39m, new_e)\n\u001b[32m--> \u001b[39m\u001b[32m841\u001b[39m retries = \u001b[43mretries\u001b[49m\u001b[43m.\u001b[49m\u001b[43mincrement\u001b[49m\u001b[43m(\u001b[49m\n\u001b[32m    842\u001b[39m \u001b[43m    \u001b[49m\u001b[43mmethod\u001b[49m\u001b[43m,\u001b[49m\u001b[43m \u001b[49m\u001b[43murl\u001b[49m\u001b[43m,\u001b[49m\u001b[43m \u001b[49m\u001b[43merror\u001b[49m\u001b[43m=\u001b[49m\u001b[43mnew_e\u001b[49m\u001b[43m,\u001b[49m\u001b[43m \u001b[49m\u001b[43m_pool\u001b[49m\u001b[43m=\u001b[49m\u001b[38;5;28;43mself\u001b[39;49m\u001b[43m,\u001b[49m\u001b[43m \u001b[49m\u001b[43m_stacktrace\u001b[49m\u001b[43m=\u001b[49m\u001b[43msys\u001b[49m\u001b[43m.\u001b[49m\u001b[43mexc_info\u001b[49m\u001b[43m(\u001b[49m\u001b[43m)\u001b[49m\u001b[43m[\u001b[49m\u001b[32;43m2\u001b[39;49m\u001b[43m]\u001b[49m\n\u001b[32m    843\u001b[39m \u001b[43m\u001b[49m\u001b[43m)\u001b[49m\n\u001b[32m    844\u001b[39m retries.sleep()\n",
      "\u001b[36mFile \u001b[39m\u001b[32m~/PycharmProjects/ai_product_engineer/.venv/lib/python3.12/site-packages/urllib3/util/retry.py:474\u001b[39m, in \u001b[36mRetry.increment\u001b[39m\u001b[34m(self, method, url, response, error, _pool, _stacktrace)\u001b[39m\n\u001b[32m    473\u001b[39m \u001b[38;5;28;01mif\u001b[39;00m read \u001b[38;5;129;01mis\u001b[39;00m \u001b[38;5;28;01mFalse\u001b[39;00m \u001b[38;5;129;01mor\u001b[39;00m method \u001b[38;5;129;01mis\u001b[39;00m \u001b[38;5;28;01mNone\u001b[39;00m \u001b[38;5;129;01mor\u001b[39;00m \u001b[38;5;129;01mnot\u001b[39;00m \u001b[38;5;28mself\u001b[39m._is_method_retryable(method):\n\u001b[32m--> \u001b[39m\u001b[32m474\u001b[39m     \u001b[38;5;28;01mraise\u001b[39;00m \u001b[43mreraise\u001b[49m\u001b[43m(\u001b[49m\u001b[38;5;28;43mtype\u001b[39;49m\u001b[43m(\u001b[49m\u001b[43merror\u001b[49m\u001b[43m)\u001b[49m\u001b[43m,\u001b[49m\u001b[43m \u001b[49m\u001b[43merror\u001b[49m\u001b[43m,\u001b[49m\u001b[43m \u001b[49m\u001b[43m_stacktrace\u001b[49m\u001b[43m)\u001b[49m\n\u001b[32m    475\u001b[39m \u001b[38;5;28;01melif\u001b[39;00m read \u001b[38;5;129;01mis\u001b[39;00m \u001b[38;5;129;01mnot\u001b[39;00m \u001b[38;5;28;01mNone\u001b[39;00m:\n",
      "\u001b[36mFile \u001b[39m\u001b[32m~/PycharmProjects/ai_product_engineer/.venv/lib/python3.12/site-packages/urllib3/util/util.py:38\u001b[39m, in \u001b[36mreraise\u001b[39m\u001b[34m(tp, value, tb)\u001b[39m\n\u001b[32m     37\u001b[39m \u001b[38;5;28;01mif\u001b[39;00m value.__traceback__ \u001b[38;5;129;01mis\u001b[39;00m \u001b[38;5;129;01mnot\u001b[39;00m tb:\n\u001b[32m---> \u001b[39m\u001b[32m38\u001b[39m     \u001b[38;5;28;01mraise\u001b[39;00m value.with_traceback(tb)\n\u001b[32m     39\u001b[39m \u001b[38;5;28;01mraise\u001b[39;00m value\n",
      "\u001b[36mFile \u001b[39m\u001b[32m~/PycharmProjects/ai_product_engineer/.venv/lib/python3.12/site-packages/urllib3/connectionpool.py:787\u001b[39m, in \u001b[36mHTTPConnectionPool.urlopen\u001b[39m\u001b[34m(self, method, url, body, headers, retries, redirect, assert_same_host, timeout, pool_timeout, release_conn, chunked, body_pos, preload_content, decode_content, **response_kw)\u001b[39m\n\u001b[32m    786\u001b[39m \u001b[38;5;66;03m# Make the request on the HTTPConnection object\u001b[39;00m\n\u001b[32m--> \u001b[39m\u001b[32m787\u001b[39m response = \u001b[38;5;28;43mself\u001b[39;49m\u001b[43m.\u001b[49m\u001b[43m_make_request\u001b[49m\u001b[43m(\u001b[49m\n\u001b[32m    788\u001b[39m \u001b[43m    \u001b[49m\u001b[43mconn\u001b[49m\u001b[43m,\u001b[49m\n\u001b[32m    789\u001b[39m \u001b[43m    \u001b[49m\u001b[43mmethod\u001b[49m\u001b[43m,\u001b[49m\n\u001b[32m    790\u001b[39m \u001b[43m    \u001b[49m\u001b[43murl\u001b[49m\u001b[43m,\u001b[49m\n\u001b[32m    791\u001b[39m \u001b[43m    \u001b[49m\u001b[43mtimeout\u001b[49m\u001b[43m=\u001b[49m\u001b[43mtimeout_obj\u001b[49m\u001b[43m,\u001b[49m\n\u001b[32m    792\u001b[39m \u001b[43m    \u001b[49m\u001b[43mbody\u001b[49m\u001b[43m=\u001b[49m\u001b[43mbody\u001b[49m\u001b[43m,\u001b[49m\n\u001b[32m    793\u001b[39m \u001b[43m    \u001b[49m\u001b[43mheaders\u001b[49m\u001b[43m=\u001b[49m\u001b[43mheaders\u001b[49m\u001b[43m,\u001b[49m\n\u001b[32m    794\u001b[39m \u001b[43m    \u001b[49m\u001b[43mchunked\u001b[49m\u001b[43m=\u001b[49m\u001b[43mchunked\u001b[49m\u001b[43m,\u001b[49m\n\u001b[32m    795\u001b[39m \u001b[43m    \u001b[49m\u001b[43mretries\u001b[49m\u001b[43m=\u001b[49m\u001b[43mretries\u001b[49m\u001b[43m,\u001b[49m\n\u001b[32m    796\u001b[39m \u001b[43m    \u001b[49m\u001b[43mresponse_conn\u001b[49m\u001b[43m=\u001b[49m\u001b[43mresponse_conn\u001b[49m\u001b[43m,\u001b[49m\n\u001b[32m    797\u001b[39m \u001b[43m    \u001b[49m\u001b[43mpreload_content\u001b[49m\u001b[43m=\u001b[49m\u001b[43mpreload_content\u001b[49m\u001b[43m,\u001b[49m\n\u001b[32m    798\u001b[39m \u001b[43m    \u001b[49m\u001b[43mdecode_content\u001b[49m\u001b[43m=\u001b[49m\u001b[43mdecode_content\u001b[49m\u001b[43m,\u001b[49m\n\u001b[32m    799\u001b[39m \u001b[43m    \u001b[49m\u001b[43m*\u001b[49m\u001b[43m*\u001b[49m\u001b[43mresponse_kw\u001b[49m\u001b[43m,\u001b[49m\n\u001b[32m    800\u001b[39m \u001b[43m\u001b[49m\u001b[43m)\u001b[49m\n\u001b[32m    802\u001b[39m \u001b[38;5;66;03m# Everything went great!\u001b[39;00m\n",
      "\u001b[36mFile \u001b[39m\u001b[32m~/PycharmProjects/ai_product_engineer/.venv/lib/python3.12/site-packages/urllib3/connectionpool.py:534\u001b[39m, in \u001b[36mHTTPConnectionPool._make_request\u001b[39m\u001b[34m(self, conn, method, url, body, headers, retries, timeout, chunked, response_conn, preload_content, decode_content, enforce_content_length)\u001b[39m\n\u001b[32m    533\u001b[39m \u001b[38;5;28;01mtry\u001b[39;00m:\n\u001b[32m--> \u001b[39m\u001b[32m534\u001b[39m     response = \u001b[43mconn\u001b[49m\u001b[43m.\u001b[49m\u001b[43mgetresponse\u001b[49m\u001b[43m(\u001b[49m\u001b[43m)\u001b[49m\n\u001b[32m    535\u001b[39m \u001b[38;5;28;01mexcept\u001b[39;00m (BaseSSLError, \u001b[38;5;167;01mOSError\u001b[39;00m) \u001b[38;5;28;01mas\u001b[39;00m e:\n",
      "\u001b[36mFile \u001b[39m\u001b[32m~/PycharmProjects/ai_product_engineer/.venv/lib/python3.12/site-packages/urllib3/connection.py:565\u001b[39m, in \u001b[36mHTTPConnection.getresponse\u001b[39m\u001b[34m(self)\u001b[39m\n\u001b[32m    564\u001b[39m \u001b[38;5;66;03m# Get the response from http.client.HTTPConnection\u001b[39;00m\n\u001b[32m--> \u001b[39m\u001b[32m565\u001b[39m httplib_response = \u001b[38;5;28;43msuper\u001b[39;49m\u001b[43m(\u001b[49m\u001b[43m)\u001b[49m\u001b[43m.\u001b[49m\u001b[43mgetresponse\u001b[49m\u001b[43m(\u001b[49m\u001b[43m)\u001b[49m\n\u001b[32m    567\u001b[39m \u001b[38;5;28;01mtry\u001b[39;00m:\n",
      "\u001b[36mFile \u001b[39m\u001b[32m/opt/homebrew/Cellar/python@3.12/3.12.11/Frameworks/Python.framework/Versions/3.12/lib/python3.12/http/client.py:1430\u001b[39m, in \u001b[36mHTTPConnection.getresponse\u001b[39m\u001b[34m(self)\u001b[39m\n\u001b[32m   1429\u001b[39m \u001b[38;5;28;01mtry\u001b[39;00m:\n\u001b[32m-> \u001b[39m\u001b[32m1430\u001b[39m     \u001b[43mresponse\u001b[49m\u001b[43m.\u001b[49m\u001b[43mbegin\u001b[49m\u001b[43m(\u001b[49m\u001b[43m)\u001b[49m\n\u001b[32m   1431\u001b[39m \u001b[38;5;28;01mexcept\u001b[39;00m \u001b[38;5;167;01mConnectionError\u001b[39;00m:\n",
      "\u001b[36mFile \u001b[39m\u001b[32m/opt/homebrew/Cellar/python@3.12/3.12.11/Frameworks/Python.framework/Versions/3.12/lib/python3.12/http/client.py:331\u001b[39m, in \u001b[36mHTTPResponse.begin\u001b[39m\u001b[34m(self)\u001b[39m\n\u001b[32m    330\u001b[39m \u001b[38;5;28;01mwhile\u001b[39;00m \u001b[38;5;28;01mTrue\u001b[39;00m:\n\u001b[32m--> \u001b[39m\u001b[32m331\u001b[39m     version, status, reason = \u001b[38;5;28;43mself\u001b[39;49m\u001b[43m.\u001b[49m\u001b[43m_read_status\u001b[49m\u001b[43m(\u001b[49m\u001b[43m)\u001b[49m\n\u001b[32m    332\u001b[39m     \u001b[38;5;28;01mif\u001b[39;00m status != CONTINUE:\n",
      "\u001b[36mFile \u001b[39m\u001b[32m/opt/homebrew/Cellar/python@3.12/3.12.11/Frameworks/Python.framework/Versions/3.12/lib/python3.12/http/client.py:300\u001b[39m, in \u001b[36mHTTPResponse._read_status\u001b[39m\u001b[34m(self)\u001b[39m\n\u001b[32m    297\u001b[39m \u001b[38;5;28;01mif\u001b[39;00m \u001b[38;5;129;01mnot\u001b[39;00m line:\n\u001b[32m    298\u001b[39m     \u001b[38;5;66;03m# Presumably, the server closed the connection before\u001b[39;00m\n\u001b[32m    299\u001b[39m     \u001b[38;5;66;03m# sending a valid response.\u001b[39;00m\n\u001b[32m--> \u001b[39m\u001b[32m300\u001b[39m     \u001b[38;5;28;01mraise\u001b[39;00m RemoteDisconnected(\u001b[33m\"\u001b[39m\u001b[33mRemote end closed connection without\u001b[39m\u001b[33m\"\u001b[39m\n\u001b[32m    301\u001b[39m                              \u001b[33m\"\u001b[39m\u001b[33m response\u001b[39m\u001b[33m\"\u001b[39m)\n\u001b[32m    302\u001b[39m \u001b[38;5;28;01mtry\u001b[39;00m:\n",
      "\u001b[31mProtocolError\u001b[39m: ('Connection aborted.', RemoteDisconnected('Remote end closed connection without response'))",
      "\nDuring handling of the above exception, another exception occurred:\n",
      "\u001b[31mConnectionError\u001b[39m                           Traceback (most recent call last)",
      "\u001b[36mCell\u001b[39m\u001b[36m \u001b[39m\u001b[32mIn[17]\u001b[39m\u001b[32m, line 1\u001b[39m\n\u001b[32m----> \u001b[39m\u001b[32m1\u001b[39m \u001b[43mload_bulk_documents\u001b[49m\u001b[43m(\u001b[49m\u001b[43mindex_name\u001b[49m\u001b[43m,\u001b[49m\u001b[43m \u001b[49m\u001b[43mdocs\u001b[49m\u001b[43m,\u001b[49m\u001b[43m \u001b[49m\u001b[43mconf\u001b[49m\u001b[43m=\u001b[49m\u001b[43mauth_config\u001b[49m\u001b[43m)\u001b[49m\n",
      "\u001b[36mFile \u001b[39m\u001b[32m~/PycharmProjects/ai_product_engineer/src/utils.py:98\u001b[39m, in \u001b[36mload_bulk_documents\u001b[39m\u001b[34m(index_name, documents, conf)\u001b[39m\n\u001b[32m     96\u001b[39m \u001b[38;5;28;01mdef\u001b[39;00m\u001b[38;5;250m \u001b[39m\u001b[34mload_bulk_documents\u001b[39m(index_name, documents, conf):\n\u001b[32m     97\u001b[39m     \u001b[38;5;28;01mfor\u001b[39;00m doc \u001b[38;5;129;01min\u001b[39;00m documents:\n\u001b[32m---> \u001b[39m\u001b[32m98\u001b[39m         \u001b[43mload_document\u001b[49m\u001b[43m(\u001b[49m\u001b[43mdoc\u001b[49m\u001b[43m,\u001b[49m\u001b[43m \u001b[49m\u001b[43mindex_name\u001b[49m\u001b[43m,\u001b[49m\u001b[43m \u001b[49m\u001b[43mconf\u001b[49m\u001b[43m=\u001b[49m\u001b[43mconf\u001b[49m\u001b[43m)\u001b[49m\n\u001b[32m     99\u001b[39m     \u001b[38;5;28mprint\u001b[39m(\u001b[33m\"\u001b[39m\u001b[33mDocument loaded successfully.\u001b[39m\u001b[33m\"\u001b[39m)\n",
      "\u001b[36mFile \u001b[39m\u001b[32m~/PycharmProjects/ai_product_engineer/src/utils.py:93\u001b[39m, in \u001b[36mload_document\u001b[39m\u001b[34m(doc, index_name, debug, conf)\u001b[39m\n\u001b[32m     92\u001b[39m \u001b[38;5;28;01mdef\u001b[39;00m\u001b[38;5;250m \u001b[39m\u001b[34mload_document\u001b[39m(doc, index_name, debug=\u001b[38;5;28;01mFalse\u001b[39;00m, conf=\u001b[38;5;28;01mNone\u001b[39;00m):\n\u001b[32m---> \u001b[39m\u001b[32m93\u001b[39m     response = \u001b[43mrequest_elastic\u001b[49m\u001b[43m(\u001b[49m\u001b[33;43mf\u001b[39;49m\u001b[33;43m'\u001b[39;49m\u001b[33;43mapi/\u001b[39;49m\u001b[38;5;132;43;01m{\u001b[39;49;00m\u001b[43mindex_name\u001b[49m\u001b[38;5;132;43;01m}\u001b[39;49;00m\u001b[33;43m/_doc\u001b[39;49m\u001b[33;43m'\u001b[39;49m\u001b[43m,\u001b[49m\u001b[43m \u001b[49m\u001b[43mdebug\u001b[49m\u001b[43m=\u001b[49m\u001b[43mdebug\u001b[49m\u001b[43m,\u001b[49m\u001b[43m \u001b[49m\u001b[43mdata\u001b[49m\u001b[43m=\u001b[49m\u001b[43mdoc\u001b[49m\u001b[43m,\u001b[49m\u001b[43m \u001b[49m\u001b[43mmethod\u001b[49m\u001b[43m=\u001b[49m\u001b[33;43m'\u001b[39;49m\u001b[33;43mpost\u001b[39;49m\u001b[33;43m'\u001b[39;49m\u001b[43m,\u001b[49m\u001b[43m \u001b[49m\u001b[43mconf\u001b[49m\u001b[43m=\u001b[49m\u001b[43mconf\u001b[49m\u001b[43m)\u001b[49m\n\u001b[32m     94\u001b[39m     \u001b[38;5;28;01mreturn\u001b[39;00m response\n",
      "\u001b[36mFile \u001b[39m\u001b[32m~/PycharmProjects/ai_product_engineer/src/utils.py:73\u001b[39m, in \u001b[36mrequest_elastic\u001b[39m\u001b[34m(api_endpoint, debug, method, data, conf)\u001b[39m\n\u001b[32m     71\u001b[39m \u001b[38;5;28;01mif\u001b[39;00m debug:\n\u001b[32m     72\u001b[39m     \u001b[38;5;28mprint\u001b[39m(url, json.dumps(data))\n\u001b[32m---> \u001b[39m\u001b[32m73\u001b[39m response = \u001b[43mrequest_method\u001b[49m\u001b[43m(\u001b[49m\u001b[43murl\u001b[49m\u001b[43m,\u001b[49m\u001b[43m \u001b[49m\u001b[43mheaders\u001b[49m\u001b[43m=\u001b[49m\u001b[43mheaders\u001b[49m\u001b[43m,\u001b[49m\u001b[43m \u001b[49m\u001b[43mdata\u001b[49m\u001b[43m=\u001b[49m\u001b[43mjson\u001b[49m\u001b[43m.\u001b[49m\u001b[43mdumps\u001b[49m\u001b[43m(\u001b[49m\u001b[43mdata\u001b[49m\u001b[43m)\u001b[49m\u001b[43m,\u001b[49m\u001b[43m \u001b[49m\u001b[43mauth\u001b[49m\u001b[43m=\u001b[49m\u001b[43m(\u001b[49m\u001b[43mconf\u001b[49m\u001b[43m.\u001b[49m\u001b[43mUSERNAME\u001b[49m\u001b[43m,\u001b[49m\u001b[43m \u001b[49m\u001b[43mconf\u001b[49m\u001b[43m.\u001b[49m\u001b[43mPASSWORD\u001b[49m\u001b[43m)\u001b[49m\u001b[43m)\u001b[49m\n\u001b[32m     74\u001b[39m \u001b[38;5;28;01mif\u001b[39;00m response.status_code == \u001b[32m200\u001b[39m:\n\u001b[32m     75\u001b[39m     \u001b[38;5;28;01mreturn\u001b[39;00m response.json()\n",
      "\u001b[36mFile \u001b[39m\u001b[32m~/PycharmProjects/ai_product_engineer/.venv/lib/python3.12/site-packages/requests/api.py:115\u001b[39m, in \u001b[36mpost\u001b[39m\u001b[34m(url, data, json, **kwargs)\u001b[39m\n\u001b[32m    103\u001b[39m \u001b[38;5;28;01mdef\u001b[39;00m\u001b[38;5;250m \u001b[39m\u001b[34mpost\u001b[39m(url, data=\u001b[38;5;28;01mNone\u001b[39;00m, json=\u001b[38;5;28;01mNone\u001b[39;00m, **kwargs):\n\u001b[32m    104\u001b[39m \u001b[38;5;250m    \u001b[39m\u001b[33mr\u001b[39m\u001b[33;03m\"\"\"Sends a POST request.\u001b[39;00m\n\u001b[32m    105\u001b[39m \n\u001b[32m    106\u001b[39m \u001b[33;03m    :param url: URL for the new :class:`Request` object.\u001b[39;00m\n\u001b[32m   (...)\u001b[39m\u001b[32m    112\u001b[39m \u001b[33;03m    :rtype: requests.Response\u001b[39;00m\n\u001b[32m    113\u001b[39m \u001b[33;03m    \"\"\"\u001b[39;00m\n\u001b[32m--> \u001b[39m\u001b[32m115\u001b[39m     \u001b[38;5;28;01mreturn\u001b[39;00m \u001b[43mrequest\u001b[49m\u001b[43m(\u001b[49m\u001b[33;43m\"\u001b[39;49m\u001b[33;43mpost\u001b[39;49m\u001b[33;43m\"\u001b[39;49m\u001b[43m,\u001b[49m\u001b[43m \u001b[49m\u001b[43murl\u001b[49m\u001b[43m,\u001b[49m\u001b[43m \u001b[49m\u001b[43mdata\u001b[49m\u001b[43m=\u001b[49m\u001b[43mdata\u001b[49m\u001b[43m,\u001b[49m\u001b[43m \u001b[49m\u001b[43mjson\u001b[49m\u001b[43m=\u001b[49m\u001b[43mjson\u001b[49m\u001b[43m,\u001b[49m\u001b[43m \u001b[49m\u001b[43m*\u001b[49m\u001b[43m*\u001b[49m\u001b[43mkwargs\u001b[49m\u001b[43m)\u001b[49m\n",
      "\u001b[36mFile \u001b[39m\u001b[32m~/PycharmProjects/ai_product_engineer/.venv/lib/python3.12/site-packages/requests/api.py:59\u001b[39m, in \u001b[36mrequest\u001b[39m\u001b[34m(method, url, **kwargs)\u001b[39m\n\u001b[32m     55\u001b[39m \u001b[38;5;66;03m# By using the 'with' statement we are sure the session is closed, thus we\u001b[39;00m\n\u001b[32m     56\u001b[39m \u001b[38;5;66;03m# avoid leaving sockets open which can trigger a ResourceWarning in some\u001b[39;00m\n\u001b[32m     57\u001b[39m \u001b[38;5;66;03m# cases, and look like a memory leak in others.\u001b[39;00m\n\u001b[32m     58\u001b[39m \u001b[38;5;28;01mwith\u001b[39;00m sessions.Session() \u001b[38;5;28;01mas\u001b[39;00m session:\n\u001b[32m---> \u001b[39m\u001b[32m59\u001b[39m     \u001b[38;5;28;01mreturn\u001b[39;00m \u001b[43msession\u001b[49m\u001b[43m.\u001b[49m\u001b[43mrequest\u001b[49m\u001b[43m(\u001b[49m\u001b[43mmethod\u001b[49m\u001b[43m=\u001b[49m\u001b[43mmethod\u001b[49m\u001b[43m,\u001b[49m\u001b[43m \u001b[49m\u001b[43murl\u001b[49m\u001b[43m=\u001b[49m\u001b[43murl\u001b[49m\u001b[43m,\u001b[49m\u001b[43m \u001b[49m\u001b[43m*\u001b[49m\u001b[43m*\u001b[49m\u001b[43mkwargs\u001b[49m\u001b[43m)\u001b[49m\n",
      "\u001b[36mFile \u001b[39m\u001b[32m~/PycharmProjects/ai_product_engineer/.venv/lib/python3.12/site-packages/requests/sessions.py:589\u001b[39m, in \u001b[36mSession.request\u001b[39m\u001b[34m(self, method, url, params, data, headers, cookies, files, auth, timeout, allow_redirects, proxies, hooks, stream, verify, cert, json)\u001b[39m\n\u001b[32m    584\u001b[39m send_kwargs = {\n\u001b[32m    585\u001b[39m     \u001b[33m\"\u001b[39m\u001b[33mtimeout\u001b[39m\u001b[33m\"\u001b[39m: timeout,\n\u001b[32m    586\u001b[39m     \u001b[33m\"\u001b[39m\u001b[33mallow_redirects\u001b[39m\u001b[33m\"\u001b[39m: allow_redirects,\n\u001b[32m    587\u001b[39m }\n\u001b[32m    588\u001b[39m send_kwargs.update(settings)\n\u001b[32m--> \u001b[39m\u001b[32m589\u001b[39m resp = \u001b[38;5;28;43mself\u001b[39;49m\u001b[43m.\u001b[49m\u001b[43msend\u001b[49m\u001b[43m(\u001b[49m\u001b[43mprep\u001b[49m\u001b[43m,\u001b[49m\u001b[43m \u001b[49m\u001b[43m*\u001b[49m\u001b[43m*\u001b[49m\u001b[43msend_kwargs\u001b[49m\u001b[43m)\u001b[49m\n\u001b[32m    591\u001b[39m \u001b[38;5;28;01mreturn\u001b[39;00m resp\n",
      "\u001b[36mFile \u001b[39m\u001b[32m~/PycharmProjects/ai_product_engineer/.venv/lib/python3.12/site-packages/requests/sessions.py:703\u001b[39m, in \u001b[36mSession.send\u001b[39m\u001b[34m(self, request, **kwargs)\u001b[39m\n\u001b[32m    700\u001b[39m start = preferred_clock()\n\u001b[32m    702\u001b[39m \u001b[38;5;66;03m# Send the request\u001b[39;00m\n\u001b[32m--> \u001b[39m\u001b[32m703\u001b[39m r = \u001b[43madapter\u001b[49m\u001b[43m.\u001b[49m\u001b[43msend\u001b[49m\u001b[43m(\u001b[49m\u001b[43mrequest\u001b[49m\u001b[43m,\u001b[49m\u001b[43m \u001b[49m\u001b[43m*\u001b[49m\u001b[43m*\u001b[49m\u001b[43mkwargs\u001b[49m\u001b[43m)\u001b[49m\n\u001b[32m    705\u001b[39m \u001b[38;5;66;03m# Total elapsed time of the request (approximately)\u001b[39;00m\n\u001b[32m    706\u001b[39m elapsed = preferred_clock() - start\n",
      "\u001b[36mFile \u001b[39m\u001b[32m~/PycharmProjects/ai_product_engineer/.venv/lib/python3.12/site-packages/requests/adapters.py:659\u001b[39m, in \u001b[36mHTTPAdapter.send\u001b[39m\u001b[34m(self, request, stream, timeout, verify, cert, proxies)\u001b[39m\n\u001b[32m    644\u001b[39m     resp = conn.urlopen(\n\u001b[32m    645\u001b[39m         method=request.method,\n\u001b[32m    646\u001b[39m         url=url,\n\u001b[32m   (...)\u001b[39m\u001b[32m    655\u001b[39m         chunked=chunked,\n\u001b[32m    656\u001b[39m     )\n\u001b[32m    658\u001b[39m \u001b[38;5;28;01mexcept\u001b[39;00m (ProtocolError, \u001b[38;5;167;01mOSError\u001b[39;00m) \u001b[38;5;28;01mas\u001b[39;00m err:\n\u001b[32m--> \u001b[39m\u001b[32m659\u001b[39m     \u001b[38;5;28;01mraise\u001b[39;00m \u001b[38;5;167;01mConnectionError\u001b[39;00m(err, request=request)\n\u001b[32m    661\u001b[39m \u001b[38;5;28;01mexcept\u001b[39;00m MaxRetryError \u001b[38;5;28;01mas\u001b[39;00m e:\n\u001b[32m    662\u001b[39m     \u001b[38;5;28;01mif\u001b[39;00m \u001b[38;5;28misinstance\u001b[39m(e.reason, ConnectTimeoutError):\n\u001b[32m    663\u001b[39m         \u001b[38;5;66;03m# TODO: Remove this in 3.0.0: see #2811\u001b[39;00m\n",
      "\u001b[31mConnectionError\u001b[39m: ('Connection aborted.', RemoteDisconnected('Remote end closed connection without response'))"
     ]
    }
   ],
   "source": [
    "load_bulk_documents(index_name, docs, conf=auth_config)"
   ]
  },
  {
   "cell_type": "code",
   "execution_count": 19,
   "id": "1c5dc0ea-63be-4ed5-a694-cb3dbe1e6ee5",
   "metadata": {
    "id": "1c5dc0ea-63be-4ed5-a694-cb3dbe1e6ee5"
   },
   "outputs": [
    {
     "data": {
      "text/plain": [
       "{'took': 0,\n",
       " 'timed_out': False,\n",
       " '_shards': {'total': 1, 'successful': 1, 'skipped': 0, 'failed': 0},\n",
       " 'hits': {'total': {'value': 43},\n",
       "  'max_score': 8.755762607332912,\n",
       "  'hits': [{'_index': 'index12',\n",
       "    '_type': '_doc',\n",
       "    '_id': '1d52dd497e',\n",
       "    '_score': 8.755762607332912,\n",
       "    '@timestamp': '2025-10-21T12:41:00.384955648Z',\n",
       "    '_source': {'@timestamp': '2025-10-21T12:41:00.384955648Z',\n",
       "     '_id': '1d52dd497e',\n",
       "     'asin': 'B003UWD92Q',\n",
       "     'category': 'health',\n",
       "     'content': \"As a child, Smith Bros. Black Cough Drops were a real treat for me. These have been very hard to find in stores. Recently, the brand was purchased be a new company and maybe they are making a comeback. I've noticed Smith Bros. Cough Drops in bags recently, but alas, not the black licorice ones. I believe that was the original flavor way back when. Since I'm a life-time licorice lover these are just what I want! Will they cure a cough? I really don't know. Will they relieve a cough? Possibly, same as any hard candy will. The vitamin C might help you if you have a cold. To be honest, I buy these and treat them like candy. A nice licorice flavor! I can carry a box in my pocket and enjoy the taste and help relieve a dry mouth and throat. I'm really pleased to see Smith Bros. make a come back. You might want to try the wild cherry flavor also. If you like licorice, buy these. If you don't like licorice, you probably won't like the black cough drops. There are several flavors available.\",\n",
       "     'content_len': 995,\n",
       "     'doc_id': '1d52dd497e',\n",
       "     'parent_asin': 'B003UWD92Q'}},\n",
       "   {'_index': 'index12',\n",
       "    '_type': '_doc',\n",
       "    '_id': '02af45875b',\n",
       "    '_score': 8.680903025740447,\n",
       "    '@timestamp': '2025-10-21T12:40:19.91985664Z',\n",
       "    '_source': {'@timestamp': '2025-10-21T12:40:19.91985664Z',\n",
       "     '_id': '02af45875b',\n",
       "     'asin': 'B00Q45VBLM',\n",
       "     'category': 'health',\n",
       "     'content': \"I had a bad persisting cough that wouldn't go away. Tried my prescription syrup which only made me sleepy for a week and it didn't improve. Tried taking elderberry syrup which only made it worst.My mom then gave me this to try. It's a large black ball the size of a small meatball. We just boiled it to turn it into a drink. It was the most disgusting tasting thing I had ever tried. I mean it tasted bad.But I felt a hue improvement immediately. After the second dose, I was almost cured from my persistent cough! After the 2nd day, even though I didn't take another dose, it kept on working ans my cough was gone.I believed my cough was caused by acid reflux and that's why nothing else worked. So if you are coughing for 2 weeks with no improvement, give this herbal remedy a try!\",\n",
       "     'content_len': 819,\n",
       "     'doc_id': '02af45875b',\n",
       "     'parent_asin': 'B00Q45VBLM'}},\n",
       "   {'_index': 'index12',\n",
       "    '_type': '_doc',\n",
       "    '_id': '82c2a4e5a8',\n",
       "    '_score': 8.589218158242256,\n",
       "    '@timestamp': '2025-10-21T12:40:14.023404288Z',\n",
       "    '_source': {'@timestamp': '2025-10-21T12:40:14.023404288Z',\n",
       "     '_id': '82c2a4e5a8',\n",
       "     'asin': 'B00E05ZZN8',\n",
       "     'category': 'health',\n",
       "     'content': \"This pack was totally sweet! I hate shopping for supplements in those lame mall-supplement stores (cough, cough GNC). They're really not oriented at all towards the endurance athlete. I got a good mix of stuff I've used before and new items to try out. YOLO!\",\n",
       "     'content_len': 258,\n",
       "     'doc_id': '82c2a4e5a8',\n",
       "     'parent_asin': 'B00E05ZZN8'}},\n",
       "   {'_index': 'index12',\n",
       "    '_type': '_doc',\n",
       "    '_id': '8bb23a98c8',\n",
       "    '_score': 8.296663266415646,\n",
       "    '@timestamp': '2025-10-21T12:40:23.855913216Z',\n",
       "    '_source': {'@timestamp': '2025-10-21T12:40:23.855913216Z',\n",
       "     '_id': '8bb23a98c8',\n",
       "     'asin': 'B0006O12F2',\n",
       "     'category': 'health',\n",
       "     'content': 'I love herbs the herbs that god created in this earth.....The herbs are the miracle to our cure.........Forget going to the doctor everytime you have a simple cold or when you have a bad croop cough that you have had for more that one week.... The Coltsfoot took my croop cough withing one day.......So i thank god for his nartural herbs he created.',\n",
       "     'content_len': 349,\n",
       "     'doc_id': '8bb23a98c8',\n",
       "     'parent_asin': 'B0006O12F2'}},\n",
       "   {'_index': 'index12',\n",
       "    '_type': '_doc',\n",
       "    '_id': 'c02f0a570c',\n",
       "    '_score': 8.226612197817438,\n",
       "    '@timestamp': '2025-10-21T12:41:04.178863104Z',\n",
       "    '_source': {'@timestamp': '2025-10-21T12:41:04.178863104Z',\n",
       "     '_id': 'c02f0a570c',\n",
       "     'asin': 'B01JH0HJGG',\n",
       "     'category': 'health',\n",
       "     'content': \"Although it is expensive, it is really big in Europe.  A waitress in Switzerland put us onto it when wife had really bad cough in Lucerne. She said she used it for her little boy and it was fabulous.  We bought some and wife's cough went away! Have since found it on Amazon and it is imported from European countries but worth every drop! We keep a bottle on hand now.\",\n",
       "     'content_len': 368,\n",
       "     'doc_id': 'c02f0a570c',\n",
       "     'parent_asin': 'B01JH0HJGG'}},\n",
       "   {'_index': 'index12',\n",
       "    '_type': '_doc',\n",
       "    '_id': '62934537ba',\n",
       "    '_score': 8.130764197321474,\n",
       "    '@timestamp': '2025-10-21T12:41:14.194334976Z',\n",
       "    '_source': {'@timestamp': '2025-10-21T12:41:14.194334976Z',\n",
       "     '_id': '62934537ba',\n",
       "     'asin': 'B07BH4NYWH',\n",
       "     'category': 'health',\n",
       "     'content': 'They also help with cough',\n",
       "     'content_len': 25,\n",
       "     'doc_id': '62934537ba',\n",
       "     'parent_asin': 'B07BH4NYWH'}},\n",
       "   {'_index': 'index12',\n",
       "    '_type': '_doc',\n",
       "    '_id': '55e227f3ea',\n",
       "    '_score': 8.02363379806224,\n",
       "    '@timestamp': '2025-10-21T12:40:35.833194496Z',\n",
       "    '_source': {'@timestamp': '2025-10-21T12:40:35.833194496Z',\n",
       "     '_id': '55e227f3ea',\n",
       "     'asin': 'B08776DXFY',\n",
       "     'category': 'health',\n",
       "     'content': 'Seems to really help when I have a cough.',\n",
       "     'content_len': 41,\n",
       "     'doc_id': '55e227f3ea',\n",
       "     'parent_asin': 'B08776DXFY'}},\n",
       "   {'_index': 'index12',\n",
       "    '_type': '_doc',\n",
       "    '_id': 'ed31bfe6a3',\n",
       "    '_score': 7.919289771537178,\n",
       "    '@timestamp': '2025-10-21T12:40:31.071494656Z',\n",
       "    '_source': {'@timestamp': '2025-10-21T12:40:31.071494656Z',\n",
       "     '_id': 'ed31bfe6a3',\n",
       "     'asin': 'B01M4R3EML',\n",
       "     'category': 'health',\n",
       "     'content': 'Very good quality,and helping with my  chronic  cough condition and mucus problems',\n",
       "     'content_len': 82,\n",
       "     'doc_id': 'ed31bfe6a3',\n",
       "     'parent_asin': 'B01M4R3EML'}},\n",
       "   {'_index': 'index12',\n",
       "    '_type': '_doc',\n",
       "    '_id': '33c48d9a9e',\n",
       "    '_score': 7.84279554643383,\n",
       "    '@timestamp': '2025-10-21T12:40:26.530450432Z',\n",
       "    '_source': {'@timestamp': '2025-10-21T12:40:26.530450432Z',\n",
       "     '_id': '33c48d9a9e',\n",
       "     'asin': 'B083JLGS57',\n",
       "     'category': 'health',\n",
       "     'content': 'This product is a lifesaver! Helps baby sleep, broke up cough, and baby loved the flavor!',\n",
       "     'content_len': 89,\n",
       "     'doc_id': '33c48d9a9e',\n",
       "     'parent_asin': 'B083JLGS57'}},\n",
       "   {'_index': 'index12',\n",
       "    '_type': '_doc',\n",
       "    '_id': 'ef58c3a799',\n",
       "    '_score': 7.669929160162255,\n",
       "    '@timestamp': '2025-10-21T12:40:37.961619968Z',\n",
       "    '_source': {'@timestamp': '2025-10-21T12:40:37.961619968Z',\n",
       "     '_id': 'ef58c3a799',\n",
       "     'asin': 'B0101Q938W',\n",
       "     'category': 'health',\n",
       "     'content': 'This is sweet and syrupy and we love it. Tastes very good and seems like it would work as cough syrup. Great product!',\n",
       "     'content_len': 117,\n",
       "     'doc_id': 'ef58c3a799',\n",
       "     'parent_asin': 'B0101Q938W'}}]}}"
      ]
     },
     "execution_count": 19,
     "metadata": {},
     "output_type": "execute_result"
    }
   ],
   "source": [
    "res = search(index_name, 'cough', conf=auth_config)\n",
    "res"
   ]
  },
  {
   "cell_type": "code",
   "execution_count": 20,
   "id": "5f388d26-b440-4d48-baed-15ab38bf844a",
   "metadata": {
    "id": "5f388d26-b440-4d48-baed-15ab38bf844a"
   },
   "outputs": [
    {
     "data": {
      "text/plain": [
       "[{'content': 'As a child, Smith Bros. Black Cough Drops were a real treat for me. These have been very hard to find in stores. Recently, the brand was purchased be ...'},\n",
       " {'content': \"I had a bad persisting cough that wouldn't go away. Tried my prescription syrup which only made me sleepy for a week and it didn't improve. Tried taki...\"},\n",
       " {'content': \"This pack was totally sweet! I hate shopping for supplements in those lame mall-supplement stores (cough, cough GNC). They're really not oriented at a...\"},\n",
       " {'content': 'I love herbs the herbs that god created in this earth.....The herbs are the miracle to our cure.........Forget going to the doctor everytime you have ...'},\n",
       " {'content': 'Although it is expensive, it is really big in Europe.  A waitress in Switzerland put us onto it when wife had really bad cough in Lucerne. She said sh...'},\n",
       " {'content': 'They also help with cough...'},\n",
       " {'content': 'Seems to really help when I have a cough....'},\n",
       " {'content': 'Very good quality,and helping with my  chronic  cough condition and mucus problems...'},\n",
       " {'content': 'This product is a lifesaver! Helps baby sleep, broke up cough, and baby loved the flavor!...'},\n",
       " {'content': 'This is sweet and syrupy and we love it. Tastes very good and seems like it would work as cough syrup. Great product!...'}]"
      ]
     },
     "execution_count": 20,
     "metadata": {},
     "output_type": "execute_result"
    }
   ],
   "source": [
    "pretty(res['hits']['hits'])"
   ]
  },
  {
   "cell_type": "markdown",
   "id": "89c3a2a6-df3a-4758-aadf-4352be62bdbf",
   "metadata": {
    "id": "89c3a2a6-df3a-4758-aadf-4352be62bdbf"
   },
   "source": [
    "# Embeddings search\n",
    "\n",
    "GPU-powered [embeddings evaluation](https://colab.research.google.com/drive/1avq9WrUSOwsfUUXZZhgyNxKNe62kG-fk?usp=sharing)"
   ]
  },
  {
   "cell_type": "code",
   "execution_count": null,
   "id": "12db7487-4299-493a-80e4-c4c817e17fe0",
   "metadata": {
    "id": "12db7487-4299-493a-80e4-c4c817e17fe0"
   },
   "outputs": [],
   "source": []
  }
 ],
 "metadata": {
  "colab": {
   "provenance": []
  },
  "kernelspec": {
   "display_name": "Python 3 (ipykernel)",
   "language": "python",
   "name": "python3"
  },
  "language_info": {
   "codemirror_mode": {
    "name": "ipython",
    "version": 3
   },
   "file_extension": ".py",
   "mimetype": "text/x-python",
   "name": "python",
   "nbconvert_exporter": "python",
   "pygments_lexer": "ipython3",
   "version": "3.12.11"
  }
 },
 "nbformat": 4,
 "nbformat_minor": 5
}
