{
  "cells": [
    {
      "cell_type": "markdown",
      "metadata": {
        "id": "eU-2v7X9Riq9"
      },
      "source": [
        "# Понятие переобучения\n",
        "\n",
        "## Исходные данные\n",
        "\n",
        "Для этого занятия нам понадобится файл `non_linear.csv` который хранится в [директории курса на Google Drive](https://drive.google.com/file/d/1prHJVpHn0N5y1BqLQQ2Hpx5OP8uKIXjT/view?usp=sharing)\n",
        "\n",
        "Скопируйте файл к себе в родительскую директорию **hse_nlp_2021**"
      ]
    },
    {
      "cell_type": "code",
      "execution_count": 1,
      "metadata": {
        "colab": {
          "base_uri": "https://localhost:8080/"
        },
        "id": "nTMvCFCqRi3y",
        "outputId": "eab603a7-aeb7-47c2-a13c-2eeff193aeb6"
      },
      "outputs": [
        {
          "name": "stdout",
          "output_type": "stream",
          "text": [
            "Mounted at /content/drive\n",
            "Google drive connected\n",
            "['nyt-ingredients-snapshot-2015.csv', 'insurance (1).csv', 'non_linear.csv', 'client_segmentation.csv', 'eigen.pkl', 'clustering.pkl', 'boosting_toy_dataset.csv', 'politic_meme.jpg', 'gray_goose.jpg', 'test_dataset.pkl', 'memes', 'optimal_push_time', 'sklearn_data', 'my_little_recsys', 'corpora', 'logs', 'nltk_data', 'recsys_data', 'MNIST', 'hymenoptera_data', 'pet_projects', 'ocr_dataset_sample.csv', 'geo_points.csv.gzip', 'scored_corpus.csv', 'labeled_data_corpus.csv', 'memes_stat_dataset.zip', 'als_model.pkl', 'raw_data.zip', 'json_views.tar.gz', 'test_data.csv', 'sales_timeseries_dataset.csv.gz', 'brand_tweets_valid.csv', 'brand_tweets.csv', 'Health_and_Personal_Care.jsonl.gz', 'models', 'final_dataset.zip', 'ocr_dataset.zip', 'bidmachine_logs.zip', 'meta_Health_and_Personal_Care.jsonl.gz', 'messages.db', 'user_item_views.zip', 'content_catalog.zip', 'ground_truth_dataset.pkl', 'insurance.csv']\n",
            "Содержимое директории /content/drive/MyDrive/ml_course_data: ['nyt-ingredients-snapshot-2015.csv', 'insurance (1).csv', 'non_linear.csv', 'client_segmentation.csv', 'eigen.pkl', 'clustering.pkl', 'boosting_toy_dataset.csv', 'politic_meme.jpg', 'gray_goose.jpg', 'test_dataset.pkl', 'memes', 'optimal_push_time', 'sklearn_data', 'my_little_recsys', 'corpora', 'logs', 'nltk_data', 'recsys_data', 'MNIST', 'hymenoptera_data', 'pet_projects', 'ocr_dataset_sample.csv', 'geo_points.csv.gzip', 'scored_corpus.csv', 'labeled_data_corpus.csv', 'memes_stat_dataset.zip', 'als_model.pkl', 'raw_data.zip', 'json_views.tar.gz', 'test_data.csv', 'sales_timeseries_dataset.csv.gz', 'brand_tweets_valid.csv', 'brand_tweets.csv', 'Health_and_Personal_Care.jsonl.gz', 'models', 'final_dataset.zip', 'ocr_dataset.zip', 'bidmachine_logs.zip', 'meta_Health_and_Personal_Care.jsonl.gz', 'messages.db', 'user_item_views.zip', 'content_catalog.zip', 'ground_truth_dataset.pkl', 'insurance.csv']\n"
          ]
        }
      ],
      "source": [
        "import logging\n",
        "import os\n",
        "import sys\n",
        "import shutil\n",
        "\n",
        "import numpy as np\n",
        "from google.colab import drive\n",
        "\n",
        "RANDOM_SEED = 42\n",
        "np.random.seed(RANDOM_SEED)  # гарантируем воспроизводимость\n",
        "\n",
        "run_env = os.getenv('RUN_ENV', 'COLLAB')\n",
        "if run_env == 'COLLAB':\n",
        "  from google.colab import drive\n",
        "  ROOT_DIR = '/content/drive'\n",
        "  drive.mount(ROOT_DIR)\n",
        "  print('Google drive connected')\n",
        "  root_data_dir = os.path.join(ROOT_DIR, 'MyDrive', 'ml_course_data')\n",
        "  sys.path.append(os.path.join(ROOT_DIR, 'MyDrive', 'src'))\n",
        "else:\n",
        "  root_data_dir = os.getenv('DATA_DIR', '/srv/data')\n",
        "\n",
        "print(os.listdir(root_data_dir))\n",
        "\n",
        "if not os.path.exists(root_data_dir):\n",
        "  raise RuntimeError('Отсутствует директория с данными')\n",
        "else:\n",
        "  print('Содержимое директории %s: %s' % (root_data_dir, os.listdir(root_data_dir)))"
      ]
    },
    {
      "cell_type": "markdown",
      "metadata": {
        "id": "d5u1y-jRSYjA"
      },
      "source": [
        "# I Переобучение\n",
        "\n",
        "## Как детектировать переобучение\n",
        "\n",
        "Переобучение - это явление, когда модель \"слишком сильно\" подгоняется под обучающую выборку и плохо справляется с новыми данными - проведём эксперимент и увидим на примере линейной регрессии, как переобучаются модели\n",
        "\n",
        "Начнем с исходных данных - их мы уже исследовали на прошлом семинаре"
      ]
    },
    {
      "cell_type": "code",
      "execution_count": 2,
      "metadata": {
        "colab": {
          "base_uri": "https://localhost:8080/",
          "height": 206
        },
        "id": "pDGE4-pSWyP0",
        "outputId": "57e3506b-b9b0-4eb0-87ab-03e26a6ca51a"
      },
      "outputs": [
        {
          "data": {
            "application/vnd.google.colaboratory.intrinsic+json": {
              "summary": "{\n  \"name\": \"data\",\n  \"rows\": 50,\n  \"fields\": [\n    {\n      \"column\": \"x_train\",\n      \"properties\": {\n        \"dtype\": \"number\",\n        \"std\": 1.7346348504538434,\n        \"min\": 0.138368445203154,\n        \"max\": 5.968711568081509,\n        \"num_unique_values\": 48,\n        \"samples\": [\n          3.773684869176929,\n          5.258000917719854,\n          3.761105919613005\n        ],\n        \"semantic_type\": \"\",\n        \"description\": \"\"\n      }\n    },\n    {\n      \"column\": \"y_train\",\n      \"properties\": {\n        \"dtype\": \"number\",\n        \"std\": 0.8070133503207109,\n        \"min\": -0.336119849248448,\n        \"max\": 2.430015341483141,\n        \"num_unique_values\": 50,\n        \"samples\": [\n          2.1032644954805457,\n          0.0952497335071682,\n          0.3156105133062987\n        ],\n        \"semantic_type\": \"\",\n        \"description\": \"\"\n      }\n    }\n  ]\n}",
              "type": "dataframe",
              "variable_name": "data"
            },
            "text/html": [
              "\n",
              "  <div id=\"df-241c357e-99e4-427c-9edc-84130711479f\" class=\"colab-df-container\">\n",
              "    <div>\n",
              "<style scoped>\n",
              "    .dataframe tbody tr th:only-of-type {\n",
              "        vertical-align: middle;\n",
              "    }\n",
              "\n",
              "    .dataframe tbody tr th {\n",
              "        vertical-align: top;\n",
              "    }\n",
              "\n",
              "    .dataframe thead th {\n",
              "        text-align: right;\n",
              "    }\n",
              "</style>\n",
              "<table border=\"1\" class=\"dataframe\">\n",
              "  <thead>\n",
              "    <tr style=\"text-align: right;\">\n",
              "      <th></th>\n",
              "      <th>x_train</th>\n",
              "      <th>y_train</th>\n",
              "    </tr>\n",
              "  </thead>\n",
              "  <tbody>\n",
              "    <tr>\n",
              "      <th>0</th>\n",
              "      <td>0.138368</td>\n",
              "      <td>0.838812</td>\n",
              "    </tr>\n",
              "    <tr>\n",
              "      <th>1</th>\n",
              "      <td>0.157237</td>\n",
              "      <td>0.889313</td>\n",
              "    </tr>\n",
              "    <tr>\n",
              "      <th>2</th>\n",
              "      <td>0.188684</td>\n",
              "      <td>1.430040</td>\n",
              "    </tr>\n",
              "    <tr>\n",
              "      <th>3</th>\n",
              "      <td>0.685553</td>\n",
              "      <td>1.717309</td>\n",
              "    </tr>\n",
              "    <tr>\n",
              "      <th>4</th>\n",
              "      <td>0.874237</td>\n",
              "      <td>2.032588</td>\n",
              "    </tr>\n",
              "  </tbody>\n",
              "</table>\n",
              "</div>\n",
              "    <div class=\"colab-df-buttons\">\n",
              "\n",
              "  <div class=\"colab-df-container\">\n",
              "    <button class=\"colab-df-convert\" onclick=\"convertToInteractive('df-241c357e-99e4-427c-9edc-84130711479f')\"\n",
              "            title=\"Convert this dataframe to an interactive table.\"\n",
              "            style=\"display:none;\">\n",
              "\n",
              "  <svg xmlns=\"http://www.w3.org/2000/svg\" height=\"24px\" viewBox=\"0 -960 960 960\">\n",
              "    <path d=\"M120-120v-720h720v720H120Zm60-500h600v-160H180v160Zm220 220h160v-160H400v160Zm0 220h160v-160H400v160ZM180-400h160v-160H180v160Zm440 0h160v-160H620v160ZM180-180h160v-160H180v160Zm440 0h160v-160H620v160Z\"/>\n",
              "  </svg>\n",
              "    </button>\n",
              "\n",
              "  <style>\n",
              "    .colab-df-container {\n",
              "      display:flex;\n",
              "      gap: 12px;\n",
              "    }\n",
              "\n",
              "    .colab-df-convert {\n",
              "      background-color: #E8F0FE;\n",
              "      border: none;\n",
              "      border-radius: 50%;\n",
              "      cursor: pointer;\n",
              "      display: none;\n",
              "      fill: #1967D2;\n",
              "      height: 32px;\n",
              "      padding: 0 0 0 0;\n",
              "      width: 32px;\n",
              "    }\n",
              "\n",
              "    .colab-df-convert:hover {\n",
              "      background-color: #E2EBFA;\n",
              "      box-shadow: 0px 1px 2px rgba(60, 64, 67, 0.3), 0px 1px 3px 1px rgba(60, 64, 67, 0.15);\n",
              "      fill: #174EA6;\n",
              "    }\n",
              "\n",
              "    .colab-df-buttons div {\n",
              "      margin-bottom: 4px;\n",
              "    }\n",
              "\n",
              "    [theme=dark] .colab-df-convert {\n",
              "      background-color: #3B4455;\n",
              "      fill: #D2E3FC;\n",
              "    }\n",
              "\n",
              "    [theme=dark] .colab-df-convert:hover {\n",
              "      background-color: #434B5C;\n",
              "      box-shadow: 0px 1px 3px 1px rgba(0, 0, 0, 0.15);\n",
              "      filter: drop-shadow(0px 1px 2px rgba(0, 0, 0, 0.3));\n",
              "      fill: #FFFFFF;\n",
              "    }\n",
              "  </style>\n",
              "\n",
              "    <script>\n",
              "      const buttonEl =\n",
              "        document.querySelector('#df-241c357e-99e4-427c-9edc-84130711479f button.colab-df-convert');\n",
              "      buttonEl.style.display =\n",
              "        google.colab.kernel.accessAllowed ? 'block' : 'none';\n",
              "\n",
              "      async function convertToInteractive(key) {\n",
              "        const element = document.querySelector('#df-241c357e-99e4-427c-9edc-84130711479f');\n",
              "        const dataTable =\n",
              "          await google.colab.kernel.invokeFunction('convertToInteractive',\n",
              "                                                    [key], {});\n",
              "        if (!dataTable) return;\n",
              "\n",
              "        const docLinkHtml = 'Like what you see? Visit the ' +\n",
              "          '<a target=\"_blank\" href=https://colab.research.google.com/notebooks/data_table.ipynb>data table notebook</a>'\n",
              "          + ' to learn more about interactive tables.';\n",
              "        element.innerHTML = '';\n",
              "        dataTable['output_type'] = 'display_data';\n",
              "        await google.colab.output.renderOutput(dataTable, element);\n",
              "        const docLink = document.createElement('div');\n",
              "        docLink.innerHTML = docLinkHtml;\n",
              "        element.appendChild(docLink);\n",
              "      }\n",
              "    </script>\n",
              "  </div>\n",
              "\n",
              "\n",
              "    <div id=\"df-ef7dabdc-93a5-4631-bf47-b7ef156eaf5e\">\n",
              "      <button class=\"colab-df-quickchart\" onclick=\"quickchart('df-ef7dabdc-93a5-4631-bf47-b7ef156eaf5e')\"\n",
              "                title=\"Suggest charts\"\n",
              "                style=\"display:none;\">\n",
              "\n",
              "<svg xmlns=\"http://www.w3.org/2000/svg\" height=\"24px\"viewBox=\"0 0 24 24\"\n",
              "     width=\"24px\">\n",
              "    <g>\n",
              "        <path d=\"M19 3H5c-1.1 0-2 .9-2 2v14c0 1.1.9 2 2 2h14c1.1 0 2-.9 2-2V5c0-1.1-.9-2-2-2zM9 17H7v-7h2v7zm4 0h-2V7h2v10zm4 0h-2v-4h2v4z\"/>\n",
              "    </g>\n",
              "</svg>\n",
              "      </button>\n",
              "\n",
              "<style>\n",
              "  .colab-df-quickchart {\n",
              "      --bg-color: #E8F0FE;\n",
              "      --fill-color: #1967D2;\n",
              "      --hover-bg-color: #E2EBFA;\n",
              "      --hover-fill-color: #174EA6;\n",
              "      --disabled-fill-color: #AAA;\n",
              "      --disabled-bg-color: #DDD;\n",
              "  }\n",
              "\n",
              "  [theme=dark] .colab-df-quickchart {\n",
              "      --bg-color: #3B4455;\n",
              "      --fill-color: #D2E3FC;\n",
              "      --hover-bg-color: #434B5C;\n",
              "      --hover-fill-color: #FFFFFF;\n",
              "      --disabled-bg-color: #3B4455;\n",
              "      --disabled-fill-color: #666;\n",
              "  }\n",
              "\n",
              "  .colab-df-quickchart {\n",
              "    background-color: var(--bg-color);\n",
              "    border: none;\n",
              "    border-radius: 50%;\n",
              "    cursor: pointer;\n",
              "    display: none;\n",
              "    fill: var(--fill-color);\n",
              "    height: 32px;\n",
              "    padding: 0;\n",
              "    width: 32px;\n",
              "  }\n",
              "\n",
              "  .colab-df-quickchart:hover {\n",
              "    background-color: var(--hover-bg-color);\n",
              "    box-shadow: 0 1px 2px rgba(60, 64, 67, 0.3), 0 1px 3px 1px rgba(60, 64, 67, 0.15);\n",
              "    fill: var(--button-hover-fill-color);\n",
              "  }\n",
              "\n",
              "  .colab-df-quickchart-complete:disabled,\n",
              "  .colab-df-quickchart-complete:disabled:hover {\n",
              "    background-color: var(--disabled-bg-color);\n",
              "    fill: var(--disabled-fill-color);\n",
              "    box-shadow: none;\n",
              "  }\n",
              "\n",
              "  .colab-df-spinner {\n",
              "    border: 2px solid var(--fill-color);\n",
              "    border-color: transparent;\n",
              "    border-bottom-color: var(--fill-color);\n",
              "    animation:\n",
              "      spin 1s steps(1) infinite;\n",
              "  }\n",
              "\n",
              "  @keyframes spin {\n",
              "    0% {\n",
              "      border-color: transparent;\n",
              "      border-bottom-color: var(--fill-color);\n",
              "      border-left-color: var(--fill-color);\n",
              "    }\n",
              "    20% {\n",
              "      border-color: transparent;\n",
              "      border-left-color: var(--fill-color);\n",
              "      border-top-color: var(--fill-color);\n",
              "    }\n",
              "    30% {\n",
              "      border-color: transparent;\n",
              "      border-left-color: var(--fill-color);\n",
              "      border-top-color: var(--fill-color);\n",
              "      border-right-color: var(--fill-color);\n",
              "    }\n",
              "    40% {\n",
              "      border-color: transparent;\n",
              "      border-right-color: var(--fill-color);\n",
              "      border-top-color: var(--fill-color);\n",
              "    }\n",
              "    60% {\n",
              "      border-color: transparent;\n",
              "      border-right-color: var(--fill-color);\n",
              "    }\n",
              "    80% {\n",
              "      border-color: transparent;\n",
              "      border-right-color: var(--fill-color);\n",
              "      border-bottom-color: var(--fill-color);\n",
              "    }\n",
              "    90% {\n",
              "      border-color: transparent;\n",
              "      border-bottom-color: var(--fill-color);\n",
              "    }\n",
              "  }\n",
              "</style>\n",
              "\n",
              "      <script>\n",
              "        async function quickchart(key) {\n",
              "          const quickchartButtonEl =\n",
              "            document.querySelector('#' + key + ' button');\n",
              "          quickchartButtonEl.disabled = true;  // To prevent multiple clicks.\n",
              "          quickchartButtonEl.classList.add('colab-df-spinner');\n",
              "          try {\n",
              "            const charts = await google.colab.kernel.invokeFunction(\n",
              "                'suggestCharts', [key], {});\n",
              "          } catch (error) {\n",
              "            console.error('Error during call to suggestCharts:', error);\n",
              "          }\n",
              "          quickchartButtonEl.classList.remove('colab-df-spinner');\n",
              "          quickchartButtonEl.classList.add('colab-df-quickchart-complete');\n",
              "        }\n",
              "        (() => {\n",
              "          let quickchartButtonEl =\n",
              "            document.querySelector('#df-ef7dabdc-93a5-4631-bf47-b7ef156eaf5e button');\n",
              "          quickchartButtonEl.style.display =\n",
              "            google.colab.kernel.accessAllowed ? 'block' : 'none';\n",
              "        })();\n",
              "      </script>\n",
              "    </div>\n",
              "    </div>\n",
              "  </div>\n"
            ],
            "text/plain": [
              "    x_train   y_train\n",
              "0  0.138368  0.838812\n",
              "1  0.157237  0.889313\n",
              "2  0.188684  1.430040\n",
              "3  0.685553  1.717309\n",
              "4  0.874237  2.032588"
            ]
          },
          "execution_count": 2,
          "metadata": {},
          "output_type": "execute_result"
        }
      ],
      "source": [
        "import os\n",
        "\n",
        "import numpy as np\n",
        "import pandas as pd\n",
        "\n",
        "raw_data_file = os.path.join(root_data_dir, 'non_linear.csv')\n",
        "data = pd.read_csv(raw_data_file, sep=',')\n",
        "\n",
        "data.head()"
      ]
    },
    {
      "cell_type": "markdown",
      "metadata": {
        "id": "ix6jlO5AO0Xm"
      },
      "source": [
        "Визуализируем с помощью scatter"
      ]
    },
    {
      "cell_type": "code",
      "execution_count": 3,
      "metadata": {
        "colab": {
          "base_uri": "https://localhost:8080/",
          "height": 486
        },
        "id": "4j3Xu0ctO0k_",
        "outputId": "6a3b1434-e3f8-4e58-cac8-a6f9a315ab0a"
      },
      "outputs": [
        {
          "name": "stderr",
          "output_type": "stream",
          "text": [
            "/tmp/ipython-input-3390839111.py:4: MatplotlibDeprecationWarning: Passing the marker parameter of scatter() positionally is deprecated since Matplotlib 3.9; the parameter will become keyword-only in 3.11.\n",
            "  plt.scatter(data.x_train, data.y_train, 40, 'g', 'o', alpha=0.8)\n"
          ]
        },
        {
          "data": {
            "image/png": "[encoded data removed]",
            "text/plain": [
              "<Figure size 640x480 with 1 Axes>"
            ]
          },
          "metadata": {},
          "output_type": "display_data"
        }
      ],
      "source": [
        "import matplotlib.pyplot as plt\n",
        "%matplotlib inline\n",
        "# основной график\n",
        "plt.scatter(data.x_train, data.y_train, 40, 'g', 'o', alpha=0.8)\n",
        "plt.show()"
      ]
    },
    {
      "cell_type": "markdown",
      "metadata": {
        "id": "Y40lGnrYW4um"
      },
      "source": [
        "Цель - научиться определять переобучение.\n",
        "\n",
        "Тренироваться будем на полиномиальной регрессии. То есть регрессия-то будет линейная, но нужно будет сгенерить для каждого x признаки $x^2,\\cdots, x^n$ и добавить в матрицу объекты-признаки $X$ несколько столбцов - степени фичей (например, в случае обучения регрессии на единственной фиче модуль приобретёт вид $y = w_0 + w_1x +w_2x^2 + \\ldots + w_nx^n$).\n",
        "\n",
        "Мы получаем более сложную модель - графики можно посмотреть на [Вики](https://ru.wikipedia.org/wiki/%D0%A6%D0%B5%D0%BB%D0%B0%D1%8F_%D1%80%D0%B0%D1%86%D0%B8%D0%BE%D0%BD%D0%B0%D0%BB%D1%8C%D0%BD%D0%B0%D1%8F_%D1%84%D1%83%D0%BD%D0%BA%D1%86%D0%B8%D1%8F)\n",
        "\n",
        "То есть пространство функций у нас линейное, увеличивается количество только коэффициентов $w$\n",
        "\n",
        "$$\n",
        "\\forall x_i: h(x) =  \\sum_{j=1}^{n}w_jx_i^j\n",
        "$$\n",
        "\n",
        "Матрица, состоящая из степеней $x$ называется [матрицей Вандермондта](https://en.wikipedia.org/wiki/Vandermonde_matrix), реализация этой матрицы есть в `numpy`."
      ]
    },
    {
      "cell_type": "code",
      "execution_count": 4,
      "metadata": {
        "colab": {
          "base_uri": "https://localhost:8080/"
        },
        "id": "-DbMXxpuWzwU",
        "outputId": "f0b4e5f5-05af-47ad-84b0-b8a148838b58"
      },
      "outputs": [
        {
          "data": {
            "text/plain": [
              "array([[0.13836845, 0.01914583, 0.00264918, 0.00036656],\n",
              "       [0.15723687, 0.02472343, 0.00388744, 0.00061125],\n",
              "       [0.18868424, 0.03560174, 0.00671749, 0.00126748]])"
            ]
          },
          "execution_count": 4,
          "metadata": {},
          "output_type": "execute_result"
        }
      ],
      "source": [
        "def generate_powers(x, N):\n",
        "  return np.vander(x, N=N, increasing=True)[:,1:]\n",
        "\n",
        "generate_powers(data.head(3).x_train.values, N=5)"
      ]
    },
    {
      "cell_type": "code",
      "execution_count": 5,
      "metadata": {
        "colab": {
          "base_uri": "https://localhost:8080/"
        },
        "id": "W5cJzQL2Ffq6",
        "outputId": "6f964836-9231-46aa-8781-3bcade9a89ef"
      },
      "outputs": [
        {
          "data": {
            "text/plain": [
              "0.019145703424"
            ]
          },
          "execution_count": 5,
          "metadata": {},
          "output_type": "execute_result"
        }
      ],
      "source": [
        "0.138368**2"
      ]
    },
    {
      "cell_type": "markdown",
      "metadata": {
        "id": "lizN8pNW51Ln"
      },
      "source": [
        "Обучаем модель на валидации, проверяем на контроле для степени полинома `degree=8` (думаю, степень полинома можно назвать гиперпараметром). Для разбиения мы воспользуемся функцией [train_test_split](https://scikit-learn.org/stable/modules/generated/sklearn.model_selection.train_test_split.html):\n",
        "\n",
        "* $X$ и $y$ - массивы, которые хотим расщепить на валидацию и контроль\n",
        "* *test_size* принимает значения от нуля до единицы и означает долю объектов, которые нужно отложить на валидацию (обычно выбирают значения между $0.15$ и $0.35$)\n",
        "* *random_state* - любое целое число, если задано то разбиение не будет меняться в разных запусках программы (нужно для воспроизводимости). Мы используем константу `RANDOM_SEED`\n",
        "\n",
        "Обучать будем линейную регрессию из класса [sklearn.linear_model.Ridge](https://scikit-learn.org/stable/modules/generated/sklearn.linear_model.Ridge.html). Вообще-то Ridge оптимизирует немного другой функционал, не совсем как в линейной регрерсии:\n",
        "\n",
        "$$\n",
        "\\|Y - Xw\\|^2_2 + \\alpha \\cdot \\|w\\|^2_2\n",
        "$$\n",
        "\n",
        "Поэтому будем обучать при $\\alpha = 0$ чтобы получилась обычная линейная регрессия"
      ]
    },
    {
      "cell_type": "markdown",
      "metadata": {
        "id": "OUUmv55FScq9"
      },
      "source": [
        "Норма весов рассчитывается\n",
        "\n",
        "$$\n",
        "\\|w\\|^2_2 = w_0^2+w_1^2 + \\ldots+w_n^2\n",
        "$$\n",
        "\n",
        "Для вычисления такой нормы можно использовать [функцию norm из numpy](https://docs.scipy.org/doc/numpy-1.15.0/reference/generated/numpy.linalg.norm.html)"
      ]
    },
    {
      "cell_type": "code",
      "execution_count": 6,
      "metadata": {
        "colab": {
          "base_uri": "https://localhost:8080/"
        },
        "id": "irZ_ySg_Zbds",
        "outputId": "53b2db26-d11a-4895-ac43-c7e993c6762f"
      },
      "outputs": [
        {
          "name": "stdout",
          "output_type": "stream",
          "text": [
            "Качество на обучении: 0.072\n",
            "Качество на валидации: 0.040\n"
          ]
        }
      ],
      "source": [
        "from sklearn.metrics import mean_squared_error\n",
        "from sklearn.linear_model import Ridge, Lasso  # импортируем новые для на модели\n",
        "from sklearn.model_selection import train_test_split\n",
        "\n",
        "degree = 8\n",
        "\n",
        "# извлекаем признаки\n",
        "X = generate_powers(data.x_train.values, N=degree)\n",
        "y = data.y_train.values\n",
        "\n",
        "# разделяем на обучающую и валидационную выборку\n",
        "X_train, X_valid, y_train, y_valid = train_test_split(X, y, test_size=0.2, random_state=RANDOM_SEED)\n",
        "\n",
        "# обучаем модель\n",
        "model = Ridge(alpha=0).fit(X_train, y_train)\n",
        "\n",
        "# получаем предсказания\n",
        "y_pred = model.predict(X_valid)\n",
        "y_pred_train = model.predict(X_train)\n",
        "\n",
        "print(\"Качество на обучении: %.3f\" % mean_squared_error(y_train, y_pred_train))\n",
        "print(\"Качество на валидации: %.3f\" % mean_squared_error(y_valid, y_pred))"
      ]
    },
    {
      "cell_type": "code",
      "execution_count": 7,
      "metadata": {
        "colab": {
          "base_uri": "https://localhost:8080/"
        },
        "id": "RWDfRmFWJXDg",
        "outputId": "cd24f129-98e2-4501-f65e-9495ab0fefe0"
      },
      "outputs": [
        {
          "data": {
            "text/plain": [
              "(50, 7)"
            ]
          },
          "execution_count": 7,
          "metadata": {},
          "output_type": "execute_result"
        }
      ],
      "source": [
        "X.shape"
      ]
    },
    {
      "cell_type": "markdown",
      "metadata": {
        "id": "_d8oDTfKEoVv"
      },
      "source": [
        "Теперь обучим полиномиальную регрессию для степени `degree = 12` c параметром регуляризации `alpha=0`"
      ]
    },
    {
      "cell_type": "code",
      "execution_count": 8,
      "metadata": {
        "colab": {
          "base_uri": "https://localhost:8080/"
        },
        "id": "yUDVsg1pEmV6",
        "outputId": "b3284f67-b588-4892-f016-add35183a0bb"
      },
      "outputs": [
        {
          "name": "stdout",
          "output_type": "stream",
          "text": [
            "Качество на обучении: 0.064\n",
            "Качество на валидации: 0.050\n"
          ]
        },
        {
          "name": "stderr",
          "output_type": "stream",
          "text": [
            "/usr/local/lib/python3.12/dist-packages/scipy/_lib/_util.py:1233: LinAlgWarning: Ill-conditioned matrix (rcond=1.46336e-24): result may not be accurate.\n",
            "  return f(*arrays, *other_args, **kwargs)\n"
          ]
        }
      ],
      "source": [
        "degree = 12\n",
        "X = generate_powers(data.x_train.values, N=degree)\n",
        "y = data.y_train.values\n",
        "\n",
        "X_train, X_valid, y_train, y_valid = train_test_split(X, y, test_size=0.2, random_state=RANDOM_SEED)\n",
        "model = Ridge(alpha=0).fit(X_train, y_train)\n",
        "\n",
        "y_pred = model.predict(X_valid)\n",
        "y_pred_train = model.predict(X_train)\n",
        "\n",
        "print(\"Качество на обучении: %.3f\" % mean_squared_error(y_train, y_pred_train))\n",
        "print(\"Качество на валидации: %.3f\" % mean_squared_error(y_valid, y_pred))"
      ]
    },
    {
      "cell_type": "code",
      "execution_count": 9,
      "metadata": {
        "colab": {
          "base_uri": "https://localhost:8080/"
        },
        "id": "8y61IeplJodb",
        "outputId": "926614e9-1be3-409b-a0fe-9e4001e382e7"
      },
      "outputs": [
        {
          "data": {
            "text/plain": [
              "(50, 11)"
            ]
          },
          "execution_count": 9,
          "metadata": {},
          "output_type": "execute_result"
        }
      ],
      "source": [
        "X.shape"
      ]
    },
    {
      "cell_type": "markdown",
      "metadata": {
        "id": "_SHlYA78EmpI"
      },
      "source": [
        "Как изменилась ошибка на обучении? Было $0.072$, стало $0.064$, т.е. *ошибка на обучении падает*.\n",
        "\n",
        "Как изменилась ошибка на валидации? Было $0.04$, стало $0.05$, т.е. *ошибка на валидации растёт*.\n",
        "\n",
        "Это и есть признак переобучения (выспоминаем графики) - ошибка на валидации растёт, а на обучении падает, степень полинома $n=12$ хуже, чем степень полинома $n=8$, модель переобучилась."
      ]
    },
    {
      "cell_type": "markdown",
      "metadata": {
        "id": "gL8P97gULBR9"
      },
      "source": [
        "#### Самостоятельная работа\n",
        "\n",
        "У класса *Ridge* в конструкторе есть параметр регуляризации - обучите регрессию при $\\alpha=0.4$ для степени полинома 12\n",
        "\n",
        "Как изменилась ошибка на обучении? Как изменилась ошибка на валидации? Удалось ли победить переобучение?"
      ]
    },
    {
      "cell_type": "code",
      "execution_count": null,
      "metadata": {
        "id": "-MUMyal8D1Mk"
      },
      "outputs": [],
      "source": [
        "from sklearn.linear_model import Ridge\n",
        "from numpy.linalg import norm\n",
        "\n",
        "\n",
        "degree = 12\n",
        "alpha_control = 0.01\n",
        "alpha_test = 0.4\n",
        "\n",
        "model_ridge = Ridge(alpha=alpha_control)\n",
        "model_linear = Ridge(alpha=alpha_test)\n",
        "\n",
        "# задаём степень полинома\n",
        "degree = 10\n",
        "\n",
        "X = generate_powers(data['x_train'], degree)\n",
        "y = data['y_train']\n",
        "# обучаем линейную регрессию с  регуляризацией\n",
        "model_ridge.fit(X, y)\n",
        "model_linear.fit(X, y)\n",
        "\n",
        "x_linspace = np.linspace(data['x_train'].min(), data['x_train'].max(), num=100)\n",
        "\n",
        "y_linspace_linear = model_linear.predict(generate_powers(data['x_train'].values, degree))\n",
        "y_linspace_ridge = model_ridge.predict(generate_powers(data['x_train'].values, degree))\n",
        "\n",
        "plt.plot(x_linspace, y_linspace_linear)\n",
        "plt.plot(x_linspace, y_linspace_ridge)\n",
        "\n",
        "# -- ВАШ КОД ТУТ ---\n",
        "\n",
        "print(\"Норма вектора весов Ridge \\t||w|| = %.2f\" % (norm(model_ridge.coef_)))\n",
        "print(\"Норма вектора весов Linear \\t||w|| = %.2f\" % (norm(model_linear.coef_)))\n",
        "\n",
        "# ------------------\n",
        "\n",
        "\n",
        "plt.show()"
      ]
    },
    {
      "cell_type": "markdown",
      "metadata": {},
      "source": [
        "Готово, модели обучены! мы видим тревожное сообщение **LinAlgWarning: Ill-conditioned matrix (rcond=2.23568e-22): result may not be accurate.** - тут ничего страшного, побороть это сообщение нам поможет знакомство с методом градиентного спуска\n",
        "\n",
        "Мы видим, что регуляризованная модель более \"гладкая\", а вот у модели без регуляризации есть перегибы - она выглядит переобученной. Давайте проверим норму коэффициентов регрессии."
      ]
    },
    {
      "cell_type": "code",
      "execution_count": null,
      "metadata": {},
      "outputs": [],
      "source": [
        "print(\"Норма вектора весов Ridge \\t||w|| = %.2f\" % (norm(model_ridge.coef_)))\n",
        "print(\"Норма вектора весов Linear \\t||w|| = %.2f\" % (norm(model_linear.coef_)))"
      ]
    },
    {
      "cell_type": "markdown",
      "metadata": {},
      "source": [
        "Как видно, два разных (по норме) набора коэффициентов мы получили при двух разных значениях $\\alpha$. Как же выбрать правильное значение коэффициента регуляризации? На помощь приходит процедура, которая называется отложенный контроль, как делали в первом уроке.\n",
        "\n",
        "Реализуем эту процедуру на языке python. Для у нас есть готовая функция `sklearn.model_selection.train_test_split` :"
      ]
    },
    {
      "cell_type": "code",
      "execution_count": null,
      "metadata": {},
      "outputs": [],
      "source": [
        "from sklearn.model_selection import train_test_split\n",
        "\n",
        "X_train, X_test, y_train, y_test = train_test_split(\n",
        "    X, y, test_size=0.2, random_state=42\n",
        ")\n",
        "\n",
        "print(X_train.shape, X_test.shape)"
      ]
    },
    {
      "cell_type": "markdown",
      "metadata": {},
      "source": [
        "Из 50 точек 40 попало в *train set* и 10 в *validation set* - давайте реализуем остальные шаги алгоритма"
      ]
    },
    {
      "cell_type": "code",
      "execution_count": null,
      "metadata": {},
      "outputs": [],
      "source": [
        "alphas = [0.1, 0.15, 0.35, 0.5, 0.8]\n",
        "\n",
        "best_alpha = alphas[0]\n",
        "best_rmse = np.infty\n",
        "\n",
        "for alpha in alphas:\n",
        "    model_ridge = Ridge(alpha=alpha)\n",
        "    # обучаем линейную регрессию с  регуляризацией\n",
        "    model_ridge.fit(X_train, y_train)\n",
        "    y_pred = model_ridge.predict(X_test)\n",
        "    error = mean_squared_error(y_test, y_pred)\n",
        "    if error < best_rmse:\n",
        "        best_rmse = error\n",
        "        best_alpha = alpha\n",
        "    print(\"alpha =%.2f Ошибка %.5f\" % (alpha, error))\n",
        "print('\\n-------\\nЛучшая модель aplpha=%.2f с ошибкой RMSE=%.5f\\n-------' % (best_alpha, best_rmse))"
      ]
    },
    {
      "cell_type": "markdown",
      "metadata": {
        "id": "EfJ6ukUIM1cM"
      },
      "source": [
        "Переобучение - это плохо. Мы начинаем слишком сильно подгоняться под обучающую выборку и плохо \"готовы\" к новым данным. Детектировать можно с помощью валидационной выборки. Победить переобучение можно с помощью регуляризации в библиотечном классе Ridge"
      ]
    },
    {
      "cell_type": "markdown",
      "metadata": {
        "id": "ty4wXHpfNWZ5"
      },
      "source": [
        "### Самостоятельная работа: Lasso vs Ridge\n",
        "\n",
        "В стандартной библиотеке есть ещё интересный класс [sklearn.linear_model.Lasso](https://scikit-learn.org/stable/modules/generated/sklearn.linear_model.Lasso.html#sklearn.linear_model.Lasso)\n",
        "\n",
        "$$\n",
        "\\|Y - Xw\\|^2_2 + \\alpha \\cdot \\|w\\|_1\n",
        "$$\n",
        "\n",
        "Норма весов рассчитывается по формуле\n",
        "\n",
        "$$\n",
        "\\|w\\|_1 = |w_0|+|w_1| + \\ldots+|w_n|\n",
        "$$\n",
        "\n",
        "Для вычисления этой метрики используем [функцию norm из numpy](https://docs.scipy.org/doc/numpy-1.15.0/reference/generated/numpy.linalg.norm.html)\n",
        "\n",
        "На данных из файла `data/non_linear.csv`\n",
        "* сгенерируйте данные для степени `degree = 8`\n",
        "* обучите модель `sklearn.linear_model.Lasso` и модель `sklearn.linear_model.Ridge` на полученных данных\n",
        "* используйте коэффициент регуляризации $\\alpha=0.8$ для обеих моделей\n",
        "* постройте два столбчатых графика, на которых отобразите величину коэффициентов в для Ridge регрессии и Lasso регрессии виде столбиков"
      ]
    },
    {
      "cell_type": "code",
      "execution_count": 11,
      "metadata": {
        "id": "iSPj9bRwFc9i"
      },
      "outputs": [],
      "source": [
        "# -- ВАШ КОД ТУТ ---\n",
        "\n",
        "\n",
        "\n",
        "# -------------------"
      ]
    },
    {
      "cell_type": "markdown",
      "metadata": {
        "id": "mUrx5OA9expp"
      },
      "source": [
        "Мы использовали реализацию Ridge регрессию из библиотеки sklearn. Для того, чтобы  прокачать навыки программирования и освежить в памяти, как перемножать матрицы в numpy, напишите код для вычисления коэффициентов полиномиальной регрессии (для степени *degree=8*) с регуляризацией по формуле\n",
        "$$\n",
        "\\overline{w} = \\left(X^TX + \\lambda E\\right)^{-1}X^T\\overline{y}\n",
        "$$\n",
        "\n",
        "Сравните расхождение `model.intercept_ + model.coef_` с вашими коэффициентами\n",
        "\n",
        "Не забудьте добавить столбец из единиц к маатрице фичей!"
      ]
    },
    {
      "cell_type": "code",
      "execution_count": 12,
      "metadata": {
        "id": "WajhP9XZex3b"
      },
      "outputs": [],
      "source": [
        "# -- ВАШ КОД ТУТ ---\n",
        "\n",
        "\n",
        "\n",
        "# -------------------"
      ]
    },
    {
      "cell_type": "markdown",
      "metadata": {
        "id": "Hk02JgZBN5to"
      },
      "source": [
        "# Переобучение на валидационной выборке\n",
        "\n",
        "Посмотрим в динамике"
      ]
    },
    {
      "cell_type": "code",
      "execution_count": 15,
      "metadata": {
        "colab": {
          "base_uri": "https://localhost:8080/",
          "height": 1000
        },
        "id": "8hvWYMBtUdWk",
        "outputId": "106826f5-ce2b-4254-e8e3-300913e4560e"
      },
      "outputs": [
        {
          "name": "stdout",
          "output_type": "stream",
          "text": [
            "N=%d\t valid err %.3f\t train err %.3f\t||w|| = %.2f 3 0.24497135044487534 0.3137569726759203 0.46569133707581395\n"
          ]
        },
        {
          "name": "stderr",
          "output_type": "stream",
          "text": [
            "/tmp/ipython-input-1040147691.py:38: MatplotlibDeprecationWarning: Passing the marker parameter of scatter() positionally is deprecated since Matplotlib 3.9; the parameter will become keyword-only in 3.11.\n",
            "  plt.scatter(X_valid[:,0][order_test], y_valid[order_test], 40, 'r', 'o', alpha=0.8)\n"
          ]
        },
        {
          "data": {
            "image/png": "[encoded data removed]",
            "text/plain": [
              "<Figure size 640x480 with 1 Axes>"
            ]
          },
          "metadata": {},
          "output_type": "display_data"
        },
        {
          "name": "stdout",
          "output_type": "stream",
          "text": [
            "N=%d\t valid err %.3f\t train err %.3f\t||w|| = %.2f 5 0.0628228730154251 0.06939048405548882 3.2338604393299772\n"
          ]
        },
        {
          "name": "stderr",
          "output_type": "stream",
          "text": [
            "/tmp/ipython-input-1040147691.py:38: MatplotlibDeprecationWarning: Passing the marker parameter of scatter() positionally is deprecated since Matplotlib 3.9; the parameter will become keyword-only in 3.11.\n",
            "  plt.scatter(X_valid[:,0][order_test], y_valid[order_test], 40, 'r', 'o', alpha=0.8)\n"
          ]
        },
        {
          "data": {
            "image/png": "[encoded data removed]",
            "text/plain": [
              "<Figure size 640x480 with 1 Axes>"
            ]
          },
          "metadata": {},
          "output_type": "display_data"
        },
        {
          "name": "stdout",
          "output_type": "stream",
          "text": [
            "N=%d\t valid err %.3f\t train err %.3f\t||w|| = %.2f 7 0.06673475022764103 0.06575195366001794 3.5374366557475114\n"
          ]
        },
        {
          "name": "stderr",
          "output_type": "stream",
          "text": [
            "/tmp/ipython-input-1040147691.py:38: MatplotlibDeprecationWarning: Passing the marker parameter of scatter() positionally is deprecated since Matplotlib 3.9; the parameter will become keyword-only in 3.11.\n",
            "  plt.scatter(X_valid[:,0][order_test], y_valid[order_test], 40, 'r', 'o', alpha=0.8)\n"
          ]
        },
        {
          "data": {
            "image/png": "[encoded data removed]",
            "text/plain": [
              "<Figure size 640x480 with 1 Axes>"
            ]
          },
          "metadata": {},
          "output_type": "display_data"
        },
        {
          "name": "stdout",
          "output_type": "stream",
          "text": [
            "N=%d\t valid err %.3f\t train err %.3f\t||w|| = %.2f 10 0.12328619090606993 0.051974988254216606 93.44022629349571\n"
          ]
        },
        {
          "name": "stderr",
          "output_type": "stream",
          "text": [
            "/tmp/ipython-input-1040147691.py:38: MatplotlibDeprecationWarning: Passing the marker parameter of scatter() positionally is deprecated since Matplotlib 3.9; the parameter will become keyword-only in 3.11.\n",
            "  plt.scatter(X_valid[:,0][order_test], y_valid[order_test], 40, 'r', 'o', alpha=0.8)\n"
          ]
        },
        {
          "data": {
            "image/png": "[encoded data removed]",
            "text/plain": [
              "<Figure size 640x480 with 1 Axes>"
            ]
          },
          "metadata": {},
          "output_type": "display_data"
        }
      ],
      "source": [
        "from sklearn.linear_model import LinearRegression\n",
        "from numpy.linalg import norm\n",
        "from sklearn.metrics import mean_squared_error\n",
        "from sklearn.model_selection import train_test_split\n",
        "\n",
        "def fit_regression(x_train, x_valid, y_train, y_valid):\n",
        "    model = LinearRegression().fit(x_train, y_train)\n",
        "    # ошибки на обучении и валидации\n",
        "    y_pred = model.predict(x_valid)\n",
        "    y_pred_train = model.predict(x_train)\n",
        "    # для графиков\n",
        "    error_valid = mean_squared_error(y_valid, y_pred)\n",
        "    error_train = mean_squared_error(y_train, y_pred_train)\n",
        "    w_norm = norm(model.coef_)\n",
        "\n",
        "    return error_valid, error_train, w_norm, model\n",
        "\n",
        "def train_polynomial(input_degrees, data):\n",
        "    \"\"\"Генерим данные, тренируем модель\n",
        "    дополнительно рисуем график\n",
        "    \"\"\"\n",
        "    x_linspace = np.linspace(data['x_train'].min(), data['x_train'].max(), num=100)\n",
        "    y = data.y_train.values\n",
        "\n",
        "    degrees, valid_errors, train_errors, w_norm = [], [], [], []\n",
        "    for degree in input_degrees:\n",
        "        # генерим фичи\n",
        "        X = generate_powers(data.x_train.values, N=degree)\n",
        "        # обучение и контроль зависят от степени полинома, т.к. меняется размерность\n",
        "        X_train, X_valid, y_train, y_valid = train_test_split(X, y, test_size=0.2, random_state=10)\n",
        "        order_test = np.argsort(X_valid[:,0])\n",
        "        # ошибка на тренировочном сете\n",
        "        error_valid, error_train, coef_norm, model = fit_regression(X_train, X_valid, y_train, y_valid)\n",
        "        print(\n",
        "            \"N=%d\\t valid err %.3f\\t train err %.3f\\t||w|| = %.2f\",\n",
        "            degree, error_valid, error_train, norm(model.coef_)\n",
        "        )\n",
        "        plt.scatter(X_valid[:,0][order_test], y_valid[order_test], 40, 'r', 'o', alpha=0.8)\n",
        "        # визуализируем решение\n",
        "        y_linspace = model.predict(generate_powers(x_linspace, N=degree))\n",
        "        plt.plot(x_linspace, y_linspace)\n",
        "        plt.show()\n",
        "        valid_errors.append(error_valid); train_errors.append(error_train); w_norm.append(coef_norm)\n",
        "    return valid_errors, train_errors, w_norm\n",
        "\n",
        "DEGREES = (3, 5, 7, 10)\n",
        "valid_errors, train_errors, w_norm = train_polynomial(\n",
        "    input_degrees=DEGREES, data=data\n",
        ")"
      ]
    },
    {
      "cell_type": "markdown",
      "metadata": {
        "id": "tpts_ZKXOXlz"
      },
      "source": [
        "В этом абстрактном эксперименте: видны следующие закономерности\n",
        "\n",
        "* степень полинома растёт $\\rightarrow$ ошибка на тренировочных данных падает\n",
        "* степень полинома растёт $\\rightarrow$ ошибка на валидации растёт\n",
        "* степень полинома растёт $\\rightarrow$ сумма квадратов коэффициентов регрессии растёт\n",
        "\n",
        "Т.е. можно детектировать переобучение, если проверять такую прокси-метрику как \"норма весов регрессии\"\n",
        "* по оси $oX$ - степень полинома\n",
        "* по оси $oY$ - ошибка на валидации и ошибка на обучении"
      ]
    },
    {
      "cell_type": "code",
      "execution_count": 16,
      "metadata": {
        "colab": {
          "base_uri": "https://localhost:8080/",
          "height": 430
        },
        "id": "teB-1qn9VFOj",
        "outputId": "6bab128e-bafc-4061-aa1f-25253e450aaf"
      },
      "outputs": [
        {
          "data": {
            "image/png": "[encoded data removed]",
            "text/plain": [
              "<Figure size 640x480 with 1 Axes>"
            ]
          },
          "metadata": {},
          "output_type": "display_data"
        }
      ],
      "source": [
        "from matplotlib import pyplot\n",
        "%matplotlib inline\n",
        "\n",
        "fig, ax = plt.subplots()\n",
        "ax.plot(DEGREES, valid_errors, 'k--', label='Validation error')\n",
        "ax.plot(DEGREES, train_errors, 'k:', label='Train error')\n",
        "\n",
        "legend = ax.legend(loc='upper center', shadow=True, fontsize='x-large')\n",
        "\n",
        "\n",
        "plt.show()"
      ]
    },
    {
      "cell_type": "code",
      "execution_count": 17,
      "metadata": {
        "colab": {
          "base_uri": "https://localhost:8080/",
          "height": 430
        },
        "id": "t_Vaez22Gp6Z",
        "outputId": "3912df23-9694-47d6-9bc7-d01048bf4718"
      },
      "outputs": [
        {
          "data": {
            "image/png": "[encoded data removed]",
            "text/plain": [
              "<Figure size 640x480 with 1 Axes>"
            ]
          },
          "metadata": {},
          "output_type": "display_data"
        }
      ],
      "source": [
        "plt.scatter(DEGREES, w_norm)\n",
        "plt.show()"
      ]
    },
    {
      "cell_type": "markdown",
      "metadata": {
        "id": "lKsC3DTIiNSC"
      },
      "source": [
        "Самостоятельное задание: подберите наилучший alpha с помощью [cross_val_score](https://scikit-learn.org/stable/modules/cross_validation.html#computing-cross-validated-metrics)"
      ]
    },
    {
      "cell_type": "code",
      "execution_count": 18,
      "metadata": {
        "id": "TvREmBqZiYcU"
      },
      "outputs": [],
      "source": [
        "# -- ВАШ КОД ТУТ ---\n",
        "\n",
        "\n",
        "\n",
        "# ------------------"
      ]
    },
    {
      "cell_type": "markdown",
      "metadata": {},
      "source": [
        "На графике можно заметить, как с ростом степень полинома ошибка на валидации начинает расти, а на обучении - наоборот, падать. Одновременно с ухудшением качества модели на валидации можно заметить, как растёт норма вектора коэффициентов $w$ -  от значения $2.19$ до значения $120.14$, то есть большие по модулю величины коэффициентов свидетельствуют о том, что модель переобучается."
      ]
    },
    {
      "cell_type": "markdown",
      "metadata": {},
      "source": [
        "При каком значении степени полинома модель будет получается сбалансированной и не \"оверфиттится\"? Эта точка - там, где две линии ошибок пересекаются, она соответствует степени полинома *degree=5*: модель достаточно хороша на обучении и не слишком плоха на валидации."
      ]
    },
    {
      "cell_type": "markdown",
      "metadata": {},
      "source": [
        "Что такое регуляризация и как она спасает от переобучения? мы получаем предсказания модели, используя коэффициенты регрессии, в виде\n",
        "\n",
        "$$\n",
        "\\hat{y} = w_0x_0 + \\ldots w_nx_n\n",
        "$$\n",
        "\n",
        "То есть величина коэффициентов $w$ по модулю сильно влияет на предсказания - чем больше коэффициенты линейной регрессии $w=[w_1,\\ldots,w_n]$, тем больше таргет $y$ при одинаковом значении $x$, зависимость линейная.\n",
        "\n",
        "Вспомним, что аналитическая формула для нахождения коэффициентов регрессии выглядит вот так\n",
        "$$\n",
        "\\overline{w} = \\left(X^TX\\right)^{-1}X^TY\n",
        "$$\n",
        "\n",
        "Такое решение получается, когда мы минимизируем функцию ошибок $L$, где $N$ - число обучающих примеров:\n",
        "\n",
        "$$\n",
        "L(y,w) = \\sum_{i=1}^{N}\\left(y_i - \\hat{y_i}\\right)^2\n",
        "$$\n",
        "\n",
        "В эксперименте с полиномиальной регрессией мы выяснили простое правило - чем больше квадраты коэффициентов регрессии, тем хуже качество. Как же нам заставить модель делать коэффициенты поменьше, чтобы качество не страдало?"
      ]
    },
    {
      "cell_type": "markdown",
      "metadata": {},
      "source": [
        "Самое простое решение, которое приходит на ум - каким-то образом \"наказывать\" нашу модель за слишком большие значения коэффициентов линейной регрессии $w$. Давайте добавим в функцию качества модели $L(y, w)$ дополнительное слагаемое, которое содержит квадрат нормы вектора весов $\\|w\\|^2$:\n",
        "\n",
        "$$\n",
        "L(y,w) = \\sum_{i=1}^{N}\\left(y_i - \\hat{y_i}\\right)^2 + \\alpha \\cdot \\sum_{i=1}^{k}w_i^2 = \\sum_{i=1}^{N}\\left(y_i - \\hat{y_i}\\right)^2 + \\alpha \\cdot \\|w\\|^2\n",
        "$$\n",
        "\n",
        "С помощью этого трюка мы минимизируем функцию $L(x,w)$ как бы в двух направлениях:\n",
        "* уменьшаем ошибку $y-\\hat{y}$ (первый компонент формулы)\n",
        "* следим за нормой коэффициентов регрессии $\\|w\\|^2$ - модель вынуждена делать коэффициенты как можно меньшими, потому что их размер влияет на функцию ошибки $L(x,w)$\n",
        "\n",
        "Эксперимент показал: чем больше $\\|w\\|^2$, тем сильнее переобучение. **Следовательно, сделав коэффициенты более маленькими, мы уменьшим переобучение**."
      ]
    },
    {
      "cell_type": "markdown",
      "metadata": {},
      "source": [
        "Такой процесс добавления слагаемых в целевую функцию называется *регуляризацией*. Регуляризация - это наложение дополнительных ограничений на целевую функцию $L(y, w)$. Добавляя в функцию качества $L$ сумму квадратов коэффициентов регрессии мы \"принуждаем\" нашу модель к тому, чтобы веса $w=[w_1,\\ldots,w_k]$ были как можно более меньшими по модулю. Вернёмся к формуле целевой функции регуляризованной линейной регрессии:\n",
        "$$\n",
        "L(y,w) = \\sum_{i=1}^{N}\\left(y_i - \\hat{y_i}\\right)^2 + \\alpha \\cdot \\|w\\|^2\n",
        "$$\n",
        "\n",
        "В этой формуле\n",
        "* $\\alpha$ - параметр регуляризации. Он принимает значения от $0$ до $1$: чем ближе к $1$ - тем сильнее регуляризация, тем сильнее уменьшаются веса линейной регрессии\n",
        "* квадрат нормы кооэффициентов динейной регрессии: $\\|w\\|^2 = \\sum_{i=1}^{k}w_i^2$"
      ]
    },
    {
      "cell_type": "markdown",
      "metadata": {},
      "source": [
        "Аналитическое решение новой функции ошибки имеет вид\n",
        "$$\n",
        "\\overline{w} = \\left(X^TX + \\alpha E\\right)^{-1}X^TY\n",
        "$$\n",
        "\n",
        "Обратите внимание, что формула максимально похожа на формулу для вычисления аналитических коэффициентов, с которой мы познакомились в занятии \"Линейная регрессия. Часть I\":\n",
        "Вспомним, что аналитическая формула для нахождения коэффициентов регрессии выглядит вот так\n",
        "$$\n",
        "\\overline{w} = \\left(X^TX\\right)^{-1}X^TY\n",
        "$$\n",
        "Единственное отличие - внутри скобок добавилось слагаемое $\\alpha E$, где E - [единичная матрица](https://ru.wikipedia.org/wiki/Единичная_матрица) размерности $k\\times k$ (по количеству коэффициентов линейной регрессии) - единицы стоят только на диагонали.\n",
        "$$\n",
        "E =\n",
        "\\left[\n",
        "\\begin{array}{ccccc}\n",
        "1 & 0 & \\ldots & 0 & 0 \\\\\n",
        "0 & 1 & \\ldots & 0 & 0 \\\\\n",
        "\\ldots& \\ldots& \\ldots& \\ldots& \\ldots \\\\\n",
        "0 & 0 & \\ldots & 1 & 0 \\\\\n",
        "0 & 0 & \\ldots & 0 & 1 \\\\\n",
        "\\end{array}\n",
        "\\right]\n",
        "$$"
      ]
    },
    {
      "cell_type": "markdown",
      "metadata": {},
      "source": []
    },
    {
      "cell_type": "code",
      "execution_count": 18,
      "metadata": {
        "id": "SWEm9HzXibsT"
      },
      "outputs": [],
      "source": []
    }
  ],
  "metadata": {
    "colab": {
      "provenance": []
    },
    "kernelspec": {
      "display_name": "Python 3",
      "name": "python3"
    },
    "language_info": {
      "name": "python"
    }
  },
  "nbformat": 4,
  "nbformat_minor": 0
}
