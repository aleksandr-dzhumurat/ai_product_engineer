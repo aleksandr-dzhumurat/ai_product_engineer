{
 "cells": [
  {
   "cell_type": "markdown",
   "id": "95beb48d-bb98-4645-8b48-fce871b5d8e6",
   "metadata": {},
   "source": [
    "# Recommendation system\n",
    "\n",
    "download dataset [Health_and_Personal_Care.jsonl.gz](https://drive.google.com/file/d/12N52kB4D1iqgzSuoWEfNSY3KqVRp10wL/view?usp=drive_link)\n",
    "\n",
    "put in to `data` dir"
   ]
  },
  {
   "cell_type": "code",
   "execution_count": 1,
   "id": "a0e30fb8-9a17-4060-9dea-11d9975f28d5",
   "metadata": {},
   "outputs": [
    {
     "name": "stdout",
     "output_type": "stream",
     "text": [
      "/Users/username/PycharmProjects/ml_for_products/data\n",
      "['model_dockerized.cb', 'zinc_data', 'model.cb', 'Health_and_Personal_Care.jsonl.gz', 'mlflow', 'minio', 'bidmachine_task_data', 'bidmachine_logs.zip', 'downloaded_model.cb', 'item_cards.gzip', 'meta_Health_and_Personal_Care.jsonl.gz']\n"
     ]
    }
   ],
   "source": [
    "%load_ext autoreload\n",
    "%autoreload 2\n",
    "\n",
    "import os\n",
    "\n",
    "print(os.environ['DATA_DIR'])\n",
    "\n",
    "root_data_dir = os.environ['DATA_DIR']\n",
    "print(os.listdir(root_data_dir))"
   ]
  },
  {
   "cell_type": "code",
   "execution_count": 2,
   "id": "b68fb69a-4230-40c4-a974-ff565278edd7",
   "metadata": {},
   "outputs": [
    {
     "name": "stdout",
     "output_type": "stream",
     "text": [
      ".env loaded:  True\n",
      "Dataset num items: 1000 from /Users/username/PycharmProjects/ml_for_products/data/Health_and_Personal_Care.jsonl.gz\n",
      "1000\n"
     ]
    }
   ],
   "source": [
    "from utils import read_raw_data\n",
    "\n",
    "file_name = 'Health_and_Personal_Care.jsonl.gz'\n",
    "data_path = os.path.join(root_data_dir, file_name)\n",
    "\n",
    "json_data = read_raw_data(data_path, limit=1000)\n",
    "print(len(json_data))"
   ]
  },
  {
   "cell_type": "code",
   "execution_count": 3,
   "id": "89e4b0f7-400d-461b-892e-b73830eb5b2c",
   "metadata": {},
   "outputs": [
    {
     "data": {
      "text/plain": [
       "{'rating': 4.0,\n",
       " 'title': '12 mg is 12 on the periodic table people! Mg for magnesium',\n",
       " 'text': 'This review is more to clarify someone else’s review bc they didn’t understand understand the labeling!  It shows 1000mg as advertised & another little label says 12mg bc 12 is on the periodic table for magnesium!  I realize not everyone takes chemistry, but 4 ppl liked his review & so misinformation is spreading.  This works. If however you are on opiate level medications that are causing constipation you should talk to your pain dr or your gastrointestinal dr & ask for a medication called Linzess which works must better & must faster, but is unnecessary for most people.  If magnesium is working for you just make sure to take it with food & drink 6-8 glasses of water per day.  Staying hydrated will really help.  Before switching to Linzess I used to take one 1,000 mg pill am & pm every day with meals & always with an 8 ounce glass of water or other liquid.',\n",
       " 'images': [],\n",
       " 'asin': 'B07TDSJZMR',\n",
       " 'parent_asin': 'B07TDSJZMR',\n",
       " 'user_id': 'AFKZENTNBQ7A7V7UXW5JJI6UGRYQ',\n",
       " 'timestamp': 1580950175902,\n",
       " 'helpful_vote': 3,\n",
       " 'verified_purchase': True}"
      ]
     },
     "execution_count": 3,
     "metadata": {},
     "output_type": "execute_result"
    }
   ],
   "source": [
    "json_data[0]"
   ]
  },
  {
   "cell_type": "code",
   "execution_count": 4,
   "id": "f055bce9-d19b-4c0f-9e0d-522ef37fe4fd",
   "metadata": {},
   "outputs": [
    {
     "data": {
      "text/html": [
       "<div>\n",
       "<style scoped>\n",
       "    .dataframe tbody tr th:only-of-type {\n",
       "        vertical-align: middle;\n",
       "    }\n",
       "\n",
       "    .dataframe tbody tr th {\n",
       "        vertical-align: top;\n",
       "    }\n",
       "\n",
       "    .dataframe thead th {\n",
       "        text-align: right;\n",
       "    }\n",
       "</style>\n",
       "<table border=\"1\" class=\"dataframe\">\n",
       "  <thead>\n",
       "    <tr style=\"text-align: right;\">\n",
       "      <th></th>\n",
       "      <th>category</th>\n",
       "      <th>CustomerID</th>\n",
       "      <th>ProductID</th>\n",
       "      <th>target</th>\n",
       "    </tr>\n",
       "  </thead>\n",
       "  <tbody>\n",
       "    <tr>\n",
       "      <th>0</th>\n",
       "      <td>health</td>\n",
       "      <td>AFKZENTNBQ7A7V7UXW5JJI6UGRYQ</td>\n",
       "      <td>B07TDSJZMR</td>\n",
       "      <td>4.0</td>\n",
       "    </tr>\n",
       "    <tr>\n",
       "      <th>1</th>\n",
       "      <td>health</td>\n",
       "      <td>AEVWAM3YWN5URJVJIZZ6XPD2MKIA</td>\n",
       "      <td>B08637FWWF</td>\n",
       "      <td>5.0</td>\n",
       "    </tr>\n",
       "    <tr>\n",
       "      <th>2</th>\n",
       "      <td>health</td>\n",
       "      <td>AHSPLDNW5OOUK2PLH7GXLACFBZNQ</td>\n",
       "      <td>B07KJVGNN5</td>\n",
       "      <td>5.0</td>\n",
       "    </tr>\n",
       "    <tr>\n",
       "      <th>3</th>\n",
       "      <td>health</td>\n",
       "      <td>AEZGPLOYTSAPR3DHZKKXEFPAXUAA</td>\n",
       "      <td>B092RP73CX</td>\n",
       "      <td>4.0</td>\n",
       "    </tr>\n",
       "    <tr>\n",
       "      <th>4</th>\n",
       "      <td>health</td>\n",
       "      <td>AEQAYV7RXZEBXMQIQPL6KCT2CFWQ</td>\n",
       "      <td>B08KYJLF5T</td>\n",
       "      <td>1.0</td>\n",
       "    </tr>\n",
       "  </tbody>\n",
       "</table>\n",
       "</div>"
      ],
      "text/plain": [
       "  category                    CustomerID   ProductID  target\n",
       "0   health  AFKZENTNBQ7A7V7UXW5JJI6UGRYQ  B07TDSJZMR     4.0\n",
       "1   health  AEVWAM3YWN5URJVJIZZ6XPD2MKIA  B08637FWWF     5.0\n",
       "2   health  AHSPLDNW5OOUK2PLH7GXLACFBZNQ  B07KJVGNN5     5.0\n",
       "3   health  AEZGPLOYTSAPR3DHZKKXEFPAXUAA  B092RP73CX     4.0\n",
       "4   health  AEQAYV7RXZEBXMQIQPL6KCT2CFWQ  B08KYJLF5T     1.0"
      ]
     },
     "execution_count": 4,
     "metadata": {},
     "output_type": "execute_result"
    }
   ],
   "source": [
    "import pandas as pd\n",
    "\n",
    "user_item_data_df = pd.DataFrame([('health', i['user_id'], i['parent_asin'], i['rating']) for i in json_data], columns=['category', 'CustomerID', 'ProductID', 'target'])\n",
    "\n",
    "user_item_data_df.head()"
   ]
  },
  {
   "cell_type": "markdown",
   "id": "cffb6f0e-30d2-4fd6-b61b-2b48de7756be",
   "metadata": {},
   "source": [
    "Recommender baseline"
   ]
  },
  {
   "cell_type": "code",
   "execution_count": 5,
   "id": "cb820fa8-9e23-4a8f-8bee-9d4e7b79642b",
   "metadata": {},
   "outputs": [
    {
     "data": {
      "text/html": [
       "<div>\n",
       "<style scoped>\n",
       "    .dataframe tbody tr th:only-of-type {\n",
       "        vertical-align: middle;\n",
       "    }\n",
       "\n",
       "    .dataframe tbody tr th {\n",
       "        vertical-align: top;\n",
       "    }\n",
       "\n",
       "    .dataframe thead th {\n",
       "        text-align: right;\n",
       "    }\n",
       "</style>\n",
       "<table border=\"1\" class=\"dataframe\">\n",
       "  <thead>\n",
       "    <tr style=\"text-align: right;\">\n",
       "      <th></th>\n",
       "      <th>num_entries</th>\n",
       "    </tr>\n",
       "    <tr>\n",
       "      <th>ProductID</th>\n",
       "      <th></th>\n",
       "    </tr>\n",
       "  </thead>\n",
       "  <tbody>\n",
       "    <tr>\n",
       "      <th>B07XVVVB8W</th>\n",
       "      <td>22</td>\n",
       "    </tr>\n",
       "    <tr>\n",
       "      <th>B08X9LB1WC</th>\n",
       "      <td>7</td>\n",
       "    </tr>\n",
       "    <tr>\n",
       "      <th>B0BSRPX53Z</th>\n",
       "      <td>7</td>\n",
       "    </tr>\n",
       "    <tr>\n",
       "      <th>B0B4328BFW</th>\n",
       "      <td>5</td>\n",
       "    </tr>\n",
       "    <tr>\n",
       "      <th>B08KBQNDJC</th>\n",
       "      <td>4</td>\n",
       "    </tr>\n",
       "  </tbody>\n",
       "</table>\n",
       "</div>"
      ],
      "text/plain": [
       "            num_entries\n",
       "ProductID              \n",
       "B07XVVVB8W           22\n",
       "B08X9LB1WC            7\n",
       "B0BSRPX53Z            7\n",
       "B0B4328BFW            5\n",
       "B08KBQNDJC            4"
      ]
     },
     "execution_count": 5,
     "metadata": {},
     "output_type": "execute_result"
    }
   ],
   "source": [
    "popularity_df = (\n",
    "    user_item_data_df\n",
    "    .groupby('ProductID')\n",
    "    .agg(num_entries=('CustomerID', 'count'))\n",
    "    .sort_values(by='num_entries', ascending=False)\n",
    ")\n",
    "\n",
    "popularity_df.head()"
   ]
  },
  {
   "cell_type": "code",
   "execution_count": 6,
   "id": "16703b67-1833-4cb2-84eb-65594b7af969",
   "metadata": {},
   "outputs": [
    {
     "name": "stdout",
     "output_type": "stream",
     "text": [
      "Transformation started...\n",
      "Negative candidates: 380264, Positive samples: 1000\n",
      "Num negatives 0.6702412868632708\n"
     ]
    },
    {
     "data": {
      "text/html": [
       "<div>\n",
       "<style scoped>\n",
       "    .dataframe tbody tr th:only-of-type {\n",
       "        vertical-align: middle;\n",
       "    }\n",
       "\n",
       "    .dataframe tbody tr th {\n",
       "        vertical-align: top;\n",
       "    }\n",
       "\n",
       "    .dataframe thead th {\n",
       "        text-align: right;\n",
       "    }\n",
       "</style>\n",
       "<table border=\"1\" class=\"dataframe\">\n",
       "  <thead>\n",
       "    <tr style=\"text-align: right;\">\n",
       "      <th></th>\n",
       "      <th>category</th>\n",
       "      <th>CustomerID</th>\n",
       "      <th>ProductID</th>\n",
       "      <th>target</th>\n",
       "    </tr>\n",
       "  </thead>\n",
       "  <tbody>\n",
       "    <tr>\n",
       "      <th>0</th>\n",
       "      <td>health</td>\n",
       "      <td>AE25NQAZI3725GZIL5FS52ZIKWKQ</td>\n",
       "      <td>B007QESMDK</td>\n",
       "      <td>1</td>\n",
       "    </tr>\n",
       "    <tr>\n",
       "      <th>1</th>\n",
       "      <td>health</td>\n",
       "      <td>AE25NQAZI3725GZIL5FS52ZIKWKQ</td>\n",
       "      <td>B08F2D5BYT</td>\n",
       "      <td>0</td>\n",
       "    </tr>\n",
       "    <tr>\n",
       "      <th>2</th>\n",
       "      <td>health</td>\n",
       "      <td>AE25NQAZI3725GZIL5FS52ZIKWKQ</td>\n",
       "      <td>B07Z6PXX55</td>\n",
       "      <td>0</td>\n",
       "    </tr>\n",
       "    <tr>\n",
       "      <th>3</th>\n",
       "      <td>health</td>\n",
       "      <td>AE25NQAZI3725GZIL5FS52ZIKWKQ</td>\n",
       "      <td>B086WK2FX7</td>\n",
       "      <td>0</td>\n",
       "    </tr>\n",
       "    <tr>\n",
       "      <th>4</th>\n",
       "      <td>health</td>\n",
       "      <td>AE2DHR54CMZQTA3ST6AXQR7DQJTA</td>\n",
       "      <td>B01M7O1N30</td>\n",
       "      <td>1</td>\n",
       "    </tr>\n",
       "  </tbody>\n",
       "</table>\n",
       "</div>"
      ],
      "text/plain": [
       "  category                    CustomerID   ProductID  target\n",
       "0   health  AE25NQAZI3725GZIL5FS52ZIKWKQ  B007QESMDK       1\n",
       "1   health  AE25NQAZI3725GZIL5FS52ZIKWKQ  B08F2D5BYT       0\n",
       "2   health  AE25NQAZI3725GZIL5FS52ZIKWKQ  B07Z6PXX55       0\n",
       "3   health  AE25NQAZI3725GZIL5FS52ZIKWKQ  B086WK2FX7       0\n",
       "4   health  AE2DHR54CMZQTA3ST6AXQR7DQJTA  B01M7O1N30       1"
      ]
     },
     "execution_count": 6,
     "metadata": {},
     "output_type": "execute_result"
    }
   ],
   "source": [
    "from recsys.utils import prepare_evaluation_df\n",
    "\n",
    "evaluation_df = prepare_evaluation_df(user_item_data_df).to_pandas()\n",
    "\n",
    "evaluation_df.head()"
   ]
  },
  {
   "cell_type": "markdown",
   "id": "6b6c678f-e799-434f-98ac-b0cb050514e1",
   "metadata": {},
   "source": [
    "# Features\n",
    "\n",
    "prepare sparse features"
   ]
  },
  {
   "cell_type": "code",
   "execution_count": 7,
   "id": "ed41492e-9c75-44dc-b425-07d5e6a0e99f",
   "metadata": {},
   "outputs": [
    {
     "name": "stdout",
     "output_type": "stream",
     "text": [
      "Dataset num items: 60293 from /Users/username/PycharmProjects/ml_for_products/data/meta_Health_and_Personal_Care.jsonl.gz\n",
      "851\n"
     ]
    }
   ],
   "source": [
    "file_name = 'meta_Health_and_Personal_Care.jsonl.gz'\n",
    "data_path = os.path.join(root_data_dir, file_name)\n",
    "\n",
    "json_meta_data = [i for i in read_raw_data(data_path) if i['parent_asin'] in user_item_data_df['ProductID'].values]\n",
    "print(len(json_meta_data))"
   ]
  },
  {
   "cell_type": "code",
   "execution_count": 8,
   "id": "ecb5a144-8c21-4281-a7ba-5e68f9f7dd0e",
   "metadata": {},
   "outputs": [
    {
     "data": {
      "text/html": [
       "<div>\n",
       "<style scoped>\n",
       "    .dataframe tbody tr th:only-of-type {\n",
       "        vertical-align: middle;\n",
       "    }\n",
       "\n",
       "    .dataframe tbody tr th {\n",
       "        vertical-align: top;\n",
       "    }\n",
       "\n",
       "    .dataframe thead th {\n",
       "        text-align: right;\n",
       "    }\n",
       "</style>\n",
       "<table border=\"1\" class=\"dataframe\">\n",
       "  <thead>\n",
       "    <tr style=\"text-align: right;\">\n",
       "      <th></th>\n",
       "      <th>main_category</th>\n",
       "      <th>title</th>\n",
       "      <th>average_rating</th>\n",
       "      <th>rating_number</th>\n",
       "      <th>features</th>\n",
       "      <th>description</th>\n",
       "      <th>price</th>\n",
       "      <th>images</th>\n",
       "      <th>videos</th>\n",
       "      <th>store</th>\n",
       "      <th>...</th>\n",
       "      <th>details.Coating Description</th>\n",
       "      <th>details.Photo Filter Effect Type</th>\n",
       "      <th>details.Filter Type</th>\n",
       "      <th>details.Is Foldable</th>\n",
       "      <th>details.Target Species</th>\n",
       "      <th>details.Cartoon Character</th>\n",
       "      <th>details.Filter Class</th>\n",
       "      <th>details.Test type</th>\n",
       "      <th>details.Allergen Information</th>\n",
       "      <th>details.Mounting Type</th>\n",
       "    </tr>\n",
       "  </thead>\n",
       "  <tbody>\n",
       "    <tr>\n",
       "      <th>0</th>\n",
       "      <td>Health &amp; Personal Care</td>\n",
       "      <td>GoodSense Premium Saline, Nasal Moisturizing S...</td>\n",
       "      <td>4.1</td>\n",
       "      <td>29</td>\n",
       "      <td>[INGREDIENTS: Compare to Ocean ingredients., U...</td>\n",
       "      <td>[]</td>\n",
       "      <td>NaN</td>\n",
       "      <td>[{'thumb': 'https://m.media-amazon.com/images/...</td>\n",
       "      <td>[]</td>\n",
       "      <td>Good Sense</td>\n",
       "      <td>...</td>\n",
       "      <td>NaN</td>\n",
       "      <td>NaN</td>\n",
       "      <td>NaN</td>\n",
       "      <td>NaN</td>\n",
       "      <td>NaN</td>\n",
       "      <td>NaN</td>\n",
       "      <td>NaN</td>\n",
       "      <td>NaN</td>\n",
       "      <td>NaN</td>\n",
       "      <td>NaN</td>\n",
       "    </tr>\n",
       "    <tr>\n",
       "      <th>1</th>\n",
       "      <td>Health &amp; Personal Care</td>\n",
       "      <td>Premium Dry brush for take a bath and Lymphati...</td>\n",
       "      <td>2.7</td>\n",
       "      <td>7</td>\n",
       "      <td>[]</td>\n",
       "      <td>[]</td>\n",
       "      <td>NaN</td>\n",
       "      <td>[{'thumb': 'https://m.media-amazon.com/images/...</td>\n",
       "      <td>[]</td>\n",
       "      <td>Smiley smith</td>\n",
       "      <td>...</td>\n",
       "      <td>NaN</td>\n",
       "      <td>NaN</td>\n",
       "      <td>NaN</td>\n",
       "      <td>NaN</td>\n",
       "      <td>NaN</td>\n",
       "      <td>NaN</td>\n",
       "      <td>NaN</td>\n",
       "      <td>NaN</td>\n",
       "      <td>NaN</td>\n",
       "      <td>NaN</td>\n",
       "    </tr>\n",
       "    <tr>\n",
       "      <th>2</th>\n",
       "      <td>Health &amp; Personal Care</td>\n",
       "      <td>Cord Locks Silicone Toggles for Drawstrings El...</td>\n",
       "      <td>4.2</td>\n",
       "      <td>632</td>\n",
       "      <td>[]</td>\n",
       "      <td>[]</td>\n",
       "      <td>NaN</td>\n",
       "      <td>[{'thumb': 'https://m.media-amazon.com/images/...</td>\n",
       "      <td>[{'title': 'Cord Locks Silicone Toggles', 'url...</td>\n",
       "      <td>Abodhu</td>\n",
       "      <td>...</td>\n",
       "      <td>NaN</td>\n",
       "      <td>NaN</td>\n",
       "      <td>NaN</td>\n",
       "      <td>NaN</td>\n",
       "      <td>NaN</td>\n",
       "      <td>NaN</td>\n",
       "      <td>NaN</td>\n",
       "      <td>NaN</td>\n",
       "      <td>NaN</td>\n",
       "      <td>NaN</td>\n",
       "    </tr>\n",
       "  </tbody>\n",
       "</table>\n",
       "<p>3 rows × 166 columns</p>\n",
       "</div>"
      ],
      "text/plain": [
       "            main_category                                              title  \\\n",
       "0  Health & Personal Care  GoodSense Premium Saline, Nasal Moisturizing S...   \n",
       "1  Health & Personal Care  Premium Dry brush for take a bath and Lymphati...   \n",
       "2  Health & Personal Care  Cord Locks Silicone Toggles for Drawstrings El...   \n",
       "\n",
       "   average_rating  rating_number  \\\n",
       "0             4.1             29   \n",
       "1             2.7              7   \n",
       "2             4.2            632   \n",
       "\n",
       "                                            features description  price  \\\n",
       "0  [INGREDIENTS: Compare to Ocean ingredients., U...          []    NaN   \n",
       "1                                                 []          []    NaN   \n",
       "2                                                 []          []    NaN   \n",
       "\n",
       "                                              images  \\\n",
       "0  [{'thumb': 'https://m.media-amazon.com/images/...   \n",
       "1  [{'thumb': 'https://m.media-amazon.com/images/...   \n",
       "2  [{'thumb': 'https://m.media-amazon.com/images/...   \n",
       "\n",
       "                                              videos         store  ...  \\\n",
       "0                                                 []    Good Sense  ...   \n",
       "1                                                 []  Smiley smith  ...   \n",
       "2  [{'title': 'Cord Locks Silicone Toggles', 'url...        Abodhu  ...   \n",
       "\n",
       "  details.Coating Description details.Photo Filter Effect Type  \\\n",
       "0                         NaN                              NaN   \n",
       "1                         NaN                              NaN   \n",
       "2                         NaN                              NaN   \n",
       "\n",
       "  details.Filter Type details.Is Foldable details.Target Species  \\\n",
       "0                 NaN                 NaN                    NaN   \n",
       "1                 NaN                 NaN                    NaN   \n",
       "2                 NaN                 NaN                    NaN   \n",
       "\n",
       "  details.Cartoon Character details.Filter Class details.Test type  \\\n",
       "0                       NaN                  NaN               NaN   \n",
       "1                       NaN                  NaN               NaN   \n",
       "2                       NaN                  NaN               NaN   \n",
       "\n",
       "  details.Allergen Information details.Mounting Type  \n",
       "0                          NaN                   NaN  \n",
       "1                          NaN                   NaN  \n",
       "2                          NaN                   NaN  \n",
       "\n",
       "[3 rows x 166 columns]"
      ]
     },
     "execution_count": 8,
     "metadata": {},
     "output_type": "execute_result"
    }
   ],
   "source": [
    "catalog_df = pd.json_normalize(json_meta_data)\n",
    "\n",
    "catalog_df.head(3)"
   ]
  },
  {
   "cell_type": "code",
   "execution_count": 9,
   "id": "c3d4996d-7cd9-4424-9bc7-694b4704cef5",
   "metadata": {},
   "outputs": [
    {
     "name": "stdout",
     "output_type": "stream",
     "text": [
      "(851, 100)\n"
     ]
    }
   ],
   "source": [
    "from sklearn.feature_extraction.text import TfidfVectorizer\n",
    "\n",
    "vectorizer = TfidfVectorizer(\n",
    "    stop_words='english',\n",
    "    ngram_range=(1, 2),\n",
    "    max_features=100,  # Limit number of features\n",
    "    max_df=0.8,        # Ignore terms that appear in more than 80% of documents\n",
    "    min_df=1           # Ignore terms that appear in less than 1 document\n",
    ")\n",
    "\n",
    "tfidf_matrix = vectorizer.fit_transform([i['title'] for i in json_meta_data]).toarray()\n",
    "feature_names = vectorizer.get_feature_names_out()\n",
    "print(tfidf_matrix.shape)"
   ]
  },
  {
   "cell_type": "code",
   "execution_count": 10,
   "id": "4388b319-e8ee-4f83-8e85-dbd48233ea7b",
   "metadata": {},
   "outputs": [
    {
     "name": "stdout",
     "output_type": "stream",
     "text": [
      "851\n"
     ]
    }
   ],
   "source": [
    "feature_store = {j['parent_asin']: tfidf_matrix[i,:] for i, j in enumerate(json_meta_data)}\n",
    "print(len(feature_store))"
   ]
  },
  {
   "cell_type": "code",
   "execution_count": 11,
   "id": "5dec0b78-29b0-48c4-9578-11317de45fa6",
   "metadata": {},
   "outputs": [
    {
     "name": "stdout",
     "output_type": "stream",
     "text": [
      "model training finished\n",
      "<catboost.core.CatBoostClassifier object at 0x10aa5a810>\n"
     ]
    }
   ],
   "source": [
    "from recsys.model import get_model, get_data\n",
    "from IPython.display import clear_output\n",
    "\n",
    "model = get_model()\n",
    "data_pool, target = get_data(evaluation_df, feature_store)\n",
    "model.fit(data_pool)\n",
    "clear_output()\n",
    "print('model training finished')\n",
    "print(model)"
   ]
  },
  {
   "cell_type": "code",
   "execution_count": 12,
   "id": "9a7926dc-e6bd-4981-aa08-03f7e8dae2c4",
   "metadata": {},
   "outputs": [
    {
     "name": "stdout",
     "output_type": "stream",
     "text": [
      "roc_auc: 0.6168\n"
     ]
    }
   ],
   "source": [
    "from sklearn.metrics import f1_score, accuracy_score, recall_score, roc_auc_score\n",
    "\n",
    "proba = model.predict_proba(data_pool)\n",
    "print('roc_auc: %.4f' % roc_auc_score(target, proba[:,1]))"
   ]
  },
  {
   "cell_type": "markdown",
   "id": "6e9fff84-f182-4e39-99d1-2d62bfe3a179",
   "metadata": {},
   "source": [
    "# Search"
   ]
  },
  {
   "cell_type": "code",
   "execution_count": 33,
   "id": "0ed02bfa-7a21-416a-a17a-b1e71e255a4b",
   "metadata": {},
   "outputs": [
    {
     "name": "stdout",
     "output_type": "stream",
     "text": [
      "[{'content': 'My three year old had been battling a cough from allergies for a few days and his sleep was suffering because of it. Within about 20 minutes his cough...', 'asin': 'B07P7XN3RS...'}, {'content': 'Had a cough. Took 1 dose and the cough was gone....', 'asin': 'B009RPA6RQ...'}, {'content': 'I absolutely recommend this cough medicine to others my 15 Month Old has a bad cough I gave this to her and with in 15 to 20 minutes her cough was a l...', 'asin': 'B07P7XN3RS...'}, {'content': 'I use nettle to relieve my cough.  It relaxes my throat, stops the cough....', 'asin': 'B001E16PKS...'}, {'content': 'Enables me to cough up phlegm. I suffer with COPD and this product enables me to cough it up....', 'asin': 'B005239ML8...'}, {'content': \"I've loved these cough drops for many years. You used to be able to purchase them along side the nasty tasting ones wherever cough remedies are sold. ...\", 'asin': 'B013CX7R5M...'}, {'content': 'I love  Vicks cough drops. They help with my sinuses. A cough drop just before bed and no sinus in the morning....', 'asin': 'B08M5XZBRP...'}, {'content': 'I have had a cough for 6mos after trying this for a week I feel I am breathing better an my cough has gotten better...', 'asin': 'B006U41QN0...'}, {'content': \"I love this cough syrup I gave it to my daughter of 15 months and as soon as she'd take it moments later her cough would subside....\", 'asin': 'B07P7XN3RS...'}, {'content': 'What I ordered is what was pictured, and I gradients described a cough syrup.  What I got was a cough elixir.  Sugar free, thin liquid that tastes awf...', 'asin': 'B005239ML8...'}]\n"
     ]
    }
   ],
   "source": [
    "import requests\n",
    "\n",
    "def get_search_results(query, num=10):\n",
    "    url = \"http://localhost:8000/search\"\n",
    "    \n",
    "    payload = {\n",
    "        \"text\": query,\n",
    "        \"num\": num\n",
    "    }\n",
    "    response = requests.post(url, json=payload)\n",
    "    candidates=response.json()\n",
    "    return candidates\n",
    "\n",
    "candidates = get_search_results('cough')\n",
    "print(candidates)  # Print the search results\n"
   ]
  },
  {
   "cell_type": "markdown",
   "id": "9fac595d-1910-42fb-8dd0-f917d36fbfe8",
   "metadata": {},
   "source": [
    "# RAG pipeline"
   ]
  },
  {
   "cell_type": "code",
   "execution_count": 21,
   "id": "07d699d9-a160-44e1-b58b-9377eedecbac",
   "metadata": {},
   "outputs": [],
   "source": [
    "from llm import recs_generation"
   ]
  },
  {
   "cell_type": "code",
   "execution_count": 37,
   "id": "569c623d-457c-40d7-bde8-b25be50e033b",
   "metadata": {},
   "outputs": [
    {
     "name": "stdout",
     "output_type": "stream",
     "text": [
      "connecting OpenAI...\n",
      "Recommendation: Opt for item_id B09GBMG83Z with 300 small, easy-to-swallow Vitamin C tablets, despite slight chalkiness. Positive sentiment outweighs minor issue.\n"
     ]
    },
    {
     "data": {
      "text/html": [
       "<div>\n",
       "<style scoped>\n",
       "    .dataframe tbody tr th:only-of-type {\n",
       "        vertical-align: middle;\n",
       "    }\n",
       "\n",
       "    .dataframe tbody tr th {\n",
       "        vertical-align: top;\n",
       "    }\n",
       "\n",
       "    .dataframe thead th {\n",
       "        text-align: right;\n",
       "    }\n",
       "</style>\n",
       "<table border=\"1\" class=\"dataframe\">\n",
       "  <thead>\n",
       "    <tr style=\"text-align: right;\">\n",
       "      <th></th>\n",
       "      <th>content</th>\n",
       "      <th>asin</th>\n",
       "    </tr>\n",
       "  </thead>\n",
       "  <tbody>\n",
       "    <tr>\n",
       "      <th>10</th>\n",
       "      <td>I purchased these tablets while traveling in L...</td>\n",
       "      <td>B0017TO05Y...</td>\n",
       "    </tr>\n",
       "    <tr>\n",
       "      <th>29</th>\n",
       "      <td>I rate this product 5 stars because it has hel...</td>\n",
       "      <td>B002ALZOVW...</td>\n",
       "    </tr>\n",
       "    <tr>\n",
       "      <th>27</th>\n",
       "      <td>I have seen these in those Zee Medical boxes a...</td>\n",
       "      <td>B002C6467S...</td>\n",
       "    </tr>\n",
       "    <tr>\n",
       "      <th>3</th>\n",
       "      <td>*Their heading has been revised and the price ...</td>\n",
       "      <td>B002C6467S...</td>\n",
       "    </tr>\n",
       "    <tr>\n",
       "      <th>11</th>\n",
       "      <td>This is a great headache relief product. I hav...</td>\n",
       "      <td>B002C6467S...</td>\n",
       "    </tr>\n",
       "    <tr>\n",
       "      <th>15</th>\n",
       "      <td>I have to cut big tablets that are in a oblong...</td>\n",
       "      <td>B0035T4B30...</td>\n",
       "    </tr>\n",
       "    <tr>\n",
       "      <th>18</th>\n",
       "      <td>I would have liked an instructional paper sent...</td>\n",
       "      <td>B00770BWGW...</td>\n",
       "    </tr>\n",
       "    <tr>\n",
       "      <th>1</th>\n",
       "      <td>I saw and bought this product at Vitamin Shopp...</td>\n",
       "      <td>B00CJEON1C...</td>\n",
       "    </tr>\n",
       "    <tr>\n",
       "      <th>13</th>\n",
       "      <td>Picture shows tablets, description doesn't say...</td>\n",
       "      <td>B00I2LOHNU...</td>\n",
       "    </tr>\n",
       "    <tr>\n",
       "      <th>12</th>\n",
       "      <td>These were not my favorite. The tablets were k...</td>\n",
       "      <td>B00KZH9U9K...</td>\n",
       "    </tr>\n",
       "    <tr>\n",
       "      <th>16</th>\n",
       "      <td>gives me a terrible headache every time I try ...</td>\n",
       "      <td>B011DF475Y...</td>\n",
       "    </tr>\n",
       "    <tr>\n",
       "      <th>6</th>\n",
       "      <td>After about 48 hours I got a horrendous headac...</td>\n",
       "      <td>B019CSBH8E...</td>\n",
       "    </tr>\n",
       "    <tr>\n",
       "      <th>14</th>\n",
       "      <td>These tablets are the same strength of other b...</td>\n",
       "      <td>B01AVKMCP4...</td>\n",
       "    </tr>\n",
       "    <tr>\n",
       "      <th>4</th>\n",
       "      <td>I received an unlabeled ziplock bag containing...</td>\n",
       "      <td>B01GQRFH8A...</td>\n",
       "    </tr>\n",
       "    <tr>\n",
       "      <th>28</th>\n",
       "      <td>The tablets are really small when compressed w...</td>\n",
       "      <td>B071ZNGVVY...</td>\n",
       "    </tr>\n",
       "    <tr>\n",
       "      <th>5</th>\n",
       "      <td>These are just tablets inside a capsule with e...</td>\n",
       "      <td>B078WKDTCL...</td>\n",
       "    </tr>\n",
       "    <tr>\n",
       "      <th>17</th>\n",
       "      <td>I rubbed this onto my neck and behind my ears ...</td>\n",
       "      <td>B07CLDZWHP...</td>\n",
       "    </tr>\n",
       "    <tr>\n",
       "      <th>21</th>\n",
       "      <td>These tablets work faster, and moreover the ta...</td>\n",
       "      <td>B07FCWT66G...</td>\n",
       "    </tr>\n",
       "    <tr>\n",
       "      <th>7</th>\n",
       "      <td>I am supposed to receive 6 tablets however I r...</td>\n",
       "      <td>B07FCWT66G...</td>\n",
       "    </tr>\n",
       "    <tr>\n",
       "      <th>23</th>\n",
       "      <td>I don't take any vegetables or fruits so when ...</td>\n",
       "      <td>B07KQPL2SV...</td>\n",
       "    </tr>\n",
       "    <tr>\n",
       "      <th>2</th>\n",
       "      <td>Headache every time I take these and don’t not...</td>\n",
       "      <td>B07XTS5CW3...</td>\n",
       "    </tr>\n",
       "    <tr>\n",
       "      <th>9</th>\n",
       "      <td>I specifically ordered the round tablets becau...</td>\n",
       "      <td>B085J1QFQG...</td>\n",
       "    </tr>\n",
       "    <tr>\n",
       "      <th>25</th>\n",
       "      <td>Attention! Slight headache, works every time. ...</td>\n",
       "      <td>B09256D5DY...</td>\n",
       "    </tr>\n",
       "    <tr>\n",
       "      <th>19</th>\n",
       "      <td>I tried using these tablets on several differe...</td>\n",
       "      <td>B0989GJBRS...</td>\n",
       "    </tr>\n",
       "    <tr>\n",
       "      <th>20</th>\n",
       "      <td>I tried using these tablets on several differe...</td>\n",
       "      <td>B0989GJBRS...</td>\n",
       "    </tr>\n",
       "    <tr>\n",
       "      <th>22</th>\n",
       "      <td>This bottle contains 300 tablets of high poten...</td>\n",
       "      <td>B09GBMG83Z...</td>\n",
       "    </tr>\n",
       "    <tr>\n",
       "      <th>26</th>\n",
       "      <td>300 tablets!They are a tad chalky, but small e...</td>\n",
       "      <td>B09GBMG83Z...</td>\n",
       "    </tr>\n",
       "    <tr>\n",
       "      <th>24</th>\n",
       "      <td>I have suffered from migraines for most of my ...</td>\n",
       "      <td>B09J2VHMHB...</td>\n",
       "    </tr>\n",
       "    <tr>\n",
       "      <th>0</th>\n",
       "      <td>I switched to these because they were cheaper....</td>\n",
       "      <td>B09LMNDWNN...</td>\n",
       "    </tr>\n",
       "    <tr>\n",
       "      <th>8</th>\n",
       "      <td>These are not tablets - they are caplets.  Tab...</td>\n",
       "      <td>B09TS32Y13...</td>\n",
       "    </tr>\n",
       "  </tbody>\n",
       "</table>\n",
       "</div>"
      ],
      "text/plain": [
       "                                              content           asin\n",
       "10  I purchased these tablets while traveling in L...  B0017TO05Y...\n",
       "29  I rate this product 5 stars because it has hel...  B002ALZOVW...\n",
       "27  I have seen these in those Zee Medical boxes a...  B002C6467S...\n",
       "3   *Their heading has been revised and the price ...  B002C6467S...\n",
       "11  This is a great headache relief product. I hav...  B002C6467S...\n",
       "15  I have to cut big tablets that are in a oblong...  B0035T4B30...\n",
       "18  I would have liked an instructional paper sent...  B00770BWGW...\n",
       "1   I saw and bought this product at Vitamin Shopp...  B00CJEON1C...\n",
       "13  Picture shows tablets, description doesn't say...  B00I2LOHNU...\n",
       "12  These were not my favorite. The tablets were k...  B00KZH9U9K...\n",
       "16  gives me a terrible headache every time I try ...  B011DF475Y...\n",
       "6   After about 48 hours I got a horrendous headac...  B019CSBH8E...\n",
       "14  These tablets are the same strength of other b...  B01AVKMCP4...\n",
       "4   I received an unlabeled ziplock bag containing...  B01GQRFH8A...\n",
       "28  The tablets are really small when compressed w...  B071ZNGVVY...\n",
       "5   These are just tablets inside a capsule with e...  B078WKDTCL...\n",
       "17  I rubbed this onto my neck and behind my ears ...  B07CLDZWHP...\n",
       "21  These tablets work faster, and moreover the ta...  B07FCWT66G...\n",
       "7   I am supposed to receive 6 tablets however I r...  B07FCWT66G...\n",
       "23  I don't take any vegetables or fruits so when ...  B07KQPL2SV...\n",
       "2   Headache every time I take these and don’t not...  B07XTS5CW3...\n",
       "9   I specifically ordered the round tablets becau...  B085J1QFQG...\n",
       "25  Attention! Slight headache, works every time. ...  B09256D5DY...\n",
       "19  I tried using these tablets on several differe...  B0989GJBRS...\n",
       "20  I tried using these tablets on several differe...  B0989GJBRS...\n",
       "22  This bottle contains 300 tablets of high poten...  B09GBMG83Z...\n",
       "26  300 tablets!They are a tad chalky, but small e...  B09GBMG83Z...\n",
       "24  I have suffered from migraines for most of my ...  B09J2VHMHB...\n",
       "0   I switched to these because they were cheaper....  B09LMNDWNN...\n",
       "8   These are not tablets - they are caplets.  Tab...  B09TS32Y13..."
      ]
     },
     "execution_count": 37,
     "metadata": {},
     "output_type": "execute_result"
    }
   ],
   "source": [
    "candidates = get_search_results('headache tablets', num=30)\n",
    "\n",
    "print(recs_generation(candidates))\n",
    "pd.json_normalize(candidates).sort_values(by='asin')"
   ]
  },
  {
   "cell_type": "code",
   "execution_count": null,
   "id": "ca2b6117-072a-4dae-b7d5-65ffadf36187",
   "metadata": {},
   "outputs": [],
   "source": []
  }
 ],
 "metadata": {
  "kernelspec": {
   "display_name": "Python 3 (ipykernel)",
   "language": "python",
   "name": "python3"
  },
  "language_info": {
   "codemirror_mode": {
    "name": "ipython",
    "version": 3
   },
   "file_extension": ".py",
   "mimetype": "text/x-python",
   "name": "python",
   "nbconvert_exporter": "python",
   "pygments_lexer": "ipython3",
   "version": "3.12.6"
  }
 },
 "nbformat": 4,
 "nbformat_minor": 5
}
