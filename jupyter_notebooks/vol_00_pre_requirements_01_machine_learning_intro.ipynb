{
  "cells": [
    {
      "cell_type": "markdown",
      "metadata": {
        "id": "fsy4O67AoxhS"
      },
      "source": [
        "# Что такое машинное обучение\n",
        "\n",
        "## Область применения\n",
        "\n",
        "Машинное обучение (от англ. *machine learning*) – это область знаний на стыке линейной алгебры, теории вероятностей и методов оптимизации\n",
        "\n",
        "говорят, что модель обучается на опыте $E$ относительно класса задач $T$ в смысле меры качества $L$, если при решении задачи $T$ качество, измеряемое мерой $L$ , возрастает при демонстрации нового опыта $D$.\n",
        "\n",
        "Говоря простым языком, если правльным образом разработать процесс анализа поступающих в систему машинного обучения данных, то система сможет проводить аналогичную обработку без участия разработчика."
      ]
    },
    {
      "cell_type": "markdown",
      "metadata": {
        "id": "VNJqQ01ZoxhU"
      },
      "source": [
        "Алгоритмы ML используются везде, где нужно автоматизировано (т.е. в большом количестве) принимать решения:\n",
        "\n",
        "* вычисление спам-писем в почте\n",
        "* рекомендации товаров в онлайн-ритейле (\"с этим товаром покупают\")\n",
        "* подбор музыки на основании вкусов пользователя\n",
        "* детекция эротических или жестоких сцен в видео контенте\n",
        "\n",
        "Зачем нужно разрабатывать ML проекты, когда в каждой из областей есть экспертные знания?\n",
        "\n",
        "* сложно придумать правила  в понятном человеку виде (например, распознавание изображений)\n",
        "* эвристики устаревают и нужно придумывать новые (борьба со спамом - непрерывный процесс)"
      ]
    },
    {
      "cell_type": "markdown",
      "metadata": {
        "id": "1Xa0uV82oxhV"
      },
      "source": [
        "## Неформальное определение\n",
        "\n",
        "Допустим, вы хотите решить какую-то задачу (например, выявление спам-смс) с помощью ML. Независимо от доменной области ML проект проходит следующие этапы:\n",
        "\n",
        "1. Выгрузка *обучающей выборки* (например, набор смс)\n",
        "1. Разметка обучающей выборки (отметить те, которые являются спамом). Хотя некоторые алгоритмы могут работать и без разметки.\n",
        "1. Выбираем метрику качества решения задачи (долю точно определённых спам-смс)\n",
        "1. Каждый объект выборки описываем некоторыми признаками, которые называются фичами (признаками) (фичами смс могут стать входящие в него слова)\n",
        "1. Настраиваем выбранную модель машинного обучения наилучшим образом (тут поможет метрика) решать поставленную задачу\n",
        "\n",
        "Давайте пройдём по пути создания модели машинного обучения для задачи предсказания цены на недвижимость с помощью машинного обучения."
      ]
    },
    {
      "cell_type": "markdown",
      "metadata": {
        "id": "kS5GZMSVoxhV"
      },
      "source": [
        "## Пример: предсказываем цены на недвижимость\n",
        "\n",
        "Предсказывать цены не недвижимость будем с помощью модели [линейной регрессии](https://ru.wikipedia.org/wiki/%D0%9B%D0%B8%D0%BD%D0%B5%D0%B9%D0%BD%D0%B0%D1%8F_%D1%80%D0%B5%D0%B3%D1%80%D0%B5%D1%81%D1%81%D0%B8%D1%8F)\n",
        "\n",
        "### Знакомство с machine learning: линейная регрессия\n",
        "\n",
        "Линейная регрессия относится в задачам обучения с учителем: опыт $D$ (который в ML называют *обучающей выборкой*) в нашем случае - это набор пар $x_i, y_i$ таких, что\n",
        "\n",
        "$$\n",
        "D = \\{(x_i, y_i) \\}_{i=\\overline{1,N}}\n",
        "$$\n",
        "\n",
        "Где $y_i$ - это \"правильный\" ответ(цена недвижимости) на обучающем примере $x_i$ (конкретный объект недвижимости из обучающей выборки), а $N$ - количество обучающих примеров. В задаче линейной регрессии $y \\in R$, то есть предсказываь нужно  непрерывную *скалярную* случайную величину.\n",
        "\n",
        "Каждый объект $x_i$ является совокупностью признаков (англ *features*, фичи) $x_i^1,\\ldots, x_i^k$. Размерность признакового пространства может быть разной, т.е. $x_i \\in R^k$, где $k$ может принимать значения от 1 (в задаче прогнозирования роста человека по его весу) до десятков тысяч (например, в задаче анализа текстов)."
      ]
    },
    {
      "cell_type": "markdown",
      "metadata": {
        "id": "8eTDGv1toxhW"
      },
      "source": [
        "#### Отступление: какие фичи бывают\n",
        "\n",
        "* бинарные (boolean): True/False, 1/0\n",
        "* категориальные (categorical), иногда говорят дискретные: сутки можно разделить на три категориальных фичи (`morning`, `day` `night`)\n",
        "* непрерывные (numerical): количество звонков поступающих в коллцентр\n",
        "\n",
        "Выявить в задаче \"сильные\" фичи - это 90% успеха в решении.\n",
        "\n",
        "Про то, как придумывать фичи есть годная [статья на хабре](https://habr.com/ru/company/ods/blog/325422/)"
      ]
    },
    {
      "cell_type": "markdown",
      "metadata": {
        "id": "-paJD6OboxhW"
      },
      "source": [
        "Модель машинного обучения в общем случае  - это семейство алгоритмов $h(x, \\theta): X \\times \\Theta \\rightarrow Y$. Процесс машинного обучения сводится к тому, чтобы по опыту (обучающей выборке) $D$ подобрать такую функцию $h(\\cdot)$, что мера качества $L$ будет максимальной, т.е. из семейства алгоритмов нам нужно выбрать один конкретный пример.\n",
        "\n",
        "Обычно задачу машинного обучения сводят к задаче минимизации эмпирического риска $Q(h(x, \\theta), D)$ где\n",
        "$$\n",
        "Q_{\\text{emp}}(h) = \\frac{1}{N}\\sum_{i=1}^{N}L(h(x_i, \\theta), y_i)\n",
        "$$\n",
        "\n",
        "Тогда мы находим лучшую модель $\\hat{h}$ из семейства $h$ как  \n",
        "$$\n",
        "\\hat{h} = \\arg\\min Q_{\\text{emp}}(h, \\theta)\n",
        "$$\n",
        "\n",
        "Точка минимума эмпирического риска является решением уравнения\n",
        "$$\n",
        "\\frac{\\partial Q_{\\text{emp}}}{\\partial h} = 0\n",
        "$$"
      ]
    },
    {
      "cell_type": "markdown",
      "metadata": {
        "id": "5cZ3CEIroxhX"
      },
      "source": [
        "Задача *линейной* регресии: восстановить на функцию $h(x_i)$ в виде *линейной комбинации* (т.е. сумма с некоторыми весами \"важности\") признаков объекта. Сами признаки называются *предикторами*:\n",
        "$$\n",
        "\\forall x_i: h(x) = w_0 + w_1x_i^1 + \\ldots + w_nx_i^n = \\sum_{j=1}^{n}w_jx_i^j = \\overline{x}_i^T\\overline{w}\n",
        "$$\n",
        "\n",
        "Мера качества $L$ для задачи регрессии - квадрат разности между фактическим значением и прогнозом.\n",
        "$$\n",
        "L(h(x_i, \\theta), y_i) = \\left(y_i - h(x_i, \\theta)\\right)^2 = \\left(y_i -  \\sum_{j=1}^{n}w_jx_i^j\\right)^2\n",
        "$$\n",
        "\n",
        "Тогда эмпирический риск вычисляется по формуле:\n",
        "$$\n",
        "Q_{\\text{emp}} = \\frac{1}{N}\\sum_{i=1}^{N}(y_i - \\hat{y_i})^2 = \\frac{1}{N}\\sum_{i=1}^{N}(y_i - \\overline{x}_i^T\\overline{w})^2 = \\frac{1}{2N}||\\overline{Y}-\\overline{X}^T\\overline{w}||^2 = \\frac{1}{2N}\\left(\\overline{Y}-\\overline{X}^T\\overline{w}\\right)^T\\left(\\overline{Y}-\\overline{X}^T\\overline{w}\\right)\n",
        "$$"
      ]
    },
    {
      "cell_type": "markdown",
      "metadata": {
        "id": "y_IK8Io8oxhY"
      },
      "source": [
        "\n",
        "Такой вид функции потерь называется RSS - *resudal squares sum*, на русский переводится как *остаточная сумма квадратов*.\n",
        "\n",
        "Где $\\hat{y_i}$ - ответ нашего алгоритма машинного обучения $h(x, \\theta)$ на примере $x_i$. Чем больше значение $L$ (т.е. чем ближе оно к нулю, т.к. берём со знаком минус) тем лучше наша модель повторяет опыт $X \\in m \\times n$ где m - количество примеров в обучающей выборке, а $m$ - размерность пространства признаков. $w$ - это вектор параметров модели, который хотим обучить.\n",
        "\n",
        "Мимнимум эмпирического риска можно найти аналитически, он достигается в точке\n",
        "$$\n",
        "\\overline{w} = \\left(X^TX\\right)^{-1}X^T\\overline{y}\n",
        "$$\n",
        "\n",
        "Реализуем функцию для обучения линейной регрессии на python. Загружаем исходные данные - датасет с ценами на дома в Бостоне"
      ]
    },
    {
      "cell_type": "code",
      "source": [
        "import os\n",
        "import sys\n",
        "\n",
        "import numpy as np\n",
        "\n",
        "\n",
        "run_env = os.getenv('RUN_ENV', 'COLLAB')\n",
        "if run_env == 'COLLAB':\n",
        "  from google.colab import drive\n",
        "  ROOT_DIR = '/content/drive'\n",
        "  drive.mount(ROOT_DIR)\n",
        "  print('Google drive connected')\n",
        "  root_data_dir = os.path.join(ROOT_DIR, 'MyDrive', 'ml_course_data')\n",
        "  sys.path.append(os.path.join(ROOT_DIR, 'MyDrive', 'src'))\n",
        "else:\n",
        "  root_data_dir = os.getenv('DATA_DIR', '/srv/data')\n",
        "\n",
        "print(os.listdir(root_data_dir))\n",
        "\n",
        "if not os.path.exists(root_data_dir):\n",
        "  raise RuntimeError('Data dir not exists')\n",
        "else:\n",
        "  print('Data dir content %s: %s' % (root_data_dir, ', '.join(os.listdir(root_data_dir))))"
      ],
      "metadata": {
        "colab": {
          "base_uri": "https://localhost:8080/"
        },
        "id": "UCnb7-IZpeVb",
        "outputId": "5cdcbd4c-192e-4013-ca94-07cfaa572ca4"
      },
      "execution_count": 2,
      "outputs": [
        {
          "output_type": "stream",
          "name": "stdout",
          "text": [
            "Drive already mounted at /content/drive; to attempt to forcibly remount, call drive.mount(\"/content/drive\", force_remount=True).\n",
            "Google drive connected\n",
            "['nyt-ingredients-snapshot-2015.csv', 'insurance (1).csv', 'non_linear.csv', 'client_segmentation.csv', 'eigen.pkl', 'clustering.pkl', 'boosting_toy_dataset.csv', 'politic_meme.jpg', 'gray_goose.jpg', 'test_dataset.pkl', 'memes', 'optimal_push_time', 'sklearn_data', 'my_little_recsys', 'corpora', 'logs', 'nltk_data', 'recsys_data', 'MNIST', 'hymenoptera_data', 'pet_projects', 'ocr_dataset_sample.csv', 'geo_points.csv.gzip', 'scored_corpus.csv', 'labeled_data_corpus.csv', 'memes_stat_dataset.zip', 'als_model.pkl', 'raw_data.zip', 'json_views.tar.gz', 'test_data.csv', 'sales_timeseries_dataset.csv.gz', 'brand_tweets_valid.csv', 'brand_tweets.csv', 'Health_and_Personal_Care.jsonl.gz', 'models', 'corpus_embeds_0.npy', 'final_dataset.zip', 'ocr_dataset.zip', 'bidmachine_logs.zip', 'meta_Health_and_Personal_Care.jsonl.gz', 'messages.db', 'user_item_views.zip', 'content_catalog.zip', 'ground_truth_dataset.pkl', 'insurance.csv']\n",
            "Data dir content /content/drive/MyDrive/ml_course_data: nyt-ingredients-snapshot-2015.csv, insurance (1).csv, non_linear.csv, client_segmentation.csv, eigen.pkl, clustering.pkl, boosting_toy_dataset.csv, politic_meme.jpg, gray_goose.jpg, test_dataset.pkl, memes, optimal_push_time, sklearn_data, my_little_recsys, corpora, logs, nltk_data, recsys_data, MNIST, hymenoptera_data, pet_projects, ocr_dataset_sample.csv, geo_points.csv.gzip, scored_corpus.csv, labeled_data_corpus.csv, memes_stat_dataset.zip, als_model.pkl, raw_data.zip, json_views.tar.gz, test_data.csv, sales_timeseries_dataset.csv.gz, brand_tweets_valid.csv, brand_tweets.csv, Health_and_Personal_Care.jsonl.gz, models, corpus_embeds_0.npy, final_dataset.zip, ocr_dataset.zip, bidmachine_logs.zip, meta_Health_and_Personal_Care.jsonl.gz, messages.db, user_item_views.zip, content_catalog.zip, ground_truth_dataset.pkl, insurance.csv\n"
          ]
        }
      ]
    },
    {
      "cell_type": "code",
      "execution_count": 5,
      "metadata": {
        "colab": {
          "base_uri": "https://localhost:8080/"
        },
        "id": "ahJ5SWbOoxha",
        "outputId": "d519dd67-e53d-47e9-fac9-db21660671ab"
      },
      "outputs": [
        {
          "output_type": "stream",
          "name": "stdout",
          "text": [
            "Фичи\n",
            "[[  713.         28086.1        35896.57857143 32894.7\n",
            "  29984.71        2909.99      ]\n",
            " [  914.         33842.85       36032.02857143 34254.63\n",
            "  37121.96       -2867.33      ]\n",
            " [ 1169.         43853.89       37403.35142857 53815.46\n",
            "  43101.19       10714.27      ]\n",
            " [ 1107.         45753.27       36251.61       41043.85\n",
            "  43549.01       -2505.16      ]]\n",
            "\n",
            "Целевая переменная y\n",
            "[33842.85 43853.89 45753.27 43931.43 30419.51 30432.31 29013.9  31967.8\n",
            " 41587.55 55728.61]\n",
            "\n",
            " QTy, NetSales_Previous_Day, Avg_Sale_Previous_Week, Sales_This_Day_Last_Week, Sales_This_Day_Week_Before_Last, Diff_Sales_This_Day_Last_Week_And_Week_Before_Last\n"
          ]
        }
      ],
      "source": [
        "from utils import load_sales\n",
        "\n",
        "sales_dataset = load_sales(root_data_dir)\n",
        "\n",
        "features = sales_dataset.data # матрица X\n",
        "y = sales_dataset.target # таргет (целевая переменная)\n",
        "\n",
        "print('Фичи')\n",
        "print(features[:4])\n",
        "print('\\nЦелевая переменная y')\n",
        "print(y[:10])\n",
        "\n",
        "\n",
        "# текстовое описание датасета\n",
        "print('\\n',sales_dataset.DESCR)"
      ]
    },
    {
      "cell_type": "code",
      "execution_count": 6,
      "metadata": {
        "colab": {
          "base_uri": "https://localhost:8080/"
        },
        "id": "nv_xdpoDoxhb",
        "outputId": "7f17dc07-0922-40da-ed65-4faaa7ce9b57"
      },
      "outputs": [
        {
          "output_type": "stream",
          "name": "stdout",
          "text": [
            "(47, 6)\n"
          ]
        }
      ],
      "source": [
        "print(features.shape)"
      ]
    },
    {
      "cell_type": "markdown",
      "metadata": {
        "id": "PcBcdwVKoxhc"
      },
      "source": [
        "Визуализируем целевую переменную в виде диаграмы рассеяния"
      ]
    },
    {
      "cell_type": "code",
      "execution_count": 7,
      "metadata": {
        "colab": {
          "base_uri": "https://localhost:8080/",
          "height": 449
        },
        "id": "Ucb05i9Uoxhc",
        "outputId": "33d603d1-20d3-4557-d75e-c54496d734ec"
      },
      "outputs": [
        {
          "output_type": "display_data",
          "data": {
            "text/plain": [
              "<Figure size 640x480 with 1 Axes>"
            ],
            "image/png": "[encoded data removed]"
          },
          "metadata": {}
        }
      ],
      "source": [
        "import numpy as np\n",
        "from matplotlib import pyplot as plt\n",
        "\n",
        "%matplotlib inline\n",
        "\n",
        "fig, subplot = plt.subplots()\n",
        "plt.scatter(\n",
        "    np.arange(features.shape[0]),\n",
        "    y\n",
        ")\n",
        "subplot.set_xlabel('День')\n",
        "subplot.set_ylabel('ПРодажи')\n",
        "fig.show()"
      ]
    },
    {
      "cell_type": "markdown",
      "metadata": {
        "id": "wXpLvWrKoxhc"
      },
      "source": [
        "Код для аналитического вычисления коэффициентов линейной регрессии по формуле $\\overline{w} = \\left(X^TX\\right)^{-1}X^T\\overline{y}$\n",
        "\n",
        "#### Самостоятельное задание\n",
        "\n",
        "Реализуйте формулу матричного умножения для вычисления коэффициентов линейной регрессии на языке python"
      ]
    },
    {
      "cell_type": "code",
      "execution_count": 8,
      "metadata": {
        "colab": {
          "base_uri": "https://localhost:8080/"
        },
        "id": "gVOB68Hvoxhd",
        "outputId": "27800489-f418-4d3e-92e1-3eda516241ba"
      },
      "outputs": [
        {
          "output_type": "stream",
          "name": "stdout",
          "text": [
            "Аналитически определённые коэффициенты [0. 0. 0. 0. 0. 0.]\n"
          ]
        }
      ],
      "source": [
        "from numpy.linalg import inv, norm\n",
        "import numpy as np\n",
        "from sklearn.linear_model import LinearRegression\n",
        "from scipy.spatial import distance\n",
        "\n",
        "# вычисляем к-ты линейной регрессии\n",
        "w_analytic = np.zeros(features.shape[1])\n",
        "#-------- ВАШ КОД ТУТ -------------------\n",
        "\n",
        "\n",
        "\n",
        "\n",
        "\n",
        "\n",
        "#----------------------------------------\n",
        "\n",
        "print(f'Аналитически определённые коэффициенты {w_analytic}')"
      ]
    },
    {
      "cell_type": "markdown",
      "metadata": {
        "id": "VA0PBQ-woxhd"
      },
      "source": [
        "На самом деле вся математика уже реализована на python, программировать все операции вручную необязательно"
      ]
    },
    {
      "cell_type": "code",
      "execution_count": null,
      "metadata": {
        "id": "zCA0UcUIoxhd"
      },
      "outputs": [],
      "source": [
        "from numpy.linalg import inv, norm\n",
        "from sklearn.linear_model import LinearRegression\n",
        "\n",
        "# обучаем модель \"из коробки\"\n",
        "reg = LinearRegression().fit(features, y)\n",
        "\n",
        "print(f\"Коэффициенты, вычисленные моделью sklearn {reg.coef_}\")\n",
        "print(f\"Евклидово расстояние между наборами коэффициентов {norm(reg.coef_ - w_analytic)}\\n\")"
      ]
    },
    {
      "cell_type": "markdown",
      "metadata": {
        "id": "wXhTarA-oxhd"
      },
      "source": [
        "Визуализируем решение"
      ]
    },
    {
      "cell_type": "code",
      "execution_count": null,
      "metadata": {
        "id": "qiDEe1dAoxhd"
      },
      "outputs": [],
      "source": [
        "from matplotlib import pyplot as plt\n",
        "\n",
        "%matplotlib inline\n",
        "\n",
        "fig, subplot = plt.subplots()\n",
        "# истинные значения\n",
        "plt.scatter(\n",
        "    np.arange(features.shape[0]),\n",
        "    y, label='train'\n",
        ")\n",
        "# предсказанные значения\n",
        "plt.scatter(\n",
        "    np.arange(features.shape[0]),\n",
        "    reg.predict(features), label='predict'\n",
        ")\n",
        "subplot.legend()\n",
        "subplot.set_xlabel('Индекс объекта недвижимости')\n",
        "subplot.set_ylabel('Цена')\n",
        "fig.show()"
      ]
    },
    {
      "cell_type": "markdown",
      "metadata": {
        "id": "LCqN4Pqqoxhe"
      },
      "source": [
        "Мы реализовали обучение модели линейной регрессии на языке Python, причём полученные коэффициенты в целом совпадают с результатами, полученными с помощью класса `sklearn.linear_model.LinearRegression`, который является обёрткой над [метотодом для численного решения](https://docs.scipy.org/doc/scipy/reference/generated/scipy.linalg.lstsq.html).\n",
        "\n",
        "#### Самостоятельное задание\n",
        "\n",
        "Визуализируйте в виде \"столбиков\" коэффициенты \"из коробки\" и полученные аналитически на одном графике. Для наглядности используйте различную \"прозрачность\" столбиков"
      ]
    },
    {
      "cell_type": "code",
      "execution_count": null,
      "metadata": {
        "id": "EVbXBkZloxhe"
      },
      "outputs": [],
      "source": [
        "#-------- ВАШ КОД ТУТ -------------------\n",
        "\n",
        "\n",
        "\n",
        "\n",
        "\n",
        "#----------------------------------------"
      ]
    },
    {
      "cell_type": "markdown",
      "metadata": {
        "id": "qWsF-5Tloxhe"
      },
      "source": [
        "### Метрики качества линейной регрессии\n",
        "\n",
        "В задачах машинного обучения мы хотим сравнивать несколько моделей машинного обучения и выбирать ту из них, которая наилучшим образом решает нашу задачу. Решение о том, какая модель хорошая, а какая плохая, принимается на основе одной или нескольких *метрик* моделей машинного обучения.\n",
        "\n",
        "Метрики принимают на вход два вектора - предсказания модели и истинные значения, после чего вычисляют по этим векторам качество модели.\n",
        "\n",
        "Несколько метрик лучше, чем одна `¯\\_(ツ)_/¯` . Поэтому обычно для модели смотрят за изменением сразу нескольких метрик - при росте какой-нибудь одной метрики другие не должны просаживаться.\n",
        "\n",
        "Для начала получим два вектора: истинные ответы на обучающей выборке и значения, предсказанные нашеё моделью"
      ]
    },
    {
      "cell_type": "code",
      "execution_count": null,
      "metadata": {
        "id": "KvsykdWjoxhe"
      },
      "outputs": [],
      "source": [
        "y_pred = reg.predict(features)\n",
        "y_true = y"
      ]
    },
    {
      "cell_type": "markdown",
      "metadata": {
        "id": "g7W4csoloxhe"
      },
      "source": [
        "Построим гистрограмму распределения ошибок"
      ]
    },
    {
      "cell_type": "code",
      "execution_count": null,
      "metadata": {
        "id": "HG6TyPCtoxhf"
      },
      "outputs": [],
      "source": [
        "fig, subplot = plt.subplots()\n",
        "\n",
        "subplot.hist(y_pred - y_true)\n",
        "\n",
        "subplot.set_title('Распределение ошибок')\n",
        "subplot.set_xlabel('Величина ошибки')\n",
        "subplot.set_ylabel('Количество таких ошибок')\n",
        "fig.show()"
      ]
    },
    {
      "cell_type": "markdown",
      "metadata": {
        "id": "Cuh7j0zSoxhf"
      },
      "source": [
        "теперь посмотрим, какие метрики подходят для оценки качества линейной регрессии\n",
        "\n",
        "#### RMSE\n",
        "\n",
        "Root Mean Square Error (RMSE) - это базовая метрика для определения качества линейной регрессии\n",
        "\n",
        "$$\n",
        "\\text{RMSE} = \\sqrt{\\frac{1}{n}\\sum_{i=1}^{n}(y_{i}-\\hat{y}_{i})^2}\n",
        "$$\n",
        "\n",
        "Для каждого предсказанного значения $\\hat{y}_i$ мы считаем квадрат отклонения от фактического значения и считаем среднее по полученным величинам"
      ]
    },
    {
      "cell_type": "code",
      "execution_count": null,
      "metadata": {
        "id": "gJvZSgXzoxhf"
      },
      "outputs": [],
      "source": [
        "from sklearn.metrics import mean_squared_error\n",
        "\n",
        "rmse = np.sqrt(mean_squared_error(y_true, y_pred))\n",
        "\n",
        "print('RMSE = %s' % rmse)"
      ]
    },
    {
      "cell_type": "markdown",
      "metadata": {
        "id": "As0d9nRwoxhf"
      },
      "source": [
        "#### Коэффициент детерминации\n",
        "\n",
        "Название - калька английского термина *coefficient of determination*. Наилучшее возможное значение 1.0, чем меньше тем хуже. Само значение коэффициента растёт с ростом числа предикторов - тут следует воспользоваться принципом Оккама - чем меньше используется предикторов при сопоставимом качестве, тем лучше. Коэффициент показывает, насколько условная дисперсия модели отличается от дисперсии реальных значений Y. Если этот коэффициент близок к 1, то условная дисперсия модели достаточно мала и весьма вероятно, что модель неплохо описывает данные.\n",
        "\n",
        "$$\n",
        "R^2 = 1 - \\frac{\\sum_{i=1}^{N}(\\hat{y} - y_i)^2}{\\sum_{i=1}^{N}(y_i-\\overline{y})^2}\n",
        "$$"
      ]
    },
    {
      "cell_type": "code",
      "execution_count": null,
      "metadata": {
        "id": "OD6szbT-oxhg"
      },
      "outputs": [],
      "source": [
        "from sklearn.metrics import r2_score\n",
        "\n",
        "print(\"r2_score = %s\" % r2_score(y_true, y_pred))"
      ]
    },
    {
      "cell_type": "markdown",
      "metadata": {
        "id": "KF4HIJHaoxhg"
      },
      "source": [
        "#### Mean absolute error\n",
        "\n",
        "Для оценки качества регрессии можно использовать среднюю абсолютную ошибку\n",
        "$$\n",
        "MAE = \\frac{1}{N}\\sum_{i=1}\\mid y_i - \\hat{y}\\mid\n",
        "$$"
      ]
    },
    {
      "cell_type": "code",
      "execution_count": null,
      "metadata": {
        "id": "P4pKBQ9aoxhg"
      },
      "outputs": [],
      "source": [
        "from sklearn.metrics import mean_absolute_error\n",
        "\n",
        "print(\"MAE = %s\" % mean_absolute_error(\n",
        "    reg.predict(features), y)\n",
        ")"
      ]
    },
    {
      "cell_type": "markdown",
      "metadata": {
        "id": "98nZfE7toxhg"
      },
      "source": [
        "Про другие ошибки можно почитать в [официальной документации](https://scikit-learn.org/stable/modules/model_evaluation.html#regression-metrics) в разделе про метрики регрессии."
      ]
    },
    {
      "cell_type": "markdown",
      "metadata": {
        "id": "rvTdF7Yioxhh"
      },
      "source": [
        "## Итоги занятия\n",
        "\n",
        "* ML позволяет решать бизнес-задачи\n",
        "* внутри не магия, а очень много математики\n",
        "* все алгоритмы есть в sklearn, самому математику знать необязательно"
      ]
    },
    {
      "cell_type": "markdown",
      "metadata": {
        "id": "mi4vTKskoxhh"
      },
      "source": [
        "# Жизненный цикл ML проекта\n",
        "\n",
        "Мы познакомились с машинным обучением на примере алгоритма регрессии.\n",
        "\n",
        "В бизнесе моделирование - это только маленькая часть проекта по машинному обучению, который состоит из нескольких этапов. Эти этапы описаны в стандарте CRISP-DM"
      ]
    },
    {
      "cell_type": "markdown",
      "metadata": {
        "id": "OWkIVFknoxhh"
      },
      "source": [
        "## Что такое CRISP-DM\n",
        "\n",
        "[CRISP-DM](https://ru.wikipedia.org/wiki/CRISP-DM) (Cross-Industry Standard Process for Data Mining) - это методология развития  проектов с машинным обучением, основные шаги которой представлены на диаграмме\n",
        "\n",
        "![crisp-dm](img/CRISP-DM_Process.jpg)"
      ]
    },
    {
      "cell_type": "markdown",
      "metadata": {
        "id": "y3TGXoAboxhh"
      },
      "source": [
        "## Выявление бизнес-требований\n",
        "\n",
        "Самый важный этап - понимание потребностей бизнеса\n",
        "\n",
        "![business_understanding](img/business_understanding.png)"
      ]
    },
    {
      "cell_type": "markdown",
      "metadata": {
        "id": "DPwrl1Zfoxhh"
      },
      "source": [
        "## Подготовка данных\n",
        "\n",
        "Разбиваем на два этапа:\n",
        "\n",
        "* Обзор доступных данных (data undestanding): EDA (Exploratory data analysis)\n",
        "* Преобразования и структурирование данных (data_preparation): ETL (Extract, transformation, load)\n",
        "\n",
        "![data_understanding.png](img/data_understanding.png)"
      ]
    },
    {
      "cell_type": "markdown",
      "metadata": {
        "id": "y-UrOrTpoxhh"
      },
      "source": [
        "## Обучение модели\n",
        "\n",
        "тут снова два этапа\n",
        "\n",
        "* обучение (Modeling)\n",
        "* оценка качества (Evaluation)"
      ]
    },
    {
      "cell_type": "markdown",
      "metadata": {
        "id": "kUk5q8-goxhi"
      },
      "source": [
        "## Применение модели\n",
        "\n",
        "Выкатывание в продакшн (deployment) - последний этап.\n",
        "\n",
        "На этом этапе поделие выпускается \"в свет\": начинаем мониторить онлайн-метрики"
      ]
    },
    {
      "cell_type": "markdown",
      "metadata": {
        "id": "mtzxAa9xoxhi"
      },
      "source": [
        "## Итоги занятия\n",
        "\n",
        "* ML проекты рождаются, растут и выкатываются в прод\n",
        "* плохо прошёл хотя бы один из этапов - весь проект завалится, потому что они связаны"
      ]
    },
    {
      "cell_type": "markdown",
      "metadata": {
        "id": "RTFck7UHoxhp"
      },
      "source": [
        "# Виды ML задач\n",
        "\n",
        "Алгоритмы машинного обучения можно разделить на несколько больших групп\n",
        "\n",
        "![ml_problems.jpg](img/ml_problems.jpeg)\n",
        "\n",
        "Для наглядности к каждому типу задач ML приведены бизнес-задачи, который алгоритмы этого семейства решают"
      ]
    },
    {
      "cell_type": "markdown",
      "metadata": {
        "id": "2CPrESj-oxhp"
      },
      "source": [
        "## Обучение с учителем (supervised learning)\n",
        "\n",
        "Нужна размеченная выборка\n",
        "\n",
        "### Классификация (classification)\n",
        "\n",
        "Метки дискретные (называются классами)\n",
        "\n",
        "### Регрессия (regression)\n",
        "\n",
        "Метки непрерывные\n",
        "\n",
        "\n",
        "## Обучение без учителя (unsupervised learning)\n",
        "\n",
        "Размечать выборку не нужно\n",
        "\n",
        "### Кластеризация (clustering)\n",
        "\n",
        "Разделить объекты на группы таким образом\n",
        "\n",
        "### Снижение размерности (dimension reduction)\n",
        "\n",
        "снизить количество фичей\n",
        "\n",
        "\n",
        "## Обучение с подкреплением (reinforcement learning)\n",
        "\n",
        "Обучающей выборки не существует. Алгоритм является агентом, который взаимодействует со средой. Если взаимодействие успешное, агент получает вознаграждение, а если неуспешное то штраф."
      ]
    },
    {
      "cell_type": "markdown",
      "metadata": {
        "id": "HVYFgU-0oxhp"
      },
      "source": [
        "# Для самостоятельного изучения\n",
        "\n",
        "* [Введение в ML от Константина Воронцова](http://www.machinelearning.ru/wiki/images/f/fc/Voron-ML-Intro-slides.pdf)\n",
        "* [ML intro от Высшей школы экономики](https://yadi.sk/i/RajIebEkmqgzw)"
      ]
    },
    {
      "cell_type": "code",
      "execution_count": null,
      "metadata": {
        "id": "ZC7FtPNJoxhq"
      },
      "outputs": [],
      "source": []
    }
  ],
  "metadata": {
    "kernelspec": {
      "display_name": "Python 3",
      "language": "python",
      "name": "python3"
    },
    "language_info": {
      "codemirror_mode": {
        "name": "ipython",
        "version": 3
      },
      "file_extension": ".py",
      "mimetype": "text/x-python",
      "name": "python",
      "nbconvert_exporter": "python",
      "pygments_lexer": "ipython3",
      "version": "3.6.9"
    },
    "colab": {
      "provenance": []
    }
  },
  "nbformat": 4,
  "nbformat_minor": 0
}