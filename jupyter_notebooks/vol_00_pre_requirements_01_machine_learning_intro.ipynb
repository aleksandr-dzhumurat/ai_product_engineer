{
 "cells": [
  {
   "cell_type": "markdown",
   "metadata": {
    "id": "fsy4O67AoxhS"
   },
   "source": [
    "# Цель занятия\n",
    "\n",
    "* термины - модели, фичи\n",
    "* знакомство в sklearn\n",
    "\n",
    "\n",
    "# Что такое машинное обучение\n",
    "\n",
    "## Область применения\n",
    "\n",
    "Машинное обучение (от англ. *machine learning*) – это область знаний на стыке линейной алгебры, теории вероятностей и методов оптимизации\n",
    "\n",
    "говорят, что модель обучается на опыте $E$ относительно класса задач $T$ в смысле меры качества $L$, если при решении задачи $T$ качество, измеряемое мерой $L$ , возрастает при демонстрации нового опыта $D$.\n",
    "\n",
    "Говоря простым языком, если правльным образом разработать процесс анализа поступающих в систему машинного обучения данных, то система сможет проводить аналогичную обработку без участия разработчика."
   ]
  },
  {
   "cell_type": "markdown",
   "metadata": {
    "id": "VNJqQ01ZoxhU"
   },
   "source": [
    "Алгоритмы ML используются везде, где нужно автоматизировано (т.е. в большом количестве) принимать решения:\n",
    "\n",
    "* вычисление спам-писем в почте\n",
    "* рекомендации товаров в онлайн-ритейле (\"с этим товаром покупают\")\n",
    "* подбор музыки на основании вкусов пользователя\n",
    "* детекция эротических или жестоких сцен в видео контенте\n",
    "\n",
    "Зачем нужно разрабатывать ML проекты, когда в каждой из областей есть экспертные знания?\n",
    "\n",
    "* сложно придумать правила  в понятном человеку виде (например, распознавание изображений)\n",
    "* эвристики устаревают и нужно придумывать новые (борьба со спамом - непрерывный процесс)"
   ]
  },
  {
   "cell_type": "markdown",
   "metadata": {
    "id": "1Xa0uV82oxhV"
   },
   "source": [
    "## Неформальное определение\n",
    "\n",
    "Допустим, вы хотите решить какую-то задачу (например, выявление спам-смс) с помощью ML. Независимо от доменной области ML проект проходит следующие этапы:\n",
    "\n",
    "1. Выгрузка *обучающей выборки* (например, набор смс)\n",
    "1. Разметка обучающей выборки (отметить те, которые являются спамом). Хотя некоторые алгоритмы могут работать и без разметки.\n",
    "1. Выбираем метрику качества решения задачи (долю точно определённых спам-смс)\n",
    "1. Каждый объект выборки описываем некоторыми признаками, которые называются фичами (признаками) (фичами смс могут стать входящие в него слова)\n",
    "1. Настраиваем выбранную модель машинного обучения наилучшим образом (тут поможет метрика) решать поставленную задачу\n",
    "\n",
    "Давайте пройдём по пути создания модели машинного обучения для задачи предсказания цены на недвижимость с помощью машинного обучения."
   ]
  },
  {
   "cell_type": "markdown",
   "metadata": {
    "id": "kS5GZMSVoxhV"
   },
   "source": [
    "## Пример: предсказываем цены на недвижимость\n",
    "\n",
    "Предсказывать цены не недвижимость будем с помощью модели [линейной регрессии](https://ru.wikipedia.org/wiki/%D0%9B%D0%B8%D0%BD%D0%B5%D0%B9%D0%BD%D0%B0%D1%8F_%D1%80%D0%B5%D0%B3%D1%80%D0%B5%D1%81%D1%81%D0%B8%D1%8F)\n",
    "\n",
    "### Знакомство с machine learning: линейная регрессия\n",
    "\n",
    "Линейная регрессия относится в задачам обучения с учителем: опыт $D$ (который в ML называют *обучающей выборкой*) в нашем случае - это набор пар $x_i, y_i$ таких, что\n",
    "\n",
    "$$\n",
    "D = \\{(x_i, y_i) \\}_{i=\\overline{1,N}}\n",
    "$$\n",
    "\n",
    "Где $y_i$ - это \"правильный\" ответ(цена недвижимости) на обучающем примере $x_i$ (конкретный объект недвижимости из обучающей выборки), а $N$ - количество обучающих примеров. В задаче линейной регрессии $y \\in R$, то есть предсказываь нужно  непрерывную *скалярную* случайную величину.\n",
    "\n",
    "Каждый объект $x_i$ является совокупностью признаков (англ *features*, фичи) $x_i^1,\\ldots, x_i^k$. Размерность признакового пространства может быть разной, т.е. $x_i \\in R^k$, где $k$ может принимать значения от 1 (в задаче прогнозирования роста человека по его весу) до десятков тысяч (например, в задаче анализа текстов)."
   ]
  },
  {
   "cell_type": "markdown",
   "metadata": {
    "id": "8eTDGv1toxhW"
   },
   "source": [
    "#### Отступление: какие фичи бывают\n",
    "\n",
    "* бинарные (boolean): True/False, 1/0\n",
    "* категориальные (categorical), иногда говорят дискретные: сутки можно разделить на три категориальных фичи (`morning`, `day` `night`)\n",
    "* непрерывные (numerical): количество звонков поступающих в коллцентр\n",
    "\n",
    "Выявить в задаче \"сильные\" фичи - это 90% успеха в решении.\n",
    "\n",
    "Про то, как придумывать фичи есть годная [статья на хабре](https://habr.com/ru/company/ods/blog/325422/)"
   ]
  },
  {
   "cell_type": "markdown",
   "metadata": {
    "id": "-paJD6OboxhW"
   },
   "source": [
    "Модель машинного обучения в общем случае  - это семейство алгоритмов $h(x, \\theta): X \\times \\Theta \\rightarrow Y$. Процесс машинного обучения сводится к тому, чтобы по опыту (обучающей выборке) $D$ подобрать такую функцию $h(\\cdot)$, что мера качества $L$ будет максимальной, т.е. из семейства алгоритмов нам нужно выбрать один конкретный пример.\n",
    "\n",
    "Обычно задачу машинного обучения сводят к задаче минимизации эмпирического риска $Q(h(x, \\theta), D)$ где\n",
    "$$\n",
    "Q_{\\text{emp}}(h) = \\frac{1}{N}\\sum_{i=1}^{N}L(h(x_i, \\theta), y_i)\n",
    "$$\n",
    "\n",
    "Тогда мы находим лучшую модель $\\hat{h}$ из семейства $h$ как  \n",
    "$$\n",
    "\\hat{h} = \\arg\\min Q_{\\text{emp}}(h, \\theta)\n",
    "$$\n",
    "\n",
    "Точка минимума эмпирического риска является решением уравнения\n",
    "$$\n",
    "\\frac{\\partial Q_{\\text{emp}}}{\\partial h} = 0\n",
    "$$"
   ]
  },
  {
   "cell_type": "markdown",
   "metadata": {
    "id": "5cZ3CEIroxhX"
   },
   "source": [
    "Задача *линейной* регресии: восстановить на функцию $h(x_i)$ в виде *линейной комбинации* (т.е. сумма с некоторыми весами \"важности\") признаков объекта. Сами признаки называются *предикторами*:\n",
    "$$\n",
    "\\forall x_i: h(x) = w_0 + w_1x_i^1 + \\ldots + w_nx_i^n = \\sum_{j=1}^{n}w_jx_i^j = \\overline{x}_i^T\\overline{w}\n",
    "$$\n",
    "\n",
    "Мера качества $L$ для задачи регрессии - квадрат разности между фактическим значением и прогнозом.\n",
    "$$\n",
    "L(h(x_i, \\theta), y_i) = \\left(y_i - h(x_i, \\theta)\\right)^2 = \\left(y_i -  \\sum_{j=1}^{n}w_jx_i^j\\right)^2\n",
    "$$\n",
    "\n",
    "Тогда эмпирический риск вычисляется по формуле:\n",
    "$$\n",
    "Q_{\\text{emp}} = \\frac{1}{N}\\sum_{i=1}^{N}(y_i - \\hat{y_i})^2 = \\frac{1}{N}\\sum_{i=1}^{N}(y_i - \\overline{x}_i^T\\overline{w})^2 = \\frac{1}{2N}||\\overline{Y}-\\overline{X}^T\\overline{w}||^2 = \\frac{1}{2N}\\left(\\overline{Y}-\\overline{X}^T\\overline{w}\\right)^T\\left(\\overline{Y}-\\overline{X}^T\\overline{w}\\right)\n",
    "$$"
   ]
  },
  {
   "cell_type": "markdown",
   "metadata": {
    "id": "y_IK8Io8oxhY"
   },
   "source": [
    "\n",
    "Такой вид функции потерь называется RSS - *resudal squares sum*, на русский переводится как *остаточная сумма квадратов*.\n",
    "\n",
    "Где $\\hat{y_i}$ - ответ нашего алгоритма машинного обучения $h(x, \\theta)$ на примере $x_i$. Чем больше значение $L$ (т.е. чем ближе оно к нулю, т.к. берём со знаком минус) тем лучше наша модель повторяет опыт $X \\in m \\times n$ где m - количество примеров в обучающей выборке, а $m$ - размерность пространства признаков. $w$ - это вектор параметров модели, который хотим обучить.\n",
    "\n",
    "Мимнимум эмпирического риска можно найти аналитически, он достигается в точке\n",
    "$$\n",
    "\\overline{w} = \\left(X^TX\\right)^{-1}X^T\\overline{y}\n",
    "$$\n",
    "\n",
    "Реализуем функцию для обучения линейной регрессии на python.\n",
    "\n",
    "\n",
    "### Подгружаем данные\n",
    "\n",
    "Для начала скопируйте в корень гугл диска (своего) директорию с данными https://drive.google.com/drive/folders/1f0xJzIxfsfI_QbE6VB82W7xkcxTipgkP?usp=sharing"
   ]
  },
  {
   "cell_type": "code",
   "execution_count": 1,
   "metadata": {
    "colab": {
     "base_uri": "https://localhost:8080/"
    },
    "id": "UCnb7-IZpeVb",
    "outputId": "d9f8ca4f-4008-4e4f-a5e3-1bd40d38136f"
   },
   "outputs": [
    {
     "name": "stdout",
     "output_type": "stream",
     "text": [
      "['client_segmentation.csv', 'messages.db', 'labeled_data_corpus.csv', 'content_description.csv', 'nltk_data', 'content_catalog.zip', 'user_item_views.zip', 'pipelines-data', 'zinc_data', 'model.cb', 'content_views.csv.gz', 'nltk-data', 'Health_and_Personal_Care.jsonl.gz', 'geo_points.csv.gzip', 'clustering.pkl', 'eigen.pkl', 'boosting_toy_dataset.csv', 'mlflow', 'test_dataset.pkl', 'models', 'ground_truth_dataset.pkl', 'minio', 'rtb_classification_data.csv.gz', 'final_dataset.zip', 'content_views.csv', 'logs', 'ocr_dataset.zip', 'content_description.csv.gz', 'task.csv', 'scored_corpus.csv', 'meta_Health_and_Personal_Care.jsonl.gz', 'best_model.cb', 'brand_tweets.csv', 'brand_tweets_valid.csv']\n",
      "Содержимое директории /Users/adzhumurat/PycharmProjects/ai_product_engineer/data: ['client_segmentation.csv', 'messages.db', 'labeled_data_corpus.csv', 'content_description.csv', 'nltk_data', 'content_catalog.zip', 'user_item_views.zip', 'pipelines-data', 'zinc_data', 'model.cb', 'content_views.csv.gz', 'nltk-data', 'Health_and_Personal_Care.jsonl.gz', 'geo_points.csv.gzip', 'clustering.pkl', 'eigen.pkl', 'boosting_toy_dataset.csv', 'mlflow', 'test_dataset.pkl', 'models', 'ground_truth_dataset.pkl', 'minio', 'rtb_classification_data.csv.gz', 'final_dataset.zip', 'content_views.csv', 'logs', 'ocr_dataset.zip', 'content_description.csv.gz', 'task.csv', 'scored_corpus.csv', 'meta_Health_and_Personal_Care.jsonl.gz', 'best_model.cb', 'brand_tweets.csv', 'brand_tweets_valid.csv']\n"
     ]
    }
   ],
   "source": [
    "import logging\n",
    "import os\n",
    "import sys\n",
    "import shutil\n",
    "\n",
    "import numpy as np\n",
    "\n",
    "RANDOM_SEED = 42\n",
    "np.random.seed(RANDOM_SEED)  # гарантируем воспроизводимость\n",
    "\n",
    "run_env = os.getenv('RUN_ENV', 'COLLAB')\n",
    "if run_env == 'COLLAB':\n",
    "  from google.colab import drive\n",
    "  ROOT_DIR = '/content/drive'\n",
    "  drive.mount(ROOT_DIR)\n",
    "  print('Google drive connected')\n",
    "  root_data_dir = os.path.join(ROOT_DIR, 'MyDrive', 'ml_course_data')\n",
    "  sys.path.append(os.path.join(ROOT_DIR, 'MyDrive', 'src'))\n",
    "else:\n",
    "  root_data_dir = os.getenv('DATA_DIR', '/srv/data')\n",
    "\n",
    "print(os.listdir(root_data_dir))\n",
    "\n",
    "if not os.path.exists(root_data_dir):\n",
    "  raise RuntimeError('Отсутствует директория с данными')\n",
    "else:\n",
    "  print('Содержимое директории %s: %s' % (root_data_dir, os.listdir(root_data_dir)))"
   ]
  },
  {
   "cell_type": "code",
   "execution_count": 3,
   "metadata": {
    "colab": {
     "base_uri": "https://localhost:8080/"
    },
    "id": "ahJ5SWbOoxha",
    "outputId": "5bbdf31c-5b5c-4c34-ba42-2b23e7f045eb"
   },
   "outputs": [
    {
     "name": "stdout",
     "output_type": "stream",
     "text": [
      "Фичи\n",
      "[[  713.         28086.1        35896.57857143 32894.7\n",
      "  29984.71        2909.99      ]\n",
      " [  914.         33842.85       36032.02857143 34254.63\n",
      "  37121.96       -2867.33      ]\n",
      " [ 1169.         43853.89       37403.35142857 53815.46\n",
      "  43101.19       10714.27      ]\n",
      " [ 1107.         45753.27       36251.61       41043.85\n",
      "  43549.01       -2505.16      ]]\n",
      "\n",
      "Целевая переменная y\n",
      "[33842.85 43853.89 45753.27 43931.43 30419.51 30432.31 29013.9  31967.8\n",
      " 41587.55 55728.61]\n",
      "\n",
      "Размерность матрицы объеуты-признаки (47, 6)\n",
      "\n",
      "текстовое описание датасета QTy, NetSales_Previous_Day, Avg_Sale_Previous_Week, Sales_This_Day_Last_Week, Sales_This_Day_Week_Before_Last, Diff_Sales_This_Day_Last_Week_And_Week_Before_Last\n"
     ]
    }
   ],
   "source": [
    "from utils import load_sales\n",
    "\n",
    "sales_dataset = load_sales(root_data_dir)\n",
    "\n",
    "features = sales_dataset.data # матрица X\n",
    "y = sales_dataset.target # таргет (целевая переменная)\n",
    "\n",
    "print('Фичи')\n",
    "print(features[:4])\n",
    "print('\\nЦелевая переменная y')\n",
    "print(y[:10])\n",
    "print()\n",
    "print(f'Размерность матрицы объеуты-признаки {features.shape}')\n",
    "print()\n",
    "print(f\"текстовое описание датасета {sales_dataset.DESCR}\")"
   ]
  },
  {
   "cell_type": "markdown",
   "metadata": {
    "id": "PcBcdwVKoxhc"
   },
   "source": [
    "Визуализируем целевую переменную в виде диаграмы рассеяния"
   ]
  },
  {
   "cell_type": "code",
   "execution_count": 4,
   "metadata": {
    "colab": {
     "base_uri": "https://localhost:8080/",
     "height": 449
    },
    "id": "Ucb05i9Uoxhc",
    "outputId": "fdb5e9b6-ac3d-4793-c9e9-9aae4bf8f02d"
   },
   "outputs": [
    {
     "name": "stderr",
     "output_type": "stream",
     "text": [
      "/var/folders/bd/bg2rzktd7cl7_q4_11m4dx7r0000gn/T/ipykernel_78539/1635718260.py:13: UserWarning: FigureCanvasAgg is non-interactive, and thus cannot be shown\n",
      "  fig.show()\n"
     ]
    },
    {
     "data": {
      "image/png": "[encoded data removed]",
      "text/plain": [
       "<Figure size 640x480 with 1 Axes>"
      ]
     },
     "metadata": {},
     "output_type": "display_data"
    }
   ],
   "source": [
    "import numpy as np\n",
    "from matplotlib import pyplot as plt\n",
    "\n",
    "%matplotlib inline\n",
    "\n",
    "fig, subplot = plt.subplots()\n",
    "plt.scatter(\n",
    "    np.arange(features.shape[0]),\n",
    "    y\n",
    ")\n",
    "subplot.set_xlabel('День')\n",
    "subplot.set_ylabel('Продажи')\n",
    "fig.show()"
   ]
  },
  {
   "cell_type": "markdown",
   "metadata": {
    "id": "VA0PBQ-woxhd"
   },
   "source": [
    "В теоретическом разделе много формул, но к счастью вся математика уже реализована на python, программировать все операции вручную необязательно"
   ]
  },
  {
   "cell_type": "code",
   "execution_count": 5,
   "metadata": {
    "colab": {
     "base_uri": "https://localhost:8080/"
    },
    "id": "zCA0UcUIoxhd",
    "outputId": "dfbda946-2715-43e1-fa4f-686007170873"
   },
   "outputs": [
    {
     "name": "stdout",
     "output_type": "stream",
     "text": [
      "Коэффициенты, вычисленные моделью sklearn [ 2.60638883e+01 -6.61105470e-02 -2.61133512e-01 -3.23008980e+13\n",
      "  3.23008980e+13  3.23008980e+13]\n"
     ]
    }
   ],
   "source": [
    "from numpy.linalg import inv, norm\n",
    "from sklearn.linear_model import LinearRegression\n",
    "\n",
    "# обучаем модель \"из коробки\"\n",
    "reg = LinearRegression().fit(features, y)\n",
    "\n",
    "print(f\"Коэффициенты, вычисленные моделью sklearn {reg.coef_}\")"
   ]
  },
  {
   "cell_type": "markdown",
   "metadata": {
    "id": "wXhTarA-oxhd"
   },
   "source": [
    "Визуализируем решение"
   ]
  },
  {
   "cell_type": "code",
   "execution_count": 6,
   "metadata": {
    "colab": {
     "base_uri": "https://localhost:8080/",
     "height": 449
    },
    "id": "qiDEe1dAoxhd",
    "outputId": "3f02626b-dea0-4506-b6d7-ee7e398caeed"
   },
   "outputs": [
    {
     "name": "stderr",
     "output_type": "stream",
     "text": [
      "/var/folders/bd/bg2rzktd7cl7_q4_11m4dx7r0000gn/T/ipykernel_78539/2473106303.py:19: UserWarning: FigureCanvasAgg is non-interactive, and thus cannot be shown\n",
      "  fig.show()\n"
     ]
    },
    {
     "data": {
      "image/png": "[encoded data removed]",
      "text/plain": [
       "<Figure size 640x480 with 1 Axes>"
      ]
     },
     "metadata": {},
     "output_type": "display_data"
    }
   ],
   "source": [
    "from matplotlib import pyplot as plt\n",
    "\n",
    "%matplotlib inline\n",
    "\n",
    "fig, subplot = plt.subplots()\n",
    "# истинные значения\n",
    "plt.scatter(\n",
    "    np.arange(features.shape[0]),\n",
    "    y, label='train'\n",
    ")\n",
    "# предсказанные значения\n",
    "plt.scatter(\n",
    "    np.arange(features.shape[0]),\n",
    "    reg.predict(features), label='predict'\n",
    ")\n",
    "subplot.legend()\n",
    "subplot.set_xlabel('Индекс объекта недвижимости')\n",
    "subplot.set_ylabel('Цена')\n",
    "fig.show()"
   ]
  },
  {
   "cell_type": "markdown",
   "metadata": {
    "id": "qWsF-5Tloxhe"
   },
   "source": [
    "### Метрики качества линейной регрессии\n",
    "\n",
    "В задачах машинного обучения мы хотим сравнивать несколько моделей машинного обучения и выбирать ту из них, которая наилучшим образом решает нашу задачу. Решение о том, какая модель хорошая, а какая плохая, принимается на основе одной или нескольких *метрик* моделей машинного обучения.\n",
    "\n",
    "Метрики принимают на вход два вектора - предсказания модели и истинные значения, после чего вычисляют по этим векторам качество модели.\n",
    "\n",
    "Несколько метрик лучше, чем одна `¯\\_(ツ)_/¯` . Поэтому обычно для модели смотрят за изменением сразу нескольких метрик - при росте какой-нибудь одной метрики другие не должны просаживаться.\n",
    "\n",
    "Для начала получим два вектора: истинные ответы на обучающей выборке и значения, предсказанные нашеё моделью"
   ]
  },
  {
   "cell_type": "code",
   "execution_count": 7,
   "metadata": {
    "id": "KvsykdWjoxhe"
   },
   "outputs": [],
   "source": [
    "y_pred = reg.predict(features)\n",
    "y_true = y"
   ]
  },
  {
   "cell_type": "markdown",
   "metadata": {
    "id": "g7W4csoloxhe"
   },
   "source": [
    "Построим гистрограмму распределения ошибок"
   ]
  },
  {
   "cell_type": "code",
   "execution_count": 8,
   "metadata": {
    "colab": {
     "base_uri": "https://localhost:8080/",
     "height": 472
    },
    "id": "HG6TyPCtoxhf",
    "outputId": "a2bde9d5-0209-4ebb-b802-dd68afa3e20a"
   },
   "outputs": [
    {
     "name": "stderr",
     "output_type": "stream",
     "text": [
      "/var/folders/bd/bg2rzktd7cl7_q4_11m4dx7r0000gn/T/ipykernel_78539/440621352.py:8: UserWarning: FigureCanvasAgg is non-interactive, and thus cannot be shown\n",
      "  fig.show()\n"
     ]
    },
    {
     "data": {
      "image/png": "[encoded data removed]",
      "text/plain": [
       "<Figure size 640x480 with 1 Axes>"
      ]
     },
     "metadata": {},
     "output_type": "display_data"
    }
   ],
   "source": [
    "fig, subplot = plt.subplots()\n",
    "\n",
    "subplot.hist(y_pred - y_true)\n",
    "\n",
    "subplot.set_title('Распределение ошибок')\n",
    "subplot.set_xlabel('Величина ошибки')\n",
    "subplot.set_ylabel('Количество таких ошибок')\n",
    "fig.show()"
   ]
  },
  {
   "cell_type": "markdown",
   "metadata": {
    "id": "Cuh7j0zSoxhf"
   },
   "source": [
    "теперь посмотрим, какие метрики подходят для оценки качества линейной регрессии\n",
    "\n",
    "#### RMSE\n",
    "\n",
    "Root Mean Square Error (RMSE) - это базовая метрика для определения качества линейной регрессии\n",
    "\n",
    "$$\n",
    "\\text{RMSE} = \\sqrt{\\frac{1}{n}\\sum_{i=1}^{n}(y_{i}-\\hat{y}_{i})^2}\n",
    "$$\n",
    "\n",
    "Для каждого предсказанного значения $\\hat{y}_i$ мы считаем квадрат отклонения от фактического значения и считаем среднее по полученным величинам"
   ]
  },
  {
   "cell_type": "code",
   "execution_count": 9,
   "metadata": {
    "colab": {
     "base_uri": "https://localhost:8080/"
    },
    "id": "gJvZSgXzoxhf",
    "outputId": "9e967c67-495b-4e82-c426-4771fbc5f1ec"
   },
   "outputs": [
    {
     "name": "stdout",
     "output_type": "stream",
     "text": [
      "RMSE = 1924.4954832572828\n"
     ]
    }
   ],
   "source": [
    "from sklearn.metrics import mean_squared_error\n",
    "\n",
    "rmse = np.sqrt(mean_squared_error(y_true, y_pred))\n",
    "\n",
    "print('RMSE = %s' % rmse)"
   ]
  },
  {
   "cell_type": "markdown",
   "metadata": {
    "id": "As0d9nRwoxhf"
   },
   "source": [
    "#### Коэффициент детерминации\n",
    "\n",
    "Название - калька английского термина *coefficient of determination*. Наилучшее возможное значение 1.0, чем меньше тем хуже. Само значение коэффициента растёт с ростом числа предикторов - тут следует воспользоваться принципом Оккама - чем меньше используется предикторов при сопоставимом качестве, тем лучше. Коэффициент показывает, насколько условная дисперсия модели отличается от дисперсии реальных значений Y. Если этот коэффициент близок к 1, то условная дисперсия модели достаточно мала и весьма вероятно, что модель неплохо описывает данные.\n",
    "\n",
    "$$\n",
    "R^2 = 1 - \\frac{\\sum_{i=1}^{N}(\\hat{y} - y_i)^2}{\\sum_{i=1}^{N}(y_i-\\overline{y})^2}\n",
    "$$"
   ]
  },
  {
   "cell_type": "code",
   "execution_count": 10,
   "metadata": {
    "colab": {
     "base_uri": "https://localhost:8080/"
    },
    "id": "OD6szbT-oxhg",
    "outputId": "36226098-b5cf-445b-f42c-b176fa7fe3bc"
   },
   "outputs": [
    {
     "name": "stdout",
     "output_type": "stream",
     "text": [
      "r2_score = 0.9621016716280423\n"
     ]
    }
   ],
   "source": [
    "from sklearn.metrics import r2_score\n",
    "\n",
    "print(\"r2_score = %s\" % r2_score(y_true, y_pred))"
   ]
  },
  {
   "cell_type": "markdown",
   "metadata": {
    "id": "KF4HIJHaoxhg"
   },
   "source": [
    "#### Mean absolute error\n",
    "\n",
    "Для оценки качества регрессии можно использовать среднюю абсолютную ошибку\n",
    "$$\n",
    "MAE = \\frac{1}{N}\\sum_{i=1}\\mid y_i - \\hat{y}\\mid\n",
    "$$"
   ]
  },
  {
   "cell_type": "code",
   "execution_count": 11,
   "metadata": {
    "colab": {
     "base_uri": "https://localhost:8080/"
    },
    "id": "P4pKBQ9aoxhg",
    "outputId": "ee356580-f7ca-4d27-b80e-6a61e6bfb566"
   },
   "outputs": [
    {
     "name": "stdout",
     "output_type": "stream",
     "text": [
      "MAE = 1414.185903123585\n"
     ]
    }
   ],
   "source": [
    "from sklearn.metrics import mean_absolute_error\n",
    "\n",
    "print(\"MAE = %s\" % mean_absolute_error(\n",
    "    reg.predict(features), y)\n",
    ")"
   ]
  },
  {
   "cell_type": "markdown",
   "metadata": {
    "id": "98nZfE7toxhg"
   },
   "source": [
    "Про другие ошибки можно почитать в [официальной документации](https://scikit-learn.org/stable/modules/model_evaluation.html#regression-metrics) в разделе про метрики регрессии."
   ]
  },
  {
   "cell_type": "markdown",
   "metadata": {
    "id": "nqQW_7WZfqnr"
   },
   "source": [
    "# Трансформации фичей\n",
    "\n",
    "\n",
    "Числовые фичи - тут понятно, как работает математика\n",
    "\n",
    "\n",
    "\n",
    "Будем использовать датасет по стоимости страховых услуг - подробнее см. [соревнование на Kaggle](https://www.kaggle.com/mirichoi0218/insurance)"
   ]
  },
  {
   "cell_type": "code",
   "execution_count": 13,
   "metadata": {
    "colab": {
     "base_uri": "https://localhost:8080/",
     "height": 206
    },
    "id": "DZPhvQJDfq-5",
    "outputId": "84e3cc88-1fe1-4a89-8e97-a7a1cb0f1776"
   },
   "outputs": [
    {
     "data": {
      "text/html": [
       "<div>\n",
       "<style scoped>\n",
       "    .dataframe tbody tr th:only-of-type {\n",
       "        vertical-align: middle;\n",
       "    }\n",
       "\n",
       "    .dataframe tbody tr th {\n",
       "        vertical-align: top;\n",
       "    }\n",
       "\n",
       "    .dataframe thead th {\n",
       "        text-align: right;\n",
       "    }\n",
       "</style>\n",
       "<table border=\"1\" class=\"dataframe\">\n",
       "  <thead>\n",
       "    <tr style=\"text-align: right;\">\n",
       "      <th></th>\n",
       "      <th>age</th>\n",
       "      <th>sex</th>\n",
       "      <th>bmi</th>\n",
       "      <th>children</th>\n",
       "      <th>smoker</th>\n",
       "      <th>region</th>\n",
       "      <th>charges</th>\n",
       "    </tr>\n",
       "  </thead>\n",
       "  <tbody>\n",
       "    <tr>\n",
       "      <th>0</th>\n",
       "      <td>19</td>\n",
       "      <td>female</td>\n",
       "      <td>27.900</td>\n",
       "      <td>0</td>\n",
       "      <td>yes</td>\n",
       "      <td>southwest</td>\n",
       "      <td>16884.92400</td>\n",
       "    </tr>\n",
       "    <tr>\n",
       "      <th>1</th>\n",
       "      <td>18</td>\n",
       "      <td>male</td>\n",
       "      <td>33.770</td>\n",
       "      <td>1</td>\n",
       "      <td>no</td>\n",
       "      <td>southeast</td>\n",
       "      <td>1725.55230</td>\n",
       "    </tr>\n",
       "    <tr>\n",
       "      <th>2</th>\n",
       "      <td>28</td>\n",
       "      <td>male</td>\n",
       "      <td>33.000</td>\n",
       "      <td>3</td>\n",
       "      <td>no</td>\n",
       "      <td>southeast</td>\n",
       "      <td>4449.46200</td>\n",
       "    </tr>\n",
       "    <tr>\n",
       "      <th>3</th>\n",
       "      <td>33</td>\n",
       "      <td>male</td>\n",
       "      <td>22.705</td>\n",
       "      <td>0</td>\n",
       "      <td>no</td>\n",
       "      <td>northwest</td>\n",
       "      <td>21984.47061</td>\n",
       "    </tr>\n",
       "    <tr>\n",
       "      <th>4</th>\n",
       "      <td>32</td>\n",
       "      <td>male</td>\n",
       "      <td>28.880</td>\n",
       "      <td>0</td>\n",
       "      <td>no</td>\n",
       "      <td>northwest</td>\n",
       "      <td>3866.85520</td>\n",
       "    </tr>\n",
       "  </tbody>\n",
       "</table>\n",
       "</div>"
      ],
      "text/plain": [
       "   age     sex     bmi  children smoker     region      charges\n",
       "0   19  female  27.900         0    yes  southwest  16884.92400\n",
       "1   18    male  33.770         1     no  southeast   1725.55230\n",
       "2   28    male  33.000         3     no  southeast   4449.46200\n",
       "3   33    male  22.705         0     no  northwest  21984.47061\n",
       "4   32    male  28.880         0     no  northwest   3866.85520"
      ]
     },
     "execution_count": 13,
     "metadata": {},
     "output_type": "execute_result"
    }
   ],
   "source": [
    "import os\n",
    "import pandas as pd\n",
    "\n",
    "insurance_df = pd.read_csv(os.path.join(root_data_dir, 'insurance.csv'))\n",
    "\n",
    "insurance_df.head()"
   ]
  },
  {
   "cell_type": "markdown",
   "metadata": {
    "id": "cFwWpxvpglqc"
   },
   "source": [
    "Наш таргет (целевая переменная) находится в столбце `charges`\n",
    "\n",
    "Визуализируем переменную с помощью `.scatter`"
   ]
  },
  {
   "cell_type": "code",
   "execution_count": 14,
   "metadata": {
    "colab": {
     "base_uri": "https://localhost:8080/",
     "height": 449
    },
    "id": "QIprtFQ4f73H",
    "outputId": "22934db0-8bc9-4cfd-c509-3e3bc34f4f7e"
   },
   "outputs": [
    {
     "name": "stderr",
     "output_type": "stream",
     "text": [
      "/var/folders/bd/bg2rzktd7cl7_q4_11m4dx7r0000gn/T/ipykernel_78539/609032947.py:15: UserWarning: FigureCanvasAgg is non-interactive, and thus cannot be shown\n",
      "  fig.show()\n"
     ]
    },
    {
     "data": {
      "image/png": "[encoded data removed]",
      "text/plain": [
       "<Figure size 640x480 with 1 Axes>"
      ]
     },
     "metadata": {},
     "output_type": "display_data"
    }
   ],
   "source": [
    "import numpy as np\n",
    "from matplotlib import pyplot as plt\n",
    "\n",
    "%matplotlib inline\n",
    "\n",
    "y = insurance_df['charges']\n",
    "\n",
    "fig, subplot = plt.subplots()\n",
    "plt.scatter(\n",
    "    np.arange(len(y)),\n",
    "    y\n",
    ")\n",
    "subplot.set_xlabel('Индекс клиента')\n",
    "subplot.set_ylabel('Цена')\n",
    "fig.show()"
   ]
  },
  {
   "cell_type": "markdown",
   "metadata": {
    "id": "3aifXDm23Rjo"
   },
   "source": [
    "Получается не очень наглядно - попробуем визуализировать с помощью метода `.hist()` который реализован в pandas"
   ]
  },
  {
   "cell_type": "code",
   "execution_count": 15,
   "metadata": {
    "colab": {
     "base_uri": "https://localhost:8080/",
     "height": 448
    },
    "id": "bNZAxn9yf75f",
    "outputId": "0a1855d4-b2c5-4449-84dc-17126917377a"
   },
   "outputs": [
    {
     "data": {
      "text/plain": [
       "<Axes: >"
      ]
     },
     "execution_count": 15,
     "metadata": {},
     "output_type": "execute_result"
    },
    {
     "data": {
      "image/png": "[encoded data removed]",
      "text/plain": [
       "<Figure size 640x480 with 1 Axes>"
      ]
     },
     "metadata": {},
     "output_type": "display_data"
    }
   ],
   "source": [
    "y.hist()"
   ]
  },
  {
   "cell_type": "markdown",
   "metadata": {
    "id": "jAldkype3WQx"
   },
   "source": [
    "Для каждого объекта построим предсказания с помощью модели линейной регрессии. Воспользуемся как чёрным ящиком питоновским объектом из бибилиотеки [sklearn](https://scikit-learn.org/stable/)\n",
    "\n",
    "Модели машинного обучения не могут работать с текстом напрямую (вспоминаем лекцию) - а у нас много текстовых полей, их нужно трансформировать в числа - воспользуемся классом `sklearn.preprocessing.LabelEncoder` из библиотеки sklearn\n",
    "\n",
    "Чтобы преобразовать колонку в текст нужно воспользоватьеся методом [.fit_transform()](https://scikit-learn.org/stable/modules/generated/sklearn.preprocessing.LabelEncoder.html#sklearn.preprocessing.LabelEncoder.fit_transform)"
   ]
  },
  {
   "cell_type": "code",
   "execution_count": 16,
   "metadata": {
    "colab": {
     "base_uri": "https://localhost:8080/",
     "height": 206
    },
    "id": "3e_fcdcof779",
    "outputId": "6869f3fc-3fdf-4457-e818-e4b594405b37"
   },
   "outputs": [
    {
     "data": {
      "text/html": [
       "<div>\n",
       "<style scoped>\n",
       "    .dataframe tbody tr th:only-of-type {\n",
       "        vertical-align: middle;\n",
       "    }\n",
       "\n",
       "    .dataframe tbody tr th {\n",
       "        vertical-align: top;\n",
       "    }\n",
       "\n",
       "    .dataframe thead th {\n",
       "        text-align: right;\n",
       "    }\n",
       "</style>\n",
       "<table border=\"1\" class=\"dataframe\">\n",
       "  <thead>\n",
       "    <tr style=\"text-align: right;\">\n",
       "      <th></th>\n",
       "      <th>age</th>\n",
       "      <th>sex</th>\n",
       "      <th>bmi</th>\n",
       "      <th>children</th>\n",
       "      <th>smoker</th>\n",
       "      <th>region</th>\n",
       "      <th>charges</th>\n",
       "    </tr>\n",
       "  </thead>\n",
       "  <tbody>\n",
       "    <tr>\n",
       "      <th>0</th>\n",
       "      <td>19</td>\n",
       "      <td>0</td>\n",
       "      <td>27.900</td>\n",
       "      <td>0</td>\n",
       "      <td>1</td>\n",
       "      <td>3</td>\n",
       "      <td>16884.92400</td>\n",
       "    </tr>\n",
       "    <tr>\n",
       "      <th>1</th>\n",
       "      <td>18</td>\n",
       "      <td>1</td>\n",
       "      <td>33.770</td>\n",
       "      <td>1</td>\n",
       "      <td>0</td>\n",
       "      <td>2</td>\n",
       "      <td>1725.55230</td>\n",
       "    </tr>\n",
       "    <tr>\n",
       "      <th>2</th>\n",
       "      <td>28</td>\n",
       "      <td>1</td>\n",
       "      <td>33.000</td>\n",
       "      <td>3</td>\n",
       "      <td>0</td>\n",
       "      <td>2</td>\n",
       "      <td>4449.46200</td>\n",
       "    </tr>\n",
       "    <tr>\n",
       "      <th>3</th>\n",
       "      <td>33</td>\n",
       "      <td>1</td>\n",
       "      <td>22.705</td>\n",
       "      <td>0</td>\n",
       "      <td>0</td>\n",
       "      <td>1</td>\n",
       "      <td>21984.47061</td>\n",
       "    </tr>\n",
       "    <tr>\n",
       "      <th>4</th>\n",
       "      <td>32</td>\n",
       "      <td>1</td>\n",
       "      <td>28.880</td>\n",
       "      <td>0</td>\n",
       "      <td>0</td>\n",
       "      <td>1</td>\n",
       "      <td>3866.85520</td>\n",
       "    </tr>\n",
       "  </tbody>\n",
       "</table>\n",
       "</div>"
      ],
      "text/plain": [
       "   age  sex     bmi  children  smoker  region      charges\n",
       "0   19    0  27.900         0       1       3  16884.92400\n",
       "1   18    1  33.770         1       0       2   1725.55230\n",
       "2   28    1  33.000         3       0       2   4449.46200\n",
       "3   33    1  22.705         0       0       1  21984.47061\n",
       "4   32    1  28.880         0       0       1   3866.85520"
      ]
     },
     "execution_count": 16,
     "metadata": {},
     "output_type": "execute_result"
    }
   ],
   "source": [
    "from sklearn.preprocessing import LabelEncoder\n",
    "\n",
    "for label in ['sex', 'smoker', 'region']:\n",
    "  insurance_df[label] = (\n",
    "      LabelEncoder()\n",
    "      .fit_transform(insurance_df[label])\n",
    "  )\n",
    "\n",
    "insurance_df.head()"
   ]
  },
  {
   "cell_type": "markdown",
   "metadata": {
    "id": "Teu0kXoD3xst"
   },
   "source": [
    "Распределение фичи"
   ]
  },
  {
   "cell_type": "code",
   "execution_count": 17,
   "metadata": {
    "colab": {
     "base_uri": "https://localhost:8080/",
     "height": 241
    },
    "id": "pwHkhEtAf7-R",
    "outputId": "45dc5000-1991-452b-ad53-9ab027168126"
   },
   "outputs": [
    {
     "data": {
      "text/plain": [
       "region\n",
       "2    0.272048\n",
       "3    0.242900\n",
       "1    0.242900\n",
       "0    0.242152\n",
       "Name: proportion, dtype: float64"
      ]
     },
     "execution_count": 17,
     "metadata": {},
     "output_type": "execute_result"
    }
   ],
   "source": [
    "insurance_df['region'].value_counts(normalize=True)"
   ]
  },
  {
   "cell_type": "markdown",
   "metadata": {
    "id": "kgigBmT24D01"
   },
   "source": [
    "Обучим линейную регрессию - это класс [sklearn.linear_model.LinearRegression](https://scikit-learn.org/stable/modules/generated/sklearn.linear_model.LinearRegression.html)\n",
    "\n",
    "Что нужно для получения обученной модели\n",
    "* создать объект\n",
    "* вызвать метод *.fit()*\n",
    "\n",
    "Загляните в документацию метода [.fit()](https://scikit-learn.org/stable/modules/generated/sklearn.linear_model.LinearRegression.html#sklearn.linear_model.LinearRegression.fit) который принимает на вход два аргумента\n",
    "\n",
    "* $X$ - матрица объекты - признаки. Удалите из датафрейма `insurance_df` столбец `charges` и сохраните результат в переменную $X$\n",
    "* `y` - значение целевой переменной"
   ]
  },
  {
   "cell_type": "code",
   "execution_count": 18,
   "metadata": {
    "colab": {
     "base_uri": "https://localhost:8080/"
    },
    "id": "ONWAIp9Jf8AR",
    "outputId": "cc6d8d11-9662-4aae-d858-efed27298126"
   },
   "outputs": [
    {
     "name": "stdout",
     "output_type": "stream",
     "text": [
      "Начинаем обучение...\n",
      "Модель обучена!\n"
     ]
    }
   ],
   "source": [
    "from sklearn.linear_model import LinearRegression\n",
    "\n",
    "reg = None  # объект модели линейной регрессии\n",
    "X = insurance_df.drop(labels='charges', axis=1)\n",
    "\n",
    "reg = LinearRegression()\n",
    "print('Начинаем обучение...')\n",
    "reg.fit(X, y)\n",
    "print('Модель обучена!')"
   ]
  },
  {
   "cell_type": "markdown",
   "metadata": {
    "id": "1s_fHrPU4I1a"
   },
   "source": [
    "Добавим к датафрейму столбец `prediction` - так удобнее считать метрики"
   ]
  },
  {
   "cell_type": "code",
   "execution_count": 19,
   "metadata": {
    "colab": {
     "base_uri": "https://localhost:8080/",
     "height": 143
    },
    "id": "RB6TbOqNf8Cj",
    "outputId": "90238802-f5fa-4d34-f7b5-bc4ea1cac1c3"
   },
   "outputs": [
    {
     "data": {
      "text/html": [
       "<div>\n",
       "<style scoped>\n",
       "    .dataframe tbody tr th:only-of-type {\n",
       "        vertical-align: middle;\n",
       "    }\n",
       "\n",
       "    .dataframe tbody tr th {\n",
       "        vertical-align: top;\n",
       "    }\n",
       "\n",
       "    .dataframe thead th {\n",
       "        text-align: right;\n",
       "    }\n",
       "</style>\n",
       "<table border=\"1\" class=\"dataframe\">\n",
       "  <thead>\n",
       "    <tr style=\"text-align: right;\">\n",
       "      <th></th>\n",
       "      <th>age</th>\n",
       "      <th>sex</th>\n",
       "      <th>bmi</th>\n",
       "      <th>children</th>\n",
       "      <th>smoker</th>\n",
       "      <th>region</th>\n",
       "      <th>charges</th>\n",
       "      <th>prediction</th>\n",
       "    </tr>\n",
       "  </thead>\n",
       "  <tbody>\n",
       "    <tr>\n",
       "      <th>0</th>\n",
       "      <td>19</td>\n",
       "      <td>0</td>\n",
       "      <td>27.90</td>\n",
       "      <td>0</td>\n",
       "      <td>1</td>\n",
       "      <td>3</td>\n",
       "      <td>16884.9240</td>\n",
       "      <td>25111.241864</td>\n",
       "    </tr>\n",
       "    <tr>\n",
       "      <th>1</th>\n",
       "      <td>18</td>\n",
       "      <td>1</td>\n",
       "      <td>33.77</td>\n",
       "      <td>1</td>\n",
       "      <td>0</td>\n",
       "      <td>2</td>\n",
       "      <td>1725.5523</td>\n",
       "      <td>3687.605173</td>\n",
       "    </tr>\n",
       "    <tr>\n",
       "      <th>2</th>\n",
       "      <td>28</td>\n",
       "      <td>1</td>\n",
       "      <td>33.00</td>\n",
       "      <td>3</td>\n",
       "      <td>0</td>\n",
       "      <td>2</td>\n",
       "      <td>4449.4620</td>\n",
       "      <td>6963.145707</td>\n",
       "    </tr>\n",
       "  </tbody>\n",
       "</table>\n",
       "</div>"
      ],
      "text/plain": [
       "   age  sex    bmi  children  smoker  region     charges    prediction\n",
       "0   19    0  27.90         0       1       3  16884.9240  25111.241864\n",
       "1   18    1  33.77         1       0       2   1725.5523   3687.605173\n",
       "2   28    1  33.00         3       0       2   4449.4620   6963.145707"
      ]
     },
     "execution_count": 19,
     "metadata": {},
     "output_type": "execute_result"
    }
   ],
   "source": [
    "insurance_df['prediction'] = reg.predict(X)\n",
    "insurance_df.head(3)"
   ]
  },
  {
   "cell_type": "markdown",
   "metadata": {
    "id": "le5A9aHN4Qc7"
   },
   "source": [
    "Визуализируем гистограмму остатков линейной регрессии - это разница между истинным и предсказанным значением."
   ]
  },
  {
   "cell_type": "code",
   "execution_count": 20,
   "metadata": {
    "colab": {
     "base_uri": "https://localhost:8080/",
     "height": 448
    },
    "id": "9HkoNIEj4OC9",
    "outputId": "8a917032-d363-4876-d6bc-9c031f1b357b"
   },
   "outputs": [
    {
     "data": {
      "text/plain": [
       "<Axes: >"
      ]
     },
     "execution_count": 20,
     "metadata": {},
     "output_type": "execute_result"
    },
    {
     "data": {
      "image/png": "[encoded data removed]",
      "text/plain": [
       "<Figure size 640x480 with 1 Axes>"
      ]
     },
     "metadata": {},
     "output_type": "display_data"
    }
   ],
   "source": [
    "(insurance_df['prediction'] - y).hist()"
   ]
  },
  {
   "cell_type": "markdown",
   "metadata": {
    "id": "vh5VUe2E4WIt"
   },
   "source": [
    "Кстати, метрику качества необязательно считать вручную - в sklearn реализовано [огромное количество метрик](https://scikit-learn.org/stable/modules/classes.html#regression-metrics) для регрессии (и других задач тоже)\n",
    "\n",
    "Подробнее о метриках регрессии мы поговорим в дальнейших занятиях\n",
    "\n",
    "# Интерпретируемость линейной регрессии\n",
    "\n",
    "Впервые термин *регрессия* в статистике был использован английским исследователем Френсисом Гальтоном (1886) в  исследовании вопроса наследования физических характеристик человека (конкретно - роста человека). Было обнаружено, что в целом сыновья высоких отцов, оказались более высокими, чем сыновья отцов с низким ростом. Более интересным было то, что разброс в росте сыновей был меньшим, чем разброс в росте отцов. Так проявлялась тенденция возвращения роста сыновей к среднему (regression to mediocrity), то есть «регресс». То есть термин очень древний, про ML тогда не сильно думали\n",
    "\n",
    "Регрессия - это семейство алгоритмов машинного обучения с учителем, цель которых состоит в востановлении **непрерывной** зависимости целевой переменной от фичей.\n",
    "\n",
    "Интерпретируемость - это способность объяснить что же за модель мы получили, для объяснения нужно ещё раз \"закопаться\" в математические основы линейной регрессии?\n",
    "\n",
    "Задача *линейной* регресии: восстановить на функцию $h(x_i)$ в виде *линейной комбинации* (т.е. суммы с некоторыми весами *важности*) признаков объекта. Сами признаки называются *предикторами*:,\n",
    "$$\n",
    "\\forall x_i: h(x) = w_0 + w_1x_i^1 + \\ldots + w_nx_i^n = \\sum_{j=1}^{n}w_jx_i^j = \\overline{x}_i^T\\overline{w}\n",
    "$$\n",
    "\n",
    "К признаковому пространству добавляется \"фиктивный\" признак $x_0=1$, \"важность\" которого сохраняется в коэффициент $w_0$.\n",
    "\n",
    "То есть \"семейство функций\" представляет собой всевозможные комбинации $[w_0, w_1 , w_2 , w_3 , w_4 , w_5 , w_6]$ а метод *.fit()* волшебным образом подбирает их так, чтобы получить максимальное качество.\n",
    "\n",
    "Мера качества $L$ для задачи регрессии - квадрат разности между фактическим значением и прогнозом. ,\n",
    "$$\n",
    "L(h(x_i, \\theta), y_i) = \\left(y_i - h(x_i, \\theta)\\right)^2 = \\left(y_i -  \\sum_{j=1}^{n}w_jx_i^j\\right)^2\n",
    "$$"
   ]
  },
  {
   "cell_type": "code",
   "execution_count": 21,
   "metadata": {
    "colab": {
     "base_uri": "https://localhost:8080/",
     "height": 477
    },
    "id": "fpyJZxd14OFr",
    "outputId": "c2abe2c2-d50f-4706-d4fa-230a3f299a7e"
   },
   "outputs": [
    {
     "name": "stderr",
     "output_type": "stream",
     "text": [
      "/var/folders/bd/bg2rzktd7cl7_q4_11m4dx7r0000gn/T/ipykernel_78539/4042109036.py:6: UserWarning: FigureCanvasAgg is non-interactive, and thus cannot be shown\n",
      "  fig.show()\n"
     ]
    },
    {
     "data": {
      "image/png": "[encoded data removed]",
      "text/plain": [
       "<Figure size 640x480 with 1 Axes>"
      ]
     },
     "metadata": {},
     "output_type": "display_data"
    }
   ],
   "source": [
    "fig, subplot = plt.subplots()\n",
    "plt.bar(np.arange(len(reg.coef_)), reg.coef_)\n",
    "subplot.set_xticks(np.arange(len(reg.coef_)))\n",
    "subplot.set_xticklabels(X.columns.tolist(), rotation=65)\n",
    "subplot.set_ylabel('w')\n",
    "fig.show()"
   ]
  },
  {
   "cell_type": "markdown",
   "metadata": {
    "id": "Jx-fBerx5gXM"
   },
   "source": [
    "# Инженириниг фичей\n",
    "\n",
    "в нашей модели видно что фича \"smoker\" оказывает на предсказанное знаение сильное влияние.\n",
    "\n",
    "Важное примечание: при подготовке данных мы применили `LabelEncoder` - довольно тривиальное решение и может быть поэтому фича \"region\" сильного влияния не оказала.\n",
    "\n",
    "В рамках домашней работы примените `OneHotEncoder` и сделайте вывод:\n",
    "* увеличилось ли качество модели\n",
    "* как поменялось распределение коэффициентов модели?\n",
    "\n",
    "Для проверки качества используйте любую метрику"
   ]
  },
  {
   "cell_type": "markdown",
   "metadata": {
    "id": "o06nkYAYG40O"
   },
   "source": [
    "### Инженирим фичи для регрессии\n",
    "\n",
    "\n",
    "Допустим, у нас есть нормализованные данные по количеству просмотров контента в онлайн-кинотеатре ivi\n",
    "\n",
    "* в датасете всего одна фича: время, когда было сделано наблюдение\n",
    "* целевая переменная - количество просмотров в этот момент времени\n",
    "\n",
    "Мы хотим научиться предсказывать количество просмотров (напрерывную переменную) по времения суток\n",
    "\n",
    "Реализация этого алгоритма есть в библиотеке sklearn"
   ]
  },
  {
   "cell_type": "code",
   "execution_count": 23,
   "metadata": {
    "colab": {
     "base_uri": "https://localhost:8080/",
     "height": 450
    },
    "id": "zBCCqgiMHF9t",
    "outputId": "672b8179-1aff-4ba8-c88d-75086584cd6a"
   },
   "outputs": [
    {
     "data": {
      "image/png": "[encoded data removed]",
      "text/plain": [
       "<Figure size 640x480 with 1 Axes>"
      ]
     },
     "metadata": {},
     "output_type": "display_data"
    }
   ],
   "source": [
    "import pandas as pd\n",
    "import matplotlib.pyplot as plt\n",
    "%matplotlib inline\n",
    "\n",
    "regression_data_file_path = os.path.join(root_data_dir, 'non_linear.csv')\n",
    "df = pd.read_csv(regression_data_file_path, encoding='utf8')\n",
    "df.plot.scatter(x='x_train', y='y_train')\n",
    "plt.show()"
   ]
  },
  {
   "cell_type": "markdown",
   "metadata": {
    "id": "adAsUEqZHEKv"
   },
   "source": [
    "Разделим данные на тренировочный тестовый сет"
   ]
  },
  {
   "cell_type": "code",
   "execution_count": 24,
   "metadata": {
    "colab": {
     "base_uri": "https://localhost:8080/",
     "height": 528
    },
    "id": "JX_G52GkHy04",
    "outputId": "41a48446-b90a-4c3c-d597-226b73299be7"
   },
   "outputs": [
    {
     "name": "stderr",
     "output_type": "stream",
     "text": [
      "/var/folders/bd/bg2rzktd7cl7_q4_11m4dx7r0000gn/T/ipykernel_78539/3217812924.py:19: MatplotlibDeprecationWarning: Passing the marker parameter of scatter() positionally is deprecated since Matplotlib 3.10; the parameter will become keyword-only in 3.12.\n",
      "  plt.scatter(X_train, y_train, 40, 'g', 'o', alpha=0.8, label='data')\n"
     ]
    },
    {
     "data": {
      "image/png": "[encoded data removed]",
      "text/plain": [
       "<Figure size 640x480 with 1 Axes>"
      ]
     },
     "metadata": {},
     "output_type": "display_data"
    }
   ],
   "source": [
    "import numpy as np\n",
    "from sklearn.model_selection import train_test_split\n",
    "from sklearn.linear_model import LinearRegression\n",
    "\n",
    "X = df['x_train'].values\n",
    "y = df['y_train'].values\n",
    "\n",
    "X_train, X_test, y_train, y_test = train_test_split(X, y, test_size=0.33, random_state=42)\n",
    "reg = LinearRegression().fit(X_train.reshape(-1, 1), y_train)\n",
    "\n",
    "# строим график\n",
    "margin = 0.3\n",
    "support = np.arange(X.min(), X.max(), step=0.1)\n",
    "\n",
    "# строим предсказание\n",
    "y_hat = reg.predict(support.reshape(-1, 1))\n",
    "\n",
    "plt.plot(support, y_hat, 'b--', alpha=0.5, label='prediction')\n",
    "plt.scatter(X_train, y_train, 40, 'g', 'o', alpha=0.8, label='data')\n",
    "plt.xlim(X.min() - margin, X.max() + margin)\n",
    "plt.ylim(y.min() - margin, y.max() + margin)\n",
    "plt.legend(loc='upper right', prop={'size': 20})\n",
    "plt.title('Fitted linear regression')\n",
    "plt.xlabel('x')\n",
    "plt.ylabel('y')\n",
    "plt.show()"
   ]
  },
  {
   "cell_type": "markdown",
   "metadata": {
    "id": "hLd2tri2H4z0"
   },
   "source": [
    "Если вспомнить модель линейной регрессии, то обучение модели сводится к нахождению коэффициентов $w_1,\\ldots,w_n$:\n",
    "$$\n",
    "\\forall x_i: h(x) = w_0 + w_1x_i^1 + \\ldots + w_nx_i^n = \\sum_{j=1}^{n}w_jx_i^j = \\overline{x}_i^T\\overline{w}\n",
    "$$\n",
    "\n",
    "\"Достать\" коэффициенты из модели можно через аттрибут `coef_`:"
   ]
  },
  {
   "cell_type": "code",
   "execution_count": 25,
   "metadata": {
    "colab": {
     "base_uri": "https://localhost:8080/"
    },
    "id": "fiU8KOXnH9uz",
    "outputId": "2a2e6417-550c-483f-98db-5de7a3806ed7"
   },
   "outputs": [
    {
     "name": "stdout",
     "output_type": "stream",
     "text": [
      "коэффициенты линейной регрессии w=[-0.29424462], качество модели 0.583109874086522\n"
     ]
    }
   ],
   "source": [
    "print(\n",
    "    f'коэффициенты линейной регрессии w={reg.coef_},',\n",
    "    f'качество модели {reg.score(X_test.reshape(-1,1), y_test)}'\n",
    ")"
   ]
  },
  {
   "cell_type": "markdown",
   "metadata": {
    "id": "KEUuUSO8IATR"
   },
   "source": [
    "Линейная регрессия очень хорошо интерпретируется: чем больше по модулю значение коэффициента $w_i$, тем сильнее фича $x_i$ влияет на предсказания модели.\n",
    "\n",
    "Кажется, что линейная комбинация фичей сильно ограничивает модель и не позволяет улавливать сложные зависимости.\n",
    "\n",
    "Чтобы модель улавливала нелинейные зависимости, мы можем добавить в датасет степени исходной переменной. Допустим, построим предсказания на полиноме пятой степени:"
   ]
  },
  {
   "cell_type": "code",
   "execution_count": 26,
   "metadata": {
    "colab": {
     "base_uri": "https://localhost:8080/",
     "height": 528
    },
    "id": "ePBL04lIIFg3",
    "outputId": "25c8adec-ff2c-4355-ccf5-05677bb68724"
   },
   "outputs": [
    {
     "name": "stderr",
     "output_type": "stream",
     "text": [
      "/var/folders/bd/bg2rzktd7cl7_q4_11m4dx7r0000gn/T/ipykernel_78539/1635292535.py:21: MatplotlibDeprecationWarning: Passing the marker parameter of scatter() positionally is deprecated since Matplotlib 3.10; the parameter will become keyword-only in 3.12.\n",
      "  plt.scatter(X_train, y_train, 40, 'g', 'o', alpha=0.8, label='data')\n"
     ]
    },
    {
     "data": {
      "image/png": "[encoded data removed]",
      "text/plain": [
       "<Figure size 640x480 with 1 Axes>"
      ]
     },
     "metadata": {},
     "output_type": "display_data"
    }
   ],
   "source": [
    "def generate_degrees(source_data: list, degree: int):\n",
    "    \"\"\"Функция, которая принимает на вход одномерный массив, а возвращает n-мерный\n",
    "    Для каждой степени от 1 до  degree возводим x в эту степень\n",
    "    \"\"\"\n",
    "    return np.array([\n",
    "          source_data**n for n in range(1, degree + 1)\n",
    "    ]).T\n",
    "\n",
    "X_train_5 = generate_degrees(X_train, 5)\n",
    "X_test_5 = generate_degrees(X_test, 5)\n",
    "reg_5 = LinearRegression().fit(X_train_5, y_train)\n",
    "\n",
    "# строим график\n",
    "margin = 0.3\n",
    "support = np.arange(X.min(), X.max(), step=0.1)\n",
    "\n",
    "X_test_support = generate_degrees(support, 5)\n",
    "y_hat = reg_5.predict(X_test_support)\n",
    "\n",
    "plt.plot(support, y_hat, 'b--', alpha=0.5, label='prediction')\n",
    "plt.scatter(X_train, y_train, 40, 'g', 'o', alpha=0.8, label='data')\n",
    "plt.xlim(X.min() - margin, X.max() + margin)\n",
    "plt.ylim(y.min() - margin, y.max() + margin)\n",
    "plt.legend(loc='upper right', prop={'size': 20})\n",
    "plt.title('Fitted linear regression')\n",
    "plt.xlabel('x')\n",
    "plt.ylabel('y')\n",
    "plt.show()"
   ]
  },
  {
   "cell_type": "markdown",
   "metadata": {
    "id": "y9QtU041IJVs"
   },
   "source": [
    "Посмотрим на модель, которая у нас обучилась - вместо одной фичи в матрице **объекты $\\times$ признаки** стало пять фичей"
   ]
  },
  {
   "cell_type": "code",
   "execution_count": 27,
   "metadata": {
    "colab": {
     "base_uri": "https://localhost:8080/"
    },
    "id": "1yixc5SmIPJg",
    "outputId": "81d539c0-a807-4770-90f6-b4e39e0e2c8a"
   },
   "outputs": [
    {
     "name": "stdout",
     "output_type": "stream",
     "text": [
      "коэффициенты линейной регрессии w=[ 2.48283062e+00 -1.19385669e+00  8.71731563e-02  2.15650198e-02\n",
      " -2.38912640e-03],\n",
      " качество модели 0.9123\n"
     ]
    }
   ],
   "source": [
    "print(\n",
    "    f'коэффициенты линейной регрессии w={reg_5.coef_},\\n',\n",
    "    f'качество модели {reg_5.score(X_test_5, y_test):.4f}'\n",
    ")"
   ]
  },
  {
   "cell_type": "markdown",
   "metadata": {
    "id": "y7YdRrY3IOQi"
   },
   "source": [
    "качество модели тоже выросло, супер\n",
    "\n",
    "## Случайный лес\n",
    "\n",
    "Алгорим случайного можно применять для регрессии аналогично тому, как он применяется для классификации\n",
    "\n",
    "* рандомизировано построить несколько деревьев\n",
    "* каждое дерево независимо предсказывает значение в точке\n",
    "* итоговое предсказание - усреднённое значение предсказаний деревьев ансамбля"
   ]
  },
  {
   "cell_type": "code",
   "execution_count": 28,
   "metadata": {
    "colab": {
     "base_uri": "https://localhost:8080/"
    },
    "id": "NQ2Xuk1gIjIv",
    "outputId": "6050cb22-a83c-4f6b-f754-0a464d9df965"
   },
   "outputs": [
    {
     "name": "stdout",
     "output_type": "stream",
     "text": [
      "коэффициенты важности фичей w=[1.], качество модели 0.9747\n"
     ]
    }
   ],
   "source": [
    "from sklearn.ensemble import RandomForestRegressor\n",
    "\n",
    "rf = RandomForestRegressor(n_estimators=10).fit(X_train.reshape(-1, 1), y_train)\n",
    "print(\n",
    "    f'коэффициенты важности фичей w={rf.feature_importances_},',\n",
    "    f'качество модели {rf.score(X_train.reshape(-1, 1), y_train):.4f}'\n",
    ")"
   ]
  },
  {
   "cell_type": "markdown",
   "metadata": {
    "id": "B1F5EB1KIrcR"
   },
   "source": [
    "# Выводы (предварительные)\n",
    "\n",
    "* в задаче обучения с учителем обязательно нужно тратить время на разметку\n",
    "* проблема дисбаланса классов\n",
    "* можно слишком сильно подогнать модель под обучающую выборку - это явление переобучения, о нём поговорим в следующих занятиях"
   ]
  },
  {
   "cell_type": "code",
   "execution_count": null,
   "metadata": {
    "id": "pyL4l9mPIqtB"
   },
   "outputs": [],
   "source": []
  },
  {
   "cell_type": "markdown",
   "metadata": {
    "id": "rvTdF7Yioxhh"
   },
   "source": [
    "## Итоги занятия\n",
    "\n",
    "* ML позволяет решать бизнес-задачи\n",
    "* внутри не магия, а очень много математики\n",
    "* все алгоритмы есть в sklearn, самому математику знать необязательно\n",
    "* feature engineering - важнейший этап"
   ]
  },
  {
   "cell_type": "markdown",
   "metadata": {
    "id": "mi4vTKskoxhh"
   },
   "source": [
    "# Жизненный цикл ML проекта\n",
    "\n",
    "Мы познакомились с машинным обучением на примере алгоритма регрессии.\n",
    "\n",
    "В бизнесе моделирование - это только маленькая часть проекта по машинному обучению, который состоит из нескольких этапов. Эти этапы описаны в стандарте CRISP-DM"
   ]
  },
  {
   "cell_type": "markdown",
   "metadata": {
    "id": "OWkIVFknoxhh"
   },
   "source": [
    "## Что такое CRISP-DM\n",
    "\n",
    "[CRISP-DM](https://ru.wikipedia.org/wiki/CRISP-DM) (Cross-Industry Standard Process for Data Mining) - это методология развития  проектов с машинным обучением, основные шаги которой представлены на диаграмме\n",
    "\n",
    "![crisp-dm](img/CRISP-DM_Process.jpg)"
   ]
  },
  {
   "cell_type": "markdown",
   "metadata": {
    "id": "y3TGXoAboxhh"
   },
   "source": [
    "## Выявление бизнес-требований\n",
    "\n",
    "Самый важный этап - понимание потребностей бизнеса\n",
    "\n",
    "![business_understanding](img/business_understanding.png)"
   ]
  },
  {
   "cell_type": "markdown",
   "metadata": {
    "id": "DPwrl1Zfoxhh"
   },
   "source": [
    "## Подготовка данных\n",
    "\n",
    "Разбиваем на два этапа:\n",
    "\n",
    "* Обзор доступных данных (data undestanding): EDA (Exploratory data analysis)\n",
    "* Преобразования и структурирование данных (data_preparation): ETL (Extract, transformation, load)\n",
    "\n",
    "![data_understanding.png](img/data_understanding.png)"
   ]
  },
  {
   "cell_type": "markdown",
   "metadata": {
    "id": "y-UrOrTpoxhh"
   },
   "source": [
    "## Обучение модели\n",
    "\n",
    "тут снова два этапа\n",
    "\n",
    "* обучение (Modeling)\n",
    "* оценка качества (Evaluation)"
   ]
  },
  {
   "cell_type": "markdown",
   "metadata": {
    "id": "kUk5q8-goxhi"
   },
   "source": [
    "## Применение модели\n",
    "\n",
    "Выкатывание в продакшн (deployment) - последний этап.\n",
    "\n",
    "На этом этапе поделие выпускается \"в свет\": начинаем мониторить онлайн-метрики"
   ]
  },
  {
   "cell_type": "markdown",
   "metadata": {
    "id": "mtzxAa9xoxhi"
   },
   "source": [
    "## Итоги занятия\n",
    "\n",
    "* ML проекты рождаются, растут и выкатываются в прод\n",
    "* плохо прошёл хотя бы один из этапов - весь проект завалится, потому что они связаны"
   ]
  },
  {
   "cell_type": "markdown",
   "metadata": {
    "id": "RTFck7UHoxhp"
   },
   "source": [
    "# Виды ML задач\n",
    "\n",
    "Алгоритмы машинного обучения можно разделить на несколько больших групп\n",
    "\n",
    "![ml_problems.jpg](img/ml_problems.jpeg)\n",
    "\n",
    "Для наглядности к каждому типу задач ML приведены бизнес-задачи, который алгоритмы этого семейства решают"
   ]
  },
  {
   "cell_type": "markdown",
   "metadata": {
    "id": "2CPrESj-oxhp"
   },
   "source": [
    "## Обучение с учителем (supervised learning)\n",
    "\n",
    "Нужна размеченная выборка\n",
    "\n",
    "### Классификация (classification)\n",
    "\n",
    "Метки дискретные (называются классами)\n",
    "\n",
    "### Регрессия (regression)\n",
    "\n",
    "Метки непрерывные\n",
    "\n",
    "\n",
    "## Обучение без учителя (unsupervised learning)\n",
    "\n",
    "Размечать выборку не нужно\n",
    "\n",
    "### Кластеризация (clustering)\n",
    "\n",
    "Разделить объекты на группы таким образом\n",
    "\n",
    "### Снижение размерности (dimension reduction)\n",
    "\n",
    "снизить количество фичей\n",
    "\n",
    "\n",
    "## Обучение с подкреплением (reinforcement learning)\n",
    "\n",
    "Обучающей выборки не существует. Алгоритм является агентом, который взаимодействует со средой. Если взаимодействие успешное, агент получает вознаграждение, а если неуспешное то штраф."
   ]
  },
  {
   "cell_type": "markdown",
   "metadata": {
    "id": "HVYFgU-0oxhp"
   },
   "source": [
    "# Для самостоятельного изучения\n",
    "\n",
    "* [Введение в ML от Константина Воронцова](http://www.machinelearning.ru/wiki/images/f/fc/Voron-ML-Intro-slides.pdf)\n",
    "* [ML intro от Высшей школы экономики](https://yadi.sk/i/RajIebEkmqgzw)"
   ]
  },
  {
   "cell_type": "code",
   "execution_count": null,
   "metadata": {
    "id": "ZC7FtPNJoxhq"
   },
   "outputs": [],
   "source": []
  }
 ],
 "metadata": {
  "colab": {
   "provenance": []
  },
  "kernelspec": {
   "display_name": "Python 3 (ipykernel)",
   "language": "python",
   "name": "python3"
  },
  "language_info": {
   "codemirror_mode": {
    "name": "ipython",
    "version": 3
   },
   "file_extension": ".py",
   "mimetype": "text/x-python",
   "name": "python",
   "nbconvert_exporter": "python",
   "pygments_lexer": "ipython3",
   "version": "3.12.11"
  }
 },
 "nbformat": 4,
 "nbformat_minor": 4
}
